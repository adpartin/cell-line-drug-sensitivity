{
 "cells": [
  {
   "cell_type": "code",
   "execution_count": 1,
   "metadata": {},
   "outputs": [],
   "source": [
    "import warnings\n",
    "warnings.filterwarnings('ignore')\n",
    "\n",
    "import os\n",
    "import sys\n",
    "import pathlib\n",
    "import argparse\n",
    "import datetime\n",
    "from time import time\n",
    "from pprint import pprint\n",
    "\n",
    "import sklearn\n",
    "import numpy as np\n",
    "import pandas as pd\n",
    "\n",
    "import matplotlib\n",
    "matplotlib.use('Agg')\n",
    "import matplotlib.pyplot as plt\n",
    "\n",
    "from sklearn.model_selection import train_test_split\n",
    "from sklearn.model_selection import ShuffleSplit, KFold\n",
    "from sklearn.model_selection import GroupShuffleSplit, GroupKFold\n",
    "from sklearn.model_selection import StratifiedShuffleSplit, StratifiedKFold"
   ]
  },
  {
   "cell_type": "code",
   "execution_count": 2,
   "metadata": {},
   "outputs": [],
   "source": [
    "SEED = None\n",
    "test_size = 0.5\n",
    "split_by = 'both'"
   ]
  },
  {
   "cell_type": "code",
   "execution_count": 3,
   "metadata": {},
   "outputs": [],
   "source": [
    "def split_cell_drug(dff):\n",
    "    \"\"\" Split drug and cell features. \"\"\"\n",
    "    dff = dff.copy()\n",
    "    dd_cols = [c for c in df.columns if 'DD_' in c]\n",
    "    ge_cols = [c for c in df.columns if 'GE_' in c]\n",
    "    dd = dff[dd_cols]\n",
    "    ge = dff[ge_cols]\n",
    "    print('\\ndd.shape', dd.shape)\n",
    "    print('ge.shape', ge.shape)\n",
    "    return dd, ge\n",
    "\n",
    "\n",
    "def add_lbl_dup(dff, label_name='label', prffx='_'):\n",
    "    \"\"\" Label unique rows. Add column indicating a unique row (label). \"\"\"\n",
    "    # Save the original row indexes in order to re-order rows after processing\n",
    "    idx_org = dff.index.values\n",
    "    \n",
    "    # Sort rows (duplicated rows will be concateneted)\n",
    "    dff = dff.sort_values(by=dff.columns.tolist())\n",
    "    # Add boolean col indicating the start of new unique row\n",
    "    dff = pd.concat([dff.duplicated(keep='first'), dff], axis=1).rename(columns={0: 'd'})\n",
    "\n",
    "    # Add col indicating a unique row\n",
    "    c = -1\n",
    "    v = np.ones((len(dff),))\n",
    "    for i, x in enumerate(dff['d']):\n",
    "        # if i % 50000 == 0: print(i)\n",
    "        if x is False:\n",
    "            c += 1\n",
    "            v[i] = int(c)\n",
    "        else:\n",
    "            v[i] = c\n",
    "\n",
    "    dff.insert(loc=1, column=label_name, value=v) \n",
    "    dff = dff.reindex(idx_org)  # back to the original row ordering\n",
    "    dff = dff.drop(columns=['d'])\n",
    "    \n",
    "    dff[label_name] = dff[label_name].map(lambda x: prffx + str(int(x)))\n",
    "    return dff"
   ]
  },
  {
   "cell_type": "code",
   "execution_count": null,
   "metadata": {},
   "outputs": [],
   "source": []
  },
  {
   "cell_type": "code",
   "execution_count": 4,
   "metadata": {},
   "outputs": [
    {
     "name": "stdout",
     "output_type": "stream",
     "text": [
      "(283152, 3765)\n"
     ]
    }
   ],
   "source": [
    "df = pd.read_parquet('../uniq.top6.reg.parquet', engine='auto', columns=None)\n",
    "df = df.sample(frac=1.0, axis=0, random_state=SEED).reset_index(drop=True) # shuffle values\n",
    "col_idx = df.nunique(dropna=True).values == 1  # col indexes to drop\n",
    "df = df.iloc[:, ~col_idx]\n",
    "\n",
    "print(df.shape)"
   ]
  },
  {
   "cell_type": "code",
   "execution_count": 5,
   "metadata": {},
   "outputs": [
    {
     "name": "stdout",
     "output_type": "stream",
     "text": [
      "\n",
      "dd.shape (283152, 2822)\n",
      "ge.shape (283152, 942)\n",
      "1748\n",
      "748\n"
     ]
    }
   ],
   "source": [
    "dd, ge = split_cell_drug(dff=df)\n",
    "dlb = add_lbl_dup(dd, label_name='dlb', prffx='d')['dlb']\n",
    "clb = add_lbl_dup(ge, label_name='clb', prffx='c')['clb']\n",
    "print(len(dlb.unique()))\n",
    "print(len(clb.unique()))"
   ]
  },
  {
   "cell_type": "code",
   "execution_count": null,
   "metadata": {},
   "outputs": [],
   "source": []
  },
  {
   "cell_type": "code",
   "execution_count": null,
   "metadata": {},
   "outputs": [],
   "source": [
    "# Determine split indices based on split method\n",
    "if split_by == 'none':\n",
    "    # Random split\n",
    "    cv = ShuffleSplit(n_splits=2, test_size=test_size, random_state=0)\n",
    "    id_grp1, id_grp2 = next(cv.split(df))\n",
    "    \n",
    "else:\n",
    "    dd, ge = split_cell_drug(dff=df)\n",
    "    dlb = add_lbl_dup(dd, label_name='dlb', prffx='d')['dlb']\n",
    "    clb = add_lbl_dup(ge, label_name='clb', prffx='c')['clb']\n",
    "    # print('Unique drugs:', len(dlb.unique()))\n",
    "    # print('Unique cells:', len(clb.unique()))\n",
    "    \n",
    "    if split_by == 'cell':  # Strict split by cell\n",
    "        cv = GroupShuffleSplit(n_splits=2, test_size=test_size, random_state=0)\n",
    "        id_grp1, id_grp2 = next(cv.split(df, groups=clb))  # Split indexes\n",
    "    \n",
    "    elif split_by == 'drug':  # Strict split by drug\n",
    "        cv = GroupShuffleSplit(n_splits=2, test_size=test_size, random_state=0)\n",
    "        id_grp1, id_grp2 = next(cv.split(df, groups=dlb))  # Split indexes\n",
    "    \n",
    "    elif split_by == 'both':  # Strict split by both, cell and drug\n",
    "        # TODO: integrate test_size into this type of split!\n",
    "        \n",
    "        # Create cross-tab table with cell and drugs\n",
    "        # (the values indicate the number of data points for each [drug, cell] combination)\n",
    "        ctb = pd.concat([clb, dlb], axis=1)\n",
    "        ctb['one'] = 1\n",
    "        ctb = pd.pivot_table(ctb, index='clb', columns='dlb', values='one', aggfunc='sum', fill_value=0)\n",
    "        ctb.columns.name = None\n",
    "        ctb.index.name = None\n",
    "        # print(ctb.shape)\n",
    "        # print(ctb.values.reshape(-1,).sum())\n",
    "        \n",
    "        # Shuffle both cells and drugs\n",
    "        ctb = ctb.sample(frac=1.0, axis=0)\n",
    "        ctb = ctb.sample(frac=1.0, axis=1)\n",
    "        \n",
    "        # Choose range and split data (disjoint sets in the cross-tab table)\n",
    "        r_bot, r_top = range(0, round(ctb.shape[0]/2)), range(round(ctb.shape[0]/2), ctb.shape[0])\n",
    "        c_bot, c_top = range(0, round(ctb.shape[1]/2)), range(round(ctb.shape[1]/2), ctb.shape[1])\n",
    "        t1 = ctb.iloc[r_bot, c_bot]\n",
    "        t2 = ctb.iloc[r_top, c_top]\n",
    "        \n",
    "        # Get cell and drug labels for each data partition\n",
    "        c1, d1 = t1.index.values, t1.columns.values\n",
    "        c2, d2 = t2.index.values, t2.columns.values\n",
    "        \n",
    "        # Split indexes\n",
    "        id_grp1 = dlb.isin(d1) & clb.isin(c1)\n",
    "        id_grp2 = dlb.isin(d2) & clb.isin(c2)"
   ]
  },
  {
   "cell_type": "code",
   "execution_count": null,
   "metadata": {},
   "outputs": [],
   "source": []
  },
  {
   "cell_type": "code",
   "execution_count": 1,
   "metadata": {},
   "outputs": [
    {
     "ename": "NameError",
     "evalue": "name 'pd' is not defined",
     "output_type": "error",
     "traceback": [
      "\u001b[0;31m---------------------------------------------------------------------------\u001b[0m",
      "\u001b[0;31mNameError\u001b[0m                                 Traceback (most recent call last)",
      "\u001b[0;32m<ipython-input-1-9cc774b5e6b8>\u001b[0m in \u001b[0;36m<module>\u001b[0;34m\u001b[0m\n\u001b[1;32m      1\u001b[0m \u001b[0;31m# Split\u001b[0m\u001b[0;34m\u001b[0m\u001b[0;34m\u001b[0m\u001b[0;34m\u001b[0m\u001b[0m\n\u001b[0;32m----> 2\u001b[0;31m \u001b[0mdf\u001b[0m \u001b[0;34m=\u001b[0m \u001b[0mpd\u001b[0m\u001b[0;34m.\u001b[0m\u001b[0mconcat\u001b[0m\u001b[0;34m(\u001b[0m\u001b[0;34m[\u001b[0m\u001b[0mclb\u001b[0m\u001b[0;34m,\u001b[0m \u001b[0mdlb\u001b[0m\u001b[0;34m,\u001b[0m \u001b[0mdf\u001b[0m\u001b[0;34m]\u001b[0m\u001b[0;34m,\u001b[0m \u001b[0maxis\u001b[0m\u001b[0;34m=\u001b[0m\u001b[0;36m1\u001b[0m\u001b[0;34m)\u001b[0m\u001b[0;34m\u001b[0m\u001b[0;34m\u001b[0m\u001b[0m\n\u001b[0m\u001b[1;32m      3\u001b[0m \u001b[0mdf1\u001b[0m \u001b[0;34m=\u001b[0m \u001b[0mdf\u001b[0m\u001b[0;34m.\u001b[0m\u001b[0mloc\u001b[0m\u001b[0;34m[\u001b[0m\u001b[0mid_grp1\u001b[0m\u001b[0;34m,\u001b[0m \u001b[0;34m:\u001b[0m\u001b[0;34m]\u001b[0m\u001b[0;34m\u001b[0m\u001b[0;34m\u001b[0m\u001b[0m\n\u001b[1;32m      4\u001b[0m \u001b[0mdf2\u001b[0m \u001b[0;34m=\u001b[0m \u001b[0mdf\u001b[0m\u001b[0;34m.\u001b[0m\u001b[0mloc\u001b[0m\u001b[0;34m[\u001b[0m\u001b[0mid_grp2\u001b[0m\u001b[0;34m,\u001b[0m \u001b[0;34m:\u001b[0m\u001b[0;34m]\u001b[0m\u001b[0;34m\u001b[0m\u001b[0;34m\u001b[0m\u001b[0m\n\u001b[1;32m      5\u001b[0m \u001b[0;34m\u001b[0m\u001b[0m\n",
      "\u001b[0;31mNameError\u001b[0m: name 'pd' is not defined"
     ]
    }
   ],
   "source": [
    "# Split\n",
    "df = pd.concat([clb, dlb, df], axis=1)\n",
    "df1 = df.loc[id_grp1, :]\n",
    "df2 = df.loc[id_grp2, :]"
   ]
  },
  {
   "cell_type": "code",
   "execution_count": null,
   "metadata": {},
   "outputs": [],
   "source": [
    "# Test cell and drug intersection between datasets\n",
    "cell_intrsc = set(df1['clb']).intersection(set(df2['clb']))\n",
    "drug_intrsc = set(df1['dlb']).intersection(set(df2['dlb']))\n",
    "print('Cell intersection:', len(cell_intrsc))\n",
    "print('Drug intersection:', len(drug_intrsc))"
   ]
  },
  {
   "cell_type": "code",
   "execution_count": null,
   "metadata": {},
   "outputs": [],
   "source": [
    "# Cols to retain\n",
    "dd_cols = [c for c in df.columns if 'DD_' in c]\n",
    "ge_cols = [c for c in df.columns if 'GE_' in c]\n",
    "cols = ['AUC1'] + dd_cols + ge_cols"
   ]
  },
  {
   "cell_type": "code",
   "execution_count": null,
   "metadata": {},
   "outputs": [],
   "source": [
    "# Extract only relevant cols (features and target)\n",
    "df1 = df1[cols].reset_index(drop=True)\n",
    "df2 = df2[cols].reset_index(drop=True)"
   ]
  },
  {
   "cell_type": "code",
   "execution_count": null,
   "metadata": {},
   "outputs": [],
   "source": []
  }
 ],
 "metadata": {
  "kernelspec": {
   "display_name": "Python 3",
   "language": "python",
   "name": "python3"
  },
  "language_info": {
   "codemirror_mode": {
    "name": "ipython",
    "version": 3
   },
   "file_extension": ".py",
   "mimetype": "text/x-python",
   "name": "python",
   "nbconvert_exporter": "python",
   "pygments_lexer": "ipython3",
   "version": "3.6.8"
  }
 },
 "nbformat": 4,
 "nbformat_minor": 2
}
