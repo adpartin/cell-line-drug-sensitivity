{
 "cells": [
  {
   "cell_type": "markdown",
   "metadata": {},
   "source": [
    "# Transforms of response data"
   ]
  },
  {
   "cell_type": "markdown",
   "metadata": {},
   "source": [
    "Here I tried to check if un-skewing the response data can help to make more accurate predictions.<br>\n",
    "The R^2 is getting worse. I'm not sure why is that. Should the features be transformed as well?"
   ]
  },
  {
   "cell_type": "code",
   "execution_count": 1,
   "metadata": {},
   "outputs": [
    {
     "name": "stdout",
     "output_type": "stream",
     "text": [
      "/vol/ml/apartin/anaconda3/envs/keras_/bin/python\n"
     ]
    }
   ],
   "source": [
    "!which python"
   ]
  },
  {
   "cell_type": "code",
   "execution_count": 2,
   "metadata": {},
   "outputs": [],
   "source": [
    "%load_ext autoreload\n",
    "%autoreload 2\n",
    "%matplotlib inline\n",
    "\n",
    "import os\n",
    "import sys\n",
    "import numpy as np\n",
    "import pandas as pd\n",
    "import matplotlib.pyplot as plt\n",
    "import seaborn as sns\n",
    "import collections\n",
    "from scipy import stats\n",
    "\n",
    "import warnings\n",
    "warnings.filterwarnings('ignore')\n",
    "\n",
    "# Utils\n",
    "file_path = os.getcwd()  # os.path.dirname(os.path.relpath(__file__))\n",
    "utils_path = os.path.abspath(os.path.join(file_path, '../src/train'))\n",
    "sys.path.append(utils_path)"
   ]
  },
  {
   "cell_type": "code",
   "execution_count": 3,
   "metadata": {},
   "outputs": [],
   "source": [
    "# DATADIR = '/Users/apartin/work/jdacs/Benchmarks/Data/Pilot1'\n",
    "DATADIR = '/vol/ml/apartin/Benchmarks/Data/Pilot1'\n",
    "\n",
    "OURDIR = os.path.join(file_path, 'rsp_data_tfms')\n",
    "os.makedirs(OURDIR, exist_ok=True)"
   ]
  },
  {
   "cell_type": "code",
   "execution_count": 4,
   "metadata": {},
   "outputs": [],
   "source": [
    "target_name = 'AUC'"
   ]
  },
  {
   "cell_type": "code",
   "execution_count": 5,
   "metadata": {},
   "outputs": [],
   "source": [
    "# Load chem-partner rsp dataset\n",
    "# rspc = pd.read_csv(os.path.join(DATADIR, 'ChemPartner_single_response_agg'), sep='\\t')\n",
    "# rspc['SOURCE'] = rspc['SOURCE'].map(lambda s: s.lower())\n",
    "# print(rspc.shape)\n",
    "# display(rspc.groupby('SOURCE').agg({'CELL': 'nunique', 'DRUG': 'nunique'}).reset_index())\n",
    "# display(rspc[:2])"
   ]
  },
  {
   "cell_type": "code",
   "execution_count": 6,
   "metadata": {},
   "outputs": [
    {
     "name": "stdout",
     "output_type": "stream",
     "text": [
      "(4484081, 14)\n"
     ]
    },
    {
     "data": {
      "text/html": [
       "<div>\n",
       "<style scoped>\n",
       "    .dataframe tbody tr th:only-of-type {\n",
       "        vertical-align: middle;\n",
       "    }\n",
       "\n",
       "    .dataframe tbody tr th {\n",
       "        vertical-align: top;\n",
       "    }\n",
       "\n",
       "    .dataframe thead th {\n",
       "        text-align: right;\n",
       "    }\n",
       "</style>\n",
       "<table border=\"1\" class=\"dataframe\">\n",
       "  <thead>\n",
       "    <tr style=\"text-align: right;\">\n",
       "      <th></th>\n",
       "      <th>SOURCE</th>\n",
       "      <th>CELL</th>\n",
       "      <th>DRUG</th>\n",
       "    </tr>\n",
       "  </thead>\n",
       "  <tbody>\n",
       "    <tr>\n",
       "      <th>0</th>\n",
       "      <td>ccle</td>\n",
       "      <td>504</td>\n",
       "      <td>24</td>\n",
       "    </tr>\n",
       "    <tr>\n",
       "      <th>1</th>\n",
       "      <td>ctrp</td>\n",
       "      <td>887</td>\n",
       "      <td>544</td>\n",
       "    </tr>\n",
       "    <tr>\n",
       "      <th>2</th>\n",
       "      <td>gcsi</td>\n",
       "      <td>409</td>\n",
       "      <td>16</td>\n",
       "    </tr>\n",
       "    <tr>\n",
       "      <th>3</th>\n",
       "      <td>gdsc</td>\n",
       "      <td>1075</td>\n",
       "      <td>249</td>\n",
       "    </tr>\n",
       "    <tr>\n",
       "      <th>4</th>\n",
       "      <td>nci60</td>\n",
       "      <td>59</td>\n",
       "      <td>52671</td>\n",
       "    </tr>\n",
       "    <tr>\n",
       "      <th>5</th>\n",
       "      <td>scl</td>\n",
       "      <td>65</td>\n",
       "      <td>445</td>\n",
       "    </tr>\n",
       "    <tr>\n",
       "      <th>6</th>\n",
       "      <td>sclc</td>\n",
       "      <td>70</td>\n",
       "      <td>526</td>\n",
       "    </tr>\n",
       "  </tbody>\n",
       "</table>\n",
       "</div>"
      ],
      "text/plain": [
       "  SOURCE  CELL   DRUG\n",
       "0   ccle   504     24\n",
       "1   ctrp   887    544\n",
       "2   gcsi   409     16\n",
       "3   gdsc  1075    249\n",
       "4  nci60    59  52671\n",
       "5    scl    65    445\n",
       "6   sclc    70    526"
      ]
     },
     "metadata": {},
     "output_type": "display_data"
    },
    {
     "data": {
      "text/html": [
       "<div>\n",
       "<style scoped>\n",
       "    .dataframe tbody tr th:only-of-type {\n",
       "        vertical-align: middle;\n",
       "    }\n",
       "\n",
       "    .dataframe tbody tr th {\n",
       "        vertical-align: top;\n",
       "    }\n",
       "\n",
       "    .dataframe thead th {\n",
       "        text-align: right;\n",
       "    }\n",
       "</style>\n",
       "<table border=\"1\" class=\"dataframe\">\n",
       "  <thead>\n",
       "    <tr style=\"text-align: right;\">\n",
       "      <th></th>\n",
       "      <th>SOURCE</th>\n",
       "      <th>CELL</th>\n",
       "      <th>DRUG</th>\n",
       "      <th>STUDY</th>\n",
       "      <th>AUC</th>\n",
       "      <th>IC50</th>\n",
       "      <th>EC50</th>\n",
       "      <th>EC50se</th>\n",
       "      <th>R2fit</th>\n",
       "      <th>Einf</th>\n",
       "      <th>HS</th>\n",
       "      <th>AAC1</th>\n",
       "      <th>AUC1</th>\n",
       "      <th>DSS1</th>\n",
       "    </tr>\n",
       "  </thead>\n",
       "  <tbody>\n",
       "    <tr>\n",
       "      <th>0</th>\n",
       "      <td>ccle</td>\n",
       "      <td>CCLE.1321N1</td>\n",
       "      <td>CCLE.1</td>\n",
       "      <td>fake_exp</td>\n",
       "      <td>0.8330</td>\n",
       "      <td>4.883</td>\n",
       "      <td>5.183</td>\n",
       "      <td>0.5746</td>\n",
       "      <td>0.9864</td>\n",
       "      <td>0.2017</td>\n",
       "      <td>0.7463</td>\n",
       "      <td>0.1017</td>\n",
       "      <td>0.8983</td>\n",
       "      <td>0.0551</td>\n",
       "    </tr>\n",
       "    <tr>\n",
       "      <th>1</th>\n",
       "      <td>ccle</td>\n",
       "      <td>CCLE.1321N1</td>\n",
       "      <td>CCLE.10</td>\n",
       "      <td>fake_exp</td>\n",
       "      <td>0.7909</td>\n",
       "      <td>5.217</td>\n",
       "      <td>5.217</td>\n",
       "      <td>2.2840</td>\n",
       "      <td>0.6526</td>\n",
       "      <td>0.0000</td>\n",
       "      <td>0.8993</td>\n",
       "      <td>0.1136</td>\n",
       "      <td>0.8864</td>\n",
       "      <td>0.0728</td>\n",
       "    </tr>\n",
       "  </tbody>\n",
       "</table>\n",
       "</div>"
      ],
      "text/plain": [
       "  SOURCE         CELL     DRUG     STUDY     AUC   IC50   EC50  EC50se  \\\n",
       "0   ccle  CCLE.1321N1   CCLE.1  fake_exp  0.8330  4.883  5.183  0.5746   \n",
       "1   ccle  CCLE.1321N1  CCLE.10  fake_exp  0.7909  5.217  5.217  2.2840   \n",
       "\n",
       "    R2fit    Einf      HS    AAC1    AUC1    DSS1  \n",
       "0  0.9864  0.2017  0.7463  0.1017  0.8983  0.0551  \n",
       "1  0.6526  0.0000  0.8993  0.1136  0.8864  0.0728  "
      ]
     },
     "metadata": {},
     "output_type": "display_data"
    }
   ],
   "source": [
    "# Load combined rsp dataset\n",
    "rsp = pd.read_csv(os.path.join(DATADIR, 'combined_single_response_agg'), sep='\\t')\n",
    "rsp['SOURCE'] = rsp['SOURCE'].map(lambda s: s.lower())\n",
    "print(rsp.shape)\n",
    "display(rsp.groupby('SOURCE').agg({'CELL': 'nunique', 'DRUG': 'nunique'}).reset_index())\n",
    "display(rsp[:2])"
   ]
  },
  {
   "cell_type": "code",
   "execution_count": 7,
   "metadata": {},
   "outputs": [],
   "source": [
    "# Drop na values\n",
    "rsp = rsp[~rsp[target_name].isna()]\n",
    "# rspc = rspc[~rspc[target_name].isna()]"
   ]
  },
  {
   "cell_type": "code",
   "execution_count": null,
   "metadata": {},
   "outputs": [],
   "source": []
  },
  {
   "cell_type": "markdown",
   "metadata": {},
   "source": [
    "## Plot rsp dists of different studies"
   ]
  },
  {
   "cell_type": "code",
   "execution_count": 8,
   "metadata": {},
   "outputs": [
    {
     "data": {
      "text/html": [
       "<div>\n",
       "<style scoped>\n",
       "    .dataframe tbody tr th:only-of-type {\n",
       "        vertical-align: middle;\n",
       "    }\n",
       "\n",
       "    .dataframe tbody tr th {\n",
       "        vertical-align: top;\n",
       "    }\n",
       "\n",
       "    .dataframe thead th {\n",
       "        text-align: right;\n",
       "    }\n",
       "</style>\n",
       "<table border=\"1\" class=\"dataframe\">\n",
       "  <thead>\n",
       "    <tr style=\"text-align: right;\">\n",
       "      <th></th>\n",
       "      <th>SOURCE</th>\n",
       "      <th>CELL</th>\n",
       "      <th>DRUG</th>\n",
       "      <th>STUDY</th>\n",
       "      <th>AUC</th>\n",
       "      <th>IC50</th>\n",
       "      <th>EC50</th>\n",
       "      <th>EC50se</th>\n",
       "      <th>R2fit</th>\n",
       "      <th>Einf</th>\n",
       "      <th>HS</th>\n",
       "      <th>AAC1</th>\n",
       "      <th>AUC1</th>\n",
       "      <th>DSS1</th>\n",
       "    </tr>\n",
       "  </thead>\n",
       "  <tbody>\n",
       "    <tr>\n",
       "      <th>0</th>\n",
       "      <td>ccle</td>\n",
       "      <td>CCLE.1321N1</td>\n",
       "      <td>CCLE.1</td>\n",
       "      <td>fake_exp</td>\n",
       "      <td>0.8330</td>\n",
       "      <td>4.883</td>\n",
       "      <td>5.183</td>\n",
       "      <td>0.5746</td>\n",
       "      <td>0.9864</td>\n",
       "      <td>0.2017</td>\n",
       "      <td>0.7463</td>\n",
       "      <td>0.1017</td>\n",
       "      <td>0.8983</td>\n",
       "      <td>0.0551</td>\n",
       "    </tr>\n",
       "    <tr>\n",
       "      <th>1</th>\n",
       "      <td>ccle</td>\n",
       "      <td>CCLE.1321N1</td>\n",
       "      <td>CCLE.10</td>\n",
       "      <td>fake_exp</td>\n",
       "      <td>0.7909</td>\n",
       "      <td>5.217</td>\n",
       "      <td>5.217</td>\n",
       "      <td>2.2840</td>\n",
       "      <td>0.6526</td>\n",
       "      <td>0.0000</td>\n",
       "      <td>0.8993</td>\n",
       "      <td>0.1136</td>\n",
       "      <td>0.8864</td>\n",
       "      <td>0.0728</td>\n",
       "    </tr>\n",
       "  </tbody>\n",
       "</table>\n",
       "</div>"
      ],
      "text/plain": [
       "  SOURCE         CELL     DRUG     STUDY     AUC   IC50   EC50  EC50se  \\\n",
       "0   ccle  CCLE.1321N1   CCLE.1  fake_exp  0.8330  4.883  5.183  0.5746   \n",
       "1   ccle  CCLE.1321N1  CCLE.10  fake_exp  0.7909  5.217  5.217  2.2840   \n",
       "\n",
       "    R2fit    Einf      HS    AAC1    AUC1    DSS1  \n",
       "0  0.9864  0.2017  0.7463  0.1017  0.8983  0.0551  \n",
       "1  0.6526  0.0000  0.8993  0.1136  0.8864  0.0728  "
      ]
     },
     "execution_count": 8,
     "metadata": {},
     "output_type": "execute_result"
    }
   ],
   "source": [
    "rsp.iloc[:2,:]"
   ]
  },
  {
   "cell_type": "code",
   "execution_count": 9,
   "metadata": {},
   "outputs": [
    {
     "data": {
      "image/png": "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\n",
      "text/plain": [
       "<Figure size 720x864 with 7 Axes>"
      ]
     },
     "metadata": {
      "needs_background": "light"
     },
     "output_type": "display_data"
    }
   ],
   "source": [
    "df = rsp.copy()\n",
    "\n",
    "fig, ax = plt.subplots(len(df['SOURCE'].unique()), 1, sharex=True, figsize=(10, 12))\n",
    "ax = ax.ravel()\n",
    "for i, src_name in enumerate(df['SOURCE'].unique()):\n",
    "    y = df[df['SOURCE']==src_name][target_name].copy()\n",
    "    ax[i].hist(y, bins=120, label=src_name, color=np.random.rand(3))\n",
    "    # sns.distplot(v.values, bins=100, kde=False, label=src, ax=ax[i], color='b')\n",
    "    ax[i].legend(loc='upper right', fontsize=12)\n",
    "    ax[i].grid(True)\n",
    "    # ax[i].set_xlim([-0.02, 1.02])"
   ]
  },
  {
   "cell_type": "code",
   "execution_count": null,
   "metadata": {},
   "outputs": [],
   "source": []
  },
  {
   "cell_type": "code",
   "execution_count": 10,
   "metadata": {},
   "outputs": [],
   "source": [
    "# Generate dict of tfms of y\n",
    "def tfms_y_dict(y, pwr_vec=[2, 3, 4, 5]):\n",
    "    \"\"\" Power transform response values. \"\"\"\n",
    "    tfms = {}\n",
    "    for pwr in pwr_vec:\n",
    "        y_tfm = y ** pwr\n",
    "        tfms[pwr] = y_tfm\n",
    "    return tfms"
   ]
  },
  {
   "cell_type": "code",
   "execution_count": null,
   "metadata": {},
   "outputs": [],
   "source": []
  },
  {
   "cell_type": "markdown",
   "metadata": {},
   "source": [
    "### 1. CCLE"
   ]
  },
  {
   "cell_type": "code",
   "execution_count": 11,
   "metadata": {},
   "outputs": [
    {
     "name": "stdout",
     "output_type": "stream",
     "text": [
      "0\n",
      "12\n"
     ]
    }
   ],
   "source": [
    "ccle = df[df['SOURCE']=='ccle'][target_name].reset_index(drop=True).copy()\n",
    "print((ccle < 0).sum())\n",
    "print((ccle > 1).sum())\n",
    "\n",
    "# Keep in values \n",
    "y = ccle[(ccle >= 0) & (ccle <= 1)].copy()"
   ]
  },
  {
   "cell_type": "code",
   "execution_count": 12,
   "metadata": {},
   "outputs": [],
   "source": [
    "# Generate dict of tfms of y\n",
    "pwr_vec = [2, 3, 4, 5]\n",
    "tfms = tfms_y_dict(y, pwr_vec=pwr_vec)"
   ]
  },
  {
   "cell_type": "code",
   "execution_count": 13,
   "metadata": {},
   "outputs": [
    {
     "data": {
      "image/png": "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\n",
      "text/plain": [
       "<Figure size 576x720 with 5 Axes>"
      ]
     },
     "metadata": {
      "needs_background": "light"
     },
     "output_type": "display_data"
    }
   ],
   "source": [
    "fig, ax = plt.subplots(len(pwr_vec)+1, 1, sharex=True, figsize=(8, 10))\n",
    "ax = ax.ravel()\n",
    "ax[0].hist(y, 100, label='y', color=np.random.rand(3));\n",
    "ax[0].legend(loc='best');\n",
    "ax[0].grid(True)\n",
    "for i, (pwr, y_tfm) in enumerate(tfms.items()):    \n",
    "    ax[i+1].hist(y_tfm, 100, label='pwr:'+str(pwr), color=np.random.rand(3));\n",
    "    ax[i+1].legend(loc='best');\n",
    "    ax[i+1].grid(True)"
   ]
  },
  {
   "cell_type": "code",
   "execution_count": 14,
   "metadata": {},
   "outputs": [
    {
     "name": "stdout",
     "output_type": "stream",
     "text": [
      "Proportion of values that equal exactly 1: 0.011\n"
     ]
    }
   ],
   "source": [
    "print('Proportion of values that equal exactly 1: {:.3f}'.format( sum(y==1)/len(y) ))"
   ]
  },
  {
   "cell_type": "markdown",
   "metadata": {},
   "source": [
    "### 2. CTRP"
   ]
  },
  {
   "cell_type": "code",
   "execution_count": 15,
   "metadata": {},
   "outputs": [
    {
     "name": "stdout",
     "output_type": "stream",
     "text": [
      "0\n",
      "273\n"
     ]
    }
   ],
   "source": [
    "ctrp = df[df['SOURCE']=='ctrp'][target_name].reset_index(drop=True).copy()\n",
    "print((ctrp < 0).sum())\n",
    "print((ctrp > 1).sum())\n",
    "\n",
    "# Keep in values \n",
    "y = ctrp[(ctrp >= 0) & (ctrp <= 1)].copy()"
   ]
  },
  {
   "cell_type": "code",
   "execution_count": 16,
   "metadata": {},
   "outputs": [],
   "source": [
    "# Generate dict of tfms of y\n",
    "pwr_vec=[2, 3, 4, 5]\n",
    "tfms = tfms_y_dict(y, pwr_vec=pwr_vec)"
   ]
  },
  {
   "cell_type": "code",
   "execution_count": 17,
   "metadata": {},
   "outputs": [
    {
     "data": {
      "image/png": "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\n",
      "text/plain": [
       "<Figure size 576x720 with 5 Axes>"
      ]
     },
     "metadata": {
      "needs_background": "light"
     },
     "output_type": "display_data"
    }
   ],
   "source": [
    "fig, ax = plt.subplots(len(pwr_vec)+1, 1, sharex=True, figsize=(8, 10))\n",
    "ax = ax.ravel()\n",
    "ax[0].hist(y, 100, label='y', color=np.random.rand(3));\n",
    "ax[0].legend(loc='best');\n",
    "ax[0].grid(True)\n",
    "for i, (pwr, y_tfm) in enumerate(tfms.items()):    \n",
    "    ax[i+1].hist(y_tfm, 100, label='pwr:'+str(pwr), color=np.random.rand(3));\n",
    "    ax[i+1].legend(loc='best');\n",
    "    ax[i+1].grid(True)"
   ]
  },
  {
   "cell_type": "code",
   "execution_count": 18,
   "metadata": {},
   "outputs": [
    {
     "name": "stdout",
     "output_type": "stream",
     "text": [
      "Proportion of values that equal exactly 1: 0.036\n"
     ]
    }
   ],
   "source": [
    "print('Proportion of values that equal exactly 1: {:.3f}'.format( sum(y==1)/len(y) ))"
   ]
  },
  {
   "cell_type": "code",
   "execution_count": null,
   "metadata": {},
   "outputs": [],
   "source": []
  },
  {
   "cell_type": "markdown",
   "metadata": {},
   "source": [
    "## Check if transformation can improve predictions"
   ]
  },
  {
   "cell_type": "markdown",
   "metadata": {},
   "source": [
    "**Load data**"
   ]
  },
  {
   "cell_type": "code",
   "execution_count": 19,
   "metadata": {},
   "outputs": [],
   "source": [
    "datadir = '../data/processed/from_combined'\n",
    "datapath = os.path.join(datadir, 'tidy_data_no_fibro.parquet')\n",
    "data = pd.read_parquet(datapath, engine='auto', columns=None)"
   ]
  },
  {
   "cell_type": "code",
   "execution_count": 20,
   "metadata": {},
   "outputs": [],
   "source": [
    "ccle  = data[data['SOURCE']=='ccle'].reset_index(drop=True).copy()\n",
    "ctrp  = data[data['SOURCE']=='ctrp'].reset_index(drop=True).copy()\n",
    "gcsi  = data[data['SOURCE']=='gcsi'].reset_index(drop=True).copy()\n",
    "gdsc  = data[data['SOURCE']=='gdsc'].reset_index(drop=True).copy()\n",
    "nci60 = data[data['SOURCE']=='nci60'].reset_index(drop=True).copy()\n",
    "del data"
   ]
  },
  {
   "cell_type": "markdown",
   "metadata": {},
   "source": [
    "**Train model**"
   ]
  },
  {
   "cell_type": "code",
   "execution_count": 21,
   "metadata": {},
   "outputs": [],
   "source": [
    "from sklearn.ensemble import RandomForestRegressor\n",
    "from sklearn.model_selection import train_test_split"
   ]
  },
  {
   "cell_type": "code",
   "execution_count": 22,
   "metadata": {},
   "outputs": [],
   "source": [
    "def trunc_by_y(df, target_name, rng=[0, 1]):\n",
    "    print(df.shape)\n",
    "    df = df.copy()\n",
    "    vmin, vmax = min(rng), max(rng)\n",
    "    df = df[(df[target_name] >= vmin) & (df[target_name] <= vmax)].copy()\n",
    "    print(df.shape)\n",
    "    return df"
   ]
  },
  {
   "cell_type": "code",
   "execution_count": null,
   "metadata": {},
   "outputs": [],
   "source": []
  },
  {
   "cell_type": "code",
   "execution_count": 23,
   "metadata": {},
   "outputs": [
    {
     "name": "stdout",
     "output_type": "stream",
     "text": [
      "(10853, 3780)\n",
      "(10842, 3780)\n"
     ]
    }
   ],
   "source": [
    "df = trunc_by_y(df=ccle, target_name=target_name, rng=[0, 1])"
   ]
  },
  {
   "cell_type": "code",
   "execution_count": 24,
   "metadata": {},
   "outputs": [],
   "source": [
    "xdata = df.iloc[:, 18:].values\n",
    "ydata = df[target_name].values\n",
    "ydata_tfm = ydata ** 3"
   ]
  },
  {
   "cell_type": "code",
   "execution_count": 25,
   "metadata": {},
   "outputs": [
    {
     "data": {
      "image/png": "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\n",
      "text/plain": [
       "<Figure size 432x288 with 1 Axes>"
      ]
     },
     "metadata": {
      "needs_background": "light"
     },
     "output_type": "display_data"
    }
   ],
   "source": [
    "plt.hist(ydata, 100);\n",
    "plt.hist(ydata_tfm, 100);"
   ]
  },
  {
   "cell_type": "code",
   "execution_count": 26,
   "metadata": {},
   "outputs": [],
   "source": [
    "test_size = 0.2\n",
    "xtr, xte, id_tr, id_te = train_test_split(xdata, range(len(ydata)), test_size=test_size)\n",
    "\n",
    "ytr = ydata[id_tr]\n",
    "yte = ydata[id_te]\n",
    "\n",
    "ytr_tfm = ydata_tfm[id_tr]\n",
    "yte_tfm = ydata_tfm[id_te]"
   ]
  },
  {
   "cell_type": "code",
   "execution_count": 27,
   "metadata": {},
   "outputs": [
    {
     "data": {
      "image/png": "iVBORw0KGgoAAAANSUhEUgAAAXoAAAD8CAYAAAB5Pm/hAAAABHNCSVQICAgIfAhkiAAAAAlwSFlzAAALEgAACxIB0t1+/AAAADl0RVh0U29mdHdhcmUAbWF0cGxvdGxpYiB2ZXJzaW9uIDMuMC4yLCBodHRwOi8vbWF0cGxvdGxpYi5vcmcvOIA7rQAAFGVJREFUeJzt3X+sZGd93/H3B9vYaSHY4AVtd9e5brK0IUgx1q1xhdQ6Ng3Grlgi4ci0AYPcbpqaiBSUsqR/4KS1tGlL3CKlTpbYxUQJ2CVJvTJOU8c/RIhiwxqM4x9BbGBr3+zKu8Q/ArJwa/PtH/OsGS/37j33zsydmbPvlzS65zznmZnv8V1/5rnP+TGpKiRJ/fWSaRcgSZosg16Ses6gl6SeM+glqecMeknqOYNeknrOoJeknjPoJannDHpJ6rmTp10AwJlnnlkLCwvTLkOS5sp99933zaratFq/mQj6hYUF9u3bN+0yJGmuJPk/Xfp1nrpJclKSLye5ta2fneTeJF9LclOSl7b2U9v6/rZ9YT07IEkaj7XM0b8feGRo/VeBa6tqO/AkcGVrvxJ4sqp+BLi29ZMkTUmnoE+yFbgU+K22HuBC4DOty43A29vyjrZO235R6y9JmoKuI/r/Avxb4Ltt/VXAU1X1XFtfAra05S3AYwBt+9Ot/4sk2ZlkX5J9R44cWWf5kqTVrBr0Sf4pcLiq7htuXqZrddj2vYaqPVW1WFWLmzatetBYkrROXc66eRPwtiSXAKcBP8hghH96kpPbqH0rcLD1XwK2AUtJTgZeATwx9solSZ2sOqKvqg9X1daqWgAuB+6sqn8O3AW8o3W7ArilLe9t67Ttd5ZfYyVJUzPKlbEfAj6QZD+DOfjrW/v1wKta+weAXaOVKEkaxZoumKqqu4G72/LXgfOW6fMd4LIx1CZJGoOZuDJWkrpa2PXZF5YP7L50ipXMD29qJkk9Z9BLUs8Z9JLUcwa9JPWcQS9JPWfQS1LPeXqlpJk3fEql1s4RvST1nEEvST1n0EtSzxn0ktRzBr0k9ZxBL0k9Z9BLUs8Z9JLUcwa9JPXcqkGf5LQkX0jylSQPJfnl1v6JJN9Icn97nNPak+RjSfYneSDJuZPeCUnSyrrcAuFZ4MKq+naSU4DPJ/nDtu0Xq+ozx/R/K7C9Pd4IXNd+SpKmYNURfQ18u62e0h51nKfsAD7ZnncPcHqSzaOXKklaj05z9ElOSnI/cBi4varubZuuadMz1yY5tbVtAR4bevpSa5MkTUGnoK+q56vqHGArcF6S1wMfBv4+8A+AVwIfat2z3Esc25BkZ5J9SfYdOXJkXcVLkla3prNuquop4G7g4qo61KZnngX+O3Be67YEbBt62lbg4DKvtaeqFqtqcdOmTesqXpK0ui5n3WxKcnpb/gHgzcBfHJ13TxLg7cCD7Sl7gXe3s2/OB56uqkMTqV6StKouZ91sBm5MchKDD4abq+rWJHcm2cRgquZ+4F+1/rcBlwD7gWeA946/bElSV6sGfVU9ALxhmfYLV+hfwFWjlyZJGgevjJWknjPoJannDHpJ6rkuB2MlacMt7PrstEvoDYNeUi8MfzAc2H3pFCuZPU7dSFLPGfSS1HMGvST1nEEvST1n0EtSz3nWjaS55SmY3Tiil6SeM+glqecMeknqOYNeknrOoJeknjPoJannDHpJ6rkuXw5+WpIvJPlKkoeS/HJrPzvJvUm+luSmJC9t7ae29f1t+8Jkd0GSdDxdRvTPAhdW1Y8D5wAXJzkf+FXg2qraDjwJXNn6Xwk8WVU/Alzb+kmSpmTVoK+Bb7fVU9qjgAuBz7T2G4G3t+UdbZ22/aIkGVvFkqQ16TRHn+SkJPcDh4Hbgb8Enqqq51qXJWBLW94CPAbQtj8NvGqcRUuSuusU9FX1fFWdA2wFzgN+dLlu7edyo/c6tiHJziT7kuw7cuRI13olSWu0prNuquop4G7gfOD0JEdvirYVONiWl4BtAG37K4AnlnmtPVW1WFWLmzZtWl/1kqRVdTnrZlOS09vyDwBvBh4B7gLe0bpdAdzSlve2ddr2O6vq+0b0kqSN0eU2xZuBG5OcxOCD4eaqujXJw8Cnk/wH4MvA9a3/9cBvJ9nPYCR/+QTqliR1tGrQV9UDwBuWaf86g/n6Y9u/A1w2luokSSPzylhJ6jmDXpJ6zq8SlDQz/GrAyXBEL0k9Z9BLUs8Z9JLUcwa9JPWcQS9JPWfQS1LPGfSS1HMGvST1nEEvST1n0EtSzxn0ktRz3utGkkY0fI+eA7svnWIly3NEL0k9Z9BLUs91+c7YbUnuSvJIkoeSvL+1X53kr5Lc3x6XDD3nw0n2J/lqkrdMcgck6VgLuz77wkPd5uifAz5YVV9K8nLgviS3t23XVtV/Hu6c5HUMvif2x4C/A/xxktdW1fPjLFyS1M2qI/qqOlRVX2rL3wIeAbYc5yk7gE9X1bNV9Q1gP8t8t6wkaWOsaY4+yQKDLwq/tzW9L8kDSW5IckZr2wI8NvS0JY7/wSBJmqDOQZ/kZcDvAb9QVX8DXAf8MHAOcAj46NGuyzy9lnm9nUn2Jdl35MiRNRcuSeqm03n0SU5hEPK/U1W/D1BVjw9t/zhwa1tdArYNPX0rcPDY16yqPcAegMXFxe/7IJCkWTZPB3q7nHUT4Hrgkar6taH2zUPdfgp4sC3vBS5PcmqSs4HtwBfGV7IkaS26jOjfBLwL+PMk97e2XwLemeQcBtMyB4CfBaiqh5LcDDzM4IydqzzjRpKmZ9Wgr6rPs/y8+23Hec41wDUj1CVJc2kWb4fglbGS1HMGvST1nEEvST1n0EtSz3k/eklTNU/no88rg16SVjCLZ9Csh1M3ktRzBr0k9ZxBL0k95xy9JHUwzweNDXpJJ4y+HFxdK6duJKnnDHpJ6jmnbiT12lrn1sc5Fz8rU0WO6CWp5wx6Seo5g16Ses6gl6Se6/Ll4NuS3JXkkSQPJXl/a39lktuTfK39PKO1J8nHkuxP8kCScye9E5KklXU56+Y54INV9aUkLwfuS3I78B7gjqranWQXsAv4EPBWYHt7vBG4rv2UpJkxK2fEbIQuXw5+CDjUlr+V5BFgC7ADuKB1uxG4m0HQ7wA+WVUF3JPk9CSb2+tI0lzfTmAerWmOPskC8AbgXuA1R8O7/Xx167YFeGzoaUutTZI0BZ2DPsnLgN8DfqGq/uZ4XZdpq2Veb2eSfUn2HTlypGsZkqQ16nRlbJJTGIT871TV77fmx49OySTZDBxu7UvAtqGnbwUOHvuaVbUH2AOwuLj4fR8EktRXG318oMtZNwGuBx6pql8b2rQXuKItXwHcMtT+7nb2zfnA087PS9L0dBnRvwl4F/DnSe5vbb8E7AZuTnIl8ChwWdt2G3AJsB94BnjvWCuWJK1Jl7NuPs/y8+4AFy3Tv4CrRqxLkjQmXhkrST1n0EtSz3k/ekknvL5fwOWIXpJ6zhG9pInp+0h5Xjiil6Sec0QvSRtgmn/dOKKXpJ4z6CWp5wx6Seo5g16Ses6gl6SeM+glqecMeknqOc+jlzRWXg07exzRS1LPGfSS1HNdvjP2hiSHkzw41HZ1kr9Kcn97XDK07cNJ9if5apK3TKpwSVI3XUb0nwAuXqb92qo6pz1uA0jyOuBy4Mfac/5bkpPGVawkae1WDfqq+hzwRMfX2wF8uqqerapvMPiC8PNGqE+SNKJR5ujfl+SBNrVzRmvbAjw21GeptUmSpmS9QX8d8MPAOcAh4KOtPcv0reVeIMnOJPuS7Dty5Mg6y5AkrWZdQV9Vj1fV81X1XeDjfG96ZgnYNtR1K3BwhdfYU1WLVbW4adOm9ZQhSepgXUGfZPPQ6k8BR8/I2QtcnuTUJGcD24EvjFaiJGkUq14Zm+RTwAXAmUmWgI8AFyQ5h8G0zAHgZwGq6qEkNwMPA88BV1XV85MpXZLUxapBX1XvXKb5+uP0vwa4ZpSiJM0+b3UwP7wyVpJ6zqCXpJ4z6CWp5wx6Seo5g16Ses6gl6SeM+glqecMeknqOYNeknrOoJeknjPoJannDHpJ6jmDXpJ6zqCXpJ4z6CWp5wx6Seo5g16Sem7Vb5iSpKP8Vqn5tOqIPskNSQ4neXCo7ZVJbk/ytfbzjNaeJB9Lsj/JA0nOnWTxkqTVdZm6+QRw8TFtu4A7qmo7cEdbB3grsL09dgLXjadMSdJ6rRr0VfU54IljmncAN7blG4G3D7V/sgbuAU5PsnlcxUqS1m69B2NfU1WHANrPV7f2LcBjQ/2WWpskaUrGfTA2y7TVsh2TnQymdzjrrLPGXIakcfEA7Pxbb9A/nmRzVR1qUzOHW/sSsG2o31bg4HIvUFV7gD0Ai4uLy34YSNp4Bnv/rHfqZi9wRVu+ArhlqP3d7eyb84Gnj07xSNI4HDjtn73wUDerjuiTfAq4ADgzyRLwEWA3cHOSK4FHgcta99uAS4D9wDPAeydQsyRpDVYN+qp65wqbLlqmbwFXjVqUJGl8vDJW0twanr5Z+M7vTrGS2WbQS5p5zsePxpuaSVLPGfSS1HNO3UiaSU7XjI9BL51Ahi+GOrD70ilWoo1k0EvyatieM+ilnjPEJ2/WT/M06CX1wqyH7TR51o0k9ZxBL0k959SNNKM8Q0bjYtBL6zTLQewBWA0z6KU1mESAjvKBMa7nzgovkpoM5+glqecc0UszZKVR9ixPE62Hp0JuLINeJ5SNDsy+BfQkTHq6xg8Vg16aO7M4t95XffmQGCnokxwAvgU8DzxXVYtJXgncBCwAB4CfrqonRytTmp61BmuX/oa1NtI4RvQ/UVXfHFrfBdxRVbuT7GrrHxrD+0jS1Bw7xbTSCH8W/wqYxNTNDuCCtnwjcDcGvWbQ8UbVk5hPdxTfL12OLcxK6I8a9AX87yQF/GZV7QFeU1WHAKrqUJJXL/fEJDuBnQBnnXXWiGVI4zWJ6RptHM/Hf7FRg/5NVXWwhfntSf6i6xPbh8IegMXFxRqxDkkzaFZGtMuZZm0v/iB6euLvN1LQV9XB9vNwkj8AzgMeT7K5jeY3A4fHUKckTcxG/AUwzb8y1h30Sf428JKq+lZb/kngV4C9wBXA7vbzlnEUKq3FiTiVciLus7oZZUT/GuAPkhx9nd+tqv+V5IvAzUmuBB4FLhu9TEnzYqWRq/Pm07PuoK+qrwM/vkz7XwMXjVKUJGl8vDJWc81bDGgtTtS/Kgx69YZz1NLyDHrpBDXq6YWzfOqkXsygl/QiXS/11/yY+6B3jvbE4O9ZWr+5D3r1l3Pu8+NEPcg5Lwx6zR0/AKS1Meg1dU7LSJNl0EsTtNKUxrwe4HSKZj69ZNoFSJImyxG9Zorz72vT5Vz2tfZR/xj0mqiV5t9nPdDXejHQpPuv9NyN4IfA/DPotWFmIdzHeTXnRgbgWr+2Thpm0GssZiHE12oWg3EWa9L8M+i1rJWC+0Q8/XHS93SZtb8M1D8GvV4w6VH5Rt4Ea1KBZlBqHhn0mlnzendEPww0ayYW9EkuBv4rcBLwW1W1e1LvpfUbZRQ/C/Pyhqq0uokEfZKTgF8H/gmwBHwxyd6qengS76fvd7zbCkw63Ec5b3ueRu7SvJjUiP48YH/7XlmSfBrYARj0y5j0vV6ODecuo+DhwF1r/7W+VxeO3KX1m1TQbwEeG1pfAt44iTd6cQA8PYm3WHsQX/2KFdq/V9+LXnN4H65eoYY1XoRz4LRVu3d+rUn0n/TrSPqeVNX4XzS5DHhLVf2Ltv4u4Lyq+vmhPjuBnW317wFfXefbnQl8c4Ry55H7fGJwn08Mo+zzD1XVptU6TWpEvwRsG1rfChwc7lBVe4A9o75Rkn1VtTjq68wT9/nE4D6fGDZinyd198ovAtuTnJ3kpcDlwN4JvZck6TgmMqKvqueSvA/4IwanV95QVQ9N4r0kScc3sfPoq+o24LZJvf6Qkad/5pD7fGJwn08ME9/niRyMlSTNDr9hSpJ6bm6CPsnFSb6aZH+SXctsPzXJTW37vUkWNr7K8eqwzx9I8nCSB5LckeSHplHnOK22z0P93pGkksz9GRpd9jnJT7ff9UNJ5v7y4Q7/ts9KcleSL7d/35dMo85xSXJDksNJHlxhe5J8rP33eCDJuWMtoKpm/sHggO5fAn8XeCnwFeB1x/T518BvtOXLgZumXfcG7PNPAH+rLf/cibDPrd/Lgc8B9wCL0657A37P24EvA2e09VdPu+4N2Oc9wM+15dcBB6Zd94j7/I+Ac4EHV9h+CfCHQIDzgXvH+f7zMqJ/4ZYKVfV/gaO3VBi2A7ixLX8GuChJNrDGcVt1n6vqrqp6pq3ew+B6hXnW5fcM8O+B/wh8ZyOLm5Au+/wvgV+vqicBqurwBtc4bl32uYAfbMuv4JjrcOZNVX0OeOI4XXYAn6yBe4DTk2we1/vPS9Avd0uFLSv1qarnGNwP4VUbUt1kdNnnYVcyGBHMs1X3OckbgG1VdetGFjZBXX7PrwVem+RPk9zT7gw7z7rs89XAzyRZYnD23s/Tb2v9/31N5uV+9MuNzI89XahLn3nSeX+S/AywCPzjiVY0ecfd5yQvAa4F3rNRBW2ALr/nkxlM31zA4K+2P0ny+qp6asK1TUqXfX4n8Imq+miSfwj8dtvn706+vKmYaH7Ny4h+1VsqDPdJcjKDP/eO96fSrOuyzyR5M/DvgLdV1bMbVNukrLbPLwdeD9yd5ACDucy9c35Atuu/7Vuq6v9V1TcY3Bdq+wbVNwld9vlK4GaAqvoz4DQG94Tpq07/v6/XvAR9l1sq7AWuaMvvAO6sdpRjTq26z20a4zcZhPy8z9vCKvtcVU9X1ZlVtVBVCwyOS7ytqvZNp9yx6PJv+38yOPBOkjMZTOV8fUOrHK8u+/wocBFAkh9lEPRHNrTKjbUXeHc7++Z84OmqOjSuF5+LqZta4ZYKSX4F2FdVe4HrGfx5t5/BSP7y6VU8uo77/J+AlwH/ox13frSq3ja1okfUcZ97peM+/xHwk0keBp4HfrGq/np6VY+m4z5/EPh4kn/DYArjPfM8cEvyKQZTb2e24w4fAU4BqKrfYHAc4hJgP/AM8N6xvv8c/7eTJHUwL1M3kqR1MuglqecMeknqOYNeknrOoJeknjPoJannDHpJ6jmDXpJ67v8DgfsoyKz+ev8AAAAASUVORK5CYII=\n",
      "text/plain": [
       "<Figure size 432x288 with 1 Axes>"
      ]
     },
     "metadata": {
      "needs_background": "light"
     },
     "output_type": "display_data"
    }
   ],
   "source": [
    "plt.hist(ytr, 100);\n",
    "plt.hist(yte, 100);"
   ]
  },
  {
   "cell_type": "code",
   "execution_count": 28,
   "metadata": {},
   "outputs": [
    {
     "data": {
      "image/png": "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\n",
      "text/plain": [
       "<Figure size 432x288 with 1 Axes>"
      ]
     },
     "metadata": {
      "needs_background": "light"
     },
     "output_type": "display_data"
    }
   ],
   "source": [
    "plt.hist(ytr_tfm, 100);\n",
    "plt.hist(yte_tfm, 100);"
   ]
  },
  {
   "cell_type": "code",
   "execution_count": 29,
   "metadata": {},
   "outputs": [],
   "source": [
    "# test_size = 0.2\n",
    "# idx = np.random.permutation(len(ydata))\n",
    "# i = int( len(idx)*(1-test_size) )\n",
    "# id_tr = np.arange(0, i+1)\n",
    "# id_te = np.arange(i+1, len(ydata))\n",
    "\n",
    "# # Train\n",
    "# xtr = xdata[id_tr]\n",
    "# ytr = ydata[id_tr]\n",
    "# ytr_tfm = ydata_tfm[id_tr]\n",
    "\n",
    "# # Test\n",
    "# xte = xdata[id_te]\n",
    "# yte = ydata[id_te]\n",
    "# yte_tfm = ydata_tfm[id_te]"
   ]
  },
  {
   "cell_type": "code",
   "execution_count": 32,
   "metadata": {},
   "outputs": [
    {
     "name": "stderr",
     "output_type": "stream",
     "text": [
      "[Parallel(n_jobs=16)]: Using backend ThreadingBackend with 16 concurrent workers.\n",
      "[Parallel(n_jobs=16)]: Done  18 tasks      | elapsed:   16.9s\n"
     ]
    },
    {
     "name": "stdout",
     "output_type": "stream",
     "text": [
      "32.29333333333334\n"
     ]
    },
    {
     "name": "stderr",
     "output_type": "stream",
     "text": [
      "[Parallel(n_jobs=16)]: Done 150 out of 150 | elapsed:  1.7min finished\n"
     ]
    }
   ],
   "source": [
    "rf = RandomForestRegressor(n_estimators=150, min_samples_split=7, n_jobs=16, verbose=True);\n",
    "rf.fit(xtr, ytr)\n",
    "print( np.mean([estimator.tree_.max_depth for estimator in rf.estimators_]) )"
   ]
  },
  {
   "cell_type": "code",
   "execution_count": 33,
   "metadata": {},
   "outputs": [
    {
     "name": "stderr",
     "output_type": "stream",
     "text": [
      "[Parallel(n_jobs=16)]: Using backend ThreadingBackend with 16 concurrent workers.\n",
      "[Parallel(n_jobs=16)]: Done  18 tasks      | elapsed:    0.0s\n",
      "[Parallel(n_jobs=16)]: Done 150 out of 150 | elapsed:    0.1s finished\n"
     ]
    },
    {
     "data": {
      "text/plain": [
       "0.7239150504859408"
      ]
     },
     "execution_count": 33,
     "metadata": {},
     "output_type": "execute_result"
    }
   ],
   "source": [
    "rf.score(xte, yte)"
   ]
  },
  {
   "cell_type": "code",
   "execution_count": null,
   "metadata": {},
   "outputs": [],
   "source": []
  },
  {
   "cell_type": "code",
   "execution_count": 34,
   "metadata": {},
   "outputs": [
    {
     "name": "stderr",
     "output_type": "stream",
     "text": [
      "[Parallel(n_jobs=16)]: Using backend ThreadingBackend with 16 concurrent workers.\n",
      "[Parallel(n_jobs=16)]: Done  18 tasks      | elapsed:   15.4s\n"
     ]
    },
    {
     "name": "stdout",
     "output_type": "stream",
     "text": [
      "32.29333333333334\n"
     ]
    },
    {
     "name": "stderr",
     "output_type": "stream",
     "text": [
      "[Parallel(n_jobs=16)]: Done 150 out of 150 | elapsed:  1.5min finished\n"
     ]
    }
   ],
   "source": [
    "rf_tfm = RandomForestRegressor(n_estimators=150, min_samples_split=5, n_jobs=16, verbose=True);\n",
    "rf_tfm.fit(xtr, ytr_tfm)\n",
    "print( np.mean([estimator.tree_.max_depth for estimator in rf.estimators_]) )"
   ]
  },
  {
   "cell_type": "code",
   "execution_count": 35,
   "metadata": {},
   "outputs": [
    {
     "name": "stderr",
     "output_type": "stream",
     "text": [
      "[Parallel(n_jobs=16)]: Using backend ThreadingBackend with 16 concurrent workers.\n",
      "[Parallel(n_jobs=16)]: Done  18 tasks      | elapsed:    0.0s\n",
      "[Parallel(n_jobs=16)]: Done 150 out of 150 | elapsed:    0.1s finished\n"
     ]
    },
    {
     "data": {
      "text/plain": [
       "-0.3299155272481804"
      ]
     },
     "execution_count": 35,
     "metadata": {},
     "output_type": "execute_result"
    }
   ],
   "source": [
    "rf.score(xte, yte_tfm)"
   ]
  },
  {
   "cell_type": "code",
   "execution_count": null,
   "metadata": {},
   "outputs": [],
   "source": []
  }
 ],
 "metadata": {
  "kernelspec": {
   "display_name": "Python 3",
   "language": "python",
   "name": "python3"
  },
  "language_info": {
   "codemirror_mode": {
    "name": "ipython",
    "version": 3
   },
   "file_extension": ".py",
   "mimetype": "text/x-python",
   "name": "python",
   "nbconvert_exporter": "python",
   "pygments_lexer": "ipython3",
<<<<<<< HEAD
   "version": "3.7.2"
=======
   "version": "3.6.8"
>>>>>>> eefc4d7da23eb4a13b29553f59468d3f3bc59ede
  }
 },
 "nbformat": 4,
 "nbformat_minor": 2
}
