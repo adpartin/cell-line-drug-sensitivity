{
 "cells": [
  {
   "cell_type": "code",
   "execution_count": 1,
   "metadata": {},
   "outputs": [],
   "source": [
    "%load_ext autoreload\n",
    "%autoreload 2\n",
    "%matplotlib inline\n",
    "\n",
    "import os\n",
    "import sys\n",
    "import numpy as np\n",
    "import pandas as pd\n",
    "import matplotlib.pyplot as plt\n",
    "import seaborn as sns\n",
    "import collections\n",
    "\n",
    "import warnings\n",
    "warnings.filterwarnings('ignore')\n",
    "\n",
    "# Utils\n",
    "file_path = os.getcwd()  # os.path.dirname(os.path.relpath(__file__))\n",
    "utils_path = os.path.abspath(os.path.join(file_path, '../src/data'))\n",
    "sys.path.append(utils_path)\n",
    "\n",
    "# import utils_models\n",
    "import utils_data as utils"
   ]
  },
  {
   "cell_type": "code",
   "execution_count": 2,
   "metadata": {},
   "outputs": [],
   "source": [
    "DATADIR = '/Users/apartin/work/jdacs/Benchmarks/Data/Pilot1'\n",
    "\n",
    "RSP_FILENAME = 'combined_single_response_agg'  # reposne data filename\n",
    "# RSP_FILENAME = 'ChemPartner_single_response_agg'  # reposne data filename\n",
    "\n",
    "DSC_FILENAME = 'Combined_PubChem_dragon7_descriptors.tsv'  # drug descriptors data filename\n",
    "#DSC_FILENAME = 'pan_drugs_dragon7_descriptors.tsv'\n",
    "\n",
    "DRUG_META_FILENAME = 'drug_info'"
   ]
  },
  {
   "cell_type": "code",
   "execution_count": 3,
   "metadata": {},
   "outputs": [],
   "source": [
    "# ========================================================================\n",
    "#       Args TODO: add to argparse\n",
    "# ========================================================================\n",
    "# sources = ['ccle', 'gcsi', 'gdsc', 'ctrp']\n",
    "sources = ['ccle', 'gcsi', 'gdsc', 'ctrp', 'nci60']\n",
    "drug_features = ['dsc']  # ['dsc', 'fng']\n",
    "cell_features = ['rna']  # ['rna', 'cnv']\n",
    "dropna_thres = 0.4\n",
    "\n",
    "verbose = True\n",
    "na_values = ['na', '-', '']\n",
    "tidy_data_format = 'parquet'\n",
    "\n",
    "# Analysis of fibro samples are implemented in ccle_fibroblast.py and ccle_preproc.R\n",
    "drop_fibro = True\n",
    "fibro_names = ['CCLE.HS229T', 'CCLE.HS739T', 'CCLE.HS840T', 'CCLE.HS895T', 'CCLE.RKN',\n",
    "               'CTRP.Hs-895-T', 'CTRP.RKN', 'GDSC.RKN', 'gCSI.RKN']\n",
    "\n",
    "# Prefix to add to feature names based on feature types\n",
    "fea_prfx_dict = {'rna': 'cell_rna.',\n",
    "                 'cnv': 'cell_cnv.',\n",
    "                 'dsc': 'drug_dsc.',\n",
    "                 'fng': 'drug_fng.'}\n",
    "\n",
    "prfx_dtypes = {'rna': np.float32,\n",
    "               'cnv': np.int8,\n",
    "               'dsc': np.float32,\n",
    "               'fng': np.int8}"
   ]
  },
  {
   "cell_type": "code",
   "execution_count": 4,
   "metadata": {},
   "outputs": [
    {
     "name": "stdout",
     "output_type": "stream",
     "text": [
      "Loading combined response ... combined_single_response_agg\n",
      "rsp.shape (4484081, 14)\n"
     ]
    }
   ],
   "source": [
    "# ========================================================================\n",
    "#       Load response data\n",
    "# ========================================================================\n",
    "print(f'Loading combined response ... {RSP_FILENAME}')\n",
    "rsp_cols = ['AUC', 'AUC1', 'EC50', 'EC50se',\n",
    "            'R2fit', 'Einf', 'IC50',\n",
    "            'HS', 'AAC1', 'DSS1']\n",
    "rsp = pd.read_table(os.path.join(DATADIR, RSP_FILENAME), sep='\\t',\n",
    "                    na_values=na_values,\n",
    "                    dtype={'SOURCE': str, 'CELL': str, 'DRUG': str,\n",
    "                           'AUC': np.float32, 'IC50': np.float32, 'EC50': np.float32,\n",
    "                           'EC50se': np.float32, 'R2fit': np.float32, 'Einf': np.float32,\n",
    "                           'HS': np.float32, 'AAC1': np.float32, 'AUC1': np.float32, 'DSS1': np.float32},\n",
    "                    warn_bad_lines=True)\n",
    "rsp['SOURCE'] = rsp['SOURCE'].apply(lambda x: x.lower())\n",
    "print(f'rsp.shape {rsp.shape}')\n"
   ]
  },
  {
   "cell_type": "code",
   "execution_count": 5,
   "metadata": {},
   "outputs": [
    {
     "name": "stdout",
     "output_type": "stream",
     "text": [
      "Loading rna-seq ... \n",
      "rna.shape (2917, 943)\n"
     ]
    }
   ],
   "source": [
    "# ========================================================================\n",
    "#   Load rna (combined_dataset)\n",
    "# ========================================================================\n",
    "print('Loading rna-seq ... ')\n",
    "lincs = utils.CombinedRNASeqLINCS(datadir=DATADIR, dataset='raw', sources=sources, na_values=na_values, verbose=False)\n",
    "rna, cmeta = lincs._df_rna, lincs._meta\n",
    "rna.rename(columns={'Sample': 'CELL'}, inplace=True)\n",
    "cmeta.rename(columns={'Sample': 'CELL', 'source': 'SOURCE'}, inplace=True)\n",
    "rna = rna.rename(columns={c: fea_prfx_dict['rna']+c for c in rna.columns[1:] if fea_prfx_dict['rna'] not in c}) # add fea prefix\n",
    "print(f'rna.shape {rna.shape}')\n",
    "\n",
    "# Impute missing values\n",
    "rna = utils.impute_values(data=rna, fea_prfx_dict=fea_prfx_dict)\n"
   ]
  },
  {
   "cell_type": "code",
   "execution_count": 6,
   "metadata": {},
   "outputs": [
    {
     "name": "stdout",
     "output_type": "stream",
     "text": [
      "Loading drug descriptors ... Combined_PubChem_dragon7_descriptors.tsv\n",
      "dsc.shape (517, 5271)\n",
      "Drop descriptors with *lots* of NA values ...\n",
      "dsc.shape (517, 3838)\n",
      "Drop descriptors that have a single unique value (excluding NAs) ...\n",
      "dsc.shape (517, 2734)\n",
      "dsc memory usage: 0.006 GB\n"
     ]
    }
   ],
   "source": [
    "# ========================================================================\n",
    "#   Load drug descriptors\n",
    "# ========================================================================\n",
    "print('Loading drug descriptors ... {}'.format(DSC_FILENAME))\n",
    "path = os.path.join(DATADIR, DSC_FILENAME)\n",
    "cols = pd.read_table(path, engine='c', nrows=0)\n",
    "dtype_dict = {c: prfx_dtypes['dsc'] for c in cols.columns[1:]}\n",
    "dsc = pd.read_table(path, dtype=dtype_dict, na_values=na_values, warn_bad_lines=True)\n",
    "dsc.rename(columns={'NAME': 'PUBCHEM'}, inplace=True)\n",
    "dsc = dsc.rename(columns={c: fea_prfx_dict['dsc']+c for c in dsc.columns[1:] if fea_prfx_dict['dsc'] not in c}) # add fea prefix\n",
    "print(f'dsc.shape {dsc.shape}')\n",
    "\n",
    "\n",
    "# ------------------\n",
    "# Filter descriptors\n",
    "# ------------------\n",
    "# dsc.nunique(dropna=True).value_counts()\n",
    "# dsc.nunique(dropna=True).sort_values()\n",
    "\n",
    "print('Drop descriptors with *lots* of NA values ...')\n",
    "#utils.plot_dsc_na_dist(dsc=dsc, savepath=os.path.join(OUTDIR, 'dsc_hist_ratio_of_na.png'))\n",
    "dsc = utils.dropna(df=dsc, axis=1, th=dropna_thres)\n",
    "print(f'dsc.shape {dsc.shape}')\n",
    "# dsc.isna().sum().sort_values(ascending=False)\n",
    "\n",
    "# There are descriptors for which there is a single unique value excluding NA (drop those)\n",
    "print('Drop descriptors that have a single unique value (excluding NAs) ...')\n",
    "col_idx = dsc.nunique(dropna=True).values==1\n",
    "dsc = dsc.iloc[:, ~col_idx]\n",
    "print(f'dsc.shape {dsc.shape}')\n",
    "\n",
    "# There are still lots of descriptors which have only a few unique values\n",
    "# We can categorize those values. E.g.: 564 descriptors have only 2 unique vals,\n",
    "# and 154 descriptors have only 3 unique vals, etc.\n",
    "# TODO: use utility code from p1h_alex/utils/data_preproc.py that transform those\n",
    "# features into categorical and also applies an appropriate imputation.\n",
    "# dsc.nunique(dropna=True).value_counts()[:10]\n",
    "# dsc.nunique(dropna=True).value_counts().sort_index()[:10]\n",
    "\n",
    "# Impute missing values\n",
    "dsc = utils.impute_values(data=dsc, fea_prfx_dict=fea_prfx_dict)\n",
    "\n",
    "# Drop low var cols\n",
    "# tmp, idx = utils_all.drop_low_var_cols(df=dsc, skipna=False)\n",
    "\n",
    "if verbose:\n",
    "    print('dsc memory usage: {:.3f} GB'.format(sys.getsizeof(dsc)/1e9))\n"
   ]
  },
  {
   "cell_type": "code",
   "execution_count": 7,
   "metadata": {},
   "outputs": [
    {
     "name": "stdout",
     "output_type": "stream",
     "text": [
      "Loading drug metadata ... drug_info\n",
      "dmeta.shape (846, 7)\n"
     ]
    }
   ],
   "source": [
    "# ========================================================================\n",
    "#   Load drug meta\n",
    "# ========================================================================\n",
    "print(f'Loading drug metadata ... {DRUG_META_FILENAME}')\n",
    "dmeta = pd.read_table(os.path.join(DATADIR, DRUG_META_FILENAME), dtype=object)\n",
    "dmeta['PUBCHEM'] = 'PubChem.CID.' + dmeta['PUBCHEM']\n",
    "dmeta.insert(loc=0, column='SOURCE', value=dmeta['ID'].map(lambda x: x.split('.')[0].lower()))\n",
    "dmeta.rename(columns={'ID': 'DRUG'}, inplace=True)\n",
    "print(f'dmeta.shape {dmeta.shape}')"
   ]
  },
  {
   "cell_type": "markdown",
   "metadata": {},
   "source": [
    "### Dump shapes"
   ]
  },
  {
   "cell_type": "code",
   "execution_count": 8,
   "metadata": {},
   "outputs": [
    {
     "data": {
      "text/html": [
       "<div>\n",
       "<style scoped>\n",
       "    .dataframe tbody tr th:only-of-type {\n",
       "        vertical-align: middle;\n",
       "    }\n",
       "\n",
       "    .dataframe tbody tr th {\n",
       "        vertical-align: top;\n",
       "    }\n",
       "\n",
       "    .dataframe thead th {\n",
       "        text-align: right;\n",
       "    }\n",
       "</style>\n",
       "<table border=\"1\" class=\"dataframe\">\n",
       "  <thead>\n",
       "    <tr style=\"text-align: right;\">\n",
       "      <th></th>\n",
       "      <th>SOURCE</th>\n",
       "      <th>CELL</th>\n",
       "      <th>DRUG</th>\n",
       "      <th>STUDY</th>\n",
       "      <th>AUC</th>\n",
       "      <th>IC50</th>\n",
       "      <th>EC50</th>\n",
       "      <th>EC50se</th>\n",
       "      <th>R2fit</th>\n",
       "      <th>Einf</th>\n",
       "      <th>HS</th>\n",
       "      <th>AAC1</th>\n",
       "      <th>AUC1</th>\n",
       "      <th>DSS1</th>\n",
       "    </tr>\n",
       "  </thead>\n",
       "  <tbody>\n",
       "    <tr>\n",
       "      <th>0</th>\n",
       "      <td>ccle</td>\n",
       "      <td>CCLE.1321N1</td>\n",
       "      <td>CCLE.1</td>\n",
       "      <td>fake_exp</td>\n",
       "      <td>0.8330</td>\n",
       "      <td>4.883</td>\n",
       "      <td>5.183</td>\n",
       "      <td>0.5746</td>\n",
       "      <td>0.9864</td>\n",
       "      <td>0.2017</td>\n",
       "      <td>0.7463</td>\n",
       "      <td>0.1017</td>\n",
       "      <td>0.8983</td>\n",
       "      <td>0.0551</td>\n",
       "    </tr>\n",
       "    <tr>\n",
       "      <th>1</th>\n",
       "      <td>ccle</td>\n",
       "      <td>CCLE.1321N1</td>\n",
       "      <td>CCLE.10</td>\n",
       "      <td>fake_exp</td>\n",
       "      <td>0.7909</td>\n",
       "      <td>5.217</td>\n",
       "      <td>5.217</td>\n",
       "      <td>2.2840</td>\n",
       "      <td>0.6526</td>\n",
       "      <td>0.0000</td>\n",
       "      <td>0.8993</td>\n",
       "      <td>0.1136</td>\n",
       "      <td>0.8864</td>\n",
       "      <td>0.0728</td>\n",
       "    </tr>\n",
       "  </tbody>\n",
       "</table>\n",
       "</div>"
      ],
      "text/plain": [
       "  SOURCE         CELL     DRUG     STUDY     AUC   IC50   EC50  EC50se  \\\n",
       "0   ccle  CCLE.1321N1   CCLE.1  fake_exp  0.8330  4.883  5.183  0.5746   \n",
       "1   ccle  CCLE.1321N1  CCLE.10  fake_exp  0.7909  5.217  5.217  2.2840   \n",
       "\n",
       "    R2fit    Einf      HS    AAC1    AUC1    DSS1  \n",
       "0  0.9864  0.2017  0.7463  0.1017  0.8983  0.0551  \n",
       "1  0.6526  0.0000  0.8993  0.1136  0.8864  0.0728  "
      ]
     },
     "execution_count": 8,
     "metadata": {},
     "output_type": "execute_result"
    }
   ],
   "source": [
    "rsp.iloc[:2]"
   ]
  },
  {
   "cell_type": "code",
   "execution_count": 9,
   "metadata": {},
   "outputs": [
    {
     "data": {
      "text/html": [
       "<div>\n",
       "<style scoped>\n",
       "    .dataframe tbody tr th:only-of-type {\n",
       "        vertical-align: middle;\n",
       "    }\n",
       "\n",
       "    .dataframe tbody tr th {\n",
       "        vertical-align: top;\n",
       "    }\n",
       "\n",
       "    .dataframe thead th {\n",
       "        text-align: right;\n",
       "    }\n",
       "</style>\n",
       "<table border=\"1\" class=\"dataframe\">\n",
       "  <thead>\n",
       "    <tr style=\"text-align: right;\">\n",
       "      <th></th>\n",
       "      <th>CELL</th>\n",
       "      <th>cell_rna.AARS</th>\n",
       "      <th>cell_rna.ABCB6</th>\n",
       "      <th>cell_rna.ABCC5</th>\n",
       "      <th>cell_rna.ABCF1</th>\n",
       "    </tr>\n",
       "  </thead>\n",
       "  <tbody>\n",
       "    <tr>\n",
       "      <th>0</th>\n",
       "      <td>CCLE.22RV1</td>\n",
       "      <td>8.31</td>\n",
       "      <td>7.17</td>\n",
       "      <td>4.12</td>\n",
       "      <td>5.64</td>\n",
       "    </tr>\n",
       "    <tr>\n",
       "      <th>1</th>\n",
       "      <td>CCLE.2313287</td>\n",
       "      <td>8.94</td>\n",
       "      <td>6.30</td>\n",
       "      <td>3.83</td>\n",
       "      <td>6.60</td>\n",
       "    </tr>\n",
       "  </tbody>\n",
       "</table>\n",
       "</div>"
      ],
      "text/plain": [
       "           CELL  cell_rna.AARS  cell_rna.ABCB6  cell_rna.ABCC5  cell_rna.ABCF1\n",
       "0    CCLE.22RV1           8.31            7.17            4.12            5.64\n",
       "1  CCLE.2313287           8.94            6.30            3.83            6.60"
      ]
     },
     "execution_count": 9,
     "metadata": {},
     "output_type": "execute_result"
    }
   ],
   "source": [
    "rna.iloc[:2, :5]"
   ]
  },
  {
   "cell_type": "code",
   "execution_count": 10,
   "metadata": {},
   "outputs": [
    {
     "data": {
      "text/html": [
       "<div>\n",
       "<style scoped>\n",
       "    .dataframe tbody tr th:only-of-type {\n",
       "        vertical-align: middle;\n",
       "    }\n",
       "\n",
       "    .dataframe tbody tr th {\n",
       "        vertical-align: top;\n",
       "    }\n",
       "\n",
       "    .dataframe thead th {\n",
       "        text-align: right;\n",
       "    }\n",
       "</style>\n",
       "<table border=\"1\" class=\"dataframe\">\n",
       "  <thead>\n",
       "    <tr style=\"text-align: right;\">\n",
       "      <th></th>\n",
       "      <th>PUBCHEM</th>\n",
       "      <th>drug_dsc.MW</th>\n",
       "      <th>drug_dsc.AMW</th>\n",
       "      <th>drug_dsc.Sv</th>\n",
       "      <th>drug_dsc.Se</th>\n",
       "    </tr>\n",
       "  </thead>\n",
       "  <tbody>\n",
       "    <tr>\n",
       "      <th>0</th>\n",
       "      <td>PubChem.CID.10026128</td>\n",
       "      <td>438.51001</td>\n",
       "      <td>7.831</td>\n",
       "      <td>36.275002</td>\n",
       "      <td>56.813999</td>\n",
       "    </tr>\n",
       "    <tr>\n",
       "      <th>1</th>\n",
       "      <td>PubChem.CID.10027278</td>\n",
       "      <td>460.48999</td>\n",
       "      <td>8.688</td>\n",
       "      <td>36.691002</td>\n",
       "      <td>54.224998</td>\n",
       "    </tr>\n",
       "  </tbody>\n",
       "</table>\n",
       "</div>"
      ],
      "text/plain": [
       "                PUBCHEM  drug_dsc.MW  drug_dsc.AMW  drug_dsc.Sv  drug_dsc.Se\n",
       "0  PubChem.CID.10026128    438.51001         7.831    36.275002    56.813999\n",
       "1  PubChem.CID.10027278    460.48999         8.688    36.691002    54.224998"
      ]
     },
     "execution_count": 10,
     "metadata": {},
     "output_type": "execute_result"
    }
   ],
   "source": [
    "dsc.iloc[:2, :5]"
   ]
  },
  {
   "cell_type": "code",
   "execution_count": 11,
   "metadata": {},
   "outputs": [
    {
     "data": {
      "text/html": [
       "<div>\n",
       "<style scoped>\n",
       "    .dataframe tbody tr th:only-of-type {\n",
       "        vertical-align: middle;\n",
       "    }\n",
       "\n",
       "    .dataframe tbody tr th {\n",
       "        vertical-align: top;\n",
       "    }\n",
       "\n",
       "    .dataframe thead th {\n",
       "        text-align: right;\n",
       "    }\n",
       "</style>\n",
       "<table border=\"1\" class=\"dataframe\">\n",
       "  <thead>\n",
       "    <tr style=\"text-align: right;\">\n",
       "      <th></th>\n",
       "      <th>SOURCE</th>\n",
       "      <th>DRUG</th>\n",
       "      <th>NAME</th>\n",
       "      <th>CLEAN_NAME</th>\n",
       "      <th>SMILES</th>\n",
       "      <th>INCHIKEY</th>\n",
       "      <th>PUBCHEM</th>\n",
       "    </tr>\n",
       "  </thead>\n",
       "  <tbody>\n",
       "    <tr>\n",
       "      <th>0</th>\n",
       "      <td>ccle</td>\n",
       "      <td>CCLE.1</td>\n",
       "      <td>AEW541</td>\n",
       "      <td>AEW541</td>\n",
       "      <td>C1CN(C1)CC2CC(C2)N3C=C(C4=C3N=CN=C4N)C5=CC(=CC...</td>\n",
       "      <td>AECDBHGVIIRMOI-UHFFFAOYSA-N</td>\n",
       "      <td>PubChem.CID.11476171</td>\n",
       "    </tr>\n",
       "    <tr>\n",
       "      <th>1</th>\n",
       "      <td>ccle</td>\n",
       "      <td>CCLE.10</td>\n",
       "      <td>ZD-6474</td>\n",
       "      <td>ZD6474</td>\n",
       "      <td>CN1CCC(CC1)COC2=C(C=C3C(=C2)N=CN=C3NC4=C(C=C(C...</td>\n",
       "      <td>UHTHHESEBZOYNR-UHFFFAOYSA-N</td>\n",
       "      <td>PubChem.CID.3081361</td>\n",
       "    </tr>\n",
       "  </tbody>\n",
       "</table>\n",
       "</div>"
      ],
      "text/plain": [
       "  SOURCE     DRUG     NAME CLEAN_NAME  \\\n",
       "0   ccle   CCLE.1   AEW541     AEW541   \n",
       "1   ccle  CCLE.10  ZD-6474     ZD6474   \n",
       "\n",
       "                                              SMILES  \\\n",
       "0  C1CN(C1)CC2CC(C2)N3C=C(C4=C3N=CN=C4N)C5=CC(=CC...   \n",
       "1  CN1CCC(CC1)COC2=C(C=C3C(=C2)N=CN=C3NC4=C(C=C(C...   \n",
       "\n",
       "                      INCHIKEY               PUBCHEM  \n",
       "0  AECDBHGVIIRMOI-UHFFFAOYSA-N  PubChem.CID.11476171  \n",
       "1  UHTHHESEBZOYNR-UHFFFAOYSA-N   PubChem.CID.3081361  "
      ]
     },
     "execution_count": 11,
     "metadata": {},
     "output_type": "execute_result"
    }
   ],
   "source": [
    "dmeta.iloc[:2]"
   ]
  },
  {
   "cell_type": "code",
   "execution_count": null,
   "metadata": {},
   "outputs": [],
   "source": []
  },
  {
   "cell_type": "code",
   "execution_count": 12,
   "metadata": {},
   "outputs": [
    {
     "name": "stdout",
     "output_type": "stream",
     "text": [
      "==========================\n",
      "... Start merging data ...\n",
      "==========================\n",
      "\n",
      "Merge response (rsp) with drug metadata (dmeta) on DRUG in order to add PUBCHEM (required for descriptors) ...\n",
      "rsp.shape   (4484081, 14)\n",
      "dmeta.shape (846, 7)\n",
      "rsp.shape   (4484081, 15)\n",
      "NA values after merging rsp and dmeta: \n",
      "DRUG             0\n",
      "PUBCHEM    3973264\n",
      "dtype: int64\n",
      "\n",
      "  SOURCE   DRUG  PUBCHEM\n",
      "0   ccle     24       24\n",
      "1   ctrp    544      370\n",
      "2   gcsi     16       16\n",
      "3   gdsc    249      235\n",
      "4  nci60  52671        0\n",
      "5    scl    445        0\n",
      "6   sclc    526        0\n"
     ]
    }
   ],
   "source": [
    "# ========================================================================\n",
    "#   Merge the data\n",
    "# ========================================================================\n",
    "\"\"\"\n",
    "Data tables: rsp, rna, dsc, cmeta, dmeta\n",
    "(rsp, rna): on 'CELL'\n",
    "(rsp, dsc): on pubchem through fields in dmeta\n",
    "\"\"\"\n",
    "print('==========================')\n",
    "print('... Start merging data ...')\n",
    "print('==========================')\n",
    "\n",
    "# Update rsp with additional drug field 'PUBCHEM' (this will be used to merge with descriptors)\n",
    "print('\\nMerge response (rsp) with drug metadata (dmeta) on DRUG in order to add PUBCHEM (required for descriptors) ...')\n",
    "print(f'rsp.shape   {rsp.shape}')\n",
    "print(f'dmeta.shape {dmeta.shape}')\n",
    "rsp = pd.merge(rsp, dmeta[['DRUG', 'PUBCHEM']], on='DRUG', how='left')\n",
    "print(f'rsp.shape   {rsp.shape}')\n",
    "print('NA values after merging rsp and dmeta: \\n{}'.format(rsp[['DRUG', 'PUBCHEM']].isna().sum()))\n",
    "print('')\n",
    "print(rsp.groupby('SOURCE').agg({'DRUG': 'nunique', 'PUBCHEM': 'nunique'}).reset_index())\n"
   ]
  },
  {
   "cell_type": "code",
   "execution_count": 13,
   "metadata": {},
   "outputs": [
    {
     "name": "stdout",
     "output_type": "stream",
     "text": [
      "\n",
      "Merge response (rsp) and cell metadata (cmeta) ...\n",
      "rsp.shape   (4484081, 15)\n",
      "cmeta.shape (2917, 20)\n",
      "rsp1.shape  (4484081, 20)\n",
      "\n",
      "  SOURCE  CELL   DRUG  PUBCHEM\n",
      "0   ccle   504     24       24\n",
      "1   ctrp   887    544      370\n",
      "2   gcsi   409     16       16\n",
      "3   gdsc  1075    249      235\n",
      "4  nci60    59  52671        0\n",
      "5    scl    65    445        0\n",
      "6   sclc    70    526        0\n"
     ]
    }
   ],
   "source": [
    "# --------------------\n",
    "# Merge rsp with cmeta\n",
    "# --------------------\n",
    "print('\\nMerge response (rsp) and cell metadata (cmeta) ...')\n",
    "print(f'rsp.shape   {rsp.shape}')\n",
    "print(f'cmeta.shape {cmeta.shape}')\n",
    "rsp1 = pd.merge(rsp, cmeta[['CELL', 'core_str', 'csite', 'ctype', 'simplified_csite', 'simplified_ctype']], on='CELL', how='left')\n",
    "print(f'rsp1.shape  {rsp1.shape}')\n",
    "print('')\n",
    "print(rsp1.groupby('SOURCE').agg({'CELL': 'nunique', 'DRUG': 'nunique',\n",
    "                                        'PUBCHEM': 'nunique'}).reset_index())\n",
    "del rsp"
   ]
  },
  {
   "cell_type": "code",
   "execution_count": 14,
   "metadata": {},
   "outputs": [
    {
     "name": "stdout",
     "output_type": "stream",
     "text": [
      "\n",
      "Merge with expression (rna) ...\n",
      "rsp1.shape (4484081, 20)\n",
      "rna.shape  (2917, 943)\n",
      "rsp2.shape (4301221, 962)\n",
      "\n",
      "  SOURCE  CELL   DRUG  PUBCHEM\n",
      "0   ccle   474     24       24\n",
      "1   ctrp   812    544      370\n",
      "2   gcsi   357     16       16\n",
      "3   gdsc   670    249      235\n",
      "4  nci60    59  52671        0\n"
     ]
    }
   ],
   "source": [
    "# --------------\n",
    "# Merge with rna\n",
    "# --------------\n",
    "print('\\nMerge with expression (rna) ...')\n",
    "print(f'rsp1.shape {rsp1.shape}')\n",
    "print(f'rna.shape  {rna.shape}')\n",
    "rsp2 = pd.merge(rsp1, rna, on='CELL', how='inner')\n",
    "print(f'rsp2.shape {rsp2.shape}')\n",
    "print('')\n",
    "print(rsp2.groupby('SOURCE').agg({'CELL': 'nunique', 'DRUG': 'nunique',\n",
    "                                        'PUBCHEM': 'nunique'}).reset_index())\n",
    "del rsp1"
   ]
  },
  {
   "cell_type": "code",
   "execution_count": 15,
   "metadata": {},
   "outputs": [
    {
     "name": "stdout",
     "output_type": "stream",
     "text": [
      "\n",
      "Merge with descriptors (dsc) ...\n",
      "rsp2.shape (4301221, 962)\n",
      "dsc.shape  (517, 2734)\n",
      "data.shape (406889, 3695)\n",
      "\n",
      "  SOURCE  CELL  DRUG  PUBCHEM\n",
      "0   ccle   474    24       24\n",
      "1   ctrp   812   370      370\n",
      "2   gcsi   357    16       16\n",
      "3   gdsc   670   236      235\n"
     ]
    }
   ],
   "source": [
    "# --------------\n",
    "# Merge with dsc\n",
    "# --------------\n",
    "print('\\nMerge with descriptors (dsc) ...')\n",
    "print(f'rsp2.shape {rsp2.shape}')\n",
    "print(f'dsc.shape  {dsc.shape}')\n",
    "data = pd.merge(rsp2, dsc, on='PUBCHEM', how='inner')\n",
    "print(f'data.shape {data.shape}')\n",
    "print('')\n",
    "print(data.groupby('SOURCE').agg({'CELL': 'nunique', 'DRUG': 'nunique',\n",
    "                                        'PUBCHEM': 'nunique'}).reset_index())\n",
    "del rsp2"
   ]
  },
  {
   "cell_type": "code",
   "execution_count": null,
   "metadata": {},
   "outputs": [],
   "source": []
  }
 ],
 "metadata": {
  "kernelspec": {
   "display_name": "Python 3",
   "language": "python",
   "name": "python3"
  },
  "language_info": {
   "codemirror_mode": {
    "name": "ipython",
    "version": 3
   },
   "file_extension": ".py",
   "mimetype": "text/x-python",
   "name": "python",
   "nbconvert_exporter": "python",
   "pygments_lexer": "ipython3",
   "version": "3.6.7"
  }
 },
 "nbformat": 4,
 "nbformat_minor": 2
}
