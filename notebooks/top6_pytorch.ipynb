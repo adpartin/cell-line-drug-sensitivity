{
 "cells": [
  {
   "cell_type": "markdown",
   "metadata": {},
   "source": [
    "# Top6"
   ]
  },
  {
   "cell_type": "code",
   "execution_count": 1,
   "metadata": {},
   "outputs": [],
   "source": [
    "%load_ext autoreload\n",
    "%autoreload 2\n",
    "%matplotlib inline\n",
    "\n",
    "import warnings\n",
    "warnings.filterwarnings('ignore')\n",
    "\n",
    "import os\n",
    "from pathlib import Path\n",
    "import sys\n",
    "from time import time\n",
    "import numpy as np\n",
    "import pandas as pd\n",
    "\n",
    "import sklearn\n",
    "from collections import OrderedDict\n",
    "from sklearn.metrics import r2_score\n",
    "\n",
    "import matplotlib.pyplot as plt\n",
    "import matplotlib.cm as cm\n",
    "\n",
    "from sklearn.preprocessing import StandardScaler\n",
    "from sklearn.model_selection import train_test_split\n",
    "\n",
    "SEED = 42"
   ]
  },
  {
   "cell_type": "code",
   "execution_count": 2,
   "metadata": {},
   "outputs": [],
   "source": [
    "# Top6 from Rick\n",
    "# datadir = Path('../data/processed/topN/topNrick/')\n",
    "# datapath = datadir/'uniq.top6.reg.parquet'\n",
    "\n",
    "# Top6 from code\n",
    "datadir = Path('../data/processed/topN/topNcode/')\n",
    "datapath = datadir/'top_6.res_reg.cf_rnaseq.dd_dragon7.labled.parquet'"
   ]
  },
  {
   "cell_type": "markdown",
   "metadata": {},
   "source": [
    "# Create mini Top6"
   ]
  },
  {
   "cell_type": "code",
   "execution_count": 3,
   "metadata": {},
   "outputs": [],
   "source": [
    "# data = pd.read_parquet(datapath, engine='auto', columns=None)\n",
    "# data = data.sample(frac=1.0, axis=0, random_state=SEED).reset_index(drop=True)\n",
    "# print(data.shape)\n",
    "\n",
    "# col_idx = data.nunique(dropna=True).values == 1  # col indexes to drop\n",
    "# data = data.iloc[:, ~col_idx]\n",
    "# print(data.shape)\n",
    "\n",
    "# def subset(data, s):\n",
    "#     if s <= 1.0:\n",
    "#         data_size = int(data.shape[0]*s)\n",
    "#     return data[:data_size]\n",
    "\n",
    "# data = subset(data, s=0.3)\n",
    "# print(data.shape)\n",
    "# # data.to_csv(datadir/'uniq.top6.reg.mini.csv', index=False)\n",
    "# data.to_parquet(datadir/'uniq.top6.reg.mini.parquet', index=False)\n",
    "\n",
    "# display(data[:3])"
   ]
  },
  {
   "cell_type": "markdown",
   "metadata": {},
   "source": [
    "# Load and pre-process"
   ]
  },
  {
   "cell_type": "code",
   "execution_count": 4,
   "metadata": {},
   "outputs": [
    {
     "name": "stdout",
     "output_type": "stream",
     "text": [
      "(85501, 3763)\n"
     ]
    }
   ],
   "source": [
    "# Load data\n",
    "# data = pd.read_csv(datadir/'uniq.top6.reg.mini.csv')\n",
    "data = pd.read_parquet(datadir/'uniq.top6.reg.mini.parquet')\n",
    "print(data.shape)\n",
    "\n",
    "if 'topNcode' in str(datadir):\n",
    "    data.drop(columns=['CELL', 'DRUG'], inplace=True)"
   ]
  },
  {
   "cell_type": "code",
   "execution_count": 5,
   "metadata": {},
   "outputs": [
    {
     "name": "stdout",
     "output_type": "stream",
     "text": [
      "(68400, 3761)\n",
      "(17101, 3761)\n"
     ]
    }
   ],
   "source": [
    "# Split train/test\n",
    "df_tr, df_te = train_test_split(data, test_size=0.2)\n",
    "df_tr = df_tr.reset_index(drop=True)\n",
    "df_te = df_te.reset_index(drop=True)\n",
    "print(df_tr.shape)\n",
    "print(df_te.shape)\n",
    "\n",
    "# Split features/target\n",
    "ytr, xtr = df_tr.iloc[:,0], df_tr.iloc[:,1:]\n",
    "yte, xte = df_te.iloc[:,0], df_te.iloc[:,1:]\n",
    "\n",
    "del data, df_tr, df_te"
   ]
  },
  {
   "cell_type": "code",
   "execution_count": 6,
   "metadata": {},
   "outputs": [
    {
     "name": "stdout",
     "output_type": "stream",
     "text": [
      "(68400, 3760)\n",
      "(17101, 3760)\n",
      "(68400,)\n",
      "(17101,)\n"
     ]
    }
   ],
   "source": [
    "# Scale\n",
    "col_names = xtr.columns\n",
    "\n",
    "scaler = StandardScaler()\n",
    "xtr = pd.DataFrame( scaler.fit_transform(xtr) ).astype(np.float32)\n",
    "xte = pd.DataFrame( scaler.transform(xte) ).astype(np.float32)\n",
    "\n",
    "xtr.columns = col_names\n",
    "xte.columns = col_names\n",
    "\n",
    "print(xtr.shape)\n",
    "print(xte.shape)\n",
    "print(ytr.shape)\n",
    "print(yte.shape)"
   ]
  },
  {
   "cell_type": "markdown",
   "metadata": {},
   "source": [
    "# PyTorch\n",
    "https://nbviewer.jupyter.org/github/FraPochetti/KagglePlaygrounds/blob/master/NYC%20Taxi%20Fares%20Prediction.ipynb"
   ]
  },
  {
   "cell_type": "code",
   "execution_count": 7,
   "metadata": {},
   "outputs": [
    {
     "name": "stdout",
     "output_type": "stream",
     "text": [
      "1.1.0\n"
     ]
    }
   ],
   "source": [
    "import torch\n",
    "from torch import nn, optim\n",
    "from torch.optim import lr_scheduler\n",
    "import torch.nn.functional as F\n",
    "from torch.utils.data import Dataset, DataLoader\n",
    "print(torch.__version__)"
   ]
  },
  {
   "cell_type": "code",
   "execution_count": 8,
   "metadata": {},
   "outputs": [
    {
     "name": "stdout",
     "output_type": "stream",
     "text": [
      "x.shape torch.Size([3, 2])\n",
      "y.shape torch.Size([2, 1])\n",
      "\n",
      "x\n",
      " tensor([[1., 2.],\n",
      "        [3., 1.],\n",
      "        [2., 3.]])\n",
      "\n",
      "y\n",
      " tensor([[2.],\n",
      "        [1.]])\n",
      "\n",
      "x * y\n",
      " tensor([[4.],\n",
      "        [7.],\n",
      "        [7.]])\n"
     ]
    }
   ],
   "source": [
    "x =  torch.Tensor([[1, 2, 3], [1, 2, 3]]).view(-1, 2)\n",
    "y =  torch.Tensor([[2, 1]]).view(2, -1)\n",
    "\n",
    "print('x.shape', x.shape)\n",
    "print('y.shape', y.shape)\n",
    "\n",
    "print('\\nx\\n', x)\n",
    "print('\\ny\\n', y)\n",
    "print('\\nx * y\\n', torch.mm(x, y))"
   ]
  },
  {
   "cell_type": "code",
   "execution_count": 9,
   "metadata": {},
   "outputs": [],
   "source": [
    "# # Convert pandas df to torch tensors\n",
    "# def np_to_tensor(a, dtype=torch.float32):\n",
    "#     \"\"\" Convert np arr to tensor. \"\"\"\n",
    "#     return torch.tensor(a, dtype=dtype)\n",
    "\n",
    "# # xtr, ytr, xte, yte = map(np_to_tensor, (xtr.values, ytr.values, xte.values, yte.values))\n",
    "\n",
    "# xtr = np_to_tensor(xtr.values, dtype=torch.float32)\n",
    "# ytr = np_to_tensor(ytr.values, dtype=torch.float32)\n",
    "# xte = np_to_tensor(xte.values, dtype=torch.float32)\n",
    "# yte = np_to_tensor(yte.values, dtype=torch.float32)\n",
    "\n",
    "# print(type(xtr))\n",
    "# print(xtr.dtype)"
   ]
  },
  {
   "cell_type": "markdown",
   "metadata": {},
   "source": [
    "# Dataset"
   ]
  },
  {
   "cell_type": "code",
   "execution_count": 10,
   "metadata": {},
   "outputs": [],
   "source": [
    "class Top6Dataset(Dataset):\n",
    "    # discuss.pytorch.org/t/data-processing-as-a-batch-way/14154\n",
    "    # github.com/utkuozbulak/pytorch-custom-dataset-examples#incorporating-pandas\n",
    "    # nbviewer.jupyter.org/github/FraPochetti/KagglePlaygrounds/blob/master/NYC%20Taxi%20Fares%20Prediction.ipynb\n",
    "    def __init__(self,\n",
    "                 xdata: pd.DataFrame,\n",
    "                 ydata: pd.DataFrame):\n",
    "        # xdata and ydata are pandas dfs\n",
    "        xdata = pd.DataFrame(xdata).values\n",
    "        ydata = pd.DataFrame(ydata).values\n",
    "        self.x = torch.tensor(xdata, dtype=torch.float32)\n",
    "        self.y = torch.tensor(ydata, dtype=torch.float32)\n",
    "        self.y = self.y.view(-1, 1)\n",
    "        \n",
    "        # xdata and ydata are torch tensors\n",
    "        #self.x = xdata\n",
    "        #self.y = ydata\n",
    "        #self.y = self.y.view(-1, 1)        \n",
    "        \n",
    "    def __len__(self):\n",
    "        return len(self.y)\n",
    "        \n",
    "    def __getitem__(self, idx):\n",
    "        x = self.x[idx, :]\n",
    "        y = self.y[idx]\n",
    "        return x, y"
   ]
  },
  {
   "cell_type": "code",
   "execution_count": 11,
   "metadata": {},
   "outputs": [],
   "source": [
    "tr_ds = Top6Dataset(xdata=xtr, ydata=ytr)\n",
    "vl_ds = Top6Dataset(xdata=xte, ydata=yte)"
   ]
  },
  {
   "cell_type": "markdown",
   "metadata": {},
   "source": [
    "# Dataloaders"
   ]
  },
  {
   "cell_type": "code",
   "execution_count": 12,
   "metadata": {},
   "outputs": [],
   "source": [
    "# Define data loaders\n",
    "batch_size = 32\n",
    "num_workers = 1\n",
    "tr_loader_kwargs = {'batch_size': batch_size, 'shuffle': True, 'num_workers': num_workers}\n",
    "vl_loader_kwargs = {'batch_size': 4*batch_size, 'shuffle': False, 'num_workers': num_workers}\n",
    "\n",
    "tr_loader = DataLoader(tr_ds, **tr_loader_kwargs)\n",
    "vl_loader = DataLoader(vl_ds, **vl_loader_kwargs)"
   ]
  },
  {
   "cell_type": "code",
   "execution_count": 13,
   "metadata": {},
   "outputs": [],
   "source": [
    "# xb, yb = next(iter(tr_loader))\n",
    "# print(xb.shape)\n",
    "# print(yb.shape)\n",
    "# print(xb[:2])\n",
    "# print(yb[:2])"
   ]
  },
  {
   "cell_type": "markdown",
   "metadata": {},
   "source": [
    "# Network"
   ]
  },
  {
   "cell_type": "code",
   "execution_count": 14,
   "metadata": {},
   "outputs": [],
   "source": [
    "class NN_REG(nn.Module):\n",
    "    def __init__(self, input_dim):\n",
    "        super().__init__()\n",
    "        self.fc1 = nn.Linear(input_dim, 1000)\n",
    "        self.fc2 = nn.Linear(1000, 1000)\n",
    "        self.fc3 = nn.Linear(1000, 500)\n",
    "        self.fc4 = nn.Linear(500, 250)\n",
    "        self.fc5 = nn.Linear(250, 125)\n",
    "        self.fc6 = nn.Linear(125, 60)\n",
    "        self.fc7 = nn.Linear(60, 30)\n",
    "        self.fc8 = nn.Linear(30, 1)\n",
    "        self.dropout = nn.Dropout(0.2)\n",
    "        \n",
    "    def forward(self, x):\n",
    "        x = self.dropout(F.relu(self.fc1(x)))\n",
    "        x = self.dropout(F.relu(self.fc2(x)))\n",
    "        x = self.dropout(F.relu(self.fc3(x)))\n",
    "        x = self.dropout(F.relu(self.fc4(x)))\n",
    "        x = self.dropout(F.relu(self.fc5(x)))\n",
    "        x = self.dropout(F.relu(self.fc6(x)))\n",
    "        x = self.dropout(F.relu(self.fc7(x)))\n",
    "        x = F.relu(self.fc8(x))\n",
    "        return x"
   ]
  },
  {
   "cell_type": "code",
   "execution_count": 15,
   "metadata": {},
   "outputs": [],
   "source": [
    "class NN_REG(nn.Module):\n",
    "    def __init__(self, input_dim, dr_rate=0.2):\n",
    "        super().__init__()\n",
    "        self.fc1 = nn.Linear(input_dim, 1000)\n",
    "        self.fc2 = nn.Linear(1000, 500)\n",
    "        self.fc3 = nn.Linear(500, 250)\n",
    "        self.fc4 = nn.Linear(250, 60)\n",
    "        self.fc5 = nn.Linear(60, 1)\n",
    "        self.dropout = nn.Dropout(dr_rate)\n",
    "        \n",
    "    def forward(self, x):\n",
    "        x = self.dropout(F.relu(self.fc1(x)))\n",
    "        x = self.dropout(F.relu(self.fc2(x)))\n",
    "        x = self.dropout(F.relu(self.fc3(x)))\n",
    "        x = self.dropout(F.relu(self.fc4(x)))\n",
    "        x = F.relu(self.fc5(x))\n",
    "        return x"
   ]
  },
  {
   "cell_type": "code",
   "execution_count": 16,
   "metadata": {},
   "outputs": [],
   "source": [
    "def weight_init_linear(m: nn.Module):\n",
    "    # Weight initialization\n",
    "    \"\"\"\n",
    "    Pytorch initializes the layers by default (e.g., Linear uses kaiming_uniform_)\n",
    "    www.deeplearningwizard.com/deep_learning/boosting_models_pytorch/weight_initialization_activation_functions/\n",
    "    stackoverflow.com/questions/49433936/how-to-initialize-weights-in-pytorch\n",
    "    github.com/xduan7/UnoPytorch/blob/master/networks/initialization/weight_init.py\n",
    "    \"\"\"\n",
    "    if type(m) == nn.Linear:\n",
    "        torch.nn.init.xavier_uniform(m.weight)\n",
    "        m.bias.data.fill_(0.01)"
   ]
  },
  {
   "cell_type": "markdown",
   "metadata": {},
   "source": [
    "# Model to CUDA"
   ]
  },
  {
   "cell_type": "code",
   "execution_count": 17,
   "metadata": {},
   "outputs": [],
   "source": [
    "def get_model_device(model):\n",
    "    return str(next(model.parameters()).device)"
   ]
  },
  {
   "cell_type": "code",
   "execution_count": 18,
   "metadata": {},
   "outputs": [],
   "source": [
    "# device = torch.device('cuda') if torch.cuda.is_available() else torch.device(\"cpu\")\n",
    "# print(device)"
   ]
  },
  {
   "cell_type": "code",
   "execution_count": 19,
   "metadata": {},
   "outputs": [
    {
     "name": "stdout",
     "output_type": "stream",
     "text": [
      "is_available:   True\n",
      "device_name:    GeForce RTX 2080 Ti\n",
      "device_count:   4\n",
      "current_device: 0\n"
     ]
    }
   ],
   "source": [
    "# pytorch.org/docs/stable/cuda.html\n",
    "# towardsdatascience.com/speed-up-your-algorithms-part-1-pytorch-56d8a4ae7051\n",
    "print('is_available:  ', torch.cuda.is_available())\n",
    "print('device_name:   ', torch.cuda.get_device_name(0))\n",
    "print('device_count:  ', torch.cuda.device_count())\n",
    "print('current_device:', torch.cuda.current_device())"
   ]
  },
  {
   "cell_type": "code",
   "execution_count": 20,
   "metadata": {},
   "outputs": [
    {
     "name": "stdout",
     "output_type": "stream",
     "text": [
      "cuda:3\n",
      "current_device: 0\n"
     ]
    }
   ],
   "source": [
    "# Choose device\n",
    "device = torch.device('cuda:3')\n",
    "\n",
    "# Move model to CUDA device\n",
    "model = NN_REG(input_dim=tr_ds.x.shape[1]).to(device) # send model to gpu/cpu device\n",
    "model.apply(weight_init_linear)\n",
    "\n",
    "# Query device where the model is located\n",
    "print(get_model_device(model))\n",
    "print('current_device:', torch.cuda.current_device()) # why current device is 0??"
   ]
  },
  {
   "cell_type": "code",
   "execution_count": 21,
   "metadata": {},
   "outputs": [],
   "source": [
    "# if device.type == 'cuda':\n",
    "#     print(get_model_device(model))\n",
    "#     print('Memory Usage:')\n",
    "#     print('Allocated:', round(torch.cuda.memory_allocated(0)/1024**3, 1), 'GB')\n",
    "#     print('Cached:   ', round(torch.cuda.memory_cached(0)/1024**3, 1), 'GB')"
   ]
  },
  {
   "cell_type": "code",
   "execution_count": 22,
   "metadata": {},
   "outputs": [],
   "source": [
    "# # Choose cuda device with context manager\n",
    "# with torch.cuda.device(2):\n",
    "#     print('\\ncurrent_device:', torch.cuda.current_device())\n",
    "#     model = NN_REG(input_dim=tr_ds.x.shape[1]).to(device=device)\n",
    "# print('current_device:', torch.cuda.current_device())"
   ]
  },
  {
   "cell_type": "markdown",
   "metadata": {},
   "source": [
    "# Loss function and optimizer"
   ]
  },
  {
   "cell_type": "code",
   "execution_count": 23,
   "metadata": {},
   "outputs": [],
   "source": [
    "loss_fnc = nn.MSELoss(reduction='mean')\n",
    "opt = optim.SGD(model.parameters(), lr=1e-4, momentum=0.9)  # pytorch.org/docs/stable/optim.html\n",
    "# lr_scheduler = torch.optim.lr_scheduler.CyclicLR(optimizer=opt, base_lr=1e-5, max_lr=1e-3, mode='triangular')"
   ]
  },
  {
   "cell_type": "markdown",
   "metadata": {},
   "source": [
    "### Try a single training iteration"
   ]
  },
  {
   "cell_type": "code",
   "execution_count": 24,
   "metadata": {},
   "outputs": [
    {
     "name": "stdout",
     "output_type": "stream",
     "text": [
      "cuda:3\n",
      "cuda:3\n",
      "pred.shape torch.Size([32, 1])\n",
      "yb.shape torch.Size([32, 1])\n",
      "yb.shape torch.Size([32, 1])\n",
      "\n",
      "pred:\n",
      " tensor([[0.4251],\n",
      "        [0.4424],\n",
      "        [0.0000]], device='cuda:3', grad_fn=<SliceBackward>)\n",
      "yy:\n",
      " tensor([[1.0000],\n",
      "        [0.9567],\n",
      "        [0.9802]], device='cuda:3')\n",
      "pred:\n",
      " tensor([[0.4251],\n",
      "        [0.4424],\n",
      "        [0.0000]], device='cuda:3', grad_fn=<SliceBackward>)\n"
     ]
    }
   ],
   "source": [
    "xx, yy = next(iter(tr_loader))\n",
    "xx = xx.to(device)\n",
    "yy = yy.to(device)\n",
    "print(xx.device)\n",
    "print(yy.device)\n",
    "\n",
    "# Forward\n",
    "opt.zero_grad()\n",
    "pred = model(xx)\n",
    "\n",
    "print(f'pred.shape {pred.shape}')\n",
    "print(f'yb.shape {yy.shape}')\n",
    "yy = yy.view(pred.shape)\n",
    "print(f'yb.shape {yy.shape}\\n')\n",
    "\n",
    "print('pred:\\n', pred[:3])\n",
    "print('yy:\\n', yy[:3])\n",
    "pred = pred.type(torch.float32)\n",
    "print('pred:\\n', pred[:3])\n",
    "\n",
    "# Backprop\n",
    "loss = loss_fnc(pred, yy)\n",
    "loss.backward() # compute loss gradients wrt to model parameters and inputs\n",
    "opt.step()      # update model parameters;  pytorch.org/docs/stable/optim.html"
   ]
  },
  {
   "cell_type": "code",
   "execution_count": 25,
   "metadata": {},
   "outputs": [],
   "source": [
    "# print(f'pred.shape {pred.shape}')\n",
    "# print(f'yb.shape   {yb.shape}\\n')\n",
    "# mae = torch.abs(pred - yb)\n",
    "# r2_torch(y_true=yb, y_pred=pred)"
   ]
  },
  {
   "cell_type": "markdown",
   "metadata": {},
   "source": [
    "## Training loop"
   ]
  },
  {
   "cell_type": "code",
   "execution_count": 26,
   "metadata": {},
   "outputs": [],
   "source": [
    "# discuss.pytorch.org/t/what-does-torch-backends-cudnn-benchmark-do/5936\n",
    "# groups.google.com/forum/#!topic/torch7/CkB57025yRY\n",
    "# torch.backends.cudnn.benchmark = True"
   ]
  },
  {
   "cell_type": "code",
   "execution_count": 27,
   "metadata": {},
   "outputs": [],
   "source": [
    "def r2_torch(y_true, y_pred):\n",
    "    epsilon = 1e-7  # this epsilon value used in TF\n",
    "    SS_res = torch.sum( (y_true - y_pred)**2 )\n",
    "    SS_tot = torch.sum( (y_true - torch.mean(y_true))**2 )\n",
    "    r2 = 1 - SS_res / (SS_tot + epsilon)\n",
    "    return r2"
   ]
  },
  {
   "cell_type": "code",
   "execution_count": 28,
   "metadata": {},
   "outputs": [],
   "source": [
    "# def calc_reg_scores(pred, true, metrics, val=False):\n",
    "#     prfx = 'val_' if val is True else '' \n",
    "#     scores = {}\n",
    "    \n",
    "#     for m in metrics:\n",
    "#         if 'loss' in m:\n",
    "#             continue\n",
    "            \n",
    "#         elif m in ['mean_abs_err', 'mean_absolute_error']:\n",
    "#             scores[prfx + 'mean_abs_err'] = torch.mean(torch.abs(pred-true))\n",
    "\n",
    "#         elif m in ['median_abs_err', 'median_absolute_error']:\n",
    "#             scores[prfx + 'median_abs_err'] = torch.median(torch.abs(pred-true))\n",
    "\n",
    "#         elif m in ['mean_sqrd_err', 'mean_squared_error']:\n",
    "#             scores[prfx + 'mean_sqrd_err'] = torch.mean(torch.pow(pred-true, 0.5))  # or torch.mean(torch.sqrt(pred-true))\n",
    "            \n",
    "#         elif m in ['r2', 'r2_score']:\n",
    "#             scores[prfx + 'r2'] = r2_torch(y_true=true, y_pred=pred)\n",
    "            \n",
    "#     return scores"
   ]
  },
  {
   "cell_type": "code",
   "execution_count": 29,
   "metadata": {},
   "outputs": [],
   "source": [
    "def update_scores_reg(pred, true, scores):\n",
    "    \"\"\" Updates score metrics for regression ML predictions.\n",
    "    The scores are summed for every call of the function (single func call corresponds a single batch).\n",
    "    \n",
    "    Note: these must be implemented with pytroch commands! Otherwise, results gives error:\n",
    "    RuntimeError: Can't call numpy() on Variable that requires grad. Use var.detach().numpy() instead.   \n",
    "    pred, true = pred.numpy(), yy.numpy()\n",
    "    tr_mae += sklearn.metrics.mean_absolute_error(true, pred)\n",
    "    tr_r2 += sklearn.metrics.r2_score(true, pred)\n",
    "    \"\"\"\n",
    "    for m in scores.keys():\n",
    "        if 'loss' in m:\n",
    "            continue\n",
    "            \n",
    "        elif any([True if v in m else False for v in ['mean_abs_err', 'mean_absolute_error']]):\n",
    "            scores[m] += torch.mean( torch.abs(pred-true) ).item()\n",
    "\n",
    "        elif any([True if v in m else False for v in ['median_abs_err', 'median_absolute_error']]):\n",
    "            scores[m] += torch.median( torch.abs(pred-true) ).item()\n",
    "\n",
    "        elif any([True if v in m else False for v in ['mean_sqrd_err', 'mean_squared_error']]):\n",
    "            scores[m] += torch.mean( torch.pow(pred-true, 0.5) ).item()  # or torch.mean(torch.sqrt(pred-true))\n",
    "            \n",
    "        elif any([True if v in m else False for v in ['r2', 'r2_score']]):\n",
    "            scores[m] += r2_torch(y_true=true, y_pred=pred).item()\n",
    "            \n",
    "    return scores"
   ]
  },
  {
   "cell_type": "code",
   "execution_count": 30,
   "metadata": {},
   "outputs": [],
   "source": [
    "# def proc_batch(xx, yy, model, loss_fnc, opt=None):\n",
    "def proc_batch(xx_dct, yy, model, loss_fnc, opt=None):\n",
    "    \"\"\" \n",
    "    Args:\n",
    "        opt (torch.optim) : no backprop is performed if optimizer is not provided (for val or test) \n",
    "    \"\"\"\n",
    "    # pred = model(xx)\n",
    "    # loss = loss_fnc(pred, yy)\n",
    "    \n",
    "    pred = model(**xx_dct)\n",
    "    pred = pred.type(yy.dtype)\n",
    "    loss = loss_fnc(pred, yy)\n",
    "    \n",
    "    # Backward pass\n",
    "    if opt is not None:\n",
    "        opt.zero_grad()\n",
    "        loss.backward()\n",
    "        opt.step()\n",
    "        \n",
    "    return loss, pred"
   ]
  },
  {
   "cell_type": "code",
   "execution_count": 33,
   "metadata": {},
   "outputs": [],
   "source": [
    "def fit(model: nn.Module,\n",
    "        loss_fnc,\n",
    "        opt: torch.optim,\n",
    "        tr_dl: torch.utils.data.DataLoader,\n",
    "        vl_dl: torch.utils.data.DataLoader=None,\n",
    "        epochs: int=1,\n",
    "        device: torch.device='cuda:0',\n",
    "        verbose: bool=True,\n",
    "        metrics=[]) -> dict:\n",
    "    \"\"\" github.com/stared/livelossplot/blob/master/examples/pytorch.ipynb\n",
    "    Args:\n",
    "        metrics (list) : list of metric scores to log\n",
    "            (available metrics: 'mean_abs_err','median_abs_err', 'mean_sqrd_err', 'r2)\n",
    "    \"\"\" \n",
    "    print(f'Arg `device`: {device}')\n",
    "    model.to(device)\n",
    "    print('current_device:', torch.cuda.current_device())\n",
    "    \n",
    "    # Choose cuda device with context manager --> try using context manager!!!\n",
    "    # with torch.cuda.device(device):\n",
    "        \n",
    "    # Create dicts to log scores\n",
    "    if vl_dl is None:\n",
    "        logs = OrderedDict({'loss': []})\n",
    "        logs.update(OrderedDict({m: [] for m in metrics}))        \n",
    "    else:\n",
    "        logs = OrderedDict({'loss': [], 'val_loss': []})\n",
    "        for m in metrics: logs.update(OrderedDict({m: [], 'val_'+m: []}))\n",
    "    \n",
    "    # Iter over epochs\n",
    "    phases = ['train', 'val'] if vl_dl is not None else ['train']\n",
    "    for ep in range(epochs):\n",
    "        ep_t0 = time()\n",
    "        # lr_scheduler.step()\n",
    "        \n",
    "        for ph in phases:\n",
    "            if ph == 'train':\n",
    "                model.train()\n",
    "                dl = tr_dl\n",
    "                scores = {m: 0 for m in logs.keys() if 'val' not in m}\n",
    "                loss_name = 'loss'\n",
    "            elif ph == 'val':\n",
    "                model.eval()\n",
    "                dl = vl_dl\n",
    "                scores = {m: 0 for m in logs.keys() if 'val' in m}\n",
    "                loss_name = 'val_loss'\n",
    "\n",
    "            # Iter over batches\n",
    "            for xx, yy in dl:\n",
    "                yy = yy.to(device)\n",
    "                xx = xx.to(device)\n",
    "                xx_dct = {'x': xx} # new\n",
    "                \n",
    "                # Process batch\n",
    "                if ph == 'train':\n",
    "                    # loss, pred = proc_batch(xx, yy, model=model, loss_fnc=loss_fnc, opt=opt) # new\n",
    "                    loss, pred = proc_batch(xx_dct, yy, model=model, loss_fnc=loss_fnc, opt=opt) # new\n",
    "                else:\n",
    "                    # loss, pred = proc_batch(xx, yy, model=model, loss_fnc=loss_fnc, opt=None) # new\n",
    "                    loss, pred = proc_batch(xx_dct, yy, model=model, loss_fnc=loss_fnc, opt=None) # new\n",
    "\n",
    "                # Compute metrics (running avg)\n",
    "                scores[loss_name] += loss.item()\n",
    "                scores = update_scores_reg(pred=pred, true=yy, scores=scores)\n",
    "            \n",
    "            # Log scores\n",
    "            for m in scores.keys():\n",
    "                logs[m].append(scores[m]/len(dl))\n",
    "            \n",
    "        del xx, yy, loss, pred, scores\n",
    "        \n",
    "        if verbose:\n",
    "            print(f'Epoch {ep+1}/{epochs}; ',\n",
    "                  f'{int(time()-ep_t0)}s; ',\n",
    "                  [f'{k}: {v[-1]:.3f}' for k, v in logs.items()])\n",
    "            \n",
    "        # TODO: log scores into file\n",
    "\n",
    "    return logs"
   ]
  },
  {
   "cell_type": "code",
   "execution_count": 35,
   "metadata": {},
   "outputs": [
    {
     "name": "stdout",
     "output_type": "stream",
     "text": [
      "Arg `device`: cuda:3\n",
      "current_device: 0\n",
      "Epoch 1/30;  7s;  ['loss: 0.015', 'val_loss: 0.014', 'mean_abs_err: 0.093', 'val_mean_abs_err: 0.092', 'r2: 0.259', 'val_r2: 0.355']\n",
      "Epoch 2/30;  8s;  ['loss: 0.015', 'val_loss: 0.014', 'mean_abs_err: 0.093', 'val_mean_abs_err: 0.091', 'r2: 0.258', 'val_r2: 0.361']\n",
      "Epoch 3/30;  7s;  ['loss: 0.015', 'val_loss: 0.014', 'mean_abs_err: 0.092', 'val_mean_abs_err: 0.090', 'r2: 0.263', 'val_r2: 0.365']\n",
      "Epoch 4/30;  8s;  ['loss: 0.015', 'val_loss: 0.014', 'mean_abs_err: 0.092', 'val_mean_abs_err: 0.091', 'r2: 0.269', 'val_r2: 0.364']\n",
      "Epoch 5/30;  8s;  ['loss: 0.015', 'val_loss: 0.014', 'mean_abs_err: 0.092', 'val_mean_abs_err: 0.088', 'r2: 0.267', 'val_r2: 0.376']\n",
      "Epoch 6/30;  7s;  ['loss: 0.015', 'val_loss: 0.014', 'mean_abs_err: 0.092', 'val_mean_abs_err: 0.089', 'r2: 0.270', 'val_r2: 0.374']\n",
      "Epoch 7/30;  7s;  ['loss: 0.015', 'val_loss: 0.014', 'mean_abs_err: 0.092', 'val_mean_abs_err: 0.090', 'r2: 0.272', 'val_r2: 0.369']\n",
      "Epoch 8/30;  7s;  ['loss: 0.015', 'val_loss: 0.014', 'mean_abs_err: 0.092', 'val_mean_abs_err: 0.090', 'r2: 0.277', 'val_r2: 0.372']\n",
      "Epoch 9/30;  8s;  ['loss: 0.015', 'val_loss: 0.014', 'mean_abs_err: 0.091', 'val_mean_abs_err: 0.089', 'r2: 0.280', 'val_r2: 0.377']\n",
      "Epoch 10/30;  7s;  ['loss: 0.015', 'val_loss: 0.013', 'mean_abs_err: 0.091', 'val_mean_abs_err: 0.088', 'r2: 0.281', 'val_r2: 0.383']\n",
      "Epoch 11/30;  8s;  ['loss: 0.015', 'val_loss: 0.013', 'mean_abs_err: 0.091', 'val_mean_abs_err: 0.088', 'r2: 0.283', 'val_r2: 0.384']\n",
      "Epoch 12/30;  8s;  ['loss: 0.015', 'val_loss: 0.013', 'mean_abs_err: 0.091', 'val_mean_abs_err: 0.089', 'r2: 0.283', 'val_r2: 0.382']\n",
      "Epoch 13/30;  8s;  ['loss: 0.015', 'val_loss: 0.013', 'mean_abs_err: 0.091', 'val_mean_abs_err: 0.088', 'r2: 0.285', 'val_r2: 0.387']\n",
      "Epoch 14/30;  8s;  ['loss: 0.015', 'val_loss: 0.013', 'mean_abs_err: 0.091', 'val_mean_abs_err: 0.088', 'r2: 0.283', 'val_r2: 0.384']\n",
      "Epoch 15/30;  8s;  ['loss: 0.015', 'val_loss: 0.013', 'mean_abs_err: 0.090', 'val_mean_abs_err: 0.089', 'r2: 0.293', 'val_r2: 0.383']\n",
      "Epoch 16/30;  8s;  ['loss: 0.015', 'val_loss: 0.013', 'mean_abs_err: 0.090', 'val_mean_abs_err: 0.087', 'r2: 0.287', 'val_r2: 0.390']\n",
      "Epoch 17/30;  7s;  ['loss: 0.015', 'val_loss: 0.013', 'mean_abs_err: 0.090', 'val_mean_abs_err: 0.087', 'r2: 0.292', 'val_r2: 0.393']\n",
      "Epoch 18/30;  7s;  ['loss: 0.014', 'val_loss: 0.013', 'mean_abs_err: 0.090', 'val_mean_abs_err: 0.087', 'r2: 0.291', 'val_r2: 0.392']\n",
      "Epoch 19/30;  8s;  ['loss: 0.014', 'val_loss: 0.013', 'mean_abs_err: 0.090', 'val_mean_abs_err: 0.088', 'r2: 0.298', 'val_r2: 0.392']\n",
      "Epoch 20/30;  8s;  ['loss: 0.014', 'val_loss: 0.013', 'mean_abs_err: 0.090', 'val_mean_abs_err: 0.087', 'r2: 0.300', 'val_r2: 0.395']\n",
      "Epoch 21/30;  8s;  ['loss: 0.014', 'val_loss: 0.013', 'mean_abs_err: 0.090', 'val_mean_abs_err: 0.087', 'r2: 0.301', 'val_r2: 0.395']\n",
      "Epoch 22/30;  8s;  ['loss: 0.014', 'val_loss: 0.013', 'mean_abs_err: 0.089', 'val_mean_abs_err: 0.087', 'r2: 0.304', 'val_r2: 0.397']\n",
      "Epoch 23/30;  8s;  ['loss: 0.014', 'val_loss: 0.013', 'mean_abs_err: 0.089', 'val_mean_abs_err: 0.086', 'r2: 0.306', 'val_r2: 0.401']\n",
      "Epoch 24/30;  7s;  ['loss: 0.014', 'val_loss: 0.013', 'mean_abs_err: 0.089', 'val_mean_abs_err: 0.088', 'r2: 0.307', 'val_r2: 0.395']\n",
      "Epoch 25/30;  7s;  ['loss: 0.014', 'val_loss: 0.013', 'mean_abs_err: 0.089', 'val_mean_abs_err: 0.086', 'r2: 0.307', 'val_r2: 0.403']\n",
      "Epoch 26/30;  8s;  ['loss: 0.014', 'val_loss: 0.013', 'mean_abs_err: 0.089', 'val_mean_abs_err: 0.086', 'r2: 0.308', 'val_r2: 0.404']\n",
      "Epoch 27/30;  7s;  ['loss: 0.014', 'val_loss: 0.013', 'mean_abs_err: 0.089', 'val_mean_abs_err: 0.086', 'r2: 0.309', 'val_r2: 0.405']\n",
      "Epoch 28/30;  8s;  ['loss: 0.014', 'val_loss: 0.013', 'mean_abs_err: 0.089', 'val_mean_abs_err: 0.086', 'r2: 0.312', 'val_r2: 0.407']\n",
      "Epoch 29/30;  7s;  ['loss: 0.014', 'val_loss: 0.013', 'mean_abs_err: 0.089', 'val_mean_abs_err: 0.086', 'r2: 0.312', 'val_r2: 0.408']\n",
      "Epoch 30/30;  7s;  ['loss: 0.014', 'val_loss: 0.013', 'mean_abs_err: 0.088', 'val_mean_abs_err: 0.086', 'r2: 0.314', 'val_r2: 0.409']\n"
     ]
    }
   ],
   "source": [
    "epochs = 30\n",
    "metrics = ['mean_abs_err', 'r2']\n",
    "verbose = True\n",
    "fit_kwargs = {'epochs': epochs, 'device': device, 'verbose': verbose, 'metrics': metrics}\n",
    "\n",
    "logs = fit(model=model,\n",
    "           loss_fnc=loss_fnc,\n",
    "           opt=opt,\n",
    "           tr_dl=tr_loader,\n",
    "           vl_dl=vl_loader,\n",
    "           **fit_kwargs)"
   ]
  },
  {
   "cell_type": "code",
   "execution_count": 36,
   "metadata": {},
   "outputs": [
    {
     "data": {
      "image/png": "[encoded data removed]",
      "text/plain": [
       "<Figure size 576x432 with 1 Axes>"
      ]
     },
     "metadata": {
      "needs_background": "light"
     },
     "output_type": "display_data"
    }
   ],
   "source": [
    "plt.figure(figsize=(8,6))\n",
    "\n",
    "# plt.plot(logs['loss'], label='loss');\n",
    "# plt.plot(logs['val_loss'], label='val_loss');\n",
    "# plt.legend(loc='best');\n",
    "\n",
    "# plt.plot(logs['mean_abs_err'], label='mean_abs_err');\n",
    "# plt.plot(logs['val_mean_abs_err'], label='val_mean_abs_err');\n",
    "# plt.legend(loc='best');\n",
    "\n",
    "plt.plot(logs['r2'], label='r2');\n",
    "plt.plot(logs['val_r2'], label='val_r2');\n",
    "plt.legend(loc='best');\n",
    "\n",
    "plt.legend(loc='best')\n",
    "plt.grid(True)"
   ]
  },
  {
   "cell_type": "code",
   "execution_count": 54,
   "metadata": {},
   "outputs": [],
   "source": [
    "# def fit(model: nn.Module,\n",
    "#         loss_fnc,\n",
    "#         opt: torch.optim,\n",
    "#         tr_dl: torch.utils.data.DataLoader,\n",
    "#         vl_dl: torch.utils.data.DataLoader=None,\n",
    "#         epochs: int=1,\n",
    "#         device: torch.device='cuda:0',\n",
    "#         verbose: bool=True,\n",
    "#         metrics=[]) -> dict:\n",
    "#     \"\"\" github.com/stared/livelossplot/blob/master/examples/pytorch.ipynb\n",
    "#     Args:\n",
    "#         metrics (list) : list of metric scores to log\n",
    "#             (available metrics: 'mean_abs_err','median_abs_err', 'mean_sqrd_err', 'r2)\n",
    "#     \"\"\" \n",
    "#     print(f'Arg `device`: {device}')\n",
    "#     model.to(device)\n",
    "#     print('current_device:', torch.cuda.current_device())\n",
    "    \n",
    "#     # Choose cuda device with context manager --> try using context manager!!!\n",
    "#     # with torch.cuda.device(device):\n",
    "        \n",
    "#     # Create dicts to log scores\n",
    "#     if vl_dl is None:\n",
    "#         logs = OrderedDict({'loss': []})\n",
    "#         logs.update(OrderedDict({m: [] for m in metrics}))        \n",
    "#     else:\n",
    "#         logs = OrderedDict({'loss': [], 'val_loss': []})\n",
    "#         for m in metrics: logs.update(OrderedDict({m: [], 'val_'+m: []}))\n",
    "    \n",
    "#     # Iter over epochs\n",
    "#     phases = ['train', 'val'] if vl_dl is not None else ['train']\n",
    "#     for ep in range(epochs):\n",
    "#         ep_t0 = time()\n",
    "        \n",
    "#         # -------------\n",
    "#         # Training loop\n",
    "#         # -------------\n",
    "#         model.train() # turns-on dropout for training\n",
    "#         tr_scores = {m: 0 for m in logs.keys() if 'val' not in m}\n",
    "        \n",
    "#         for xx, yy in tr_dl:\n",
    "#             xx = xx.to(device)\n",
    "#             yy = yy.to(device)\n",
    "            \n",
    "#             # Process batch\n",
    "#             loss, pred = proc_batch(xx, yy, model, loss_fnc, opt=opt)\n",
    "                  \n",
    "#             # Compute metrics (running avg)\n",
    "#             tr_scores['loss'] += loss.item()\n",
    "#             tr_scores = update_scores_reg(pred=pred, true=yy, scores=tr_scores)\n",
    "                \n",
    "#         for m in tr_scores.keys():\n",
    "#             print(m)\n",
    "#             logs[m].append(tr_scores[m]/len(tr_dl))\n",
    "                \n",
    "#         del xx, yy, loss, pred, tr_scores\n",
    "                \n",
    "#         # ---------------\n",
    "#         # Validation loop\n",
    "#         # ---------------        \n",
    "#         if vl_dl is not None:\n",
    "#             model.eval()  # turn-off dropout in inferenece\n",
    "#             vl_scores = {m: 0 for m in logs.keys() if 'val' in m}\n",
    "            \n",
    "#             with torch.no_grad():\n",
    "#                 for xx, yy in vl_dl:\n",
    "#                     xx = xx.to(device)\n",
    "#                     yy = yy.to(device)\n",
    "                    \n",
    "#                     # Process batch\n",
    "#                     loss, pred = proc_batch(xx, yy, model, loss_fnc, opt=None)\n",
    "                                \n",
    "#                     # Compute metrics at the end of each epoch (not the running avg across the batches)\n",
    "#                     vl_scores['val_loss'] += loss.item()\n",
    "#                     vl_scores = update_scores_reg(pred=pred, true=yy, scores=vl_scores)\n",
    "                        \n",
    "#                 # Update logs\n",
    "#                 for m in vl_scores.keys():\n",
    "#                     print(m)\n",
    "#                     logs[m].append(vl_scores[m]/len(vl_dl))\n",
    "        \n",
    "#                 del xx, yy, loss, pred, vl_scores\n",
    "        \n",
    "#         if verbose:\n",
    "#             print(f'Epoch {ep+1}/{epochs}; ',\n",
    "#                   f'{int(time()-ep_t0)}s; ',\n",
    "#                   [f'{k}: {v[-1]:.3f}' for k, v in logs.items()])\n",
    "#     return logs"
   ]
  },
  {
   "cell_type": "code",
   "execution_count": null,
   "metadata": {},
   "outputs": [],
   "source": [
    "# verbose = True\n",
    "# epochs = 10\n",
    "# logs = OrderedDict({'loss': [], 'val_loss': [],\n",
    "#                     'mean_abs_err': [], 'val_mean_abs_err': [],\n",
    "#                     'r2': [], 'val_r2': []})\n",
    "\n",
    "# # Choose cuda device with context manager\n",
    "# with torch.cuda.device(device):\n",
    "#     print('\\ncurrent_device:', torch.cuda.current_device())\n",
    "    \n",
    "#     for ep in range(epochs):\n",
    "#         ep_t0 = time()\n",
    "        \n",
    "#         # -------------\n",
    "#         # Training loop\n",
    "#         # -------------\n",
    "#         model.train() # turns-on dropout for training\n",
    "#         tr_loss, tr_mae, tr_r2 = 0, 0, 0\n",
    "\n",
    "#         for xx, yy in tr_loader:\n",
    "#             xx = xx.to(device) # move data to gpu/cpu device\n",
    "#             yy = yy.to(device) # move data to gpu/cpu device\n",
    "            \n",
    "#             # Feedforward\n",
    "#             pred = model(xx)\n",
    "#             loss = loss_fnc(pred, yy)\n",
    "\n",
    "#             # Backprop and optimization\n",
    "#             opt.zero_grad()\n",
    "#             loss.backward()   # compute loss gradients wrt to model parameters and inputs\n",
    "#             opt.step()  # update model parameters;  pytorch.org/docs/stable/optim.html\n",
    "            \n",
    "#             # Compute metrics\n",
    "#             tr_loss += loss.item() # item() returns a number from a tensor that contains a single value\n",
    "#             tr_mae += torch.mean(torch.abs(pred-yy))\n",
    "#             tr_r2 += r2_torch(y_true=yy, y_pred=pred)\n",
    "\n",
    "#         tr_loss /= len(tr_loader)\n",
    "#         tr_mae /= len(tr_loader)\n",
    "#         tr_r2 /= len(tr_loader)\n",
    "        \n",
    "#         logs['loss'].append(tr_loss)\n",
    "#         logs['mae'].append(tr_mae)\n",
    "#         logs['r2'].append(tr_r2)\n",
    "\n",
    "#         del xx, yy\n",
    "\n",
    "#         # ---------------\n",
    "#         # Validation loop\n",
    "#         # ---------------\n",
    "#         if vl_loader is not None:\n",
    "#             model.eval()  # turn-off dropout in inferenece\n",
    "#             with torch.no_grad():\n",
    "#                 vl_loss, vl_mae, vl_r2 = 0, 0, 0\n",
    "\n",
    "#                 for xx, yy in vl_loader:\n",
    "#                     xx = xx.to(device)\n",
    "#                     yy = yy.to(device)\n",
    "\n",
    "#                     # Feedforward\n",
    "#                     pred = model(xx)\n",
    "#                     loss = loss_fnc(pred, yy)\n",
    "\n",
    "#                     # Compute metrics\n",
    "#                     vl_loss += loss.item() # item() returns a number from a tensor that contains a single value\n",
    "#                     vl_mae += torch.mean(torch.abs(pred-yy))\n",
    "#                     vl_r2 += r2_torch(y_true=yy, y_pred=pred)\n",
    "\n",
    "#                 vl_loss /= len(vl_loader)\n",
    "#                 vl_mae /= len(vl_loader)\n",
    "#                 vl_r2 /= len(vl_loader)\n",
    "\n",
    "#                 logs['val_loss'].append(vl_loss)\n",
    "#                 logs['val_mae'].append(vl_mae)\n",
    "#                 logs['val_r2'].append(vl_r2)\n",
    "\n",
    "#                 del xx, yy\n",
    "\n",
    "# #         if verbose:\n",
    "# #             print(f'Epoch {ep+1}/{epochs}; ',\n",
    "# #                   f'{int(time()-t0)}s; '\n",
    "# #                   f'tr_loss: {tr_loss:.3f}; ',\n",
    "# #                   f'vl_loss: {vl_loss:.3f}; ',\n",
    "# #                   f'tr_mae: {tr_mae:.3f}; ',\n",
    "# #                   f'vl_mae: {vl_mae:.3f}; ',\n",
    "# #                   f'tr_r2: {tr_r2:.3f}; ',\n",
    "# #                   f'vl_r2: {vl_r2:.3f}; ')\n",
    "            \n",
    "#         if verbose:\n",
    "#             print(f'Epoch {ep+1}/{epochs}; ',\n",
    "#                   f'{int(time()-ep_t0)}s; ',\n",
    "#                   [f'{k}: {v[-1]:.3f}' for k, v in logs.items()])"
   ]
  },
  {
   "cell_type": "code",
   "execution_count": null,
   "metadata": {},
   "outputs": [],
   "source": []
  }
 ],
 "metadata": {
  "kernelspec": {
   "display_name": "Python [conda env:p1_] *",
   "language": "python",
   "name": "conda-env-p1_-py"
  },
  "language_info": {
   "codemirror_mode": {
    "name": "ipython",
    "version": 3
   },
   "file_extension": ".py",
   "mimetype": "text/x-python",
   "name": "python",
   "nbconvert_exporter": "python",
   "pygments_lexer": "ipython3",
   "version": "3.7.3"
  }
 },
 "nbformat": 4,
 "nbformat_minor": 2
}
