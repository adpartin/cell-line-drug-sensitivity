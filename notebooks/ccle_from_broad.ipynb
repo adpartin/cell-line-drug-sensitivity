{
 "cells": [
  {
   "cell_type": "markdown",
   "metadata": {},
   "source": [
    "The primary data source in this code comes from the main CCLE source (Broad Institute). Another source of data comes from https://ocg.cancer.gov/<br>\n",
    "\n",
    "1. **Broad Institute:**\n",
    "    - https://portals.broadinstitute.org/ccle/data\n",
    "\n",
    "\n",
    "2. **ocg.cancer.gov:**\n",
    "    - https://ocg.cancer.gov/ctd2-data-project/translational-genomics-research-institute-quantified-cancer-cell-line-encyclopedia\n",
    "    - ftp://caftpd.nci.nih.gov/pub/OCG-DCC/CTD2/TGen/CCLE_RNA-seq_Analysis/"
   ]
  },
  {
   "cell_type": "code",
   "execution_count": 1,
   "metadata": {},
   "outputs": [],
   "source": [
    "%load_ext autoreload\n",
    "%autoreload 2\n",
    "%matplotlib inline\n",
    "\n",
    "import os\n",
    "import sys\n",
    "from glob import glob\n",
    "from collections import OrderedDict\n",
    "import numpy as np\n",
    "import pandas as pd\n",
    "import matplotlib.pyplot as plt\n",
    "import seaborn as sns\n",
    "\n",
    "# Utils\n",
    "# file_path = os.getcwd()  # os.path.dirname(os.path.relpath(__file__))\n",
    "# utils_path = os.path.abspath(os.path.join(file_path, 'utils_py'))\n",
    "# sys.path.append(utils_path)\n",
    "# import utils_all as utils\n",
    "\n",
    "import warnings\n",
    "warnings.filterwarnings('ignore')\n",
    "\n",
    "SEED=0"
   ]
  },
  {
   "cell_type": "code",
   "execution_count": 2,
   "metadata": {},
   "outputs": [],
   "source": [
    "DATADIR = '~/work/jdacs/cell-line-data/ccle/from_broad_institute'"
   ]
  },
  {
   "cell_type": "code",
   "execution_count": null,
   "metadata": {},
   "outputs": [],
   "source": []
  },
  {
   "cell_type": "markdown",
   "metadata": {},
   "source": [
    "## Load cell metadata"
   ]
  },
  {
   "cell_type": "code",
   "execution_count": 3,
   "metadata": {},
   "outputs": [
    {
     "name": "stdout",
     "output_type": "stream",
     "text": [
      "(1046, 13)\n",
      "['CCLE name', 'Cell line primary name', 'Cell line aliases', 'Gender', 'Site Primary', 'Histology', 'Hist Subtype1', 'Notes', 'Source', 'Expression arrays', 'SNP arrays', 'Oncomap', 'Hybrid Capture Sequencing']\n"
     ]
    },
    {
     "data": {
      "text/html": [
       "<div>\n",
       "<style scoped>\n",
       "    .dataframe tbody tr th:only-of-type {\n",
       "        vertical-align: middle;\n",
       "    }\n",
       "\n",
       "    .dataframe tbody tr th {\n",
       "        vertical-align: top;\n",
       "    }\n",
       "\n",
       "    .dataframe thead th {\n",
       "        text-align: right;\n",
       "    }\n",
       "</style>\n",
       "<table border=\"1\" class=\"dataframe\">\n",
       "  <thead>\n",
       "    <tr style=\"text-align: right;\">\n",
       "      <th></th>\n",
       "      <th>CCLEName</th>\n",
       "      <th>CellName</th>\n",
       "      <th>CellNameAliases</th>\n",
       "      <th>Gender</th>\n",
       "      <th>SitePrimary</th>\n",
       "      <th>Histology</th>\n",
       "      <th>HistSubtype1</th>\n",
       "      <th>Notes</th>\n",
       "      <th>Source</th>\n",
       "      <th>ExpressionArrays</th>\n",
       "      <th>SNPArrays</th>\n",
       "      <th>Oncomap</th>\n",
       "      <th>Hybrid Capture Sequencing</th>\n",
       "    </tr>\n",
       "  </thead>\n",
       "  <tbody>\n",
       "    <tr>\n",
       "      <th>0</th>\n",
       "      <td>1321N1_CENTRAL_NERVOUS_SYSTEM</td>\n",
       "      <td>1321N1</td>\n",
       "      <td>NaN</td>\n",
       "      <td>M</td>\n",
       "      <td>central_nervous_system</td>\n",
       "      <td>glioma</td>\n",
       "      <td>astrocytoma</td>\n",
       "      <td>Identical lines: U-118 MG, U-138 MG and 1321N1...</td>\n",
       "      <td>ECACC</td>\n",
       "      <td>NIECE_p_NCLE_RNA3_HG-U133_Plus_2_B06_296024</td>\n",
       "      <td>HONEY_p_NCLE_DNAAffy3_S_GenomeWideSNP_6_E09_29...</td>\n",
       "      <td>yes</td>\n",
       "      <td>NaN</td>\n",
       "    </tr>\n",
       "    <tr>\n",
       "      <th>1</th>\n",
       "      <td>143B_BONE</td>\n",
       "      <td>143B</td>\n",
       "      <td>NaN</td>\n",
       "      <td>F</td>\n",
       "      <td>bone</td>\n",
       "      <td>osteosarcoma</td>\n",
       "      <td>NS</td>\n",
       "      <td>Identical lines: HTK-, HOS and 143B share high...</td>\n",
       "      <td>ATCC</td>\n",
       "      <td>MAKER_p_NCLE_RNA7_HG-U133_Plus_2_F09_454702</td>\n",
       "      <td>BOWER_p_NCLE_DNAAffy8_GenomeWideSNP_6_D02_464552</td>\n",
       "      <td>yes</td>\n",
       "      <td>NaN</td>\n",
       "    </tr>\n",
       "  </tbody>\n",
       "</table>\n",
       "</div>"
      ],
      "text/plain": [
       "                        CCLEName CellName CellNameAliases Gender  \\\n",
       "0  1321N1_CENTRAL_NERVOUS_SYSTEM   1321N1             NaN      M   \n",
       "1                      143B_BONE     143B             NaN      F   \n",
       "\n",
       "              SitePrimary     Histology HistSubtype1  \\\n",
       "0  central_nervous_system        glioma  astrocytoma   \n",
       "1                    bone  osteosarcoma           NS   \n",
       "\n",
       "                                               Notes Source  \\\n",
       "0  Identical lines: U-118 MG, U-138 MG and 1321N1...  ECACC   \n",
       "1  Identical lines: HTK-, HOS and 143B share high...   ATCC   \n",
       "\n",
       "                              ExpressionArrays  \\\n",
       "0  NIECE_p_NCLE_RNA3_HG-U133_Plus_2_B06_296024   \n",
       "1  MAKER_p_NCLE_RNA7_HG-U133_Plus_2_F09_454702   \n",
       "\n",
       "                                           SNPArrays Oncomap  \\\n",
       "0  HONEY_p_NCLE_DNAAffy3_S_GenomeWideSNP_6_E09_29...     yes   \n",
       "1   BOWER_p_NCLE_DNAAffy8_GenomeWideSNP_6_D02_464552     yes   \n",
       "\n",
       "  Hybrid Capture Sequencing  \n",
       "0                       NaN  \n",
       "1                       NaN  "
      ]
     },
     "metadata": {},
     "output_type": "display_data"
    }
   ],
   "source": [
    "cell_meta = pd.read_csv(os.path.join(DATADIR, 'cell_line_annotations/CCLE_sample_info_file_2012-10-18.txt'), sep='\\t')\n",
    "print(cell_meta.shape)\n",
    "print(cell_meta.columns.tolist())\n",
    "# display(cell_meta[:2])\n",
    "# cell_meta = cell_meta[['CCLE name', 'Cell line primary name', 'Cell line aliases', 'Gender',\n",
    "#                        'Site Primary', 'Histology', 'Hist Subtype1']]\n",
    "colNameMap = {'CCLE name': 'CCLEName', 'Cell line primary name': 'CellName',\n",
    "                          'Cell line aliases': 'CellNameAliases', 'Site Primary': 'SitePrimary',\n",
    "                          'Hist Subtype1': 'HistSubtype1', 'Expression arrays': 'ExpressionArrays', 'SNP arrays': 'SNPArrays'}\n",
    "cell_meta.rename(columns=colNameMap, inplace=True)\n",
    "display(cell_meta[:2])"
   ]
  },
  {
   "cell_type": "code",
   "execution_count": 4,
   "metadata": {},
   "outputs": [
    {
     "data": {
      "text/plain": [
       "CCLEName                     1046\n",
       "CellName                     1046\n",
       "CellNameAliases               194\n",
       "Gender                          3\n",
       "SitePrimary                    24\n",
       "Histology                      22\n",
       "HistSubtype1                   68\n",
       "Notes                          54\n",
       "Source                         10\n",
       "ExpressionArrays             1036\n",
       "SNPArrays                     995\n",
       "Oncomap                         1\n",
       "Hybrid Capture Sequencing       1\n",
       "dtype: int64"
      ]
     },
     "execution_count": 4,
     "metadata": {},
     "output_type": "execute_result"
    }
   ],
   "source": [
    "cell_meta.nunique()"
   ]
  },
  {
   "cell_type": "code",
   "execution_count": null,
   "metadata": {},
   "outputs": [],
   "source": []
  },
  {
   "cell_type": "markdown",
   "metadata": {},
   "source": [
    "## Load drug metadata"
   ]
  },
  {
   "cell_type": "code",
   "execution_count": 5,
   "metadata": {},
   "outputs": [
    {
     "name": "stdout",
     "output_type": "stream",
     "text": [
      "(24, 7)\n",
      "Drug             24\n",
      "DrugBrandName    14\n",
      "Target           22\n",
      "MechOfAction     20\n",
      "Class             3\n",
      "HighestPhase     13\n",
      "Organization     10\n",
      "dtype: int64\n"
     ]
    },
    {
     "data": {
      "text/html": [
       "<div>\n",
       "<style scoped>\n",
       "    .dataframe tbody tr th:only-of-type {\n",
       "        vertical-align: middle;\n",
       "    }\n",
       "\n",
       "    .dataframe tbody tr th {\n",
       "        vertical-align: top;\n",
       "    }\n",
       "\n",
       "    .dataframe thead th {\n",
       "        text-align: right;\n",
       "    }\n",
       "</style>\n",
       "<table border=\"1\" class=\"dataframe\">\n",
       "  <thead>\n",
       "    <tr style=\"text-align: right;\">\n",
       "      <th></th>\n",
       "      <th>Drug</th>\n",
       "      <th>DrugBrandName</th>\n",
       "      <th>Target</th>\n",
       "      <th>MechOfAction</th>\n",
       "      <th>Class</th>\n",
       "      <th>HighestPhase</th>\n",
       "      <th>Organization</th>\n",
       "    </tr>\n",
       "  </thead>\n",
       "  <tbody>\n",
       "    <tr>\n",
       "      <th>0</th>\n",
       "      <td>Erlotinib</td>\n",
       "      <td>Tarceva</td>\n",
       "      <td>EGFR</td>\n",
       "      <td>EGFR  Inhibitor</td>\n",
       "      <td>Kinase inhibitor</td>\n",
       "      <td>Launched-2004</td>\n",
       "      <td>Genentech</td>\n",
       "    </tr>\n",
       "    <tr>\n",
       "      <th>1</th>\n",
       "      <td>Lapatinib</td>\n",
       "      <td>Tykerb</td>\n",
       "      <td>EGFR, HER2</td>\n",
       "      <td>EGFR and HER2 Inhibitor</td>\n",
       "      <td>Kinase inhibitor</td>\n",
       "      <td>Launched-2007</td>\n",
       "      <td>GlaxoSmithKline</td>\n",
       "    </tr>\n",
       "  </tbody>\n",
       "</table>\n",
       "</div>"
      ],
      "text/plain": [
       "        Drug DrugBrandName      Target             MechOfAction  \\\n",
       "0  Erlotinib       Tarceva        EGFR          EGFR  Inhibitor   \n",
       "1  Lapatinib        Tykerb  EGFR, HER2  EGFR and HER2 Inhibitor   \n",
       "\n",
       "              Class   HighestPhase     Organization  \n",
       "0  Kinase inhibitor  Launched-2004        Genentech  \n",
       "1  Kinase inhibitor  Launched-2007  GlaxoSmithKline  "
      ]
     },
     "metadata": {},
     "output_type": "display_data"
    }
   ],
   "source": [
    "# /Users/apartin/Dropbox/work/pilot1/pharmaco/ccle/ccle_drugmeta\n",
    "drugmeta = pd.read_csv(os.path.join(DATADIR, 'pharmacological_profiling/CCLE_NP24.2009_profiling_2012.02.20.csv'),\n",
    "                       encoding='unicode_escape')\n",
    "colNameMap = {'Compound (code or generic name)': 'Drug', 'Compound (brand name)': 'DrugBrandName',\n",
    "                        'Target(s)': 'Target', 'Mechanism of action': 'MechOfAction', 'Highest Phase': 'HighestPhase'}\n",
    "drugmeta.rename(columns=colNameMap, inplace=True)\n",
    "print(drugmeta.shape)\n",
    "print(drugmeta.nunique())\n",
    "display(drugmeta[:2])"
   ]
  },
  {
   "cell_type": "code",
   "execution_count": null,
   "metadata": {},
   "outputs": [],
   "source": []
  },
  {
   "cell_type": "markdown",
   "metadata": {},
   "source": [
    "## Load dose response data\n",
    "Reposne data for each cell-drug pair."
   ]
  },
  {
   "cell_type": "code",
   "execution_count": 6,
   "metadata": {},
   "outputs": [
    {
     "name": "stdout",
     "output_type": "stream",
     "text": [
      "(11670, 13)\n",
      "CCLEName    504\n",
      "CellName    504\n",
      "Drug         24\n",
      "dtype: int64\n"
     ]
    },
    {
     "data": {
      "text/html": [
       "<div>\n",
       "<style scoped>\n",
       "    .dataframe tbody tr th:only-of-type {\n",
       "        vertical-align: middle;\n",
       "    }\n",
       "\n",
       "    .dataframe tbody tr th {\n",
       "        vertical-align: top;\n",
       "    }\n",
       "\n",
       "    .dataframe thead th {\n",
       "        text-align: right;\n",
       "    }\n",
       "</style>\n",
       "<table border=\"1\" class=\"dataframe\">\n",
       "  <thead>\n",
       "    <tr style=\"text-align: right;\">\n",
       "      <th></th>\n",
       "      <th>CCLEName</th>\n",
       "      <th>CellName</th>\n",
       "      <th>Drug</th>\n",
       "      <th>Target</th>\n",
       "      <th>Doses_uM</th>\n",
       "      <th>ActivityMedian</th>\n",
       "      <th>ActivitySD</th>\n",
       "      <th>nDataPoints</th>\n",
       "      <th>FitType</th>\n",
       "      <th>EC50um</th>\n",
       "      <th>IC50um</th>\n",
       "      <th>Amax</th>\n",
       "      <th>ActArea</th>\n",
       "    </tr>\n",
       "  </thead>\n",
       "  <tbody>\n",
       "    <tr>\n",
       "      <th>0</th>\n",
       "      <td>1321N1_CENTRAL_NERVOUS_SYSTEM</td>\n",
       "      <td>1321N1</td>\n",
       "      <td>AEW541</td>\n",
       "      <td>IGF1R</td>\n",
       "      <td>.0025,.0080,.025,.080,.25,.80,2.53,8</td>\n",
       "      <td>8.67,11.0,2.16,.27,-10,-13,-26,-43</td>\n",
       "      <td>3.31,3.72,5.36,4.67,13.1,.18,2.42,7.51</td>\n",
       "      <td>8</td>\n",
       "      <td>Sigmoid</td>\n",
       "      <td>8.717774</td>\n",
       "      <td>8.000000</td>\n",
       "      <td>-42.558014</td>\n",
       "      <td>0.7124</td>\n",
       "    </tr>\n",
       "    <tr>\n",
       "      <th>1</th>\n",
       "      <td>22RV1_PROSTATE</td>\n",
       "      <td>22Rv1</td>\n",
       "      <td>AEW541</td>\n",
       "      <td>IGF1R</td>\n",
       "      <td>.0025,.0080,.025,.080,.25,.80,2.53,8</td>\n",
       "      <td>.94,12.5,-14,4.16,-25,-32,-52,-71</td>\n",
       "      <td>1.95,13.3,6.98,21.8,16.0,18.8,4.84,7.93</td>\n",
       "      <td>8</td>\n",
       "      <td>Sigmoid</td>\n",
       "      <td>8.165164</td>\n",
       "      <td>2.329924</td>\n",
       "      <td>-71.589340</td>\n",
       "      <td>1.6723</td>\n",
       "    </tr>\n",
       "  </tbody>\n",
       "</table>\n",
       "</div>"
      ],
      "text/plain": [
       "                        CCLEName CellName    Drug Target  \\\n",
       "0  1321N1_CENTRAL_NERVOUS_SYSTEM   1321N1  AEW541  IGF1R   \n",
       "1                 22RV1_PROSTATE    22Rv1  AEW541  IGF1R   \n",
       "\n",
       "                               Doses_uM                      ActivityMedian  \\\n",
       "0  .0025,.0080,.025,.080,.25,.80,2.53,8  8.67,11.0,2.16,.27,-10,-13,-26,-43   \n",
       "1  .0025,.0080,.025,.080,.25,.80,2.53,8   .94,12.5,-14,4.16,-25,-32,-52,-71   \n",
       "\n",
       "                                ActivitySD  nDataPoints  FitType    EC50um  \\\n",
       "0   3.31,3.72,5.36,4.67,13.1,.18,2.42,7.51            8  Sigmoid  8.717774   \n",
       "1  1.95,13.3,6.98,21.8,16.0,18.8,4.84,7.93            8  Sigmoid  8.165164   \n",
       "\n",
       "     IC50um       Amax  ActArea  \n",
       "0  8.000000 -42.558014   0.7124  \n",
       "1  2.329924 -71.589340   1.6723  "
      ]
     },
     "metadata": {},
     "output_type": "display_data"
    }
   ],
   "source": [
    "rspdata = pd.read_csv(os.path.join(DATADIR, 'pharmacological_profiling/CCLE_NP24.2009_Drug_data_2015.02.24.csv'))\n",
    "print(rspdata.shape)\n",
    "colNameMap = {'CCLE Cell Line Name': 'CCLEName', 'Primary Cell Line Name': 'CellName', 'Compound': 'Drug',\n",
    "              'Doses (uM)': 'Doses_uM', 'Activity Data (median)': 'ActivityMedian', 'Activity SD': 'ActivitySD',\n",
    "              'Num Data': 'nDataPoints', 'EC50 (uM)': 'EC50um', 'IC50 (uM)': 'IC50um'}\n",
    "rspdata.rename(columns=colNameMap, inplace=True)\n",
    "print(rspdata[['CCLEName', 'CellName', 'Drug']].nunique())\n",
    "display(rspdata[:2])"
   ]
  },
  {
   "cell_type": "code",
   "execution_count": 7,
   "metadata": {},
   "outputs": [
    {
     "data": {
      "text/plain": [
       "PD-0325901      504\n",
       "PF2341066       504\n",
       "Topotecan       504\n",
       "Nutlin-3        504\n",
       "Lapatinib       504\n",
       "AZD0530         504\n",
       "TKI258          504\n",
       "TAE684          504\n",
       "LBW242          503\n",
       "PHA-665752      503\n",
       "AEW541          503\n",
       "17-AAG          503\n",
       "AZD6244         503\n",
       "Paclitaxel      503\n",
       "Erlotinib       503\n",
       "Sorafenib       503\n",
       "Panobinostat    500\n",
       "ZD-6474         496\n",
       "PLX4720         496\n",
       "L-685458        491\n",
       "RAF265          460\n",
       "PD-0332991      434\n",
       "Nilotinib       420\n",
       "Irinotecan      317\n",
       "Name: Drug, dtype: int64"
      ]
     },
     "execution_count": 7,
     "metadata": {},
     "output_type": "execute_result"
    }
   ],
   "source": [
    "rspdata['Drug'].value_counts()"
   ]
  },
  {
   "cell_type": "code",
   "execution_count": null,
   "metadata": {},
   "outputs": [],
   "source": []
  },
  {
   "cell_type": "markdown",
   "metadata": {},
   "source": [
    "## Load expression data"
   ]
  },
  {
   "cell_type": "code",
   "execution_count": 8,
   "metadata": {},
   "outputs": [
    {
     "name": "stdout",
     "output_type": "stream",
     "text": [
      "(56318, 1158)\n"
     ]
    },
    {
     "data": {
      "text/html": [
       "<div>\n",
       "<style scoped>\n",
       "    .dataframe tbody tr th:only-of-type {\n",
       "        vertical-align: middle;\n",
       "    }\n",
       "\n",
       "    .dataframe tbody tr th {\n",
       "        vertical-align: top;\n",
       "    }\n",
       "\n",
       "    .dataframe thead th {\n",
       "        text-align: right;\n",
       "    }\n",
       "</style>\n",
       "<table border=\"1\" class=\"dataframe\">\n",
       "  <thead>\n",
       "    <tr style=\"text-align: right;\">\n",
       "      <th></th>\n",
       "      <th>Name</th>\n",
       "      <th>Description</th>\n",
       "      <th>22RV1_PROSTATE (ACH-000956)</th>\n",
       "      <th>2313287_STOMACH (ACH-000948)</th>\n",
       "      <th>253JBV_URINARY_TRACT (ACH-000026)</th>\n",
       "      <th>253J_URINARY_TRACT (ACH-000011)</th>\n",
       "      <th>42MGBA_CENTRAL_NERVOUS_SYSTEM (ACH-000323)</th>\n",
       "      <th>5637_URINARY_TRACT (ACH-000905)</th>\n",
       "      <th>59M_OVARY (ACH-000520)</th>\n",
       "      <th>639V_URINARY_TRACT (ACH-000973)</th>\n",
       "      <th>...</th>\n",
       "      <th>UMUC16_URINARY_TRACT (ACH-001409)</th>\n",
       "      <th>UMUC4_URINARY_TRACT (ACH-001410)</th>\n",
       "      <th>UMUC5_URINARY_TRACT (ACH-001411)</th>\n",
       "      <th>UMUC6_URINARY_TRACT (ACH-001414)</th>\n",
       "      <th>UMUC7_URINARY_TRACT (ACH-001415)</th>\n",
       "      <th>UMUC9_URINARY_TRACT (ACH-001416)</th>\n",
       "      <th>UPCISCC152_UPPER_AERODIGESTIVE_TRACT (ACH-001228)</th>\n",
       "      <th>UW228_CENTRAL_NERVOUS_SYSTEM (ACH-001232)</th>\n",
       "      <th>Y79_AUTONOMIC_GANGLIA (ACH-001295)</th>\n",
       "      <th>YAMATO_SOFT_TISSUE (ACH-001277)</th>\n",
       "    </tr>\n",
       "  </thead>\n",
       "  <tbody>\n",
       "    <tr>\n",
       "      <th>0</th>\n",
       "      <td>ENSG00000223972.4</td>\n",
       "      <td>DDX11L1</td>\n",
       "      <td>0</td>\n",
       "      <td>2</td>\n",
       "      <td>0</td>\n",
       "      <td>4</td>\n",
       "      <td>0</td>\n",
       "      <td>1</td>\n",
       "      <td>1</td>\n",
       "      <td>2</td>\n",
       "      <td>...</td>\n",
       "      <td>0</td>\n",
       "      <td>3</td>\n",
       "      <td>3</td>\n",
       "      <td>4</td>\n",
       "      <td>4</td>\n",
       "      <td>3</td>\n",
       "      <td>0</td>\n",
       "      <td>2</td>\n",
       "      <td>3</td>\n",
       "      <td>0</td>\n",
       "    </tr>\n",
       "    <tr>\n",
       "      <th>1</th>\n",
       "      <td>ENSG00000227232.4</td>\n",
       "      <td>WASH7P</td>\n",
       "      <td>2316</td>\n",
       "      <td>1538</td>\n",
       "      <td>1094</td>\n",
       "      <td>1148</td>\n",
       "      <td>1367</td>\n",
       "      <td>1280</td>\n",
       "      <td>900</td>\n",
       "      <td>1109</td>\n",
       "      <td>...</td>\n",
       "      <td>1634</td>\n",
       "      <td>2346</td>\n",
       "      <td>2208</td>\n",
       "      <td>3215</td>\n",
       "      <td>2429</td>\n",
       "      <td>2298</td>\n",
       "      <td>2252</td>\n",
       "      <td>971</td>\n",
       "      <td>2485</td>\n",
       "      <td>1374</td>\n",
       "    </tr>\n",
       "  </tbody>\n",
       "</table>\n",
       "<p>2 rows × 1158 columns</p>\n",
       "</div>"
      ],
      "text/plain": [
       "                Name Description  22RV1_PROSTATE (ACH-000956)  \\\n",
       "0  ENSG00000223972.4     DDX11L1                            0   \n",
       "1  ENSG00000227232.4      WASH7P                         2316   \n",
       "\n",
       "   2313287_STOMACH (ACH-000948)  253JBV_URINARY_TRACT (ACH-000026)  \\\n",
       "0                             2                                  0   \n",
       "1                          1538                               1094   \n",
       "\n",
       "   253J_URINARY_TRACT (ACH-000011)  \\\n",
       "0                                4   \n",
       "1                             1148   \n",
       "\n",
       "   42MGBA_CENTRAL_NERVOUS_SYSTEM (ACH-000323)  \\\n",
       "0                                           0   \n",
       "1                                        1367   \n",
       "\n",
       "   5637_URINARY_TRACT (ACH-000905)  59M_OVARY (ACH-000520)  \\\n",
       "0                                1                       1   \n",
       "1                             1280                     900   \n",
       "\n",
       "   639V_URINARY_TRACT (ACH-000973)               ...                 \\\n",
       "0                                2               ...                  \n",
       "1                             1109               ...                  \n",
       "\n",
       "   UMUC16_URINARY_TRACT (ACH-001409)  UMUC4_URINARY_TRACT (ACH-001410)  \\\n",
       "0                                  0                                 3   \n",
       "1                               1634                              2346   \n",
       "\n",
       "   UMUC5_URINARY_TRACT (ACH-001411)  UMUC6_URINARY_TRACT (ACH-001414)  \\\n",
       "0                                 3                                 4   \n",
       "1                              2208                              3215   \n",
       "\n",
       "   UMUC7_URINARY_TRACT (ACH-001415)  UMUC9_URINARY_TRACT (ACH-001416)  \\\n",
       "0                                 4                                 3   \n",
       "1                              2429                              2298   \n",
       "\n",
       "   UPCISCC152_UPPER_AERODIGESTIVE_TRACT (ACH-001228)  \\\n",
       "0                                                  0   \n",
       "1                                               2252   \n",
       "\n",
       "   UW228_CENTRAL_NERVOUS_SYSTEM (ACH-001232)  \\\n",
       "0                                          2   \n",
       "1                                        971   \n",
       "\n",
       "   Y79_AUTONOMIC_GANGLIA (ACH-001295)  YAMATO_SOFT_TISSUE (ACH-001277)  \n",
       "0                                   3                                0  \n",
       "1                                2485                             1374  \n",
       "\n",
       "[2 rows x 1158 columns]"
      ]
     },
     "metadata": {},
     "output_type": "display_data"
    }
   ],
   "source": [
    "path = os.path.join(DATADIR, 'current_data_11-08-2018/CCLE_DepMap_18q3_RNAseq_reads_20180718.gct.txt')\n",
    "rna_cnt = pd.read_csv(path, header=2, sep='\\t')\n",
    "# rna_cnt.sort_values('Name', inplace=True)\n",
    "# rna_cnt.reset_index(drop=True, inplace=True)\n",
    "print(rna_cnt.shape)\n",
    "display(rna_cnt[:2])"
   ]
  },
  {
   "cell_type": "code",
   "execution_count": 9,
   "metadata": {},
   "outputs": [
    {
     "data": {
      "text/html": [
       "<div>\n",
       "<style scoped>\n",
       "    .dataframe tbody tr th:only-of-type {\n",
       "        vertical-align: middle;\n",
       "    }\n",
       "\n",
       "    .dataframe tbody tr th {\n",
       "        vertical-align: top;\n",
       "    }\n",
       "\n",
       "    .dataframe thead th {\n",
       "        text-align: right;\n",
       "    }\n",
       "</style>\n",
       "<table border=\"1\" class=\"dataframe\">\n",
       "  <thead>\n",
       "    <tr style=\"text-align: right;\">\n",
       "      <th></th>\n",
       "      <th>ENSGName</th>\n",
       "      <th>GeneName</th>\n",
       "      <th>22RV1_PROSTATE</th>\n",
       "      <th>2313287_STOMACH</th>\n",
       "      <th>253JBV_URINARY_TRACT</th>\n",
       "      <th>253J_URINARY_TRACT</th>\n",
       "      <th>42MGBA_CENTRAL_NERVOUS_SYSTEM</th>\n",
       "      <th>5637_URINARY_TRACT</th>\n",
       "      <th>59M_OVARY</th>\n",
       "      <th>639V_URINARY_TRACT</th>\n",
       "      <th>...</th>\n",
       "      <th>UMUC16_URINARY_TRACT</th>\n",
       "      <th>UMUC4_URINARY_TRACT</th>\n",
       "      <th>UMUC5_URINARY_TRACT</th>\n",
       "      <th>UMUC6_URINARY_TRACT</th>\n",
       "      <th>UMUC7_URINARY_TRACT</th>\n",
       "      <th>UMUC9_URINARY_TRACT</th>\n",
       "      <th>UPCISCC152_UPPER_AERODIGESTIVE_TRACT</th>\n",
       "      <th>UW228_CENTRAL_NERVOUS_SYSTEM</th>\n",
       "      <th>Y79_AUTONOMIC_GANGLIA</th>\n",
       "      <th>YAMATO_SOFT_TISSUE</th>\n",
       "    </tr>\n",
       "  </thead>\n",
       "  <tbody>\n",
       "    <tr>\n",
       "      <th>0</th>\n",
       "      <td>ENSG00000000003</td>\n",
       "      <td>TSPAN6</td>\n",
       "      <td>990</td>\n",
       "      <td>1113</td>\n",
       "      <td>4566</td>\n",
       "      <td>5026</td>\n",
       "      <td>3886</td>\n",
       "      <td>12040</td>\n",
       "      <td>3411</td>\n",
       "      <td>6146</td>\n",
       "      <td>...</td>\n",
       "      <td>22825</td>\n",
       "      <td>20495</td>\n",
       "      <td>16168</td>\n",
       "      <td>6468</td>\n",
       "      <td>35596</td>\n",
       "      <td>15750</td>\n",
       "      <td>8392</td>\n",
       "      <td>7324</td>\n",
       "      <td>8914</td>\n",
       "      <td>7830</td>\n",
       "    </tr>\n",
       "    <tr>\n",
       "      <th>1</th>\n",
       "      <td>ENSG00000000005</td>\n",
       "      <td>TNMD</td>\n",
       "      <td>0</td>\n",
       "      <td>0</td>\n",
       "      <td>0</td>\n",
       "      <td>0</td>\n",
       "      <td>0</td>\n",
       "      <td>0</td>\n",
       "      <td>0</td>\n",
       "      <td>0</td>\n",
       "      <td>...</td>\n",
       "      <td>0</td>\n",
       "      <td>38</td>\n",
       "      <td>1</td>\n",
       "      <td>2</td>\n",
       "      <td>9</td>\n",
       "      <td>0</td>\n",
       "      <td>2</td>\n",
       "      <td>0</td>\n",
       "      <td>0</td>\n",
       "      <td>259</td>\n",
       "    </tr>\n",
       "  </tbody>\n",
       "</table>\n",
       "<p>2 rows × 1158 columns</p>\n",
       "</div>"
      ],
      "text/plain": [
       "          ENSGName GeneName  22RV1_PROSTATE  2313287_STOMACH  \\\n",
       "0  ENSG00000000003   TSPAN6             990             1113   \n",
       "1  ENSG00000000005     TNMD               0                0   \n",
       "\n",
       "   253JBV_URINARY_TRACT  253J_URINARY_TRACT  42MGBA_CENTRAL_NERVOUS_SYSTEM  \\\n",
       "0                  4566                5026                           3886   \n",
       "1                     0                   0                              0   \n",
       "\n",
       "   5637_URINARY_TRACT  59M_OVARY  639V_URINARY_TRACT         ...          \\\n",
       "0               12040       3411                6146         ...           \n",
       "1                   0          0                   0         ...           \n",
       "\n",
       "   UMUC16_URINARY_TRACT  UMUC4_URINARY_TRACT  UMUC5_URINARY_TRACT  \\\n",
       "0                 22825                20495                16168   \n",
       "1                     0                   38                    1   \n",
       "\n",
       "   UMUC6_URINARY_TRACT  UMUC7_URINARY_TRACT  UMUC9_URINARY_TRACT  \\\n",
       "0                 6468                35596                15750   \n",
       "1                    2                    9                    0   \n",
       "\n",
       "   UPCISCC152_UPPER_AERODIGESTIVE_TRACT  UW228_CENTRAL_NERVOUS_SYSTEM  \\\n",
       "0                                  8392                          7324   \n",
       "1                                     2                             0   \n",
       "\n",
       "   Y79_AUTONOMIC_GANGLIA  YAMATO_SOFT_TISSUE  \n",
       "0                   8914                7830  \n",
       "1                      0                 259  \n",
       "\n",
       "[2 rows x 1158 columns]"
      ]
     },
     "metadata": {},
     "output_type": "display_data"
    }
   ],
   "source": [
    "# Rename cell line names (cols) and gene names\n",
    "cols_raw = rna_cnt.columns.tolist()\n",
    "df = rna_cnt.rename(columns={'Name': 'ENSGName', 'Description': 'GeneName'})\n",
    "df['ENSGName'] = df['ENSGName'].map(lambda x: x.split('.')[0])\n",
    "df = df.rename(columns={c: c.split(' ')[0] for c in rna_cnt.columns[2:]})\n",
    "df.sort_values('ENSGName', inplace=True)\n",
    "df.reset_index(drop=True, inplace=True)\n",
    "display(df[:2])"
   ]
  },
  {
   "cell_type": "code",
   "execution_count": 11,
   "metadata": {},
   "outputs": [
    {
     "name": "stdout",
     "output_type": "stream",
     "text": [
      "Unique cells screend: 504\n",
      "Cells that were screened and have RNA-Seq: 472\n"
     ]
    }
   ],
   "source": [
    "# Keep cell lines that were actually screened\n",
    "cells_screened = rspdata['CCLEName'].unique().tolist()  # cells that were screened\n",
    "print('Unique cells screend:', len(cells_screened))\n",
    "usecells = [c for c in df.columns[2:] if c in usecells]\n",
    "print('Cells that were screened and have RNA-Seq:', len(usecells))"
   ]
  },
  {
   "cell_type": "code",
   "execution_count": 110,
   "metadata": {},
   "outputs": [
    {
     "name": "stdout",
     "output_type": "stream",
     "text": [
      "(56318, 474)\n"
     ]
    }
   ],
   "source": [
    "df.set_index(['GeneName', 'Description'], inplace=True)\n",
    "df = df[usecells]\n",
    "df.reset_index(inplace=True)\n",
    "print(df.shape)"
   ]
  },
  {
   "cell_type": "code",
   "execution_count": null,
   "metadata": {},
   "outputs": [],
   "source": []
  },
  {
   "cell_type": "markdown",
   "metadata": {},
   "source": [
    "# ocg.cancer.gov"
   ]
  },
  {
   "cell_type": "code",
   "execution_count": 68,
   "metadata": {},
   "outputs": [],
   "source": [
    "path = '/Users/apartin/work/jdacs/cell-line-data/ccle/from_ocs_cancer_center/cgHub_CCLE_RNA-seq_metadata_summary.txt'\n",
    "ccle_meta_ocs = pd.read_csv(path, sep='\\t')"
   ]
  },
  {
   "cell_type": "code",
   "execution_count": 69,
   "metadata": {},
   "outputs": [
    {
     "name": "stdout",
     "output_type": "stream",
     "text": [
      "barcode             935\n",
      "disease              22\n",
      "disease_name         22\n",
      "sample_type           2\n",
      "sample_type_name      2\n",
      "filename            935\n",
      "files_size          935\n",
      "checksum            935\n",
      "analysis_id         935\n",
      "aliquot_id          935\n",
      "published             6\n",
      "uploaded              6\n",
      "modified              4\n",
      "dtype: int64\n"
     ]
    },
    {
     "data": {
      "text/html": [
       "<div>\n",
       "<style scoped>\n",
       "    .dataframe tbody tr th:only-of-type {\n",
       "        vertical-align: middle;\n",
       "    }\n",
       "\n",
       "    .dataframe tbody tr th {\n",
       "        vertical-align: top;\n",
       "    }\n",
       "\n",
       "    .dataframe thead th {\n",
       "        text-align: right;\n",
       "    }\n",
       "</style>\n",
       "<table border=\"1\" class=\"dataframe\">\n",
       "  <thead>\n",
       "    <tr style=\"text-align: right;\">\n",
       "      <th></th>\n",
       "      <th>barcode</th>\n",
       "      <th>disease</th>\n",
       "      <th>disease_name</th>\n",
       "      <th>sample_type</th>\n",
       "      <th>sample_type_name</th>\n",
       "      <th>filename</th>\n",
       "      <th>files_size</th>\n",
       "      <th>checksum</th>\n",
       "      <th>analysis_id</th>\n",
       "      <th>aliquot_id</th>\n",
       "      <th>published</th>\n",
       "      <th>uploaded</th>\n",
       "      <th>modified</th>\n",
       "    </tr>\n",
       "  </thead>\n",
       "  <tbody>\n",
       "    <tr>\n",
       "      <th>0</th>\n",
       "      <td>CCLE-TE 441.T-RNA-08</td>\n",
       "      <td>SARC</td>\n",
       "      <td>Sarcoma</td>\n",
       "      <td>CELL</td>\n",
       "      <td>50</td>\n",
       "      <td>G30604.TE_441.T.1.bam</td>\n",
       "      <td>7991352314</td>\n",
       "      <td>0cdd5b9904c75b288faf09683f6fddfa</td>\n",
       "      <td>68dd4e2b-a352-4ac9-8944-90cb2c5538f6</td>\n",
       "      <td>1437d186-8b9b-49b4-846d-450243eb0a1d</td>\n",
       "      <td>2013-04-30</td>\n",
       "      <td>2013-04-16</td>\n",
       "      <td>2013-05-16</td>\n",
       "    </tr>\n",
       "    <tr>\n",
       "      <th>1</th>\n",
       "      <td>CCLE-SNU-1196-RNA-08</td>\n",
       "      <td>LIHC</td>\n",
       "      <td>Liver hepatocellular carcinoma</td>\n",
       "      <td>CELL</td>\n",
       "      <td>50</td>\n",
       "      <td>G27465.SNU-1196.2.bam</td>\n",
       "      <td>17730569372</td>\n",
       "      <td>740fcb7dd4e8fc12888289c100466420</td>\n",
       "      <td>29a6b3ce-44ec-4f33-898b-8f920a44072c</td>\n",
       "      <td>1466282a-aff6-41dd-8559-d980b740f57a</td>\n",
       "      <td>2013-04-30</td>\n",
       "      <td>2013-04-17</td>\n",
       "      <td>2013-05-16</td>\n",
       "    </tr>\n",
       "  </tbody>\n",
       "</table>\n",
       "</div>"
      ],
      "text/plain": [
       "                barcode disease                    disease_name sample_type  \\\n",
       "0  CCLE-TE 441.T-RNA-08    SARC                         Sarcoma        CELL   \n",
       "1  CCLE-SNU-1196-RNA-08    LIHC  Liver hepatocellular carcinoma        CELL   \n",
       "\n",
       "   sample_type_name               filename   files_size  \\\n",
       "0                50  G30604.TE_441.T.1.bam   7991352314   \n",
       "1                50  G27465.SNU-1196.2.bam  17730569372   \n",
       "\n",
       "                           checksum                           analysis_id  \\\n",
       "0  0cdd5b9904c75b288faf09683f6fddfa  68dd4e2b-a352-4ac9-8944-90cb2c5538f6   \n",
       "1  740fcb7dd4e8fc12888289c100466420  29a6b3ce-44ec-4f33-898b-8f920a44072c   \n",
       "\n",
       "                             aliquot_id   published    uploaded    modified  \n",
       "0  1437d186-8b9b-49b4-846d-450243eb0a1d  2013-04-30  2013-04-16  2013-05-16  \n",
       "1  1466282a-aff6-41dd-8559-d980b740f57a  2013-04-30  2013-04-17  2013-05-16  "
      ]
     },
     "metadata": {},
     "output_type": "display_data"
    }
   ],
   "source": [
    "# Rmv cols with constant values\n",
    "ccle_meta_ocs = ccle_meta_ocs[[ccle_meta_ocs.columns[i] for i, v in enumerate(ccle_meta_ocs.nunique()) if v>1]]\n",
    "print(ccle_meta_ocs.nunique())\n",
    "display(ccle_meta_ocs[:2])"
   ]
  },
  {
   "cell_type": "code",
   "execution_count": 76,
   "metadata": {},
   "outputs": [
    {
     "data": {
      "text/plain": [
       "LUSC    184\n",
       "LCLL     81\n",
       "LGG      65\n",
       "COAD     58\n",
       "DLBC     57\n",
       "BRCA     56\n",
       "SKCM     52\n",
       "OV       45\n",
       "PAAD     41\n",
       "STAD     41\n",
       "SARC     40\n",
       "HNSC     33\n",
       "LIHC     32\n",
       "BLCA     26\n",
       "ESCA     26\n",
       "KIRC     25\n",
       "MM       25\n",
       "CESC     25\n",
       "THCA     12\n",
       "PRAD      7\n",
       "UCEC      3\n",
       "MESO      1\n",
       "Name: disease, dtype: int64"
      ]
     },
     "execution_count": 76,
     "metadata": {},
     "output_type": "execute_result"
    }
   ],
   "source": [
    "ccle_meta_ocs['disease'].value_counts()"
   ]
  },
  {
   "cell_type": "code",
   "execution_count": 77,
   "metadata": {},
   "outputs": [
    {
     "data": {
      "text/plain": [
       "Lung squamous cell carcinoma                                        184\n",
       "Chronic Lymphocytic Leukemia                                         81\n",
       "Brain Lower Grade Glioma                                             65\n",
       "Colon adenocarcinoma                                                 58\n",
       "Lymphoid Neoplasm Diffuse Large B-cell Lymphoma                      57\n",
       "Breast invasive carcinoma                                            56\n",
       "Skin Cutaneous Melanoma                                              52\n",
       "Ovarian serous cystadenocarcinoma                                    45\n",
       "Pancreatic adenocarcinoma                                            41\n",
       "Stomach adenocarcinoma                                               41\n",
       "Sarcoma                                                              40\n",
       "Head and Neck squamous cell carcinoma                                33\n",
       "Liver hepatocellular carcinoma                                       32\n",
       "Bladder Urothelial Carcinoma                                         26\n",
       "Esophageal carcinoma                                                 26\n",
       "Cervical squamous cell carcinoma and endocervical adenocarcinoma     25\n",
       "Kidney renal clear cell carcinoma                                    25\n",
       "Multiple Myeloma Plasma cell leukemia                                25\n",
       "Thyroid carcinoma                                                    12\n",
       "Prostate adenocarcinoma                                               7\n",
       "Uterine Corpus Endometrioid Carcinoma                                 3\n",
       "Mesothelioma                                                          1\n",
       "Name: disease_name, dtype: int64"
      ]
     },
     "execution_count": 77,
     "metadata": {},
     "output_type": "execute_result"
    }
   ],
   "source": [
    "ccle_meta_ocs['disease_name'].value_counts()"
   ]
  },
  {
   "cell_type": "code",
   "execution_count": 73,
   "metadata": {},
   "outputs": [
    {
     "data": {
      "text/plain": [
       "2013-04-30    746\n",
       "2014-07-10    141\n",
       "2013-04-29     34\n",
       "2014-07-23      7\n",
       "2014-07-24      6\n",
       "2013-05-11      1\n",
       "Name: published, dtype: int64"
      ]
     },
     "execution_count": 73,
     "metadata": {},
     "output_type": "execute_result"
    }
   ],
   "source": [
    "ccle_meta_ocs['published'].value_counts()"
   ]
  },
  {
   "cell_type": "code",
   "execution_count": 74,
   "metadata": {},
   "outputs": [
    {
     "data": {
      "text/plain": [
       "2013-04-17    405\n",
       "2013-04-16    374\n",
       "2014-06-20     87\n",
       "2014-06-21     67\n",
       "2013-04-18      1\n",
       "2013-04-25      1\n",
       "Name: uploaded, dtype: int64"
      ]
     },
     "execution_count": 74,
     "metadata": {},
     "output_type": "execute_result"
    }
   ],
   "source": [
    "ccle_meta_ocs['uploaded'].value_counts()"
   ]
  },
  {
   "cell_type": "code",
   "execution_count": 75,
   "metadata": {},
   "outputs": [
    {
     "data": {
      "text/plain": [
       "2013-05-16    781\n",
       "2014-07-10    141\n",
       "2014-07-23      7\n",
       "2014-07-24      6\n",
       "Name: modified, dtype: int64"
      ]
     },
     "execution_count": 75,
     "metadata": {},
     "output_type": "execute_result"
    }
   ],
   "source": [
    "ccle_meta_ocs['modified'].value_counts()"
   ]
  },
  {
   "cell_type": "code",
   "execution_count": null,
   "metadata": {},
   "outputs": [],
   "source": []
  }
 ],
 "metadata": {
  "kernelspec": {
   "display_name": "Python 3",
   "language": "python",
   "name": "python3"
  },
  "language_info": {
   "codemirror_mode": {
    "name": "ipython",
    "version": 3
   },
   "file_extension": ".py",
   "mimetype": "text/x-python",
   "name": "python",
   "nbconvert_exporter": "python",
   "pygments_lexer": "ipython3",
   "version": "3.6.7"
  }
 },
 "nbformat": 4,
 "nbformat_minor": 2
}
