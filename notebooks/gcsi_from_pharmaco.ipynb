{
 "cells": [
  {
   "cell_type": "markdown",
   "metadata": {},
   "source": [
    "**PharmacoDB:** https://pharmacodb.pmgenomics.ca/datasets/4<br>\n",
    "PharmacoGx do not mention which normalization is used when query `rnaseq` data using `molecularProfiles()`.\n",
    "Assuming that http://research-pub.gene.com/gCSI-cellline-data/ is the correct data resource, then the data is VSD (i.e. generated using DESeq from read count data). In this case, we can't simply integrate gCSI RNA-Seq into our combined dataframes."
   ]
  },
  {
   "cell_type": "code",
   "execution_count": 1,
   "metadata": {},
   "outputs": [
    {
     "name": "stderr",
     "output_type": "stream",
     "text": [
      "Using TensorFlow backend.\n"
     ]
    }
   ],
   "source": [
    "%load_ext autoreload\n",
    "%autoreload 2\n",
    "%matplotlib inline\n",
    "\n",
    "import os\n",
    "import sys\n",
    "from glob import glob\n",
    "from collections import OrderedDict\n",
    "import numpy as np\n",
    "import pandas as pd\n",
    "import matplotlib.pyplot as plt\n",
    "import seaborn as sns\n",
    "\n",
    "# Utils\n",
    "file_path = os.getcwd()  # os.path.dirname(os.path.relpath(__file__))\n",
    "utils_path = os.path.abspath(os.path.join(file_path, 'utils_py'))\n",
    "sys.path.append(utils_path)\n",
    "import utils_all as utils\n",
    "\n",
    "import warnings\n",
    "warnings.filterwarnings('ignore')\n",
    "\n",
    "SEED=0"
   ]
  },
  {
   "cell_type": "code",
   "execution_count": 2,
   "metadata": {},
   "outputs": [],
   "source": [
    "DATADIR = '/Users/apartin/Dropbox/work/pilot1/pharmaco/gcsi'"
   ]
  },
  {
   "cell_type": "code",
   "execution_count": 3,
   "metadata": {},
   "outputs": [
    {
     "data": {
      "text/plain": [
       "['gcsi_cellmeta',\n",
       " 'gcsi_drugmeta',\n",
       " 'gcsi_feameta',\n",
       " 'gcsi_phenometa',\n",
       " 'gcsi_rnaseq',\n",
       " 'gcsi_rspdata',\n",
       " 'gcsi_sensnum']"
      ]
     },
     "execution_count": 3,
     "metadata": {},
     "output_type": "execute_result"
    }
   ],
   "source": [
    "files = glob(os.path.join(DATADIR, '*'))\n",
    "fdict = {os.path.basename(f): pd.read_csv(f, sep='\\t') for f in files}\n",
    "fdict = OrderedDict(sorted(fdict.items(), key=lambda x: x[0]))\n",
    "list(fdict.keys())"
   ]
  },
  {
   "cell_type": "code",
   "execution_count": 4,
   "metadata": {},
   "outputs": [],
   "source": [
    "cellmeta = fdict['gcsi_cellmeta']\n",
    "drugmeta = fdict['gcsi_drugmeta']\n",
    "feameta = fdict['gcsi_feameta']\n",
    "phenometa = fdict['gcsi_phenometa']\n",
    "rnaseq = fdict['gcsi_rnaseq']\n",
    "rspdata = fdict['gcsi_rspdata']\n",
    "sensnum = fdict['gcsi_sensnum']"
   ]
  },
  {
   "cell_type": "code",
   "execution_count": 5,
   "metadata": {},
   "outputs": [],
   "source": [
    "feameta = feameta.reset_index().rename(columns={'index': 'ENSG_gene_id'})\n",
    "rnaseq = rnaseq.reset_index().rename(columns={'index': 'ENSG_gene_id'})"
   ]
  },
  {
   "cell_type": "code",
   "execution_count": null,
   "metadata": {},
   "outputs": [],
   "source": []
  },
  {
   "cell_type": "markdown",
   "metadata": {},
   "source": [
    "# Expression data"
   ]
  },
  {
   "cell_type": "code",
   "execution_count": 6,
   "metadata": {},
   "outputs": [
    {
     "name": "stdout",
     "output_type": "stream",
     "text": [
      "(22684, 323)\n"
     ]
    },
    {
     "data": {
      "text/html": [
       "<div>\n",
       "<style scoped>\n",
       "    .dataframe tbody tr th:only-of-type {\n",
       "        vertical-align: middle;\n",
       "    }\n",
       "\n",
       "    .dataframe tbody tr th {\n",
       "        vertical-align: top;\n",
       "    }\n",
       "\n",
       "    .dataframe thead th {\n",
       "        text-align: right;\n",
       "    }\n",
       "</style>\n",
       "<table border=\"1\" class=\"dataframe\">\n",
       "  <thead>\n",
       "    <tr style=\"text-align: right;\">\n",
       "      <th></th>\n",
       "      <th>ENSG_gene_id</th>\n",
       "      <th>23132-87</th>\n",
       "      <th>769-P</th>\n",
       "      <th>786-0</th>\n",
       "      <th>A172</th>\n",
       "      <th>A2058</th>\n",
       "      <th>A2780</th>\n",
       "    </tr>\n",
       "  </thead>\n",
       "  <tbody>\n",
       "    <tr>\n",
       "      <th>0</th>\n",
       "      <td>ENSG00000000003_at</td>\n",
       "      <td>-0.257433</td>\n",
       "      <td>0.007633</td>\n",
       "      <td>-0.479304</td>\n",
       "      <td>-1.954160</td>\n",
       "      <td>-0.003535</td>\n",
       "      <td>0.835721</td>\n",
       "    </tr>\n",
       "    <tr>\n",
       "      <th>1</th>\n",
       "      <td>ENSG00000000005_at</td>\n",
       "      <td>-0.429652</td>\n",
       "      <td>1.864555</td>\n",
       "      <td>-0.429652</td>\n",
       "      <td>-0.429652</td>\n",
       "      <td>-0.429652</td>\n",
       "      <td>4.250555</td>\n",
       "    </tr>\n",
       "  </tbody>\n",
       "</table>\n",
       "</div>"
      ],
      "text/plain": [
       "         ENSG_gene_id  23132-87     769-P     786-0      A172     A2058  \\\n",
       "0  ENSG00000000003_at -0.257433  0.007633 -0.479304 -1.954160 -0.003535   \n",
       "1  ENSG00000000005_at -0.429652  1.864555 -0.429652 -0.429652 -0.429652   \n",
       "\n",
       "      A2780  \n",
       "0  0.835721  \n",
       "1  4.250555  "
      ]
     },
     "metadata": {},
     "output_type": "display_data"
    }
   ],
   "source": [
    "print(rnaseq.shape)\n",
    "display(rnaseq.iloc[:2, :7])"
   ]
  },
  {
   "cell_type": "code",
   "execution_count": 7,
   "metadata": {},
   "outputs": [
    {
     "name": "stdout",
     "output_type": "stream",
     "text": [
      "(22684, 4)\n"
     ]
    },
    {
     "data": {
      "text/html": [
       "<div>\n",
       "<style scoped>\n",
       "    .dataframe tbody tr th:only-of-type {\n",
       "        vertical-align: middle;\n",
       "    }\n",
       "\n",
       "    .dataframe tbody tr th {\n",
       "        vertical-align: top;\n",
       "    }\n",
       "\n",
       "    .dataframe thead th {\n",
       "        text-align: right;\n",
       "    }\n",
       "</style>\n",
       "<table border=\"1\" class=\"dataframe\">\n",
       "  <thead>\n",
       "    <tr style=\"text-align: right;\">\n",
       "      <th></th>\n",
       "      <th>ENSG_gene_id</th>\n",
       "      <th>Symbol</th>\n",
       "      <th>GeneID</th>\n",
       "      <th>Location</th>\n",
       "    </tr>\n",
       "  </thead>\n",
       "  <tbody>\n",
       "    <tr>\n",
       "      <th>0</th>\n",
       "      <td>ENSG00000000003_at</td>\n",
       "      <td>TSPAN6</td>\n",
       "      <td>GeneID:7105</td>\n",
       "      <td>chrX:99883795-99891794</td>\n",
       "    </tr>\n",
       "    <tr>\n",
       "      <th>1</th>\n",
       "      <td>ENSG00000000005_at</td>\n",
       "      <td>TNMD</td>\n",
       "      <td>GeneID:64102</td>\n",
       "      <td>chrX:99839790-99854882</td>\n",
       "    </tr>\n",
       "  </tbody>\n",
       "</table>\n",
       "</div>"
      ],
      "text/plain": [
       "         ENSG_gene_id  Symbol        GeneID                Location\n",
       "0  ENSG00000000003_at  TSPAN6   GeneID:7105  chrX:99883795-99891794\n",
       "1  ENSG00000000005_at    TNMD  GeneID:64102  chrX:99839790-99854882"
      ]
     },
     "metadata": {},
     "output_type": "display_data"
    }
   ],
   "source": [
    "print(feameta.shape)\n",
    "display(feameta.iloc[:2,])"
   ]
  },
  {
   "cell_type": "code",
   "execution_count": 8,
   "metadata": {},
   "outputs": [],
   "source": [
    "rnaseq = feameta[['ENSG_gene_id', 'GeneID']].merge(rnaseq, on='ENSG_gene_id').drop(columns=['ENSG_gene_id'])"
   ]
  },
  {
   "cell_type": "code",
   "execution_count": 9,
   "metadata": {},
   "outputs": [
    {
     "name": "stdout",
     "output_type": "stream",
     "text": [
      "(22684, 323)\n"
     ]
    },
    {
     "data": {
      "text/html": [
       "<div>\n",
       "<style scoped>\n",
       "    .dataframe tbody tr th:only-of-type {\n",
       "        vertical-align: middle;\n",
       "    }\n",
       "\n",
       "    .dataframe tbody tr th {\n",
       "        vertical-align: top;\n",
       "    }\n",
       "\n",
       "    .dataframe thead th {\n",
       "        text-align: right;\n",
       "    }\n",
       "</style>\n",
       "<table border=\"1\" class=\"dataframe\">\n",
       "  <thead>\n",
       "    <tr style=\"text-align: right;\">\n",
       "      <th></th>\n",
       "      <th>GeneID</th>\n",
       "      <th>23132-87</th>\n",
       "      <th>769-P</th>\n",
       "      <th>786-0</th>\n",
       "      <th>A172</th>\n",
       "      <th>A2058</th>\n",
       "      <th>A2780</th>\n",
       "    </tr>\n",
       "  </thead>\n",
       "  <tbody>\n",
       "    <tr>\n",
       "      <th>0</th>\n",
       "      <td>GeneID:7105</td>\n",
       "      <td>-0.257433</td>\n",
       "      <td>0.007633</td>\n",
       "      <td>-0.479304</td>\n",
       "      <td>-1.954160</td>\n",
       "      <td>-0.003535</td>\n",
       "      <td>0.835721</td>\n",
       "    </tr>\n",
       "    <tr>\n",
       "      <th>1</th>\n",
       "      <td>GeneID:64102</td>\n",
       "      <td>-0.429652</td>\n",
       "      <td>1.864555</td>\n",
       "      <td>-0.429652</td>\n",
       "      <td>-0.429652</td>\n",
       "      <td>-0.429652</td>\n",
       "      <td>4.250555</td>\n",
       "    </tr>\n",
       "  </tbody>\n",
       "</table>\n",
       "</div>"
      ],
      "text/plain": [
       "         GeneID  23132-87     769-P     786-0      A172     A2058     A2780\n",
       "0   GeneID:7105 -0.257433  0.007633 -0.479304 -1.954160 -0.003535  0.835721\n",
       "1  GeneID:64102 -0.429652  1.864555 -0.429652 -0.429652 -0.429652  4.250555"
      ]
     },
     "metadata": {},
     "output_type": "display_data"
    }
   ],
   "source": [
    "print(rnaseq.shape)\n",
    "display(rnaseq.iloc[:2, :7])"
   ]
  },
  {
   "cell_type": "code",
   "execution_count": 11,
   "metadata": {},
   "outputs": [
    {
     "data": {
      "text/html": [
       "<div>\n",
       "<style scoped>\n",
       "    .dataframe tbody tr th:only-of-type {\n",
       "        vertical-align: middle;\n",
       "    }\n",
       "\n",
       "    .dataframe tbody tr th {\n",
       "        vertical-align: top;\n",
       "    }\n",
       "\n",
       "    .dataframe thead th {\n",
       "        text-align: right;\n",
       "    }\n",
       "</style>\n",
       "<table border=\"1\" class=\"dataframe\">\n",
       "  <thead>\n",
       "    <tr style=\"text-align: right;\">\n",
       "      <th></th>\n",
       "      <th>GeneID</th>\n",
       "      <th>23132-87</th>\n",
       "      <th>769-P</th>\n",
       "      <th>786-0</th>\n",
       "      <th>A172</th>\n",
       "      <th>A2058</th>\n",
       "      <th>A2780</th>\n",
       "    </tr>\n",
       "  </thead>\n",
       "  <tbody>\n",
       "    <tr>\n",
       "      <th>0</th>\n",
       "      <td>GeneID:1</td>\n",
       "      <td>-2.868397</td>\n",
       "      <td>-1.457918</td>\n",
       "      <td>-1.546713</td>\n",
       "      <td>1.484096</td>\n",
       "      <td>0.754382</td>\n",
       "      <td>-0.072495</td>\n",
       "    </tr>\n",
       "    <tr>\n",
       "      <th>1</th>\n",
       "      <td>GeneID:10</td>\n",
       "      <td>1.660978</td>\n",
       "      <td>0.821055</td>\n",
       "      <td>0.107958</td>\n",
       "      <td>0.360472</td>\n",
       "      <td>-1.020219</td>\n",
       "      <td>0.329382</td>\n",
       "    </tr>\n",
       "    <tr>\n",
       "      <th>2</th>\n",
       "      <td>GeneID:100</td>\n",
       "      <td>-0.317083</td>\n",
       "      <td>-0.720061</td>\n",
       "      <td>-0.270618</td>\n",
       "      <td>-0.444273</td>\n",
       "      <td>-0.225363</td>\n",
       "      <td>-0.257863</td>\n",
       "    </tr>\n",
       "    <tr>\n",
       "      <th>3</th>\n",
       "      <td>GeneID:1000</td>\n",
       "      <td>-1.024843</td>\n",
       "      <td>1.520102</td>\n",
       "      <td>1.774583</td>\n",
       "      <td>2.360834</td>\n",
       "      <td>1.094753</td>\n",
       "      <td>0.113761</td>\n",
       "    </tr>\n",
       "  </tbody>\n",
       "</table>\n",
       "</div>"
      ],
      "text/plain": [
       "        GeneID  23132-87     769-P     786-0      A172     A2058     A2780\n",
       "0     GeneID:1 -2.868397 -1.457918 -1.546713  1.484096  0.754382 -0.072495\n",
       "1    GeneID:10  1.660978  0.821055  0.107958  0.360472 -1.020219  0.329382\n",
       "2   GeneID:100 -0.317083 -0.720061 -0.270618 -0.444273 -0.225363 -0.257863\n",
       "3  GeneID:1000 -1.024843  1.520102  1.774583  2.360834  1.094753  0.113761"
      ]
     },
     "execution_count": 11,
     "metadata": {},
     "output_type": "execute_result"
    }
   ],
   "source": [
    "rnaseq.sort_values('GeneID').reset_index(drop=True).iloc[:4, :7]"
   ]
  },
  {
   "cell_type": "code",
   "execution_count": null,
   "metadata": {},
   "outputs": [],
   "source": []
  }
 ],
 "metadata": {
  "kernelspec": {
   "display_name": "Python 3",
   "language": "python",
   "name": "python3"
  },
  "language_info": {
   "codemirror_mode": {
    "name": "ipython",
    "version": 3
   },
   "file_extension": ".py",
   "mimetype": "text/x-python",
   "name": "python",
   "nbconvert_exporter": "python",
   "pygments_lexer": "ipython3",
   "version": "3.7.0"
  }
 },
 "nbformat": 4,
 "nbformat_minor": 2
}
