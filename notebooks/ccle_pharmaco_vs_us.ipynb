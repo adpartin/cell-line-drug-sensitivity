{
 "cells": [
  {
   "cell_type": "markdown",
   "metadata": {},
   "source": [
    "- PDB has metadata for drugs. Use for clustering. Error analysis (which drugs are less predictive)."
   ]
  },
  {
   "cell_type": "code",
   "execution_count": 1,
   "metadata": {},
   "outputs": [
    {
     "name": "stderr",
     "output_type": "stream",
     "text": [
      "Using TensorFlow backend.\n"
     ]
    }
   ],
   "source": [
    "%load_ext autoreload\n",
    "%autoreload 2\n",
    "%matplotlib inline\n",
    "\n",
    "import os\n",
    "import sys\n",
    "import numpy as np\n",
    "import pandas as pd\n",
    "import matplotlib.pyplot as plt\n",
    "import seaborn as sns\n",
    "\n",
    "# Utils\n",
    "file_path = os.getcwd()  # os.path.dirname(os.path.relpath(__file__))\n",
    "utils_path = os.path.abspath(os.path.join(file_path, 'utils_py'))\n",
    "sys.path.append(utils_path)\n",
    "import utils_all as utils_py\n",
    "import utils\n",
    "\n",
    "import warnings\n",
    "warnings.filterwarnings('ignore')\n",
    "\n",
    "SEED=0"
   ]
  },
  {
   "cell_type": "markdown",
   "metadata": {},
   "source": [
    "# Utils"
   ]
  },
  {
   "cell_type": "code",
   "execution_count": 2,
   "metadata": {},
   "outputs": [],
   "source": [
    "DATADIR = '/Users/apartin/work/jdacs/Benchmarks/Data/Pilot1'\n",
    "\n",
    "fname_single_drug_growth = 'rescaled_combined_single_drug_growth'\n",
    "# fname_drug_growth = 'combined_single_drug_growth'\n",
    "\n",
    "fname_combo_drug_growth = 'ComboDrugGrowth_Nov2017.csv'\n",
    "\n",
    "fname_nci60_cellname = 'NCI60_CELLNAME_to_Combo.txt'\n",
    "\n",
    "cellmap_path = os.path.join(DATADIR, 'NCI60_CELLNAME_to_Combo.txt')\n",
    "\n",
    "# expression_data = 'combined_rnaseq_data'\n",
    "expression_data = 'combined_rnaseq_data_lincs1000'"
   ]
  },
  {
   "cell_type": "code",
   "execution_count": 3,
   "metadata": {},
   "outputs": [],
   "source": [
    "OUTDIR = './save_pharmaco_vs_us'\n",
    "os.makedirs(OUTDIR, exist_ok=True)"
   ]
  },
  {
   "cell_type": "code",
   "execution_count": null,
   "metadata": {},
   "outputs": [],
   "source": []
  },
  {
   "cell_type": "markdown",
   "metadata": {},
   "source": [
    "# Load dose response - single drug (df1)"
   ]
  },
  {
   "cell_type": "code",
   "execution_count": 4,
   "metadata": {},
   "outputs": [
    {
     "name": "stdout",
     "output_type": "stream",
     "text": [
      "Shape (27769716, 7)\n",
      "\n",
      "NCI60    18862308\n",
      "CTRP      6171005\n",
      "GDSC      1894212\n",
      "SCLC       389510\n",
      "SCL        301336\n",
      "CCLE        93251\n",
      "gCSI        58094\n",
      "Name: SOURCE, dtype: int64\n"
     ]
    },
    {
     "data": {
      "text/html": [
       "<div>\n",
       "<style scoped>\n",
       "    .dataframe tbody tr th:only-of-type {\n",
       "        vertical-align: middle;\n",
       "    }\n",
       "\n",
       "    .dataframe tbody tr th {\n",
       "        vertical-align: top;\n",
       "    }\n",
       "\n",
       "    .dataframe thead th {\n",
       "        text-align: right;\n",
       "    }\n",
       "</style>\n",
       "<table border=\"1\" class=\"dataframe\">\n",
       "  <thead>\n",
       "    <tr style=\"text-align: right;\">\n",
       "      <th></th>\n",
       "      <th>SOURCE</th>\n",
       "      <th>DRUG_ID</th>\n",
       "      <th>CELLNAME</th>\n",
       "      <th>CONCUNIT</th>\n",
       "      <th>LOG_CONCENTRATION</th>\n",
       "      <th>EXPID</th>\n",
       "      <th>GROWTH</th>\n",
       "    </tr>\n",
       "  </thead>\n",
       "  <tbody>\n",
       "    <tr>\n",
       "      <th>0</th>\n",
       "      <td>CCLE</td>\n",
       "      <td>CCLE.1</td>\n",
       "      <td>CCLE.1321N1</td>\n",
       "      <td>M</td>\n",
       "      <td>-8.60206</td>\n",
       "      <td>fake_exp</td>\n",
       "      <td>117.339996</td>\n",
       "    </tr>\n",
       "    <tr>\n",
       "      <th>1</th>\n",
       "      <td>CCLE</td>\n",
       "      <td>CCLE.1</td>\n",
       "      <td>CCLE.1321N1</td>\n",
       "      <td>M</td>\n",
       "      <td>-8.09691</td>\n",
       "      <td>fake_exp</td>\n",
       "      <td>122.000000</td>\n",
       "    </tr>\n",
       "  </tbody>\n",
       "</table>\n",
       "</div>"
      ],
      "text/plain": [
       "  SOURCE DRUG_ID     CELLNAME CONCUNIT  LOG_CONCENTRATION     EXPID  \\\n",
       "0   CCLE  CCLE.1  CCLE.1321N1        M           -8.60206  fake_exp   \n",
       "1   CCLE  CCLE.1  CCLE.1321N1        M           -8.09691  fake_exp   \n",
       "\n",
       "       GROWTH  \n",
       "0  117.339996  \n",
       "1  122.000000  "
      ]
     },
     "metadata": {},
     "output_type": "display_data"
    }
   ],
   "source": [
    "df_resp_org = pd.read_csv(os.path.join(DATADIR, fname_single_drug_growth), sep='\\t', engine='c',\n",
    "                     na_values=['na', '-', ''],\n",
    "                     dtype={'SOURCE': str, 'DRUG_ID': str,\n",
    "                            'CELLNAME': str, 'CONCUNIT': str,\n",
    "                            'LOG_CONCENTRATION': np.float32,\n",
    "                            'EXPID': str, 'GROWTH': np.float32})\n",
    "print(f'Shape {df_resp_org.shape}\\n')\n",
    "print(df_resp_org.SOURCE.value_counts())\n",
    "display(df_resp_org[:2])"
   ]
  },
  {
   "cell_type": "markdown",
   "metadata": {},
   "source": [
    "### Pre-proc response"
   ]
  },
  {
   "cell_type": "code",
   "execution_count": 5,
   "metadata": {},
   "outputs": [
    {
     "name": "stdout",
     "output_type": "stream",
     "text": [
      "Shape (93251, 7)\n",
      "\n",
      "SOURCE                  1\n",
      "DRUG_ID                24\n",
      "CELLNAME              504\n",
      "CONCUNIT                1\n",
      "LOG_CONCENTRATION       8\n",
      "EXPID                   2\n",
      "GROWTH               2035\n",
      "dtype: int64\n"
     ]
    }
   ],
   "source": [
    "# Extract CCLE response\n",
    "df_resp = df_resp_org[df_resp_org['SOURCE']=='CCLE']\n",
    "# df_resp = df_resp_org[df_resp_org['SOURCE']=='gCSI']\n",
    "print(f'Shape {df_resp.shape}\\n')\n",
    "print(df_resp.nunique())"
   ]
  },
  {
   "cell_type": "code",
   "execution_count": 6,
   "metadata": {},
   "outputs": [],
   "source": [
    "# df['DOSE'] = -df['LOG_CONCENTRATION']\n",
    "df_resp = df_resp.rename(columns={'CELLNAME': 'CELL', 'DRUG_ID': 'DRUG', 'EXPID': 'STUDY',\n",
    "                                  'LOG_CONCENTRATION': 'LOGCONC'})\n",
    "# df = df[['SOURCE', 'CELL', 'DRUG', 'DOSE', 'GROWTH', 'STUDY']]\n",
    "df_resp = df_resp[['SOURCE', 'CELL', 'DRUG', 'LOGCONC', 'GROWTH', 'STUDY']]\n",
    "# df['GROWTH'] /= 100"
   ]
  },
  {
   "cell_type": "markdown",
   "metadata": {},
   "source": [
    "### Cell lines vs drugs"
   ]
  },
  {
   "cell_type": "code",
   "execution_count": 7,
   "metadata": {},
   "outputs": [
    {
     "name": "stdout",
     "output_type": "stream",
     "text": [
      "cd1.shape (504, 25)\n"
     ]
    },
    {
     "data": {
      "text/html": [
       "<div>\n",
       "<style scoped>\n",
       "    .dataframe tbody tr th:only-of-type {\n",
       "        vertical-align: middle;\n",
       "    }\n",
       "\n",
       "    .dataframe tbody tr th {\n",
       "        vertical-align: top;\n",
       "    }\n",
       "\n",
       "    .dataframe thead th {\n",
       "        text-align: right;\n",
       "    }\n",
       "</style>\n",
       "<table border=\"1\" class=\"dataframe\">\n",
       "  <thead>\n",
       "    <tr style=\"text-align: right;\">\n",
       "      <th></th>\n",
       "      <th>CELL</th>\n",
       "      <th>CCLE.1</th>\n",
       "      <th>CCLE.10</th>\n",
       "      <th>CCLE.11</th>\n",
       "      <th>CCLE.12</th>\n",
       "      <th>CCLE.13</th>\n",
       "      <th>CCLE.14</th>\n",
       "      <th>CCLE.15</th>\n",
       "      <th>CCLE.16</th>\n",
       "      <th>CCLE.17</th>\n",
       "      <th>...</th>\n",
       "      <th>CCLE.22</th>\n",
       "      <th>CCLE.23</th>\n",
       "      <th>CCLE.24</th>\n",
       "      <th>CCLE.3</th>\n",
       "      <th>CCLE.4</th>\n",
       "      <th>CCLE.5</th>\n",
       "      <th>CCLE.6</th>\n",
       "      <th>CCLE.7</th>\n",
       "      <th>CCLE.8</th>\n",
       "      <th>CCLE.9</th>\n",
       "    </tr>\n",
       "  </thead>\n",
       "  <tbody>\n",
       "    <tr>\n",
       "      <th>0</th>\n",
       "      <td>CCLE.1321N1</td>\n",
       "      <td>8</td>\n",
       "      <td>8</td>\n",
       "      <td>8</td>\n",
       "      <td>8</td>\n",
       "      <td>0</td>\n",
       "      <td>8</td>\n",
       "      <td>8</td>\n",
       "      <td>8</td>\n",
       "      <td>0</td>\n",
       "      <td>...</td>\n",
       "      <td>8</td>\n",
       "      <td>8</td>\n",
       "      <td>8</td>\n",
       "      <td>8</td>\n",
       "      <td>8</td>\n",
       "      <td>8</td>\n",
       "      <td>8</td>\n",
       "      <td>8</td>\n",
       "      <td>8</td>\n",
       "      <td>8</td>\n",
       "    </tr>\n",
       "    <tr>\n",
       "      <th>1</th>\n",
       "      <td>CCLE.22RV1</td>\n",
       "      <td>8</td>\n",
       "      <td>8</td>\n",
       "      <td>8</td>\n",
       "      <td>8</td>\n",
       "      <td>8</td>\n",
       "      <td>8</td>\n",
       "      <td>8</td>\n",
       "      <td>8</td>\n",
       "      <td>8</td>\n",
       "      <td>...</td>\n",
       "      <td>8</td>\n",
       "      <td>8</td>\n",
       "      <td>8</td>\n",
       "      <td>8</td>\n",
       "      <td>8</td>\n",
       "      <td>8</td>\n",
       "      <td>8</td>\n",
       "      <td>8</td>\n",
       "      <td>8</td>\n",
       "      <td>8</td>\n",
       "    </tr>\n",
       "    <tr>\n",
       "      <th>2</th>\n",
       "      <td>CCLE.42MGBA</td>\n",
       "      <td>8</td>\n",
       "      <td>8</td>\n",
       "      <td>8</td>\n",
       "      <td>8</td>\n",
       "      <td>0</td>\n",
       "      <td>8</td>\n",
       "      <td>8</td>\n",
       "      <td>8</td>\n",
       "      <td>0</td>\n",
       "      <td>...</td>\n",
       "      <td>8</td>\n",
       "      <td>8</td>\n",
       "      <td>8</td>\n",
       "      <td>8</td>\n",
       "      <td>8</td>\n",
       "      <td>8</td>\n",
       "      <td>8</td>\n",
       "      <td>8</td>\n",
       "      <td>8</td>\n",
       "      <td>8</td>\n",
       "    </tr>\n",
       "  </tbody>\n",
       "</table>\n",
       "<p>3 rows × 25 columns</p>\n",
       "</div>"
      ],
      "text/plain": [
       "          CELL  CCLE.1  CCLE.10  CCLE.11  CCLE.12  CCLE.13  CCLE.14  CCLE.15  \\\n",
       "0  CCLE.1321N1       8        8        8        8        0        8        8   \n",
       "1   CCLE.22RV1       8        8        8        8        8        8        8   \n",
       "2  CCLE.42MGBA       8        8        8        8        0        8        8   \n",
       "\n",
       "   CCLE.16  CCLE.17   ...    CCLE.22  CCLE.23  CCLE.24  CCLE.3  CCLE.4  \\\n",
       "0        8        0   ...          8        8        8       8       8   \n",
       "1        8        8   ...          8        8        8       8       8   \n",
       "2        8        0   ...          8        8        8       8       8   \n",
       "\n",
       "   CCLE.5  CCLE.6  CCLE.7  CCLE.8  CCLE.9  \n",
       "0       8       8       8       8       8  \n",
       "1       8       8       8       8       8  \n",
       "2       8       8       8       8       8  \n",
       "\n",
       "[3 rows x 25 columns]"
      ]
     },
     "execution_count": 7,
     "metadata": {},
     "output_type": "execute_result"
    }
   ],
   "source": [
    "# Each value in the table contains the number drug concentrations applied for each [cell, drug] pair\n",
    "cd1 = pd.crosstab(df_resp['CELL'], df_resp['DRUG'])\n",
    "cd1.columns.name = None\n",
    "cd1.reset_index(inplace=True)\n",
    "print('cd1.shape', cd1.shape)\n",
    "cd1[:3]"
   ]
  },
  {
   "cell_type": "code",
   "execution_count": 8,
   "metadata": {},
   "outputs": [],
   "source": [
    "# df.groupby(['CELLNAME']).agg({'DRUG_ID': ['unique', 'nunique']})"
   ]
  },
  {
   "cell_type": "code",
   "execution_count": 9,
   "metadata": {},
   "outputs": [
    {
     "name": "stdout",
     "output_type": "stream",
     "text": [
      "cd2.shape (504, 25)\n"
     ]
    },
    {
     "data": {
      "text/html": [
       "<div>\n",
       "<style scoped>\n",
       "    .dataframe tbody tr th:only-of-type {\n",
       "        vertical-align: middle;\n",
       "    }\n",
       "\n",
       "    .dataframe tbody tr th {\n",
       "        vertical-align: top;\n",
       "    }\n",
       "\n",
       "    .dataframe thead th {\n",
       "        text-align: right;\n",
       "    }\n",
       "</style>\n",
       "<table border=\"1\" class=\"dataframe\">\n",
       "  <thead>\n",
       "    <tr style=\"text-align: right;\">\n",
       "      <th></th>\n",
       "      <th>CELL</th>\n",
       "      <th>17-AAG</th>\n",
       "      <th>AEW541</th>\n",
       "      <th>AZD0530</th>\n",
       "      <th>AZD6244</th>\n",
       "      <th>Erlotinib</th>\n",
       "      <th>Irinotecan</th>\n",
       "      <th>L-685458</th>\n",
       "      <th>lapatinib</th>\n",
       "      <th>LBW242</th>\n",
       "      <th>...</th>\n",
       "      <th>PD-0332991</th>\n",
       "      <th>Crizotinib</th>\n",
       "      <th>PHA-665752</th>\n",
       "      <th>PLX4720</th>\n",
       "      <th>RAF265</th>\n",
       "      <th>Sorafenib</th>\n",
       "      <th>TAE684</th>\n",
       "      <th>TKI258</th>\n",
       "      <th>Topotecan</th>\n",
       "      <th>Vandetanib</th>\n",
       "    </tr>\n",
       "  </thead>\n",
       "  <tbody>\n",
       "    <tr>\n",
       "      <th>0</th>\n",
       "      <td>22RV1</td>\n",
       "      <td>1</td>\n",
       "      <td>1</td>\n",
       "      <td>1</td>\n",
       "      <td>1</td>\n",
       "      <td>1</td>\n",
       "      <td>1</td>\n",
       "      <td>1</td>\n",
       "      <td>1</td>\n",
       "      <td>1</td>\n",
       "      <td>...</td>\n",
       "      <td>1</td>\n",
       "      <td>1</td>\n",
       "      <td>1</td>\n",
       "      <td>1</td>\n",
       "      <td>1</td>\n",
       "      <td>1</td>\n",
       "      <td>1</td>\n",
       "      <td>1</td>\n",
       "      <td>1</td>\n",
       "      <td>1</td>\n",
       "    </tr>\n",
       "    <tr>\n",
       "      <th>1</th>\n",
       "      <td>5637</td>\n",
       "      <td>1</td>\n",
       "      <td>1</td>\n",
       "      <td>1</td>\n",
       "      <td>1</td>\n",
       "      <td>1</td>\n",
       "      <td>1</td>\n",
       "      <td>1</td>\n",
       "      <td>1</td>\n",
       "      <td>1</td>\n",
       "      <td>...</td>\n",
       "      <td>1</td>\n",
       "      <td>1</td>\n",
       "      <td>1</td>\n",
       "      <td>1</td>\n",
       "      <td>1</td>\n",
       "      <td>1</td>\n",
       "      <td>1</td>\n",
       "      <td>1</td>\n",
       "      <td>1</td>\n",
       "      <td>1</td>\n",
       "    </tr>\n",
       "    <tr>\n",
       "      <th>2</th>\n",
       "      <td>639-V</td>\n",
       "      <td>1</td>\n",
       "      <td>1</td>\n",
       "      <td>1</td>\n",
       "      <td>1</td>\n",
       "      <td>1</td>\n",
       "      <td>1</td>\n",
       "      <td>1</td>\n",
       "      <td>1</td>\n",
       "      <td>1</td>\n",
       "      <td>...</td>\n",
       "      <td>1</td>\n",
       "      <td>1</td>\n",
       "      <td>1</td>\n",
       "      <td>1</td>\n",
       "      <td>1</td>\n",
       "      <td>1</td>\n",
       "      <td>1</td>\n",
       "      <td>1</td>\n",
       "      <td>1</td>\n",
       "      <td>1</td>\n",
       "    </tr>\n",
       "  </tbody>\n",
       "</table>\n",
       "<p>3 rows × 25 columns</p>\n",
       "</div>"
      ],
      "text/plain": [
       "    CELL  17-AAG  AEW541  AZD0530  AZD6244  Erlotinib  Irinotecan  L-685458  \\\n",
       "0  22RV1       1       1        1        1          1           1         1   \n",
       "1   5637       1       1        1        1          1           1         1   \n",
       "2  639-V       1       1        1        1          1           1         1   \n",
       "\n",
       "   lapatinib  LBW242     ...      PD-0332991  Crizotinib  PHA-665752  PLX4720  \\\n",
       "0          1       1     ...               1           1           1        1   \n",
       "1          1       1     ...               1           1           1        1   \n",
       "2          1       1     ...               1           1           1        1   \n",
       "\n",
       "   RAF265  Sorafenib  TAE684  TKI258  Topotecan  Vandetanib  \n",
       "0       1          1       1       1          1           1  \n",
       "1       1          1       1       1          1           1  \n",
       "2       1          1       1       1          1           1  \n",
       "\n",
       "[3 rows x 25 columns]"
      ]
     },
     "execution_count": 9,
     "metadata": {},
     "output_type": "execute_result"
    }
   ],
   "source": [
    "# Data from PharamcoDB\n",
    "cd2 = pd.read_csv('ccle_sensnum', sep='\\t')\n",
    "cd2.index.name = 'CELL'\n",
    "cd2.reset_index(inplace=True)\n",
    "print('cd2.shape', cd2.shape)\n",
    "# cd2.iloc[:3, :10]\n",
    "cd2[:3]"
   ]
  },
  {
   "cell_type": "markdown",
   "metadata": {},
   "source": [
    "### Check consistency of cell line names across Pharmaco and ours"
   ]
  },
  {
   "cell_type": "code",
   "execution_count": 10,
   "metadata": {},
   "outputs": [],
   "source": [
    "rmv = ' .-_*/\\|{}[]()#$%@!~'\n",
    "n1 = cd1['CELL'].map(lambda s: ''.join(['' if c in rmv else c.upper() for c in s]))\n",
    "n1 = n1.map(lambda s: s.replace('CCLE', '')).tolist()\n",
    "\n",
    "n2 = cd2['CELL'].map(lambda s: ''.join(['' if c in rmv else c.upper() for c in s])).tolist()"
   ]
  },
  {
   "cell_type": "code",
   "execution_count": 11,
   "metadata": {},
   "outputs": [
    {
     "name": "stdout",
     "output_type": "stream",
     "text": [
      "492\n",
      "['SNU16', 'JURKAT', 'KO52', 'LU99', '786O', 'KPNSI9S', 'SNU1', 'NIHOVCAR3', 'KNS81', 'MDAMB435S', 'HEC1B', 'COLO320']\n",
      "['OVCAR3', 'HEC1', 'NCISNU1', 'LU99A', 'JURKAT,CLONEE61', 'KPNS19S', 'MDAMB435', 'NCISNU16', 'COLO320HSR', 'K052', 'KNS81FD', '7860']\n"
     ]
    }
   ],
   "source": [
    "print(len(set(n1).intersection(set(n2))))\n",
    "print(list(set(n1).difference(set(n2))))\n",
    "print(list(set(n2).difference(set(n1))))"
   ]
  },
  {
   "cell_type": "code",
   "execution_count": null,
   "metadata": {},
   "outputs": [],
   "source": []
  },
  {
   "cell_type": "markdown",
   "metadata": {},
   "source": [
    "### TODO: Extract selected drugs"
   ]
  },
  {
   "cell_type": "code",
   "execution_count": 12,
   "metadata": {},
   "outputs": [],
   "source": [
    "# (ap) extract selected drugs for CCLE\n",
    "# df_selected_drugs[df_selected_drugs['Drug'].map(lambda s: True if 'CCLE' in s.split('.')[0] else False)]"
   ]
  },
  {
   "cell_type": "code",
   "execution_count": null,
   "metadata": {},
   "outputs": [],
   "source": []
  },
  {
   "cell_type": "markdown",
   "metadata": {},
   "source": [
    "# Load expression data"
   ]
  },
  {
   "cell_type": "code",
   "execution_count": 13,
   "metadata": {},
   "outputs": [
    {
     "name": "stdout",
     "output_type": "stream",
     "text": [
      "(15196, 943)\n"
     ]
    }
   ],
   "source": [
    "# Load the data\n",
    "path = os.path.join(DATADIR, expression_data)\n",
    "df_cols = pd.read_table(path, engine='c', nrows=0)\n",
    "dtype_dict = dict((x, np.float32) for x in df_cols.columns[1:])\n",
    "df_exp = pd.read_table(path, engine='c', usecols=None, dtype=dtype_dict)\n",
    "print(df_exp.shape)"
   ]
  },
  {
   "cell_type": "code",
   "execution_count": 14,
   "metadata": {},
   "outputs": [
    {
     "name": "stdout",
     "output_type": "stream",
     "text": [
      "Shape (1018, 943)\n",
      "\n"
     ]
    }
   ],
   "source": [
    "# Extract CCLE expression\n",
    "df_exp = df_exp[df_exp['Sample'].map(lambda s: True if 'CCLE' in s else False)].reset_index(drop=True)\n",
    "print(f'Shape {df_exp.shape}\\n')"
   ]
  },
  {
   "cell_type": "markdown",
   "metadata": {},
   "source": [
    "### Pre-proc expression"
   ]
  },
  {
   "cell_type": "code",
   "execution_count": 15,
   "metadata": {},
   "outputs": [],
   "source": [
    "# Embedding data source into features by onehot\n",
    "# THE IDEA IS TO USE THIS AS REGULARIZER FOR BATCH EFFECT!!(??)\n",
    "\n",
    "# prefixes = df_exp['Sample'].str.extract('^([^.]*)', expand=False).rename('Source')\n",
    "# sources = prefixes.drop_duplicates().reset_index(drop=True)\n",
    "# df_source = pd.get_dummies(sources, prefix='rnaseq.source', prefix_sep='.')\n",
    "# df_source = pd.concat([sources, df_source], axis=1)\n",
    "# df_source"
   ]
  },
  {
   "cell_type": "code",
   "execution_count": 16,
   "metadata": {},
   "outputs": [],
   "source": [
    "# Merge 'Sample' and one-hot encoded Source\n",
    "df1 = df_exp['Sample']\n",
    "# df_sample_source = pd.concat([df1, prefixes], axis=1)\n",
    "# df1 = df_sample_source.merge(df_source, on='Source', how='left').drop('Source', axis=1)\n",
    "# print(f'Embedding RNAseq data source into features: {df1.shape[1]-1} additional columns')"
   ]
  },
  {
   "cell_type": "code",
   "execution_count": 17,
   "metadata": {},
   "outputs": [],
   "source": [
    "# df with gene features only\n",
    "df2 = df_exp.drop('Sample', 1)\n",
    "df2 = df2.add_prefix('rnaseq.')"
   ]
  },
  {
   "cell_type": "code",
   "execution_count": 18,
   "metadata": {},
   "outputs": [],
   "source": [
    "scaling = 'std'\n",
    "imputing = 'mean'\n",
    "df2 = utils.impute_and_scale(df2, scaling, imputing)"
   ]
  },
  {
   "cell_type": "code",
   "execution_count": 19,
   "metadata": {},
   "outputs": [],
   "source": [
    "df_exp = pd.concat([df1, df2], axis=1)"
   ]
  },
  {
   "cell_type": "code",
   "execution_count": 20,
   "metadata": {},
   "outputs": [
    {
     "name": "stdout",
     "output_type": "stream",
     "text": [
      "Loaded combined RNAseq data:  (1018, 943)\n"
     ]
    }
   ],
   "source": [
    "print('Loaded combined RNAseq data: ', df_exp.shape)"
   ]
  },
  {
   "cell_type": "markdown",
   "metadata": {},
   "source": [
    "### Extract cell lines with response data"
   ]
  },
  {
   "cell_type": "code",
   "execution_count": 21,
   "metadata": {},
   "outputs": [
    {
     "data": {
      "text/plain": [
       "(504, 1)"
      ]
     },
     "execution_count": 21,
     "metadata": {},
     "output_type": "execute_result"
    }
   ],
   "source": [
    "sample = df_resp[['CELL']].rename(columns={'CELL': 'Sample'}).drop_duplicates().sort_values('Sample').reset_index(drop=True)\n",
    "sample.shape"
   ]
  },
  {
   "cell_type": "code",
   "execution_count": 22,
   "metadata": {},
   "outputs": [
    {
     "name": "stdout",
     "output_type": "stream",
     "text": [
      "(474, 943)\n",
      "474 CCLE samples with expression and response data\n"
     ]
    }
   ],
   "source": [
    "df_exp_with_resp = sample.merge(df_exp, on='Sample')\n",
    "print(df_exp_with_resp.shape)\n",
    "print('{} CCLE samples with expression and response data'.format(df_exp_with_resp.shape[0]))"
   ]
  },
  {
   "cell_type": "markdown",
   "metadata": {},
   "source": [
    "Only 474 CCLE samples with response (FF got the same result)"
   ]
  },
  {
   "cell_type": "code",
   "execution_count": null,
   "metadata": {},
   "outputs": [],
   "source": []
  },
  {
   "cell_type": "markdown",
   "metadata": {},
   "source": [
    "# Load drug data"
   ]
  },
  {
   "cell_type": "code",
   "execution_count": 23,
   "metadata": {},
   "outputs": [
    {
     "name": "stdout",
     "output_type": "stream",
     "text": [
      "(846, 7)\n"
     ]
    },
    {
     "data": {
      "text/html": [
       "<div>\n",
       "<style scoped>\n",
       "    .dataframe tbody tr th:only-of-type {\n",
       "        vertical-align: middle;\n",
       "    }\n",
       "\n",
       "    .dataframe tbody tr th {\n",
       "        vertical-align: top;\n",
       "    }\n",
       "\n",
       "    .dataframe thead th {\n",
       "        text-align: right;\n",
       "    }\n",
       "</style>\n",
       "<table border=\"1\" class=\"dataframe\">\n",
       "  <thead>\n",
       "    <tr style=\"text-align: right;\">\n",
       "      <th></th>\n",
       "      <th>ID</th>\n",
       "      <th>NAME</th>\n",
       "      <th>CLEAN_NAME</th>\n",
       "      <th>SMILES</th>\n",
       "      <th>INCHIKEY</th>\n",
       "      <th>PUBCHEM</th>\n",
       "      <th>Drug</th>\n",
       "    </tr>\n",
       "  </thead>\n",
       "  <tbody>\n",
       "    <tr>\n",
       "      <th>0</th>\n",
       "      <td>CCLE.1</td>\n",
       "      <td>AEW541</td>\n",
       "      <td>AEW541</td>\n",
       "      <td>C1CN(C1)CC2CC(C2)N3C=C(C4=C3N=CN=C4N)C5=CC(=CC...</td>\n",
       "      <td>AECDBHGVIIRMOI-UHFFFAOYSA-N</td>\n",
       "      <td>PubChem.CID.11476171</td>\n",
       "      <td>PubChem.CID.11476171</td>\n",
       "    </tr>\n",
       "    <tr>\n",
       "      <th>1</th>\n",
       "      <td>CCLE.10</td>\n",
       "      <td>ZD-6474</td>\n",
       "      <td>ZD6474</td>\n",
       "      <td>CN1CCC(CC1)COC2=C(C=C3C(=C2)N=CN=C3NC4=C(C=C(C...</td>\n",
       "      <td>UHTHHESEBZOYNR-UHFFFAOYSA-N</td>\n",
       "      <td>PubChem.CID.3081361</td>\n",
       "      <td>PubChem.CID.3081361</td>\n",
       "    </tr>\n",
       "  </tbody>\n",
       "</table>\n",
       "</div>"
      ],
      "text/plain": [
       "        ID     NAME CLEAN_NAME  \\\n",
       "0   CCLE.1   AEW541     AEW541   \n",
       "1  CCLE.10  ZD-6474     ZD6474   \n",
       "\n",
       "                                              SMILES  \\\n",
       "0  C1CN(C1)CC2CC(C2)N3C=C(C4=C3N=CN=C4N)C5=CC(=CC...   \n",
       "1  CN1CCC(CC1)COC2=C(C=C3C(=C2)N=CN=C3NC4=C(C=C(C...   \n",
       "\n",
       "                      INCHIKEY               PUBCHEM                  Drug  \n",
       "0  AECDBHGVIIRMOI-UHFFFAOYSA-N  PubChem.CID.11476171  PubChem.CID.11476171  \n",
       "1  UHTHHESEBZOYNR-UHFFFAOYSA-N   PubChem.CID.3081361   PubChem.CID.3081361  "
      ]
     },
     "execution_count": 23,
     "metadata": {},
     "output_type": "execute_result"
    }
   ],
   "source": [
    "# load_drug_info()\n",
    "path = os.path.join(DATADIR, 'drug_info')\n",
    "df = pd.read_table(path, dtype=object)\n",
    "df['PUBCHEM'] = 'PubChem.CID.' + df['PUBCHEM']\n",
    "df_info = df.copy()\n",
    "\n",
    "df_info['Drug'] = df_info['PUBCHEM']\n",
    "print(df_info.shape)\n",
    "df_info[:2]"
   ]
  },
  {
   "cell_type": "code",
   "execution_count": 24,
   "metadata": {},
   "outputs": [
    {
     "data": {
      "text/plain": [
       "CTRP    544\n",
       "GDSC    262\n",
       "CCLE     24\n",
       "gCSI     16\n",
       "Name: ID, dtype: int64"
      ]
     },
     "execution_count": 24,
     "metadata": {},
     "output_type": "execute_result"
    }
   ],
   "source": [
    "# Number of drugs used in each study\n",
    "df_info['ID'].map(lambda s: s.split('.')[0]).value_counts()  # (ap)"
   ]
  },
  {
   "cell_type": "code",
   "execution_count": 25,
   "metadata": {},
   "outputs": [
    {
     "name": "stdout",
     "output_type": "stream",
     "text": [
      "Shape (24, 7)\n",
      "\n"
     ]
    }
   ],
   "source": [
    "# Extract CCLE drugs\n",
    "df_info = df_info[df_info['ID'].map(lambda s: True if 'CCLE' in s else False)].reset_index(drop=True)\n",
    "print(f'Shape {df_info.shape}\\n')"
   ]
  },
  {
   "cell_type": "code",
   "execution_count": 26,
   "metadata": {},
   "outputs": [
    {
     "data": {
      "text/html": [
       "<div>\n",
       "<style scoped>\n",
       "    .dataframe tbody tr th:only-of-type {\n",
       "        vertical-align: middle;\n",
       "    }\n",
       "\n",
       "    .dataframe tbody tr th {\n",
       "        vertical-align: top;\n",
       "    }\n",
       "\n",
       "    .dataframe thead th {\n",
       "        text-align: right;\n",
       "    }\n",
       "</style>\n",
       "<table border=\"1\" class=\"dataframe\">\n",
       "  <thead>\n",
       "    <tr style=\"text-align: right;\">\n",
       "      <th></th>\n",
       "      <th>SOURCE</th>\n",
       "      <th>CLEAN_NAME</th>\n",
       "    </tr>\n",
       "  </thead>\n",
       "  <tbody>\n",
       "    <tr>\n",
       "      <th>0</th>\n",
       "      <td>CCLE</td>\n",
       "      <td>[AEW541, ZD6474, PANOBINOSTAT, SORAFENIB, IRIN...</td>\n",
       "    </tr>\n",
       "  </tbody>\n",
       "</table>\n",
       "</div>"
      ],
      "text/plain": [
       "  SOURCE                                         CLEAN_NAME\n",
       "0   CCLE  [AEW541, ZD6474, PANOBINOSTAT, SORAFENIB, IRIN..."
      ]
     },
     "execution_count": 26,
     "metadata": {},
     "output_type": "execute_result"
    }
   ],
   "source": [
    "# (df_info['CLEAN_NAME']=='AEW541').sum()\n",
    "# df_info['CLEAN_NAME'].nunique()\n",
    "tmp = df_info.copy()\n",
    "tmp['SOURCE'] = df_info['ID'].map(lambda s: s.split('.')[0])\n",
    "tmp.groupby(['SOURCE']).agg({'CLEAN_NAME': 'unique'}).reset_index()"
   ]
  },
  {
   "cell_type": "markdown",
   "metadata": {},
   "source": [
    "### Check consistency of drug names across Pharmaco and ours"
   ]
  },
  {
   "cell_type": "code",
   "execution_count": 27,
   "metadata": {},
   "outputs": [],
   "source": [
    "d1 = df_info[df_info['ID'].map(lambda s: True if 'CCLE' in s.split('.')[0] else False)].loc[:, 'NAME'].tolist()\n",
    "d1 = sorted(d1)"
   ]
  },
  {
   "cell_type": "code",
   "execution_count": 28,
   "metadata": {},
   "outputs": [],
   "source": [
    "d2 = cd2.columns[1:].tolist()\n",
    "d2 = sorted(d2)"
   ]
  },
  {
   "cell_type": "code",
   "execution_count": 29,
   "metadata": {},
   "outputs": [
    {
     "name": "stdout",
     "output_type": "stream",
     "text": [
      "20\n",
      "{'Lapatinib', 'Paclitaxel', 'PF2341066', 'ZD-6474'}\n",
      "{'Vandetanib', 'lapatinib', 'paclitaxel', 'Crizotinib'}\n"
     ]
    }
   ],
   "source": [
    "print(len(set(d1).intersection(set(d2))))\n",
    "print(set(d1).difference(set(d2)))\n",
    "print(set(d2).difference(set(d1)))"
   ]
  },
  {
   "cell_type": "code",
   "execution_count": null,
   "metadata": {},
   "outputs": [],
   "source": []
  },
  {
   "cell_type": "code",
   "execution_count": null,
   "metadata": {},
   "outputs": [],
   "source": []
  },
  {
   "cell_type": "markdown",
   "metadata": {},
   "source": [
    "### load_drug_set_descriptors( drug_set = 'Combined_PubChem' )"
   ]
  },
  {
   "cell_type": "code",
   "execution_count": 30,
   "metadata": {},
   "outputs": [
    {
     "name": "stdout",
     "output_type": "stream",
     "text": [
      "(517, 5271)\n"
     ]
    },
    {
     "data": {
      "text/html": [
       "<div>\n",
       "<style scoped>\n",
       "    .dataframe tbody tr th:only-of-type {\n",
       "        vertical-align: middle;\n",
       "    }\n",
       "\n",
       "    .dataframe tbody tr th {\n",
       "        vertical-align: top;\n",
       "    }\n",
       "\n",
       "    .dataframe thead th {\n",
       "        text-align: right;\n",
       "    }\n",
       "</style>\n",
       "<table border=\"1\" class=\"dataframe\">\n",
       "  <thead>\n",
       "    <tr style=\"text-align: right;\">\n",
       "      <th></th>\n",
       "      <th>NAME</th>\n",
       "      <th>MW</th>\n",
       "      <th>AMW</th>\n",
       "      <th>Sv</th>\n",
       "      <th>Se</th>\n",
       "      <th>Sp</th>\n",
       "      <th>Si</th>\n",
       "      <th>Mv</th>\n",
       "      <th>Me</th>\n",
       "      <th>Mp</th>\n",
       "      <th>...</th>\n",
       "      <th>CATS3D_10_LL</th>\n",
       "      <th>CATS3D_11_LL</th>\n",
       "      <th>CATS3D_12_LL</th>\n",
       "      <th>CATS3D_13_LL</th>\n",
       "      <th>CATS3D_14_LL</th>\n",
       "      <th>CATS3D_15_LL</th>\n",
       "      <th>CATS3D_16_LL</th>\n",
       "      <th>CATS3D_17_LL</th>\n",
       "      <th>CATS3D_18_LL</th>\n",
       "      <th>CATS3D_19_LL</th>\n",
       "    </tr>\n",
       "  </thead>\n",
       "  <tbody>\n",
       "    <tr>\n",
       "      <th>0</th>\n",
       "      <td>PubChem.CID.10026128</td>\n",
       "      <td>438.51001</td>\n",
       "      <td>7.831</td>\n",
       "      <td>36.275002</td>\n",
       "      <td>56.813999</td>\n",
       "      <td>37.387001</td>\n",
       "      <td>63.286999</td>\n",
       "      <td>0.648</td>\n",
       "      <td>1.015</td>\n",
       "      <td>0.668</td>\n",
       "      <td>...</td>\n",
       "      <td>NaN</td>\n",
       "      <td>NaN</td>\n",
       "      <td>NaN</td>\n",
       "      <td>NaN</td>\n",
       "      <td>NaN</td>\n",
       "      <td>NaN</td>\n",
       "      <td>NaN</td>\n",
       "      <td>NaN</td>\n",
       "      <td>NaN</td>\n",
       "      <td>NaN</td>\n",
       "    </tr>\n",
       "    <tr>\n",
       "      <th>1</th>\n",
       "      <td>PubChem.CID.10027278</td>\n",
       "      <td>460.48999</td>\n",
       "      <td>8.688</td>\n",
       "      <td>36.691002</td>\n",
       "      <td>54.224998</td>\n",
       "      <td>37.141998</td>\n",
       "      <td>59.958000</td>\n",
       "      <td>0.692</td>\n",
       "      <td>1.023</td>\n",
       "      <td>0.701</td>\n",
       "      <td>...</td>\n",
       "      <td>NaN</td>\n",
       "      <td>NaN</td>\n",
       "      <td>NaN</td>\n",
       "      <td>NaN</td>\n",
       "      <td>NaN</td>\n",
       "      <td>NaN</td>\n",
       "      <td>NaN</td>\n",
       "      <td>NaN</td>\n",
       "      <td>NaN</td>\n",
       "      <td>NaN</td>\n",
       "    </tr>\n",
       "  </tbody>\n",
       "</table>\n",
       "<p>2 rows × 5271 columns</p>\n",
       "</div>"
      ],
      "text/plain": [
       "                   NAME         MW    AMW         Sv         Se         Sp  \\\n",
       "0  PubChem.CID.10026128  438.51001  7.831  36.275002  56.813999  37.387001   \n",
       "1  PubChem.CID.10027278  460.48999  8.688  36.691002  54.224998  37.141998   \n",
       "\n",
       "          Si     Mv     Me     Mp      ...       CATS3D_10_LL  CATS3D_11_LL  \\\n",
       "0  63.286999  0.648  1.015  0.668      ...                NaN           NaN   \n",
       "1  59.958000  0.692  1.023  0.701      ...                NaN           NaN   \n",
       "\n",
       "   CATS3D_12_LL  CATS3D_13_LL  CATS3D_14_LL  CATS3D_15_LL  CATS3D_16_LL  \\\n",
       "0           NaN           NaN           NaN           NaN           NaN   \n",
       "1           NaN           NaN           NaN           NaN           NaN   \n",
       "\n",
       "   CATS3D_17_LL  CATS3D_18_LL  CATS3D_19_LL  \n",
       "0           NaN           NaN           NaN  \n",
       "1           NaN           NaN           NaN  \n",
       "\n",
       "[2 rows x 5271 columns]"
      ]
     },
     "execution_count": 30,
     "metadata": {},
     "output_type": "execute_result"
    }
   ],
   "source": [
    "path = os.path.join(DATADIR, 'Combined_PubChem_dragon7_descriptors.tsv')\n",
    "df_cols = pd.read_table(path, engine='c', nrows=0)\n",
    "total = df_cols.shape[1] - 1\n",
    "dtype_dict = dict((x, np.float32) for x in df_cols.columns[1:])\n",
    "df = pd.read_table(path, engine='c', usecols=None, dtype=dtype_dict, na_values=['na', '-', ''])\n",
    "\n",
    "print(df.shape)\n",
    "df[:2]"
   ]
  },
  {
   "cell_type": "code",
   "execution_count": 31,
   "metadata": {},
   "outputs": [],
   "source": [
    "# Extract drug features (descriptors and fingerprints) into df2\n",
    "df1 = pd.DataFrame(df.loc[:, 'NAME'])\n",
    "df1.rename(columns={'NAME': 'Drug'}, inplace=True)\n",
    "df2 = df.drop('NAME', 1)"
   ]
  },
  {
   "cell_type": "code",
   "execution_count": 32,
   "metadata": {},
   "outputs": [],
   "source": [
    "scaling = None\n",
    "imputing = None\n",
    "df2 = utils.impute_and_scale(df2, scaling, imputing, dropna=None)"
   ]
  },
  {
   "cell_type": "code",
   "execution_count": 33,
   "metadata": {},
   "outputs": [
    {
     "name": "stdout",
     "output_type": "stream",
     "text": [
      "(517, 5271)\n"
     ]
    }
   ],
   "source": [
    "df = pd.concat([df1, df2], axis=1)\n",
    "df_desc = df.copy()\n",
    "print(df_desc.shape)"
   ]
  },
  {
   "cell_type": "code",
   "execution_count": 34,
   "metadata": {},
   "outputs": [
    {
     "name": "stdout",
     "output_type": "stream",
     "text": [
      "df_info (24, 7)\n",
      "df_desc (517, 5271)\n"
     ]
    }
   ],
   "source": [
    "print('df_info', df_info.shape)\n",
    "print('df_desc', df_desc.shape)"
   ]
  },
  {
   "cell_type": "code",
   "execution_count": 35,
   "metadata": {},
   "outputs": [
    {
     "data": {
      "text/html": [
       "<div>\n",
       "<style scoped>\n",
       "    .dataframe tbody tr th:only-of-type {\n",
       "        vertical-align: middle;\n",
       "    }\n",
       "\n",
       "    .dataframe tbody tr th {\n",
       "        vertical-align: top;\n",
       "    }\n",
       "\n",
       "    .dataframe thead th {\n",
       "        text-align: right;\n",
       "    }\n",
       "</style>\n",
       "<table border=\"1\" class=\"dataframe\">\n",
       "  <thead>\n",
       "    <tr style=\"text-align: right;\">\n",
       "      <th></th>\n",
       "      <th>ID</th>\n",
       "      <th>NAME</th>\n",
       "      <th>CLEAN_NAME</th>\n",
       "      <th>SMILES</th>\n",
       "      <th>INCHIKEY</th>\n",
       "      <th>PUBCHEM</th>\n",
       "      <th>Drug</th>\n",
       "    </tr>\n",
       "  </thead>\n",
       "  <tbody>\n",
       "    <tr>\n",
       "      <th>0</th>\n",
       "      <td>CCLE.1</td>\n",
       "      <td>AEW541</td>\n",
       "      <td>AEW541</td>\n",
       "      <td>C1CN(C1)CC2CC(C2)N3C=C(C4=C3N=CN=C4N)C5=CC(=CC...</td>\n",
       "      <td>AECDBHGVIIRMOI-UHFFFAOYSA-N</td>\n",
       "      <td>PubChem.CID.11476171</td>\n",
       "      <td>PubChem.CID.11476171</td>\n",
       "    </tr>\n",
       "    <tr>\n",
       "      <th>1</th>\n",
       "      <td>CCLE.10</td>\n",
       "      <td>ZD-6474</td>\n",
       "      <td>ZD6474</td>\n",
       "      <td>CN1CCC(CC1)COC2=C(C=C3C(=C2)N=CN=C3NC4=C(C=C(C...</td>\n",
       "      <td>UHTHHESEBZOYNR-UHFFFAOYSA-N</td>\n",
       "      <td>PubChem.CID.3081361</td>\n",
       "      <td>PubChem.CID.3081361</td>\n",
       "    </tr>\n",
       "  </tbody>\n",
       "</table>\n",
       "</div>"
      ],
      "text/plain": [
       "        ID     NAME CLEAN_NAME  \\\n",
       "0   CCLE.1   AEW541     AEW541   \n",
       "1  CCLE.10  ZD-6474     ZD6474   \n",
       "\n",
       "                                              SMILES  \\\n",
       "0  C1CN(C1)CC2CC(C2)N3C=C(C4=C3N=CN=C4N)C5=CC(=CC...   \n",
       "1  CN1CCC(CC1)COC2=C(C=C3C(=C2)N=CN=C3NC4=C(C=C(C...   \n",
       "\n",
       "                      INCHIKEY               PUBCHEM                  Drug  \n",
       "0  AECDBHGVIIRMOI-UHFFFAOYSA-N  PubChem.CID.11476171  PubChem.CID.11476171  \n",
       "1  UHTHHESEBZOYNR-UHFFFAOYSA-N   PubChem.CID.3081361   PubChem.CID.3081361  "
      ]
     },
     "metadata": {},
     "output_type": "display_data"
    },
    {
     "data": {
      "text/html": [
       "<div>\n",
       "<style scoped>\n",
       "    .dataframe tbody tr th:only-of-type {\n",
       "        vertical-align: middle;\n",
       "    }\n",
       "\n",
       "    .dataframe tbody tr th {\n",
       "        vertical-align: top;\n",
       "    }\n",
       "\n",
       "    .dataframe thead th {\n",
       "        text-align: right;\n",
       "    }\n",
       "</style>\n",
       "<table border=\"1\" class=\"dataframe\">\n",
       "  <thead>\n",
       "    <tr style=\"text-align: right;\">\n",
       "      <th></th>\n",
       "      <th>Drug</th>\n",
       "      <th>MW</th>\n",
       "      <th>AMW</th>\n",
       "      <th>Sv</th>\n",
       "      <th>Se</th>\n",
       "      <th>Sp</th>\n",
       "      <th>Si</th>\n",
       "      <th>Mv</th>\n",
       "      <th>Me</th>\n",
       "      <th>Mp</th>\n",
       "      <th>...</th>\n",
       "      <th>CATS3D_10_LL</th>\n",
       "      <th>CATS3D_11_LL</th>\n",
       "      <th>CATS3D_12_LL</th>\n",
       "      <th>CATS3D_13_LL</th>\n",
       "      <th>CATS3D_14_LL</th>\n",
       "      <th>CATS3D_15_LL</th>\n",
       "      <th>CATS3D_16_LL</th>\n",
       "      <th>CATS3D_17_LL</th>\n",
       "      <th>CATS3D_18_LL</th>\n",
       "      <th>CATS3D_19_LL</th>\n",
       "    </tr>\n",
       "  </thead>\n",
       "  <tbody>\n",
       "    <tr>\n",
       "      <th>0</th>\n",
       "      <td>PubChem.CID.10026128</td>\n",
       "      <td>438.51001</td>\n",
       "      <td>7.831</td>\n",
       "      <td>36.275002</td>\n",
       "      <td>56.813999</td>\n",
       "      <td>37.387001</td>\n",
       "      <td>63.286999</td>\n",
       "      <td>0.648</td>\n",
       "      <td>1.015</td>\n",
       "      <td>0.668</td>\n",
       "      <td>...</td>\n",
       "      <td>0.0</td>\n",
       "      <td>0.0</td>\n",
       "      <td>0.0</td>\n",
       "      <td>0.0</td>\n",
       "      <td>0.0</td>\n",
       "      <td>0.0</td>\n",
       "      <td>0.0</td>\n",
       "      <td>0.0</td>\n",
       "      <td>0.0</td>\n",
       "      <td>0.0</td>\n",
       "    </tr>\n",
       "    <tr>\n",
       "      <th>1</th>\n",
       "      <td>PubChem.CID.10027278</td>\n",
       "      <td>460.48999</td>\n",
       "      <td>8.688</td>\n",
       "      <td>36.691002</td>\n",
       "      <td>54.224998</td>\n",
       "      <td>37.141998</td>\n",
       "      <td>59.958000</td>\n",
       "      <td>0.692</td>\n",
       "      <td>1.023</td>\n",
       "      <td>0.701</td>\n",
       "      <td>...</td>\n",
       "      <td>0.0</td>\n",
       "      <td>0.0</td>\n",
       "      <td>0.0</td>\n",
       "      <td>0.0</td>\n",
       "      <td>0.0</td>\n",
       "      <td>0.0</td>\n",
       "      <td>0.0</td>\n",
       "      <td>0.0</td>\n",
       "      <td>0.0</td>\n",
       "      <td>0.0</td>\n",
       "    </tr>\n",
       "  </tbody>\n",
       "</table>\n",
       "<p>2 rows × 5271 columns</p>\n",
       "</div>"
      ],
      "text/plain": [
       "                   Drug         MW    AMW         Sv         Se         Sp  \\\n",
       "0  PubChem.CID.10026128  438.51001  7.831  36.275002  56.813999  37.387001   \n",
       "1  PubChem.CID.10027278  460.48999  8.688  36.691002  54.224998  37.141998   \n",
       "\n",
       "          Si     Mv     Me     Mp      ...       CATS3D_10_LL  CATS3D_11_LL  \\\n",
       "0  63.286999  0.648  1.015  0.668      ...                0.0           0.0   \n",
       "1  59.958000  0.692  1.023  0.701      ...                0.0           0.0   \n",
       "\n",
       "   CATS3D_12_LL  CATS3D_13_LL  CATS3D_14_LL  CATS3D_15_LL  CATS3D_16_LL  \\\n",
       "0           0.0           0.0           0.0           0.0           0.0   \n",
       "1           0.0           0.0           0.0           0.0           0.0   \n",
       "\n",
       "   CATS3D_17_LL  CATS3D_18_LL  CATS3D_19_LL  \n",
       "0           0.0           0.0           0.0  \n",
       "1           0.0           0.0           0.0  \n",
       "\n",
       "[2 rows x 5271 columns]"
      ]
     },
     "metadata": {},
     "output_type": "display_data"
    }
   ],
   "source": [
    "display(df_info[:2])\n",
    "display(df_desc[:2])"
   ]
  },
  {
   "cell_type": "code",
   "execution_count": 36,
   "metadata": {},
   "outputs": [
    {
     "name": "stdout",
     "output_type": "stream",
     "text": [
      "(24, 5271)\n"
     ]
    },
    {
     "data": {
      "text/html": [
       "<div>\n",
       "<style scoped>\n",
       "    .dataframe tbody tr th:only-of-type {\n",
       "        vertical-align: middle;\n",
       "    }\n",
       "\n",
       "    .dataframe tbody tr th {\n",
       "        vertical-align: top;\n",
       "    }\n",
       "\n",
       "    .dataframe thead th {\n",
       "        text-align: right;\n",
       "    }\n",
       "</style>\n",
       "<table border=\"1\" class=\"dataframe\">\n",
       "  <thead>\n",
       "    <tr style=\"text-align: right;\">\n",
       "      <th></th>\n",
       "      <th>Drug</th>\n",
       "      <th>MW</th>\n",
       "      <th>AMW</th>\n",
       "      <th>Sv</th>\n",
       "      <th>Se</th>\n",
       "      <th>Sp</th>\n",
       "      <th>Si</th>\n",
       "      <th>Mv</th>\n",
       "      <th>Me</th>\n",
       "      <th>Mp</th>\n",
       "      <th>...</th>\n",
       "      <th>CATS3D_10_LL</th>\n",
       "      <th>CATS3D_11_LL</th>\n",
       "      <th>CATS3D_12_LL</th>\n",
       "      <th>CATS3D_13_LL</th>\n",
       "      <th>CATS3D_14_LL</th>\n",
       "      <th>CATS3D_15_LL</th>\n",
       "      <th>CATS3D_16_LL</th>\n",
       "      <th>CATS3D_17_LL</th>\n",
       "      <th>CATS3D_18_LL</th>\n",
       "      <th>CATS3D_19_LL</th>\n",
       "    </tr>\n",
       "  </thead>\n",
       "  <tbody>\n",
       "    <tr>\n",
       "      <th>0</th>\n",
       "      <td>CCLE.1</td>\n",
       "      <td>439.609985</td>\n",
       "      <td>7.090</td>\n",
       "      <td>39.143002</td>\n",
       "      <td>61.439999</td>\n",
       "      <td>41.619999</td>\n",
       "      <td>69.682999</td>\n",
       "      <td>0.631</td>\n",
       "      <td>0.991</td>\n",
       "      <td>0.671</td>\n",
       "      <td>...</td>\n",
       "      <td>0.0</td>\n",
       "      <td>0.0</td>\n",
       "      <td>0.0</td>\n",
       "      <td>0.0</td>\n",
       "      <td>0.0</td>\n",
       "      <td>0.0</td>\n",
       "      <td>0.0</td>\n",
       "      <td>0.0</td>\n",
       "      <td>0.0</td>\n",
       "      <td>0.0</td>\n",
       "    </tr>\n",
       "    <tr>\n",
       "      <th>1</th>\n",
       "      <td>CCLE.10</td>\n",
       "      <td>475.399994</td>\n",
       "      <td>8.804</td>\n",
       "      <td>34.717999</td>\n",
       "      <td>54.522999</td>\n",
       "      <td>36.597000</td>\n",
       "      <td>61.160000</td>\n",
       "      <td>0.643</td>\n",
       "      <td>1.010</td>\n",
       "      <td>0.678</td>\n",
       "      <td>...</td>\n",
       "      <td>0.0</td>\n",
       "      <td>0.0</td>\n",
       "      <td>0.0</td>\n",
       "      <td>0.0</td>\n",
       "      <td>0.0</td>\n",
       "      <td>0.0</td>\n",
       "      <td>0.0</td>\n",
       "      <td>0.0</td>\n",
       "      <td>0.0</td>\n",
       "      <td>0.0</td>\n",
       "    </tr>\n",
       "  </tbody>\n",
       "</table>\n",
       "<p>2 rows × 5271 columns</p>\n",
       "</div>"
      ],
      "text/plain": [
       "      Drug          MW    AMW         Sv         Se         Sp         Si  \\\n",
       "0   CCLE.1  439.609985  7.090  39.143002  61.439999  41.619999  69.682999   \n",
       "1  CCLE.10  475.399994  8.804  34.717999  54.522999  36.597000  61.160000   \n",
       "\n",
       "      Mv     Me     Mp      ...       CATS3D_10_LL  CATS3D_11_LL  \\\n",
       "0  0.631  0.991  0.671      ...                0.0           0.0   \n",
       "1  0.643  1.010  0.678      ...                0.0           0.0   \n",
       "\n",
       "   CATS3D_12_LL  CATS3D_13_LL  CATS3D_14_LL  CATS3D_15_LL  CATS3D_16_LL  \\\n",
       "0           0.0           0.0           0.0           0.0           0.0   \n",
       "1           0.0           0.0           0.0           0.0           0.0   \n",
       "\n",
       "   CATS3D_17_LL  CATS3D_18_LL  CATS3D_19_LL  \n",
       "0           0.0           0.0           0.0  \n",
       "1           0.0           0.0           0.0  \n",
       "\n",
       "[2 rows x 5271 columns]"
      ]
     },
     "execution_count": 36,
     "metadata": {},
     "output_type": "execute_result"
    }
   ],
   "source": [
    "# Important!\n",
    "df_desc = pd.merge(df_info[['ID', 'Drug']], df_desc, on='Drug').drop('Drug', axis=1).rename(columns={'ID': 'Drug'})\n",
    "print(df_desc.shape)\n",
    "df_desc[:2]"
   ]
  },
  {
   "cell_type": "code",
   "execution_count": null,
   "metadata": {},
   "outputs": [],
   "source": []
  },
  {
   "cell_type": "markdown",
   "metadata": {},
   "source": [
    "# Merge dataframes"
   ]
  },
  {
   "cell_type": "code",
   "execution_count": 37,
   "metadata": {},
   "outputs": [
    {
     "name": "stdout",
     "output_type": "stream",
     "text": [
      "(93251, 6)\n",
      "(1018, 943)\n",
      "(24, 5271)\n"
     ]
    }
   ],
   "source": [
    "print(df_resp.shape)\n",
    "print(df_exp.shape)\n",
    "print(df_desc.shape)"
   ]
  },
  {
   "cell_type": "code",
   "execution_count": 55,
   "metadata": {},
   "outputs": [
    {
     "name": "stdout",
     "output_type": "stream",
     "text": [
      "Source     0\n",
      "Sample     0\n",
      "Drug       0\n",
      "LOGCONC    0\n",
      "Growth     0\n",
      "Study      0\n",
      "dtype: int64\n",
      "NA values in expression 0\n",
      "NA values in descriptors 389\n"
     ]
    }
   ],
   "source": [
    "print(df_resp.isna().sum())\n",
    "print('NA values in expression', df_exp.isna().sum().sum())\n",
    "print('NA values in descriptors', df_desc.isna().sum().sum())"
   ]
  },
  {
   "cell_type": "code",
   "execution_count": 38,
   "metadata": {},
   "outputs": [],
   "source": [
    "df_resp = df_resp.rename(columns={'CELL': 'Sample', 'DRUG': 'Drug', 'SOURCE': 'Source',\n",
    "                                  'GROWTH': 'Growth', 'STUDY': 'Study'})"
   ]
  },
  {
   "cell_type": "code",
   "execution_count": 39,
   "metadata": {},
   "outputs": [
    {
     "name": "stdout",
     "output_type": "stream",
     "text": [
      "df_resp\n",
      "(93251, 6)\n"
     ]
    },
    {
     "data": {
      "text/html": [
       "<div>\n",
       "<style scoped>\n",
       "    .dataframe tbody tr th:only-of-type {\n",
       "        vertical-align: middle;\n",
       "    }\n",
       "\n",
       "    .dataframe tbody tr th {\n",
       "        vertical-align: top;\n",
       "    }\n",
       "\n",
       "    .dataframe thead th {\n",
       "        text-align: right;\n",
       "    }\n",
       "</style>\n",
       "<table border=\"1\" class=\"dataframe\">\n",
       "  <thead>\n",
       "    <tr style=\"text-align: right;\">\n",
       "      <th></th>\n",
       "      <th>Source</th>\n",
       "      <th>Sample</th>\n",
       "      <th>Drug</th>\n",
       "      <th>LOGCONC</th>\n",
       "      <th>Growth</th>\n",
       "      <th>Study</th>\n",
       "    </tr>\n",
       "  </thead>\n",
       "  <tbody>\n",
       "    <tr>\n",
       "      <th>0</th>\n",
       "      <td>CCLE</td>\n",
       "      <td>CCLE.1321N1</td>\n",
       "      <td>CCLE.1</td>\n",
       "      <td>-8.60206</td>\n",
       "      <td>117.339996</td>\n",
       "      <td>fake_exp</td>\n",
       "    </tr>\n",
       "    <tr>\n",
       "      <th>1</th>\n",
       "      <td>CCLE</td>\n",
       "      <td>CCLE.1321N1</td>\n",
       "      <td>CCLE.1</td>\n",
       "      <td>-8.09691</td>\n",
       "      <td>122.000000</td>\n",
       "      <td>fake_exp</td>\n",
       "    </tr>\n",
       "  </tbody>\n",
       "</table>\n",
       "</div>"
      ],
      "text/plain": [
       "  Source       Sample    Drug  LOGCONC      Growth     Study\n",
       "0   CCLE  CCLE.1321N1  CCLE.1 -8.60206  117.339996  fake_exp\n",
       "1   CCLE  CCLE.1321N1  CCLE.1 -8.09691  122.000000  fake_exp"
      ]
     },
     "metadata": {},
     "output_type": "display_data"
    },
    {
     "name": "stdout",
     "output_type": "stream",
     "text": [
      "df_exp\n",
      "(1018, 943)\n"
     ]
    },
    {
     "data": {
      "text/html": [
       "<div>\n",
       "<style scoped>\n",
       "    .dataframe tbody tr th:only-of-type {\n",
       "        vertical-align: middle;\n",
       "    }\n",
       "\n",
       "    .dataframe tbody tr th {\n",
       "        vertical-align: top;\n",
       "    }\n",
       "\n",
       "    .dataframe thead th {\n",
       "        text-align: right;\n",
       "    }\n",
       "</style>\n",
       "<table border=\"1\" class=\"dataframe\">\n",
       "  <thead>\n",
       "    <tr style=\"text-align: right;\">\n",
       "      <th></th>\n",
       "      <th>Sample</th>\n",
       "      <th>rnaseq.AARS</th>\n",
       "      <th>rnaseq.ABCB6</th>\n",
       "      <th>rnaseq.ABCC5</th>\n",
       "      <th>rnaseq.ABCF1</th>\n",
       "      <th>rnaseq.ABCF3</th>\n",
       "      <th>rnaseq.ABHD4</th>\n",
       "      <th>rnaseq.ABHD6</th>\n",
       "      <th>rnaseq.ABL1</th>\n",
       "      <th>rnaseq.ACAA1</th>\n",
       "      <th>...</th>\n",
       "      <th>rnaseq.ZMIZ1</th>\n",
       "      <th>rnaseq.ZMYM2</th>\n",
       "      <th>rnaseq.ZNF131</th>\n",
       "      <th>rnaseq.ZNF274</th>\n",
       "      <th>rnaseq.ZNF318</th>\n",
       "      <th>rnaseq.ZNF395</th>\n",
       "      <th>rnaseq.ZNF451</th>\n",
       "      <th>rnaseq.ZNF586</th>\n",
       "      <th>rnaseq.ZNF589</th>\n",
       "      <th>rnaseq.ZW10</th>\n",
       "    </tr>\n",
       "  </thead>\n",
       "  <tbody>\n",
       "    <tr>\n",
       "      <th>0</th>\n",
       "      <td>CCLE.22RV1</td>\n",
       "      <td>0.643460</td>\n",
       "      <td>1.665659</td>\n",
       "      <td>-0.003287</td>\n",
       "      <td>-1.612203</td>\n",
       "      <td>0.440622</td>\n",
       "      <td>-0.603358</td>\n",
       "      <td>-0.688464</td>\n",
       "      <td>-0.259270</td>\n",
       "      <td>0.177445</td>\n",
       "      <td>...</td>\n",
       "      <td>-1.105644</td>\n",
       "      <td>0.636475</td>\n",
       "      <td>0.150561</td>\n",
       "      <td>-0.280040</td>\n",
       "      <td>0.931946</td>\n",
       "      <td>0.295963</td>\n",
       "      <td>1.24120</td>\n",
       "      <td>1.413897</td>\n",
       "      <td>0.753615</td>\n",
       "      <td>0.892602</td>\n",
       "    </tr>\n",
       "    <tr>\n",
       "      <th>1</th>\n",
       "      <td>CCLE.2313287</td>\n",
       "      <td>1.464804</td>\n",
       "      <td>1.039212</td>\n",
       "      <td>-0.309370</td>\n",
       "      <td>0.023618</td>\n",
       "      <td>0.332630</td>\n",
       "      <td>1.231317</td>\n",
       "      <td>0.944933</td>\n",
       "      <td>-0.957579</td>\n",
       "      <td>0.930680</td>\n",
       "      <td>...</td>\n",
       "      <td>-0.572183</td>\n",
       "      <td>0.575539</td>\n",
       "      <td>0.609772</td>\n",
       "      <td>-0.104828</td>\n",
       "      <td>-0.055401</td>\n",
       "      <td>-0.619046</td>\n",
       "      <td>1.37306</td>\n",
       "      <td>0.961168</td>\n",
       "      <td>0.649255</td>\n",
       "      <td>1.093517</td>\n",
       "    </tr>\n",
       "  </tbody>\n",
       "</table>\n",
       "<p>2 rows × 943 columns</p>\n",
       "</div>"
      ],
      "text/plain": [
       "         Sample  rnaseq.AARS  rnaseq.ABCB6  rnaseq.ABCC5  rnaseq.ABCF1  \\\n",
       "0    CCLE.22RV1     0.643460      1.665659     -0.003287     -1.612203   \n",
       "1  CCLE.2313287     1.464804      1.039212     -0.309370      0.023618   \n",
       "\n",
       "   rnaseq.ABCF3  rnaseq.ABHD4  rnaseq.ABHD6  rnaseq.ABL1  rnaseq.ACAA1  \\\n",
       "0      0.440622     -0.603358     -0.688464    -0.259270      0.177445   \n",
       "1      0.332630      1.231317      0.944933    -0.957579      0.930680   \n",
       "\n",
       "      ...       rnaseq.ZMIZ1  rnaseq.ZMYM2  rnaseq.ZNF131  rnaseq.ZNF274  \\\n",
       "0     ...          -1.105644      0.636475       0.150561      -0.280040   \n",
       "1     ...          -0.572183      0.575539       0.609772      -0.104828   \n",
       "\n",
       "   rnaseq.ZNF318  rnaseq.ZNF395  rnaseq.ZNF451  rnaseq.ZNF586  rnaseq.ZNF589  \\\n",
       "0       0.931946       0.295963        1.24120       1.413897       0.753615   \n",
       "1      -0.055401      -0.619046        1.37306       0.961168       0.649255   \n",
       "\n",
       "   rnaseq.ZW10  \n",
       "0     0.892602  \n",
       "1     1.093517  \n",
       "\n",
       "[2 rows x 943 columns]"
      ]
     },
     "metadata": {},
     "output_type": "display_data"
    },
    {
     "name": "stdout",
     "output_type": "stream",
     "text": [
      "df_desc\n",
      "(24, 5271)\n"
     ]
    },
    {
     "data": {
      "text/html": [
       "<div>\n",
       "<style scoped>\n",
       "    .dataframe tbody tr th:only-of-type {\n",
       "        vertical-align: middle;\n",
       "    }\n",
       "\n",
       "    .dataframe tbody tr th {\n",
       "        vertical-align: top;\n",
       "    }\n",
       "\n",
       "    .dataframe thead th {\n",
       "        text-align: right;\n",
       "    }\n",
       "</style>\n",
       "<table border=\"1\" class=\"dataframe\">\n",
       "  <thead>\n",
       "    <tr style=\"text-align: right;\">\n",
       "      <th></th>\n",
       "      <th>Drug</th>\n",
       "      <th>MW</th>\n",
       "      <th>AMW</th>\n",
       "      <th>Sv</th>\n",
       "      <th>Se</th>\n",
       "      <th>Sp</th>\n",
       "      <th>Si</th>\n",
       "      <th>Mv</th>\n",
       "      <th>Me</th>\n",
       "      <th>Mp</th>\n",
       "      <th>...</th>\n",
       "      <th>CATS3D_10_LL</th>\n",
       "      <th>CATS3D_11_LL</th>\n",
       "      <th>CATS3D_12_LL</th>\n",
       "      <th>CATS3D_13_LL</th>\n",
       "      <th>CATS3D_14_LL</th>\n",
       "      <th>CATS3D_15_LL</th>\n",
       "      <th>CATS3D_16_LL</th>\n",
       "      <th>CATS3D_17_LL</th>\n",
       "      <th>CATS3D_18_LL</th>\n",
       "      <th>CATS3D_19_LL</th>\n",
       "    </tr>\n",
       "  </thead>\n",
       "  <tbody>\n",
       "    <tr>\n",
       "      <th>0</th>\n",
       "      <td>CCLE.1</td>\n",
       "      <td>439.609985</td>\n",
       "      <td>7.090</td>\n",
       "      <td>39.143002</td>\n",
       "      <td>61.439999</td>\n",
       "      <td>41.619999</td>\n",
       "      <td>69.682999</td>\n",
       "      <td>0.631</td>\n",
       "      <td>0.991</td>\n",
       "      <td>0.671</td>\n",
       "      <td>...</td>\n",
       "      <td>0.0</td>\n",
       "      <td>0.0</td>\n",
       "      <td>0.0</td>\n",
       "      <td>0.0</td>\n",
       "      <td>0.0</td>\n",
       "      <td>0.0</td>\n",
       "      <td>0.0</td>\n",
       "      <td>0.0</td>\n",
       "      <td>0.0</td>\n",
       "      <td>0.0</td>\n",
       "    </tr>\n",
       "    <tr>\n",
       "      <th>1</th>\n",
       "      <td>CCLE.10</td>\n",
       "      <td>475.399994</td>\n",
       "      <td>8.804</td>\n",
       "      <td>34.717999</td>\n",
       "      <td>54.522999</td>\n",
       "      <td>36.597000</td>\n",
       "      <td>61.160000</td>\n",
       "      <td>0.643</td>\n",
       "      <td>1.010</td>\n",
       "      <td>0.678</td>\n",
       "      <td>...</td>\n",
       "      <td>0.0</td>\n",
       "      <td>0.0</td>\n",
       "      <td>0.0</td>\n",
       "      <td>0.0</td>\n",
       "      <td>0.0</td>\n",
       "      <td>0.0</td>\n",
       "      <td>0.0</td>\n",
       "      <td>0.0</td>\n",
       "      <td>0.0</td>\n",
       "      <td>0.0</td>\n",
       "    </tr>\n",
       "  </tbody>\n",
       "</table>\n",
       "<p>2 rows × 5271 columns</p>\n",
       "</div>"
      ],
      "text/plain": [
       "      Drug          MW    AMW         Sv         Se         Sp         Si  \\\n",
       "0   CCLE.1  439.609985  7.090  39.143002  61.439999  41.619999  69.682999   \n",
       "1  CCLE.10  475.399994  8.804  34.717999  54.522999  36.597000  61.160000   \n",
       "\n",
       "      Mv     Me     Mp      ...       CATS3D_10_LL  CATS3D_11_LL  \\\n",
       "0  0.631  0.991  0.671      ...                0.0           0.0   \n",
       "1  0.643  1.010  0.678      ...                0.0           0.0   \n",
       "\n",
       "   CATS3D_12_LL  CATS3D_13_LL  CATS3D_14_LL  CATS3D_15_LL  CATS3D_16_LL  \\\n",
       "0           0.0           0.0           0.0           0.0           0.0   \n",
       "1           0.0           0.0           0.0           0.0           0.0   \n",
       "\n",
       "   CATS3D_17_LL  CATS3D_18_LL  CATS3D_19_LL  \n",
       "0           0.0           0.0           0.0  \n",
       "1           0.0           0.0           0.0  \n",
       "\n",
       "[2 rows x 5271 columns]"
      ]
     },
     "metadata": {},
     "output_type": "display_data"
    }
   ],
   "source": [
    "print('df_resp')\n",
    "print(df_resp.shape)\n",
    "display(df_resp[:2])\n",
    "\n",
    "print('df_exp')\n",
    "print(df_exp.shape)\n",
    "display(df_exp[:2])\n",
    "\n",
    "print('df_desc')\n",
    "print(df_desc.shape)\n",
    "display(df_desc[:2])"
   ]
  },
  {
   "cell_type": "markdown",
   "metadata": {},
   "source": [
    "**Merge response and expression**"
   ]
  },
  {
   "cell_type": "code",
   "execution_count": 40,
   "metadata": {},
   "outputs": [
    {
     "name": "stdout",
     "output_type": "stream",
     "text": [
      "504\n",
      "1018\n"
     ]
    }
   ],
   "source": [
    "print(df_resp['Sample'].nunique())\n",
    "print(df_exp['Sample'].nunique())"
   ]
  },
  {
   "cell_type": "code",
   "execution_count": 41,
   "metadata": {},
   "outputs": [
    {
     "name": "stdout",
     "output_type": "stream",
     "text": [
      "(87665, 948)\n",
      "474\n"
     ]
    },
    {
     "data": {
      "text/html": [
       "<div>\n",
       "<style scoped>\n",
       "    .dataframe tbody tr th:only-of-type {\n",
       "        vertical-align: middle;\n",
       "    }\n",
       "\n",
       "    .dataframe tbody tr th {\n",
       "        vertical-align: top;\n",
       "    }\n",
       "\n",
       "    .dataframe thead th {\n",
       "        text-align: right;\n",
       "    }\n",
       "</style>\n",
       "<table border=\"1\" class=\"dataframe\">\n",
       "  <thead>\n",
       "    <tr style=\"text-align: right;\">\n",
       "      <th></th>\n",
       "      <th>Source</th>\n",
       "      <th>Sample</th>\n",
       "      <th>Drug</th>\n",
       "      <th>LOGCONC</th>\n",
       "      <th>Growth</th>\n",
       "      <th>Study</th>\n",
       "      <th>rnaseq.AARS</th>\n",
       "      <th>rnaseq.ABCB6</th>\n",
       "      <th>rnaseq.ABCC5</th>\n",
       "      <th>rnaseq.ABCF1</th>\n",
       "      <th>...</th>\n",
       "      <th>rnaseq.ZMIZ1</th>\n",
       "      <th>rnaseq.ZMYM2</th>\n",
       "      <th>rnaseq.ZNF131</th>\n",
       "      <th>rnaseq.ZNF274</th>\n",
       "      <th>rnaseq.ZNF318</th>\n",
       "      <th>rnaseq.ZNF395</th>\n",
       "      <th>rnaseq.ZNF451</th>\n",
       "      <th>rnaseq.ZNF586</th>\n",
       "      <th>rnaseq.ZNF589</th>\n",
       "      <th>rnaseq.ZW10</th>\n",
       "    </tr>\n",
       "  </thead>\n",
       "  <tbody>\n",
       "    <tr>\n",
       "      <th>0</th>\n",
       "      <td>CCLE</td>\n",
       "      <td>CCLE.22RV1</td>\n",
       "      <td>CCLE.1</td>\n",
       "      <td>-8.60206</td>\n",
       "      <td>101.879997</td>\n",
       "      <td>fake_exp</td>\n",
       "      <td>0.64346</td>\n",
       "      <td>1.665659</td>\n",
       "      <td>-0.003287</td>\n",
       "      <td>-1.612203</td>\n",
       "      <td>...</td>\n",
       "      <td>-1.105644</td>\n",
       "      <td>0.636475</td>\n",
       "      <td>0.150561</td>\n",
       "      <td>-0.28004</td>\n",
       "      <td>0.931946</td>\n",
       "      <td>0.295963</td>\n",
       "      <td>1.2412</td>\n",
       "      <td>1.413897</td>\n",
       "      <td>0.753615</td>\n",
       "      <td>0.892602</td>\n",
       "    </tr>\n",
       "    <tr>\n",
       "      <th>1</th>\n",
       "      <td>CCLE</td>\n",
       "      <td>CCLE.22RV1</td>\n",
       "      <td>CCLE.1</td>\n",
       "      <td>-8.09691</td>\n",
       "      <td>125.000000</td>\n",
       "      <td>fake_exp</td>\n",
       "      <td>0.64346</td>\n",
       "      <td>1.665659</td>\n",
       "      <td>-0.003287</td>\n",
       "      <td>-1.612203</td>\n",
       "      <td>...</td>\n",
       "      <td>-1.105644</td>\n",
       "      <td>0.636475</td>\n",
       "      <td>0.150561</td>\n",
       "      <td>-0.28004</td>\n",
       "      <td>0.931946</td>\n",
       "      <td>0.295963</td>\n",
       "      <td>1.2412</td>\n",
       "      <td>1.413897</td>\n",
       "      <td>0.753615</td>\n",
       "      <td>0.892602</td>\n",
       "    </tr>\n",
       "  </tbody>\n",
       "</table>\n",
       "<p>2 rows × 948 columns</p>\n",
       "</div>"
      ],
      "text/plain": [
       "  Source      Sample    Drug  LOGCONC      Growth     Study  rnaseq.AARS  \\\n",
       "0   CCLE  CCLE.22RV1  CCLE.1 -8.60206  101.879997  fake_exp      0.64346   \n",
       "1   CCLE  CCLE.22RV1  CCLE.1 -8.09691  125.000000  fake_exp      0.64346   \n",
       "\n",
       "   rnaseq.ABCB6  rnaseq.ABCC5  rnaseq.ABCF1     ...       rnaseq.ZMIZ1  \\\n",
       "0      1.665659     -0.003287     -1.612203     ...          -1.105644   \n",
       "1      1.665659     -0.003287     -1.612203     ...          -1.105644   \n",
       "\n",
       "   rnaseq.ZMYM2  rnaseq.ZNF131  rnaseq.ZNF274  rnaseq.ZNF318  rnaseq.ZNF395  \\\n",
       "0      0.636475       0.150561       -0.28004       0.931946       0.295963   \n",
       "1      0.636475       0.150561       -0.28004       0.931946       0.295963   \n",
       "\n",
       "   rnaseq.ZNF451  rnaseq.ZNF586  rnaseq.ZNF589  rnaseq.ZW10  \n",
       "0         1.2412       1.413897       0.753615     0.892602  \n",
       "1         1.2412       1.413897       0.753615     0.892602  \n",
       "\n",
       "[2 rows x 948 columns]"
      ]
     },
     "execution_count": 41,
     "metadata": {},
     "output_type": "execute_result"
    }
   ],
   "source": [
    "df_resp_exp = df_resp.merge(df_exp, on='Sample')\n",
    "print(df_resp_exp.shape)\n",
    "print(df_resp_exp['Sample'].nunique())\n",
    "df_resp_exp[:2]"
   ]
  },
  {
   "cell_type": "markdown",
   "metadata": {},
   "source": [
    "**Merge descriptors to response and expression**"
   ]
  },
  {
   "cell_type": "code",
   "execution_count": 42,
   "metadata": {},
   "outputs": [],
   "source": [
    "df_resp_exp_desc = df_resp_exp.merge(df_desc, on='Drug')"
   ]
  },
  {
   "cell_type": "code",
   "execution_count": null,
   "metadata": {},
   "outputs": [],
   "source": []
  }
 ],
 "metadata": {
  "kernelspec": {
   "display_name": "Python 3",
   "language": "python",
   "name": "python3"
  },
  "language_info": {
   "codemirror_mode": {
    "name": "ipython",
    "version": 3
   },
   "file_extension": ".py",
   "mimetype": "text/x-python",
   "name": "python",
   "nbconvert_exporter": "python",
   "pygments_lexer": "ipython3",
   "version": "3.7.0"
  }
 },
 "nbformat": 4,
 "nbformat_minor": 2
}
