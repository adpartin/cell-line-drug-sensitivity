{
 "cells": [
  {
   "cell_type": "markdown",
   "metadata": {},
   "source": [
    "# Top6"
   ]
  },
  {
   "cell_type": "code",
   "execution_count": 1,
   "metadata": {},
   "outputs": [],
   "source": [
    "%load_ext autoreload\n",
    "%autoreload 2\n",
    "%matplotlib inline\n",
    "\n",
    "import warnings\n",
    "warnings.filterwarnings('ignore')\n",
    "\n",
    "import os\n",
    "from pathlib import Path\n",
    "import sys\n",
    "import time\n",
    "import numpy as np\n",
    "import pandas as pd\n",
    "\n",
    "import matplotlib.pyplot as plt\n",
    "import matplotlib.cm as cm"
   ]
  },
  {
   "cell_type": "code",
   "execution_count": 2,
   "metadata": {},
   "outputs": [
    {
     "name": "stdout",
     "output_type": "stream",
     "text": [
      "(283152, 3765)\n"
     ]
    }
   ],
   "source": [
    "df = pd.read_parquet('../uniq.top6.reg.parquet', engine='auto', columns=None)\n",
    "col_idx = df.nunique(dropna=True).values==1  # col indexes to drop\n",
    "df = df.iloc[:, ~col_idx]\n",
    "\n",
    "print(df.shape)"
   ]
  },
  {
   "cell_type": "code",
   "execution_count": 3,
   "metadata": {},
   "outputs": [],
   "source": [
    "def split_cell_drug(dff):\n",
    "    \"\"\" Split drug and cell features. \"\"\"\n",
    "    dff = dff.copy()\n",
    "    dd_cols = [c for c in df.columns if 'DD_' in c]\n",
    "    ge_cols = [c for c in df.columns if 'GE_' in c]\n",
    "    dd = dff[dd_cols]\n",
    "    ge = dff[ge_cols]\n",
    "    print('\\ndd.shape', dd.shape)\n",
    "    print('ge.shape', ge.shape)\n",
    "    return dd, ge\n",
    "\n",
    "\n",
    "def add_lbl_dup(dff, label_name='lb', prffx='_'):\n",
    "    \"\"\" Add col indicating with unique row (label). \"\"\"\n",
    "    idx_org = dff.index.values\n",
    "    \n",
    "    # Sort rows (duplicated rows will be concateneted)\n",
    "    dff = dff.sort_values(by=dff.columns.tolist())\n",
    "    # Add boolean col indicating the start of new unique row\n",
    "    dff = pd.concat([dff.duplicated(keep='first'), dff], axis=1).rename(columns={0: 'd'})\n",
    "\n",
    "    # Add col indicating a unique row\n",
    "    c = -1\n",
    "    v = np.ones((len(dff),))\n",
    "    for i, x in enumerate(dff['d']):\n",
    "        # if i % 50000 == 0: print(i)\n",
    "        if x is False:\n",
    "            c += 1\n",
    "            v[i] = int(c)\n",
    "        else:\n",
    "            v[i] = c\n",
    "\n",
    "    dff.insert(loc=1, column=label_name, value=v) \n",
    "    dff = dff.reindex(idx_org)\n",
    "    dff = dff.drop(columns=['d'])\n",
    "    \n",
    "    dff[label_name] = dff[label_name].map(lambda x: prffx + str(int(x)))\n",
    "    return dff"
   ]
  },
  {
   "cell_type": "code",
   "execution_count": 4,
   "metadata": {},
   "outputs": [
    {
     "name": "stdout",
     "output_type": "stream",
     "text": [
      "\n",
      "dd.shape (283152, 2822)\n",
      "ge.shape (283152, 942)\n"
     ]
    }
   ],
   "source": [
    "dd, ge = split_cell_drug(dff=df)\n",
    "dlb = add_lbl_dup(dd, label_name='dlb', prffx='d')['dlb']\n",
    "clb = add_lbl_dup(ge, label_name='clb', prffx='c')['clb']"
   ]
  },
  {
   "cell_type": "code",
   "execution_count": 6,
   "metadata": {},
   "outputs": [
    {
     "data": {
      "text/html": [
       "<div>\n",
       "<style scoped>\n",
       "    .dataframe tbody tr th:only-of-type {\n",
       "        vertical-align: middle;\n",
       "    }\n",
       "\n",
       "    .dataframe tbody tr th {\n",
       "        vertical-align: top;\n",
       "    }\n",
       "\n",
       "    .dataframe thead th {\n",
       "        text-align: right;\n",
       "    }\n",
       "</style>\n",
       "<table border=\"1\" class=\"dataframe\">\n",
       "  <thead>\n",
       "    <tr style=\"text-align: right;\">\n",
       "      <th></th>\n",
       "      <th>DD_MW</th>\n",
       "      <th>DD_AMW</th>\n",
       "      <th>DD_Sv</th>\n",
       "      <th>DD_Se</th>\n",
       "      <th>DD_Sp</th>\n",
       "      <th>DD_Si</th>\n",
       "      <th>DD_Mv</th>\n",
       "      <th>DD_Me</th>\n",
       "      <th>DD_Mp</th>\n",
       "      <th>DD_Mi</th>\n",
       "      <th>...</th>\n",
       "      <th>DD_Psychotic-80</th>\n",
       "      <th>DD_Psychotic-50</th>\n",
       "      <th>DD_Hypertens-80</th>\n",
       "      <th>DD_Hypertens-50</th>\n",
       "      <th>DD_Hypnotic-80</th>\n",
       "      <th>DD_Hypnotic-50</th>\n",
       "      <th>DD_Neoplastic-80</th>\n",
       "      <th>DD_Neoplastic-50</th>\n",
       "      <th>DD_Infective-80</th>\n",
       "      <th>DD_Infective-50</th>\n",
       "    </tr>\n",
       "  </thead>\n",
       "  <tbody>\n",
       "    <tr>\n",
       "      <th>0</th>\n",
       "      <td>974.73</td>\n",
       "      <td>8.123</td>\n",
       "      <td>76.158</td>\n",
       "      <td>121.421</td>\n",
       "      <td>80.927</td>\n",
       "      <td>135.681</td>\n",
       "      <td>0.635</td>\n",
       "      <td>1.012</td>\n",
       "      <td>0.674</td>\n",
       "      <td>1.131</td>\n",
       "      <td>...</td>\n",
       "      <td>0.0</td>\n",
       "      <td>0.0</td>\n",
       "      <td>0.0</td>\n",
       "      <td>0.0</td>\n",
       "      <td>0.0</td>\n",
       "      <td>0.0</td>\n",
       "      <td>0.0</td>\n",
       "      <td>0.0</td>\n",
       "      <td>0.0</td>\n",
       "      <td>0.0</td>\n",
       "    </tr>\n",
       "    <tr>\n",
       "      <th>1</th>\n",
       "      <td>974.73</td>\n",
       "      <td>8.123</td>\n",
       "      <td>76.158</td>\n",
       "      <td>121.421</td>\n",
       "      <td>80.927</td>\n",
       "      <td>135.681</td>\n",
       "      <td>0.635</td>\n",
       "      <td>1.012</td>\n",
       "      <td>0.674</td>\n",
       "      <td>1.131</td>\n",
       "      <td>...</td>\n",
       "      <td>0.0</td>\n",
       "      <td>0.0</td>\n",
       "      <td>0.0</td>\n",
       "      <td>0.0</td>\n",
       "      <td>0.0</td>\n",
       "      <td>0.0</td>\n",
       "      <td>0.0</td>\n",
       "      <td>0.0</td>\n",
       "      <td>0.0</td>\n",
       "      <td>0.0</td>\n",
       "    </tr>\n",
       "  </tbody>\n",
       "</table>\n",
       "<p>2 rows × 2822 columns</p>\n",
       "</div>"
      ],
      "text/plain": [
       "    DD_MW  DD_AMW   DD_Sv    DD_Se   DD_Sp    DD_Si  DD_Mv  DD_Me  DD_Mp  \\\n",
       "0  974.73   8.123  76.158  121.421  80.927  135.681  0.635  1.012  0.674   \n",
       "1  974.73   8.123  76.158  121.421  80.927  135.681  0.635  1.012  0.674   \n",
       "\n",
       "   DD_Mi  ...  DD_Psychotic-80  DD_Psychotic-50  DD_Hypertens-80  \\\n",
       "0  1.131  ...              0.0              0.0              0.0   \n",
       "1  1.131  ...              0.0              0.0              0.0   \n",
       "\n",
       "   DD_Hypertens-50  DD_Hypnotic-80  DD_Hypnotic-50  DD_Neoplastic-80  \\\n",
       "0              0.0             0.0             0.0               0.0   \n",
       "1              0.0             0.0             0.0               0.0   \n",
       "\n",
       "   DD_Neoplastic-50  DD_Infective-80  DD_Infective-50  \n",
       "0               0.0              0.0              0.0  \n",
       "1               0.0              0.0              0.0  \n",
       "\n",
       "[2 rows x 2822 columns]"
      ]
     },
     "execution_count": 6,
     "metadata": {},
     "output_type": "execute_result"
    }
   ],
   "source": [
    "dd[:2]"
   ]
  },
  {
   "cell_type": "code",
   "execution_count": 7,
   "metadata": {},
   "outputs": [
    {
     "data": {
      "text/html": [
       "<div>\n",
       "<style scoped>\n",
       "    .dataframe tbody tr th:only-of-type {\n",
       "        vertical-align: middle;\n",
       "    }\n",
       "\n",
       "    .dataframe tbody tr th {\n",
       "        vertical-align: top;\n",
       "    }\n",
       "\n",
       "    .dataframe thead th {\n",
       "        text-align: right;\n",
       "    }\n",
       "</style>\n",
       "<table border=\"1\" class=\"dataframe\">\n",
       "  <thead>\n",
       "    <tr style=\"text-align: right;\">\n",
       "      <th></th>\n",
       "      <th>GE_AARS</th>\n",
       "      <th>GE_ABCB6</th>\n",
       "      <th>GE_ABCC5</th>\n",
       "      <th>GE_ABCF1</th>\n",
       "      <th>GE_ABCF3</th>\n",
       "      <th>GE_ABHD4</th>\n",
       "      <th>GE_ABHD6</th>\n",
       "      <th>GE_ABL1</th>\n",
       "      <th>GE_ACAA1</th>\n",
       "      <th>GE_ACAT2</th>\n",
       "      <th>...</th>\n",
       "      <th>GE_ZMIZ1</th>\n",
       "      <th>GE_ZMYM2</th>\n",
       "      <th>GE_ZNF131</th>\n",
       "      <th>GE_ZNF274</th>\n",
       "      <th>GE_ZNF318</th>\n",
       "      <th>GE_ZNF395</th>\n",
       "      <th>GE_ZNF451</th>\n",
       "      <th>GE_ZNF586</th>\n",
       "      <th>GE_ZNF589</th>\n",
       "      <th>GE_ZW10</th>\n",
       "    </tr>\n",
       "  </thead>\n",
       "  <tbody>\n",
       "    <tr>\n",
       "      <th>0</th>\n",
       "      <td>-2.7680</td>\n",
       "      <td>-0.929</td>\n",
       "      <td>-0.7397</td>\n",
       "      <td>-2.2230</td>\n",
       "      <td>-2.08</td>\n",
       "      <td>-0.624</td>\n",
       "      <td>-0.010086</td>\n",
       "      <td>0.3992</td>\n",
       "      <td>0.6140</td>\n",
       "      <td>-0.65500</td>\n",
       "      <td>...</td>\n",
       "      <td>0.1420</td>\n",
       "      <td>-0.7695</td>\n",
       "      <td>-0.4844</td>\n",
       "      <td>-0.6543</td>\n",
       "      <td>-1.4460</td>\n",
       "      <td>-0.8420</td>\n",
       "      <td>-0.3555</td>\n",
       "      <td>-0.4753</td>\n",
       "      <td>-1.339</td>\n",
       "      <td>-0.4937</td>\n",
       "    </tr>\n",
       "    <tr>\n",
       "      <th>1</th>\n",
       "      <td>0.8354</td>\n",
       "      <td>0.553</td>\n",
       "      <td>-0.3386</td>\n",
       "      <td>0.6025</td>\n",
       "      <td>-0.73</td>\n",
       "      <td>-0.685</td>\n",
       "      <td>1.184000</td>\n",
       "      <td>0.4116</td>\n",
       "      <td>-0.0731</td>\n",
       "      <td>-0.01535</td>\n",
       "      <td>...</td>\n",
       "      <td>0.5327</td>\n",
       "      <td>0.6830</td>\n",
       "      <td>0.0725</td>\n",
       "      <td>0.2411</td>\n",
       "      <td>-0.2615</td>\n",
       "      <td>-0.1866</td>\n",
       "      <td>-0.2996</td>\n",
       "      <td>1.3545</td>\n",
       "      <td>1.356</td>\n",
       "      <td>1.5620</td>\n",
       "    </tr>\n",
       "  </tbody>\n",
       "</table>\n",
       "<p>2 rows × 942 columns</p>\n",
       "</div>"
      ],
      "text/plain": [
       "   GE_AARS  GE_ABCB6  GE_ABCC5  GE_ABCF1  GE_ABCF3  GE_ABHD4  GE_ABHD6  \\\n",
       "0  -2.7680    -0.929   -0.7397   -2.2230     -2.08    -0.624 -0.010086   \n",
       "1   0.8354     0.553   -0.3386    0.6025     -0.73    -0.685  1.184000   \n",
       "\n",
       "   GE_ABL1  GE_ACAA1  GE_ACAT2  ...  GE_ZMIZ1  GE_ZMYM2  GE_ZNF131  GE_ZNF274  \\\n",
       "0   0.3992    0.6140  -0.65500  ...    0.1420   -0.7695    -0.4844    -0.6543   \n",
       "1   0.4116   -0.0731  -0.01535  ...    0.5327    0.6830     0.0725     0.2411   \n",
       "\n",
       "   GE_ZNF318  GE_ZNF395  GE_ZNF451  GE_ZNF586  GE_ZNF589  GE_ZW10  \n",
       "0    -1.4460    -0.8420    -0.3555    -0.4753     -1.339  -0.4937  \n",
       "1    -0.2615    -0.1866    -0.2996     1.3545      1.356   1.5620  \n",
       "\n",
       "[2 rows x 942 columns]"
      ]
     },
     "execution_count": 7,
     "metadata": {},
     "output_type": "execute_result"
    }
   ],
   "source": [
    "ge[:2]"
   ]
  },
  {
   "cell_type": "code",
   "execution_count": 8,
   "metadata": {},
   "outputs": [
    {
     "name": "stdout",
     "output_type": "stream",
     "text": [
      "1748\n",
      "748\n"
     ]
    }
   ],
   "source": [
    "print(len(dlb.unique()))\n",
    "print(len(clb.unique()))"
   ]
  },
  {
   "cell_type": "code",
   "execution_count": null,
   "metadata": {},
   "outputs": [],
   "source": []
  },
  {
   "cell_type": "markdown",
   "metadata": {},
   "source": [
    "## How come there combinations that were tested more than 100 times??"
   ]
  },
  {
   "cell_type": "code",
   "execution_count": 15,
   "metadata": {},
   "outputs": [],
   "source": [
    "# Unique combinations\n",
    "xdata = df.iloc[:,1:].copy()\n",
    "df_ = add_lbl_dup(xdata, label_name='cmb', prffx='s')"
   ]
  },
  {
   "cell_type": "code",
   "execution_count": 21,
   "metadata": {},
   "outputs": [
    {
     "data": {
      "text/plain": [
       "s2551    128\n",
       "s2553    127\n",
       "s2552    127\n",
       "s2542    126\n",
       "s2558    125\n",
       "Name: cmb, dtype: int64"
      ]
     },
     "execution_count": 21,
     "metadata": {},
     "output_type": "execute_result"
    }
   ],
   "source": [
    "# How come there combinations that were tested more than 100 times??\n",
    "df_['cmb'].value_counts()[:5]"
   ]
  },
  {
   "cell_type": "code",
   "execution_count": 22,
   "metadata": {},
   "outputs": [],
   "source": [
    "print(x_tmp.shape)\n",
    "x_tmp = xdata.drop_duplicates()\n",
    "print(x_tmp.shape)"
   ]
  },
  {
   "cell_type": "code",
   "execution_count": null,
   "metadata": {},
   "outputs": [],
   "source": [
    "mm = dlb + '_' + clb\n",
    "mm.value_counts()[:10]"
   ]
  },
  {
   "cell_type": "code",
   "execution_count": null,
   "metadata": {},
   "outputs": [],
   "source": []
  },
  {
   "cell_type": "code",
   "execution_count": null,
   "metadata": {},
   "outputs": [],
   "source": []
  },
  {
   "cell_type": "markdown",
   "metadata": {},
   "source": [
    "## Plot wrm and ref curves"
   ]
  },
  {
   "cell_type": "code",
   "execution_count": 1,
   "metadata": {},
   "outputs": [],
   "source": [
    "import os\n",
    "from pathlib import Path\n",
    "import pandas as pd\n",
    "import numpy as np\n",
    "from glob import glob\n",
    "path = Path(os.getcwd())\n",
    "\n",
    "import matplotlib.pyplot as plt"
   ]
  },
  {
   "cell_type": "code",
   "execution_count": 2,
   "metadata": {},
   "outputs": [],
   "source": [
    "path = path/'../models/candle_accl_trn'\n",
    "# split_by = 'none'\n",
    "# split_by = 'cell'\n",
    "split_by = 'both'\n",
    "\n",
    "wrmdir = path/'wrm'/f'split_by_{split_by}'\n",
    "refdir = path/'ref'/f'split_by_{split_by}'"
   ]
  },
  {
   "cell_type": "code",
   "execution_count": 3,
   "metadata": {},
   "outputs": [],
   "source": [
    "h_wrm = pd.read_csv(wrmdir/'keras_history.csv')\n",
    "h_ref = pd.read_csv(refdir/'keras_history.csv')"
   ]
  },
  {
   "cell_type": "code",
   "execution_count": 4,
   "metadata": {},
   "outputs": [],
   "source": [
    "h_wrm['epoch'] = h_wrm.index.values + 1\n",
    "h_ref['epoch'] = h_wrm.index.values + 1\n",
    "skip_epochs = 10"
   ]
  },
  {
   "cell_type": "code",
   "execution_count": 5,
   "metadata": {},
   "outputs": [],
   "source": [
    "OUTDIR = path"
   ]
  },
  {
   "cell_type": "code",
   "execution_count": 6,
   "metadata": {},
   "outputs": [
    {
     "data": {
      "image/png": "[encoded data removed]",
      "text/plain": [
       "<Figure size 432x288 with 1 Axes>"
      ]
     },
     "metadata": {
      "needs_background": "light"
     },
     "output_type": "display_data"
    },
    {
     "data": {
      "image/png": "[encoded data removed]",
      "text/plain": [
       "<Figure size 432x288 with 1 Axes>"
      ]
     },
     "metadata": {
      "needs_background": "light"
     },
     "output_type": "display_data"
    },
    {
     "data": {
      "image/png": "[encoded data removed]",
      "text/plain": [
       "<Figure size 432x288 with 1 Axes>"
      ]
     },
     "metadata": {
      "needs_background": "light"
     },
     "output_type": "display_data"
    }
   ],
   "source": [
    "# Plot WRM vd REF curves\n",
    "h_wrm = pd.read_csv(wrmdir/'keras_history.csv')\n",
    "h_ref = pd.read_csv(refdir/'keras_history.csv')\n",
    "val_cols_names = [c for c in h_ref.columns if 'val_' in c]\n",
    "for c in val_cols_names:\n",
    "    fig, ax = plt.subplots()\n",
    "    ax.plot(h_ref['epoch'][skip_epochs:], h_ref[c][skip_epochs:], label=c+'_ref')\n",
    "    ax.plot(h_wrm['epoch'][skip_epochs:], h_wrm[c][skip_epochs:], label=c+'_wrm')\n",
    "    ax.set_xlabel('epoch')\n",
    "    ax.set_ylabel(c)\n",
    "    plt.legend(loc='best')\n",
    "    plt.grid(True)\n",
    "    # plt.savefig(outdir/f'ref_vs_wrm_{c}.png', bbox_inches='tight')"
   ]
  },
  {
   "cell_type": "code",
   "execution_count": null,
   "metadata": {},
   "outputs": [],
   "source": []
  },
  {
   "cell_type": "code",
   "execution_count": 10,
   "metadata": {},
   "outputs": [],
   "source": [
    "ref_metric = 'val_mean_absolute_error'"
   ]
  },
  {
   "cell_type": "code",
   "execution_count": 25,
   "metadata": {},
   "outputs": [
    {
     "data": {
      "text/plain": [
       "0.06638428477979287"
      ]
     },
     "execution_count": 25,
     "metadata": {},
     "output_type": "execute_result"
    }
   ],
   "source": [
    "# h_ref[ref_metric].values[-1]\n",
    "h_ref[ref_metric].min()"
   ]
  },
  {
   "cell_type": "code",
   "execution_count": 38,
   "metadata": {},
   "outputs": [
    {
     "data": {
      "text/plain": [
       "0.06837581332318665"
      ]
     },
     "execution_count": 38,
     "metadata": {},
     "output_type": "execute_result"
    }
   ],
   "source": [
    "x = h_ref[ref_metric].min()\n",
    "pct_diff = 3\n",
    "x + x*pct_diff/100"
   ]
  },
  {
   "cell_type": "code",
   "execution_count": 12,
   "metadata": {},
   "outputs": [],
   "source": [
    "ref_ep = 300\n",
    "# weps = 40\n",
    "weps = 280"
   ]
  },
  {
   "cell_type": "code",
   "execution_count": 13,
   "metadata": {},
   "outputs": [],
   "source": [
    "cdir = path / f'cnt_{ref_metric}_at_{ref_ep}' / f'split_by_{split_by}' / f'weps_{weps}'\n",
    "kh = pd.read_csv(cdir/'model.cnt.log')\n",
    "kh['epoch'] += 1"
   ]
  },
  {
   "cell_type": "code",
   "execution_count": 22,
   "metadata": {},
   "outputs": [
    {
     "data": {
      "image/png": "[encoded data removed]",
      "text/plain": [
       "<Figure size 864x720 with 1 Axes>"
      ]
     },
     "metadata": {
      "needs_background": "light"
     },
     "output_type": "display_data"
    }
   ],
   "source": [
    "skp_ep = 10\n",
    "# c = 'val_r2_krs'\n",
    "c = ref_metric\n",
    "\n",
    "fig, ax = plt.subplots(figsize=(12, 10))\n",
    "\n",
    "# x1 = list(h_ref['epoch'][skp_ep:])\n",
    "x1 = list(h_ref['epoch'])\n",
    "x2 = list(kh['epoch'] + weps)\n",
    "\n",
    "# ax.plot(x1, h_ref[c][skp_ep:], 'b-', label='ref')\n",
    "ax.plot(x1, h_ref[c], 'b-', label='ref')\n",
    "ax.plot(x2, kh[c], 'ro-', markersize=1.5, label=f'weps_{weps}')\n",
    "\n",
    "# x = np.array(range(skp_ep, max(x1+x2)))\n",
    "x = range(0, max(x1+x2))\n",
    "y = np.ones(len(x)) * min(h_ref[c])        \n",
    "ax.plot(x, y, 'g--', alpha=0.6)  \n",
    "\n",
    "plt.legend()\n",
    "plt.grid(True)"
   ]
  },
  {
   "cell_type": "code",
   "execution_count": null,
   "metadata": {},
   "outputs": [],
   "source": []
  },
  {
   "cell_type": "markdown",
   "metadata": {},
   "source": [
    "## Plot ref vs cnt"
   ]
  },
  {
   "cell_type": "code",
   "execution_count": 11,
   "metadata": {},
   "outputs": [],
   "source": [
    "val_cols_names = [c for c in h_ref.columns if 'val_' in c]"
   ]
  },
  {
   "cell_type": "code",
   "execution_count": 14,
   "metadata": {},
   "outputs": [
    {
     "data": {
      "image/png": "[encoded data removed]",
      "text/plain": [
       "<Figure size 432x288 with 1 Axes>"
      ]
     },
     "metadata": {
      "needs_background": "light"
     },
     "output_type": "display_data"
    },
    {
     "data": {
      "image/png": "[encoded data removed]",
      "text/plain": [
       "<Figure size 432x288 with 1 Axes>"
      ]
     },
     "metadata": {
      "needs_background": "light"
     },
     "output_type": "display_data"
    },
    {
     "data": {
      "image/png": "[encoded data removed]",
      "text/plain": [
       "<Figure size 432x288 with 1 Axes>"
      ]
     },
     "metadata": {
      "needs_background": "light"
     },
     "output_type": "display_data"
    }
   ],
   "source": [
    "for c in val_cols_names:\n",
    "    fig, ax = plt.subplots()\n",
    "\n",
    "    x1 = list(h_ref['epoch'][skp_ep:])\n",
    "    x2 = list(kh['epoch'] + weps)    \n",
    "    \n",
    "    x = np.array(range(skp_ep, max(x1+x2)))\n",
    "    y = np.ones(len(x)) * min(h_ref[c])        \n",
    "    ax.plot(x, y, 'g--', alpha=0.6)      \n",
    "\n",
    "    ax.plot(x1, h_ref[c][skp_ep:], 'b-', alpha=0.8, label='ref')\n",
    "    ax.plot(x2, kh[c], 'ro-', markersize=3, alpha=0.8, label=f'weps_{weps}')      \n",
    "        \n",
    "    ax.set_xlabel('epoch')\n",
    "    ax.set_ylabel(c)\n",
    "    plt.legend(loc='best')\n",
    "    plt.grid(True)\n",
    "    # plt.savefig(outdir/f'wrm_vs_ref_{c}.png', bbox_inches='tight')"
   ]
  },
  {
   "cell_type": "code",
   "execution_count": null,
   "metadata": {},
   "outputs": [],
   "source": []
  },
  {
   "cell_type": "markdown",
   "metadata": {},
   "source": [
    "## Comprae weps vs ceps plots of none, cell, both"
   ]
  },
  {
   "cell_type": "code",
   "execution_count": 17,
   "metadata": {},
   "outputs": [
    {
     "name": "stderr",
     "output_type": "stream",
     "text": [
      "No handles with labels found to put in legend.\n"
     ]
    },
    {
     "data": {
      "image/png": "[encoded data removed]",
      "text/plain": [
       "<Figure size 432x288 with 1 Axes>"
      ]
     },
     "metadata": {
      "needs_background": "light"
     },
     "output_type": "display_data"
    }
   ],
   "source": [
    "dirs = glob(str(path/'../models/candle_accl_trn'/f'cnt_val_loss_at_{ref_ep}/*'))\n",
    "fig, ax = plt.subplots()\n",
    "for d in dirs:\n",
    "    print(d)\n",
    "    lb = d.split('_')[-1]\n",
    "    print(lb)\n",
    "    if lb == 'cell':\n",
    "        continue\n",
    "    df = pd.read_csv(Path(d)/'summary.csv')\n",
    "    ax.plot(df['weps'], df['ceps'], '-o', markersize=3, label=lb)\n",
    "    \n",
    "plt.grid(True)\n",
    "plt.legend(loc='best');\n",
    "    "
   ]
  },
  {
   "cell_type": "code",
   "execution_count": null,
   "metadata": {},
   "outputs": [],
   "source": [
    "cdir = path / f'cnt_val_loss_at_{ref_ep}' / f'split_by_{split_by}' / f'weps_{weps}'"
   ]
  },
  {
   "cell_type": "code",
   "execution_count": 79,
   "metadata": {},
   "outputs": [
    {
     "data": {
      "text/plain": [
       "[]"
      ]
     },
     "execution_count": 79,
     "metadata": {},
     "output_type": "execute_result"
    }
   ],
   "source": [
    "glob(str(path/f'cnt_val_loss_at_{ref_ep}'))"
   ]
  },
  {
   "cell_type": "code",
   "execution_count": 80,
   "metadata": {},
   "outputs": [
    {
     "data": {
      "text/plain": [
       "'/vol/ml/apartin/projects/cell-line-drug-sensitivity/notebooks/cnt_val_loss_at_300'"
      ]
     },
     "execution_count": 80,
     "metadata": {},
     "output_type": "execute_result"
    }
   ],
   "source": [
    "str(path/f'cnt_val_loss_at_{ref_ep}')"
   ]
  },
  {
   "cell_type": "code",
   "execution_count": null,
   "metadata": {},
   "outputs": [],
   "source": []
  },
  {
   "cell_type": "code",
   "execution_count": 40,
   "metadata": {},
   "outputs": [],
   "source": [
    "converge=True"
   ]
  },
  {
   "cell_type": "code",
   "execution_count": 41,
   "metadata": {},
   "outputs": [
    {
     "name": "stdout",
     "output_type": "stream",
     "text": [
      "True%\n"
     ]
    }
   ],
   "source": [
    "print(f'{converge}%')"
   ]
  },
  {
   "cell_type": "code",
   "execution_count": null,
   "metadata": {},
   "outputs": [],
   "source": []
  }
 ],
 "metadata": {
  "kernelspec": {
   "display_name": "Python 3",
   "language": "python",
   "name": "python3"
  },
  "language_info": {
   "codemirror_mode": {
    "name": "ipython",
    "version": 3
   },
   "file_extension": ".py",
   "mimetype": "text/x-python",
   "name": "python",
   "nbconvert_exporter": "python",
   "pygments_lexer": "ipython3",
   "version": "3.6.8"
  }
 },
 "nbformat": 4,
 "nbformat_minor": 2
}
