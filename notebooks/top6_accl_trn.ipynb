{
 "cells": [
  {
   "cell_type": "code",
   "execution_count": 1,
   "metadata": {},
   "outputs": [],
   "source": [
    "%load_ext autoreload\n",
    "%autoreload 2\n",
    "%matplotlib inline\n",
    "\n",
    "import os\n",
    "import sys\n",
    "import time\n",
    "import numpy as np\n",
    "import pandas as pd\n",
    "import matplotlib.pyplot as plt\n",
    "import matplotlib.cm as cm\n",
    "\n",
    "import seaborn as sns\n",
    "import collections\n",
    "\n",
    "import warnings\n",
    "warnings.filterwarnings('ignore')\n",
    "\n",
    "# Utils\n",
    "file_path = os.getcwd()\n",
    "utils_path = os.path.abspath(os.path.join(file_path, '../src/data'))\n",
    "sys.path.append(utils_path)\n",
    "import utils_data"
   ]
  },
  {
   "cell_type": "code",
   "execution_count": 2,
   "metadata": {},
   "outputs": [
    {
     "name": "stdout",
     "output_type": "stream",
     "text": [
      "(4484081, 15)\n"
     ]
    },
    {
     "data": {
      "text/html": [
       "<div>\n",
       "<style scoped>\n",
       "    .dataframe tbody tr th:only-of-type {\n",
       "        vertical-align: middle;\n",
       "    }\n",
       "\n",
       "    .dataframe tbody tr th {\n",
       "        vertical-align: top;\n",
       "    }\n",
       "\n",
       "    .dataframe thead th {\n",
       "        text-align: right;\n",
       "    }\n",
       "</style>\n",
       "<table border=\"1\" class=\"dataframe\">\n",
       "  <thead>\n",
       "    <tr style=\"text-align: right;\">\n",
       "      <th></th>\n",
       "      <th>SOURCE</th>\n",
       "      <th>CELL</th>\n",
       "      <th>CELL_abs</th>\n",
       "      <th>DRUG</th>\n",
       "      <th>STUDY</th>\n",
       "      <th>AUC</th>\n",
       "      <th>IC50</th>\n",
       "      <th>EC50</th>\n",
       "      <th>EC50se</th>\n",
       "      <th>R2fit</th>\n",
       "      <th>Einf</th>\n",
       "      <th>HS</th>\n",
       "      <th>AAC1</th>\n",
       "      <th>AUC1</th>\n",
       "      <th>DSS1</th>\n",
       "    </tr>\n",
       "  </thead>\n",
       "  <tbody>\n",
       "    <tr>\n",
       "      <th>0</th>\n",
       "      <td>CCLE</td>\n",
       "      <td>CCLE.1321N1</td>\n",
       "      <td>1321N1</td>\n",
       "      <td>CCLE.1</td>\n",
       "      <td>fake_exp</td>\n",
       "      <td>0.8330</td>\n",
       "      <td>4.883</td>\n",
       "      <td>5.183</td>\n",
       "      <td>0.5746</td>\n",
       "      <td>0.9864</td>\n",
       "      <td>0.2017</td>\n",
       "      <td>0.7463</td>\n",
       "      <td>0.1017</td>\n",
       "      <td>0.8983</td>\n",
       "      <td>0.0551</td>\n",
       "    </tr>\n",
       "    <tr>\n",
       "      <th>1</th>\n",
       "      <td>CCLE</td>\n",
       "      <td>CCLE.1321N1</td>\n",
       "      <td>1321N1</td>\n",
       "      <td>CCLE.10</td>\n",
       "      <td>fake_exp</td>\n",
       "      <td>0.7909</td>\n",
       "      <td>5.217</td>\n",
       "      <td>5.217</td>\n",
       "      <td>2.2840</td>\n",
       "      <td>0.6526</td>\n",
       "      <td>0.0000</td>\n",
       "      <td>0.8993</td>\n",
       "      <td>0.1136</td>\n",
       "      <td>0.8864</td>\n",
       "      <td>0.0728</td>\n",
       "    </tr>\n",
       "  </tbody>\n",
       "</table>\n",
       "</div>"
      ],
      "text/plain": [
       "  SOURCE         CELL CELL_abs     DRUG     STUDY     AUC   IC50   EC50  \\\n",
       "0   CCLE  CCLE.1321N1   1321N1   CCLE.1  fake_exp  0.8330  4.883  5.183   \n",
       "1   CCLE  CCLE.1321N1   1321N1  CCLE.10  fake_exp  0.7909  5.217  5.217   \n",
       "\n",
       "   EC50se   R2fit    Einf      HS    AAC1    AUC1    DSS1  \n",
       "0  0.5746  0.9864  0.2017  0.7463  0.1017  0.8983  0.0551  \n",
       "1  2.2840  0.6526  0.0000  0.8993  0.1136  0.8864  0.0728  "
      ]
     },
     "metadata": {},
     "output_type": "display_data"
    }
   ],
   "source": [
    "# Load agg response\n",
    "# rsp = pd.read_csv(os.join.path(file_path, '../data/from_combined'))\n",
    "rsp = pd.read_csv('/Users/apartin/work/jdacs/Benchmarks/Data/Pilot1/combined_single_response_agg', sep='\\t')\n",
    "rsp.insert(loc=2, column='CELL_abs', value=rsp['CELL'].map(lambda s: s.split('.')[1]))\n",
    "print('rsp.shape', rsp.shape)\n",
    "display(rsp[:2])"
   ]
  },
  {
   "cell_type": "code",
   "execution_count": null,
   "metadata": {},
   "outputs": [],
   "source": []
  },
  {
   "cell_type": "markdown",
   "metadata": {},
   "source": [
    "# Top6"
   ]
  },
  {
   "cell_type": "code",
   "execution_count": 1,
   "metadata": {},
   "outputs": [],
   "source": [
    "import warnings\n",
    "warnings.filterwarnings('ignore')\n",
    "\n",
    "import os\n",
    "from pathlib import Path\n",
    "import pandas as pd\n",
    "import numpy as np"
   ]
  },
  {
   "cell_type": "code",
   "execution_count": 2,
   "metadata": {},
   "outputs": [
    {
     "name": "stdout",
     "output_type": "stream",
     "text": [
      "(283152, 3765)\n"
     ]
    }
   ],
   "source": [
    "df = pd.read_parquet('../uniq.top6.reg.parquet', engine='auto', columns=None)\n",
    "col_idx = df.nunique(dropna=True).values==1  # col indexes to drop\n",
    "df = df.iloc[:, ~col_idx]\n",
    "\n",
    "print(df.shape)"
   ]
  },
  {
   "cell_type": "code",
   "execution_count": 3,
   "metadata": {},
   "outputs": [],
   "source": [
    "def split_cell_drug(dff):\n",
    "    \"\"\" Split drug and cell features. \"\"\"\n",
    "    dff = dff.copy()\n",
    "    dd_cols = [c for c in df.columns if 'DD_' in c]\n",
    "    ge_cols = [c for c in df.columns if 'GE_' in c]\n",
    "    dd = dff[dd_cols]\n",
    "    ge = dff[ge_cols]\n",
    "    print('\\ndd.shape', dd.shape)\n",
    "    print('ge.shape', ge.shape)\n",
    "    return dd, ge\n",
    "\n",
    "\n",
    "def add_lbl_dup(dff, label_name='lb', prffx='_'):\n",
    "    \"\"\" Add col indicating with unique row (label). \"\"\"\n",
    "    idx_org = dff.index.values\n",
    "    \n",
    "    # Sort rows (duplicated rows will be concateneted)\n",
    "    dff = dff.sort_values(by=dff.columns.tolist())\n",
    "    # Add boolean col indicating the start of new unique row\n",
    "    dff = pd.concat([dff.duplicated(keep='first'), dff], axis=1).rename(columns={0: 'd'})\n",
    "\n",
    "    # Add col indicating a unique row\n",
    "    c = -1\n",
    "    v = np.ones((len(dff),))\n",
    "    for i, x in enumerate(dff['d']):\n",
    "        # if i % 50000 == 0: print(i)\n",
    "        if x is False:\n",
    "            c += 1\n",
    "            v[i] = int(c)\n",
    "        else:\n",
    "            v[i] = c\n",
    "\n",
    "    dff.insert(loc=1, column=label_name, value=v) \n",
    "    dff = dff.reindex(idx_org)\n",
    "    dff = dff.drop(columns=['d'])\n",
    "    \n",
    "    dff[label_name] = dff[label_name].map(lambda x: prffx + str(int(x)))\n",
    "    return dff"
   ]
  },
  {
   "cell_type": "code",
   "execution_count": 4,
   "metadata": {},
   "outputs": [
    {
     "name": "stdout",
     "output_type": "stream",
     "text": [
      "\n",
      "dd.shape (283152, 2822)\n",
      "ge.shape (283152, 942)\n"
     ]
    }
   ],
   "source": [
    "dd, ge = split_cell_drug(dff=df)\n",
    "dlb = add_lbl_dup(dd, label_name='dlb', prffx='d')['dlb']\n",
    "clb = add_lbl_dup(ge, label_name='clb', prffx='c')['clb']"
   ]
  },
  {
   "cell_type": "code",
   "execution_count": 6,
   "metadata": {},
   "outputs": [
    {
     "data": {
      "text/html": [
       "<div>\n",
       "<style scoped>\n",
       "    .dataframe tbody tr th:only-of-type {\n",
       "        vertical-align: middle;\n",
       "    }\n",
       "\n",
       "    .dataframe tbody tr th {\n",
       "        vertical-align: top;\n",
       "    }\n",
       "\n",
       "    .dataframe thead th {\n",
       "        text-align: right;\n",
       "    }\n",
       "</style>\n",
       "<table border=\"1\" class=\"dataframe\">\n",
       "  <thead>\n",
       "    <tr style=\"text-align: right;\">\n",
       "      <th></th>\n",
       "      <th>DD_MW</th>\n",
       "      <th>DD_AMW</th>\n",
       "      <th>DD_Sv</th>\n",
       "      <th>DD_Se</th>\n",
       "      <th>DD_Sp</th>\n",
       "      <th>DD_Si</th>\n",
       "      <th>DD_Mv</th>\n",
       "      <th>DD_Me</th>\n",
       "      <th>DD_Mp</th>\n",
       "      <th>DD_Mi</th>\n",
       "      <th>...</th>\n",
       "      <th>DD_Psychotic-80</th>\n",
       "      <th>DD_Psychotic-50</th>\n",
       "      <th>DD_Hypertens-80</th>\n",
       "      <th>DD_Hypertens-50</th>\n",
       "      <th>DD_Hypnotic-80</th>\n",
       "      <th>DD_Hypnotic-50</th>\n",
       "      <th>DD_Neoplastic-80</th>\n",
       "      <th>DD_Neoplastic-50</th>\n",
       "      <th>DD_Infective-80</th>\n",
       "      <th>DD_Infective-50</th>\n",
       "    </tr>\n",
       "  </thead>\n",
       "  <tbody>\n",
       "    <tr>\n",
       "      <th>0</th>\n",
       "      <td>974.73</td>\n",
       "      <td>8.123</td>\n",
       "      <td>76.158</td>\n",
       "      <td>121.421</td>\n",
       "      <td>80.927</td>\n",
       "      <td>135.681</td>\n",
       "      <td>0.635</td>\n",
       "      <td>1.012</td>\n",
       "      <td>0.674</td>\n",
       "      <td>1.131</td>\n",
       "      <td>...</td>\n",
       "      <td>0.0</td>\n",
       "      <td>0.0</td>\n",
       "      <td>0.0</td>\n",
       "      <td>0.0</td>\n",
       "      <td>0.0</td>\n",
       "      <td>0.0</td>\n",
       "      <td>0.0</td>\n",
       "      <td>0.0</td>\n",
       "      <td>0.0</td>\n",
       "      <td>0.0</td>\n",
       "    </tr>\n",
       "    <tr>\n",
       "      <th>1</th>\n",
       "      <td>974.73</td>\n",
       "      <td>8.123</td>\n",
       "      <td>76.158</td>\n",
       "      <td>121.421</td>\n",
       "      <td>80.927</td>\n",
       "      <td>135.681</td>\n",
       "      <td>0.635</td>\n",
       "      <td>1.012</td>\n",
       "      <td>0.674</td>\n",
       "      <td>1.131</td>\n",
       "      <td>...</td>\n",
       "      <td>0.0</td>\n",
       "      <td>0.0</td>\n",
       "      <td>0.0</td>\n",
       "      <td>0.0</td>\n",
       "      <td>0.0</td>\n",
       "      <td>0.0</td>\n",
       "      <td>0.0</td>\n",
       "      <td>0.0</td>\n",
       "      <td>0.0</td>\n",
       "      <td>0.0</td>\n",
       "    </tr>\n",
       "  </tbody>\n",
       "</table>\n",
       "<p>2 rows × 2822 columns</p>\n",
       "</div>"
      ],
      "text/plain": [
       "    DD_MW  DD_AMW   DD_Sv    DD_Se   DD_Sp    DD_Si  DD_Mv  DD_Me  DD_Mp  \\\n",
       "0  974.73   8.123  76.158  121.421  80.927  135.681  0.635  1.012  0.674   \n",
       "1  974.73   8.123  76.158  121.421  80.927  135.681  0.635  1.012  0.674   \n",
       "\n",
       "   DD_Mi  ...  DD_Psychotic-80  DD_Psychotic-50  DD_Hypertens-80  \\\n",
       "0  1.131  ...              0.0              0.0              0.0   \n",
       "1  1.131  ...              0.0              0.0              0.0   \n",
       "\n",
       "   DD_Hypertens-50  DD_Hypnotic-80  DD_Hypnotic-50  DD_Neoplastic-80  \\\n",
       "0              0.0             0.0             0.0               0.0   \n",
       "1              0.0             0.0             0.0               0.0   \n",
       "\n",
       "   DD_Neoplastic-50  DD_Infective-80  DD_Infective-50  \n",
       "0               0.0              0.0              0.0  \n",
       "1               0.0              0.0              0.0  \n",
       "\n",
       "[2 rows x 2822 columns]"
      ]
     },
     "execution_count": 6,
     "metadata": {},
     "output_type": "execute_result"
    }
   ],
   "source": [
    "dd[:2]"
   ]
  },
  {
   "cell_type": "code",
   "execution_count": 7,
   "metadata": {},
   "outputs": [
    {
     "data": {
      "text/html": [
       "<div>\n",
       "<style scoped>\n",
       "    .dataframe tbody tr th:only-of-type {\n",
       "        vertical-align: middle;\n",
       "    }\n",
       "\n",
       "    .dataframe tbody tr th {\n",
       "        vertical-align: top;\n",
       "    }\n",
       "\n",
       "    .dataframe thead th {\n",
       "        text-align: right;\n",
       "    }\n",
       "</style>\n",
       "<table border=\"1\" class=\"dataframe\">\n",
       "  <thead>\n",
       "    <tr style=\"text-align: right;\">\n",
       "      <th></th>\n",
       "      <th>GE_AARS</th>\n",
       "      <th>GE_ABCB6</th>\n",
       "      <th>GE_ABCC5</th>\n",
       "      <th>GE_ABCF1</th>\n",
       "      <th>GE_ABCF3</th>\n",
       "      <th>GE_ABHD4</th>\n",
       "      <th>GE_ABHD6</th>\n",
       "      <th>GE_ABL1</th>\n",
       "      <th>GE_ACAA1</th>\n",
       "      <th>GE_ACAT2</th>\n",
       "      <th>...</th>\n",
       "      <th>GE_ZMIZ1</th>\n",
       "      <th>GE_ZMYM2</th>\n",
       "      <th>GE_ZNF131</th>\n",
       "      <th>GE_ZNF274</th>\n",
       "      <th>GE_ZNF318</th>\n",
       "      <th>GE_ZNF395</th>\n",
       "      <th>GE_ZNF451</th>\n",
       "      <th>GE_ZNF586</th>\n",
       "      <th>GE_ZNF589</th>\n",
       "      <th>GE_ZW10</th>\n",
       "    </tr>\n",
       "  </thead>\n",
       "  <tbody>\n",
       "    <tr>\n",
       "      <th>0</th>\n",
       "      <td>-2.7680</td>\n",
       "      <td>-0.929</td>\n",
       "      <td>-0.7397</td>\n",
       "      <td>-2.2230</td>\n",
       "      <td>-2.08</td>\n",
       "      <td>-0.624</td>\n",
       "      <td>-0.010086</td>\n",
       "      <td>0.3992</td>\n",
       "      <td>0.6140</td>\n",
       "      <td>-0.65500</td>\n",
       "      <td>...</td>\n",
       "      <td>0.1420</td>\n",
       "      <td>-0.7695</td>\n",
       "      <td>-0.4844</td>\n",
       "      <td>-0.6543</td>\n",
       "      <td>-1.4460</td>\n",
       "      <td>-0.8420</td>\n",
       "      <td>-0.3555</td>\n",
       "      <td>-0.4753</td>\n",
       "      <td>-1.339</td>\n",
       "      <td>-0.4937</td>\n",
       "    </tr>\n",
       "    <tr>\n",
       "      <th>1</th>\n",
       "      <td>0.8354</td>\n",
       "      <td>0.553</td>\n",
       "      <td>-0.3386</td>\n",
       "      <td>0.6025</td>\n",
       "      <td>-0.73</td>\n",
       "      <td>-0.685</td>\n",
       "      <td>1.184000</td>\n",
       "      <td>0.4116</td>\n",
       "      <td>-0.0731</td>\n",
       "      <td>-0.01535</td>\n",
       "      <td>...</td>\n",
       "      <td>0.5327</td>\n",
       "      <td>0.6830</td>\n",
       "      <td>0.0725</td>\n",
       "      <td>0.2411</td>\n",
       "      <td>-0.2615</td>\n",
       "      <td>-0.1866</td>\n",
       "      <td>-0.2996</td>\n",
       "      <td>1.3545</td>\n",
       "      <td>1.356</td>\n",
       "      <td>1.5620</td>\n",
       "    </tr>\n",
       "  </tbody>\n",
       "</table>\n",
       "<p>2 rows × 942 columns</p>\n",
       "</div>"
      ],
      "text/plain": [
       "   GE_AARS  GE_ABCB6  GE_ABCC5  GE_ABCF1  GE_ABCF3  GE_ABHD4  GE_ABHD6  \\\n",
       "0  -2.7680    -0.929   -0.7397   -2.2230     -2.08    -0.624 -0.010086   \n",
       "1   0.8354     0.553   -0.3386    0.6025     -0.73    -0.685  1.184000   \n",
       "\n",
       "   GE_ABL1  GE_ACAA1  GE_ACAT2  ...  GE_ZMIZ1  GE_ZMYM2  GE_ZNF131  GE_ZNF274  \\\n",
       "0   0.3992    0.6140  -0.65500  ...    0.1420   -0.7695    -0.4844    -0.6543   \n",
       "1   0.4116   -0.0731  -0.01535  ...    0.5327    0.6830     0.0725     0.2411   \n",
       "\n",
       "   GE_ZNF318  GE_ZNF395  GE_ZNF451  GE_ZNF586  GE_ZNF589  GE_ZW10  \n",
       "0    -1.4460    -0.8420    -0.3555    -0.4753     -1.339  -0.4937  \n",
       "1    -0.2615    -0.1866    -0.2996     1.3545      1.356   1.5620  \n",
       "\n",
       "[2 rows x 942 columns]"
      ]
     },
     "execution_count": 7,
     "metadata": {},
     "output_type": "execute_result"
    }
   ],
   "source": [
    "ge[:2]"
   ]
  },
  {
   "cell_type": "code",
   "execution_count": 8,
   "metadata": {},
   "outputs": [
    {
     "name": "stdout",
     "output_type": "stream",
     "text": [
      "1748\n",
      "748\n"
     ]
    }
   ],
   "source": [
    "print(len(dlb.unique()))\n",
    "print(len(clb.unique()))"
   ]
  },
  {
   "cell_type": "code",
   "execution_count": null,
   "metadata": {},
   "outputs": [],
   "source": []
  },
  {
   "cell_type": "markdown",
   "metadata": {},
   "source": [
    "## How come there combinations that were tested more than 100 times??"
   ]
  },
  {
   "cell_type": "code",
   "execution_count": 15,
   "metadata": {},
   "outputs": [],
   "source": [
    "# Unique combinations\n",
    "xdata = df.iloc[:,1:].copy()\n",
    "df_ = add_lbl_dup(xdata, label_name='cmb', prffx='s')"
   ]
  },
  {
   "cell_type": "code",
   "execution_count": 21,
   "metadata": {},
   "outputs": [
    {
     "data": {
      "text/plain": [
       "s2551    128\n",
       "s2553    127\n",
       "s2552    127\n",
       "s2542    126\n",
       "s2558    125\n",
       "Name: cmb, dtype: int64"
      ]
     },
     "execution_count": 21,
     "metadata": {},
     "output_type": "execute_result"
    }
   ],
   "source": [
    "# How come there combinations that were tested more than 100 times??\n",
    "df_['cmb'].value_counts()[:5]"
   ]
  },
  {
   "cell_type": "code",
   "execution_count": 22,
   "metadata": {},
   "outputs": [],
   "source": [
    "print(x_tmp.shape)\n",
    "x_tmp = xdata.drop_duplicates()\n",
    "print(x_tmp.shape)"
   ]
  },
  {
   "cell_type": "code",
   "execution_count": null,
   "metadata": {},
   "outputs": [],
   "source": [
    "mm = dlb + '_' + clb\n",
    "mm.value_counts()[:10]"
   ]
  },
  {
   "cell_type": "code",
   "execution_count": null,
   "metadata": {},
   "outputs": [],
   "source": []
  },
  {
   "cell_type": "code",
   "execution_count": 25,
   "metadata": {},
   "outputs": [
    {
     "data": {
      "text/plain": [
       "False"
      ]
     },
     "execution_count": 25,
     "metadata": {},
     "output_type": "execute_result"
    }
   ],
   "source": [
    "bool(eval('0'))"
   ]
  },
  {
   "cell_type": "code",
   "execution_count": 28,
   "metadata": {},
   "outputs": [
    {
     "ename": "NameError",
     "evalue": "name 'yes' is not defined",
     "output_type": "error",
     "traceback": [
      "\u001b[0;31m---------------------------------------------------------------------------\u001b[0m",
      "\u001b[0;31mNameError\u001b[0m                                 Traceback (most recent call last)",
      "\u001b[0;32m<ipython-input-28-f17b5148e59b>\u001b[0m in \u001b[0;36m<module>\u001b[0;34m\u001b[0m\n\u001b[0;32m----> 1\u001b[0;31m \u001b[0mbool\u001b[0m\u001b[0;34m(\u001b[0m\u001b[0meval\u001b[0m\u001b[0;34m(\u001b[0m\u001b[0;34m'yes'\u001b[0m\u001b[0;34m)\u001b[0m\u001b[0;34m)\u001b[0m\u001b[0;34m\u001b[0m\u001b[0;34m\u001b[0m\u001b[0m\n\u001b[0m",
      "\u001b[0;32m<string>\u001b[0m in \u001b[0;36m<module>\u001b[0;34m\u001b[0m\n",
      "\u001b[0;31mNameError\u001b[0m: name 'yes' is not defined"
     ]
    }
   ],
   "source": [
    "bool(eval('yes'))"
   ]
  },
  {
   "cell_type": "code",
   "execution_count": null,
   "metadata": {},
   "outputs": [],
   "source": []
  },
  {
   "cell_type": "code",
   "execution_count": null,
   "metadata": {},
   "outputs": [],
   "source": []
  },
  {
   "cell_type": "code",
   "execution_count": 45,
   "metadata": {},
   "outputs": [],
   "source": [
    "import os\n",
    "from pathlib import Path\n",
    "import pandas as pd\n",
    "path = Path(os.getcwd())\n",
    "\n",
    "import matplotlib.pyplot as plt"
   ]
  },
  {
   "cell_type": "code",
   "execution_count": 33,
   "metadata": {},
   "outputs": [],
   "source": [
    "path = path/'../models/candle_accl_trn'\n",
    "wrmdir = path/'wrm/split_by_none'\n",
    "refdir = path/'ref/split_by_none'"
   ]
  },
  {
   "cell_type": "code",
   "execution_count": 34,
   "metadata": {},
   "outputs": [],
   "source": [
    "h_wrm = pd.read_csv(wrmdir/'keras_history.csv')\n",
    "h_ref = pd.read_csv(refdir/'keras_history.csv')"
   ]
  },
  {
   "cell_type": "code",
   "execution_count": 41,
   "metadata": {},
   "outputs": [
    {
     "data": {
      "text/plain": [
       "array([  1,   2,   3,   4,   5,   6,   7,   8,   9,  10,  11,  12,  13,\n",
       "        14,  15,  16,  17,  18,  19,  20,  21,  22,  23,  24,  25,  26,\n",
       "        27,  28,  29,  30,  31,  32,  33,  34,  35,  36,  37,  38,  39,\n",
       "        40,  41,  42,  43,  44,  45,  46,  47,  48,  49,  50,  51,  52,\n",
       "        53,  54,  55,  56,  57,  58,  59,  60,  61,  62,  63,  64,  65,\n",
       "        66,  67,  68,  69,  70,  71,  72,  73,  74,  75,  76,  77,  78,\n",
       "        79,  80,  81,  82,  83,  84,  85,  86,  87,  88,  89,  90,  91,\n",
       "        92,  93,  94,  95,  96,  97,  98,  99, 100, 101, 102, 103, 104,\n",
       "       105, 106, 107, 108, 109, 110, 111, 112, 113, 114, 115, 116, 117,\n",
       "       118, 119, 120, 121, 122, 123, 124, 125, 126, 127, 128, 129, 130,\n",
       "       131, 132, 133, 134, 135, 136, 137, 138, 139, 140, 141, 142, 143,\n",
       "       144, 145, 146, 147, 148, 149, 150, 151, 152, 153, 154, 155, 156,\n",
       "       157, 158, 159, 160, 161, 162, 163, 164, 165, 166, 167, 168, 169,\n",
       "       170, 171, 172, 173, 174, 175, 176, 177, 178, 179, 180, 181, 182,\n",
       "       183, 184, 185, 186, 187, 188, 189, 190, 191, 192, 193, 194, 195,\n",
       "       196, 197, 198, 199, 200, 201, 202, 203, 204, 205, 206, 207, 208,\n",
       "       209, 210, 211, 212, 213, 214, 215, 216, 217, 218, 219, 220, 221,\n",
       "       222, 223, 224, 225, 226, 227, 228, 229, 230, 231, 232, 233, 234,\n",
       "       235, 236, 237, 238, 239, 240, 241, 242, 243, 244, 245, 246, 247,\n",
       "       248, 249, 250])"
      ]
     },
     "execution_count": 41,
     "metadata": {},
     "output_type": "execute_result"
    }
   ],
   "source": [
    "h_wrm.index.values + 1"
   ]
  },
  {
   "cell_type": "code",
   "execution_count": 42,
   "metadata": {},
   "outputs": [],
   "source": [
    "h_wrm['epoch'] = h_wrm.index.values + 1\n",
    "h_ref['epoch'] = h_wrm.index.values + 1"
   ]
  },
  {
   "cell_type": "code",
   "execution_count": 43,
   "metadata": {},
   "outputs": [],
   "source": [
    "OUTDIR = path"
   ]
  },
  {
   "cell_type": "code",
   "execution_count": 44,
   "metadata": {},
   "outputs": [
    {
     "data": {
      "image/png": "[encoded data removed]",
      "text/plain": [
       "<Figure size 432x288 with 1 Axes>"
      ]
     },
     "metadata": {
      "needs_background": "light"
     },
     "output_type": "display_data"
    },
    {
     "data": {
      "image/png": "[encoded data removed]",
      "text/plain": [
       "<Figure size 432x288 with 1 Axes>"
      ]
     },
     "metadata": {
      "needs_background": "light"
     },
     "output_type": "display_data"
    },
    {
     "data": {
      "image/png": "[encoded data removed]",
      "text/plain": [
       "<Figure size 432x288 with 1 Axes>"
      ]
     },
     "metadata": {
      "needs_background": "light"
     },
     "output_type": "display_data"
    }
   ],
   "source": [
    "val_cols_names = [c for c in h_ref.columns if 'val_' in c]\n",
    "for c in val_cols_names:\n",
    "    fig, ax = plt.subplots()\n",
    "    \n",
    "    ax.plot(h_wrm['epoch'], h_wrm[c], label=c+'_wrm')\n",
    "    ax.plot(h_ref[c], label=c+'_ref')\n",
    "    ax.set_xlabel('epoch')\n",
    "    ax.set_ylabel(c)\n",
    "    plt.legend(loc='best')\n",
    "    plt.grid(True)\n",
    "    plt.savefig(OUTDIR/f'../wrm_vs_ref_{c}.png', bbox_inches='tight')"
   ]
  },
  {
   "cell_type": "code",
   "execution_count": null,
   "metadata": {},
   "outputs": [],
   "source": []
  },
  {
   "cell_type": "code",
   "execution_count": 80,
   "metadata": {},
   "outputs": [],
   "source": [
    "path = path/'../models/candle_accl_trn'\n",
    "wrmdir = path/'wrm/split_by_none'\n",
    "refdir = path/'ref/split_by_none'"
   ]
  },
  {
   "cell_type": "code",
   "execution_count": 69,
   "metadata": {},
   "outputs": [],
   "source": [
    "h_ref = pd.read_csv(refdir/'keras_history.csv')\n",
    "# h_ref = pd.read_csv(refdir/'model.ref.log')"
   ]
  },
  {
   "cell_type": "code",
   "execution_count": 49,
   "metadata": {},
   "outputs": [
    {
     "data": {
      "text/plain": [
       "PosixPath('/vol/ml/apartin/projects/cell-line-drug-sensitivity/notebooks/../models/candle_accl_trn')"
      ]
     },
     "execution_count": 49,
     "metadata": {},
     "output_type": "execute_result"
    }
   ],
   "source": [
    "path"
   ]
  },
  {
   "cell_type": "code",
   "execution_count": 79,
   "metadata": {},
   "outputs": [],
   "source": [
    "val_cols_names = [c for c in h_ref.columns if 'val_' in c]"
   ]
  },
  {
   "cell_type": "code",
   "execution_count": 77,
   "metadata": {},
   "outputs": [],
   "source": [
    "ref_ep = 300\n",
    "weps = 40\n",
    "cdir = path/f'cnt_val_loss_at_{ref_ep}'/'split_by_none'/f'weps_{weps}'\n",
    "df = pd.read_csv(cdir/'model.cnt.log')\n",
    "df['epoch'] += 1"
   ]
  },
  {
   "cell_type": "code",
   "execution_count": 78,
   "metadata": {},
   "outputs": [
    {
     "data": {
      "image/png": "[encoded data removed]",
      "text/plain": [
       "<Figure size 720x576 with 1 Axes>"
      ]
     },
     "metadata": {
      "needs_background": "light"
     },
     "output_type": "display_data"
    }
   ],
   "source": [
    "fig, ax = plt.subplots(figsize=(10, 8))\n",
    "ax.plot(h_ref['epoch'], h_ref['val_r2_krs'], label='ref')\n",
    "ax.plot(df['epoch']+weps, df['val_r2_krs'], '.-', label=f'weps_{weps}')\n",
    "plt.legend()\n",
    "plt.grid(True)"
   ]
  },
  {
   "cell_type": "code",
   "execution_count": null,
   "metadata": {},
   "outputs": [],
   "source": []
  },
  {
   "cell_type": "code",
   "execution_count": 75,
   "metadata": {},
   "outputs": [],
   "source": [
    "val_cols_names = [c for c in h_ref.columns if 'val_' in c]"
   ]
  },
  {
   "cell_type": "code",
   "execution_count": 140,
   "metadata": {},
   "outputs": [
    {
     "data": {
      "image/png": "[encoded data removed]",
      "text/plain": [
       "<Figure size 432x288 with 1 Axes>"
      ]
     },
     "metadata": {
      "needs_background": "light"
     },
     "output_type": "display_data"
    },
    {
     "data": {
      "image/png": "[encoded data removed]",
      "text/plain": [
       "<Figure size 432x288 with 1 Axes>"
      ]
     },
     "metadata": {
      "needs_background": "light"
     },
     "output_type": "display_data"
    },
    {
     "data": {
      "image/png": "[encoded data removed]",
      "text/plain": [
       "<Figure size 432x288 with 1 Axes>"
      ]
     },
     "metadata": {
      "needs_background": "light"
     },
     "output_type": "display_data"
    }
   ],
   "source": [
    "for c in val_cols_names:\n",
    "    fig, ax = plt.subplots()\n",
    "    # ax.plot(h_wrm['epoch'], h_wrm[c], label=c+'_wrm')\n",
    "    # ax.plot(h_ref[c], label=c+'_ref')\n",
    "    \n",
    "    x = np.array(range(skp_ep, h_ref['epoch'].values[-1] + 1))\n",
    "    y = np.ones((len(x))) * min(h_ref[c])\n",
    "    \n",
    "    alpha=0.8\n",
    "    ax.plot(h_ref['epoch'], h_ref[c], 'b-', alpha=alpha, label='ref')\n",
    "    ax.plot(df['epoch']+weps, df[c], 'r-', alpha=alpha, label=f'weps_{weps}')\n",
    "    ax.plot(x, y, 'g--', alpha=0.6)\n",
    "    \n",
    "    ax.set_xlabel('epoch')\n",
    "    ax.set_ylabel(c)\n",
    "    plt.legend(loc='best')\n",
    "    plt.grid(True)\n",
    "    # plt.savefig(outdir/f'wrm_vs_ref_{c}.png', bbox_inches='tight')"
   ]
  },
  {
   "cell_type": "code",
   "execution_count": 82,
   "metadata": {},
   "outputs": [],
   "source": [
    "import numpy as np"
   ]
  },
  {
   "cell_type": "code",
   "execution_count": 108,
   "metadata": {},
   "outputs": [],
   "source": [
    "x = np.asarray(range(0, h_ref['epoch'].values[-1] + 1))"
   ]
  },
  {
   "cell_type": "code",
   "execution_count": 114,
   "metadata": {},
   "outputs": [],
   "source": [
    "skp_ep = 10\n",
    "x = np.array(range(skp_ep, h_ref['epoch'].values[-1] + 1))\n",
    "y = np.ones((len(x))) * min(h_ref[c])"
   ]
  },
  {
   "cell_type": "code",
   "execution_count": 118,
   "metadata": {},
   "outputs": [
    {
     "data": {
      "text/plain": [
       "291"
      ]
     },
     "execution_count": 118,
     "metadata": {},
     "output_type": "execute_result"
    }
   ],
   "source": [
    "len(y)"
   ]
  },
  {
   "cell_type": "code",
   "execution_count": 116,
   "metadata": {},
   "outputs": [
    {
     "data": {
      "text/plain": [
       "array([0.01924879, 0.01924879, 0.01924879, 0.01924879, 0.01924879,\n",
       "       0.01924879, 0.01924879, 0.01924879, 0.01924879, 0.01924879,\n",
       "       0.01924879, 0.01924879, 0.01924879, 0.01924879, 0.01924879,\n",
       "       0.01924879, 0.01924879, 0.01924879, 0.01924879, 0.01924879,\n",
       "       0.01924879, 0.01924879, 0.01924879, 0.01924879, 0.01924879,\n",
       "       0.01924879, 0.01924879, 0.01924879, 0.01924879, 0.01924879,\n",
       "       0.01924879, 0.01924879, 0.01924879, 0.01924879, 0.01924879,\n",
       "       0.01924879, 0.01924879, 0.01924879, 0.01924879, 0.01924879,\n",
       "       0.01924879, 0.01924879, 0.01924879, 0.01924879, 0.01924879,\n",
       "       0.01924879, 0.01924879, 0.01924879, 0.01924879, 0.01924879,\n",
       "       0.01924879, 0.01924879, 0.01924879, 0.01924879, 0.01924879,\n",
       "       0.01924879, 0.01924879, 0.01924879, 0.01924879, 0.01924879,\n",
       "       0.01924879, 0.01924879, 0.01924879, 0.01924879, 0.01924879,\n",
       "       0.01924879, 0.01924879, 0.01924879, 0.01924879, 0.01924879,\n",
       "       0.01924879, 0.01924879, 0.01924879, 0.01924879, 0.01924879,\n",
       "       0.01924879, 0.01924879, 0.01924879, 0.01924879, 0.01924879,\n",
       "       0.01924879, 0.01924879, 0.01924879, 0.01924879, 0.01924879,\n",
       "       0.01924879, 0.01924879, 0.01924879, 0.01924879, 0.01924879,\n",
       "       0.01924879, 0.01924879, 0.01924879, 0.01924879, 0.01924879,\n",
       "       0.01924879, 0.01924879, 0.01924879, 0.01924879, 0.01924879,\n",
       "       0.01924879, 0.01924879, 0.01924879, 0.01924879, 0.01924879,\n",
       "       0.01924879, 0.01924879, 0.01924879, 0.01924879, 0.01924879,\n",
       "       0.01924879, 0.01924879, 0.01924879, 0.01924879, 0.01924879,\n",
       "       0.01924879, 0.01924879, 0.01924879, 0.01924879, 0.01924879,\n",
       "       0.01924879, 0.01924879, 0.01924879, 0.01924879, 0.01924879,\n",
       "       0.01924879, 0.01924879, 0.01924879, 0.01924879, 0.01924879,\n",
       "       0.01924879, 0.01924879, 0.01924879, 0.01924879, 0.01924879,\n",
       "       0.01924879, 0.01924879, 0.01924879, 0.01924879, 0.01924879,\n",
       "       0.01924879, 0.01924879, 0.01924879, 0.01924879, 0.01924879,\n",
       "       0.01924879, 0.01924879, 0.01924879, 0.01924879, 0.01924879,\n",
       "       0.01924879, 0.01924879, 0.01924879, 0.01924879, 0.01924879,\n",
       "       0.01924879, 0.01924879, 0.01924879, 0.01924879, 0.01924879,\n",
       "       0.01924879, 0.01924879, 0.01924879, 0.01924879, 0.01924879,\n",
       "       0.01924879, 0.01924879, 0.01924879, 0.01924879, 0.01924879,\n",
       "       0.01924879, 0.01924879, 0.01924879, 0.01924879, 0.01924879,\n",
       "       0.01924879, 0.01924879, 0.01924879, 0.01924879, 0.01924879,\n",
       "       0.01924879, 0.01924879, 0.01924879, 0.01924879, 0.01924879,\n",
       "       0.01924879, 0.01924879, 0.01924879, 0.01924879, 0.01924879,\n",
       "       0.01924879, 0.01924879, 0.01924879, 0.01924879, 0.01924879,\n",
       "       0.01924879, 0.01924879, 0.01924879, 0.01924879, 0.01924879,\n",
       "       0.01924879, 0.01924879, 0.01924879, 0.01924879, 0.01924879,\n",
       "       0.01924879, 0.01924879, 0.01924879, 0.01924879, 0.01924879,\n",
       "       0.01924879, 0.01924879, 0.01924879, 0.01924879, 0.01924879,\n",
       "       0.01924879, 0.01924879, 0.01924879, 0.01924879, 0.01924879,\n",
       "       0.01924879, 0.01924879, 0.01924879, 0.01924879, 0.01924879,\n",
       "       0.01924879, 0.01924879, 0.01924879, 0.01924879, 0.01924879,\n",
       "       0.01924879, 0.01924879, 0.01924879, 0.01924879, 0.01924879,\n",
       "       0.01924879, 0.01924879, 0.01924879, 0.01924879, 0.01924879,\n",
       "       0.01924879, 0.01924879, 0.01924879, 0.01924879, 0.01924879,\n",
       "       0.01924879, 0.01924879, 0.01924879, 0.01924879, 0.01924879,\n",
       "       0.01924879, 0.01924879, 0.01924879, 0.01924879, 0.01924879,\n",
       "       0.01924879, 0.01924879, 0.01924879, 0.01924879, 0.01924879,\n",
       "       0.01924879, 0.01924879, 0.01924879, 0.01924879, 0.01924879,\n",
       "       0.01924879, 0.01924879, 0.01924879, 0.01924879, 0.01924879,\n",
       "       0.01924879, 0.01924879, 0.01924879, 0.01924879, 0.01924879,\n",
       "       0.01924879, 0.01924879, 0.01924879, 0.01924879, 0.01924879,\n",
       "       0.01924879, 0.01924879, 0.01924879, 0.01924879, 0.01924879,\n",
       "       0.01924879, 0.01924879, 0.01924879, 0.01924879, 0.01924879,\n",
       "       0.01924879])"
      ]
     },
     "execution_count": 116,
     "metadata": {},
     "output_type": "execute_result"
    }
   ],
   "source": [
    "y"
   ]
  },
  {
   "cell_type": "code",
   "execution_count": 97,
   "metadata": {},
   "outputs": [
    {
     "data": {
      "text/plain": [
       "array([  0.        ,   6.12244898,  12.24489796,  18.36734694,\n",
       "        24.48979592,  30.6122449 ,  36.73469388,  42.85714286,\n",
       "        48.97959184,  55.10204082,  61.2244898 ,  67.34693878,\n",
       "        73.46938776,  79.59183673,  85.71428571,  91.83673469,\n",
       "        97.95918367, 104.08163265, 110.20408163, 116.32653061,\n",
       "       122.44897959, 128.57142857, 134.69387755, 140.81632653,\n",
       "       146.93877551, 153.06122449, 159.18367347, 165.30612245,\n",
       "       171.42857143, 177.55102041, 183.67346939, 189.79591837,\n",
       "       195.91836735, 202.04081633, 208.16326531, 214.28571429,\n",
       "       220.40816327, 226.53061224, 232.65306122, 238.7755102 ,\n",
       "       244.89795918, 251.02040816, 257.14285714, 263.26530612,\n",
       "       269.3877551 , 275.51020408, 281.63265306, 287.75510204,\n",
       "       293.87755102, 300.        ])"
      ]
     },
     "execution_count": 97,
     "metadata": {},
     "output_type": "execute_result"
    }
   ],
   "source": [
    "np.linspace(0, h_ref['epoch'].values[-1])"
   ]
  },
  {
   "cell_type": "code",
   "execution_count": 96,
   "metadata": {},
   "outputs": [
    {
     "data": {
      "text/plain": [
       "300"
      ]
     },
     "execution_count": 96,
     "metadata": {},
     "output_type": "execute_result"
    }
   ],
   "source": [
    "h_ref['epoch'].values[-1]"
   ]
  },
  {
   "cell_type": "code",
   "execution_count": 95,
   "metadata": {},
   "outputs": [
    {
     "data": {
      "text/plain": [
       "0        1\n",
       "1        2\n",
       "2        3\n",
       "3        4\n",
       "4        5\n",
       "5        6\n",
       "6        7\n",
       "7        8\n",
       "8        9\n",
       "9       10\n",
       "10      11\n",
       "11      12\n",
       "12      13\n",
       "13      14\n",
       "14      15\n",
       "15      16\n",
       "16      17\n",
       "17      18\n",
       "18      19\n",
       "19      20\n",
       "20      21\n",
       "21      22\n",
       "22      23\n",
       "23      24\n",
       "24      25\n",
       "25      26\n",
       "26      27\n",
       "27      28\n",
       "28      29\n",
       "29      30\n",
       "      ... \n",
       "270    271\n",
       "271    272\n",
       "272    273\n",
       "273    274\n",
       "274    275\n",
       "275    276\n",
       "276    277\n",
       "277    278\n",
       "278    279\n",
       "279    280\n",
       "280    281\n",
       "281    282\n",
       "282    283\n",
       "283    284\n",
       "284    285\n",
       "285    286\n",
       "286    287\n",
       "287    288\n",
       "288    289\n",
       "289    290\n",
       "290    291\n",
       "291    292\n",
       "292    293\n",
       "293    294\n",
       "294    295\n",
       "295    296\n",
       "296    297\n",
       "297    298\n",
       "298    299\n",
       "299    300\n",
       "Name: epoch, Length: 300, dtype: int64"
      ]
     },
     "execution_count": 95,
     "metadata": {},
     "output_type": "execute_result"
    }
   ],
   "source": [
    "h_ref['epoch']"
   ]
  },
  {
   "cell_type": "code",
   "execution_count": null,
   "metadata": {},
   "outputs": [],
   "source": []
  }
 ],
 "metadata": {
  "kernelspec": {
   "display_name": "Python 3",
   "language": "python",
   "name": "python3"
  },
  "language_info": {
   "codemirror_mode": {
    "name": "ipython",
    "version": 3
   },
   "file_extension": ".py",
   "mimetype": "text/x-python",
   "name": "python",
   "nbconvert_exporter": "python",
   "pygments_lexer": "ipython3",
   "version": "3.6.8"
  }
 },
 "nbformat": 4,
 "nbformat_minor": 2
}
