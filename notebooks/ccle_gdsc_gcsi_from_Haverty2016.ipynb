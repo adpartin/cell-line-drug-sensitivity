{
 "cells": [
  {
   "cell_type": "markdown",
   "metadata": {},
   "source": [
    "http://research-pub.gene.com/gCSI-cellline-data/"
   ]
  },
  {
   "cell_type": "code",
   "execution_count": 1,
   "metadata": {},
   "outputs": [
    {
     "name": "stderr",
     "output_type": "stream",
     "text": [
      "Using TensorFlow backend.\n"
     ]
    }
   ],
   "source": [
    "%load_ext autoreload\n",
    "%autoreload 2\n",
    "%matplotlib inline\n",
    "\n",
    "import os\n",
    "import sys\n",
    "from glob import glob\n",
    "from collections import OrderedDict\n",
    "import numpy as np\n",
    "import pandas as pd\n",
    "import matplotlib.pyplot as plt\n",
    "import seaborn as sns\n",
    "\n",
    "# Utils\n",
    "file_path = os.getcwd()  # os.path.dirname(os.path.relpath(__file__))\n",
    "utils_path = os.path.abspath(os.path.join(file_path, 'utils_py'))\n",
    "sys.path.append(utils_path)\n",
    "import utils_all as utils\n",
    "\n",
    "import warnings\n",
    "warnings.filterwarnings('ignore')\n",
    "\n",
    "SEED=0"
   ]
  },
  {
   "cell_type": "code",
   "execution_count": 2,
   "metadata": {},
   "outputs": [],
   "source": [
    "DATADIR = '/Users/apartin/work/jdacs/cell-line-data/gcsi/haverty_2016/original/savedata'"
   ]
  },
  {
   "cell_type": "code",
   "execution_count": 3,
   "metadata": {},
   "outputs": [
    {
     "data": {
      "text/plain": [
       "['ccle_expr',\n",
       " 'ccle_gcsi_dose_response',\n",
       " 'ccle_ic50',\n",
       " 'ccle_mv',\n",
       " 'ccle_rec',\n",
       " 'gcsi_cell_info',\n",
       " 'gcsi_genomics_fea_info',\n",
       " 'gcsi_ic50',\n",
       " 'gcsi_mv',\n",
       " 'gcsi_vsd',\n",
       " 'gdsc_expr',\n",
       " 'gdsc_ic50',\n",
       " 'gdsc_mv']"
      ]
     },
     "execution_count": 3,
     "metadata": {},
     "output_type": "execute_result"
    }
   ],
   "source": [
    "files = glob(os.path.join(DATADIR, '*'))\n",
    "fdict = {os.path.basename(f): pd.read_csv(f, sep='\\t') for f in files}\n",
    "fdict = OrderedDict(sorted(fdict.items(), key=lambda x: x[0]))\n",
    "list(fdict.keys())"
   ]
  },
  {
   "cell_type": "code",
   "execution_count": null,
   "metadata": {},
   "outputs": [],
   "source": []
  },
  {
   "cell_type": "markdown",
   "metadata": {},
   "source": [
    "# gCSI"
   ]
  },
  {
   "cell_type": "code",
   "execution_count": 4,
   "metadata": {},
   "outputs": [],
   "source": [
    "gcsi_cell_info = fdict['gcsi_cell_info']\n",
    "gcsi_genomics_fea_info  = fdict['gcsi_genomics_fea_info']\n",
    "gcsi_ic50 = fdict['gcsi_ic50']\n",
    "gcsi_mv = fdict['gcsi_mv']\n",
    "gcsi_vsd = fdict['gcsi_vsd']"
   ]
  },
  {
   "cell_type": "markdown",
   "metadata": {},
   "source": [
    "#### Map cell line names"
   ]
  },
  {
   "cell_type": "code",
   "execution_count": 5,
   "metadata": {},
   "outputs": [
    {
     "name": "stdout",
     "output_type": "stream",
     "text": [
      "(329, 26225)\n",
      "(410, 7)\n"
     ]
    }
   ],
   "source": [
    "print(gcsi_vsd.shape)\n",
    "print(gcsi_cell_info.shape)"
   ]
  },
  {
   "cell_type": "code",
   "execution_count": 6,
   "metadata": {},
   "outputs": [
    {
     "name": "stdout",
     "output_type": "stream",
     "text": [
      "(26225, 329)\n"
     ]
    },
    {
     "data": {
      "text/html": [
       "<div>\n",
       "<style scoped>\n",
       "    .dataframe tbody tr th:only-of-type {\n",
       "        vertical-align: middle;\n",
       "    }\n",
       "\n",
       "    .dataframe tbody tr th {\n",
       "        vertical-align: top;\n",
       "    }\n",
       "\n",
       "    .dataframe thead th {\n",
       "        text-align: right;\n",
       "    }\n",
       "</style>\n",
       "<table border=\"1\" class=\"dataframe\">\n",
       "  <thead>\n",
       "    <tr style=\"text-align: right;\">\n",
       "      <th></th>\n",
       "      <th>2313287</th>\n",
       "      <th>769p</th>\n",
       "      <th>786o</th>\n",
       "      <th>a172</th>\n",
       "      <th>a2058</th>\n",
       "      <th>a2780</th>\n",
       "      <th>a375</th>\n",
       "    </tr>\n",
       "  </thead>\n",
       "  <tbody>\n",
       "    <tr>\n",
       "      <th>vsd.GeneID:1</th>\n",
       "      <td>-2.868397</td>\n",
       "      <td>-1.457918</td>\n",
       "      <td>-1.546713</td>\n",
       "      <td>1.484096</td>\n",
       "      <td>0.754382</td>\n",
       "      <td>-0.072495</td>\n",
       "      <td>0.919875</td>\n",
       "    </tr>\n",
       "    <tr>\n",
       "      <th>vsd.GeneID:10</th>\n",
       "      <td>1.660978</td>\n",
       "      <td>0.821055</td>\n",
       "      <td>0.107958</td>\n",
       "      <td>0.360472</td>\n",
       "      <td>-1.020219</td>\n",
       "      <td>0.329382</td>\n",
       "      <td>0.843651</td>\n",
       "    </tr>\n",
       "    <tr>\n",
       "      <th>vsd.GeneID:100</th>\n",
       "      <td>-0.317083</td>\n",
       "      <td>-0.720061</td>\n",
       "      <td>-0.270618</td>\n",
       "      <td>-0.444273</td>\n",
       "      <td>-0.225363</td>\n",
       "      <td>-0.257863</td>\n",
       "      <td>-0.006622</td>\n",
       "    </tr>\n",
       "    <tr>\n",
       "      <th>vsd.GeneID:1000</th>\n",
       "      <td>-1.024843</td>\n",
       "      <td>1.520102</td>\n",
       "      <td>1.774583</td>\n",
       "      <td>2.360834</td>\n",
       "      <td>1.094753</td>\n",
       "      <td>0.113761</td>\n",
       "      <td>0.792757</td>\n",
       "    </tr>\n",
       "  </tbody>\n",
       "</table>\n",
       "</div>"
      ],
      "text/plain": [
       "                  2313287      769p      786o      a172     a2058     a2780  \\\n",
       "vsd.GeneID:1    -2.868397 -1.457918 -1.546713  1.484096  0.754382 -0.072495   \n",
       "vsd.GeneID:10    1.660978  0.821055  0.107958  0.360472 -1.020219  0.329382   \n",
       "vsd.GeneID:100  -0.317083 -0.720061 -0.270618 -0.444273 -0.225363 -0.257863   \n",
       "vsd.GeneID:1000 -1.024843  1.520102  1.774583  2.360834  1.094753  0.113761   \n",
       "\n",
       "                     a375  \n",
       "vsd.GeneID:1     0.919875  \n",
       "vsd.GeneID:10    0.843651  \n",
       "vsd.GeneID:100  -0.006622  \n",
       "vsd.GeneID:1000  0.792757  "
      ]
     },
     "execution_count": 6,
     "metadata": {},
     "output_type": "execute_result"
    }
   ],
   "source": [
    "df = gcsi_vsd.copy().T\n",
    "df = df.sort_index()\n",
    "print(df.shape)\n",
    "df.iloc[:4, :7]"
   ]
  },
  {
   "cell_type": "code",
   "execution_count": null,
   "metadata": {},
   "outputs": [],
   "source": []
  },
  {
   "cell_type": "markdown",
   "metadata": {},
   "source": [
    "# CCLE"
   ]
  },
  {
   "cell_type": "code",
   "execution_count": 7,
   "metadata": {},
   "outputs": [],
   "source": [
    "ccle_expr = fdict['ccle_expr']\n",
    "ccle_ic50 = fdict['ccle_ic50']\n",
    "ccle_mv   = fdict['ccle_mv']\n",
    "ccle_rec  = fdict['ccle_rec']\n",
    "ccle_gcsi_dose_response = fdict['ccle_gcsi_dose_response']"
   ]
  },
  {
   "cell_type": "code",
   "execution_count": 9,
   "metadata": {},
   "outputs": [
    {
     "name": "stdout",
     "output_type": "stream",
     "text": [
      "(285, 18926)\n"
     ]
    },
    {
     "data": {
      "text/html": [
       "<div>\n",
       "<style scoped>\n",
       "    .dataframe tbody tr th:only-of-type {\n",
       "        vertical-align: middle;\n",
       "    }\n",
       "\n",
       "    .dataframe tbody tr th {\n",
       "        vertical-align: top;\n",
       "    }\n",
       "\n",
       "    .dataframe thead th {\n",
       "        text-align: right;\n",
       "    }\n",
       "</style>\n",
       "<table border=\"1\" class=\"dataframe\">\n",
       "  <thead>\n",
       "    <tr style=\"text-align: right;\">\n",
       "      <th></th>\n",
       "      <th>expr.GeneID:100009676</th>\n",
       "      <th>expr.GeneID:10000</th>\n",
       "      <th>expr.GeneID:10001</th>\n",
       "      <th>expr.GeneID:10002</th>\n",
       "      <th>expr.GeneID:10003</th>\n",
       "      <th>expr.GeneID:100048912</th>\n",
       "      <th>expr.GeneID:100049716</th>\n",
       "      <th>expr.GeneID:10004</th>\n",
       "      <th>expr.GeneID:10005</th>\n",
       "      <th>expr.GeneID:10006</th>\n",
       "      <th>...</th>\n",
       "      <th>expr.GeneID:9989</th>\n",
       "      <th>expr.GeneID:998</th>\n",
       "      <th>expr.GeneID:9990</th>\n",
       "      <th>expr.GeneID:9991</th>\n",
       "      <th>expr.GeneID:9992</th>\n",
       "      <th>expr.GeneID:9993</th>\n",
       "      <th>expr.GeneID:9994</th>\n",
       "      <th>expr.GeneID:9997</th>\n",
       "      <th>expr.GeneID:999</th>\n",
       "      <th>expr.GeneID:9</th>\n",
       "    </tr>\n",
       "  </thead>\n",
       "  <tbody>\n",
       "    <tr>\n",
       "      <th>1321n1</th>\n",
       "      <td>0.680830</td>\n",
       "      <td>1.518013</td>\n",
       "      <td>0.913758</td>\n",
       "      <td>-0.719688</td>\n",
       "      <td>-0.614747</td>\n",
       "      <td>-0.492973</td>\n",
       "      <td>-0.965160</td>\n",
       "      <td>-0.327511</td>\n",
       "      <td>2.097485</td>\n",
       "      <td>-0.361672</td>\n",
       "      <td>...</td>\n",
       "      <td>1.258690</td>\n",
       "      <td>1.297607</td>\n",
       "      <td>-0.246770</td>\n",
       "      <td>-0.376920</td>\n",
       "      <td>-0.249987</td>\n",
       "      <td>-1.324575</td>\n",
       "      <td>-0.202205</td>\n",
       "      <td>1.032229</td>\n",
       "      <td>-0.937385</td>\n",
       "      <td>-0.173472</td>\n",
       "    </tr>\n",
       "    <tr>\n",
       "      <th>769p</th>\n",
       "      <td>-0.674349</td>\n",
       "      <td>1.096910</td>\n",
       "      <td>-0.914648</td>\n",
       "      <td>1.287244</td>\n",
       "      <td>-0.464878</td>\n",
       "      <td>-0.040102</td>\n",
       "      <td>-1.284383</td>\n",
       "      <td>-0.310075</td>\n",
       "      <td>-0.389226</td>\n",
       "      <td>0.219460</td>\n",
       "      <td>...</td>\n",
       "      <td>-0.579194</td>\n",
       "      <td>-0.982166</td>\n",
       "      <td>-0.588123</td>\n",
       "      <td>0.255133</td>\n",
       "      <td>0.380648</td>\n",
       "      <td>-0.342711</td>\n",
       "      <td>-0.509638</td>\n",
       "      <td>0.917165</td>\n",
       "      <td>-0.906742</td>\n",
       "      <td>0.144688</td>\n",
       "    </tr>\n",
       "  </tbody>\n",
       "</table>\n",
       "<p>2 rows × 18926 columns</p>\n",
       "</div>"
      ],
      "text/plain": [
       "        expr.GeneID:100009676  expr.GeneID:10000  expr.GeneID:10001  \\\n",
       "1321n1               0.680830           1.518013           0.913758   \n",
       "769p                -0.674349           1.096910          -0.914648   \n",
       "\n",
       "        expr.GeneID:10002  expr.GeneID:10003  expr.GeneID:100048912  \\\n",
       "1321n1          -0.719688          -0.614747              -0.492973   \n",
       "769p             1.287244          -0.464878              -0.040102   \n",
       "\n",
       "        expr.GeneID:100049716  expr.GeneID:10004  expr.GeneID:10005  \\\n",
       "1321n1              -0.965160          -0.327511           2.097485   \n",
       "769p                -1.284383          -0.310075          -0.389226   \n",
       "\n",
       "        expr.GeneID:10006      ...        expr.GeneID:9989  expr.GeneID:998  \\\n",
       "1321n1          -0.361672      ...                1.258690         1.297607   \n",
       "769p             0.219460      ...               -0.579194        -0.982166   \n",
       "\n",
       "        expr.GeneID:9990  expr.GeneID:9991  expr.GeneID:9992  \\\n",
       "1321n1         -0.246770         -0.376920         -0.249987   \n",
       "769p           -0.588123          0.255133          0.380648   \n",
       "\n",
       "        expr.GeneID:9993  expr.GeneID:9994  expr.GeneID:9997  expr.GeneID:999  \\\n",
       "1321n1         -1.324575         -0.202205          1.032229        -0.937385   \n",
       "769p           -0.342711         -0.509638          0.917165        -0.906742   \n",
       "\n",
       "        expr.GeneID:9  \n",
       "1321n1      -0.173472  \n",
       "769p         0.144688  \n",
       "\n",
       "[2 rows x 18926 columns]"
      ]
     },
     "execution_count": 9,
     "metadata": {},
     "output_type": "execute_result"
    }
   ],
   "source": [
    "print(ccle_expr.shape)\n",
    "ccle_expr[:2]"
   ]
  },
  {
   "cell_type": "code",
   "execution_count": null,
   "metadata": {},
   "outputs": [],
   "source": []
  }
 ],
 "metadata": {
  "kernelspec": {
   "display_name": "Python 3",
   "language": "python",
   "name": "python3"
  },
  "language_info": {
   "codemirror_mode": {
    "name": "ipython",
    "version": 3
   },
   "file_extension": ".py",
   "mimetype": "text/x-python",
   "name": "python",
   "nbconvert_exporter": "python",
   "pygments_lexer": "ipython3",
   "version": "3.7.0"
  }
 },
 "nbformat": 4,
 "nbformat_minor": 2
}
