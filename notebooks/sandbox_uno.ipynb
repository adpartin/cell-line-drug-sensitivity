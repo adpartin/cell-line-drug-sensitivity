{
 "cells": [
  {
   "cell_type": "code",
   "execution_count": 4,
   "metadata": {},
   "outputs": [
    {
     "name": "stdout",
     "output_type": "stream",
     "text": [
      "The autoreload extension is already loaded. To reload it, use:\n",
      "  %reload_ext autoreload\n",
      "/Users/apartin/Dropbox/work/pilot1/cell-line-drug-sensitivity/notebooks\n"
     ]
    }
   ],
   "source": [
    "%load_ext autoreload\n",
    "%autoreload 2\n",
    "%matplotlib inline\n",
    "\n",
    "import os\n",
    "import sys\n",
    "import numpy as np\n",
    "import pandas as pd\n",
    "import matplotlib.pyplot as plt\n",
    "import seaborn as sns\n",
    "import collections\n",
    "\n",
    "# Utils\n",
    "file_path = os.getcwd()  # os.path.dirname(os.path.relpath(__file__))\n",
    "print(file_path)\n",
    "# utils_path = os.path.abspath(os.path.join(file_path, '../../utils_py'))\n",
    "# sys.path.append(utils_path)\n",
    "# import utils_all as utils\n",
    "\n",
    "import warnings\n",
    "warnings.filterwarnings('ignore')\n",
    "\n",
    "SEED=0"
   ]
  },
  {
   "cell_type": "markdown",
   "metadata": {},
   "source": [
    "### rescaled_combined_single_drug_growth\n",
    "1. What's `SCLC` and `SCL`?\n",
    "2. What's `CONCUNIT`?\n",
    "3. What's `LOG_CONCENTRATION`? How come we have negative and positive values?\n",
    "4. Explain `GROWTH`\n",
    "\n",
    "### ComboDrugGrowth_Nov2017.csv\n",
    "1. Does the data come only from NCI60 (ALMANAC)?\n",
    "1. What's the `SCREENER` column (unique values: `FF`, `FG`, `1A`; can it be a source of batch effect)?<br>\n",
    "\n",
    "### NCI60_CELLNAME_to_Combo.txt\n",
    "`NCI60.ID`: contain the prefix NCI60, and then cell line name<br>\n",
    "`CELLNAME`: contain the prefix that corresponds to the cancer type (e.g., BR, CO, LE), and then cell line name<br>\n",
    "`NAME`: contain just the cell line name<br>\n",
    "\n",
    "### Find out:\n",
    "1. How many unique drugs?\n",
    "2. Consider removing toxic drugs? (drugs that inhibit growth even with small dosage)"
   ]
  },
  {
   "cell_type": "code",
   "execution_count": 5,
   "metadata": {},
   "outputs": [],
   "source": [
    "DATADIR = '/Users/apartin/work/jdacs/Benchmarks/Data/Pilot1'\n",
    "\n",
    "fname_single_drug_growth = 'rescaled_combined_single_drug_growth'\n",
    "# fname_drug_growth = 'combined_single_drug_growth'\n",
    "\n",
    "fname_combo_drug_growth = 'ComboDrugGrowth_Nov2017.csv'\n",
    "\n",
    "fname_nci60_cellname = 'NCI60_CELLNAME_to_Combo.txt'\n",
    "\n",
    "cellmap_path = os.path.join(DATADIR, 'NCI60_CELLNAME_to_Combo.txt')\n",
    "\n",
    "# expression_data = 'combined_rnaseq_data'\n",
    "expression_data = 'combined_rnaseq_data_lincs1000'"
   ]
  },
  {
   "cell_type": "code",
   "execution_count": 6,
   "metadata": {},
   "outputs": [],
   "source": [
    "OUTDIR = './save_uno'\n",
    "os.makedirs(OUTDIR, exist_ok=True)"
   ]
  },
  {
   "cell_type": "code",
   "execution_count": 7,
   "metadata": {},
   "outputs": [],
   "source": [
    "train_sources = ['GDSC', 'CTRP', 'ALMANAC']\n",
    "test_sources = train_sources\n",
    "\n",
    "cell_features = ['rnaseq']\n",
    "drug_features = ['descriptors', 'fingerprints']\n",
    "\n",
    "drug_median_response_min = -1\n",
    "drug_median_response_max = 1\n",
    "drug_lower_response = 1\n",
    "drug_upper_response = -1\n",
    "drug_response_span = 0"
   ]
  },
  {
   "cell_type": "markdown",
   "metadata": {},
   "source": [
    "# Load single drug dose response (df1)\n",
    "#### load_single_dose_response()"
   ]
  },
  {
   "cell_type": "code",
   "execution_count": 8,
   "metadata": {},
   "outputs": [
    {
     "name": "stdout",
     "output_type": "stream",
     "text": [
      "Shape (27769716, 7)\n",
      "\n",
      "<class 'pandas.core.frame.DataFrame'>\n",
      "RangeIndex: 27769716 entries, 0 to 27769715\n",
      "Data columns (total 7 columns):\n",
      "SOURCE               object\n",
      "DRUG_ID              object\n",
      "CELLNAME             object\n",
      "CONCUNIT             object\n",
      "LOG_CONCENTRATION    float32\n",
      "EXPID                object\n",
      "GROWTH               float32\n",
      "dtypes: float32(2), object(5)\n",
      "memory usage: 1.2+ GB\n",
      "None\n"
     ]
    },
    {
     "data": {
      "text/html": [
       "<div>\n",
       "<style scoped>\n",
       "    .dataframe tbody tr th:only-of-type {\n",
       "        vertical-align: middle;\n",
       "    }\n",
       "\n",
       "    .dataframe tbody tr th {\n",
       "        vertical-align: top;\n",
       "    }\n",
       "\n",
       "    .dataframe thead th {\n",
       "        text-align: right;\n",
       "    }\n",
       "</style>\n",
       "<table border=\"1\" class=\"dataframe\">\n",
       "  <thead>\n",
       "    <tr style=\"text-align: right;\">\n",
       "      <th></th>\n",
       "      <th>SOURCE</th>\n",
       "      <th>DRUG_ID</th>\n",
       "      <th>CELLNAME</th>\n",
       "      <th>CONCUNIT</th>\n",
       "      <th>LOG_CONCENTRATION</th>\n",
       "      <th>EXPID</th>\n",
       "      <th>GROWTH</th>\n",
       "    </tr>\n",
       "  </thead>\n",
       "  <tbody>\n",
       "    <tr>\n",
       "      <th>0</th>\n",
       "      <td>CCLE</td>\n",
       "      <td>CCLE.1</td>\n",
       "      <td>CCLE.1321N1</td>\n",
       "      <td>M</td>\n",
       "      <td>-8.60206</td>\n",
       "      <td>fake_exp</td>\n",
       "      <td>117.339996</td>\n",
       "    </tr>\n",
       "    <tr>\n",
       "      <th>1</th>\n",
       "      <td>CCLE</td>\n",
       "      <td>CCLE.1</td>\n",
       "      <td>CCLE.1321N1</td>\n",
       "      <td>M</td>\n",
       "      <td>-8.09691</td>\n",
       "      <td>fake_exp</td>\n",
       "      <td>122.000000</td>\n",
       "    </tr>\n",
       "  </tbody>\n",
       "</table>\n",
       "</div>"
      ],
      "text/plain": [
       "  SOURCE DRUG_ID     CELLNAME CONCUNIT  LOG_CONCENTRATION     EXPID  \\\n",
       "0   CCLE  CCLE.1  CCLE.1321N1        M           -8.60206  fake_exp   \n",
       "1   CCLE  CCLE.1  CCLE.1321N1        M           -8.09691  fake_exp   \n",
       "\n",
       "       GROWTH  \n",
       "0  117.339996  \n",
       "1  122.000000  "
      ]
     },
     "metadata": {},
     "output_type": "display_data"
    }
   ],
   "source": [
    "df = pd.read_csv(os.path.join(DATADIR, fname_single_drug_growth), sep='\\t', engine='c',\n",
    "                  na_values=['na', '-', ''],\n",
    "                  dtype={'SOURCE': str, 'DRUG_ID': str,\n",
    "                         'CELLNAME': str, 'CONCUNIT': str,\n",
    "                         'LOG_CONCENTRATION': np.float32,\n",
    "                         'EXPID': str, 'GROWTH': np.float32})\n",
    "print(f'Shape {df.shape}\\n')\n",
    "print(df.info())\n",
    "display(df[:2])"
   ]
  },
  {
   "cell_type": "code",
   "execution_count": 42,
   "metadata": {},
   "outputs": [],
   "source": [
    "# print(df.isna().sum().sum()) # --> no NAs\n",
    "# display(df.nunique())\n",
    "# print(df.SOURCE.value_counts()/1000)\n",
    "# df.describe()"
   ]
  },
  {
   "cell_type": "code",
   "execution_count": 10,
   "metadata": {},
   "outputs": [],
   "source": [
    "# utils.plot_boxplot(x=df['SOURCE'], y=df['LOG_CONCENTRATION'],\n",
    "#              figsize=(17, 4), title='Single drug',\n",
    "#              outpath=os.path.join(OUTDIR, 'single_drug_logconc_boxplot.png'))"
   ]
  },
  {
   "cell_type": "code",
   "execution_count": 11,
   "metadata": {},
   "outputs": [],
   "source": [
    "# utils.plot_density(col='LOG_CONCENTRATION', split_by='SOURCE', df=df,\n",
    "#              figsize=(17, 4), kind='hist', title='Hist of LOG_CONCENTRATION',\n",
    "#              outpath=os.path.join(OUTDIR, 'single_drug_logconc_hist.png'));"
   ]
  },
  {
   "cell_type": "code",
   "execution_count": 12,
   "metadata": {},
   "outputs": [],
   "source": [
    "# utils.plot_boxplot(x=df['SOURCE'], y=df['GROWTH'],\n",
    "#              figsize=(17, 4), title='Single drug',\n",
    "#              outpath=os.path.join(OUTDIR, 'single_drug_growth_rescaled_boxplot.png'))"
   ]
  },
  {
   "cell_type": "code",
   "execution_count": 13,
   "metadata": {},
   "outputs": [],
   "source": [
    "# utils.plot_density(col='GROWTH', split_by='SOURCE', df=df,\n",
    "#              figsize=(17, 4), kind='kde', title='Density of (rescaled) GROWTH',\n",
    "#              outpath=os.path.join(OUTDIR, 'single_drug_growth_rescaled_density.png'));"
   ]
  },
  {
   "cell_type": "code",
   "execution_count": 14,
   "metadata": {},
   "outputs": [],
   "source": [
    "# tmp = df[df['SOURCE']=='CCLE']\n",
    "# sns.jointplot(x='LOG_CONCENTRATION', y='GROWTH', data=tmp, kind='scatter', dropna=True);"
   ]
  },
  {
   "cell_type": "code",
   "execution_count": 15,
   "metadata": {},
   "outputs": [],
   "source": [
    "# https://seaborn.pydata.org/generated/seaborn.jointplot.html\n",
    "# Takes too long to plot!\n",
    "\n",
    "# sns.jointplot(x='LOG_CONCENTRATION', y='GROWTH', data=df, kind='scatter', dropna=True)\n",
    "# sns.jointplot(x='LOG_CONCENTRATION', y='GROWTH', data=df, kind='kde', dropna=True, color='skyblue')"
   ]
  },
  {
   "cell_type": "code",
   "execution_count": 16,
   "metadata": {},
   "outputs": [],
   "source": [
    "df['DOSE'] = -df['LOG_CONCENTRATION']\n",
    "df = df.rename(columns={'CELLNAME': 'CELL', 'DRUG_ID': 'DRUG', 'EXPID': 'STUDY'})\n",
    "df = df[['SOURCE', 'CELL', 'DRUG', 'DOSE', 'GROWTH', 'STUDY']]\n",
    "df['GROWTH'] /= 100"
   ]
  },
  {
   "cell_type": "code",
   "execution_count": 17,
   "metadata": {},
   "outputs": [
    {
     "data": {
      "text/html": [
       "<div>\n",
       "<style scoped>\n",
       "    .dataframe tbody tr th:only-of-type {\n",
       "        vertical-align: middle;\n",
       "    }\n",
       "\n",
       "    .dataframe tbody tr th {\n",
       "        vertical-align: top;\n",
       "    }\n",
       "\n",
       "    .dataframe thead th {\n",
       "        text-align: right;\n",
       "    }\n",
       "</style>\n",
       "<table border=\"1\" class=\"dataframe\">\n",
       "  <thead>\n",
       "    <tr style=\"text-align: right;\">\n",
       "      <th></th>\n",
       "      <th>SOURCE</th>\n",
       "      <th>CELL</th>\n",
       "      <th>DRUG</th>\n",
       "      <th>DOSE</th>\n",
       "      <th>GROWTH</th>\n",
       "      <th>STUDY</th>\n",
       "    </tr>\n",
       "  </thead>\n",
       "  <tbody>\n",
       "    <tr>\n",
       "      <th>0</th>\n",
       "      <td>CCLE</td>\n",
       "      <td>CCLE.1321N1</td>\n",
       "      <td>CCLE.1</td>\n",
       "      <td>8.60206</td>\n",
       "      <td>1.1734</td>\n",
       "      <td>fake_exp</td>\n",
       "    </tr>\n",
       "    <tr>\n",
       "      <th>1</th>\n",
       "      <td>CCLE</td>\n",
       "      <td>CCLE.1321N1</td>\n",
       "      <td>CCLE.1</td>\n",
       "      <td>8.09691</td>\n",
       "      <td>1.2200</td>\n",
       "      <td>fake_exp</td>\n",
       "    </tr>\n",
       "  </tbody>\n",
       "</table>\n",
       "</div>"
      ],
      "text/plain": [
       "  SOURCE         CELL    DRUG     DOSE  GROWTH     STUDY\n",
       "0   CCLE  CCLE.1321N1  CCLE.1  8.60206  1.1734  fake_exp\n",
       "1   CCLE  CCLE.1321N1  CCLE.1  8.09691  1.2200  fake_exp"
      ]
     },
     "metadata": {},
     "output_type": "display_data"
    }
   ],
   "source": [
    "display(df[:2])"
   ]
  },
  {
   "cell_type": "code",
   "execution_count": 18,
   "metadata": {},
   "outputs": [],
   "source": [
    "df = df.rename(columns={'DRUG': 'DRUG1', 'DOSE': 'DOSE1'})\n",
    "df['DRUG2'] = np.nan  # we don't have the 2nd drug but that is required for the DL model\n",
    "df['DOSE2'] = np.nan  # we don't have the 2nd drug but that is required for the DL model\n",
    "df['DRUG2'] = df['DRUG2'].astype(object)\n",
    "df['DOSE2'] = df['DOSE2'].astype(np.float32)\n",
    "df = df[['SOURCE', 'CELL', 'DRUG1', 'DOSE1', 'DRUG2', 'DOSE2', 'GROWTH', 'STUDY']]"
   ]
  },
  {
   "cell_type": "code",
   "execution_count": 19,
   "metadata": {},
   "outputs": [
    {
     "data": {
      "text/html": [
       "<div>\n",
       "<style scoped>\n",
       "    .dataframe tbody tr th:only-of-type {\n",
       "        vertical-align: middle;\n",
       "    }\n",
       "\n",
       "    .dataframe tbody tr th {\n",
       "        vertical-align: top;\n",
       "    }\n",
       "\n",
       "    .dataframe thead th {\n",
       "        text-align: right;\n",
       "    }\n",
       "</style>\n",
       "<table border=\"1\" class=\"dataframe\">\n",
       "  <thead>\n",
       "    <tr style=\"text-align: right;\">\n",
       "      <th></th>\n",
       "      <th>SOURCE</th>\n",
       "      <th>CELL</th>\n",
       "      <th>DRUG1</th>\n",
       "      <th>DOSE1</th>\n",
       "      <th>DRUG2</th>\n",
       "      <th>DOSE2</th>\n",
       "      <th>GROWTH</th>\n",
       "      <th>STUDY</th>\n",
       "    </tr>\n",
       "  </thead>\n",
       "  <tbody>\n",
       "    <tr>\n",
       "      <th>0</th>\n",
       "      <td>CCLE</td>\n",
       "      <td>CCLE.1321N1</td>\n",
       "      <td>CCLE.1</td>\n",
       "      <td>8.60206</td>\n",
       "      <td>NaN</td>\n",
       "      <td>NaN</td>\n",
       "      <td>1.1734</td>\n",
       "      <td>fake_exp</td>\n",
       "    </tr>\n",
       "    <tr>\n",
       "      <th>1</th>\n",
       "      <td>CCLE</td>\n",
       "      <td>CCLE.1321N1</td>\n",
       "      <td>CCLE.1</td>\n",
       "      <td>8.09691</td>\n",
       "      <td>NaN</td>\n",
       "      <td>NaN</td>\n",
       "      <td>1.2200</td>\n",
       "      <td>fake_exp</td>\n",
       "    </tr>\n",
       "  </tbody>\n",
       "</table>\n",
       "</div>"
      ],
      "text/plain": [
       "  SOURCE         CELL   DRUG1    DOSE1 DRUG2  DOSE2  GROWTH     STUDY\n",
       "0   CCLE  CCLE.1321N1  CCLE.1  8.60206   NaN    NaN  1.1734  fake_exp\n",
       "1   CCLE  CCLE.1321N1  CCLE.1  8.09691   NaN    NaN  1.2200  fake_exp"
      ]
     },
     "metadata": {},
     "output_type": "display_data"
    }
   ],
   "source": [
    "display(df[:2])"
   ]
  },
  {
   "cell_type": "code",
   "execution_count": 20,
   "metadata": {},
   "outputs": [
    {
     "name": "stdout",
     "output_type": "stream",
     "text": [
      "(27769716, 8)\n",
      "['SOURCE', 'CELL', 'DRUG1', 'DOSE1', 'DRUG2', 'DOSE2', 'GROWTH', 'STUDY']\n"
     ]
    }
   ],
   "source": [
    "df1 = df.copy()\n",
    "del df\n",
    "print(df1.shape)\n",
    "print(df1.columns.tolist())"
   ]
  },
  {
   "cell_type": "code",
   "execution_count": 21,
   "metadata": {},
   "outputs": [
    {
     "name": "stdout",
     "output_type": "stream",
     "text": [
      "Loaded 27769716 single drug dose response measurements\n"
     ]
    }
   ],
   "source": [
    "print('Loaded {} single drug dose response measurements'.format(df1.shape[0]))"
   ]
  },
  {
   "cell_type": "code",
   "execution_count": 22,
   "metadata": {},
   "outputs": [],
   "source": [
    "# Unique drugs per source\n",
    "# tmp = df1.groupby(['SOURCE'])['DRUG1'].agg(['nunique']).reset_index().rename(columns={'nunique': 'unq_drugs_tested'})\n",
    "# display(tmp.sort_values('SOURCE'))"
   ]
  },
  {
   "cell_type": "code",
   "execution_count": 23,
   "metadata": {},
   "outputs": [],
   "source": [
    "# Unique cells per source\n",
    "# tmp = df1.groupby(['SOURCE'])['CELL'].agg(['nunique']).reset_index().rename(columns={'nunique': 'unq_cells_screened'})\n",
    "# display(tmp.sort_values('SOURCE'))"
   ]
  },
  {
   "cell_type": "code",
   "execution_count": 24,
   "metadata": {},
   "outputs": [
    {
     "data": {
      "text/html": [
       "<div>\n",
       "<style scoped>\n",
       "    .dataframe tbody tr th:only-of-type {\n",
       "        vertical-align: middle;\n",
       "    }\n",
       "\n",
       "    .dataframe tbody tr th {\n",
       "        vertical-align: top;\n",
       "    }\n",
       "\n",
       "    .dataframe thead th {\n",
       "        text-align: right;\n",
       "    }\n",
       "</style>\n",
       "<table border=\"1\" class=\"dataframe\">\n",
       "  <thead>\n",
       "    <tr style=\"text-align: right;\">\n",
       "      <th></th>\n",
       "      <th>SOURCE</th>\n",
       "      <th>unq_cells_screened</th>\n",
       "      <th>unq_drugs_tested</th>\n",
       "    </tr>\n",
       "  </thead>\n",
       "  <tbody>\n",
       "    <tr>\n",
       "      <th>0</th>\n",
       "      <td>CCLE</td>\n",
       "      <td>504</td>\n",
       "      <td>24</td>\n",
       "    </tr>\n",
       "    <tr>\n",
       "      <th>1</th>\n",
       "      <td>CTRP</td>\n",
       "      <td>887</td>\n",
       "      <td>544</td>\n",
       "    </tr>\n",
       "    <tr>\n",
       "      <th>2</th>\n",
       "      <td>GDSC</td>\n",
       "      <td>1075</td>\n",
       "      <td>249</td>\n",
       "    </tr>\n",
       "    <tr>\n",
       "      <th>3</th>\n",
       "      <td>NCI60</td>\n",
       "      <td>59</td>\n",
       "      <td>52671</td>\n",
       "    </tr>\n",
       "    <tr>\n",
       "      <th>4</th>\n",
       "      <td>SCL</td>\n",
       "      <td>65</td>\n",
       "      <td>445</td>\n",
       "    </tr>\n",
       "    <tr>\n",
       "      <th>5</th>\n",
       "      <td>SCLC</td>\n",
       "      <td>70</td>\n",
       "      <td>526</td>\n",
       "    </tr>\n",
       "    <tr>\n",
       "      <th>6</th>\n",
       "      <td>gCSI</td>\n",
       "      <td>409</td>\n",
       "      <td>16</td>\n",
       "    </tr>\n",
       "  </tbody>\n",
       "</table>\n",
       "</div>"
      ],
      "text/plain": [
       "  SOURCE  unq_cells_screened  unq_drugs_tested\n",
       "0   CCLE                 504                24\n",
       "1   CTRP                 887               544\n",
       "2   GDSC                1075               249\n",
       "3  NCI60                  59             52671\n",
       "4    SCL                  65               445\n",
       "5   SCLC                  70               526\n",
       "6   gCSI                 409                16"
      ]
     },
     "metadata": {},
     "output_type": "display_data"
    }
   ],
   "source": [
    "tmp = df1.groupby(['SOURCE']).agg({'CELL': 'nunique', 'DRUG1': 'nunique'}).reset_index()\n",
    "tmp.rename(columns={'CELL': 'unq_cells_screened', 'DRUG1': 'unq_drugs_tested'}, inplace=True)\n",
    "display(tmp.sort_values('SOURCE'))"
   ]
  },
  {
   "cell_type": "code",
   "execution_count": null,
   "metadata": {},
   "outputs": [],
   "source": []
  },
  {
   "cell_type": "markdown",
   "metadata": {},
   "source": [
    "# Load drug pair (combo) dose response (df2)\n",
    "#### load_combo_dose_response()"
   ]
  },
  {
   "cell_type": "code",
   "execution_count": 25,
   "metadata": {},
   "outputs": [],
   "source": [
    "df = pd.read_csv(os.path.join(DATADIR, fname_combo_drug_growth), sep=',', engine='c',\n",
    "                 na_values=['na','-',''],\n",
    "                 usecols=['CELLNAME', 'NSC1', 'CONC1', 'NSC2', 'CONC2',\n",
    "                          'PERCENTGROWTH', 'VALID', 'SCREENER', 'STUDY',\n",
    "                          'PANEL'],\n",
    "                 # nrows=10000,\n",
    "                 dtype={'CELLNAME': str, 'NSC1': str, 'NSC2': str,\n",
    "                        'CONC1': np.float32, 'CONC2': np.float32,\n",
    "                        'PERCENTGROWTH':np.float32, 'VALID': str,\n",
    "                        'SCREENER': str, 'STUDY': str},\n",
    "                 error_bad_lines=False, warn_bad_lines=True)\n",
    "\n",
    "# df = pd.read_csv(os.path.join(DATADIR, fname_combo_drug_growth), sep=',', engine='c',\n",
    "#                  na_values=['na','-',''],\n",
    "#                  usecols=['CELLNAME', 'NSC1', 'CONC1', 'NSC2', 'CONC2',\n",
    "#                           'PERCENTGROWTH', 'VALID', 'SCREENER', 'STUDY'],\n",
    "#                  # nrows=10000,\n",
    "#                  dtype={'CELLNAME': str, 'NSC1': str, 'NSC2': str,\n",
    "#                         'CONC1': np.float32, 'CONC2': np.float32,\n",
    "#                         'PERCENTGROWTH':np.float32, 'VALID': str,\n",
    "#                         'SCREENER': str, 'STUDY': str},\n",
    "#                  error_bad_lines=False, warn_bad_lines=True)"
   ]
  },
  {
   "cell_type": "code",
   "execution_count": 26,
   "metadata": {},
   "outputs": [
    {
     "name": "stdout",
     "output_type": "stream",
     "text": [
      "Shape (3686475, 10)\n",
      "\n"
     ]
    },
    {
     "data": {
      "text/html": [
       "<div>\n",
       "<style scoped>\n",
       "    .dataframe tbody tr th:only-of-type {\n",
       "        vertical-align: middle;\n",
       "    }\n",
       "\n",
       "    .dataframe tbody tr th {\n",
       "        vertical-align: top;\n",
       "    }\n",
       "\n",
       "    .dataframe thead th {\n",
       "        text-align: right;\n",
       "    }\n",
       "</style>\n",
       "<table border=\"1\" class=\"dataframe\">\n",
       "  <thead>\n",
       "    <tr style=\"text-align: right;\">\n",
       "      <th></th>\n",
       "      <th>SCREENER</th>\n",
       "      <th>STUDY</th>\n",
       "      <th>NSC1</th>\n",
       "      <th>CONC1</th>\n",
       "      <th>NSC2</th>\n",
       "      <th>CONC2</th>\n",
       "      <th>PERCENTGROWTH</th>\n",
       "      <th>VALID</th>\n",
       "      <th>PANEL</th>\n",
       "      <th>CELLNAME</th>\n",
       "    </tr>\n",
       "  </thead>\n",
       "  <tbody>\n",
       "    <tr>\n",
       "      <th>0</th>\n",
       "      <td>FG</td>\n",
       "      <td>PZUT00156_86_01_T72</td>\n",
       "      <td>752</td>\n",
       "      <td>1.000000e-07</td>\n",
       "      <td>3088</td>\n",
       "      <td>0.000001</td>\n",
       "      <td>85.978996</td>\n",
       "      <td>Y</td>\n",
       "      <td>Renal Cancer</td>\n",
       "      <td>786-0</td>\n",
       "    </tr>\n",
       "    <tr>\n",
       "      <th>1</th>\n",
       "      <td>FG</td>\n",
       "      <td>PZUT00156_86_01_T72</td>\n",
       "      <td>752</td>\n",
       "      <td>1.000000e-07</td>\n",
       "      <td>3088</td>\n",
       "      <td>0.000010</td>\n",
       "      <td>100.903000</td>\n",
       "      <td>Y</td>\n",
       "      <td>Renal Cancer</td>\n",
       "      <td>786-0</td>\n",
       "    </tr>\n",
       "  </tbody>\n",
       "</table>\n",
       "</div>"
      ],
      "text/plain": [
       "  SCREENER                STUDY NSC1         CONC1  NSC2     CONC2  \\\n",
       "0       FG  PZUT00156_86_01_T72  752  1.000000e-07  3088  0.000001   \n",
       "1       FG  PZUT00156_86_01_T72  752  1.000000e-07  3088  0.000010   \n",
       "\n",
       "   PERCENTGROWTH VALID         PANEL CELLNAME  \n",
       "0      85.978996     Y  Renal Cancer    786-0  \n",
       "1     100.903000     Y  Renal Cancer    786-0  "
      ]
     },
     "metadata": {},
     "output_type": "display_data"
    }
   ],
   "source": [
    "print(f'Shape {df.shape}\\n')\n",
    "# print(df.info())\n",
    "display(df[:2])"
   ]
  },
  {
   "cell_type": "code",
   "execution_count": 27,
   "metadata": {},
   "outputs": [
    {
     "name": "stdout",
     "output_type": "stream",
     "text": [
      "3\n"
     ]
    },
    {
     "data": {
      "text/plain": [
       "FF    2062098\n",
       "FG    1415772\n",
       "1A     208605\n",
       "Name: SCREENER, dtype: int64"
      ]
     },
     "metadata": {},
     "output_type": "display_data"
    },
    {
     "name": "stdout",
     "output_type": "stream",
     "text": [
      "\n",
      "\n",
      " 9\n"
     ]
    },
    {
     "data": {
      "text/plain": [
       "Non-Small Cell Lung Cancer    554157\n",
       "Melanoma                      531922\n",
       "Renal Cancer                  497351\n",
       "Colon Cancer                  437857\n",
       "Ovarian Cancer                435512\n",
       "Breast Cancer                 373161\n",
       "CNS Cancer                    368334\n",
       "Leukemia                      363452\n",
       "Prostate Cancer               124729\n",
       "Name: PANEL, dtype: int64"
      ]
     },
     "metadata": {},
     "output_type": "display_data"
    }
   ],
   "source": [
    "print(len(df.SCREENER.value_counts()))\n",
    "display(df.SCREENER.value_counts()[:3])\n",
    "\n",
    "# print('\\n\\n',len(df.STUDY.value_counts()))\n",
    "# display(df.STUDY.value_counts()[:3])\n",
    "\n",
    "print('\\n\\n',len(df.PANEL.value_counts()))\n",
    "display(df.PANEL.value_counts())\n",
    "\n",
    "# print(len(df.TESTDATE.value_counts()))\n",
    "# display(df.TESTDATE.value_counts()[:3])\n",
    "\n",
    "# print(len(df.PLATE.value_counts()))\n",
    "# display(df.PLATE.value_counts()[:3])"
   ]
  },
  {
   "cell_type": "code",
   "execution_count": 28,
   "metadata": {},
   "outputs": [],
   "source": [
    "df = df[df['VALID']=='Y']\n",
    "df['SOURCE'] = 'ALMANAC.' + df['SCREENER']"
   ]
  },
  {
   "cell_type": "code",
   "execution_count": 29,
   "metadata": {},
   "outputs": [
    {
     "name": "stdout",
     "output_type": "stream",
     "text": [
      "(61, 4)\n"
     ]
    },
    {
     "data": {
      "text/html": [
       "<div>\n",
       "<style scoped>\n",
       "    .dataframe tbody tr th:only-of-type {\n",
       "        vertical-align: middle;\n",
       "    }\n",
       "\n",
       "    .dataframe tbody tr th {\n",
       "        vertical-align: top;\n",
       "    }\n",
       "\n",
       "    .dataframe thead th {\n",
       "        text-align: right;\n",
       "    }\n",
       "</style>\n",
       "<table border=\"1\" class=\"dataframe\">\n",
       "  <thead>\n",
       "    <tr style=\"text-align: right;\">\n",
       "      <th></th>\n",
       "      <th>NCI60.ID</th>\n",
       "      <th>CELLNAME</th>\n",
       "      <th>Panel</th>\n",
       "      <th>Name</th>\n",
       "    </tr>\n",
       "  </thead>\n",
       "  <tbody>\n",
       "    <tr>\n",
       "      <th>0</th>\n",
       "      <td>NCI60.BT-549</td>\n",
       "      <td>BR.BT_549</td>\n",
       "      <td>Breast Cancer</td>\n",
       "      <td>BT-549</td>\n",
       "    </tr>\n",
       "    <tr>\n",
       "      <th>1</th>\n",
       "      <td>NCI60.HS-578T</td>\n",
       "      <td>BR.HS578T</td>\n",
       "      <td>Breast Cancer</td>\n",
       "      <td>HS 578T</td>\n",
       "    </tr>\n",
       "  </tbody>\n",
       "</table>\n",
       "</div>"
      ],
      "text/plain": [
       "        NCI60.ID   CELLNAME          Panel     Name\n",
       "0   NCI60.BT-549  BR.BT_549  Breast Cancer   BT-549\n",
       "1  NCI60.HS-578T  BR.HS578T  Breast Cancer  HS 578T"
      ]
     },
     "metadata": {},
     "output_type": "display_data"
    }
   ],
   "source": [
    "# Add the column 'CELL' that contains both the source and the cell line name (SOURCE.CELLNAME)\n",
    "df_cellmap = pd.read_table(cellmap_path)\n",
    "print(df_cellmap.shape)\n",
    "display(df_cellmap[:2])\n",
    "\n",
    "df_cellmap.set_index('Name', inplace=True)\n",
    "cellmap = df_cellmap[['NCI60.ID']].to_dict()['NCI60.ID']\n",
    "df['CELL'] = df['CELLNAME'].map(lambda x: cellmap[x])"
   ]
  },
  {
   "cell_type": "code",
   "execution_count": 30,
   "metadata": {},
   "outputs": [
    {
     "data": {
      "text/html": [
       "<div>\n",
       "<style scoped>\n",
       "    .dataframe tbody tr th:only-of-type {\n",
       "        vertical-align: middle;\n",
       "    }\n",
       "\n",
       "    .dataframe tbody tr th {\n",
       "        vertical-align: top;\n",
       "    }\n",
       "\n",
       "    .dataframe thead th {\n",
       "        text-align: right;\n",
       "    }\n",
       "</style>\n",
       "<table border=\"1\" class=\"dataframe\">\n",
       "  <thead>\n",
       "    <tr style=\"text-align: right;\">\n",
       "      <th></th>\n",
       "      <th>SCREENER</th>\n",
       "      <th>STUDY</th>\n",
       "      <th>NSC1</th>\n",
       "      <th>CONC1</th>\n",
       "      <th>NSC2</th>\n",
       "      <th>CONC2</th>\n",
       "      <th>PERCENTGROWTH</th>\n",
       "      <th>VALID</th>\n",
       "      <th>PANEL</th>\n",
       "      <th>CELLNAME</th>\n",
       "      <th>SOURCE</th>\n",
       "      <th>CELL</th>\n",
       "    </tr>\n",
       "  </thead>\n",
       "  <tbody>\n",
       "    <tr>\n",
       "      <th>0</th>\n",
       "      <td>FG</td>\n",
       "      <td>PZUT00156_86_01_T72</td>\n",
       "      <td>752</td>\n",
       "      <td>1.000000e-07</td>\n",
       "      <td>3088</td>\n",
       "      <td>0.000001</td>\n",
       "      <td>85.978996</td>\n",
       "      <td>Y</td>\n",
       "      <td>Renal Cancer</td>\n",
       "      <td>786-0</td>\n",
       "      <td>ALMANAC.FG</td>\n",
       "      <td>NCI60.786-0</td>\n",
       "    </tr>\n",
       "    <tr>\n",
       "      <th>1</th>\n",
       "      <td>FG</td>\n",
       "      <td>PZUT00156_86_01_T72</td>\n",
       "      <td>752</td>\n",
       "      <td>1.000000e-07</td>\n",
       "      <td>3088</td>\n",
       "      <td>0.000010</td>\n",
       "      <td>100.903000</td>\n",
       "      <td>Y</td>\n",
       "      <td>Renal Cancer</td>\n",
       "      <td>786-0</td>\n",
       "      <td>ALMANAC.FG</td>\n",
       "      <td>NCI60.786-0</td>\n",
       "    </tr>\n",
       "  </tbody>\n",
       "</table>\n",
       "</div>"
      ],
      "text/plain": [
       "  SCREENER                STUDY NSC1         CONC1  NSC2     CONC2  \\\n",
       "0       FG  PZUT00156_86_01_T72  752  1.000000e-07  3088  0.000001   \n",
       "1       FG  PZUT00156_86_01_T72  752  1.000000e-07  3088  0.000010   \n",
       "\n",
       "   PERCENTGROWTH VALID         PANEL CELLNAME      SOURCE         CELL  \n",
       "0      85.978996     Y  Renal Cancer    786-0  ALMANAC.FG  NCI60.786-0  \n",
       "1     100.903000     Y  Renal Cancer    786-0  ALMANAC.FG  NCI60.786-0  "
      ]
     },
     "metadata": {},
     "output_type": "display_data"
    }
   ],
   "source": [
    "display(df[:2])"
   ]
  },
  {
   "cell_type": "code",
   "execution_count": 31,
   "metadata": {},
   "outputs": [],
   "source": [
    "# plot_boxplot(x=df['PANEL'], y=df['CONC1'], figsize=(17, 4),\n",
    "#              title='CONC1 (from combo): original',\n",
    "#              outpath=os.path.join(OUTDIR, 'combo_drugs_conc1_boxplot.png'))"
   ]
  },
  {
   "cell_type": "code",
   "execution_count": 32,
   "metadata": {},
   "outputs": [],
   "source": [
    "# plot_density(col='CONC1', split_by='PANEL', df=df,\n",
    "#              figsize=(17, 4), kind='hist', title='Hist of CONC1 (from combo): original',\n",
    "#              outpath=os.path.join(OUTDIR, 'combo_drugs_conc1_hist.png'));"
   ]
  },
  {
   "cell_type": "code",
   "execution_count": 33,
   "metadata": {},
   "outputs": [
    {
     "name": "stdout",
     "output_type": "stream",
     "text": [
      "1e-13 0.01\n",
      "1e-12 0.001\n"
     ]
    }
   ],
   "source": [
    "# Rescale the concentration\n",
    "# TODO: for best practices probably need to add a small value to log10(df['CONC1']+epsilon)\n",
    "print(df['CONC1'].min(), df['CONC1'].max())\n",
    "print(df['CONC2'].min(), df['CONC2'].max())\n",
    "df['DOSE1'] = -np.log10(df['CONC1'])\n",
    "df['DOSE2'] = -np.log10(df['CONC2'])"
   ]
  },
  {
   "cell_type": "code",
   "execution_count": 34,
   "metadata": {},
   "outputs": [],
   "source": [
    "# plot_boxplot(x=df['PANEL'], y=df['DOSE1'], figsize=(17, 4),\n",
    "#              title='DOSE1 (from combo): -log10(CONC1)',\n",
    "#              outpath=os.path.join(OUTDIR, 'combo_drugs_log(conc1)_boxplot.png'))"
   ]
  },
  {
   "cell_type": "code",
   "execution_count": 35,
   "metadata": {},
   "outputs": [],
   "source": [
    "# plot_density(col='DOSE1', split_by='PANEL', df=df,\n",
    "#              figsize=(17, 4), kind='hist', title='Hist of DOSE1 (from combo): -log10(CONC1)',\n",
    "#              outpath=os.path.join(OUTDIR, 'combo_drugs_log(conc1)_hist.png'));"
   ]
  },
  {
   "cell_type": "code",
   "execution_count": 36,
   "metadata": {},
   "outputs": [
    {
     "name": "stdout",
     "output_type": "stream",
     "text": [
      "0\n",
      "812961\n"
     ]
    }
   ],
   "source": [
    "print(np.sum(df['DOSE1'].isna()))\n",
    "print(np.sum(df['DOSE2'].isna()))\n",
    "\n",
    "# fig, ax = plt.subplots(figsize=(15, 6))\n",
    "# for i, s in enumerate(df.PANEL.unique()):\n",
    "#     # print(s)\n",
    "#     tmp = df[df['PANEL']==s].copy()\n",
    "#     v = tmp['DOSE2']\n",
    "#     ax.hist(v[~np.isnan(v)], bins=100, label=s)\n",
    "# ax.set_title('Histogram of DOSE2');\n",
    "# ax.grid(True)\n",
    "# # plt.savefig(fname=os.path.join(OUTDIR, 'dose1'))"
   ]
  },
  {
   "cell_type": "code",
   "execution_count": 37,
   "metadata": {},
   "outputs": [],
   "source": [
    "df['DRUG1'] = 'NSC.' + df['NSC1']\n",
    "df['DRUG2'] = 'NSC.' + df['NSC2']\n",
    "df['GROWTH'] = df['PERCENTGROWTH'] / 100\n",
    "df = df[['SOURCE', 'CELL', 'DRUG1', 'DOSE1', 'DRUG2', 'DOSE2', 'GROWTH', 'STUDY']]"
   ]
  },
  {
   "cell_type": "code",
   "execution_count": 38,
   "metadata": {},
   "outputs": [
    {
     "name": "stdout",
     "output_type": "stream",
     "text": [
      "Unique NSC1 drugs:  105\n",
      "Unique NSC2 drugs:  105\n"
     ]
    }
   ],
   "source": [
    "print('Unique NSC1 drugs: ', len(df['DRUG1'].unique()))\n",
    "print('Unique NSC2 drugs: ', len(df['DRUG2'].unique()))"
   ]
  },
  {
   "cell_type": "code",
   "execution_count": 39,
   "metadata": {},
   "outputs": [
    {
     "name": "stdout",
     "output_type": "stream",
     "text": [
      "(3686475, 8)\n",
      "['SOURCE', 'CELL', 'DRUG1', 'DOSE1', 'DRUG2', 'DOSE2', 'GROWTH', 'STUDY']\n"
     ]
    }
   ],
   "source": [
    "df2 = df.copy()\n",
    "del df\n",
    "print(df2.shape)\n",
    "print(df2.columns.tolist())"
   ]
  },
  {
   "cell_type": "code",
   "execution_count": 40,
   "metadata": {},
   "outputs": [
    {
     "name": "stdout",
     "output_type": "stream",
     "text": [
      "Loaded 3686475 drug pair dose response measurements\n"
     ]
    }
   ],
   "source": [
    "print('Loaded {} drug pair dose response measurements'.format(df2.shape[0]))"
   ]
  },
  {
   "cell_type": "code",
   "execution_count": null,
   "metadata": {},
   "outputs": [],
   "source": []
  },
  {
   "cell_type": "markdown",
   "metadata": {},
   "source": [
    "## Merge df1 (single drug) and df2 (drug pairs)"
   ]
  },
  {
   "cell_type": "code",
   "execution_count": 36,
   "metadata": {},
   "outputs": [
    {
     "name": "stdout",
     "output_type": "stream",
     "text": [
      "(27769716, 8)\n"
     ]
    },
    {
     "data": {
      "text/html": [
       "<div>\n",
       "<style scoped>\n",
       "    .dataframe tbody tr th:only-of-type {\n",
       "        vertical-align: middle;\n",
       "    }\n",
       "\n",
       "    .dataframe tbody tr th {\n",
       "        vertical-align: top;\n",
       "    }\n",
       "\n",
       "    .dataframe thead th {\n",
       "        text-align: right;\n",
       "    }\n",
       "</style>\n",
       "<table border=\"1\" class=\"dataframe\">\n",
       "  <thead>\n",
       "    <tr style=\"text-align: right;\">\n",
       "      <th></th>\n",
       "      <th>SOURCE</th>\n",
       "      <th>CELL</th>\n",
       "      <th>DRUG1</th>\n",
       "      <th>DOSE1</th>\n",
       "      <th>DRUG2</th>\n",
       "      <th>DOSE2</th>\n",
       "      <th>GROWTH</th>\n",
       "      <th>STUDY</th>\n",
       "    </tr>\n",
       "  </thead>\n",
       "  <tbody>\n",
       "    <tr>\n",
       "      <th>0</th>\n",
       "      <td>CCLE</td>\n",
       "      <td>CCLE.1321N1</td>\n",
       "      <td>CCLE.1</td>\n",
       "      <td>8.60206</td>\n",
       "      <td>NaN</td>\n",
       "      <td>NaN</td>\n",
       "      <td>1.1734</td>\n",
       "      <td>fake_exp</td>\n",
       "    </tr>\n",
       "    <tr>\n",
       "      <th>1</th>\n",
       "      <td>CCLE</td>\n",
       "      <td>CCLE.1321N1</td>\n",
       "      <td>CCLE.1</td>\n",
       "      <td>8.09691</td>\n",
       "      <td>NaN</td>\n",
       "      <td>NaN</td>\n",
       "      <td>1.2200</td>\n",
       "      <td>fake_exp</td>\n",
       "    </tr>\n",
       "  </tbody>\n",
       "</table>\n",
       "</div>"
      ],
      "text/plain": [
       "  SOURCE         CELL   DRUG1    DOSE1 DRUG2  DOSE2  GROWTH     STUDY\n",
       "0   CCLE  CCLE.1321N1  CCLE.1  8.60206   NaN    NaN  1.1734  fake_exp\n",
       "1   CCLE  CCLE.1321N1  CCLE.1  8.09691   NaN    NaN  1.2200  fake_exp"
      ]
     },
     "metadata": {},
     "output_type": "display_data"
    }
   ],
   "source": [
    "# Show df1 (single drug)\n",
    "print(df1.shape)\n",
    "display(df1[:2])\n",
    "# print(df1['SOURCE'].value_counts())"
   ]
  },
  {
   "cell_type": "code",
   "execution_count": 37,
   "metadata": {},
   "outputs": [
    {
     "name": "stdout",
     "output_type": "stream",
     "text": [
      "(3686475, 8)\n"
     ]
    },
    {
     "data": {
      "text/html": [
       "<div>\n",
       "<style scoped>\n",
       "    .dataframe tbody tr th:only-of-type {\n",
       "        vertical-align: middle;\n",
       "    }\n",
       "\n",
       "    .dataframe tbody tr th {\n",
       "        vertical-align: top;\n",
       "    }\n",
       "\n",
       "    .dataframe thead th {\n",
       "        text-align: right;\n",
       "    }\n",
       "</style>\n",
       "<table border=\"1\" class=\"dataframe\">\n",
       "  <thead>\n",
       "    <tr style=\"text-align: right;\">\n",
       "      <th></th>\n",
       "      <th>SOURCE</th>\n",
       "      <th>CELL</th>\n",
       "      <th>DRUG1</th>\n",
       "      <th>DOSE1</th>\n",
       "      <th>DRUG2</th>\n",
       "      <th>DOSE2</th>\n",
       "      <th>GROWTH</th>\n",
       "      <th>STUDY</th>\n",
       "    </tr>\n",
       "  </thead>\n",
       "  <tbody>\n",
       "    <tr>\n",
       "      <th>0</th>\n",
       "      <td>ALMANAC.FG</td>\n",
       "      <td>NCI60.786-0</td>\n",
       "      <td>NSC.752</td>\n",
       "      <td>7.0</td>\n",
       "      <td>NSC.3088</td>\n",
       "      <td>6.0</td>\n",
       "      <td>0.85979</td>\n",
       "      <td>PZUT00156_86_01_T72</td>\n",
       "    </tr>\n",
       "    <tr>\n",
       "      <th>1</th>\n",
       "      <td>ALMANAC.FG</td>\n",
       "      <td>NCI60.786-0</td>\n",
       "      <td>NSC.752</td>\n",
       "      <td>7.0</td>\n",
       "      <td>NSC.3088</td>\n",
       "      <td>5.0</td>\n",
       "      <td>1.00903</td>\n",
       "      <td>PZUT00156_86_01_T72</td>\n",
       "    </tr>\n",
       "  </tbody>\n",
       "</table>\n",
       "</div>"
      ],
      "text/plain": [
       "       SOURCE         CELL    DRUG1  DOSE1     DRUG2  DOSE2   GROWTH  \\\n",
       "0  ALMANAC.FG  NCI60.786-0  NSC.752    7.0  NSC.3088    6.0  0.85979   \n",
       "1  ALMANAC.FG  NCI60.786-0  NSC.752    7.0  NSC.3088    5.0  1.00903   \n",
       "\n",
       "                 STUDY  \n",
       "0  PZUT00156_86_01_T72  \n",
       "1  PZUT00156_86_01_T72  "
      ]
     },
     "metadata": {},
     "output_type": "display_data"
    }
   ],
   "source": [
    "# Show df1 (combo drugs)\n",
    "print(df2.shape)\n",
    "display(df2[:2])\n",
    "# print(df2['SOURCE'].value_counts())"
   ]
  },
  {
   "cell_type": "code",
   "execution_count": 38,
   "metadata": {},
   "outputs": [
    {
     "name": "stdout",
     "output_type": "stream",
     "text": [
      "Combined dose response data contains sources: ['CCLE' 'CTRP' 'gCSI' 'GDSC' 'NCI60' 'SCL' 'SCLC' 'ALMANAC.FG'\n",
      " 'ALMANAC.FF' 'ALMANAC.1A']\n"
     ]
    }
   ],
   "source": [
    "df = pd.concat([df1, df2])\n",
    "print('Combined dose response data contains sources: {}'.format(df['SOURCE'].unique()))"
   ]
  },
  {
   "cell_type": "code",
   "execution_count": 39,
   "metadata": {},
   "outputs": [],
   "source": [
    "df = df.rename(columns={'SOURCE': 'Source', 'CELL': 'Sample',\n",
    "                        'DRUG1': 'Drug1', 'DRUG2': 'Drug2',\n",
    "                        'DOSE1': 'Dose1', 'DOSE2': 'Dose2',\n",
    "                        'GROWTH': 'Growth', 'STUDY': 'Study'})"
   ]
  },
  {
   "cell_type": "code",
   "execution_count": 40,
   "metadata": {},
   "outputs": [
    {
     "name": "stdout",
     "output_type": "stream",
     "text": [
      "(31456191, 8)\n",
      "['Source', 'Sample', 'Drug1', 'Dose1', 'Drug2', 'Dose2', 'Growth', 'Study']\n"
     ]
    }
   ],
   "source": [
    "df_response = df.copy()\n",
    "del df1, df2, df\n",
    "print(df_response.shape)\n",
    "print(df_response.columns.tolist())"
   ]
  },
  {
   "cell_type": "code",
   "execution_count": null,
   "metadata": {},
   "outputs": [],
   "source": []
  },
  {
   "cell_type": "markdown",
   "metadata": {},
   "source": [
    "### Summarize Response Data: summarize_response_data()"
   ]
  },
  {
   "cell_type": "code",
   "execution_count": 41,
   "metadata": {},
   "outputs": [
    {
     "data": {
      "text/html": [
       "<div>\n",
       "<style scoped>\n",
       "    .dataframe tbody tr th:only-of-type {\n",
       "        vertical-align: middle;\n",
       "    }\n",
       "\n",
       "    .dataframe tbody tr th {\n",
       "        vertical-align: top;\n",
       "    }\n",
       "\n",
       "    .dataframe thead th {\n",
       "        text-align: right;\n",
       "    }\n",
       "</style>\n",
       "<table border=\"1\" class=\"dataframe\">\n",
       "  <thead>\n",
       "    <tr style=\"text-align: right;\">\n",
       "      <th></th>\n",
       "      <th>Source</th>\n",
       "      <th>Sample</th>\n",
       "      <th>Drug1</th>\n",
       "      <th>Dose1</th>\n",
       "      <th>Drug2</th>\n",
       "      <th>Dose2</th>\n",
       "      <th>Growth</th>\n",
       "      <th>Study</th>\n",
       "    </tr>\n",
       "  </thead>\n",
       "  <tbody>\n",
       "    <tr>\n",
       "      <th>0</th>\n",
       "      <td>CCLE</td>\n",
       "      <td>CCLE.1321N1</td>\n",
       "      <td>CCLE.1</td>\n",
       "      <td>8.60206</td>\n",
       "      <td>NaN</td>\n",
       "      <td>NaN</td>\n",
       "      <td>1.1734</td>\n",
       "      <td>fake_exp</td>\n",
       "    </tr>\n",
       "    <tr>\n",
       "      <th>1</th>\n",
       "      <td>CCLE</td>\n",
       "      <td>CCLE.1321N1</td>\n",
       "      <td>CCLE.1</td>\n",
       "      <td>8.09691</td>\n",
       "      <td>NaN</td>\n",
       "      <td>NaN</td>\n",
       "      <td>1.2200</td>\n",
       "      <td>fake_exp</td>\n",
       "    </tr>\n",
       "  </tbody>\n",
       "</table>\n",
       "</div>"
      ],
      "text/plain": [
       "  Source       Sample   Drug1    Dose1 Drug2  Dose2  Growth     Study\n",
       "0   CCLE  CCLE.1321N1  CCLE.1  8.60206   NaN    NaN  1.1734  fake_exp\n",
       "1   CCLE  CCLE.1321N1  CCLE.1  8.09691   NaN    NaN  1.2200  fake_exp"
      ]
     },
     "metadata": {},
     "output_type": "display_data"
    }
   ],
   "source": [
    "display(df_response[:2])"
   ]
  },
  {
   "cell_type": "code",
   "execution_count": 42,
   "metadata": {},
   "outputs": [],
   "source": [
    "# func summarize_response_data()\n",
    "# Takes long time!\n",
    "\n",
    "# df = df_response.copy()\n",
    "# df_sum = df.groupby('Source').agg({'Growth': 'count', 'Sample': 'nunique',\n",
    "#                                    'Drug1': 'nunique', 'Drug2': 'nunique'})\n",
    "# df_sum['MedianDose'] = df_response.groupby('Source').agg({'Dose1': 'median'})\n",
    "# print(df_sum.shape)\n",
    "\n",
    "# df_sum"
   ]
  },
  {
   "cell_type": "markdown",
   "metadata": {},
   "source": [
    "**Are there really >52k drugs in NCI60 ??**"
   ]
  },
  {
   "cell_type": "markdown",
   "metadata": {},
   "source": [
    "### Encode sources: encode_sources()"
   ]
  },
  {
   "cell_type": "code",
   "execution_count": 43,
   "metadata": {},
   "outputs": [],
   "source": [
    "all_sources = df_response['Source'].unique()"
   ]
  },
  {
   "cell_type": "code",
   "execution_count": 44,
   "metadata": {},
   "outputs": [],
   "source": [
    "# func encode_sources()\n",
    "sources = all_sources.copy()\n",
    "\n",
    "df = pd.get_dummies(sources, prefix='source', prefix_sep='.')\n",
    "df['Source'] = sources\n",
    "source_l1 = df['Source'].str.extract('^(\\S+)\\.', expand=False)\n",
    "df1 = pd.get_dummies(source_l1, prefix='source.L1', prefix_sep='.')\n",
    "df = pd.concat([df1, df], axis=1)\n",
    "df = df.set_index('Source').reset_index()\n",
    "\n",
    "df_source = df.copy()\n",
    "del df"
   ]
  },
  {
   "cell_type": "code",
   "execution_count": 45,
   "metadata": {},
   "outputs": [],
   "source": [
    "# df_source"
   ]
  },
  {
   "cell_type": "markdown",
   "metadata": {},
   "source": [
    "### Find out how many unique samples and drugs"
   ]
  },
  {
   "cell_type": "code",
   "execution_count": 46,
   "metadata": {},
   "outputs": [
    {
     "name": "stdout",
     "output_type": "stream",
     "text": [
      "train_sep_sources ['CTRP', 'GDSC', 'ALMANAC.FG', 'ALMANAC.FF', 'ALMANAC.1A']\n",
      "test_sep_sources  ['CTRP', 'GDSC', 'ALMANAC.FG', 'ALMANAC.FF', 'ALMANAC.1A']\n"
     ]
    }
   ],
   "source": [
    "train_sep_sources = [x for x in all_sources for y in train_sources if x.startswith(y)]\n",
    "test_sep_sources = [x for x in all_sources for y in test_sources if x.startswith(y)]\n",
    "\n",
    "print('train_sep_sources', train_sep_sources)\n",
    "print('test_sep_sources ', test_sep_sources)"
   ]
  },
  {
   "cell_type": "code",
   "execution_count": 47,
   "metadata": {},
   "outputs": [
    {
     "name": "stdout",
     "output_type": "stream",
     "text": [
      "(31456191, 1)\n",
      "(31456191, 1)\n",
      "(53520, 1)\n",
      "(105, 1)\n"
     ]
    }
   ],
   "source": [
    "print(df_response[['Drug1']].shape)\n",
    "print(df_response[['Drug2']].shape)\n",
    "\n",
    "ids1 = df_response[['Drug1']].drop_duplicates().rename(columns={'Drug1':'Drug'})\n",
    "ids2 = df_response[['Drug2']].drop_duplicates().rename(columns={'Drug2':'Drug'})\n",
    "\n",
    "print(ids1.shape)\n",
    "print(ids2.shape)"
   ]
  },
  {
   "cell_type": "code",
   "execution_count": 48,
   "metadata": {},
   "outputs": [
    {
     "name": "stdout",
     "output_type": "stream",
     "text": [
      "Combined raw dose response data has 3070 unique samples and 53520 unique drugs\n"
     ]
    }
   ],
   "source": [
    "# Get all the samples and drugs for which we have response data!!\n",
    "df_drugs_with_response = pd.concat([ids1, ids2]).drop_duplicates().dropna().reset_index(drop=True)\n",
    "df_cells_with_response = df_response[['Sample']].drop_duplicates().reset_index(drop=True)\n",
    "print('Combined raw dose response data has {} unique samples and {} unique drugs'.format(df_cells_with_response.shape[0], df_drugs_with_response.shape[0]))"
   ]
  },
  {
   "cell_type": "code",
   "execution_count": null,
   "metadata": {},
   "outputs": [],
   "source": []
  },
  {
   "cell_type": "markdown",
   "metadata": {},
   "source": [
    "# Select drugs with specific resposne range:\n",
    "#### select_drugs_with_response_range()"
   ]
  },
  {
   "cell_type": "code",
   "execution_count": 49,
   "metadata": {},
   "outputs": [
    {
     "data": {
      "text/html": [
       "<div>\n",
       "<style scoped>\n",
       "    .dataframe tbody tr th:only-of-type {\n",
       "        vertical-align: middle;\n",
       "    }\n",
       "\n",
       "    .dataframe tbody tr th {\n",
       "        vertical-align: top;\n",
       "    }\n",
       "\n",
       "    .dataframe thead th {\n",
       "        text-align: right;\n",
       "    }\n",
       "</style>\n",
       "<table border=\"1\" class=\"dataframe\">\n",
       "  <thead>\n",
       "    <tr style=\"text-align: right;\">\n",
       "      <th></th>\n",
       "      <th>Source</th>\n",
       "      <th>Sample</th>\n",
       "      <th>Drug1</th>\n",
       "      <th>Dose1</th>\n",
       "      <th>Drug2</th>\n",
       "      <th>Dose2</th>\n",
       "      <th>Growth</th>\n",
       "      <th>Study</th>\n",
       "    </tr>\n",
       "  </thead>\n",
       "  <tbody>\n",
       "    <tr>\n",
       "      <th>0</th>\n",
       "      <td>CCLE</td>\n",
       "      <td>CCLE.1321N1</td>\n",
       "      <td>CCLE.1</td>\n",
       "      <td>8.60206</td>\n",
       "      <td>NaN</td>\n",
       "      <td>NaN</td>\n",
       "      <td>1.1734</td>\n",
       "      <td>fake_exp</td>\n",
       "    </tr>\n",
       "    <tr>\n",
       "      <th>1</th>\n",
       "      <td>CCLE</td>\n",
       "      <td>CCLE.1321N1</td>\n",
       "      <td>CCLE.1</td>\n",
       "      <td>8.09691</td>\n",
       "      <td>NaN</td>\n",
       "      <td>NaN</td>\n",
       "      <td>1.2200</td>\n",
       "      <td>fake_exp</td>\n",
       "    </tr>\n",
       "  </tbody>\n",
       "</table>\n",
       "</div>"
      ],
      "text/plain": [
       "  Source       Sample   Drug1    Dose1 Drug2  Dose2  Growth     Study\n",
       "0   CCLE  CCLE.1321N1  CCLE.1  8.60206   NaN    NaN  1.1734  fake_exp\n",
       "1   CCLE  CCLE.1321N1  CCLE.1  8.09691   NaN    NaN  1.2200  fake_exp"
      ]
     },
     "metadata": {},
     "output_type": "display_data"
    }
   ],
   "source": [
    "display(df_response[:2])"
   ]
  },
  {
   "cell_type": "code",
   "execution_count": 50,
   "metadata": {},
   "outputs": [
    {
     "name": "stdout",
     "output_type": "stream",
     "text": [
      "Limiting drugs to those with response min <= 1, max >= -1, span >= 0, median_min <= -1, median_max >= 1\n"
     ]
    }
   ],
   "source": [
    "print(f'Limiting drugs to those with response min <= {drug_lower_response}, max >= {drug_upper_response}, span >= {drug_response_span}, median_min <= {drug_median_response_min}, median_max >= {drug_median_response_max}')"
   ]
  },
  {
   "cell_type": "code",
   "execution_count": 51,
   "metadata": {},
   "outputs": [],
   "source": [
    "lower = drug_lower_response\n",
    "upper = drug_upper_response\n",
    "span  = drug_response_span\n",
    "lower_median = drug_median_response_min\n",
    "upper_median = drug_median_response_max"
   ]
  },
  {
   "cell_type": "code",
   "execution_count": 52,
   "metadata": {},
   "outputs": [
    {
     "data": {
      "text/html": [
       "<div>\n",
       "<style scoped>\n",
       "    .dataframe tbody tr th:only-of-type {\n",
       "        vertical-align: middle;\n",
       "    }\n",
       "\n",
       "    .dataframe tbody tr th {\n",
       "        vertical-align: top;\n",
       "    }\n",
       "\n",
       "    .dataframe thead th {\n",
       "        text-align: right;\n",
       "    }\n",
       "</style>\n",
       "<table border=\"1\" class=\"dataframe\">\n",
       "  <thead>\n",
       "    <tr style=\"text-align: right;\">\n",
       "      <th></th>\n",
       "      <th></th>\n",
       "      <th>min</th>\n",
       "      <th>max</th>\n",
       "      <th>median</th>\n",
       "    </tr>\n",
       "    <tr>\n",
       "      <th>Drug1</th>\n",
       "      <th>Sample</th>\n",
       "      <th></th>\n",
       "      <th></th>\n",
       "      <th></th>\n",
       "    </tr>\n",
       "  </thead>\n",
       "  <tbody>\n",
       "    <tr>\n",
       "      <th rowspan=\"3\" valign=\"top\">CCLE.1</th>\n",
       "      <th>CCLE.1321N1</th>\n",
       "      <td>0.14</td>\n",
       "      <td>1.220</td>\n",
       "      <td>0.9027</td>\n",
       "    </tr>\n",
       "    <tr>\n",
       "      <th>CCLE.22RV1</th>\n",
       "      <td>-0.42</td>\n",
       "      <td>1.250</td>\n",
       "      <td>0.6100</td>\n",
       "    </tr>\n",
       "    <tr>\n",
       "      <th>CCLE.42MGBA</th>\n",
       "      <td>-0.26</td>\n",
       "      <td>1.248</td>\n",
       "      <td>0.9595</td>\n",
       "    </tr>\n",
       "  </tbody>\n",
       "</table>\n",
       "</div>"
      ],
      "text/plain": [
       "                     min    max  median\n",
       "Drug1  Sample                          \n",
       "CCLE.1 CCLE.1321N1  0.14  1.220  0.9027\n",
       "       CCLE.22RV1  -0.42  1.250  0.6100\n",
       "       CCLE.42MGBA -0.26  1.248  0.9595"
      ]
     },
     "execution_count": 52,
     "metadata": {},
     "output_type": "execute_result"
    }
   ],
   "source": [
    "df = df_response.groupby(['Drug1', 'Sample'])['Growth'].agg(['min', 'max', 'median'])\n",
    "# tmp = df_response.groupby(['Drug1', 'Sample']).agg({'Growth': ['min', 'max', 'median']})  # (ap) (almost) the same result\n",
    "df[:3]"
   ]
  },
  {
   "cell_type": "code",
   "execution_count": 53,
   "metadata": {},
   "outputs": [
    {
     "data": {
      "text/html": [
       "<div>\n",
       "<style scoped>\n",
       "    .dataframe tbody tr th:only-of-type {\n",
       "        vertical-align: middle;\n",
       "    }\n",
       "\n",
       "    .dataframe tbody tr th {\n",
       "        vertical-align: top;\n",
       "    }\n",
       "\n",
       "    .dataframe thead th {\n",
       "        text-align: right;\n",
       "    }\n",
       "</style>\n",
       "<table border=\"1\" class=\"dataframe\">\n",
       "  <thead>\n",
       "    <tr style=\"text-align: right;\">\n",
       "      <th></th>\n",
       "      <th></th>\n",
       "      <th>min</th>\n",
       "      <th>max</th>\n",
       "      <th>median</th>\n",
       "      <th>span</th>\n",
       "    </tr>\n",
       "    <tr>\n",
       "      <th>Drug1</th>\n",
       "      <th>Sample</th>\n",
       "      <th></th>\n",
       "      <th></th>\n",
       "      <th></th>\n",
       "      <th></th>\n",
       "    </tr>\n",
       "  </thead>\n",
       "  <tbody>\n",
       "    <tr>\n",
       "      <th rowspan=\"3\" valign=\"top\">CCLE.1</th>\n",
       "      <th>CCLE.1321N1</th>\n",
       "      <td>0.14</td>\n",
       "      <td>1.220</td>\n",
       "      <td>0.9027</td>\n",
       "      <td>0.86</td>\n",
       "    </tr>\n",
       "    <tr>\n",
       "      <th>CCLE.22RV1</th>\n",
       "      <td>-0.42</td>\n",
       "      <td>1.250</td>\n",
       "      <td>0.6100</td>\n",
       "      <td>1.42</td>\n",
       "    </tr>\n",
       "    <tr>\n",
       "      <th>CCLE.42MGBA</th>\n",
       "      <td>-0.26</td>\n",
       "      <td>1.248</td>\n",
       "      <td>0.9595</td>\n",
       "      <td>1.26</td>\n",
       "    </tr>\n",
       "  </tbody>\n",
       "</table>\n",
       "</div>"
      ],
      "text/plain": [
       "                     min    max  median  span\n",
       "Drug1  Sample                                \n",
       "CCLE.1 CCLE.1321N1  0.14  1.220  0.9027  0.86\n",
       "       CCLE.22RV1  -0.42  1.250  0.6100  1.42\n",
       "       CCLE.42MGBA -0.26  1.248  0.9595  1.26"
      ]
     },
     "execution_count": 53,
     "metadata": {},
     "output_type": "execute_result"
    }
   ],
   "source": [
    "# When compute span, ignore growth outside the range [-1, 1]. E.g., round_to_one(1.22) - round_to_zero(0.14) = 0.86\n",
    "df['span'] = df['max'].clip(lower=-1, upper=1) - df['min'].clip(lower=-1, upper=1)\n",
    "df[:3]"
   ]
  },
  {
   "cell_type": "code",
   "execution_count": 54,
   "metadata": {},
   "outputs": [
    {
     "data": {
      "text/html": [
       "<div>\n",
       "<style scoped>\n",
       "    .dataframe tbody tr th:only-of-type {\n",
       "        vertical-align: middle;\n",
       "    }\n",
       "\n",
       "    .dataframe tbody tr th {\n",
       "        vertical-align: top;\n",
       "    }\n",
       "\n",
       "    .dataframe thead th {\n",
       "        text-align: right;\n",
       "    }\n",
       "</style>\n",
       "<table border=\"1\" class=\"dataframe\">\n",
       "  <thead>\n",
       "    <tr style=\"text-align: right;\">\n",
       "      <th></th>\n",
       "      <th>Drug</th>\n",
       "      <th>min</th>\n",
       "      <th>max</th>\n",
       "      <th>median</th>\n",
       "      <th>span</th>\n",
       "    </tr>\n",
       "  </thead>\n",
       "  <tbody>\n",
       "    <tr>\n",
       "      <th>0</th>\n",
       "      <td>CCLE.1</td>\n",
       "      <td>-0.090962</td>\n",
       "      <td>1.280473</td>\n",
       "      <td>0.899474</td>\n",
       "      <td>1.089913</td>\n",
       "    </tr>\n",
       "    <tr>\n",
       "      <th>1</th>\n",
       "      <td>CCLE.10</td>\n",
       "      <td>0.076899</td>\n",
       "      <td>1.107306</td>\n",
       "      <td>0.784485</td>\n",
       "      <td>0.892617</td>\n",
       "    </tr>\n",
       "    <tr>\n",
       "      <th>2</th>\n",
       "      <td>CCLE.11</td>\n",
       "      <td>-0.939960</td>\n",
       "      <td>1.162450</td>\n",
       "      <td>-0.423682</td>\n",
       "      <td>1.904465</td>\n",
       "    </tr>\n",
       "  </tbody>\n",
       "</table>\n",
       "</div>"
      ],
      "text/plain": [
       "      Drug       min       max    median      span\n",
       "0   CCLE.1 -0.090962  1.280473  0.899474  1.089913\n",
       "1  CCLE.10  0.076899  1.107306  0.784485  0.892617\n",
       "2  CCLE.11 -0.939960  1.162450 -0.423682  1.904465"
      ]
     },
     "execution_count": 54,
     "metadata": {},
     "output_type": "execute_result"
    }
   ],
   "source": [
    "# For every drug, compute the mean across samples for 'min', 'max', 'median', 'span' of growth\n",
    "df = df.groupby('Drug1').mean().reset_index().rename(columns={'Drug1': 'Drug'})\n",
    "df[:3]"
   ]
  },
  {
   "cell_type": "code",
   "execution_count": 55,
   "metadata": {},
   "outputs": [
    {
     "data": {
      "text/plain": [
       "0    True\n",
       "1    True\n",
       "2    True\n",
       "dtype: bool"
      ]
     },
     "execution_count": 55,
     "metadata": {},
     "output_type": "execute_result"
    }
   ],
   "source": [
    "mask = (df['min'] <= lower) & (df['max'] >= upper) & (df['span'] >= span)\n",
    "mask[:3]"
   ]
  },
  {
   "cell_type": "code",
   "execution_count": 56,
   "metadata": {},
   "outputs": [],
   "source": [
    "if lower_median:\n",
    "    mask &= (df['median'] >= lower_median)\n",
    "if upper_median:\n",
    "    mask &= (df['median'] <= upper_median)\n",
    "df_sub = df[mask]"
   ]
  },
  {
   "cell_type": "code",
   "execution_count": 57,
   "metadata": {},
   "outputs": [
    {
     "name": "stdout",
     "output_type": "stream",
     "text": [
      "(47005, 5)\n",
      "['Drug', 'min', 'max', 'median', 'span']\n"
     ]
    }
   ],
   "source": [
    "df_selected_drugs = df_sub.copy()\n",
    "print(df_selected_drugs.shape)\n",
    "print(df_selected_drugs.columns.tolist())\n",
    "del df_sub, df"
   ]
  },
  {
   "cell_type": "code",
   "execution_count": 58,
   "metadata": {},
   "outputs": [
    {
     "name": "stdout",
     "output_type": "stream",
     "text": [
      "Selected 47005 drugs from 53520\n"
     ]
    }
   ],
   "source": [
    "print('Selected {} drugs from {}'.format(df_selected_drugs.shape[0], df_response['Drug1'].nunique()))"
   ]
  },
  {
   "cell_type": "code",
   "execution_count": 59,
   "metadata": {},
   "outputs": [],
   "source": [
    "# (ap) extract selected drugs for CCLE\n",
    "# df_selected_drugs[df_selected_drugs['Drug'].map(lambda s: True if 'CCLE' in s.split('.')[0] else False)]"
   ]
  },
  {
   "cell_type": "code",
   "execution_count": null,
   "metadata": {},
   "outputs": [],
   "source": []
  },
  {
   "cell_type": "markdown",
   "metadata": {},
   "source": [
    "# Extract cell features\n",
    "#### load_cell_rnaseq()"
   ]
  },
  {
   "cell_type": "code",
   "execution_count": 60,
   "metadata": {},
   "outputs": [],
   "source": [
    "scaling = 'std'\n",
    "imputing = 'mean'"
   ]
  },
  {
   "cell_type": "code",
   "execution_count": 61,
   "metadata": {},
   "outputs": [
    {
     "name": "stdout",
     "output_type": "stream",
     "text": [
      "(15196, 943)\n"
     ]
    }
   ],
   "source": [
    "# Load the data\n",
    "path = os.path.join(DATADIR, expression_data)\n",
    "df_cols = pd.read_table(path, engine='c', nrows=0)\n",
    "total = df_cols.shape[1] - 1  # remove Sample column\n",
    "if 'Cancer_type_id' in df_cols.columns:\n",
    "    total -= 1\n",
    "usecols = None\n",
    "\n",
    "dtype_dict = dict((x, np.float32) for x in df_cols.columns[1:])\n",
    "df = pd.read_table(path, engine='c', usecols=usecols, dtype=dtype_dict)\n",
    "print(df.shape)"
   ]
  },
  {
   "cell_type": "code",
   "execution_count": 62,
   "metadata": {},
   "outputs": [
    {
     "data": {
      "text/html": [
       "<div>\n",
       "<style scoped>\n",
       "    .dataframe tbody tr th:only-of-type {\n",
       "        vertical-align: middle;\n",
       "    }\n",
       "\n",
       "    .dataframe tbody tr th {\n",
       "        vertical-align: top;\n",
       "    }\n",
       "\n",
       "    .dataframe thead th {\n",
       "        text-align: right;\n",
       "    }\n",
       "</style>\n",
       "<table border=\"1\" class=\"dataframe\">\n",
       "  <thead>\n",
       "    <tr style=\"text-align: right;\">\n",
       "      <th></th>\n",
       "      <th>Source</th>\n",
       "      <th>rnaseq.source.CCLE</th>\n",
       "      <th>rnaseq.source.CTRP</th>\n",
       "      <th>rnaseq.source.GDC</th>\n",
       "      <th>rnaseq.source.GDSC</th>\n",
       "      <th>rnaseq.source.NCI60</th>\n",
       "      <th>rnaseq.source.NCIPDM</th>\n",
       "      <th>rnaseq.source.gCSI</th>\n",
       "    </tr>\n",
       "  </thead>\n",
       "  <tbody>\n",
       "    <tr>\n",
       "      <th>0</th>\n",
       "      <td>CCLE</td>\n",
       "      <td>1</td>\n",
       "      <td>0</td>\n",
       "      <td>0</td>\n",
       "      <td>0</td>\n",
       "      <td>0</td>\n",
       "      <td>0</td>\n",
       "      <td>0</td>\n",
       "    </tr>\n",
       "    <tr>\n",
       "      <th>1</th>\n",
       "      <td>CTRP</td>\n",
       "      <td>0</td>\n",
       "      <td>1</td>\n",
       "      <td>0</td>\n",
       "      <td>0</td>\n",
       "      <td>0</td>\n",
       "      <td>0</td>\n",
       "      <td>0</td>\n",
       "    </tr>\n",
       "    <tr>\n",
       "      <th>2</th>\n",
       "      <td>GDC</td>\n",
       "      <td>0</td>\n",
       "      <td>0</td>\n",
       "      <td>1</td>\n",
       "      <td>0</td>\n",
       "      <td>0</td>\n",
       "      <td>0</td>\n",
       "      <td>0</td>\n",
       "    </tr>\n",
       "    <tr>\n",
       "      <th>3</th>\n",
       "      <td>GDSC</td>\n",
       "      <td>0</td>\n",
       "      <td>0</td>\n",
       "      <td>0</td>\n",
       "      <td>1</td>\n",
       "      <td>0</td>\n",
       "      <td>0</td>\n",
       "      <td>0</td>\n",
       "    </tr>\n",
       "    <tr>\n",
       "      <th>4</th>\n",
       "      <td>NCI60</td>\n",
       "      <td>0</td>\n",
       "      <td>0</td>\n",
       "      <td>0</td>\n",
       "      <td>0</td>\n",
       "      <td>1</td>\n",
       "      <td>0</td>\n",
       "      <td>0</td>\n",
       "    </tr>\n",
       "    <tr>\n",
       "      <th>5</th>\n",
       "      <td>NCIPDM</td>\n",
       "      <td>0</td>\n",
       "      <td>0</td>\n",
       "      <td>0</td>\n",
       "      <td>0</td>\n",
       "      <td>0</td>\n",
       "      <td>1</td>\n",
       "      <td>0</td>\n",
       "    </tr>\n",
       "    <tr>\n",
       "      <th>6</th>\n",
       "      <td>gCSI</td>\n",
       "      <td>0</td>\n",
       "      <td>0</td>\n",
       "      <td>0</td>\n",
       "      <td>0</td>\n",
       "      <td>0</td>\n",
       "      <td>0</td>\n",
       "      <td>1</td>\n",
       "    </tr>\n",
       "  </tbody>\n",
       "</table>\n",
       "</div>"
      ],
      "text/plain": [
       "   Source  rnaseq.source.CCLE  rnaseq.source.CTRP  rnaseq.source.GDC  \\\n",
       "0    CCLE                   1                   0                  0   \n",
       "1    CTRP                   0                   1                  0   \n",
       "2     GDC                   0                   0                  1   \n",
       "3    GDSC                   0                   0                  0   \n",
       "4   NCI60                   0                   0                  0   \n",
       "5  NCIPDM                   0                   0                  0   \n",
       "6    gCSI                   0                   0                  0   \n",
       "\n",
       "   rnaseq.source.GDSC  rnaseq.source.NCI60  rnaseq.source.NCIPDM  \\\n",
       "0                   0                    0                     0   \n",
       "1                   0                    0                     0   \n",
       "2                   0                    0                     0   \n",
       "3                   1                    0                     0   \n",
       "4                   0                    1                     0   \n",
       "5                   0                    0                     1   \n",
       "6                   0                    0                     0   \n",
       "\n",
       "   rnaseq.source.gCSI  \n",
       "0                   0  \n",
       "1                   0  \n",
       "2                   0  \n",
       "3                   0  \n",
       "4                   0  \n",
       "5                   0  \n",
       "6                   1  "
      ]
     },
     "execution_count": 62,
     "metadata": {},
     "output_type": "execute_result"
    }
   ],
   "source": [
    "# Embedding data source into features by onehot\n",
    "# THE IDEA IS TO USE THIS AS REGULARIZER FOR BATCH EFFECT!!(??)\n",
    "prefixes = df['Sample'].str.extract('^([^.]*)', expand=False).rename('Source')\n",
    "sources = prefixes.drop_duplicates().reset_index(drop=True)\n",
    "df_source = pd.get_dummies(sources, prefix='rnaseq.source', prefix_sep='.')\n",
    "df_source = pd.concat([sources, df_source], axis=1)\n",
    "df_source"
   ]
  },
  {
   "cell_type": "code",
   "execution_count": 63,
   "metadata": {},
   "outputs": [
    {
     "name": "stdout",
     "output_type": "stream",
     "text": [
      "Embedding RNAseq data source into features: 7 additional columns\n"
     ]
    },
    {
     "data": {
      "text/html": [
       "<div>\n",
       "<style scoped>\n",
       "    .dataframe tbody tr th:only-of-type {\n",
       "        vertical-align: middle;\n",
       "    }\n",
       "\n",
       "    .dataframe tbody tr th {\n",
       "        vertical-align: top;\n",
       "    }\n",
       "\n",
       "    .dataframe thead th {\n",
       "        text-align: right;\n",
       "    }\n",
       "</style>\n",
       "<table border=\"1\" class=\"dataframe\">\n",
       "  <thead>\n",
       "    <tr style=\"text-align: right;\">\n",
       "      <th></th>\n",
       "      <th>Sample</th>\n",
       "      <th>rnaseq.source.CCLE</th>\n",
       "      <th>rnaseq.source.CTRP</th>\n",
       "      <th>rnaseq.source.GDC</th>\n",
       "      <th>rnaseq.source.GDSC</th>\n",
       "      <th>rnaseq.source.NCI60</th>\n",
       "      <th>rnaseq.source.NCIPDM</th>\n",
       "      <th>rnaseq.source.gCSI</th>\n",
       "    </tr>\n",
       "  </thead>\n",
       "  <tbody>\n",
       "    <tr>\n",
       "      <th>0</th>\n",
       "      <td>CCLE.22RV1</td>\n",
       "      <td>1</td>\n",
       "      <td>0</td>\n",
       "      <td>0</td>\n",
       "      <td>0</td>\n",
       "      <td>0</td>\n",
       "      <td>0</td>\n",
       "      <td>0</td>\n",
       "    </tr>\n",
       "    <tr>\n",
       "      <th>1</th>\n",
       "      <td>CCLE.2313287</td>\n",
       "      <td>1</td>\n",
       "      <td>0</td>\n",
       "      <td>0</td>\n",
       "      <td>0</td>\n",
       "      <td>0</td>\n",
       "      <td>0</td>\n",
       "      <td>0</td>\n",
       "    </tr>\n",
       "  </tbody>\n",
       "</table>\n",
       "</div>"
      ],
      "text/plain": [
       "         Sample  rnaseq.source.CCLE  rnaseq.source.CTRP  rnaseq.source.GDC  \\\n",
       "0    CCLE.22RV1                   1                   0                  0   \n",
       "1  CCLE.2313287                   1                   0                  0   \n",
       "\n",
       "   rnaseq.source.GDSC  rnaseq.source.NCI60  rnaseq.source.NCIPDM  \\\n",
       "0                   0                    0                     0   \n",
       "1                   0                    0                     0   \n",
       "\n",
       "   rnaseq.source.gCSI  \n",
       "0                   0  \n",
       "1                   0  "
      ]
     },
     "execution_count": 63,
     "metadata": {},
     "output_type": "execute_result"
    }
   ],
   "source": [
    "# Merge 'Sample' and one-hot encoded Source\n",
    "df1 = df['Sample']\n",
    "df_sample_source = pd.concat([df1, prefixes], axis=1)\n",
    "df1 = df_sample_source.merge(df_source, on='Source', how='left').drop('Source', axis=1)\n",
    "print(f'Embedding RNAseq data source into features: {df1.shape[1]-1} additional columns')\n",
    "df1[:2]"
   ]
  },
  {
   "cell_type": "code",
   "execution_count": 64,
   "metadata": {},
   "outputs": [],
   "source": [
    "# df with gene features only\n",
    "df2 = df.drop('Sample', 1)\n",
    "df2 = df2.add_prefix('rnaseq.')\n",
    "df2 = utils.impute_and_scale(df2, scaling, imputing)"
   ]
  },
  {
   "cell_type": "code",
   "execution_count": 65,
   "metadata": {},
   "outputs": [
    {
     "name": "stdout",
     "output_type": "stream",
     "text": [
      "Loaded combined RNAseq data:  (15196, 950)\n"
     ]
    }
   ],
   "source": [
    "df = pd.concat([df1, df2], axis=1)\n",
    "print('Loaded combined RNAseq data: ', df.shape)"
   ]
  },
  {
   "cell_type": "code",
   "execution_count": 66,
   "metadata": {},
   "outputs": [
    {
     "name": "stdout",
     "output_type": "stream",
     "text": [
      "(15196, 950)\n",
      "['Sample', 'rnaseq.source.CCLE', 'rnaseq.source.CTRP', 'rnaseq.source.GDC', 'rnaseq.source.GDSC', 'rnaseq.source.NCI60', 'rnaseq.source.NCIPDM', 'rnaseq.source.gCSI', 'rnaseq.AARS']\n"
     ]
    }
   ],
   "source": [
    "df_cell_rnaseq = df.copy()\n",
    "print(df_cell_rnaseq.shape)\n",
    "print(df_cell_rnaseq.columns.tolist()[:9])\n",
    "del df, df1, df2"
   ]
  },
  {
   "cell_type": "code",
   "execution_count": null,
   "metadata": {},
   "outputs": [],
   "source": []
  },
  {
   "cell_type": "markdown",
   "metadata": {},
   "source": [
    "# Extract drug descriptors\n",
    "#### load_drug_descriptors()"
   ]
  },
  {
   "cell_type": "code",
   "execution_count": null,
   "metadata": {},
   "outputs": [],
   "source": [
    "# load_drug_info()\n",
    "path = os.path.join(DATADIR, 'drug_info')\n",
    "df = pd.read_table(path, dtype=object)\n",
    "df['PUBCHEM'] = 'PubChem.CID.' + df['PUBCHEM']\n",
    "df_info = df.copy()\n",
    "\n",
    "df_info['Drug'] = df_info['PUBCHEM']\n",
    "print(df_info.shape)\n",
    "df_info[:2]"
   ]
  },
  {
   "cell_type": "markdown",
   "metadata": {},
   "source": [
    "**How come we have now only 846 unique drugs?? (we had a lot more before)**"
   ]
  },
  {
   "cell_type": "code",
   "execution_count": 68,
   "metadata": {},
   "outputs": [
    {
     "data": {
      "text/plain": [
       "ID            846\n",
       "NAME          736\n",
       "CLEAN_NAME    729\n",
       "SMILES        402\n",
       "INCHIKEY      299\n",
       "PUBCHEM       516\n",
       "Drug          516\n",
       "dtype: int64"
      ]
     },
     "execution_count": 68,
     "metadata": {},
     "output_type": "execute_result"
    }
   ],
   "source": [
    "df_info.nunique()"
   ]
  },
  {
   "cell_type": "code",
   "execution_count": 69,
   "metadata": {},
   "outputs": [
    {
     "data": {
      "text/plain": [
       "CTRP    544\n",
       "GDSC    262\n",
       "CCLE     24\n",
       "gCSI     16\n",
       "Name: ID, dtype: int64"
      ]
     },
     "execution_count": 69,
     "metadata": {},
     "output_type": "execute_result"
    }
   ],
   "source": [
    "df_info['ID'].map(lambda s: s.split('.')[0]).value_counts()  # (ap)"
   ]
  },
  {
   "cell_type": "code",
   "execution_count": 70,
   "metadata": {},
   "outputs": [
    {
     "data": {
      "text/html": [
       "<div>\n",
       "<style scoped>\n",
       "    .dataframe tbody tr th:only-of-type {\n",
       "        vertical-align: middle;\n",
       "    }\n",
       "\n",
       "    .dataframe tbody tr th {\n",
       "        vertical-align: top;\n",
       "    }\n",
       "\n",
       "    .dataframe thead th {\n",
       "        text-align: right;\n",
       "    }\n",
       "</style>\n",
       "<table border=\"1\" class=\"dataframe\">\n",
       "  <thead>\n",
       "    <tr style=\"text-align: right;\">\n",
       "      <th></th>\n",
       "      <th>SOURCE</th>\n",
       "      <th>CLEAN_NAME</th>\n",
       "    </tr>\n",
       "  </thead>\n",
       "  <tbody>\n",
       "    <tr>\n",
       "      <th>0</th>\n",
       "      <td>CCLE</td>\n",
       "      <td>[AEW541, ZD6474, PANOBINOSTAT, SORAFENIB, IRIN...</td>\n",
       "    </tr>\n",
       "    <tr>\n",
       "      <th>1</th>\n",
       "      <td>CTRP</td>\n",
       "      <td>[16BETABROMOANDROSTERONE, ABT263, BRDK45681478...</td>\n",
       "    </tr>\n",
       "    <tr>\n",
       "      <th>2</th>\n",
       "      <td>GDSC</td>\n",
       "      <td>[ERLOTINIB, AICARIBONUCLEOTIDE, CAMPTOTHECIN, ...</td>\n",
       "    </tr>\n",
       "    <tr>\n",
       "      <th>3</th>\n",
       "      <td>gCSI</td>\n",
       "      <td>[BID1870, LAPATINIB, MS275, PD0325901, PACLITA...</td>\n",
       "    </tr>\n",
       "  </tbody>\n",
       "</table>\n",
       "</div>"
      ],
      "text/plain": [
       "  SOURCE                                         CLEAN_NAME\n",
       "0   CCLE  [AEW541, ZD6474, PANOBINOSTAT, SORAFENIB, IRIN...\n",
       "1   CTRP  [16BETABROMOANDROSTERONE, ABT263, BRDK45681478...\n",
       "2   GDSC  [ERLOTINIB, AICARIBONUCLEOTIDE, CAMPTOTHECIN, ...\n",
       "3   gCSI  [BID1870, LAPATINIB, MS275, PD0325901, PACLITA..."
      ]
     },
     "execution_count": 70,
     "metadata": {},
     "output_type": "execute_result"
    }
   ],
   "source": [
    "# (df_info['CLEAN_NAME']=='AEW541').sum()\n",
    "# df_info['CLEAN_NAME'].nunique()\n",
    "tmp = df_info.copy()\n",
    "tmp['SOURCE'] = df_info['ID'].map(lambda s: s.split('.')[0])\n",
    "tmp.groupby(['SOURCE']).agg({'CLEAN_NAME': 'unique'}).reset_index()"
   ]
  },
  {
   "cell_type": "markdown",
   "metadata": {},
   "source": [
    "### load_drug_set_descriptors( drug_set = 'Combined_PubChem' )"
   ]
  },
  {
   "cell_type": "code",
   "execution_count": 71,
   "metadata": {},
   "outputs": [
    {
     "name": "stdout",
     "output_type": "stream",
     "text": [
      "(517, 5271)\n"
     ]
    },
    {
     "data": {
      "text/html": [
       "<div>\n",
       "<style scoped>\n",
       "    .dataframe tbody tr th:only-of-type {\n",
       "        vertical-align: middle;\n",
       "    }\n",
       "\n",
       "    .dataframe tbody tr th {\n",
       "        vertical-align: top;\n",
       "    }\n",
       "\n",
       "    .dataframe thead th {\n",
       "        text-align: right;\n",
       "    }\n",
       "</style>\n",
       "<table border=\"1\" class=\"dataframe\">\n",
       "  <thead>\n",
       "    <tr style=\"text-align: right;\">\n",
       "      <th></th>\n",
       "      <th>NAME</th>\n",
       "      <th>MW</th>\n",
       "      <th>AMW</th>\n",
       "      <th>Sv</th>\n",
       "      <th>Se</th>\n",
       "      <th>Sp</th>\n",
       "      <th>Si</th>\n",
       "      <th>Mv</th>\n",
       "      <th>Me</th>\n",
       "      <th>Mp</th>\n",
       "    </tr>\n",
       "  </thead>\n",
       "  <tbody>\n",
       "    <tr>\n",
       "      <th>0</th>\n",
       "      <td>PubChem.CID.10026128</td>\n",
       "      <td>438.51001</td>\n",
       "      <td>7.831</td>\n",
       "      <td>36.275002</td>\n",
       "      <td>56.813999</td>\n",
       "      <td>37.387001</td>\n",
       "      <td>63.286999</td>\n",
       "      <td>0.648</td>\n",
       "      <td>1.015</td>\n",
       "      <td>0.668</td>\n",
       "    </tr>\n",
       "    <tr>\n",
       "      <th>1</th>\n",
       "      <td>PubChem.CID.10027278</td>\n",
       "      <td>460.48999</td>\n",
       "      <td>8.688</td>\n",
       "      <td>36.691002</td>\n",
       "      <td>54.224998</td>\n",
       "      <td>37.141998</td>\n",
       "      <td>59.958000</td>\n",
       "      <td>0.692</td>\n",
       "      <td>1.023</td>\n",
       "      <td>0.701</td>\n",
       "    </tr>\n",
       "  </tbody>\n",
       "</table>\n",
       "</div>"
      ],
      "text/plain": [
       "                   NAME         MW    AMW         Sv         Se         Sp  \\\n",
       "0  PubChem.CID.10026128  438.51001  7.831  36.275002  56.813999  37.387001   \n",
       "1  PubChem.CID.10027278  460.48999  8.688  36.691002  54.224998  37.141998   \n",
       "\n",
       "          Si     Mv     Me     Mp  \n",
       "0  63.286999  0.648  1.015  0.668  \n",
       "1  59.958000  0.692  1.023  0.701  "
      ]
     },
     "execution_count": 71,
     "metadata": {},
     "output_type": "execute_result"
    }
   ],
   "source": [
    "path = os.path.join(DATADIR, 'Combined_PubChem_dragon7_descriptors.tsv')\n",
    "df_cols = pd.read_table(path, engine='c', nrows=0)\n",
    "total = df_cols.shape[1] - 1\n",
    "\n",
    "dtype_dict = dict((x, np.float32) for x in df_cols.columns[1:])\n",
    "df = pd.read_table(path, engine='c', usecols=usecols, dtype=dtype_dict, na_values=['na', '-', ''])\n",
    "\n",
    "print(df.shape)\n",
    "df.iloc[:2, :10]"
   ]
  },
  {
   "cell_type": "code",
   "execution_count": 72,
   "metadata": {},
   "outputs": [],
   "source": [
    "# Extract drug features (descriptors and fingerprints) into df2\n",
    "df1 = pd.DataFrame(df.loc[:, 'NAME'])\n",
    "df1.rename(columns={'NAME': 'Drug'}, inplace=True)\n",
    "df2 = df.drop('NAME', 1)\n",
    "df2 = utils.impute_and_scale(df2, scaling=None, imputing=None, dropna=None)"
   ]
  },
  {
   "cell_type": "code",
   "execution_count": 73,
   "metadata": {},
   "outputs": [
    {
     "name": "stdout",
     "output_type": "stream",
     "text": [
      "(517, 5271)\n"
     ]
    }
   ],
   "source": [
    "df = pd.concat([df1, df2], axis=1)\n",
    "df_desc = df.copy()\n",
    "del df, df1, df2\n",
    "print(df_desc.shape)"
   ]
  },
  {
   "cell_type": "markdown",
   "metadata": {},
   "source": [
    "Now merge `df_info` and `df_desc`"
   ]
  },
  {
   "cell_type": "code",
   "execution_count": 74,
   "metadata": {},
   "outputs": [
    {
     "name": "stdout",
     "output_type": "stream",
     "text": [
      "df_info (846, 7)\n",
      "df_desc (517, 5271)\n"
     ]
    }
   ],
   "source": [
    "print('df_info', df_info.shape)\n",
    "print('df_desc', df_desc.shape)"
   ]
  },
  {
   "cell_type": "code",
   "execution_count": 75,
   "metadata": {},
   "outputs": [
    {
     "data": {
      "text/html": [
       "<div>\n",
       "<style scoped>\n",
       "    .dataframe tbody tr th:only-of-type {\n",
       "        vertical-align: middle;\n",
       "    }\n",
       "\n",
       "    .dataframe tbody tr th {\n",
       "        vertical-align: top;\n",
       "    }\n",
       "\n",
       "    .dataframe thead th {\n",
       "        text-align: right;\n",
       "    }\n",
       "</style>\n",
       "<table border=\"1\" class=\"dataframe\">\n",
       "  <thead>\n",
       "    <tr style=\"text-align: right;\">\n",
       "      <th></th>\n",
       "      <th>ID</th>\n",
       "      <th>NAME</th>\n",
       "      <th>CLEAN_NAME</th>\n",
       "      <th>SMILES</th>\n",
       "      <th>INCHIKEY</th>\n",
       "      <th>PUBCHEM</th>\n",
       "      <th>Drug</th>\n",
       "    </tr>\n",
       "  </thead>\n",
       "  <tbody>\n",
       "    <tr>\n",
       "      <th>0</th>\n",
       "      <td>CCLE.1</td>\n",
       "      <td>AEW541</td>\n",
       "      <td>AEW541</td>\n",
       "      <td>C1CN(C1)CC2CC(C2)N3C=C(C4=C3N=CN=C4N)C5=CC(=CC...</td>\n",
       "      <td>AECDBHGVIIRMOI-UHFFFAOYSA-N</td>\n",
       "      <td>PubChem.CID.11476171</td>\n",
       "      <td>PubChem.CID.11476171</td>\n",
       "    </tr>\n",
       "    <tr>\n",
       "      <th>1</th>\n",
       "      <td>CCLE.10</td>\n",
       "      <td>ZD-6474</td>\n",
       "      <td>ZD6474</td>\n",
       "      <td>CN1CCC(CC1)COC2=C(C=C3C(=C2)N=CN=C3NC4=C(C=C(C...</td>\n",
       "      <td>UHTHHESEBZOYNR-UHFFFAOYSA-N</td>\n",
       "      <td>PubChem.CID.3081361</td>\n",
       "      <td>PubChem.CID.3081361</td>\n",
       "    </tr>\n",
       "  </tbody>\n",
       "</table>\n",
       "</div>"
      ],
      "text/plain": [
       "        ID     NAME CLEAN_NAME  \\\n",
       "0   CCLE.1   AEW541     AEW541   \n",
       "1  CCLE.10  ZD-6474     ZD6474   \n",
       "\n",
       "                                              SMILES  \\\n",
       "0  C1CN(C1)CC2CC(C2)N3C=C(C4=C3N=CN=C4N)C5=CC(=CC...   \n",
       "1  CN1CCC(CC1)COC2=C(C=C3C(=C2)N=CN=C3NC4=C(C=C(C...   \n",
       "\n",
       "                      INCHIKEY               PUBCHEM                  Drug  \n",
       "0  AECDBHGVIIRMOI-UHFFFAOYSA-N  PubChem.CID.11476171  PubChem.CID.11476171  \n",
       "1  UHTHHESEBZOYNR-UHFFFAOYSA-N   PubChem.CID.3081361   PubChem.CID.3081361  "
      ]
     },
     "metadata": {},
     "output_type": "display_data"
    },
    {
     "data": {
      "text/html": [
       "<div>\n",
       "<style scoped>\n",
       "    .dataframe tbody tr th:only-of-type {\n",
       "        vertical-align: middle;\n",
       "    }\n",
       "\n",
       "    .dataframe tbody tr th {\n",
       "        vertical-align: top;\n",
       "    }\n",
       "\n",
       "    .dataframe thead th {\n",
       "        text-align: right;\n",
       "    }\n",
       "</style>\n",
       "<table border=\"1\" class=\"dataframe\">\n",
       "  <thead>\n",
       "    <tr style=\"text-align: right;\">\n",
       "      <th></th>\n",
       "      <th>Drug</th>\n",
       "      <th>MW</th>\n",
       "      <th>AMW</th>\n",
       "      <th>Sv</th>\n",
       "      <th>Se</th>\n",
       "      <th>Sp</th>\n",
       "      <th>Si</th>\n",
       "      <th>Mv</th>\n",
       "      <th>Me</th>\n",
       "      <th>Mp</th>\n",
       "      <th>...</th>\n",
       "      <th>CATS3D_10_LL</th>\n",
       "      <th>CATS3D_11_LL</th>\n",
       "      <th>CATS3D_12_LL</th>\n",
       "      <th>CATS3D_13_LL</th>\n",
       "      <th>CATS3D_14_LL</th>\n",
       "      <th>CATS3D_15_LL</th>\n",
       "      <th>CATS3D_16_LL</th>\n",
       "      <th>CATS3D_17_LL</th>\n",
       "      <th>CATS3D_18_LL</th>\n",
       "      <th>CATS3D_19_LL</th>\n",
       "    </tr>\n",
       "  </thead>\n",
       "  <tbody>\n",
       "    <tr>\n",
       "      <th>0</th>\n",
       "      <td>PubChem.CID.10026128</td>\n",
       "      <td>438.51001</td>\n",
       "      <td>7.831</td>\n",
       "      <td>36.275002</td>\n",
       "      <td>56.813999</td>\n",
       "      <td>37.387001</td>\n",
       "      <td>63.286999</td>\n",
       "      <td>0.648</td>\n",
       "      <td>1.015</td>\n",
       "      <td>0.668</td>\n",
       "      <td>...</td>\n",
       "      <td>0.0</td>\n",
       "      <td>0.0</td>\n",
       "      <td>0.0</td>\n",
       "      <td>0.0</td>\n",
       "      <td>0.0</td>\n",
       "      <td>0.0</td>\n",
       "      <td>0.0</td>\n",
       "      <td>0.0</td>\n",
       "      <td>0.0</td>\n",
       "      <td>0.0</td>\n",
       "    </tr>\n",
       "    <tr>\n",
       "      <th>1</th>\n",
       "      <td>PubChem.CID.10027278</td>\n",
       "      <td>460.48999</td>\n",
       "      <td>8.688</td>\n",
       "      <td>36.691002</td>\n",
       "      <td>54.224998</td>\n",
       "      <td>37.141998</td>\n",
       "      <td>59.958000</td>\n",
       "      <td>0.692</td>\n",
       "      <td>1.023</td>\n",
       "      <td>0.701</td>\n",
       "      <td>...</td>\n",
       "      <td>0.0</td>\n",
       "      <td>0.0</td>\n",
       "      <td>0.0</td>\n",
       "      <td>0.0</td>\n",
       "      <td>0.0</td>\n",
       "      <td>0.0</td>\n",
       "      <td>0.0</td>\n",
       "      <td>0.0</td>\n",
       "      <td>0.0</td>\n",
       "      <td>0.0</td>\n",
       "    </tr>\n",
       "  </tbody>\n",
       "</table>\n",
       "<p>2 rows × 5271 columns</p>\n",
       "</div>"
      ],
      "text/plain": [
       "                   Drug         MW    AMW         Sv         Se         Sp  \\\n",
       "0  PubChem.CID.10026128  438.51001  7.831  36.275002  56.813999  37.387001   \n",
       "1  PubChem.CID.10027278  460.48999  8.688  36.691002  54.224998  37.141998   \n",
       "\n",
       "          Si     Mv     Me     Mp      ...       CATS3D_10_LL  CATS3D_11_LL  \\\n",
       "0  63.286999  0.648  1.015  0.668      ...                0.0           0.0   \n",
       "1  59.958000  0.692  1.023  0.701      ...                0.0           0.0   \n",
       "\n",
       "   CATS3D_12_LL  CATS3D_13_LL  CATS3D_14_LL  CATS3D_15_LL  CATS3D_16_LL  \\\n",
       "0           0.0           0.0           0.0           0.0           0.0   \n",
       "1           0.0           0.0           0.0           0.0           0.0   \n",
       "\n",
       "   CATS3D_17_LL  CATS3D_18_LL  CATS3D_19_LL  \n",
       "0           0.0           0.0           0.0  \n",
       "1           0.0           0.0           0.0  \n",
       "\n",
       "[2 rows x 5271 columns]"
      ]
     },
     "metadata": {},
     "output_type": "display_data"
    }
   ],
   "source": [
    "display(df_info[:2])\n",
    "display(df_desc[:2])"
   ]
  },
  {
   "cell_type": "code",
   "execution_count": 76,
   "metadata": {},
   "outputs": [
    {
     "name": "stdout",
     "output_type": "stream",
     "text": [
      "(661, 5271)\n"
     ]
    },
    {
     "data": {
      "text/html": [
       "<div>\n",
       "<style scoped>\n",
       "    .dataframe tbody tr th:only-of-type {\n",
       "        vertical-align: middle;\n",
       "    }\n",
       "\n",
       "    .dataframe tbody tr th {\n",
       "        vertical-align: top;\n",
       "    }\n",
       "\n",
       "    .dataframe thead th {\n",
       "        text-align: right;\n",
       "    }\n",
       "</style>\n",
       "<table border=\"1\" class=\"dataframe\">\n",
       "  <thead>\n",
       "    <tr style=\"text-align: right;\">\n",
       "      <th></th>\n",
       "      <th>Drug</th>\n",
       "      <th>MW</th>\n",
       "      <th>AMW</th>\n",
       "      <th>Sv</th>\n",
       "      <th>Se</th>\n",
       "      <th>Sp</th>\n",
       "      <th>Si</th>\n",
       "      <th>Mv</th>\n",
       "      <th>Me</th>\n",
       "      <th>Mp</th>\n",
       "      <th>...</th>\n",
       "      <th>CATS3D_10_LL</th>\n",
       "      <th>CATS3D_11_LL</th>\n",
       "      <th>CATS3D_12_LL</th>\n",
       "      <th>CATS3D_13_LL</th>\n",
       "      <th>CATS3D_14_LL</th>\n",
       "      <th>CATS3D_15_LL</th>\n",
       "      <th>CATS3D_16_LL</th>\n",
       "      <th>CATS3D_17_LL</th>\n",
       "      <th>CATS3D_18_LL</th>\n",
       "      <th>CATS3D_19_LL</th>\n",
       "    </tr>\n",
       "  </thead>\n",
       "  <tbody>\n",
       "    <tr>\n",
       "      <th>0</th>\n",
       "      <td>CCLE.1</td>\n",
       "      <td>439.609985</td>\n",
       "      <td>7.090</td>\n",
       "      <td>39.143002</td>\n",
       "      <td>61.439999</td>\n",
       "      <td>41.619999</td>\n",
       "      <td>69.682999</td>\n",
       "      <td>0.631</td>\n",
       "      <td>0.991</td>\n",
       "      <td>0.671</td>\n",
       "      <td>...</td>\n",
       "      <td>0.0</td>\n",
       "      <td>0.0</td>\n",
       "      <td>0.0</td>\n",
       "      <td>0.0</td>\n",
       "      <td>0.0</td>\n",
       "      <td>0.0</td>\n",
       "      <td>0.0</td>\n",
       "      <td>0.0</td>\n",
       "      <td>0.0</td>\n",
       "      <td>0.0</td>\n",
       "    </tr>\n",
       "    <tr>\n",
       "      <th>1</th>\n",
       "      <td>CCLE.10</td>\n",
       "      <td>475.399994</td>\n",
       "      <td>8.804</td>\n",
       "      <td>34.717999</td>\n",
       "      <td>54.522999</td>\n",
       "      <td>36.597000</td>\n",
       "      <td>61.160000</td>\n",
       "      <td>0.643</td>\n",
       "      <td>1.010</td>\n",
       "      <td>0.678</td>\n",
       "      <td>...</td>\n",
       "      <td>0.0</td>\n",
       "      <td>0.0</td>\n",
       "      <td>0.0</td>\n",
       "      <td>0.0</td>\n",
       "      <td>0.0</td>\n",
       "      <td>0.0</td>\n",
       "      <td>0.0</td>\n",
       "      <td>0.0</td>\n",
       "      <td>0.0</td>\n",
       "      <td>0.0</td>\n",
       "    </tr>\n",
       "  </tbody>\n",
       "</table>\n",
       "<p>2 rows × 5271 columns</p>\n",
       "</div>"
      ],
      "text/plain": [
       "      Drug          MW    AMW         Sv         Se         Sp         Si  \\\n",
       "0   CCLE.1  439.609985  7.090  39.143002  61.439999  41.619999  69.682999   \n",
       "1  CCLE.10  475.399994  8.804  34.717999  54.522999  36.597000  61.160000   \n",
       "\n",
       "      Mv     Me     Mp      ...       CATS3D_10_LL  CATS3D_11_LL  \\\n",
       "0  0.631  0.991  0.671      ...                0.0           0.0   \n",
       "1  0.643  1.010  0.678      ...                0.0           0.0   \n",
       "\n",
       "   CATS3D_12_LL  CATS3D_13_LL  CATS3D_14_LL  CATS3D_15_LL  CATS3D_16_LL  \\\n",
       "0           0.0           0.0           0.0           0.0           0.0   \n",
       "1           0.0           0.0           0.0           0.0           0.0   \n",
       "\n",
       "   CATS3D_17_LL  CATS3D_18_LL  CATS3D_19_LL  \n",
       "0           0.0           0.0           0.0  \n",
       "1           0.0           0.0           0.0  \n",
       "\n",
       "[2 rows x 5271 columns]"
      ]
     },
     "execution_count": 76,
     "metadata": {},
     "output_type": "execute_result"
    }
   ],
   "source": [
    "# Important!\n",
    "df_desc = pd.merge(df_info[['ID', 'Drug']], df_desc, on='Drug').drop('Drug', axis=1).rename(columns={'ID': 'Drug'})\n",
    "print(df_desc.shape)\n",
    "df_desc[:2]"
   ]
  },
  {
   "cell_type": "markdown",
   "metadata": {},
   "source": [
    "### load_drug_set_descriptors( drug_set = 'NCI60' )"
   ]
  },
  {
   "cell_type": "code",
   "execution_count": 77,
   "metadata": {},
   "outputs": [
    {
     "name": "stdout",
     "output_type": "stream",
     "text": [
      "(52846, 5271)\n"
     ]
    },
    {
     "data": {
      "text/html": [
       "<div>\n",
       "<style scoped>\n",
       "    .dataframe tbody tr th:only-of-type {\n",
       "        vertical-align: middle;\n",
       "    }\n",
       "\n",
       "    .dataframe tbody tr th {\n",
       "        vertical-align: top;\n",
       "    }\n",
       "\n",
       "    .dataframe thead th {\n",
       "        text-align: right;\n",
       "    }\n",
       "</style>\n",
       "<table border=\"1\" class=\"dataframe\">\n",
       "  <thead>\n",
       "    <tr style=\"text-align: right;\">\n",
       "      <th></th>\n",
       "      <th>NAME</th>\n",
       "      <th>MW</th>\n",
       "      <th>AMW</th>\n",
       "      <th>Sv</th>\n",
       "      <th>Se</th>\n",
       "      <th>Sp</th>\n",
       "      <th>Si</th>\n",
       "      <th>Mv</th>\n",
       "      <th>Me</th>\n",
       "      <th>Mp</th>\n",
       "    </tr>\n",
       "  </thead>\n",
       "  <tbody>\n",
       "    <tr>\n",
       "      <th>0</th>\n",
       "      <td>NSC.1</td>\n",
       "      <td>122.129997</td>\n",
       "      <td>8.142</td>\n",
       "      <td>10.01</td>\n",
       "      <td>15.305</td>\n",
       "      <td>10.193000</td>\n",
       "      <td>16.664000</td>\n",
       "      <td>0.667</td>\n",
       "      <td>1.020</td>\n",
       "      <td>0.680</td>\n",
       "    </tr>\n",
       "    <tr>\n",
       "      <th>1</th>\n",
       "      <td>NSC.100044</td>\n",
       "      <td>281.309998</td>\n",
       "      <td>8.037</td>\n",
       "      <td>21.60</td>\n",
       "      <td>36.236</td>\n",
       "      <td>21.653999</td>\n",
       "      <td>40.404999</td>\n",
       "      <td>0.617</td>\n",
       "      <td>1.035</td>\n",
       "      <td>0.619</td>\n",
       "    </tr>\n",
       "  </tbody>\n",
       "</table>\n",
       "</div>"
      ],
      "text/plain": [
       "         NAME          MW    AMW     Sv      Se         Sp         Si     Mv  \\\n",
       "0       NSC.1  122.129997  8.142  10.01  15.305  10.193000  16.664000  0.667   \n",
       "1  NSC.100044  281.309998  8.037  21.60  36.236  21.653999  40.404999  0.617   \n",
       "\n",
       "      Me     Mp  \n",
       "0  1.020  0.680  \n",
       "1  1.035  0.619  "
      ]
     },
     "execution_count": 77,
     "metadata": {},
     "output_type": "execute_result"
    }
   ],
   "source": [
    "path = os.path.join(DATADIR, 'NCI60_dragon7_descriptors.tsv')\n",
    "df_cols = pd.read_table(path, engine='c', nrows=0)\n",
    "total = df_cols.shape[1] - 1\n",
    "\n",
    "dtype_dict = dict((x, np.float32) for x in df_cols.columns[1:])\n",
    "df = pd.read_table(path, engine='c', usecols=usecols, dtype=dtype_dict, na_values=['na', '-', ''])\n",
    "\n",
    "print(df.shape)\n",
    "df.iloc[:2, :10]"
   ]
  },
  {
   "cell_type": "code",
   "execution_count": 78,
   "metadata": {},
   "outputs": [],
   "source": [
    "# Extract drug features (descriptors and fingerprints) into df2\n",
    "df1 = pd.DataFrame(df.loc[:, 'NAME'])\n",
    "df1.rename(columns={'NAME': 'Drug'}, inplace=True)\n",
    "df2 = df.drop('NAME', 1)\n",
    "df2 = utils.impute_and_scale(df2, scaling=None, imputing=None, dropna=None)"
   ]
  },
  {
   "cell_type": "code",
   "execution_count": 79,
   "metadata": {},
   "outputs": [
    {
     "name": "stdout",
     "output_type": "stream",
     "text": [
      "(661, 5271)\n"
     ]
    }
   ],
   "source": [
    "df = pd.concat([df1, df2], axis=1)\n",
    "df_desc2 = df.copy()\n",
    "del df, df1, df2\n",
    "print(df_desc.shape)"
   ]
  },
  {
   "cell_type": "markdown",
   "metadata": {},
   "source": [
    "Merge df_desc (Combined_PubChem) and df_desc2 (NCI60)"
   ]
  },
  {
   "cell_type": "code",
   "execution_count": 80,
   "metadata": {},
   "outputs": [
    {
     "name": "stdout",
     "output_type": "stream",
     "text": [
      "df_desc  (661, 5271)\n",
      "df_desc2 (52846, 5271)\n"
     ]
    }
   ],
   "source": [
    "print('df_desc ', df_desc.shape)\n",
    "print('df_desc2', df_desc2.shape)"
   ]
  },
  {
   "cell_type": "code",
   "execution_count": 81,
   "metadata": {},
   "outputs": [
    {
     "data": {
      "text/html": [
       "<div>\n",
       "<style scoped>\n",
       "    .dataframe tbody tr th:only-of-type {\n",
       "        vertical-align: middle;\n",
       "    }\n",
       "\n",
       "    .dataframe tbody tr th {\n",
       "        vertical-align: top;\n",
       "    }\n",
       "\n",
       "    .dataframe thead th {\n",
       "        text-align: right;\n",
       "    }\n",
       "</style>\n",
       "<table border=\"1\" class=\"dataframe\">\n",
       "  <thead>\n",
       "    <tr style=\"text-align: right;\">\n",
       "      <th></th>\n",
       "      <th>Drug</th>\n",
       "      <th>MW</th>\n",
       "      <th>AMW</th>\n",
       "      <th>Sv</th>\n",
       "      <th>Se</th>\n",
       "      <th>Sp</th>\n",
       "      <th>Si</th>\n",
       "      <th>Mv</th>\n",
       "      <th>Me</th>\n",
       "      <th>Mp</th>\n",
       "      <th>...</th>\n",
       "      <th>CATS3D_10_LL</th>\n",
       "      <th>CATS3D_11_LL</th>\n",
       "      <th>CATS3D_12_LL</th>\n",
       "      <th>CATS3D_13_LL</th>\n",
       "      <th>CATS3D_14_LL</th>\n",
       "      <th>CATS3D_15_LL</th>\n",
       "      <th>CATS3D_16_LL</th>\n",
       "      <th>CATS3D_17_LL</th>\n",
       "      <th>CATS3D_18_LL</th>\n",
       "      <th>CATS3D_19_LL</th>\n",
       "    </tr>\n",
       "  </thead>\n",
       "  <tbody>\n",
       "    <tr>\n",
       "      <th>0</th>\n",
       "      <td>CCLE.1</td>\n",
       "      <td>439.609985</td>\n",
       "      <td>7.090</td>\n",
       "      <td>39.143002</td>\n",
       "      <td>61.439999</td>\n",
       "      <td>41.619999</td>\n",
       "      <td>69.682999</td>\n",
       "      <td>0.631</td>\n",
       "      <td>0.991</td>\n",
       "      <td>0.671</td>\n",
       "      <td>...</td>\n",
       "      <td>0.0</td>\n",
       "      <td>0.0</td>\n",
       "      <td>0.0</td>\n",
       "      <td>0.0</td>\n",
       "      <td>0.0</td>\n",
       "      <td>0.0</td>\n",
       "      <td>0.0</td>\n",
       "      <td>0.0</td>\n",
       "      <td>0.0</td>\n",
       "      <td>0.0</td>\n",
       "    </tr>\n",
       "    <tr>\n",
       "      <th>1</th>\n",
       "      <td>CCLE.10</td>\n",
       "      <td>475.399994</td>\n",
       "      <td>8.804</td>\n",
       "      <td>34.717999</td>\n",
       "      <td>54.522999</td>\n",
       "      <td>36.597000</td>\n",
       "      <td>61.160000</td>\n",
       "      <td>0.643</td>\n",
       "      <td>1.010</td>\n",
       "      <td>0.678</td>\n",
       "      <td>...</td>\n",
       "      <td>0.0</td>\n",
       "      <td>0.0</td>\n",
       "      <td>0.0</td>\n",
       "      <td>0.0</td>\n",
       "      <td>0.0</td>\n",
       "      <td>0.0</td>\n",
       "      <td>0.0</td>\n",
       "      <td>0.0</td>\n",
       "      <td>0.0</td>\n",
       "      <td>0.0</td>\n",
       "    </tr>\n",
       "  </tbody>\n",
       "</table>\n",
       "<p>2 rows × 5271 columns</p>\n",
       "</div>"
      ],
      "text/plain": [
       "      Drug          MW    AMW         Sv         Se         Sp         Si  \\\n",
       "0   CCLE.1  439.609985  7.090  39.143002  61.439999  41.619999  69.682999   \n",
       "1  CCLE.10  475.399994  8.804  34.717999  54.522999  36.597000  61.160000   \n",
       "\n",
       "      Mv     Me     Mp      ...       CATS3D_10_LL  CATS3D_11_LL  \\\n",
       "0  0.631  0.991  0.671      ...                0.0           0.0   \n",
       "1  0.643  1.010  0.678      ...                0.0           0.0   \n",
       "\n",
       "   CATS3D_12_LL  CATS3D_13_LL  CATS3D_14_LL  CATS3D_15_LL  CATS3D_16_LL  \\\n",
       "0           0.0           0.0           0.0           0.0           0.0   \n",
       "1           0.0           0.0           0.0           0.0           0.0   \n",
       "\n",
       "   CATS3D_17_LL  CATS3D_18_LL  CATS3D_19_LL  \n",
       "0           0.0           0.0           0.0  \n",
       "1           0.0           0.0           0.0  \n",
       "\n",
       "[2 rows x 5271 columns]"
      ]
     },
     "metadata": {},
     "output_type": "display_data"
    },
    {
     "data": {
      "text/html": [
       "<div>\n",
       "<style scoped>\n",
       "    .dataframe tbody tr th:only-of-type {\n",
       "        vertical-align: middle;\n",
       "    }\n",
       "\n",
       "    .dataframe tbody tr th {\n",
       "        vertical-align: top;\n",
       "    }\n",
       "\n",
       "    .dataframe thead th {\n",
       "        text-align: right;\n",
       "    }\n",
       "</style>\n",
       "<table border=\"1\" class=\"dataframe\">\n",
       "  <thead>\n",
       "    <tr style=\"text-align: right;\">\n",
       "      <th></th>\n",
       "      <th>Drug</th>\n",
       "      <th>MW</th>\n",
       "      <th>AMW</th>\n",
       "      <th>Sv</th>\n",
       "      <th>Se</th>\n",
       "      <th>Sp</th>\n",
       "      <th>Si</th>\n",
       "      <th>Mv</th>\n",
       "      <th>Me</th>\n",
       "      <th>Mp</th>\n",
       "      <th>...</th>\n",
       "      <th>CATS3D_10_LL</th>\n",
       "      <th>CATS3D_11_LL</th>\n",
       "      <th>CATS3D_12_LL</th>\n",
       "      <th>CATS3D_13_LL</th>\n",
       "      <th>CATS3D_14_LL</th>\n",
       "      <th>CATS3D_15_LL</th>\n",
       "      <th>CATS3D_16_LL</th>\n",
       "      <th>CATS3D_17_LL</th>\n",
       "      <th>CATS3D_18_LL</th>\n",
       "      <th>CATS3D_19_LL</th>\n",
       "    </tr>\n",
       "  </thead>\n",
       "  <tbody>\n",
       "    <tr>\n",
       "      <th>0</th>\n",
       "      <td>NSC.1</td>\n",
       "      <td>122.129997</td>\n",
       "      <td>8.142</td>\n",
       "      <td>10.01</td>\n",
       "      <td>15.305</td>\n",
       "      <td>10.193000</td>\n",
       "      <td>16.664000</td>\n",
       "      <td>0.667</td>\n",
       "      <td>1.020</td>\n",
       "      <td>0.680</td>\n",
       "      <td>...</td>\n",
       "      <td>0.0</td>\n",
       "      <td>0.0</td>\n",
       "      <td>0.0</td>\n",
       "      <td>0.0</td>\n",
       "      <td>0.0</td>\n",
       "      <td>0.0</td>\n",
       "      <td>0.0</td>\n",
       "      <td>0.0</td>\n",
       "      <td>0.0</td>\n",
       "      <td>0.0</td>\n",
       "    </tr>\n",
       "    <tr>\n",
       "      <th>1</th>\n",
       "      <td>NSC.100044</td>\n",
       "      <td>281.309998</td>\n",
       "      <td>8.037</td>\n",
       "      <td>21.60</td>\n",
       "      <td>36.236</td>\n",
       "      <td>21.653999</td>\n",
       "      <td>40.404999</td>\n",
       "      <td>0.617</td>\n",
       "      <td>1.035</td>\n",
       "      <td>0.619</td>\n",
       "      <td>...</td>\n",
       "      <td>0.0</td>\n",
       "      <td>0.0</td>\n",
       "      <td>0.0</td>\n",
       "      <td>0.0</td>\n",
       "      <td>0.0</td>\n",
       "      <td>0.0</td>\n",
       "      <td>0.0</td>\n",
       "      <td>0.0</td>\n",
       "      <td>0.0</td>\n",
       "      <td>0.0</td>\n",
       "    </tr>\n",
       "  </tbody>\n",
       "</table>\n",
       "<p>2 rows × 5271 columns</p>\n",
       "</div>"
      ],
      "text/plain": [
       "         Drug          MW    AMW     Sv      Se         Sp         Si     Mv  \\\n",
       "0       NSC.1  122.129997  8.142  10.01  15.305  10.193000  16.664000  0.667   \n",
       "1  NSC.100044  281.309998  8.037  21.60  36.236  21.653999  40.404999  0.617   \n",
       "\n",
       "      Me     Mp      ...       CATS3D_10_LL  CATS3D_11_LL  CATS3D_12_LL  \\\n",
       "0  1.020  0.680      ...                0.0           0.0           0.0   \n",
       "1  1.035  0.619      ...                0.0           0.0           0.0   \n",
       "\n",
       "   CATS3D_13_LL  CATS3D_14_LL  CATS3D_15_LL  CATS3D_16_LL  CATS3D_17_LL  \\\n",
       "0           0.0           0.0           0.0           0.0           0.0   \n",
       "1           0.0           0.0           0.0           0.0           0.0   \n",
       "\n",
       "   CATS3D_18_LL  CATS3D_19_LL  \n",
       "0           0.0           0.0  \n",
       "1           0.0           0.0  \n",
       "\n",
       "[2 rows x 5271 columns]"
      ]
     },
     "metadata": {},
     "output_type": "display_data"
    }
   ],
   "source": [
    "display(df_desc[:2])\n",
    "display(df_desc2[:2])"
   ]
  },
  {
   "cell_type": "code",
   "execution_count": 82,
   "metadata": {},
   "outputs": [
    {
     "name": "stdout",
     "output_type": "stream",
     "text": [
      "Loaded combined dragon7 drug descriptors:  (53507, 5271)\n"
     ]
    }
   ],
   "source": [
    "df_desc = pd.concat([df_desc, df_desc2], axis=0).reset_index(drop=True)\n",
    "df1 = pd.DataFrame(df_desc.loc[:, 'Drug'])\n",
    "df2 = df_desc.drop('Drug', 1)\n",
    "df2 = utils.impute_and_scale(df2, scaling='std', imputing='mean', dropna=None)\n",
    "df2 = df2.add_prefix('dragon7.')\n",
    "df_desc = pd.concat([df1, df2], axis=1)\n",
    "print('Loaded combined dragon7 drug descriptors: ', df_desc.shape)"
   ]
  },
  {
   "cell_type": "code",
   "execution_count": 83,
   "metadata": {},
   "outputs": [
    {
     "name": "stdout",
     "output_type": "stream",
     "text": [
      "(53507, 5271)\n",
      "['Drug', 'dragon7.MW', 'dragon7.AMW', 'dragon7.Sv', 'dragon7.Se', 'dragon7.Sp', 'dragon7.Si', 'dragon7.Mv', 'dragon7.Me', 'dragon7.Mp']\n"
     ]
    }
   ],
   "source": [
    "df_drug_desc = df_desc.copy()\n",
    "del df_desc, df1, df2\n",
    "print(df_drug_desc.shape)\n",
    "print(df_drug_desc.columns.tolist()[:10])"
   ]
  },
  {
   "cell_type": "code",
   "execution_count": null,
   "metadata": {},
   "outputs": [],
   "source": []
  },
  {
   "cell_type": "markdown",
   "metadata": {},
   "source": [
    "## Extract drug fingerprints\n",
    "#### load_drug_fingerprints()"
   ]
  },
  {
   "cell_type": "code",
   "execution_count": 84,
   "metadata": {},
   "outputs": [],
   "source": [
    "# load_drug_fingerprints(ncols=None, scaling='std', imputing='mean', dropna=None, add_prefix=True)\n",
    "df_drug_fp = utils.load_drug_fingerprints(ncols=0, scaling='std', dropna=None)"
   ]
  },
  {
   "cell_type": "code",
   "execution_count": null,
   "metadata": {},
   "outputs": [],
   "source": []
  },
  {
   "cell_type": "markdown",
   "metadata": {},
   "source": [
    "## Continue ..."
   ]
  },
  {
   "cell_type": "code",
   "execution_count": 85,
   "metadata": {},
   "outputs": [],
   "source": [
    "cell_df_dict = {'rnaseq': 'df_cell_rnaseq'}\n",
    "drug_df_dict = {'descriptors': 'df_drug_desc',\n",
    "                'fingerprints': 'df_drug_fp'}"
   ]
  },
  {
   "cell_type": "code",
   "execution_count": 86,
   "metadata": {},
   "outputs": [
    {
     "name": "stdout",
     "output_type": "stream",
     "text": [
      "df_cell_ids.shape (3070, 1)\n",
      "tmp.shape (15196, 950)\n",
      "tmp2.shape (2373, 1)\n"
     ]
    }
   ],
   "source": [
    "# (ap)\n",
    "df_cell_ids = df_cells_with_response\n",
    "print('df_cell_ids.shape', df_cell_ids.shape)\n",
    "fea = cell_features[0]\n",
    "tmp = locals()[cell_df_dict[fea]]\n",
    "print('tmp.shape', tmp.shape)\n",
    "\n",
    "tmp2 = df_cell_ids.merge(tmp[['Sample']], on='Sample').drop_duplicates()\n",
    "print('tmp2.shape', tmp2.shape)"
   ]
  },
  {
   "cell_type": "code",
   "execution_count": 87,
   "metadata": {},
   "outputs": [
    {
     "name": "stdout",
     "output_type": "stream",
     "text": [
      "  2373 molecular samples with feature and response data\n"
     ]
    }
   ],
   "source": [
    "df_cell_ids = df_cells_with_response\n",
    "for fea in cell_features:\n",
    "    df_cell = locals()[cell_df_dict[fea]]\n",
    "    df_cell_ids = df_cell_ids.merge(df_cell[['Sample']]).drop_duplicates()  # extract \n",
    "print('  {} molecular samples with feature and response data'.format(df_cell_ids.shape[0]))"
   ]
  },
  {
   "cell_type": "code",
   "execution_count": 88,
   "metadata": {},
   "outputs": [
    {
     "name": "stdout",
     "output_type": "stream",
     "text": [
      "(15196, 950)\n"
     ]
    },
    {
     "data": {
      "text/plain": [
       "474"
      ]
     },
     "execution_count": 88,
     "metadata": {},
     "output_type": "execute_result"
    }
   ],
   "source": [
    "# (ap)\n",
    "print(df_cell.shape)\n",
    "df_cell_ids['Sample'].map(lambda s: True if 'CCLE' in s.split('.') else False).sum()"
   ]
  },
  {
   "cell_type": "code",
   "execution_count": 89,
   "metadata": {},
   "outputs": [
    {
     "name": "stdout",
     "output_type": "stream",
     "text": [
      "  46837 selected drugs with feature and response data\n"
     ]
    }
   ],
   "source": [
    "df_drug_ids = df_drugs_with_response\n",
    "for fea in drug_features:\n",
    "    df_drug = locals()[drug_df_dict[fea]]\n",
    "    df_drug_ids = df_drug_ids.merge(df_drug[['Drug']]).drop_duplicates()\n",
    "\n",
    "df_drug_ids = df_drug_ids.merge(df_selected_drugs).drop_duplicates()\n",
    "print('  {} selected drugs with feature and response data'.format(df_drug_ids.shape[0]))"
   ]
  },
  {
   "cell_type": "code",
   "execution_count": null,
   "metadata": {},
   "outputs": [],
   "source": []
  },
  {
   "cell_type": "code",
   "execution_count": 90,
   "metadata": {},
   "outputs": [
    {
     "name": "stdout",
     "output_type": "stream",
     "text": [
      "(31456191, 8)\n",
      "(2373, 1)\n",
      "(46837, 5)\n"
     ]
    }
   ],
   "source": [
    "print(df_response.shape)\n",
    "print(df_cell_ids.shape)\n",
    "print(df_drug_ids.shape)"
   ]
  },
  {
   "cell_type": "code",
   "execution_count": 91,
   "metadata": {},
   "outputs": [
    {
     "name": "stdout",
     "output_type": "stream",
     "text": [
      "(25299969, 8)\n"
     ]
    }
   ],
   "source": [
    "# Extract only the relevant rows from `df_response` (where we have both drug features and cell features)\n",
    "df_response = df_response[df_response['Sample'].isin(df_cell_ids['Sample']) &\n",
    "                          df_response['Drug1'].isin(df_drug_ids['Drug']) &\n",
    "                          (df_response['Drug2'].isin(df_drug_ids['Drug']) | df_response['Drug2'].isnull())]\n",
    "print(df_response.shape)"
   ]
  },
  {
   "cell_type": "code",
   "execution_count": 92,
   "metadata": {},
   "outputs": [
    {
     "name": "stdout",
     "output_type": "stream",
     "text": [
      "(7978373, 8)\n"
     ]
    },
    {
     "data": {
      "text/html": [
       "<div>\n",
       "<style scoped>\n",
       "    .dataframe tbody tr th:only-of-type {\n",
       "        vertical-align: middle;\n",
       "    }\n",
       "\n",
       "    .dataframe tbody tr th {\n",
       "        vertical-align: top;\n",
       "    }\n",
       "\n",
       "    .dataframe thead th {\n",
       "        text-align: right;\n",
       "    }\n",
       "</style>\n",
       "<table border=\"1\" class=\"dataframe\">\n",
       "  <thead>\n",
       "    <tr style=\"text-align: right;\">\n",
       "      <th></th>\n",
       "      <th>Source</th>\n",
       "      <th>Sample</th>\n",
       "      <th>Drug1</th>\n",
       "      <th>Dose1</th>\n",
       "      <th>Drug2</th>\n",
       "      <th>Dose2</th>\n",
       "      <th>Growth</th>\n",
       "      <th>Study</th>\n",
       "    </tr>\n",
       "  </thead>\n",
       "  <tbody>\n",
       "    <tr>\n",
       "      <th>0</th>\n",
       "      <td>CTRP</td>\n",
       "      <td>CTRP.22RV1</td>\n",
       "      <td>CTRP.138</td>\n",
       "      <td>8.309804</td>\n",
       "      <td>NaN</td>\n",
       "      <td>NaN</td>\n",
       "      <td>0.9386</td>\n",
       "      <td>315625</td>\n",
       "    </tr>\n",
       "    <tr>\n",
       "      <th>1</th>\n",
       "      <td>CTRP</td>\n",
       "      <td>CTRP.22RV1</td>\n",
       "      <td>CTRP.138</td>\n",
       "      <td>8.013228</td>\n",
       "      <td>NaN</td>\n",
       "      <td>NaN</td>\n",
       "      <td>0.9068</td>\n",
       "      <td>315625</td>\n",
       "    </tr>\n",
       "  </tbody>\n",
       "</table>\n",
       "</div>"
      ],
      "text/plain": [
       "  Source      Sample     Drug1     Dose1 Drug2  Dose2  Growth   Study\n",
       "0   CTRP  CTRP.22RV1  CTRP.138  8.309804   NaN    NaN  0.9386  315625\n",
       "1   CTRP  CTRP.22RV1  CTRP.138  8.013228   NaN    NaN  0.9068  315625"
      ]
     },
     "execution_count": 92,
     "metadata": {},
     "output_type": "execute_result"
    }
   ],
   "source": [
    "# Extract the relevant sources\n",
    "df_response = df_response[df_response['Source'].isin(train_sep_sources + test_sep_sources)]\n",
    "df_response.reset_index(drop=True, inplace=True)\n",
    "print(df_response.shape)\n",
    "df_response[:2]"
   ]
  },
  {
   "cell_type": "code",
   "execution_count": 93,
   "metadata": {},
   "outputs": [
    {
     "data": {
      "text/html": [
       "<div>\n",
       "<style scoped>\n",
       "    .dataframe tbody tr th:only-of-type {\n",
       "        vertical-align: middle;\n",
       "    }\n",
       "\n",
       "    .dataframe tbody tr th {\n",
       "        vertical-align: top;\n",
       "    }\n",
       "\n",
       "    .dataframe thead th {\n",
       "        text-align: right;\n",
       "    }\n",
       "</style>\n",
       "<table border=\"1\" class=\"dataframe\">\n",
       "  <thead>\n",
       "    <tr style=\"text-align: right;\">\n",
       "      <th></th>\n",
       "      <th>Growth</th>\n",
       "      <th>Sample</th>\n",
       "      <th>Drug1</th>\n",
       "      <th>Drug2</th>\n",
       "      <th>MedianDose</th>\n",
       "    </tr>\n",
       "    <tr>\n",
       "      <th>Source</th>\n",
       "      <th></th>\n",
       "      <th></th>\n",
       "      <th></th>\n",
       "      <th></th>\n",
       "      <th></th>\n",
       "    </tr>\n",
       "  </thead>\n",
       "  <tbody>\n",
       "    <tr>\n",
       "      <th>ALMANAC.1A</th>\n",
       "      <td>206580</td>\n",
       "      <td>60</td>\n",
       "      <td>101</td>\n",
       "      <td>101</td>\n",
       "      <td>7.000000</td>\n",
       "    </tr>\n",
       "    <tr>\n",
       "      <th>ALMANAC.FF</th>\n",
       "      <td>2062098</td>\n",
       "      <td>60</td>\n",
       "      <td>92</td>\n",
       "      <td>71</td>\n",
       "      <td>6.698970</td>\n",
       "    </tr>\n",
       "    <tr>\n",
       "      <th>ALMANAC.FG</th>\n",
       "      <td>1293465</td>\n",
       "      <td>60</td>\n",
       "      <td>98</td>\n",
       "      <td>27</td>\n",
       "      <td>6.522879</td>\n",
       "    </tr>\n",
       "    <tr>\n",
       "      <th>CTRP</th>\n",
       "      <td>3397103</td>\n",
       "      <td>812</td>\n",
       "      <td>311</td>\n",
       "      <td>0</td>\n",
       "      <td>6.585027</td>\n",
       "    </tr>\n",
       "    <tr>\n",
       "      <th>GDSC</th>\n",
       "      <td>1019127</td>\n",
       "      <td>670</td>\n",
       "      <td>213</td>\n",
       "      <td>0</td>\n",
       "      <td>6.505150</td>\n",
       "    </tr>\n",
       "  </tbody>\n",
       "</table>\n",
       "</div>"
      ],
      "text/plain": [
       "             Growth  Sample  Drug1  Drug2  MedianDose\n",
       "Source                                               \n",
       "ALMANAC.1A   206580      60    101    101    7.000000\n",
       "ALMANAC.FF  2062098      60     92     71    6.698970\n",
       "ALMANAC.FG  1293465      60     98     27    6.522879\n",
       "CTRP        3397103     812    311      0    6.585027\n",
       "GDSC        1019127     670    213      0    6.505150"
      ]
     },
     "execution_count": 93,
     "metadata": {},
     "output_type": "execute_result"
    }
   ],
   "source": [
    "df_sum = utils.summarize_response_data(df_response)\n",
    "df_sum"
   ]
  },
  {
   "cell_type": "code",
   "execution_count": 94,
   "metadata": {},
   "outputs": [
    {
     "name": "stdout",
     "output_type": "stream",
     "text": [
      "Grouped response data by drug_pair: 5587 groups\n",
      "(7978373, 9)\n",
      "  Source      Sample     Drug1     Dose1 Drug2  Dose2  Growth   Study  \\\n",
      "0   CTRP  CTRP.22RV1  CTRP.138  8.309804   NaN    NaN  0.9386  315625   \n",
      "1   CTRP  CTRP.22RV1  CTRP.138  8.013228   NaN    NaN  0.9068  315625   \n",
      "\n",
      "                 Group  \n",
      "0  PubChem.CID.7326481  \n",
      "1  PubChem.CID.7326481  \n"
     ]
    }
   ],
   "source": [
    "df_response = df_response.assign(Group = utils.assign_partition_groups(df_response, partition_by='drug_pair'))\n",
    "print(df_response.shape)\n",
    "print(df_response[:2])"
   ]
  },
  {
   "cell_type": "code",
   "execution_count": 95,
   "metadata": {},
   "outputs": [
    {
     "data": {
      "text/plain": [
       "Source         5\n",
       "Sample      1542\n",
       "Drug1        627\n",
       "Study     340749\n",
       "Group       5587\n",
       "dtype: int64"
      ]
     },
     "execution_count": 95,
     "metadata": {},
     "output_type": "execute_result"
    }
   ],
   "source": [
    "df_response[['Source', 'Sample', 'Drug1', 'Study', 'Group']].nunique()"
   ]
  },
  {
   "cell_type": "code",
   "execution_count": null,
   "metadata": {},
   "outputs": [],
   "source": []
  },
  {
   "cell_type": "markdown",
   "metadata": {},
   "source": [
    "# build_feature_list()"
   ]
  },
  {
   "cell_type": "code",
   "execution_count": 96,
   "metadata": {},
   "outputs": [],
   "source": [
    "single = False\n",
    "input_features = collections.OrderedDict()\n",
    "feature_shapes = {}"
   ]
  },
  {
   "cell_type": "code",
   "execution_count": 97,
   "metadata": {},
   "outputs": [
    {
     "name": "stdout",
     "output_type": "stream",
     "text": [
      "input_features\n",
      " OrderedDict([('dose1', 'dose'), ('dose2', 'dose')])\n",
      "\n",
      "feature_shapes\n",
      " {'dose': (1,)}\n"
     ]
    }
   ],
   "source": [
    "doses = ['dose1', 'dose2'] if not single else ['dose1']\n",
    "for dose in doses:\n",
    "    input_features[dose] = 'dose'\n",
    "    feature_shapes['dose'] = (1,)\n",
    "\n",
    "print('input_features\\n', input_features)\n",
    "print('\\nfeature_shapes\\n', feature_shapes)"
   ]
  },
  {
   "cell_type": "code",
   "execution_count": 98,
   "metadata": {},
   "outputs": [
    {
     "name": "stdout",
     "output_type": "stream",
     "text": [
      "input_features\n",
      " OrderedDict([('dose1', 'dose'), ('dose2', 'dose'), ('response.source', 'response.source')])\n",
      "\n",
      "feature_shapes\n",
      " {'dose': (1,), 'response.source': (7,)}\n"
     ]
    }
   ],
   "source": [
    "encode_response_source = True\n",
    "if encode_response_source:  # self.encode_response_source\n",
    "    input_features['response.source'] = 'response.source'\n",
    "    feature_shapes['response.source'] = (df_source.shape[1] - 1,)  # self.df_source.shape[1]\n",
    "\n",
    "print('input_features\\n', input_features)\n",
    "print('\\nfeature_shapes\\n', feature_shapes)"
   ]
  },
  {
   "cell_type": "code",
   "execution_count": 99,
   "metadata": {},
   "outputs": [
    {
     "name": "stdout",
     "output_type": "stream",
     "text": [
      "rnaseq\n",
      "input_features\n",
      " OrderedDict([('dose1', 'dose'), ('dose2', 'dose'), ('response.source', 'response.source'), ('cell.rnaseq', 'cell.rnaseq')])\n",
      "\n",
      "feature_shapes\n",
      " {'dose': (1,), 'response.source': (7,), 'cell.rnaseq': (949,)}\n"
     ]
    }
   ],
   "source": [
    "for fea in cell_features:  # self.cell_features\n",
    "    print(fea)\n",
    "    feature_type = 'cell.' + fea\n",
    "    feature_name = 'cell.' + fea\n",
    "    \n",
    "    # df_cell = getattr(self, self.cell_df_dict[fea])\n",
    "    df_cell = locals()[cell_df_dict[fea]]  # returns rnaseq df\n",
    "    \n",
    "    input_features[feature_name] = feature_type\n",
    "    feature_shapes[feature_type] = (df_cell.shape[1] - 1,)\n",
    "    \n",
    "print('input_features\\n', input_features)\n",
    "print('\\nfeature_shapes\\n', feature_shapes)"
   ]
  },
  {
   "cell_type": "code",
   "execution_count": 100,
   "metadata": {},
   "outputs": [
    {
     "name": "stdout",
     "output_type": "stream",
     "text": [
      "input_features\n",
      " OrderedDict([('dose1', 'dose'), ('dose2', 'dose'), ('response.source', 'response.source'), ('cell.rnaseq', 'cell.rnaseq'), ('drug1.descriptors', 'drug.descriptors'), ('drug1.fingerprints', 'drug.fingerprints'), ('drug2.descriptors', 'drug.descriptors'), ('drug2.fingerprints', 'drug.fingerprints')])\n",
      "\n",
      "feature_shapes\n",
      " {'dose': (1,), 'response.source': (7,), 'cell.rnaseq': (949,), 'drug.descriptors': (5270,), 'drug.fingerprints': (2048,)}\n"
     ]
    }
   ],
   "source": [
    "drugs = ['drug1', 'drug2'] if not single else ['drug1']\n",
    "for drug in drugs:\n",
    "    for fea in drug_features:  # self.drug_features\n",
    "        feature_type = 'drug.' + fea\n",
    "        feature_name = drug + '.' + fea\n",
    "        \n",
    "        # df_drug = getattr(self, drug_df_dict[fea])\n",
    "        df_drug = locals()[drug_df_dict[fea]]\n",
    "        \n",
    "        input_features[feature_name] = feature_type\n",
    "        feature_shapes[feature_type] = (df_drug.shape[1] - 1,)\n",
    "        \n",
    "print('input_features\\n', input_features)\n",
    "print('\\nfeature_shapes\\n', feature_shapes)"
   ]
  },
  {
   "cell_type": "code",
   "execution_count": 101,
   "metadata": {},
   "outputs": [
    {
     "name": "stdout",
     "output_type": "stream",
     "text": [
      "15594\n",
      "15594\n"
     ]
    }
   ],
   "source": [
    "input_dim = sum([np.prod(feature_shapes[x]) for x in input_features.values()])\n",
    "print(input_dim)\n",
    "print(1*2 + 7 + 949 + 5270*2 + 2048*2)"
   ]
  },
  {
   "cell_type": "code",
   "execution_count": 102,
   "metadata": {},
   "outputs": [
    {
     "name": "stdout",
     "output_type": "stream",
     "text": [
      "Input features shapes:\n",
      "  dose1: (1,)\n",
      "  dose2: (1,)\n",
      "  response.source: (7,)\n",
      "  cell.rnaseq: (949,)\n",
      "  drug1.descriptors: (5270,)\n",
      "  drug1.fingerprints: (2048,)\n",
      "  drug2.descriptors: (5270,)\n",
      "  drug2.fingerprints: (2048,)\n",
      "Total input dimensions: 15594\n"
     ]
    }
   ],
   "source": [
    "print('Input features shapes:')\n",
    "for k, v in input_features.items():  # self.input_features.items()\n",
    "    print('  {}: {}'.format(k, feature_shapes[v]))  # self.feature_shapes[v]\n",
    "print('Total input dimensions: {}'.format(input_dim))  # self.input_dim"
   ]
  },
  {
   "cell_type": "code",
   "execution_count": null,
   "metadata": {},
   "outputs": [],
   "source": []
  },
  {
   "cell_type": "markdown",
   "metadata": {},
   "source": [
    "# Partition data\n",
    "loader.partition_data()"
   ]
  },
  {
   "cell_type": "code",
   "execution_count": 123,
   "metadata": {},
   "outputs": [],
   "source": [
    "val_split = 0.2\n",
    "train_split = 1 - val_split"
   ]
  },
  {
   "cell_type": "code",
   "execution_count": 124,
   "metadata": {},
   "outputs": [],
   "source": [
    "partition_by = 'drug_pair'\n",
    "cv_folds = 1\n",
    "cell_types = None\n",
    "by_cell = None\n",
    "by_drug = None"
   ]
  },
  {
   "cell_type": "code",
   "execution_count": 125,
   "metadata": {},
   "outputs": [],
   "source": [
    "train_sep_sources = ['CTRP', 'GDSC', 'ALMANAC.FG', 'ALMANAC.FF', 'ALMANAC.1A']\n",
    "test_sep_sources =  ['CTRP', 'GDSC', 'ALMANAC.FG', 'ALMANAC.FF', 'ALMANAC.1A']"
   ]
  },
  {
   "cell_type": "code",
   "execution_count": 126,
   "metadata": {},
   "outputs": [],
   "source": [
    "mask = df_response['Source'].isin(train_sep_sources)\n",
    "test_mask = df_response['Source'].isin(test_sep_sources)  # this will be used for the actual test set (not validation)"
   ]
  },
  {
   "cell_type": "code",
   "execution_count": 132,
   "metadata": {},
   "outputs": [],
   "source": [
    "# Groups for training\n",
    "df_group = df_response[mask]['Group'].drop_duplicates().reset_index(drop=True)"
   ]
  },
  {
   "cell_type": "code",
   "execution_count": 133,
   "metadata": {},
   "outputs": [
    {
     "data": {
      "text/plain": [
       "0    PubChem.CID.7326481\n",
       "1    PubChem.CID.1641662\n",
       "2    PubChem.CID.2842253\n",
       "3    PubChem.CID.2729026\n",
       "4     PubChem.CID.613000\n",
       "Name: Group, dtype: object"
      ]
     },
     "execution_count": 133,
     "metadata": {},
     "output_type": "execute_result"
    }
   ],
   "source": [
    "df_group.head()"
   ]
  },
  {
   "cell_type": "code",
   "execution_count": 134,
   "metadata": {},
   "outputs": [],
   "source": [
    "from sklearn.model_selection import KFold, ShuffleSplit\n",
    "if cv_folds > 1:\n",
    "    selector = KFold(n_splits=cv_folds, shuffle=True, random_state=SEED)\n",
    "else:\n",
    "    selector = ShuffleSplit(n_splits=1, train_size=train_split, test_size=val_split, random_state=SEED)\n",
    "\n",
    "splits = selector.split(df_group)"
   ]
  },
  {
   "cell_type": "code",
   "execution_count": 119,
   "metadata": {},
   "outputs": [],
   "source": [
    "# (train_group_index, val_group_index) = next(splits)\n",
    "# train_groups = set(df_group.values[train_group_index])\n",
    "# val_groups = set(df_group.values[val_group_index])\n",
    "# print(len(train_groups))\n",
    "# print(len(val_groups))"
   ]
  },
  {
   "cell_type": "code",
   "execution_count": 137,
   "metadata": {},
   "outputs": [
    {
     "name": "stdout",
     "output_type": "stream",
     "text": [
      "6437251\n",
      "1541122\n",
      "0\n"
     ]
    }
   ],
   "source": [
    "# train_index = df_response.index[df_response['Group'].isin(train_groups) & mask]  # training indices for df_response\n",
    "# val_index = df_response.index[df_response['Group'].isin(val_groups) & mask]  # val indices for df_response\n",
    "# test_index = df_response.index[~df_response['Group'].isin(train_groups) & ~df_response['Group'].isin(val_groups) & test_mask]  # test indices for df_response\n",
    "# print(len(train_index))\n",
    "# print(len(val_index))\n",
    "# print(len(test_index))"
   ]
  },
  {
   "cell_type": "code",
   "execution_count": 138,
   "metadata": {},
   "outputs": [],
   "source": [
    "train_indexes = []\n",
    "val_indexes = []\n",
    "test_indexes = []\n",
    "\n",
    "for index, (train_group_index, val_group_index) in enumerate(splits):\n",
    "    train_groups = set(df_group.values[train_group_index])\n",
    "    val_groups = set(df_group.values[val_group_index])\n",
    "    \n",
    "    train_index = df_response.index[df_response['Group'].isin(train_groups) & mask]\n",
    "    val_index = df_response.index[df_response['Group'].isin(val_groups) & mask]\n",
    "    \n",
    "    test_index = df_response.index[~df_response['Group'].isin(train_groups) & ~df_response['Group'].isin(val_groups) & test_mask]\n",
    "\n",
    "    train_indexes.append(train_index)\n",
    "    val_indexes.append(val_index)\n",
    "    test_indexes.append(test_index)"
   ]
  },
  {
   "cell_type": "code",
   "execution_count": null,
   "metadata": {},
   "outputs": [],
   "source": []
  },
  {
   "cell_type": "markdown",
   "metadata": {},
   "source": [
    "# Build model\n",
    "build_model()"
   ]
  },
  {
   "cell_type": "code",
   "execution_count": 140,
   "metadata": {},
   "outputs": [],
   "source": [
    "permanent_dropout=0,\n",
    "silent=False\n",
    "dense_feature_layers = [1000, 1000, 1000]"
   ]
  },
  {
   "cell_type": "code",
   "execution_count": 141,
   "metadata": {},
   "outputs": [
    {
     "data": {
      "text/plain": [
       "{'dose': (1,),\n",
       " 'response.source': (7,),\n",
       " 'cell.rnaseq': (949,),\n",
       " 'drug.descriptors': (5270,),\n",
       " 'drug.fingerprints': (2048,)}"
      ]
     },
     "execution_count": 141,
     "metadata": {},
     "output_type": "execute_result"
    }
   ],
   "source": [
    "feature_shapes"
   ]
  },
  {
   "cell_type": "code",
   "execution_count": null,
   "metadata": {},
   "outputs": [],
   "source": [
    "input_models = {}\n",
    "dropout_rate = args.drop\n",
    "for fea_type, shape in feature_shapes.items():\n",
    "    base_type = fea_type.split('.')[0]\n",
    "    if base_type in ['cell', 'drug']:\n",
    "        box = build_feature_model(input_shape=shape,\n",
    "                                  name=fea_type,\n",
    "                                  dense_layers=dense_feature_layers,  # args.dense_feature_layers\n",
    "                                  dropout_rate=dropout_rate,\n",
    "                                  permanent_dropout=permanent_dropout)\n",
    "        input_models[fea_type] = box"
   ]
  },
  {
   "cell_type": "code",
   "execution_count": null,
   "metadata": {},
   "outputs": [],
   "source": [
    "inputs = []\n",
    "encoded_inputs = []\n",
    "for fea_name, fea_type in input_features.items():\n",
    "    shape = loader.feature_shapes[fea_type]\n",
    "    fea_input = Input(shape, name='input.'+fea_name)\n",
    "    inputs.append(fea_input)\n",
    "    if fea_type in input_models:\n",
    "        input_model = input_models[fea_type]\n",
    "        encoded = input_model(fea_input)\n",
    "    else:\n",
    "        encoded = fea_input\n",
    "    encoded_inputs.append(encoded)\n",
    "\n",
    "merged = keras.layers.concatenate(encoded_inputs)\n",
    "\n",
    "h = merged\n",
    "for i, layer in enumerate(args.dense):\n",
    "    x = h\n",
    "    h = Dense(layer, activation=args.activation)(h)\n",
    "    if dropout_rate > 0:\n",
    "        if permanent_dropout:\n",
    "            h = PermanentDropout(dropout_rate)(h)\n",
    "        else:\n",
    "            h = Dropout(dropout_rate)(h)\n",
    "    if args.residual:\n",
    "        try:\n",
    "            h = keras.layers.add([h, x])\n",
    "        except ValueError:\n",
    "            pass\n",
    "output = Dense(1)(h)"
   ]
  }
 ],
 "metadata": {
  "kernelspec": {
   "display_name": "Python 3",
   "language": "python",
   "name": "python3"
  },
  "language_info": {
   "codemirror_mode": {
    "name": "ipython",
    "version": 3
   },
   "file_extension": ".py",
   "mimetype": "text/x-python",
   "name": "python",
   "nbconvert_exporter": "python",
   "pygments_lexer": "ipython3",
   "version": "3.6.7"
  }
 },
 "nbformat": 4,
 "nbformat_minor": 2
}
