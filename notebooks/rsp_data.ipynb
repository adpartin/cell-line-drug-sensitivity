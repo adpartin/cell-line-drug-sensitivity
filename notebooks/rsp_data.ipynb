{
 "cells": [
  {
   "cell_type": "markdown",
   "metadata": {},
   "source": [
    "# Analysis of the response data"
   ]
  },
  {
   "cell_type": "code",
   "execution_count": 1,
   "metadata": {},
   "outputs": [
    {
     "name": "stdout",
     "output_type": "stream",
     "text": [
      "/Users/apartin/anaconda3/envs/cell-drug-sens/bin/python\r\n"
     ]
    }
   ],
   "source": [
    "!which python"
   ]
  },
  {
   "cell_type": "code",
   "execution_count": 2,
   "metadata": {},
   "outputs": [],
   "source": [
    "%load_ext autoreload\n",
    "%autoreload 2\n",
    "%matplotlib inline\n",
    "\n",
    "import os\n",
    "import sys\n",
    "import numpy as np\n",
    "import pandas as pd\n",
    "import matplotlib.pyplot as plt\n",
    "import seaborn as sns\n",
    "import collections\n",
    "from scipy import stats\n",
    "\n",
    "import warnings\n",
    "warnings.filterwarnings('ignore')\n",
    "\n",
    "# Utils\n",
    "file_path = os.getcwd()  # os.path.dirname(os.path.relpath(__file__))\n",
    "utils_path = os.path.abspath(os.path.join(file_path, '../src/train'))\n",
    "sys.path.append(utils_path)\n",
    "\n",
    "# import utils_models"
   ]
  },
  {
   "cell_type": "code",
   "execution_count": 3,
   "metadata": {},
   "outputs": [],
   "source": [
    "DATADIR = '/Users/apartin/work/jdacs/Benchmarks/Data/Pilot1'\n",
    "OURDIR = os.path.join(file_path, 'rsp_data')\n",
    "os.makedirs(OURDIR, exist_ok=True)"
   ]
  },
  {
   "cell_type": "code",
   "execution_count": 4,
   "metadata": {},
   "outputs": [],
   "source": [
    "target_name = 'AUC'"
   ]
  },
  {
   "cell_type": "code",
   "execution_count": 5,
   "metadata": {},
   "outputs": [
    {
     "name": "stdout",
     "output_type": "stream",
     "text": [
      "(1028, 14)\n"
     ]
    },
    {
     "data": {
      "text/html": [
       "<div>\n",
       "<style scoped>\n",
       "    .dataframe tbody tr th:only-of-type {\n",
       "        vertical-align: middle;\n",
       "    }\n",
       "\n",
       "    .dataframe tbody tr th {\n",
       "        vertical-align: top;\n",
       "    }\n",
       "\n",
       "    .dataframe thead th {\n",
       "        text-align: right;\n",
       "    }\n",
       "</style>\n",
       "<table border=\"1\" class=\"dataframe\">\n",
       "  <thead>\n",
       "    <tr style=\"text-align: right;\">\n",
       "      <th></th>\n",
       "      <th>SOURCE</th>\n",
       "      <th>CELL</th>\n",
       "      <th>DRUG</th>\n",
       "    </tr>\n",
       "  </thead>\n",
       "  <tbody>\n",
       "    <tr>\n",
       "      <th>0</th>\n",
       "      <td>chempartner_b01</td>\n",
       "      <td>9</td>\n",
       "      <td>15</td>\n",
       "    </tr>\n",
       "    <tr>\n",
       "      <th>1</th>\n",
       "      <td>chempartner_b02</td>\n",
       "      <td>40</td>\n",
       "      <td>24</td>\n",
       "    </tr>\n",
       "  </tbody>\n",
       "</table>\n",
       "</div>"
      ],
      "text/plain": [
       "            SOURCE  CELL  DRUG\n",
       "0  chempartner_b01     9    15\n",
       "1  chempartner_b02    40    24"
      ]
     },
     "metadata": {},
     "output_type": "display_data"
    },
    {
     "data": {
      "text/html": [
       "<div>\n",
       "<style scoped>\n",
       "    .dataframe tbody tr th:only-of-type {\n",
       "        vertical-align: middle;\n",
       "    }\n",
       "\n",
       "    .dataframe tbody tr th {\n",
       "        vertical-align: top;\n",
       "    }\n",
       "\n",
       "    .dataframe thead th {\n",
       "        text-align: right;\n",
       "    }\n",
       "</style>\n",
       "<table border=\"1\" class=\"dataframe\">\n",
       "  <thead>\n",
       "    <tr style=\"text-align: right;\">\n",
       "      <th></th>\n",
       "      <th>SOURCE</th>\n",
       "      <th>CELL</th>\n",
       "      <th>DRUG</th>\n",
       "      <th>STUDY</th>\n",
       "      <th>AUC</th>\n",
       "      <th>IC50</th>\n",
       "      <th>EC50</th>\n",
       "      <th>EC50se</th>\n",
       "      <th>R2fit</th>\n",
       "      <th>Einf</th>\n",
       "      <th>HS</th>\n",
       "      <th>AAC1</th>\n",
       "      <th>AUC1</th>\n",
       "      <th>DSS1</th>\n",
       "    </tr>\n",
       "  </thead>\n",
       "  <tbody>\n",
       "    <tr>\n",
       "      <th>0</th>\n",
       "      <td>chempartner_b01</td>\n",
       "      <td>NCI60.BT-549</td>\n",
       "      <td>NSC.122758</td>\n",
       "      <td>fake_exp</td>\n",
       "      <td>0.8384</td>\n",
       "      <td>NaN</td>\n",
       "      <td>6.268</td>\n",
       "      <td>0.0538</td>\n",
       "      <td>0.9822</td>\n",
       "      <td>0.5727</td>\n",
       "      <td>1.142</td>\n",
       "      <td>0.3689</td>\n",
       "      <td>0.6311</td>\n",
       "      <td>0.2987</td>\n",
       "    </tr>\n",
       "    <tr>\n",
       "      <th>1</th>\n",
       "      <td>chempartner_b01</td>\n",
       "      <td>NCI60.BT-549</td>\n",
       "      <td>NSC.180973</td>\n",
       "      <td>fake_exp</td>\n",
       "      <td>0.7750</td>\n",
       "      <td>NaN</td>\n",
       "      <td>7.192</td>\n",
       "      <td>0.0502</td>\n",
       "      <td>0.9775</td>\n",
       "      <td>0.5770</td>\n",
       "      <td>1.885</td>\n",
       "      <td>0.3740</td>\n",
       "      <td>0.6260</td>\n",
       "      <td>0.3044</td>\n",
       "    </tr>\n",
       "  </tbody>\n",
       "</table>\n",
       "</div>"
      ],
      "text/plain": [
       "            SOURCE          CELL        DRUG     STUDY     AUC  IC50   EC50  \\\n",
       "0  chempartner_b01  NCI60.BT-549  NSC.122758  fake_exp  0.8384   NaN  6.268   \n",
       "1  chempartner_b01  NCI60.BT-549  NSC.180973  fake_exp  0.7750   NaN  7.192   \n",
       "\n",
       "   EC50se   R2fit    Einf     HS    AAC1    AUC1    DSS1  \n",
       "0  0.0538  0.9822  0.5727  1.142  0.3689  0.6311  0.2987  \n",
       "1  0.0502  0.9775  0.5770  1.885  0.3740  0.6260  0.3044  "
      ]
     },
     "metadata": {},
     "output_type": "display_data"
    }
   ],
   "source": [
    "# Load chem-partner rsp dataset\n",
    "rspc = pd.read_csv(os.path.join(DATADIR, 'ChemPartner_single_response_agg'), sep='\\t')\n",
    "rspc['SOURCE'] = rspc['SOURCE'].map(lambda s: s.lower())\n",
    "print(rspc.shape)\n",
    "display(rspc.groupby('SOURCE').agg({'CELL': 'nunique', 'DRUG': 'nunique'}).reset_index())\n",
    "display(rspc[:2])"
   ]
  },
  {
   "cell_type": "code",
   "execution_count": 6,
   "metadata": {},
   "outputs": [
    {
     "name": "stdout",
     "output_type": "stream",
     "text": [
      "(4484081, 14)\n"
     ]
    },
    {
     "data": {
      "text/html": [
       "<div>\n",
       "<style scoped>\n",
       "    .dataframe tbody tr th:only-of-type {\n",
       "        vertical-align: middle;\n",
       "    }\n",
       "\n",
       "    .dataframe tbody tr th {\n",
       "        vertical-align: top;\n",
       "    }\n",
       "\n",
       "    .dataframe thead th {\n",
       "        text-align: right;\n",
       "    }\n",
       "</style>\n",
       "<table border=\"1\" class=\"dataframe\">\n",
       "  <thead>\n",
       "    <tr style=\"text-align: right;\">\n",
       "      <th></th>\n",
       "      <th>SOURCE</th>\n",
       "      <th>CELL</th>\n",
       "      <th>DRUG</th>\n",
       "    </tr>\n",
       "  </thead>\n",
       "  <tbody>\n",
       "    <tr>\n",
       "      <th>0</th>\n",
       "      <td>ccle</td>\n",
       "      <td>504</td>\n",
       "      <td>24</td>\n",
       "    </tr>\n",
       "    <tr>\n",
       "      <th>1</th>\n",
       "      <td>ctrp</td>\n",
       "      <td>887</td>\n",
       "      <td>544</td>\n",
       "    </tr>\n",
       "    <tr>\n",
       "      <th>2</th>\n",
       "      <td>gcsi</td>\n",
       "      <td>409</td>\n",
       "      <td>16</td>\n",
       "    </tr>\n",
       "    <tr>\n",
       "      <th>3</th>\n",
       "      <td>gdsc</td>\n",
       "      <td>1075</td>\n",
       "      <td>249</td>\n",
       "    </tr>\n",
       "    <tr>\n",
       "      <th>4</th>\n",
       "      <td>nci60</td>\n",
       "      <td>59</td>\n",
       "      <td>52671</td>\n",
       "    </tr>\n",
       "    <tr>\n",
       "      <th>5</th>\n",
       "      <td>scl</td>\n",
       "      <td>65</td>\n",
       "      <td>445</td>\n",
       "    </tr>\n",
       "    <tr>\n",
       "      <th>6</th>\n",
       "      <td>sclc</td>\n",
       "      <td>70</td>\n",
       "      <td>526</td>\n",
       "    </tr>\n",
       "  </tbody>\n",
       "</table>\n",
       "</div>"
      ],
      "text/plain": [
       "  SOURCE  CELL   DRUG\n",
       "0   ccle   504     24\n",
       "1   ctrp   887    544\n",
       "2   gcsi   409     16\n",
       "3   gdsc  1075    249\n",
       "4  nci60    59  52671\n",
       "5    scl    65    445\n",
       "6   sclc    70    526"
      ]
     },
     "metadata": {},
     "output_type": "display_data"
    },
    {
     "data": {
      "text/html": [
       "<div>\n",
       "<style scoped>\n",
       "    .dataframe tbody tr th:only-of-type {\n",
       "        vertical-align: middle;\n",
       "    }\n",
       "\n",
       "    .dataframe tbody tr th {\n",
       "        vertical-align: top;\n",
       "    }\n",
       "\n",
       "    .dataframe thead th {\n",
       "        text-align: right;\n",
       "    }\n",
       "</style>\n",
       "<table border=\"1\" class=\"dataframe\">\n",
       "  <thead>\n",
       "    <tr style=\"text-align: right;\">\n",
       "      <th></th>\n",
       "      <th>SOURCE</th>\n",
       "      <th>CELL</th>\n",
       "      <th>DRUG</th>\n",
       "      <th>STUDY</th>\n",
       "      <th>AUC</th>\n",
       "      <th>IC50</th>\n",
       "      <th>EC50</th>\n",
       "      <th>EC50se</th>\n",
       "      <th>R2fit</th>\n",
       "      <th>Einf</th>\n",
       "      <th>HS</th>\n",
       "      <th>AAC1</th>\n",
       "      <th>AUC1</th>\n",
       "      <th>DSS1</th>\n",
       "    </tr>\n",
       "  </thead>\n",
       "  <tbody>\n",
       "    <tr>\n",
       "      <th>0</th>\n",
       "      <td>ccle</td>\n",
       "      <td>CCLE.1321N1</td>\n",
       "      <td>CCLE.1</td>\n",
       "      <td>fake_exp</td>\n",
       "      <td>0.8330</td>\n",
       "      <td>4.883</td>\n",
       "      <td>5.183</td>\n",
       "      <td>0.5746</td>\n",
       "      <td>0.9864</td>\n",
       "      <td>0.2017</td>\n",
       "      <td>0.7463</td>\n",
       "      <td>0.1017</td>\n",
       "      <td>0.8983</td>\n",
       "      <td>0.0551</td>\n",
       "    </tr>\n",
       "    <tr>\n",
       "      <th>1</th>\n",
       "      <td>ccle</td>\n",
       "      <td>CCLE.1321N1</td>\n",
       "      <td>CCLE.10</td>\n",
       "      <td>fake_exp</td>\n",
       "      <td>0.7909</td>\n",
       "      <td>5.217</td>\n",
       "      <td>5.217</td>\n",
       "      <td>2.2840</td>\n",
       "      <td>0.6526</td>\n",
       "      <td>0.0000</td>\n",
       "      <td>0.8993</td>\n",
       "      <td>0.1136</td>\n",
       "      <td>0.8864</td>\n",
       "      <td>0.0728</td>\n",
       "    </tr>\n",
       "  </tbody>\n",
       "</table>\n",
       "</div>"
      ],
      "text/plain": [
       "  SOURCE         CELL     DRUG     STUDY     AUC   IC50   EC50  EC50se  \\\n",
       "0   ccle  CCLE.1321N1   CCLE.1  fake_exp  0.8330  4.883  5.183  0.5746   \n",
       "1   ccle  CCLE.1321N1  CCLE.10  fake_exp  0.7909  5.217  5.217  2.2840   \n",
       "\n",
       "    R2fit    Einf      HS    AAC1    AUC1    DSS1  \n",
       "0  0.9864  0.2017  0.7463  0.1017  0.8983  0.0551  \n",
       "1  0.6526  0.0000  0.8993  0.1136  0.8864  0.0728  "
      ]
     },
     "metadata": {},
     "output_type": "display_data"
    }
   ],
   "source": [
    "# Load combined rsp dataset\n",
    "rsp = pd.read_csv(os.path.join(DATADIR, 'combined_single_response_agg'), sep='\\t')\n",
    "rsp['SOURCE'] = rsp['SOURCE'].map(lambda s: s.lower())\n",
    "print(rsp.shape)\n",
    "display(rsp.groupby('SOURCE').agg({'CELL': 'nunique', 'DRUG': 'nunique'}).reset_index())\n",
    "display(rsp[:2])"
   ]
  },
  {
   "cell_type": "code",
   "execution_count": 13,
   "metadata": {},
   "outputs": [],
   "source": [
    "# Drop na values\n",
    "rsp = rsp[~rsp[target_name].isna()]\n",
    "rspc = rspc[~rspc[target_name].isna()]"
   ]
  },
  {
   "cell_type": "code",
   "execution_count": null,
   "metadata": {},
   "outputs": [],
   "source": []
  },
  {
   "cell_type": "markdown",
   "metadata": {},
   "source": [
    "## Compare rsp distributions across studies"
   ]
  },
  {
   "cell_type": "code",
   "execution_count": 14,
   "metadata": {},
   "outputs": [
    {
     "data": {
      "text/html": [
       "<div>\n",
       "<style scoped>\n",
       "    .dataframe tbody tr th:only-of-type {\n",
       "        vertical-align: middle;\n",
       "    }\n",
       "\n",
       "    .dataframe tbody tr th {\n",
       "        vertical-align: top;\n",
       "    }\n",
       "\n",
       "    .dataframe thead th {\n",
       "        text-align: right;\n",
       "    }\n",
       "</style>\n",
       "<table border=\"1\" class=\"dataframe\">\n",
       "  <thead>\n",
       "    <tr style=\"text-align: right;\">\n",
       "      <th></th>\n",
       "      <th>SOURCE</th>\n",
       "      <th>CELL</th>\n",
       "      <th>DRUG</th>\n",
       "      <th>STUDY</th>\n",
       "      <th>AUC</th>\n",
       "      <th>IC50</th>\n",
       "      <th>EC50</th>\n",
       "      <th>EC50se</th>\n",
       "      <th>R2fit</th>\n",
       "      <th>Einf</th>\n",
       "      <th>HS</th>\n",
       "      <th>AAC1</th>\n",
       "      <th>AUC1</th>\n",
       "      <th>DSS1</th>\n",
       "    </tr>\n",
       "  </thead>\n",
       "  <tbody>\n",
       "    <tr>\n",
       "      <th>0</th>\n",
       "      <td>ccle</td>\n",
       "      <td>CCLE.1321N1</td>\n",
       "      <td>CCLE.1</td>\n",
       "      <td>fake_exp</td>\n",
       "      <td>0.8330</td>\n",
       "      <td>4.883</td>\n",
       "      <td>5.183</td>\n",
       "      <td>0.5746</td>\n",
       "      <td>0.9864</td>\n",
       "      <td>0.2017</td>\n",
       "      <td>0.7463</td>\n",
       "      <td>0.1017</td>\n",
       "      <td>0.8983</td>\n",
       "      <td>0.0551</td>\n",
       "    </tr>\n",
       "    <tr>\n",
       "      <th>1</th>\n",
       "      <td>ccle</td>\n",
       "      <td>CCLE.1321N1</td>\n",
       "      <td>CCLE.10</td>\n",
       "      <td>fake_exp</td>\n",
       "      <td>0.7909</td>\n",
       "      <td>5.217</td>\n",
       "      <td>5.217</td>\n",
       "      <td>2.2840</td>\n",
       "      <td>0.6526</td>\n",
       "      <td>0.0000</td>\n",
       "      <td>0.8993</td>\n",
       "      <td>0.1136</td>\n",
       "      <td>0.8864</td>\n",
       "      <td>0.0728</td>\n",
       "    </tr>\n",
       "  </tbody>\n",
       "</table>\n",
       "</div>"
      ],
      "text/plain": [
       "  SOURCE         CELL     DRUG     STUDY     AUC   IC50   EC50  EC50se  \\\n",
       "0   ccle  CCLE.1321N1   CCLE.1  fake_exp  0.8330  4.883  5.183  0.5746   \n",
       "1   ccle  CCLE.1321N1  CCLE.10  fake_exp  0.7909  5.217  5.217  2.2840   \n",
       "\n",
       "    R2fit    Einf      HS    AAC1    AUC1    DSS1  \n",
       "0  0.9864  0.2017  0.7463  0.1017  0.8983  0.0551  \n",
       "1  0.6526  0.0000  0.8993  0.1136  0.8864  0.0728  "
      ]
     },
     "execution_count": 14,
     "metadata": {},
     "output_type": "execute_result"
    }
   ],
   "source": [
    "rsp.iloc[:2,:]"
   ]
  },
  {
   "cell_type": "code",
   "execution_count": 16,
   "metadata": {},
   "outputs": [
    {
     "name": "stdout",
     "output_type": "stream",
     "text": [
      "0 ccle\n",
      "1 ctrp\n",
      "2 gdsc\n",
      "3 nci60\n",
      "4 scl\n",
      "5 sclc\n",
      "6 gcsi\n"
     ]
    },
    {
     "data": {
      "image/png": "[encoded data removed]",
      "text/plain": [
       "<Figure size 720x864 with 7 Axes>"
      ]
     },
     "metadata": {
      "needs_background": "light"
     },
     "output_type": "display_data"
    }
   ],
   "source": [
    "df = rsp.copy()\n",
    "\n",
    "fig, ax = plt.subplots(len(df['SOURCE'].unique()), 1, sharex=True, figsize=(10, 12))\n",
    "ax = ax.ravel()\n",
    "for i, src_name in enumerate(df['SOURCE'].unique()):\n",
    "    y = df[df['SOURCE']==src_name][target_name].copy()\n",
    "    ax[i].hist(y, bins=120, label=src_name, color=np.random.rand(3))\n",
    "    # sns.distplot(v.values, bins=100, kde=False, label=src, ax=ax[i], color='b')\n",
    "    ax[i].legend(loc='upper right', fontsize=12)\n",
    "    # ax[i].set_xlim([-0.02, 1.02])"
   ]
  },
  {
   "cell_type": "code",
   "execution_count": null,
   "metadata": {},
   "outputs": [],
   "source": []
  },
  {
   "cell_type": "markdown",
   "metadata": {},
   "source": [
    "### 1. CTRP (find appropriate tfrm)"
   ]
  },
  {
   "cell_type": "code",
   "execution_count": 38,
   "metadata": {},
   "outputs": [
    {
     "name": "stdout",
     "output_type": "stream",
     "text": [
      "0\n",
      "273\n"
     ]
    }
   ],
   "source": [
    "ctrp = df[df['SOURCE']=='ctrp'][target_name].reset_index(drop=True).copy()\n",
    "print((ctrp < 0).sum())\n",
    "print((ctrp > 1).sum())"
   ]
  },
  {
   "cell_type": "code",
   "execution_count": 39,
   "metadata": {},
   "outputs": [],
   "source": [
    "# Keep in values \n",
    "ymin, ymax = 0, 1\n",
    "y = ctrp[(ctrp >= ymin) & (ctrp <= ymax)].copy()"
   ]
  },
  {
   "cell_type": "code",
   "execution_count": 53,
   "metadata": {},
   "outputs": [],
   "source": [
    "# Generate dict of tfms of y\n",
    "pwr_vec = [2, 3, 4, 5]\n",
    "tfms = {}\n",
    "for pwr in pwr_vec:\n",
    "    y_tfm = y ** pwr\n",
    "    tfms[pwr] = y_tfm"
   ]
  },
  {
   "cell_type": "code",
   "execution_count": 57,
   "metadata": {},
   "outputs": [
    {
     "data": {
      "image/png": "[encoded data removed]",
      "text/plain": [
       "<Figure size 576x720 with 5 Axes>"
      ]
     },
     "metadata": {
      "needs_background": "light"
     },
     "output_type": "display_data"
    }
   ],
   "source": [
    "fig, ax = plt.subplots(len(pwr_vec)+1, 1, sharex=True, figsize=(8, 10))\n",
    "ax = ax.ravel()\n",
    "ax[0].hist(y, 100, label='y',  color=np.random.rand(3)); ax[0].legend(loc='best');\n",
    "for i, (pwr, y_tfm) in enumerate(tfms.items()):    \n",
    "    ax[i+1].hist(y_tfm, 100, label=str(pwr),  color=np.random.rand(3)); ax[0].legend(loc='best');"
   ]
  },
  {
   "cell_type": "code",
   "execution_count": null,
   "metadata": {},
   "outputs": [],
   "source": []
  },
  {
   "cell_type": "markdown",
   "metadata": {},
   "source": [
    "## Transform the target"
   ]
  },
  {
   "cell_type": "code",
   "execution_count": 41,
   "metadata": {},
   "outputs": [
    {
     "data": {
      "image/png": "[encoded data removed]",
      "text/plain": [
       "<Figure size 720x864 with 7 Axes>"
      ]
     },
     "metadata": {
      "needs_background": "light"
     },
     "output_type": "display_data"
    }
   ],
   "source": [
    "df = rsp.copy()\n",
    "lmbda_dict = {}\n",
    "\n",
    "fig, ax = plt.subplots(len(df['SOURCE'].unique()), 1, sharex=True, figsize=(10, 12))\n",
    "ax = ax.ravel()\n",
    "for i, src_name in enumerate(df['SOURCE'].unique()):\n",
    "    y = df[df['SOURCE']==src_name][target_name].copy()\n",
    "    ax[i].hist(y, bins=120, label=src_name, color=np.random.rand(3))\n",
    "    \n",
    "    # Transform using boxcox\n",
    "    y_tfm, lmbda = stats.boxcox(y + 1);\n",
    "    ax[i].hist(y_tfm, bins=120, label=src_name + '_tfm', color=np.random.rand(3))\n",
    "    lmbda_dict[src_name] = lmbda\n",
    "    # sns.distplot(v.values, bins=100, kde=False, label=src, ax=ax[i], color='b')\n",
    "    \n",
    "    ax[i].legend(loc='upper right', fontsize=12)\n",
    "    ax[i].set_xlim([-0.02, 5])"
   ]
  },
  {
   "cell_type": "code",
   "execution_count": null,
   "metadata": {},
   "outputs": [],
   "source": []
  },
  {
   "cell_type": "markdown",
   "metadata": {},
   "source": [
    "## Find common drugs between chempartner and other studies"
   ]
  },
  {
   "cell_type": "code",
   "execution_count": null,
   "metadata": {},
   "outputs": [],
   "source": [
    "# Chem-partner drugs\n",
    "# print(rspc['DRUG'].unique())\n",
    "val_cnt = pd.Series(rspc['DRUG'].unique()).map(lambda s: s.split('.')[0]).value_counts()\n",
    "display(val_cnt)\n",
    "\n",
    "# Plot\n",
    "fig, ax = plt.subplots(figsize=(5, 2))\n",
    "rects = ax.barh(val_cnt.index, val_cnt.values, color='b', alpha=0.7);\n",
    "ax.set_title('Drugs in ChemPartner')\n",
    "ax.set_xlabel('Num of unique drugs', fontsize=12)\n",
    "ax.set_xlim([0, 25])\n",
    "for i, n in enumerate(val_cnt.values):\n",
    "    # https://matplotlib.org/api/_as_gen/matplotlib.axes.Axes.text.html\n",
    "    # https://matplotlib.org/gallery/pyplots/text_layout.html#sphx-glr-gallery-pyplots-text-layout-py\n",
    "    ax.text(x=n+0.3, y=i-0.1, s=str(n), color='k', fontsize=12)"
   ]
  },
  {
   "cell_type": "code",
   "execution_count": 9,
   "metadata": {},
   "outputs": [],
   "source": [
    "def func(rsp, rspc, target_name):\n",
    "    \"\"\" Combines rsp data from cellline studies and chempartner. \"\"\"\n",
    "    # Drop NA values\n",
    "    rsp = rsp[~(rsp[target_name].isna())]\n",
    "    rspc = rspc[~(rspc[target_name].isna())]\n",
    "    \n",
    "    # Extract cols of interest\n",
    "    cols = ['SOURCE', 'CELL', 'DRUG'] + [target_name]\n",
    "    rsp = rsp[cols].copy()\n",
    "    rspc = rspc[cols].copy()\n",
    "    \n",
    "    # Merge dfs\n",
    "    rsp = pd.merge(rspc[['DRUG']], rsp, on='DRUG') # suffixes=('_chem', '_comb'))\n",
    "\n",
    "    # Make sure the dfs have the order of columns\n",
    "    rsp = rsp[cols]\n",
    "    rspc = rspc[cols]\n",
    "    \n",
    "    # Add another SOURCE col\n",
    "    # assign single label for the entire chemp dataset\n",
    "    rspc.insert(loc=1, column='SOURCE_', value=rspc['SOURCE'].map(lambda s: s.split('_')[0]))\n",
    "    rsp.insert(loc=1, column='SOURCE_', value=rsp['SOURCE'])\n",
    "    \n",
    "    df = pd.concat([rspc, rsp], axis=0)\n",
    "    return df"
   ]
  },
  {
   "cell_type": "code",
   "execution_count": 11,
   "metadata": {},
   "outputs": [],
   "source": [
    "df = func(rsp=rsp, rspc=rspc, target_name=target_name)"
   ]
  },
  {
   "cell_type": "code",
   "execution_count": 12,
   "metadata": {},
   "outputs": [
    {
     "data": {
      "text/html": [
       "<div>\n",
       "<style scoped>\n",
       "    .dataframe tbody tr th:only-of-type {\n",
       "        vertical-align: middle;\n",
       "    }\n",
       "\n",
       "    .dataframe tbody tr th {\n",
       "        vertical-align: top;\n",
       "    }\n",
       "\n",
       "    .dataframe thead th {\n",
       "        text-align: right;\n",
       "    }\n",
       "</style>\n",
       "<table border=\"1\" class=\"dataframe\">\n",
       "  <thead>\n",
       "    <tr style=\"text-align: right;\">\n",
       "      <th></th>\n",
       "      <th>SOURCE_</th>\n",
       "      <th>SOURCE</th>\n",
       "      <th>CELL</th>\n",
       "      <th>DRUG</th>\n",
       "    </tr>\n",
       "  </thead>\n",
       "  <tbody>\n",
       "    <tr>\n",
       "      <th>0</th>\n",
       "      <td>chempartner</td>\n",
       "      <td>[chempartner_b01, chempartner_b02]</td>\n",
       "      <td>49</td>\n",
       "      <td>39</td>\n",
       "    </tr>\n",
       "    <tr>\n",
       "      <th>1</th>\n",
       "      <td>ctrp</td>\n",
       "      <td>[ctrp]</td>\n",
       "      <td>887</td>\n",
       "      <td>22</td>\n",
       "    </tr>\n",
       "    <tr>\n",
       "      <th>2</th>\n",
       "      <td>gdsc</td>\n",
       "      <td>[gdsc]</td>\n",
       "      <td>1045</td>\n",
       "      <td>2</td>\n",
       "    </tr>\n",
       "    <tr>\n",
       "      <th>3</th>\n",
       "      <td>nci60</td>\n",
       "      <td>[nci60]</td>\n",
       "      <td>59</td>\n",
       "      <td>15</td>\n",
       "    </tr>\n",
       "    <tr>\n",
       "      <th>4</th>\n",
       "      <td>scl</td>\n",
       "      <td>[scl]</td>\n",
       "      <td>65</td>\n",
       "      <td>14</td>\n",
       "    </tr>\n",
       "    <tr>\n",
       "      <th>5</th>\n",
       "      <td>sclc</td>\n",
       "      <td>[sclc]</td>\n",
       "      <td>70</td>\n",
       "      <td>14</td>\n",
       "    </tr>\n",
       "  </tbody>\n",
       "</table>\n",
       "</div>"
      ],
      "text/plain": [
       "       SOURCE_                              SOURCE  CELL  DRUG\n",
       "0  chempartner  [chempartner_b01, chempartner_b02]    49    39\n",
       "1         ctrp                              [ctrp]   887    22\n",
       "2         gdsc                              [gdsc]  1045     2\n",
       "3        nci60                             [nci60]    59    15\n",
       "4          scl                               [scl]    65    14\n",
       "5         sclc                              [sclc]    70    14"
      ]
     },
     "execution_count": 12,
     "metadata": {},
     "output_type": "execute_result"
    }
   ],
   "source": [
    "df.groupby('SOURCE_').agg({'SOURCE': 'unique', 'CELL': 'nunique', 'DRUG': 'nunique'}).reset_index()"
   ]
  },
  {
   "cell_type": "code",
   "execution_count": 13,
   "metadata": {},
   "outputs": [],
   "source": [
    "# utils_models.plot_density(df=df, col=target_name, split_by='SOURCE_',\n",
    "#                           kind='kde', bins=100, figsize=(12, 5), title=None, outpath=None)"
   ]
  },
  {
   "cell_type": "code",
   "execution_count": 14,
   "metadata": {},
   "outputs": [
    {
     "data": {
      "image/png": "[encoded data removed]",
      "text/plain": [
       "<Figure size 720x864 with 6 Axes>"
      ]
     },
     "metadata": {
      "needs_background": "light"
     },
     "output_type": "display_data"
    }
   ],
   "source": [
    "fig, ax = plt.subplots(len(df['SOURCE_'].unique()), 1, sharex=True, figsize=(10, 12))\n",
    "ax = ax.ravel()\n",
    "for i, src in enumerate(df['SOURCE_'].unique()):\n",
    "    v = df[df['SOURCE_'] == src][target_name].copy()\n",
    "    ax[i].hist(v, bins=120, label=src, color=np.random.rand(3))\n",
    "    # sns.distplot(v.values, bins=100, kde=False, label=src, ax=ax[i], color='b')\n",
    "    ax[i].legend(loc='upper right', fontsize=12)\n",
    "    ax[i].set_xlim([-0.02, 1.02])"
   ]
  },
  {
   "cell_type": "code",
   "execution_count": 15,
   "metadata": {},
   "outputs": [
    {
     "data": {
      "text/plain": [
       "39"
      ]
     },
     "execution_count": 15,
     "metadata": {},
     "output_type": "execute_result"
    }
   ],
   "source": [
    "# Intersection of unique drugs\n",
    "len(set(rspc['DRUG']).intersection(set(rsp['DRUG'])))"
   ]
  },
  {
   "cell_type": "code",
   "execution_count": null,
   "metadata": {},
   "outputs": [],
   "source": []
  },
  {
   "cell_type": "code",
   "execution_count": null,
   "metadata": {},
   "outputs": [],
   "source": []
  },
  {
   "cell_type": "code",
   "execution_count": null,
   "metadata": {},
   "outputs": [],
   "source": []
  },
  {
   "cell_type": "code",
   "execution_count": null,
   "metadata": {},
   "outputs": [],
   "source": []
  },
  {
   "cell_type": "code",
   "execution_count": null,
   "metadata": {},
   "outputs": [],
   "source": []
  },
  {
   "cell_type": "code",
   "execution_count": null,
   "metadata": {},
   "outputs": [],
   "source": []
  },
  {
   "cell_type": "code",
   "execution_count": 46,
   "metadata": {},
   "outputs": [],
   "source": [
    "# plt.hist(rsp['AUC'], bins=100); plt.grid();"
   ]
  },
  {
   "cell_type": "code",
   "execution_count": 47,
   "metadata": {},
   "outputs": [],
   "source": [
    "# plt.hist(rsp['AUC1'], bins=100); plt.grid()"
   ]
  },
  {
   "cell_type": "code",
   "execution_count": 48,
   "metadata": {},
   "outputs": [],
   "source": [
    "# rsp = rsp[rsp['SOURCE']=='CCLE']\n",
    "# print(rsp.shape)"
   ]
  },
  {
   "cell_type": "code",
   "execution_count": 49,
   "metadata": {},
   "outputs": [],
   "source": [
    "# plt.hist(rsp['AUC'], bins=100); plt.grid()"
   ]
  },
  {
   "cell_type": "code",
   "execution_count": 50,
   "metadata": {},
   "outputs": [],
   "source": [
    "# plt.hist(rsp['AUC1'], bins=100); plt.grid()"
   ]
  },
  {
   "cell_type": "code",
   "execution_count": 51,
   "metadata": {},
   "outputs": [
    {
     "data": {
      "text/html": [
       "<div>\n",
       "<style scoped>\n",
       "    .dataframe tbody tr th:only-of-type {\n",
       "        vertical-align: middle;\n",
       "    }\n",
       "\n",
       "    .dataframe tbody tr th {\n",
       "        vertical-align: top;\n",
       "    }\n",
       "\n",
       "    .dataframe thead th {\n",
       "        text-align: right;\n",
       "    }\n",
       "</style>\n",
       "<table border=\"1\" class=\"dataframe\">\n",
       "  <thead>\n",
       "    <tr style=\"text-align: right;\">\n",
       "      <th></th>\n",
       "      <th>SOURCE</th>\n",
       "      <th>CELL</th>\n",
       "      <th>DRUG</th>\n",
       "      <th>STUDY</th>\n",
       "      <th>AUC</th>\n",
       "      <th>IC50</th>\n",
       "      <th>EC50</th>\n",
       "      <th>EC50se</th>\n",
       "      <th>R2fit</th>\n",
       "      <th>Einf</th>\n",
       "      <th>HS</th>\n",
       "      <th>AAC1</th>\n",
       "      <th>AUC1</th>\n",
       "      <th>DSS1</th>\n",
       "    </tr>\n",
       "  </thead>\n",
       "  <tbody>\n",
       "    <tr>\n",
       "      <th>0</th>\n",
       "      <td>CCLE</td>\n",
       "      <td>1321N1</td>\n",
       "      <td>CCLE.1</td>\n",
       "      <td>fake_exp</td>\n",
       "      <td>0.8330</td>\n",
       "      <td>4.883</td>\n",
       "      <td>5.183</td>\n",
       "      <td>0.5746</td>\n",
       "      <td>0.9864</td>\n",
       "      <td>0.2017</td>\n",
       "      <td>0.7463</td>\n",
       "      <td>0.1017</td>\n",
       "      <td>0.8983</td>\n",
       "      <td>0.0551</td>\n",
       "    </tr>\n",
       "    <tr>\n",
       "      <th>1</th>\n",
       "      <td>CCLE</td>\n",
       "      <td>1321N1</td>\n",
       "      <td>CCLE.10</td>\n",
       "      <td>fake_exp</td>\n",
       "      <td>0.7909</td>\n",
       "      <td>5.217</td>\n",
       "      <td>5.217</td>\n",
       "      <td>2.2840</td>\n",
       "      <td>0.6526</td>\n",
       "      <td>0.0000</td>\n",
       "      <td>0.8993</td>\n",
       "      <td>0.1136</td>\n",
       "      <td>0.8864</td>\n",
       "      <td>0.0728</td>\n",
       "    </tr>\n",
       "  </tbody>\n",
       "</table>\n",
       "</div>"
      ],
      "text/plain": [
       "  SOURCE    CELL     DRUG     STUDY     AUC   IC50   EC50  EC50se   R2fit  \\\n",
       "0   CCLE  1321N1   CCLE.1  fake_exp  0.8330  4.883  5.183  0.5746  0.9864   \n",
       "1   CCLE  1321N1  CCLE.10  fake_exp  0.7909  5.217  5.217  2.2840  0.6526   \n",
       "\n",
       "     Einf      HS    AAC1    AUC1    DSS1  \n",
       "0  0.2017  0.7463  0.1017  0.8983  0.0551  \n",
       "1  0.0000  0.8993  0.1136  0.8864  0.0728  "
      ]
     },
     "metadata": {},
     "output_type": "display_data"
    }
   ],
   "source": [
    "rsp = rsp[rsp.SOURCE=='CCLE']\n",
    "rsp['CELL'] = rsp['CELL'].map(lambda s: ''.join([x for i, x in enumerate(s.split('.')) if i>0]))\n",
    "display(rsp[:2])"
   ]
  },
  {
   "cell_type": "code",
   "execution_count": 59,
   "metadata": {},
   "outputs": [
    {
     "data": {
      "text/html": [
       "<div>\n",
       "<style scoped>\n",
       "    .dataframe tbody tr th:only-of-type {\n",
       "        vertical-align: middle;\n",
       "    }\n",
       "\n",
       "    .dataframe tbody tr th {\n",
       "        vertical-align: top;\n",
       "    }\n",
       "\n",
       "    .dataframe thead th {\n",
       "        text-align: right;\n",
       "    }\n",
       "</style>\n",
       "<table border=\"1\" class=\"dataframe\">\n",
       "  <thead>\n",
       "    <tr style=\"text-align: right;\">\n",
       "      <th></th>\n",
       "      <th>CELL</th>\n",
       "      <th>AARS</th>\n",
       "      <th>ABCB6</th>\n",
       "      <th>ABCC5</th>\n",
       "      <th>ABCF1</th>\n",
       "      <th>ABCF3</th>\n",
       "      <th>ABHD4</th>\n",
       "      <th>ABHD6</th>\n",
       "      <th>ABL1</th>\n",
       "      <th>ACAA1</th>\n",
       "      <th>...</th>\n",
       "      <th>ZMIZ1</th>\n",
       "      <th>ZMYM2</th>\n",
       "      <th>ZNF131</th>\n",
       "      <th>ZNF274</th>\n",
       "      <th>ZNF318</th>\n",
       "      <th>ZNF395</th>\n",
       "      <th>ZNF451</th>\n",
       "      <th>ZNF586</th>\n",
       "      <th>ZNF589</th>\n",
       "      <th>ZW10</th>\n",
       "    </tr>\n",
       "  </thead>\n",
       "  <tbody>\n",
       "    <tr>\n",
       "      <th>0</th>\n",
       "      <td>22RV1</td>\n",
       "      <td>8.31</td>\n",
       "      <td>7.17</td>\n",
       "      <td>4.12</td>\n",
       "      <td>5.64</td>\n",
       "      <td>6.04</td>\n",
       "      <td>3.94</td>\n",
       "      <td>2.08</td>\n",
       "      <td>5.24</td>\n",
       "      <td>5.23</td>\n",
       "      <td>...</td>\n",
       "      <td>3.22</td>\n",
       "      <td>4.85</td>\n",
       "      <td>4.46</td>\n",
       "      <td>3.98</td>\n",
       "      <td>4.77</td>\n",
       "      <td>1.58</td>\n",
       "      <td>3.90</td>\n",
       "      <td>4.19</td>\n",
       "      <td>3.88</td>\n",
       "      <td>5.37</td>\n",
       "    </tr>\n",
       "    <tr>\n",
       "      <th>1</th>\n",
       "      <td>2313287</td>\n",
       "      <td>8.94</td>\n",
       "      <td>6.30</td>\n",
       "      <td>3.83</td>\n",
       "      <td>6.60</td>\n",
       "      <td>5.99</td>\n",
       "      <td>6.34</td>\n",
       "      <td>3.72</td>\n",
       "      <td>4.67</td>\n",
       "      <td>5.78</td>\n",
       "      <td>...</td>\n",
       "      <td>3.86</td>\n",
       "      <td>4.80</td>\n",
       "      <td>4.72</td>\n",
       "      <td>4.13</td>\n",
       "      <td>4.03</td>\n",
       "      <td>1.00</td>\n",
       "      <td>3.97</td>\n",
       "      <td>3.82</td>\n",
       "      <td>3.78</td>\n",
       "      <td>5.49</td>\n",
       "    </tr>\n",
       "  </tbody>\n",
       "</table>\n",
       "<p>2 rows × 943 columns</p>\n",
       "</div>"
      ],
      "text/plain": [
       "      CELL  AARS  ABCB6  ABCC5  ABCF1  ABCF3  ABHD4  ABHD6  ABL1  ACAA1  ...   \\\n",
       "0    22RV1  8.31   7.17   4.12   5.64   6.04   3.94   2.08  5.24   5.23  ...    \n",
       "1  2313287  8.94   6.30   3.83   6.60   5.99   6.34   3.72  4.67   5.78  ...    \n",
       "\n",
       "   ZMIZ1  ZMYM2  ZNF131  ZNF274  ZNF318  ZNF395  ZNF451  ZNF586  ZNF589  ZW10  \n",
       "0   3.22   4.85    4.46    3.98    4.77    1.58    3.90    4.19    3.88  5.37  \n",
       "1   3.86   4.80    4.72    4.13    4.03    1.00    3.97    3.82    3.78  5.49  \n",
       "\n",
       "[2 rows x 943 columns]"
      ]
     },
     "execution_count": 59,
     "metadata": {},
     "output_type": "execute_result"
    }
   ],
   "source": [
    "dfp, meta = utils.load_lincs1000(dataset='raw', sources=['CCLE'], verbose=False)\n",
    "dfp.rename(columns={'Sample': 'CELL'}, inplace=True)\n",
    "dfp['CELL'] = dfp['CELL'].map(lambda s: ''.join([x for i, x in enumerate(s.split('.')) if i>0])) \n",
    "dfp[:2]"
   ]
  },
  {
   "cell_type": "code",
   "execution_count": 60,
   "metadata": {},
   "outputs": [
    {
     "data": {
      "text/html": [
       "<div>\n",
       "<style scoped>\n",
       "    .dataframe tbody tr th:only-of-type {\n",
       "        vertical-align: middle;\n",
       "    }\n",
       "\n",
       "    .dataframe tbody tr th {\n",
       "        vertical-align: top;\n",
       "    }\n",
       "\n",
       "    .dataframe thead th {\n",
       "        text-align: right;\n",
       "    }\n",
       "</style>\n",
       "<table border=\"1\" class=\"dataframe\">\n",
       "  <thead>\n",
       "    <tr style=\"text-align: right;\">\n",
       "      <th></th>\n",
       "      <th>CELL</th>\n",
       "      <th>AARS</th>\n",
       "      <th>ABCB6</th>\n",
       "      <th>ABCC5</th>\n",
       "      <th>ABCF1</th>\n",
       "      <th>ABCF3</th>\n",
       "      <th>ABHD4</th>\n",
       "      <th>ABHD6</th>\n",
       "      <th>ABL1</th>\n",
       "      <th>ACAA1</th>\n",
       "      <th>...</th>\n",
       "      <th>ZMIZ1</th>\n",
       "      <th>ZMYM2</th>\n",
       "      <th>ZNF131</th>\n",
       "      <th>ZNF274</th>\n",
       "      <th>ZNF318</th>\n",
       "      <th>ZNF395</th>\n",
       "      <th>ZNF451</th>\n",
       "      <th>ZNF586</th>\n",
       "      <th>ZNF589</th>\n",
       "      <th>ZW10</th>\n",
       "    </tr>\n",
       "  </thead>\n",
       "  <tbody>\n",
       "    <tr>\n",
       "      <th>0</th>\n",
       "      <td>22RV1</td>\n",
       "      <td>8.31</td>\n",
       "      <td>7.17</td>\n",
       "      <td>4.12</td>\n",
       "      <td>5.64</td>\n",
       "      <td>6.04</td>\n",
       "      <td>3.94</td>\n",
       "      <td>2.08</td>\n",
       "      <td>5.24</td>\n",
       "      <td>5.23</td>\n",
       "      <td>...</td>\n",
       "      <td>3.22</td>\n",
       "      <td>4.85</td>\n",
       "      <td>4.46</td>\n",
       "      <td>3.98</td>\n",
       "      <td>4.77</td>\n",
       "      <td>1.58</td>\n",
       "      <td>3.90</td>\n",
       "      <td>4.19</td>\n",
       "      <td>3.88</td>\n",
       "      <td>5.37</td>\n",
       "    </tr>\n",
       "    <tr>\n",
       "      <th>1</th>\n",
       "      <td>42MGBA</td>\n",
       "      <td>7.84</td>\n",
       "      <td>6.72</td>\n",
       "      <td>3.09</td>\n",
       "      <td>6.92</td>\n",
       "      <td>5.43</td>\n",
       "      <td>5.38</td>\n",
       "      <td>3.99</td>\n",
       "      <td>5.85</td>\n",
       "      <td>5.17</td>\n",
       "      <td>...</td>\n",
       "      <td>5.48</td>\n",
       "      <td>3.04</td>\n",
       "      <td>4.95</td>\n",
       "      <td>4.79</td>\n",
       "      <td>3.52</td>\n",
       "      <td>1.24</td>\n",
       "      <td>3.08</td>\n",
       "      <td>2.44</td>\n",
       "      <td>2.10</td>\n",
       "      <td>5.65</td>\n",
       "    </tr>\n",
       "  </tbody>\n",
       "</table>\n",
       "<p>2 rows × 943 columns</p>\n",
       "</div>"
      ],
      "text/plain": [
       "     CELL  AARS  ABCB6  ABCC5  ABCF1  ABCF3  ABHD4  ABHD6  ABL1  ACAA1  ...   \\\n",
       "0   22RV1  8.31   7.17   4.12   5.64   6.04   3.94   2.08  5.24   5.23  ...    \n",
       "1  42MGBA  7.84   6.72   3.09   6.92   5.43   5.38   3.99  5.85   5.17  ...    \n",
       "\n",
       "   ZMIZ1  ZMYM2  ZNF131  ZNF274  ZNF318  ZNF395  ZNF451  ZNF586  ZNF589  ZW10  \n",
       "0   3.22   4.85    4.46    3.98    4.77    1.58    3.90    4.19    3.88  5.37  \n",
       "1   5.48   3.04    4.95    4.79    3.52    1.24    3.08    2.44    2.10  5.65  \n",
       "\n",
       "[2 rows x 943 columns]"
      ]
     },
     "execution_count": 60,
     "metadata": {},
     "output_type": "execute_result"
    }
   ],
   "source": [
    "dfp = pd.merge(dfp, rsp[['CELL']].drop_duplicates(), on='CELL', how='inner')\n",
    "print(dfp.shape)\n",
    "dfp[:2]"
   ]
  },
  {
   "cell_type": "code",
   "execution_count": 62,
   "metadata": {},
   "outputs": [
    {
     "name": "stdout",
     "output_type": "stream",
     "text": [
      "474\n",
      "(10971, 943)\n"
     ]
    },
    {
     "data": {
      "text/html": [
       "<div>\n",
       "<style scoped>\n",
       "    .dataframe tbody tr th:only-of-type {\n",
       "        vertical-align: middle;\n",
       "    }\n",
       "\n",
       "    .dataframe tbody tr th {\n",
       "        vertical-align: top;\n",
       "    }\n",
       "\n",
       "    .dataframe thead th {\n",
       "        text-align: right;\n",
       "    }\n",
       "</style>\n",
       "<table border=\"1\" class=\"dataframe\">\n",
       "  <thead>\n",
       "    <tr style=\"text-align: right;\">\n",
       "      <th></th>\n",
       "      <th>CELL</th>\n",
       "      <th>AARS</th>\n",
       "      <th>ABCB6</th>\n",
       "      <th>ABCC5</th>\n",
       "      <th>ABCF1</th>\n",
       "      <th>ABCF3</th>\n",
       "      <th>ABHD4</th>\n",
       "      <th>ABHD6</th>\n",
       "      <th>ABL1</th>\n",
       "      <th>ACAA1</th>\n",
       "      <th>...</th>\n",
       "      <th>ZMIZ1</th>\n",
       "      <th>ZMYM2</th>\n",
       "      <th>ZNF131</th>\n",
       "      <th>ZNF274</th>\n",
       "      <th>ZNF318</th>\n",
       "      <th>ZNF395</th>\n",
       "      <th>ZNF451</th>\n",
       "      <th>ZNF586</th>\n",
       "      <th>ZNF589</th>\n",
       "      <th>ZW10</th>\n",
       "    </tr>\n",
       "  </thead>\n",
       "  <tbody>\n",
       "    <tr>\n",
       "      <th>0</th>\n",
       "      <td>22RV1</td>\n",
       "      <td>8.31</td>\n",
       "      <td>7.17</td>\n",
       "      <td>4.12</td>\n",
       "      <td>5.64</td>\n",
       "      <td>6.04</td>\n",
       "      <td>3.94</td>\n",
       "      <td>2.08</td>\n",
       "      <td>5.24</td>\n",
       "      <td>5.23</td>\n",
       "      <td>...</td>\n",
       "      <td>3.22</td>\n",
       "      <td>4.85</td>\n",
       "      <td>4.46</td>\n",
       "      <td>3.98</td>\n",
       "      <td>4.77</td>\n",
       "      <td>1.58</td>\n",
       "      <td>3.9</td>\n",
       "      <td>4.19</td>\n",
       "      <td>3.88</td>\n",
       "      <td>5.37</td>\n",
       "    </tr>\n",
       "    <tr>\n",
       "      <th>1</th>\n",
       "      <td>22RV1</td>\n",
       "      <td>8.31</td>\n",
       "      <td>7.17</td>\n",
       "      <td>4.12</td>\n",
       "      <td>5.64</td>\n",
       "      <td>6.04</td>\n",
       "      <td>3.94</td>\n",
       "      <td>2.08</td>\n",
       "      <td>5.24</td>\n",
       "      <td>5.23</td>\n",
       "      <td>...</td>\n",
       "      <td>3.22</td>\n",
       "      <td>4.85</td>\n",
       "      <td>4.46</td>\n",
       "      <td>3.98</td>\n",
       "      <td>4.77</td>\n",
       "      <td>1.58</td>\n",
       "      <td>3.9</td>\n",
       "      <td>4.19</td>\n",
       "      <td>3.88</td>\n",
       "      <td>5.37</td>\n",
       "    </tr>\n",
       "  </tbody>\n",
       "</table>\n",
       "<p>2 rows × 943 columns</p>\n",
       "</div>"
      ],
      "text/plain": [
       "    CELL  AARS  ABCB6  ABCC5  ABCF1  ABCF3  ABHD4  ABHD6  ABL1  ACAA1  ...   \\\n",
       "0  22RV1  8.31   7.17   4.12   5.64   6.04   3.94   2.08  5.24   5.23  ...    \n",
       "1  22RV1  8.31   7.17   4.12   5.64   6.04   3.94   2.08  5.24   5.23  ...    \n",
       "\n",
       "   ZMIZ1  ZMYM2  ZNF131  ZNF274  ZNF318  ZNF395  ZNF451  ZNF586  ZNF589  ZW10  \n",
       "0   3.22   4.85    4.46    3.98    4.77    1.58     3.9    4.19    3.88  5.37  \n",
       "1   3.22   4.85    4.46    3.98    4.77    1.58     3.9    4.19    3.88  5.37  \n",
       "\n",
       "[2 rows x 943 columns]"
      ]
     },
     "execution_count": 62,
     "metadata": {},
     "output_type": "execute_result"
    }
   ],
   "source": [
    "rsp = pd.merge(rsp[['CELL']], dfp, on='CELL', how='inner')\n",
    "print(rsp.CELL.nunique())\n",
    "print(rsp.shape)\n",
    "rsp[:2]"
   ]
  },
  {
   "cell_type": "code",
   "execution_count": 64,
   "metadata": {},
   "outputs": [
    {
     "name": "stdout",
     "output_type": "stream",
     "text": [
      "(472, 979)\n"
     ]
    },
    {
     "data": {
      "text/html": [
       "<div>\n",
       "<style scoped>\n",
       "    .dataframe tbody tr th:only-of-type {\n",
       "        vertical-align: middle;\n",
       "    }\n",
       "\n",
       "    .dataframe tbody tr th {\n",
       "        vertical-align: top;\n",
       "    }\n",
       "\n",
       "    .dataframe thead th {\n",
       "        text-align: right;\n",
       "    }\n",
       "</style>\n",
       "<table border=\"1\" class=\"dataframe\">\n",
       "  <thead>\n",
       "    <tr style=\"text-align: right;\">\n",
       "      <th></th>\n",
       "      <th>CELL</th>\n",
       "      <th>ENSG00000198804</th>\n",
       "      <th>ENSG00000198712</th>\n",
       "      <th>ENSG00000156508</th>\n",
       "      <th>ENSG00000111640</th>\n",
       "      <th>ENSG00000198763</th>\n",
       "      <th>ENSG00000075624</th>\n",
       "      <th>ENSG00000198727</th>\n",
       "      <th>ENSG00000198786</th>\n",
       "      <th>ENSG00000096384</th>\n",
       "      <th>...</th>\n",
       "      <th>ENSG00000100632</th>\n",
       "      <th>ENSG00000123505</th>\n",
       "      <th>ENSG00000148358</th>\n",
       "      <th>ENSG00000162923</th>\n",
       "      <th>ENSG00000171603</th>\n",
       "      <th>ENSG00000136261</th>\n",
       "      <th>ENSG00000133872</th>\n",
       "      <th>ENSG00000086232</th>\n",
       "      <th>ENSG00000100804</th>\n",
       "      <th>ENSG00000183207</th>\n",
       "    </tr>\n",
       "  </thead>\n",
       "  <tbody>\n",
       "    <tr>\n",
       "      <th>0</th>\n",
       "      <td>22RV1</td>\n",
       "      <td>20.788581</td>\n",
       "      <td>19.751415</td>\n",
       "      <td>19.013754</td>\n",
       "      <td>18.593386</td>\n",
       "      <td>18.984787</td>\n",
       "      <td>17.933823</td>\n",
       "      <td>19.312850</td>\n",
       "      <td>18.962841</td>\n",
       "      <td>17.656763</td>\n",
       "      <td>...</td>\n",
       "      <td>11.123309</td>\n",
       "      <td>16.645011</td>\n",
       "      <td>12.902036</td>\n",
       "      <td>12.209317</td>\n",
       "      <td>13.273013</td>\n",
       "      <td>13.372718</td>\n",
       "      <td>13.709679</td>\n",
       "      <td>13.470386</td>\n",
       "      <td>12.568330</td>\n",
       "      <td>12.156382</td>\n",
       "    </tr>\n",
       "    <tr>\n",
       "      <th>1</th>\n",
       "      <td>42MGBA</td>\n",
       "      <td>19.169135</td>\n",
       "      <td>19.516331</td>\n",
       "      <td>19.040697</td>\n",
       "      <td>19.163827</td>\n",
       "      <td>18.326890</td>\n",
       "      <td>19.660023</td>\n",
       "      <td>18.419892</td>\n",
       "      <td>18.065109</td>\n",
       "      <td>17.675745</td>\n",
       "      <td>...</td>\n",
       "      <td>12.826239</td>\n",
       "      <td>13.911053</td>\n",
       "      <td>11.845961</td>\n",
       "      <td>10.969848</td>\n",
       "      <td>12.838236</td>\n",
       "      <td>13.463158</td>\n",
       "      <td>13.129023</td>\n",
       "      <td>12.502801</td>\n",
       "      <td>13.856113</td>\n",
       "      <td>13.324501</td>\n",
       "    </tr>\n",
       "  </tbody>\n",
       "</table>\n",
       "<p>2 rows × 979 columns</p>\n",
       "</div>"
      ],
      "text/plain": [
       "     CELL  ENSG00000198804  ENSG00000198712  ENSG00000156508  ENSG00000111640  \\\n",
       "0   22RV1        20.788581        19.751415        19.013754        18.593386   \n",
       "1  42MGBA        19.169135        19.516331        19.040697        19.163827   \n",
       "\n",
       "   ENSG00000198763  ENSG00000075624  ENSG00000198727  ENSG00000198786  \\\n",
       "0        18.984787        17.933823        19.312850        18.962841   \n",
       "1        18.326890        19.660023        18.419892        18.065109   \n",
       "\n",
       "   ENSG00000096384       ...         ENSG00000100632  ENSG00000123505  \\\n",
       "0        17.656763       ...               11.123309        16.645011   \n",
       "1        17.675745       ...               12.826239        13.911053   \n",
       "\n",
       "   ENSG00000148358  ENSG00000162923  ENSG00000171603  ENSG00000136261  \\\n",
       "0        12.902036        12.209317        13.273013        13.372718   \n",
       "1        11.845961        10.969848        12.838236        13.463158   \n",
       "\n",
       "   ENSG00000133872  ENSG00000086232  ENSG00000100804  ENSG00000183207  \n",
       "0        13.709679        13.470386        12.568330        12.156382  \n",
       "1        13.129023        12.502801        13.856113        13.324501  \n",
       "\n",
       "[2 rows x 979 columns]"
      ]
     },
     "execution_count": 64,
     "metadata": {},
     "output_type": "execute_result"
    }
   ],
   "source": [
    "dfr = pd.read_csv(os.path.join(file_path, 'ccle_preproc/qdata_ccle_vsd.txt'), sep='\\t')\n",
    "dfr.columns = [c.split('_')[0] for c in dfr.columns]\n",
    "dfr = dfr[sorted(dfr.columns)]\n",
    "dfr = dfr.T.reset_index().rename(columns={'index': 'CELL'})\n",
    "print(dfr.shape)\n",
    "dfr[:2]"
   ]
  },
  {
   "cell_type": "code",
   "execution_count": null,
   "metadata": {},
   "outputs": [],
   "source": []
  },
  {
   "cell_type": "code",
   "execution_count": 65,
   "metadata": {},
   "outputs": [
    {
     "name": "stdout",
     "output_type": "stream",
     "text": [
      "(474, 943)\n",
      "(472, 979)\n"
     ]
    }
   ],
   "source": [
    "print(dfp.shape)\n",
    "print(dfr.shape)"
   ]
  },
  {
   "cell_type": "code",
   "execution_count": 68,
   "metadata": {},
   "outputs": [
    {
     "name": "stdout",
     "output_type": "stream",
     "text": [
      "{'HS840T', 'HS895T', 'HS739T', 'RKN', 'HS229T'}\n",
      "{'COLO699', 'COV504', 'OC316'}\n"
     ]
    }
   ],
   "source": [
    "print(set(dfp.CELL.tolist()).difference(set(dfr.CELL.tolist())))\n",
    "print(set(dfr.CELL.tolist()).difference(set(dfp.CELL.tolist())))"
   ]
  },
  {
   "cell_type": "code",
   "execution_count": 70,
   "metadata": {},
   "outputs": [
    {
     "data": {
      "text/plain": [
       "1"
      ]
     },
     "execution_count": 70,
     "metadata": {},
     "output_type": "execute_result"
    }
   ],
   "source": [
    "(dfp.CELL=='HS840T').sum()"
   ]
  },
  {
   "cell_type": "code",
   "execution_count": null,
   "metadata": {},
   "outputs": [],
   "source": []
  },
  {
   "cell_type": "code",
   "execution_count": null,
   "metadata": {},
   "outputs": [],
   "source": []
  },
  {
   "cell_type": "markdown",
   "metadata": {},
   "source": [
    "# EDA"
   ]
  },
  {
   "cell_type": "code",
   "execution_count": 171,
   "metadata": {},
   "outputs": [
    {
     "name": "stdout",
     "output_type": "stream",
     "text": [
      "(4484081, 6)\n"
     ]
    },
    {
     "data": {
      "text/html": [
       "<div>\n",
       "<style scoped>\n",
       "    .dataframe tbody tr th:only-of-type {\n",
       "        vertical-align: middle;\n",
       "    }\n",
       "\n",
       "    .dataframe tbody tr th {\n",
       "        vertical-align: top;\n",
       "    }\n",
       "\n",
       "    .dataframe thead th {\n",
       "        text-align: right;\n",
       "    }\n",
       "</style>\n",
       "<table border=\"1\" class=\"dataframe\">\n",
       "  <thead>\n",
       "    <tr style=\"text-align: right;\">\n",
       "      <th></th>\n",
       "      <th>SOURCE</th>\n",
       "      <th>CELL</th>\n",
       "      <th>DRUG</th>\n",
       "      <th>AUC</th>\n",
       "      <th>AUC1</th>\n",
       "      <th>IC50</th>\n",
       "    </tr>\n",
       "  </thead>\n",
       "  <tbody>\n",
       "    <tr>\n",
       "      <th>0</th>\n",
       "      <td>CCLE</td>\n",
       "      <td>CCLE.1321N1</td>\n",
       "      <td>CCLE.1</td>\n",
       "      <td>0.8330</td>\n",
       "      <td>0.8983</td>\n",
       "      <td>4.883</td>\n",
       "    </tr>\n",
       "    <tr>\n",
       "      <th>1</th>\n",
       "      <td>CCLE</td>\n",
       "      <td>CCLE.1321N1</td>\n",
       "      <td>CCLE.10</td>\n",
       "      <td>0.7909</td>\n",
       "      <td>0.8864</td>\n",
       "      <td>5.217</td>\n",
       "    </tr>\n",
       "  </tbody>\n",
       "</table>\n",
       "</div>"
      ],
      "text/plain": [
       "  SOURCE         CELL     DRUG     AUC    AUC1   IC50\n",
       "0   CCLE  CCLE.1321N1   CCLE.1  0.8330  0.8983  4.883\n",
       "1   CCLE  CCLE.1321N1  CCLE.10  0.7909  0.8864  5.217"
      ]
     },
     "execution_count": 171,
     "metadata": {},
     "output_type": "execute_result"
    }
   ],
   "source": [
    "rsp = pd.read_csv(os.path.join(DATADIR, 'combined_single_response_agg'), sep='\\t')\n",
    "rsp = rsp[['SOURCE', 'CELL', 'DRUG', 'AUC', 'AUC1', 'IC50']]\n",
    "print(rsp.shape)\n",
    "rsp[:2]"
   ]
  },
  {
   "cell_type": "code",
   "execution_count": 172,
   "metadata": {},
   "outputs": [
    {
     "data": {
      "text/html": [
       "<div>\n",
       "<style scoped>\n",
       "    .dataframe tbody tr th:only-of-type {\n",
       "        vertical-align: middle;\n",
       "    }\n",
       "\n",
       "    .dataframe tbody tr th {\n",
       "        vertical-align: top;\n",
       "    }\n",
       "\n",
       "    .dataframe thead th {\n",
       "        text-align: right;\n",
       "    }\n",
       "</style>\n",
       "<table border=\"1\" class=\"dataframe\">\n",
       "  <thead>\n",
       "    <tr style=\"text-align: right;\">\n",
       "      <th></th>\n",
       "      <th>SOURCE</th>\n",
       "      <th>CELL</th>\n",
       "    </tr>\n",
       "  </thead>\n",
       "  <tbody>\n",
       "    <tr>\n",
       "      <th>0</th>\n",
       "      <td>CCLE</td>\n",
       "      <td>504</td>\n",
       "    </tr>\n",
       "    <tr>\n",
       "      <th>1</th>\n",
       "      <td>CTRP</td>\n",
       "      <td>887</td>\n",
       "    </tr>\n",
       "    <tr>\n",
       "      <th>2</th>\n",
       "      <td>GDSC</td>\n",
       "      <td>1075</td>\n",
       "    </tr>\n",
       "    <tr>\n",
       "      <th>3</th>\n",
       "      <td>NCI60</td>\n",
       "      <td>59</td>\n",
       "    </tr>\n",
       "    <tr>\n",
       "      <th>4</th>\n",
       "      <td>SCL</td>\n",
       "      <td>65</td>\n",
       "    </tr>\n",
       "    <tr>\n",
       "      <th>5</th>\n",
       "      <td>SCLC</td>\n",
       "      <td>70</td>\n",
       "    </tr>\n",
       "    <tr>\n",
       "      <th>6</th>\n",
       "      <td>gCSI</td>\n",
       "      <td>409</td>\n",
       "    </tr>\n",
       "  </tbody>\n",
       "</table>\n",
       "</div>"
      ],
      "text/plain": [
       "  SOURCE  CELL\n",
       "0   CCLE   504\n",
       "1   CTRP   887\n",
       "2   GDSC  1075\n",
       "3  NCI60    59\n",
       "4    SCL    65\n",
       "5   SCLC    70\n",
       "6   gCSI   409"
      ]
     },
     "execution_count": 172,
     "metadata": {},
     "output_type": "execute_result"
    }
   ],
   "source": [
    "rsp.groupby('SOURCE').agg({'CELL': 'nunique'}).reset_index()"
   ]
  },
  {
   "cell_type": "code",
   "execution_count": 173,
   "metadata": {},
   "outputs": [
    {
     "name": "stdout",
     "output_type": "stream",
     "text": [
      "(846, 7)\n"
     ]
    },
    {
     "data": {
      "text/html": [
       "<div>\n",
       "<style scoped>\n",
       "    .dataframe tbody tr th:only-of-type {\n",
       "        vertical-align: middle;\n",
       "    }\n",
       "\n",
       "    .dataframe tbody tr th {\n",
       "        vertical-align: top;\n",
       "    }\n",
       "\n",
       "    .dataframe thead th {\n",
       "        text-align: right;\n",
       "    }\n",
       "</style>\n",
       "<table border=\"1\" class=\"dataframe\">\n",
       "  <thead>\n",
       "    <tr style=\"text-align: right;\">\n",
       "      <th></th>\n",
       "      <th>DRUG</th>\n",
       "      <th>NAME</th>\n",
       "      <th>CLEAN_NAME</th>\n",
       "      <th>SMILES</th>\n",
       "      <th>INCHIKEY</th>\n",
       "      <th>PUBCHEM</th>\n",
       "      <th>SOURCE</th>\n",
       "    </tr>\n",
       "  </thead>\n",
       "  <tbody>\n",
       "    <tr>\n",
       "      <th>0</th>\n",
       "      <td>CCLE.1</td>\n",
       "      <td>AEW541</td>\n",
       "      <td>AEW541</td>\n",
       "      <td>C1CN(C1)CC2CC(C2)N3C=C(C4=C3N=CN=C4N)C5=CC(=CC...</td>\n",
       "      <td>AECDBHGVIIRMOI-UHFFFAOYSA-N</td>\n",
       "      <td>PubChem.CID.11476171</td>\n",
       "      <td>CCLE</td>\n",
       "    </tr>\n",
       "    <tr>\n",
       "      <th>1</th>\n",
       "      <td>CCLE.10</td>\n",
       "      <td>ZD-6474</td>\n",
       "      <td>ZD6474</td>\n",
       "      <td>CN1CCC(CC1)COC2=C(C=C3C(=C2)N=CN=C3NC4=C(C=C(C...</td>\n",
       "      <td>UHTHHESEBZOYNR-UHFFFAOYSA-N</td>\n",
       "      <td>PubChem.CID.3081361</td>\n",
       "      <td>CCLE</td>\n",
       "    </tr>\n",
       "  </tbody>\n",
       "</table>\n",
       "</div>"
      ],
      "text/plain": [
       "      DRUG     NAME CLEAN_NAME  \\\n",
       "0   CCLE.1   AEW541     AEW541   \n",
       "1  CCLE.10  ZD-6474     ZD6474   \n",
       "\n",
       "                                              SMILES  \\\n",
       "0  C1CN(C1)CC2CC(C2)N3C=C(C4=C3N=CN=C4N)C5=CC(=CC...   \n",
       "1  CN1CCC(CC1)COC2=C(C=C3C(=C2)N=CN=C3NC4=C(C=C(C...   \n",
       "\n",
       "                      INCHIKEY               PUBCHEM SOURCE  \n",
       "0  AECDBHGVIIRMOI-UHFFFAOYSA-N  PubChem.CID.11476171   CCLE  \n",
       "1  UHTHHESEBZOYNR-UHFFFAOYSA-N   PubChem.CID.3081361   CCLE  "
      ]
     },
     "execution_count": 173,
     "metadata": {},
     "output_type": "execute_result"
    }
   ],
   "source": [
    "# load_drug_info()\n",
    "path = os.path.join(DATADIR, 'drug_info')\n",
    "df_info = pd.read_table(path, dtype=object)\n",
    "df_info['PUBCHEM'] = 'PubChem.CID.' + df_info['PUBCHEM']\n",
    "df_info['Drug'] = df_info['PUBCHEM']\n",
    "print(df_info.shape)\n",
    "\n",
    "df_info['SOURCE'] = df_info['ID'].map(lambda x: x.split('.')[0])  # (ap)\n",
    "df_info.drop(columns=['Drug'], inplace=True)\n",
    "df_info.rename(columns={'ID': 'DRUG'}, inplace=True)\n",
    "\n",
    "df_info[:2]"
   ]
  },
  {
   "cell_type": "code",
   "execution_count": 174,
   "metadata": {},
   "outputs": [
    {
     "data": {
      "text/html": [
       "<div>\n",
       "<style scoped>\n",
       "    .dataframe tbody tr th:only-of-type {\n",
       "        vertical-align: middle;\n",
       "    }\n",
       "\n",
       "    .dataframe tbody tr th {\n",
       "        vertical-align: top;\n",
       "    }\n",
       "\n",
       "    .dataframe thead th {\n",
       "        text-align: right;\n",
       "    }\n",
       "</style>\n",
       "<table border=\"1\" class=\"dataframe\">\n",
       "  <thead>\n",
       "    <tr style=\"text-align: right;\">\n",
       "      <th></th>\n",
       "      <th>SOURCE</th>\n",
       "      <th>DRUG</th>\n",
       "    </tr>\n",
       "  </thead>\n",
       "  <tbody>\n",
       "    <tr>\n",
       "      <th>0</th>\n",
       "      <td>CCLE</td>\n",
       "      <td>24</td>\n",
       "    </tr>\n",
       "    <tr>\n",
       "      <th>1</th>\n",
       "      <td>CTRP</td>\n",
       "      <td>544</td>\n",
       "    </tr>\n",
       "    <tr>\n",
       "      <th>2</th>\n",
       "      <td>GDSC</td>\n",
       "      <td>262</td>\n",
       "    </tr>\n",
       "    <tr>\n",
       "      <th>3</th>\n",
       "      <td>gCSI</td>\n",
       "      <td>16</td>\n",
       "    </tr>\n",
       "  </tbody>\n",
       "</table>\n",
       "</div>"
      ],
      "text/plain": [
       "  SOURCE  DRUG\n",
       "0   CCLE    24\n",
       "1   CTRP   544\n",
       "2   GDSC   262\n",
       "3   gCSI    16"
      ]
     },
     "execution_count": 174,
     "metadata": {},
     "output_type": "execute_result"
    }
   ],
   "source": [
    "df_info.groupby('SOURCE').agg({'DRUG': 'nunique'}).reset_index()"
   ]
  },
  {
   "cell_type": "code",
   "execution_count": 175,
   "metadata": {},
   "outputs": [
    {
     "name": "stdout",
     "output_type": "stream",
     "text": [
      "(846, 3)\n",
      "(4484081, 6)\n"
     ]
    }
   ],
   "source": [
    "print(df_info[['DRUG', 'NAME', 'CLEAN_NAME']].shape)\n",
    "print(rsp.shape)"
   ]
  },
  {
   "cell_type": "code",
   "execution_count": 176,
   "metadata": {},
   "outputs": [
    {
     "name": "stdout",
     "output_type": "stream",
     "text": [
      "(637089, 8)\n"
     ]
    }
   ],
   "source": [
    "rsp = pd.merge(df_info[['DRUG', 'NAME', 'CLEAN_NAME']], rsp, on='DRUG', how='inner')\n",
    "print(rsp.shape)"
   ]
  },
  {
   "cell_type": "code",
   "execution_count": 177,
   "metadata": {},
   "outputs": [
    {
     "data": {
      "text/html": [
       "<div>\n",
       "<style scoped>\n",
       "    .dataframe tbody tr th:only-of-type {\n",
       "        vertical-align: middle;\n",
       "    }\n",
       "\n",
       "    .dataframe tbody tr th {\n",
       "        vertical-align: top;\n",
       "    }\n",
       "\n",
       "    .dataframe thead th {\n",
       "        text-align: right;\n",
       "    }\n",
       "</style>\n",
       "<table border=\"1\" class=\"dataframe\">\n",
       "  <thead>\n",
       "    <tr style=\"text-align: right;\">\n",
       "      <th></th>\n",
       "      <th>SOURCE</th>\n",
       "      <th>DRUG</th>\n",
       "    </tr>\n",
       "  </thead>\n",
       "  <tbody>\n",
       "    <tr>\n",
       "      <th>0</th>\n",
       "      <td>CCLE</td>\n",
       "      <td>24</td>\n",
       "    </tr>\n",
       "    <tr>\n",
       "      <th>1</th>\n",
       "      <td>CTRP</td>\n",
       "      <td>544</td>\n",
       "    </tr>\n",
       "    <tr>\n",
       "      <th>2</th>\n",
       "      <td>GDSC</td>\n",
       "      <td>247</td>\n",
       "    </tr>\n",
       "    <tr>\n",
       "      <th>3</th>\n",
       "      <td>gCSI</td>\n",
       "      <td>16</td>\n",
       "    </tr>\n",
       "  </tbody>\n",
       "</table>\n",
       "</div>"
      ],
      "text/plain": [
       "  SOURCE  DRUG\n",
       "0   CCLE    24\n",
       "1   CTRP   544\n",
       "2   GDSC   247\n",
       "3   gCSI    16"
      ]
     },
     "execution_count": 177,
     "metadata": {},
     "output_type": "execute_result"
    }
   ],
   "source": [
    "rsp.groupby('SOURCE').agg({'DRUG': 'nunique'}).reset_index()"
   ]
  },
  {
   "cell_type": "code",
   "execution_count": null,
   "metadata": {},
   "outputs": [],
   "source": []
  },
  {
   "cell_type": "code",
   "execution_count": 178,
   "metadata": {},
   "outputs": [
    {
     "name": "stdout",
     "output_type": "stream",
     "text": [
      "\n",
      "Dataset: combined_rnaseq_data_lincs1000\n",
      "df_rna (2917, 943)\n",
      "meta   (2917, 20)\n",
      "CCLE     1018\n",
      "CTRP      812\n",
      "GDSC      670\n",
      "gCSI      357\n",
      "NCI60      60\n",
      "Name: Sample, dtype: int64\n"
     ]
    }
   ],
   "source": [
    "df, meta = utils.load_lincs1000(dataset='raw', sources=['ccle', 'ctrp', 'gdsc', 'gcsi', 'nci60'])\n",
    "meta = meta[['Sample', 'source', 'core_str', 'csite', 'ctype', 'simplified_csite', 'simplified_ctype']]\n",
    "meta.rename(columns={'Sample': 'CELL'}, inplace=True)"
   ]
  },
  {
   "cell_type": "code",
   "execution_count": 179,
   "metadata": {},
   "outputs": [
    {
     "data": {
      "text/plain": [
       "CELL                2917\n",
       "source                 5\n",
       "core_str            1039\n",
       "csite                 27\n",
       "ctype                 66\n",
       "simplified_csite      15\n",
       "simplified_ctype      17\n",
       "dtype: int64"
      ]
     },
     "execution_count": 179,
     "metadata": {},
     "output_type": "execute_result"
    }
   ],
   "source": [
    "meta.nunique()"
   ]
  },
  {
   "cell_type": "code",
   "execution_count": 180,
   "metadata": {},
   "outputs": [
    {
     "name": "stdout",
     "output_type": "stream",
     "text": [
      "(519968, 14)\n"
     ]
    },
    {
     "data": {
      "text/html": [
       "<div>\n",
       "<style scoped>\n",
       "    .dataframe tbody tr th:only-of-type {\n",
       "        vertical-align: middle;\n",
       "    }\n",
       "\n",
       "    .dataframe tbody tr th {\n",
       "        vertical-align: top;\n",
       "    }\n",
       "\n",
       "    .dataframe thead th {\n",
       "        text-align: right;\n",
       "    }\n",
       "</style>\n",
       "<table border=\"1\" class=\"dataframe\">\n",
       "  <thead>\n",
       "    <tr style=\"text-align: right;\">\n",
       "      <th></th>\n",
       "      <th>DRUG</th>\n",
       "      <th>NAME</th>\n",
       "      <th>CLEAN_NAME</th>\n",
       "      <th>SOURCE</th>\n",
       "      <th>CELL</th>\n",
       "      <th>AUC</th>\n",
       "      <th>AUC1</th>\n",
       "      <th>IC50</th>\n",
       "      <th>source</th>\n",
       "      <th>core_str</th>\n",
       "      <th>csite</th>\n",
       "      <th>ctype</th>\n",
       "      <th>simplified_csite</th>\n",
       "      <th>simplified_ctype</th>\n",
       "    </tr>\n",
       "  </thead>\n",
       "  <tbody>\n",
       "    <tr>\n",
       "      <th>0</th>\n",
       "      <td>CCLE.1</td>\n",
       "      <td>AEW541</td>\n",
       "      <td>AEW541</td>\n",
       "      <td>CCLE</td>\n",
       "      <td>CCLE.22RV1</td>\n",
       "      <td>0.7153</td>\n",
       "      <td>0.7760</td>\n",
       "      <td>5.66</td>\n",
       "      <td>ccle</td>\n",
       "      <td>22Rv1</td>\n",
       "      <td>prostate</td>\n",
       "      <td>Prostate Adenocarcinoma</td>\n",
       "      <td>prostate</td>\n",
       "      <td>prostate</td>\n",
       "    </tr>\n",
       "    <tr>\n",
       "      <th>1</th>\n",
       "      <td>CCLE.10</td>\n",
       "      <td>ZD-6474</td>\n",
       "      <td>ZD6474</td>\n",
       "      <td>CCLE</td>\n",
       "      <td>CCLE.22RV1</td>\n",
       "      <td>0.9579</td>\n",
       "      <td>0.9541</td>\n",
       "      <td>NaN</td>\n",
       "      <td>ccle</td>\n",
       "      <td>22Rv1</td>\n",
       "      <td>prostate</td>\n",
       "      <td>Prostate Adenocarcinoma</td>\n",
       "      <td>prostate</td>\n",
       "      <td>prostate</td>\n",
       "    </tr>\n",
       "  </tbody>\n",
       "</table>\n",
       "</div>"
      ],
      "text/plain": [
       "      DRUG     NAME CLEAN_NAME SOURCE        CELL     AUC    AUC1  IC50  \\\n",
       "0   CCLE.1   AEW541     AEW541   CCLE  CCLE.22RV1  0.7153  0.7760  5.66   \n",
       "1  CCLE.10  ZD-6474     ZD6474   CCLE  CCLE.22RV1  0.9579  0.9541   NaN   \n",
       "\n",
       "  source core_str     csite                    ctype simplified_csite  \\\n",
       "0   ccle    22Rv1  prostate  Prostate Adenocarcinoma         prostate   \n",
       "1   ccle    22Rv1  prostate  Prostate Adenocarcinoma         prostate   \n",
       "\n",
       "  simplified_ctype  \n",
       "0         prostate  \n",
       "1         prostate  "
      ]
     },
     "execution_count": 180,
     "metadata": {},
     "output_type": "execute_result"
    }
   ],
   "source": [
    "df = pd.merge(rsp, meta, on='CELL', how='inner')\n",
    "print(df.shape)\n",
    "df[:2]"
   ]
  },
  {
   "cell_type": "code",
   "execution_count": 181,
   "metadata": {},
   "outputs": [
    {
     "data": {
      "text/html": [
       "<div>\n",
       "<style scoped>\n",
       "    .dataframe tbody tr th:only-of-type {\n",
       "        vertical-align: middle;\n",
       "    }\n",
       "\n",
       "    .dataframe tbody tr th {\n",
       "        vertical-align: top;\n",
       "    }\n",
       "\n",
       "    .dataframe thead th {\n",
       "        text-align: right;\n",
       "    }\n",
       "</style>\n",
       "<table border=\"1\" class=\"dataframe\">\n",
       "  <thead>\n",
       "    <tr style=\"text-align: right;\">\n",
       "      <th></th>\n",
       "      <th>SOURCE</th>\n",
       "      <th>CELL</th>\n",
       "    </tr>\n",
       "  </thead>\n",
       "  <tbody>\n",
       "    <tr>\n",
       "      <th>0</th>\n",
       "      <td>CCLE</td>\n",
       "      <td>474</td>\n",
       "    </tr>\n",
       "    <tr>\n",
       "      <th>1</th>\n",
       "      <td>CTRP</td>\n",
       "      <td>812</td>\n",
       "    </tr>\n",
       "    <tr>\n",
       "      <th>2</th>\n",
       "      <td>GDSC</td>\n",
       "      <td>670</td>\n",
       "    </tr>\n",
       "    <tr>\n",
       "      <th>3</th>\n",
       "      <td>gCSI</td>\n",
       "      <td>357</td>\n",
       "    </tr>\n",
       "  </tbody>\n",
       "</table>\n",
       "</div>"
      ],
      "text/plain": [
       "  SOURCE  CELL\n",
       "0   CCLE   474\n",
       "1   CTRP   812\n",
       "2   GDSC   670\n",
       "3   gCSI   357"
      ]
     },
     "execution_count": 181,
     "metadata": {},
     "output_type": "execute_result"
    }
   ],
   "source": [
    "df.groupby('SOURCE').agg({'CELL': 'nunique'}).reset_index()"
   ]
  },
  {
   "cell_type": "code",
   "execution_count": null,
   "metadata": {},
   "outputs": [],
   "source": []
  },
  {
   "cell_type": "code",
   "execution_count": null,
   "metadata": {},
   "outputs": [],
   "source": [
    "data = df.groupby(['simplified_ctype', 'DRUG']).agg({})"
   ]
  }
 ],
 "metadata": {
  "kernelspec": {
   "display_name": "Python 3",
   "language": "python",
   "name": "python3"
  },
  "language_info": {
   "codemirror_mode": {
    "name": "ipython",
    "version": 3
   },
   "file_extension": ".py",
   "mimetype": "text/x-python",
   "name": "python",
   "nbconvert_exporter": "python",
   "pygments_lexer": "ipython3",
   "version": "3.6.7"
  }
 },
 "nbformat": 4,
 "nbformat_minor": 2
}
