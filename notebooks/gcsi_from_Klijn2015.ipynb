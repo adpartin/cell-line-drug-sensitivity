{
 "cells": [
  {
   "cell_type": "markdown",
   "metadata": {},
   "source": [
    "# Original gCSI data for Klijn 2015\n",
    "\n",
    "- Cell line annotations:  `'E-MTAB-2706.sdrf.txt'` --> how to map these to our names from combined_rnaseq_data (which the same in pharmacogx)?<br>\n",
    "- Gene annotations:  `'140625_Klijn_geneToTranscript.txt'`<br>\n",
    "- Drug annotations:  ?? <br>\n",
    "\n",
    "RNA-seq dataset size (**ArrayExpress** and **Klijn**): [26094 genes, 675 samples]<br>\n",
    "RNA-seq dataset size (**PharmacoDB**): [22684 genes, 410 samples] --> after removing NA [22684 genes, 322 samples] (only 410 cell lines were screened with drugs; only ~330 cell lines were sequenced)\n",
    "\n",
    "- **PharmacoDB** contains the RPKM values.\n",
    "- The values in the RNA-Seq gene expression tables (Counts, RPKM, VSD) are consistent across **ArrayExpress** and **Klijn**. The difference is in the cell line sample names/identifiers (columns). **ArrayExpress** uses sample names such as *Sample 290* while **Klijn** uses the conventional cell line names such as *NCI-H358* (https://www.ncbi.nlm.nih.gov/biosample/9556749).<br> Note! The https://www.ncbi.nlm.nih.gov/biosample/9556749 provides various identifiers including `BioSample`, `Sample name`, and `SRA`. The cell line name mappings between `ArrayExpress` and `Klijn` are not consistent with the identifiers in the NCBI website. For example: in the gCSI resources, *NCI-H358* is mapped to *Sample 290*. In the NCBI, however, *NCI-H358* is mapped to *Sample 6*."
   ]
  },
  {
   "cell_type": "code",
   "execution_count": 1,
   "metadata": {},
   "outputs": [
    {
     "name": "stderr",
     "output_type": "stream",
     "text": [
      "Using TensorFlow backend.\n"
     ]
    }
   ],
   "source": [
    "%load_ext autoreload\n",
    "%autoreload 2\n",
    "%matplotlib inline\n",
    "\n",
    "import os\n",
    "import sys\n",
    "import numpy as np\n",
    "import pandas as pd\n",
    "import matplotlib.pyplot as plt\n",
    "import seaborn as sns\n",
    "\n",
    "# Utils\n",
    "file_path = os.getcwd()  # os.path.dirname(os.path.relpath(__file__))\n",
    "utils_path = os.path.abspath(os.path.join(file_path, 'utils_py'))\n",
    "sys.path.append(utils_path)\n",
    "import utils_all as utils\n",
    "\n",
    "import warnings\n",
    "warnings.filterwarnings('ignore')\n",
    "\n",
    "SEED=0"
   ]
  },
  {
   "cell_type": "code",
   "execution_count": 2,
   "metadata": {},
   "outputs": [],
   "source": [
    "DATADIR = '/Users/apartin/work/jdacs/cell-line-data/gcsi/klijn_2015/original'"
   ]
  },
  {
   "cell_type": "markdown",
   "metadata": {},
   "source": [
    "## RNA-Seq count data (coding genes)"
   ]
  },
  {
   "cell_type": "code",
   "execution_count": 3,
   "metadata": {},
   "outputs": [
    {
     "name": "stdout",
     "output_type": "stream",
     "text": [
      "(26094, 676)\n",
      "(26094, 676)\n"
     ]
    }
   ],
   "source": [
    "# Klijn\n",
    "datapath = os.path.join(DATADIR, 'Klijn', '140331_countsExport.txt')\n",
    "df_cnt1 = pd.read_csv(datapath, sep='\\t')\n",
    "df_cnt1.rename(columns={'GeneID': 'gene_id'}, inplace=True)\n",
    "print(df_cnt1.shape)\n",
    "\n",
    "# ArrayExpress\n",
    "datapath = os.path.join(DATADIR, 'ArrayExpress/E-MTAB-2706.additional.1', '140625_Klijn_counts_coding.txt')\n",
    "df_cnt2 = pd.read_csv(datapath, sep='\\t')\n",
    "df_cnt2.rename(columns={'geneID': 'gene_id'}, inplace=True)\n",
    "print(df_cnt2.shape)\n",
    "\n",
    "# display(df_cnt1[:2])"
   ]
  },
  {
   "cell_type": "code",
   "execution_count": 4,
   "metadata": {},
   "outputs": [
    {
     "name": "stdout",
     "output_type": "stream",
     "text": [
      "0\n",
      "False\n",
      "['gene_id', 'NCI-H358', 'NCI-H292', 'NCI-H522', 'NCI-H650']\n",
      "['gene_id', 'Sample 290', 'Sample 289', 'Sample 295', 'Sample 297']\n"
     ]
    }
   ],
   "source": [
    "# Consistent in count values\n",
    "print((df_cnt1.values - df_cnt2.values).sum())\n",
    "\n",
    "# Inconsistent in column (sample) names\n",
    "print(df_cnt1.equals(df_cnt2))\n",
    "print(df_cnt1.columns.tolist()[:5])\n",
    "print(df_cnt2.columns.tolist()[:5])"
   ]
  },
  {
   "cell_type": "markdown",
   "metadata": {},
   "source": [
    "## RNA-Seq RPKM data (coding genes)"
   ]
  },
  {
   "cell_type": "code",
   "execution_count": 5,
   "metadata": {},
   "outputs": [
    {
     "name": "stdout",
     "output_type": "stream",
     "text": [
      "(26094, 676)\n",
      "(26094, 676)\n"
     ]
    }
   ],
   "source": [
    "# Klijn\n",
    "datapath = os.path.join(DATADIR, 'Klijn', '140331_RPKMExport.txt')\n",
    "df_rpkm1 = pd.read_csv(datapath, sep='\\t')\n",
    "df_rpkm1.rename(columns={'GeneID': 'gene_id'}, inplace=True)\n",
    "print(df_rpkm1.shape)\n",
    "\n",
    "# ArrayExpress\n",
    "datapath = os.path.join(DATADIR, 'ArrayExpress/E-MTAB-2706.additional.1', '140625_Klijn_RPKM_coding.txt')\n",
    "df_rpkm2 = pd.read_csv(datapath, sep='\\t')\n",
    "df_rpkm2.rename(columns={'geneID': 'gene_id'}, inplace=True)\n",
    "print(df_rpkm2.shape)\n",
    "\n",
    "# display(df_rpkm1[:2])"
   ]
  },
  {
   "cell_type": "code",
   "execution_count": 6,
   "metadata": {},
   "outputs": [
    {
     "name": "stdout",
     "output_type": "stream",
     "text": [
      "0.0\n",
      "False\n",
      "['gene_id', 'NCI-H358', 'NCI-H292', 'NCI-H522', 'NCI-H650']\n",
      "['gene_id', 'Sample 290', 'Sample 289', 'Sample 295', 'Sample 297']\n"
     ]
    }
   ],
   "source": [
    "# Consistent in count values\n",
    "print((df_rpkm1.values - df_rpkm2.values).sum())\n",
    "\n",
    "# Inconsistent in column (sample) names\n",
    "print(df_rpkm1.equals(df_rpkm2))\n",
    "print(df_rpkm1.columns.tolist()[:5])\n",
    "print(df_rpkm2.columns.tolist()[:5])"
   ]
  },
  {
   "cell_type": "markdown",
   "metadata": {},
   "source": [
    "## RNA-Seq VSD (DESeq) data (coding genes)"
   ]
  },
  {
   "cell_type": "code",
   "execution_count": 7,
   "metadata": {},
   "outputs": [
    {
     "name": "stdout",
     "output_type": "stream",
     "text": [
      "(26094, 676)\n",
      "(26094, 676)\n"
     ]
    }
   ],
   "source": [
    "# Klijn\n",
    "datapath = os.path.join(DATADIR, 'Klijn', '140331_VSDexport.txt')\n",
    "df_vsd1 = pd.read_csv(datapath, sep='\\t')\n",
    "df_vsd1.rename(columns={'GeneID': 'gene_id'}, inplace=True)\n",
    "print(df_vsd1.shape)\n",
    "\n",
    "# ArrayExpress\n",
    "datapath = os.path.join(DATADIR, 'ArrayExpress/E-MTAB-2706.additional.2', '140625_Klijn_VSD_coding.txt')\n",
    "df_vsd2 = pd.read_csv(datapath, sep='\\t')\n",
    "df_vsd2.rename(columns={'geneID': 'gene_id'}, inplace=True)\n",
    "print(df_vsd2.shape)\n",
    "\n",
    "# display(df_vsd1[:2])"
   ]
  },
  {
   "cell_type": "code",
   "execution_count": 8,
   "metadata": {},
   "outputs": [
    {
     "name": "stdout",
     "output_type": "stream",
     "text": [
      "0.0\n",
      "False\n",
      "['gene_id', 'NCI-H358', 'NCI-H292', 'NCI-H522', 'NCI-H650']\n",
      "['gene_id', 'Sample 290', 'Sample 289', 'Sample 295', 'Sample 297']\n"
     ]
    }
   ],
   "source": [
    "# Consistent in count values\n",
    "print((df_vsd1.values - df_vsd2.values).sum())\n",
    "\n",
    "# Inconsistent in column (sample) names\n",
    "print(df_vsd1.equals(df_vsd2))\n",
    "print(df_vsd1.columns.tolist()[:5])\n",
    "print(df_vsd2.columns.tolist()[:5])"
   ]
  },
  {
   "cell_type": "code",
   "execution_count": null,
   "metadata": {},
   "outputs": [],
   "source": []
  },
  {
   "cell_type": "markdown",
   "metadata": {},
   "source": [
    "### Sort sample names"
   ]
  },
  {
   "cell_type": "code",
   "execution_count": 9,
   "metadata": {},
   "outputs": [],
   "source": [
    "def sort_sample_names(df):\n",
    "    df = df.set_index('gene_id')\n",
    "    df = df[df.columns[np.argsort(df.columns)]]  \n",
    "    return df"
   ]
  },
  {
   "cell_type": "code",
   "execution_count": 10,
   "metadata": {},
   "outputs": [],
   "source": [
    "df_cnt1 = sort_sample_names(df_cnt1)\n",
    "df_cnt2 = sort_sample_names(df_cnt2)\n",
    "\n",
    "df_rpkm1 = sort_sample_names(df_rpkm1)\n",
    "df_rpkm2 = sort_sample_names(df_rpkm2)\n",
    "\n",
    "df_vsd1 = sort_sample_names(df_vsd1)\n",
    "df_vsd2 = sort_sample_names(df_vsd2)"
   ]
  },
  {
   "cell_type": "code",
   "execution_count": 12,
   "metadata": {},
   "outputs": [
    {
     "data": {
      "text/html": [
       "<div>\n",
       "<style scoped>\n",
       "    .dataframe tbody tr th:only-of-type {\n",
       "        vertical-align: middle;\n",
       "    }\n",
       "\n",
       "    .dataframe tbody tr th {\n",
       "        vertical-align: top;\n",
       "    }\n",
       "\n",
       "    .dataframe thead th {\n",
       "        text-align: right;\n",
       "    }\n",
       "</style>\n",
       "<table border=\"1\" class=\"dataframe\">\n",
       "  <thead>\n",
       "    <tr style=\"text-align: right;\">\n",
       "      <th></th>\n",
       "      <th>143B</th>\n",
       "      <th>23132/87</th>\n",
       "      <th>501A</th>\n",
       "      <th>537 MEL</th>\n",
       "      <th>59M</th>\n",
       "      <th>624 mel</th>\n",
       "      <th>769-P</th>\n",
       "      <th>786-O</th>\n",
       "      <th>888</th>\n",
       "    </tr>\n",
       "    <tr>\n",
       "      <th>gene_id</th>\n",
       "      <th></th>\n",
       "      <th></th>\n",
       "      <th></th>\n",
       "      <th></th>\n",
       "      <th></th>\n",
       "      <th></th>\n",
       "      <th></th>\n",
       "      <th></th>\n",
       "      <th></th>\n",
       "    </tr>\n",
       "  </thead>\n",
       "  <tbody>\n",
       "    <tr>\n",
       "      <th>10</th>\n",
       "      <td>8.765338</td>\n",
       "      <td>9.503171</td>\n",
       "      <td>8.862888</td>\n",
       "      <td>7.992651</td>\n",
       "      <td>7.992651</td>\n",
       "      <td>8.873494</td>\n",
       "      <td>9.035808</td>\n",
       "      <td>8.818618</td>\n",
       "      <td>9.022415</td>\n",
       "    </tr>\n",
       "    <tr>\n",
       "      <th>100</th>\n",
       "      <td>10.654475</td>\n",
       "      <td>10.258306</td>\n",
       "      <td>10.374460</td>\n",
       "      <td>10.605506</td>\n",
       "      <td>10.390509</td>\n",
       "      <td>10.394178</td>\n",
       "      <td>9.942318</td>\n",
       "      <td>10.292453</td>\n",
       "      <td>10.742507</td>\n",
       "    </tr>\n",
       "  </tbody>\n",
       "</table>\n",
       "</div>"
      ],
      "text/plain": [
       "              143B   23132/87       501A    537 MEL        59M    624 mel  \\\n",
       "gene_id                                                                     \n",
       "10        8.765338   9.503171   8.862888   7.992651   7.992651   8.873494   \n",
       "100      10.654475  10.258306  10.374460  10.605506  10.390509  10.394178   \n",
       "\n",
       "            769-P      786-O        888  \n",
       "gene_id                                  \n",
       "10       9.035808   8.818618   9.022415  \n",
       "100      9.942318  10.292453  10.742507  "
      ]
     },
     "execution_count": 12,
     "metadata": {},
     "output_type": "execute_result"
    }
   ],
   "source": [
    "# df_cnt1.columns[:5]\n",
    "df_vsd1.iloc[1:3, 1:10]"
   ]
  },
  {
   "cell_type": "code",
   "execution_count": 13,
   "metadata": {},
   "outputs": [
    {
     "data": {
      "text/html": [
       "<div>\n",
       "<style scoped>\n",
       "    .dataframe tbody tr th:only-of-type {\n",
       "        vertical-align: middle;\n",
       "    }\n",
       "\n",
       "    .dataframe tbody tr th {\n",
       "        vertical-align: top;\n",
       "    }\n",
       "\n",
       "    .dataframe thead th {\n",
       "        text-align: right;\n",
       "    }\n",
       "</style>\n",
       "<table border=\"1\" class=\"dataframe\">\n",
       "  <thead>\n",
       "    <tr style=\"text-align: right;\">\n",
       "      <th></th>\n",
       "      <th>143B</th>\n",
       "      <th>23132/87</th>\n",
       "      <th>501A</th>\n",
       "      <th>537 MEL</th>\n",
       "      <th>59M</th>\n",
       "      <th>624 mel</th>\n",
       "      <th>769-P</th>\n",
       "      <th>786-O</th>\n",
       "      <th>888</th>\n",
       "    </tr>\n",
       "    <tr>\n",
       "      <th>gene_id</th>\n",
       "      <th></th>\n",
       "      <th></th>\n",
       "      <th></th>\n",
       "      <th></th>\n",
       "      <th></th>\n",
       "      <th></th>\n",
       "      <th></th>\n",
       "      <th></th>\n",
       "      <th></th>\n",
       "    </tr>\n",
       "  </thead>\n",
       "  <tbody>\n",
       "    <tr>\n",
       "      <th>10</th>\n",
       "      <td>0.029724</td>\n",
       "      <td>1.015054</td>\n",
       "      <td>0.049337</td>\n",
       "      <td>0.000000</td>\n",
       "      <td>0.000000</td>\n",
       "      <td>0.050882</td>\n",
       "      <td>0.111179</td>\n",
       "      <td>0.036654</td>\n",
       "      <td>0.105182</td>\n",
       "    </tr>\n",
       "    <tr>\n",
       "      <th>100</th>\n",
       "      <td>14.641576</td>\n",
       "      <td>7.786291</td>\n",
       "      <td>9.415679</td>\n",
       "      <td>13.419594</td>\n",
       "      <td>8.221902</td>\n",
       "      <td>9.513701</td>\n",
       "      <td>3.481694</td>\n",
       "      <td>7.583366</td>\n",
       "      <td>15.665344</td>\n",
       "    </tr>\n",
       "  </tbody>\n",
       "</table>\n",
       "</div>"
      ],
      "text/plain": [
       "              143B  23132/87      501A    537 MEL       59M   624 mel  \\\n",
       "gene_id                                                                 \n",
       "10        0.029724  1.015054  0.049337   0.000000  0.000000  0.050882   \n",
       "100      14.641576  7.786291  9.415679  13.419594  8.221902  9.513701   \n",
       "\n",
       "            769-P     786-O        888  \n",
       "gene_id                                 \n",
       "10       0.111179  0.036654   0.105182  \n",
       "100      3.481694  7.583366  15.665344  "
      ]
     },
     "execution_count": 13,
     "metadata": {},
     "output_type": "execute_result"
    }
   ],
   "source": [
    "df_rpkm1.iloc[1:3, 1:10]"
   ]
  },
  {
   "cell_type": "code",
   "execution_count": 14,
   "metadata": {},
   "outputs": [
    {
     "data": {
      "text/html": [
       "<div>\n",
       "<style scoped>\n",
       "    .dataframe tbody tr th:only-of-type {\n",
       "        vertical-align: middle;\n",
       "    }\n",
       "\n",
       "    .dataframe tbody tr th {\n",
       "        vertical-align: top;\n",
       "    }\n",
       "\n",
       "    .dataframe thead th {\n",
       "        text-align: right;\n",
       "    }\n",
       "</style>\n",
       "<table border=\"1\" class=\"dataframe\">\n",
       "  <thead>\n",
       "    <tr style=\"text-align: right;\">\n",
       "      <th></th>\n",
       "      <th>143B</th>\n",
       "      <th>23132/87</th>\n",
       "      <th>501A</th>\n",
       "      <th>537 MEL</th>\n",
       "      <th>59M</th>\n",
       "      <th>624 mel</th>\n",
       "      <th>769-P</th>\n",
       "      <th>786-O</th>\n",
       "      <th>888</th>\n",
       "    </tr>\n",
       "    <tr>\n",
       "      <th>gene_id</th>\n",
       "      <th></th>\n",
       "      <th></th>\n",
       "      <th></th>\n",
       "      <th></th>\n",
       "      <th></th>\n",
       "      <th></th>\n",
       "      <th></th>\n",
       "      <th></th>\n",
       "      <th></th>\n",
       "    </tr>\n",
       "  </thead>\n",
       "  <tbody>\n",
       "    <tr>\n",
       "      <th>10</th>\n",
       "      <td>5</td>\n",
       "      <td>39</td>\n",
       "      <td>1</td>\n",
       "      <td>0</td>\n",
       "      <td>0</td>\n",
       "      <td>2</td>\n",
       "      <td>7</td>\n",
       "      <td>3</td>\n",
       "      <td>4</td>\n",
       "    </tr>\n",
       "    <tr>\n",
       "      <th>100</th>\n",
       "      <td>2865</td>\n",
       "      <td>348</td>\n",
       "      <td>222</td>\n",
       "      <td>528</td>\n",
       "      <td>239</td>\n",
       "      <td>435</td>\n",
       "      <td>255</td>\n",
       "      <td>722</td>\n",
       "      <td>693</td>\n",
       "    </tr>\n",
       "  </tbody>\n",
       "</table>\n",
       "</div>"
      ],
      "text/plain": [
       "         143B  23132/87  501A  537 MEL  59M  624 mel  769-P  786-O  888\n",
       "gene_id                                                                \n",
       "10          5        39     1        0    0        2      7      3    4\n",
       "100      2865       348   222      528  239      435    255    722  693"
      ]
     },
     "execution_count": 14,
     "metadata": {},
     "output_type": "execute_result"
    }
   ],
   "source": [
    "df_cnt1.iloc[1:3, 1:10]"
   ]
  },
  {
   "cell_type": "code",
   "execution_count": null,
   "metadata": {},
   "outputs": [],
   "source": []
  },
  {
   "cell_type": "markdown",
   "metadata": {},
   "source": [
    "## Problem with non-unique mappings btw `gene_name` and `entrez` identifiers"
   ]
  },
  {
   "cell_type": "code",
   "execution_count": 12,
   "metadata": {},
   "outputs": [
    {
     "name": "stdout",
     "output_type": "stream",
     "text": [
      "(26010, 5)\n"
     ]
    },
    {
     "data": {
      "text/html": [
       "<div>\n",
       "<style scoped>\n",
       "    .dataframe tbody tr th:only-of-type {\n",
       "        vertical-align: middle;\n",
       "    }\n",
       "\n",
       "    .dataframe tbody tr th {\n",
       "        vertical-align: top;\n",
       "    }\n",
       "\n",
       "    .dataframe thead th {\n",
       "        text-align: right;\n",
       "    }\n",
       "</style>\n",
       "<table border=\"1\" class=\"dataframe\">\n",
       "  <thead>\n",
       "    <tr style=\"text-align: right;\">\n",
       "      <th></th>\n",
       "      <th>gene_id</th>\n",
       "      <th>transcript_id</th>\n",
       "      <th>gene_name</th>\n",
       "      <th>transcript_name</th>\n",
       "      <th>entrez</th>\n",
       "    </tr>\n",
       "  </thead>\n",
       "  <tbody>\n",
       "    <tr>\n",
       "      <th>0</th>\n",
       "      <td>GeneID:100533182</td>\n",
       "      <td>NR_039978</td>\n",
       "      <td>1/2-SBSRNA4</td>\n",
       "      <td>1/2-SBSRNA4</td>\n",
       "      <td>100533182</td>\n",
       "    </tr>\n",
       "    <tr>\n",
       "      <th>1</th>\n",
       "      <td>GeneID:440345</td>\n",
       "      <td>XM_003403461</td>\n",
       "      <td>61E3.4</td>\n",
       "      <td>61E3.4</td>\n",
       "      <td>440345</td>\n",
       "    </tr>\n",
       "    <tr>\n",
       "      <th>2</th>\n",
       "      <td>GeneID:1</td>\n",
       "      <td>NM_130786</td>\n",
       "      <td>A1BG</td>\n",
       "      <td>A1BG</td>\n",
       "      <td>1</td>\n",
       "    </tr>\n",
       "    <tr>\n",
       "      <th>3</th>\n",
       "      <td>GeneID:503538</td>\n",
       "      <td>NR_015380</td>\n",
       "      <td>A1BG-AS1</td>\n",
       "      <td>A1BG-AS1</td>\n",
       "      <td>503538</td>\n",
       "    </tr>\n",
       "  </tbody>\n",
       "</table>\n",
       "</div>"
      ],
      "text/plain": [
       "            gene_id transcript_id    gene_name transcript_name     entrez\n",
       "0  GeneID:100533182     NR_039978  1/2-SBSRNA4     1/2-SBSRNA4  100533182\n",
       "1     GeneID:440345  XM_003403461       61E3.4          61E3.4     440345\n",
       "2          GeneID:1     NM_130786         A1BG            A1BG          1\n",
       "3     GeneID:503538     NR_015380     A1BG-AS1        A1BG-AS1     503538"
      ]
     },
     "metadata": {},
     "output_type": "display_data"
    },
    {
     "name": "stdout",
     "output_type": "stream",
     "text": [
      "gene_id            26010\n",
      "transcript_id      26010\n",
      "gene_name          26007\n",
      "transcript_name    26007\n",
      "entrez             26010\n",
      "dtype: int64\n"
     ]
    }
   ],
   "source": [
    "datapath = '/Users/apartin/work/jdacs/cell-line-raw-data/gcsi/original/ArrayExpress/E-MTAB-2706.additional.1'\n",
    "df_gene_annot = pd.read_csv(os.path.join(datapath, '140625_Klijn_geneToTranscript.txt'), sep='\\t')\n",
    "df_gene_annot = df_gene_annot.sort_values(by='gene_name').reset_index(drop=True)\n",
    "print(df_gene_annot.shape)\n",
    "display(df_gene_annot[:4])\n",
    "print(df_gene_annot.nunique())\n"
   ]
  },
  {
   "cell_type": "markdown",
   "metadata": {},
   "source": [
    "**Note that there are more genes in the dataframes than in the gene mapping table (??)**<br>\n",
    "In the mappings there are 26010 genes<br>\n",
    "In the dataframes there are 26094 genes<br>"
   ]
  },
  {
   "cell_type": "code",
   "execution_count": 13,
   "metadata": {},
   "outputs": [
    {
     "name": "stdout",
     "output_type": "stream",
     "text": [
      "(26094, 676)\n",
      "(26010, 5)\n"
     ]
    }
   ],
   "source": [
    "print(df_cnt1.shape)\n",
    "print(df_gene_annot.shape)"
   ]
  },
  {
   "cell_type": "markdown",
   "metadata": {},
   "source": [
    "**Keep only those genes that appear in the gene annotations table**<br>\n",
    "Note that the name mappings between **entrez** and **gene_name** is not unique."
   ]
  },
  {
   "cell_type": "code",
   "execution_count": 14,
   "metadata": {},
   "outputs": [
    {
     "name": "stdout",
     "output_type": "stream",
     "text": [
      "entrez       26010\n",
      "gene_name    26007\n",
      "dtype: int64\n"
     ]
    }
   ],
   "source": [
    "df = df_cnt1.copy()\n",
    "to_name = 'gene_name'\n",
    "\n",
    "df = df.rename(columns={'gene_id':'entrez'})\n",
    "df = df_gene_annot[['entrez', to_name]].merge(df, on='entrez', how='left')\n",
    "print(df[['entrez', to_name]].nunique())"
   ]
  },
  {
   "cell_type": "markdown",
   "metadata": {},
   "source": [
    "**Find genes with ambiguous names (gene names that repeat more than once)**"
   ]
  },
  {
   "cell_type": "code",
   "execution_count": 15,
   "metadata": {},
   "outputs": [
    {
     "name": "stdout",
     "output_type": "stream",
     "text": [
      "Genes names that repeat more than once: ['DUX4', 'TTL', 'ZNF605']\n",
      "DUX4      2\n",
      "TTL       2\n",
      "ZNF605    2\n",
      "Name: gene_name, dtype: int64\n"
     ]
    }
   ],
   "source": [
    "rep = df[to_name].value_counts()[df[to_name].value_counts() > 1]\n",
    "print('Genes names that repeat more than once:', rep.index.tolist())\n",
    "print(rep)"
   ]
  },
  {
   "cell_type": "code",
   "execution_count": 16,
   "metadata": {},
   "outputs": [
    {
     "data": {
      "text/html": [
       "<div>\n",
       "<style scoped>\n",
       "    .dataframe tbody tr th:only-of-type {\n",
       "        vertical-align: middle;\n",
       "    }\n",
       "\n",
       "    .dataframe tbody tr th {\n",
       "        vertical-align: top;\n",
       "    }\n",
       "\n",
       "    .dataframe thead th {\n",
       "        text-align: right;\n",
       "    }\n",
       "</style>\n",
       "<table border=\"1\" class=\"dataframe\">\n",
       "  <thead>\n",
       "    <tr style=\"text-align: right;\">\n",
       "      <th></th>\n",
       "      <th>entrez</th>\n",
       "      <th>gene_name</th>\n",
       "    </tr>\n",
       "  </thead>\n",
       "  <tbody>\n",
       "    <tr>\n",
       "      <th>5326</th>\n",
       "      <td>100288687</td>\n",
       "      <td>DUX4</td>\n",
       "    </tr>\n",
       "    <tr>\n",
       "      <th>5327</th>\n",
       "      <td>22947</td>\n",
       "      <td>DUX4</td>\n",
       "    </tr>\n",
       "  </tbody>\n",
       "</table>\n",
       "</div>"
      ],
      "text/plain": [
       "         entrez gene_name\n",
       "5326  100288687      DUX4\n",
       "5327      22947      DUX4"
      ]
     },
     "metadata": {},
     "output_type": "display_data"
    },
    {
     "data": {
      "text/html": [
       "<div>\n",
       "<style scoped>\n",
       "    .dataframe tbody tr th:only-of-type {\n",
       "        vertical-align: middle;\n",
       "    }\n",
       "\n",
       "    .dataframe tbody tr th {\n",
       "        vertical-align: top;\n",
       "    }\n",
       "\n",
       "    .dataframe thead th {\n",
       "        text-align: right;\n",
       "    }\n",
       "</style>\n",
       "<table border=\"1\" class=\"dataframe\">\n",
       "  <thead>\n",
       "    <tr style=\"text-align: right;\">\n",
       "      <th></th>\n",
       "      <th>entrez</th>\n",
       "      <th>gene_name</th>\n",
       "    </tr>\n",
       "  </thead>\n",
       "  <tbody>\n",
       "    <tr>\n",
       "      <th>24260</th>\n",
       "      <td>646982</td>\n",
       "      <td>TTL</td>\n",
       "    </tr>\n",
       "    <tr>\n",
       "      <th>24261</th>\n",
       "      <td>150465</td>\n",
       "      <td>TTL</td>\n",
       "    </tr>\n",
       "  </tbody>\n",
       "</table>\n",
       "</div>"
      ],
      "text/plain": [
       "       entrez gene_name\n",
       "24260  646982       TTL\n",
       "24261  150465       TTL"
      ]
     },
     "metadata": {},
     "output_type": "display_data"
    },
    {
     "data": {
      "text/html": [
       "<div>\n",
       "<style scoped>\n",
       "    .dataframe tbody tr th:only-of-type {\n",
       "        vertical-align: middle;\n",
       "    }\n",
       "\n",
       "    .dataframe tbody tr th {\n",
       "        vertical-align: top;\n",
       "    }\n",
       "\n",
       "    .dataframe thead th {\n",
       "        text-align: right;\n",
       "    }\n",
       "</style>\n",
       "<table border=\"1\" class=\"dataframe\">\n",
       "  <thead>\n",
       "    <tr style=\"text-align: right;\">\n",
       "      <th></th>\n",
       "      <th>entrez</th>\n",
       "      <th>gene_name</th>\n",
       "    </tr>\n",
       "  </thead>\n",
       "  <tbody>\n",
       "    <tr>\n",
       "      <th>25735</th>\n",
       "      <td>90462</td>\n",
       "      <td>ZNF605</td>\n",
       "    </tr>\n",
       "    <tr>\n",
       "      <th>25736</th>\n",
       "      <td>100289635</td>\n",
       "      <td>ZNF605</td>\n",
       "    </tr>\n",
       "  </tbody>\n",
       "</table>\n",
       "</div>"
      ],
      "text/plain": [
       "          entrez gene_name\n",
       "25735      90462    ZNF605\n",
       "25736  100289635    ZNF605"
      ]
     },
     "metadata": {},
     "output_type": "display_data"
    }
   ],
   "source": [
    "for gene_name in rep.index:\n",
    "    display(df.loc[df[to_name]==gene_name, ['entrez', to_name]])"
   ]
  },
  {
   "cell_type": "markdown",
   "metadata": {},
   "source": [
    "There are genes with ambiguous names (repeats more than onces).\n",
    "These are:\n",
    "Gene names:  Gene entrez\n",
    "\n",
    "| Gene name | repeats | entrez           | final entrez | why |\n",
    "| --------- | ------- | ---------------- | ------------ | --- |\n",
    "| ZNF605    | 2       | 90462, 100289635 | 100289635    | 90462 was dropped by NCBI |\n",
    "| DUX4      | 2       | 22947, 100288687 | 100288687    | 22947 is marked as pseudo |\n",
    "| TTL       | 2       | 646982, 150465   | 150465       | 150465 is protein coding |\n",
    "\n",
    "ZNF605:<br>\n",
    "https://www.ncbi.nlm.nih.gov/gene/?term=100289635<br>\n",
    "https://www.ncbi.nlm.nih.gov/gene/?term=90462<br>\n",
    "DUX4:<br>\n",
    "https://www.ncbi.nlm.nih.gov/gene/?term=100288687<br>\n",
    "https://www.ncbi.nlm.nih.gov/gene/?term=22947<br>\n",
    "TTL:<br>\n",
    "https://www.ncbi.nlm.nih.gov/gene/?term=150465<br>\n",
    "https://www.ncbi.nlm.nih.gov/gene/?term=646982<br>"
   ]
  },
  {
   "cell_type": "markdown",
   "metadata": {},
   "source": [
    "We need to drop the following genes based on the entrez label:<br>\n",
    "90462, 22947, 646982"
   ]
  },
  {
   "cell_type": "markdown",
   "metadata": {},
   "source": [
    "### Finally, rename the genes and drop duplicates gene names (based on the analysis above)"
   ]
  },
  {
   "cell_type": "code",
   "execution_count": 17,
   "metadata": {},
   "outputs": [],
   "source": [
    "def rename_genes(df, df_gene_annot, to_name='gene_name'):\n",
    "    \"\"\"\n",
    "    Args:\n",
    "        df : expression df\n",
    "        df_gene_annot : gene name mappings\n",
    "        to_name : gene names will be mapped to the names that appear in the to_name col\n",
    "    \"\"\"\n",
    "    # Map entrez gene names to to_name, while dropping expression for those genes that don't\n",
    "    # appear in the mapping table\n",
    "    df = df.copy()\n",
    "    assert 'gene_id' in df.columns.tolist(), \"col 'gene_id' is not in the input df.\"\n",
    "        \n",
    "    df = df.rename(columns={'gene_id':'entrez'})\n",
    "    df = df_gene_annot[['entrez', to_name]].merge(df, on='entrez', how='left')\n",
    "    # print(df[['entrez', to_name]].nunique())\n",
    "    \n",
    "    # Drop one of the ambiguous genes\n",
    "    entrez_to_drop = [90462, 22947, 646982]\n",
    "    idx = df['entrez'].map(lambda x: False if x in entrez_to_drop else True)\n",
    "    df = df[idx]\n",
    "    # print(df[['entrez', 'gene_name']].nunique())\n",
    "    \n",
    "    # Drop entrez col\n",
    "    df.drop(columns='entrez', inplace=True)\n",
    "    return df"
   ]
  },
  {
   "cell_type": "code",
   "execution_count": 18,
   "metadata": {},
   "outputs": [],
   "source": [
    "df_cnt1 = rename_genes(df=df_cnt1, df_gene_annot=df_gene_annot, to_name='gene_name')\n",
    "df_cnt2 = rename_genes(df=df_cnt2, df_gene_annot=df_gene_annot, to_name='gene_name')\n",
    "\n",
    "df_rpkm1 = rename_genes(df=df_rpkm1, df_gene_annot=df_gene_annot, to_name='gene_name')\n",
    "df_rpkm2 = rename_genes(df=df_rpkm2, df_gene_annot=df_gene_annot, to_name='gene_name')\n",
    "\n",
    "df_vsd1 = rename_genes(df=df_vsd1, df_gene_annot=df_gene_annot, to_name='gene_name')\n",
    "df_vsd2 = rename_genes(df=df_vsd2, df_gene_annot=df_gene_annot, to_name='gene_name')"
   ]
  },
  {
   "cell_type": "code",
   "execution_count": null,
   "metadata": {},
   "outputs": [],
   "source": []
  },
  {
   "cell_type": "markdown",
   "metadata": {},
   "source": [
    "## Other metadata: 'E-MTAB-2706.sdrf.txt'"
   ]
  },
  {
   "cell_type": "code",
   "execution_count": 19,
   "metadata": {},
   "outputs": [
    {
     "name": "stdout",
     "output_type": "stream",
     "text": [
      "(1350, 36)\n"
     ]
    },
    {
     "data": {
      "text/html": [
       "<div>\n",
       "<style scoped>\n",
       "    .dataframe tbody tr th:only-of-type {\n",
       "        vertical-align: middle;\n",
       "    }\n",
       "\n",
       "    .dataframe tbody tr th {\n",
       "        vertical-align: top;\n",
       "    }\n",
       "\n",
       "    .dataframe thead th {\n",
       "        text-align: right;\n",
       "    }\n",
       "</style>\n",
       "<table border=\"1\" class=\"dataframe\">\n",
       "  <thead>\n",
       "    <tr style=\"text-align: right;\">\n",
       "      <th></th>\n",
       "      <th>0</th>\n",
       "      <th>1</th>\n",
       "      <th>2</th>\n",
       "    </tr>\n",
       "  </thead>\n",
       "  <tbody>\n",
       "    <tr>\n",
       "      <th>Source Name</th>\n",
       "      <td>Sample 1</td>\n",
       "      <td>Sample 1</td>\n",
       "      <td>Sample 2</td>\n",
       "    </tr>\n",
       "    <tr>\n",
       "      <th>Comment[ENA_SAMPLE]</th>\n",
       "      <td>ERS395207</td>\n",
       "      <td>ERS395207</td>\n",
       "      <td>ERS395272</td>\n",
       "    </tr>\n",
       "    <tr>\n",
       "      <th>Material Type</th>\n",
       "      <td>cell</td>\n",
       "      <td>cell</td>\n",
       "      <td>cell</td>\n",
       "    </tr>\n",
       "    <tr>\n",
       "      <th>Characteristics[organism]</th>\n",
       "      <td>Homo sapiens</td>\n",
       "      <td>Homo sapiens</td>\n",
       "      <td>Homo sapiens</td>\n",
       "    </tr>\n",
       "    <tr>\n",
       "      <th>Term Source REF</th>\n",
       "      <td>NCBI Taxonomy</td>\n",
       "      <td>NCBI Taxonomy</td>\n",
       "      <td>NCBI Taxonomy</td>\n",
       "    </tr>\n",
       "    <tr>\n",
       "      <th>Term Accession Number</th>\n",
       "      <td>9606</td>\n",
       "      <td>9606</td>\n",
       "      <td>9606</td>\n",
       "    </tr>\n",
       "    <tr>\n",
       "      <th>Characteristics[cell line]</th>\n",
       "      <td>A2780</td>\n",
       "      <td>A2780</td>\n",
       "      <td>COLO 679</td>\n",
       "    </tr>\n",
       "    <tr>\n",
       "      <th>Characteristics[tissue supergroup]</th>\n",
       "      <td>ovary</td>\n",
       "      <td>ovary</td>\n",
       "      <td>skin</td>\n",
       "    </tr>\n",
       "    <tr>\n",
       "      <th>Characteristics[metatastic tissue]</th>\n",
       "      <td>not applicable</td>\n",
       "      <td>not applicable</td>\n",
       "      <td>not applicable</td>\n",
       "    </tr>\n",
       "    <tr>\n",
       "      <th>Characteristics[organism part]</th>\n",
       "      <td>ovary</td>\n",
       "      <td>ovary</td>\n",
       "      <td>skin</td>\n",
       "    </tr>\n",
       "    <tr>\n",
       "      <th>Characteristics[disease]</th>\n",
       "      <td>ovarian carcinoma</td>\n",
       "      <td>ovarian carcinoma</td>\n",
       "      <td>melanoma</td>\n",
       "    </tr>\n",
       "    <tr>\n",
       "      <th>Characteristics[age]</th>\n",
       "      <td>not available</td>\n",
       "      <td>not available</td>\n",
       "      <td>47</td>\n",
       "    </tr>\n",
       "    <tr>\n",
       "      <th>Unit [age unit]</th>\n",
       "      <td></td>\n",
       "      <td></td>\n",
       "      <td>year</td>\n",
       "    </tr>\n",
       "    <tr>\n",
       "      <th>Characteristics[sex]</th>\n",
       "      <td>female</td>\n",
       "      <td>female</td>\n",
       "      <td>female</td>\n",
       "    </tr>\n",
       "    <tr>\n",
       "      <th>Characteristics[ethnicity]</th>\n",
       "      <td>not available</td>\n",
       "      <td>not available</td>\n",
       "      <td>not available</td>\n",
       "    </tr>\n",
       "    <tr>\n",
       "      <th>Characteristics[media]</th>\n",
       "      <td>RPMI-1640, 10% FBS, 2mM L-Glutamine</td>\n",
       "      <td>RPMI-1640, 10% FBS, 2mM L-Glutamine</td>\n",
       "      <td>RPMI-1640, 10% FBS, 2mM L-Glutamine</td>\n",
       "    </tr>\n",
       "    <tr>\n",
       "      <th>Characteristics[freeze media]</th>\n",
       "      <td>Complete Growth Media, 90%; DMSO, 10%</td>\n",
       "      <td>Complete Growth Media, 90%; DMSO, 10%</td>\n",
       "      <td>Complete growth medium, 90%; DMSO, 10%</td>\n",
       "    </tr>\n",
       "    <tr>\n",
       "      <th>Comment[ENA_ALIAS]</th>\n",
       "      <td>586986</td>\n",
       "      <td>586986</td>\n",
       "      <td>586988</td>\n",
       "    </tr>\n",
       "    <tr>\n",
       "      <th>Protocol REF</th>\n",
       "      <td>P-MTAB-39822</td>\n",
       "      <td>P-MTAB-39822</td>\n",
       "      <td>P-MTAB-39822</td>\n",
       "    </tr>\n",
       "    <tr>\n",
       "      <th>Extract Name</th>\n",
       "      <td>ERS395207 extract</td>\n",
       "      <td>ERS395207 extract</td>\n",
       "      <td>ERS395272 extract</td>\n",
       "    </tr>\n",
       "    <tr>\n",
       "      <th>Comment[NOMINAL_LENGTH]</th>\n",
       "      <td>284</td>\n",
       "      <td>284</td>\n",
       "      <td>273</td>\n",
       "    </tr>\n",
       "    <tr>\n",
       "      <th>Comment[LIBRARY_SELECTION]</th>\n",
       "      <td>other</td>\n",
       "      <td>other</td>\n",
       "      <td>other</td>\n",
       "    </tr>\n",
       "    <tr>\n",
       "      <th>Comment[NOMINAL_SDEV]</th>\n",
       "      <td>0</td>\n",
       "      <td>0</td>\n",
       "      <td>0</td>\n",
       "    </tr>\n",
       "    <tr>\n",
       "      <th>Comment[LIBRARY_SOURCE]</th>\n",
       "      <td>TRANSCRIPTOMIC</td>\n",
       "      <td>TRANSCRIPTOMIC</td>\n",
       "      <td>TRANSCRIPTOMIC</td>\n",
       "    </tr>\n",
       "    <tr>\n",
       "      <th>Comment[LIBRARY_STRATEGY]</th>\n",
       "      <td>RNA-Seq</td>\n",
       "      <td>RNA-Seq</td>\n",
       "      <td>RNA-Seq</td>\n",
       "    </tr>\n",
       "    <tr>\n",
       "      <th>Comment[LIBRARY_LAYOUT]</th>\n",
       "      <td>PAIRED</td>\n",
       "      <td>PAIRED</td>\n",
       "      <td>PAIRED</td>\n",
       "    </tr>\n",
       "    <tr>\n",
       "      <th>Protocol REF.1</th>\n",
       "      <td>P-MTAB-39821</td>\n",
       "      <td>P-MTAB-39821</td>\n",
       "      <td>P-MTAB-39821</td>\n",
       "    </tr>\n",
       "    <tr>\n",
       "      <th>Performer</th>\n",
       "      <td>GENENTECH</td>\n",
       "      <td>GENENTECH</td>\n",
       "      <td>GENENTECH</td>\n",
       "    </tr>\n",
       "    <tr>\n",
       "      <th>Assay Name</th>\n",
       "      <td>ERX379670</td>\n",
       "      <td>ERX379670</td>\n",
       "      <td>ERX379735</td>\n",
       "    </tr>\n",
       "    <tr>\n",
       "      <th>Technology Type</th>\n",
       "      <td>sequencing assay</td>\n",
       "      <td>sequencing assay</td>\n",
       "      <td>sequencing assay</td>\n",
       "    </tr>\n",
       "    <tr>\n",
       "      <th>Comment[ENA_EXPERIMENT]</th>\n",
       "      <td>ERX379670</td>\n",
       "      <td>ERX379670</td>\n",
       "      <td>ERX379735</td>\n",
       "    </tr>\n",
       "    <tr>\n",
       "      <th>Scan Name</th>\n",
       "      <td>ERR413365_1</td>\n",
       "      <td>ERR413365_2</td>\n",
       "      <td>ERR413430_1</td>\n",
       "    </tr>\n",
       "    <tr>\n",
       "      <th>Comment[ENA_RUN]</th>\n",
       "      <td>ERR413365</td>\n",
       "      <td>ERR413365</td>\n",
       "      <td>ERR413430</td>\n",
       "    </tr>\n",
       "    <tr>\n",
       "      <th>Factor Value[cell line]</th>\n",
       "      <td>A2780</td>\n",
       "      <td>A2780</td>\n",
       "      <td>COLO 679</td>\n",
       "    </tr>\n",
       "    <tr>\n",
       "      <th>Factor Value[organism part]</th>\n",
       "      <td>ovary</td>\n",
       "      <td>ovary</td>\n",
       "      <td>skin</td>\n",
       "    </tr>\n",
       "    <tr>\n",
       "      <th>Factor Value[disease]</th>\n",
       "      <td>ovarian carcinoma</td>\n",
       "      <td>ovarian carcinoma</td>\n",
       "      <td>melanoma</td>\n",
       "    </tr>\n",
       "  </tbody>\n",
       "</table>\n",
       "</div>"
      ],
      "text/plain": [
       "                                                                        0  \\\n",
       "Source Name                                                      Sample 1   \n",
       "Comment[ENA_SAMPLE]                                             ERS395207   \n",
       "Material Type                                                        cell   \n",
       "Characteristics[organism]                                    Homo sapiens   \n",
       "Term Source REF                                             NCBI Taxonomy   \n",
       "Term Accession Number                                                9606   \n",
       "Characteristics[cell line]                                          A2780   \n",
       "Characteristics[tissue supergroup]                                  ovary   \n",
       "Characteristics[metatastic tissue]                         not applicable   \n",
       "Characteristics[organism part]                                      ovary   \n",
       "Characteristics[disease]                                ovarian carcinoma   \n",
       "Characteristics[age]                                        not available   \n",
       "Unit [age unit]                                                             \n",
       "Characteristics[sex]                                               female   \n",
       "Characteristics[ethnicity]                                  not available   \n",
       "Characteristics[media]                RPMI-1640, 10% FBS, 2mM L-Glutamine   \n",
       "Characteristics[freeze media]       Complete Growth Media, 90%; DMSO, 10%   \n",
       "Comment[ENA_ALIAS]                                                 586986   \n",
       "Protocol REF                                                 P-MTAB-39822   \n",
       "Extract Name                                            ERS395207 extract   \n",
       "Comment[NOMINAL_LENGTH]                                               284   \n",
       "Comment[LIBRARY_SELECTION]                                          other   \n",
       "Comment[NOMINAL_SDEV]                                                   0   \n",
       "Comment[LIBRARY_SOURCE]                                    TRANSCRIPTOMIC   \n",
       "Comment[LIBRARY_STRATEGY]                                         RNA-Seq   \n",
       "Comment[LIBRARY_LAYOUT]                                            PAIRED   \n",
       "Protocol REF.1                                               P-MTAB-39821   \n",
       "Performer                                                       GENENTECH   \n",
       "Assay Name                                                      ERX379670   \n",
       "Technology Type                                          sequencing assay   \n",
       "Comment[ENA_EXPERIMENT]                                         ERX379670   \n",
       "Scan Name                                                     ERR413365_1   \n",
       "Comment[ENA_RUN]                                                ERR413365   \n",
       "Factor Value[cell line]                                             A2780   \n",
       "Factor Value[organism part]                                         ovary   \n",
       "Factor Value[disease]                                   ovarian carcinoma   \n",
       "\n",
       "                                                                        1  \\\n",
       "Source Name                                                      Sample 1   \n",
       "Comment[ENA_SAMPLE]                                             ERS395207   \n",
       "Material Type                                                        cell   \n",
       "Characteristics[organism]                                    Homo sapiens   \n",
       "Term Source REF                                             NCBI Taxonomy   \n",
       "Term Accession Number                                                9606   \n",
       "Characteristics[cell line]                                          A2780   \n",
       "Characteristics[tissue supergroup]                                  ovary   \n",
       "Characteristics[metatastic tissue]                         not applicable   \n",
       "Characteristics[organism part]                                      ovary   \n",
       "Characteristics[disease]                                ovarian carcinoma   \n",
       "Characteristics[age]                                        not available   \n",
       "Unit [age unit]                                                             \n",
       "Characteristics[sex]                                               female   \n",
       "Characteristics[ethnicity]                                  not available   \n",
       "Characteristics[media]                RPMI-1640, 10% FBS, 2mM L-Glutamine   \n",
       "Characteristics[freeze media]       Complete Growth Media, 90%; DMSO, 10%   \n",
       "Comment[ENA_ALIAS]                                                 586986   \n",
       "Protocol REF                                                 P-MTAB-39822   \n",
       "Extract Name                                            ERS395207 extract   \n",
       "Comment[NOMINAL_LENGTH]                                               284   \n",
       "Comment[LIBRARY_SELECTION]                                          other   \n",
       "Comment[NOMINAL_SDEV]                                                   0   \n",
       "Comment[LIBRARY_SOURCE]                                    TRANSCRIPTOMIC   \n",
       "Comment[LIBRARY_STRATEGY]                                         RNA-Seq   \n",
       "Comment[LIBRARY_LAYOUT]                                            PAIRED   \n",
       "Protocol REF.1                                               P-MTAB-39821   \n",
       "Performer                                                       GENENTECH   \n",
       "Assay Name                                                      ERX379670   \n",
       "Technology Type                                          sequencing assay   \n",
       "Comment[ENA_EXPERIMENT]                                         ERX379670   \n",
       "Scan Name                                                     ERR413365_2   \n",
       "Comment[ENA_RUN]                                                ERR413365   \n",
       "Factor Value[cell line]                                             A2780   \n",
       "Factor Value[organism part]                                         ovary   \n",
       "Factor Value[disease]                                   ovarian carcinoma   \n",
       "\n",
       "                                                                         2  \n",
       "Source Name                                                       Sample 2  \n",
       "Comment[ENA_SAMPLE]                                              ERS395272  \n",
       "Material Type                                                         cell  \n",
       "Characteristics[organism]                                     Homo sapiens  \n",
       "Term Source REF                                              NCBI Taxonomy  \n",
       "Term Accession Number                                                 9606  \n",
       "Characteristics[cell line]                                        COLO 679  \n",
       "Characteristics[tissue supergroup]                                    skin  \n",
       "Characteristics[metatastic tissue]                          not applicable  \n",
       "Characteristics[organism part]                                        skin  \n",
       "Characteristics[disease]                                          melanoma  \n",
       "Characteristics[age]                                                    47  \n",
       "Unit [age unit]                                                       year  \n",
       "Characteristics[sex]                                                female  \n",
       "Characteristics[ethnicity]                                   not available  \n",
       "Characteristics[media]                 RPMI-1640, 10% FBS, 2mM L-Glutamine  \n",
       "Characteristics[freeze media]       Complete growth medium, 90%; DMSO, 10%  \n",
       "Comment[ENA_ALIAS]                                                  586988  \n",
       "Protocol REF                                                  P-MTAB-39822  \n",
       "Extract Name                                             ERS395272 extract  \n",
       "Comment[NOMINAL_LENGTH]                                                273  \n",
       "Comment[LIBRARY_SELECTION]                                           other  \n",
       "Comment[NOMINAL_SDEV]                                                    0  \n",
       "Comment[LIBRARY_SOURCE]                                     TRANSCRIPTOMIC  \n",
       "Comment[LIBRARY_STRATEGY]                                          RNA-Seq  \n",
       "Comment[LIBRARY_LAYOUT]                                             PAIRED  \n",
       "Protocol REF.1                                                P-MTAB-39821  \n",
       "Performer                                                        GENENTECH  \n",
       "Assay Name                                                       ERX379735  \n",
       "Technology Type                                           sequencing assay  \n",
       "Comment[ENA_EXPERIMENT]                                          ERX379735  \n",
       "Scan Name                                                      ERR413430_1  \n",
       "Comment[ENA_RUN]                                                 ERR413430  \n",
       "Factor Value[cell line]                                           COLO 679  \n",
       "Factor Value[organism part]                                           skin  \n",
       "Factor Value[disease]                                             melanoma  "
      ]
     },
     "metadata": {},
     "output_type": "display_data"
    }
   ],
   "source": [
    "datapath = os.path.join(DATADIR, 'ArrayExpress', 'E-MTAB-2706.sdrf.txt')\n",
    "df_sdrf = pd.read_csv(datapath, sep='\\t')\n",
    "print(df_sdrf.shape)\n",
    "display(df_sdrf.transpose().iloc[:,:3])\n",
    "# display(df_sdrf)"
   ]
  },
  {
   "cell_type": "code",
   "execution_count": null,
   "metadata": {},
   "outputs": [],
   "source": []
  }
 ],
 "metadata": {
  "kernelspec": {
   "display_name": "Python 3",
   "language": "python",
   "name": "python3"
  },
  "language_info": {
   "codemirror_mode": {
    "name": "ipython",
    "version": 3
   },
   "file_extension": ".py",
   "mimetype": "text/x-python",
   "name": "python",
   "nbconvert_exporter": "python",
   "pygments_lexer": "ipython3",
   "version": "3.7.0"
  }
 },
 "nbformat": 4,
 "nbformat_minor": 2
}
