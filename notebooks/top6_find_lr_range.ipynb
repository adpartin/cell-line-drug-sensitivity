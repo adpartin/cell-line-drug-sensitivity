{
 "cells": [
  {
   "cell_type": "code",
   "execution_count": 28,
   "metadata": {},
   "outputs": [
    {
     "name": "stdout",
     "output_type": "stream",
     "text": [
      "The autoreload extension is already loaded. To reload it, use:\n",
      "  %reload_ext autoreload\n"
     ]
    }
   ],
   "source": [
    "%load_ext autoreload\n",
    "%autoreload 2\n",
    "%matplotlib inline\n",
    "\n",
    "import warnings\n",
    "warnings.filterwarnings('ignore')\n",
    "\n",
    "import os\n",
    "import sys\n",
    "from pathlib import Path\n",
    "import argparse\n",
    "import datetime\n",
    "from time import time\n",
    "from pprint import pprint\n",
    "from glob import glob\n",
    "\n",
    "import sklearn\n",
    "import numpy as np\n",
    "import pandas as pd\n",
    "\n",
    "import matplotlib\n",
    "# matplotlib.use('Agg')\n",
    "import matplotlib.pyplot as plt\n",
    "\n",
    "from sklearn.model_selection import train_test_split\n",
    "from sklearn.model_selection import ShuffleSplit, KFold\n",
    "from sklearn.model_selection import GroupShuffleSplit, GroupKFold\n",
    "from sklearn.model_selection import StratifiedShuffleSplit, StratifiedKFold"
   ]
  },
  {
   "cell_type": "code",
   "execution_count": 4,
   "metadata": {},
   "outputs": [],
   "source": [
    "import tensorflow as tf\n",
    "import keras\n",
    "from keras import backend as K\n",
    "from keras.layers import Input, Dense, Dropout, Activation, BatchNormalization\n",
    "from keras import optimizers\n",
    "from keras.optimizers import SGD, Adam, RMSprop, Adadelta\n",
    "from keras.models import Sequential, Model, model_from_json, model_from_yaml\n",
    "from keras.utils import np_utils, multi_gpu_model\n",
    "from keras.callbacks import ModelCheckpoint, CSVLogger, ReduceLROnPlateau, EarlyStopping, TensorBoard\n",
    "\n",
    "from sklearn.preprocessing import StandardScaler"
   ]
  },
  {
   "cell_type": "code",
   "execution_count": 5,
   "metadata": {},
   "outputs": [],
   "source": [
    "# Import custom callbacks\n",
    "keras_contrib = '/vol/ml/apartin/projects/keras-contrib/keras_contrib'\n",
    "sys.path.append(keras_contrib)\n",
    "from callbacks import *"
   ]
  },
  {
   "cell_type": "code",
   "execution_count": 6,
   "metadata": {},
   "outputs": [],
   "source": [
    "# Custom metrics\n",
    "def r2(y_true, y_pred):\n",
    "    SS_res =  K.sum(K.square(y_true - y_pred))\n",
    "    SS_tot = K.sum(K.square(y_true - K.mean(y_true)))\n",
    "    return (1 - SS_res/(SS_tot + K.epsilon()))"
   ]
  },
  {
   "cell_type": "code",
   "execution_count": 7,
   "metadata": {},
   "outputs": [
    {
     "name": "stdout",
     "output_type": "stream",
     "text": [
      "/vol/ml/apartin/projects/cell-line-drug-sensitivity/notebooks/top6_choose_clr_range\n"
     ]
    }
   ],
   "source": [
    "path = pathlib.Path(os.getcwd())\n",
    "outdir = path/'top6_find_lr_range'\n",
    "\n",
    "print(outdir)\n",
    "os.makedirs(outdir, exist_ok=True)"
   ]
  },
  {
   "cell_type": "code",
   "execution_count": 8,
   "metadata": {},
   "outputs": [],
   "source": [
    "SEED = None\n",
    "attn = False\n",
    "dr_rate = 0.2\n",
    "BATCH = 128"
   ]
  },
  {
   "cell_type": "code",
   "execution_count": 9,
   "metadata": {},
   "outputs": [],
   "source": [
    "dataname = 'df_wrm.parquet'\n",
    "datapath = '../models/candle_challenge_prb/data/split_by_cell/' + dataname"
   ]
  },
  {
   "cell_type": "code",
   "execution_count": 10,
   "metadata": {},
   "outputs": [
    {
     "name": "stdout",
     "output_type": "stream",
     "text": [
      "(140108, 3765)\n"
     ]
    }
   ],
   "source": [
    "df = pd.read_parquet(datapath, engine='auto', columns=None)\n",
    "df = df.sample(frac=1.0, axis=0, random_state=SEED).reset_index(drop=True) # shuffle values\n",
    "col_idx = df.nunique(dropna=True).values == 1  # col indexes to drop\n",
    "df = df.iloc[:, ~col_idx]\n",
    "\n",
    "print(df.shape)"
   ]
  },
  {
   "cell_type": "code",
   "execution_count": 11,
   "metadata": {},
   "outputs": [],
   "source": [
    "dfy, dfx = df.iloc[:, 0], df.iloc[:, 1:];  del df\n",
    "\n",
    "# Scale\n",
    "scaler = StandardScaler()\n",
    "dfx = pd.DataFrame( scaler.fit_transform(dfx) ).astype(np.float32)"
   ]
  },
  {
   "cell_type": "code",
   "execution_count": 12,
   "metadata": {},
   "outputs": [],
   "source": [
    "# xtr, xte, ytr, yte = train_test_split(dfx, dfy)"
   ]
  },
  {
   "cell_type": "code",
   "execution_count": 13,
   "metadata": {},
   "outputs": [
    {
     "name": "stdout",
     "output_type": "stream",
     "text": [
      "Iterations per epoch: 1094\n"
     ]
    }
   ],
   "source": [
    "# EPOCH = 1\n",
    "# iterations = xtr.shape[0] / BATCH\n",
    "iterations = dfx.shape[0] / BATCH\n",
    "print(f'Iterations per epoch: {int(iterations)}')\n",
    "\n",
    "TEST_LR_RANGE_EPOCHS = 3\n",
    "STEP_SIZE = TEST_LR_RANGE_EPOCHS * iterations\n",
    "clr = CyclicLR(base_lr=0.0001, max_lr=0.01, mode='triangular',\n",
    "               step_size=STEP_SIZE)"
   ]
  },
  {
   "cell_type": "code",
   "execution_count": 14,
   "metadata": {},
   "outputs": [],
   "source": [
    "reduce_lr = ReduceLROnPlateau(monitor='val_loss', factor=0.75, patience=20, verbose=1, mode='auto',\n",
    "                              min_delta=0.0001, cooldown=3, min_lr=0.000000001)\n",
    "# early_stop = EarlyStopping(monitor='val_loss', patience=60, verbose=1, mode='auto')\n",
    "# checkpointer = ModelCheckpoint(str(outdir / 'model.wrm.ep_{epoch:d}-val_loss_{val_loss:.5f}.h5'), verbose=0, save_weights_only=False, save_best_only=False)\n",
    "csv_logger = CSVLogger(outdir/'logging.log')\n",
    "\n",
    "callback_list = [csv_logger, clr]"
   ]
  },
  {
   "cell_type": "code",
   "execution_count": 16,
   "metadata": {},
   "outputs": [],
   "source": [
    "# input_dim = xtr.shape[1]\n",
    "input_dim = dfx.shape[1]\n",
    "optimizer = None\n",
    "\n",
    "inputs = Input(shape=(input_dim,))\n",
    "if attn:\n",
    "    a = Dense(1000, activation='relu')(inputs)\n",
    "    b = Dense(1000, activation='softmax')(inputs)\n",
    "    x = keras.layers.multiply( [a, b] )\n",
    "else:\n",
    "    x = Dense(1000, activation='relu')(inputs)\n",
    "\n",
    "x = Dense(1000, activation='relu')(x)\n",
    "x = Dropout(dr_rate)(x)\n",
    "\n",
    "x = Dense(500, activation='relu')(x)\n",
    "x = Dropout(dr_rate)(x)\n",
    "\n",
    "x = Dense(250, activation='relu')(x)\n",
    "x = Dropout(dr_rate)(x)\n",
    "\n",
    "x = Dense(125, activation='relu')(x)\n",
    "x = Dropout(dr_rate)(x)\n",
    "\n",
    "x = Dense(60, activation='relu')(x)\n",
    "x = Dropout(dr_rate)(x)\n",
    "\n",
    "x = Dense(30, activation='relu')(x)\n",
    "x = Dropout(dr_rate)(x)\n",
    "\n",
    "outputs = Dense(1, activation='relu')(x)\n",
    "model = Model(inputs=inputs, outputs=outputs)\n",
    "# model.summary()\n",
    "\n",
    "if optimizer is None:\n",
    "    optimizer = SGD(lr=0.0001, momentum=0.9)\n",
    "\n",
    "model.compile(loss='mean_squared_error',\n",
    "              optimizer=optimizer,\n",
    "              metrics=['mae', r2])"
   ]
  },
  {
   "cell_type": "code",
   "execution_count": 17,
   "metadata": {},
   "outputs": [
    {
     "name": "stdout",
     "output_type": "stream",
     "text": [
      "Train on 126097 samples, validate on 14011 samples\n",
      "Epoch 1/1\n",
      "126097/126097 [==============================] - 36s 282us/step - loss: 0.0375 - mean_absolute_error: 0.1392 - r2: -0.4084 - val_loss: 0.0163 - val_mean_absolute_error: 0.0966 - val_r2: 0.4091\n"
     ]
    },
    {
     "data": {
      "text/plain": [
       "<keras.callbacks.History at 0x7ff9e0a3f400>"
      ]
     },
     "execution_count": 17,
     "metadata": {},
     "output_type": "execute_result"
    }
   ],
   "source": [
    "model.fit(dfx, dfy, validation_split=0.1, callbacks=callback_list)"
   ]
  },
  {
   "cell_type": "code",
   "execution_count": 18,
   "metadata": {},
   "outputs": [
    {
     "name": "stdout",
     "output_type": "stream",
     "text": [
      "dict_keys(['lr', 'iterations', 'batch', 'size', 'loss', 'mean_absolute_error', 'r2'])\n"
     ]
    }
   ],
   "source": [
    "h = clr.history\n",
    "print(h.keys())"
   ]
  },
  {
   "cell_type": "code",
   "execution_count": 19,
   "metadata": {},
   "outputs": [],
   "source": [
    "lr = h['lr']\n",
    "# acc = h['acc']\n",
    "tr_iters = h['iterations']\n",
    "loss = h['loss']\n",
    "r2 = h['r2']"
   ]
  },
  {
   "cell_type": "code",
   "execution_count": 22,
   "metadata": {},
   "outputs": [
    {
     "data": {
      "image/png": "[encoded data removed]",
      "text/plain": [
       "<Figure size 432x288 with 1 Axes>"
      ]
     },
     "metadata": {
      "needs_background": "light"
     },
     "output_type": "display_data"
    }
   ],
   "source": [
    "plt.plot(lr, r2);\n",
    "plt.xlabel('lr')\n",
    "plt.ylabel('r2')\n",
    "plt.xscale('log')\n",
    "plt.grid(True)\n",
    "# plt.yscale('log')"
   ]
  },
  {
   "cell_type": "code",
   "execution_count": 23,
   "metadata": {},
   "outputs": [
    {
     "data": {
      "image/png": "[encoded data removed]",
      "text/plain": [
       "<Figure size 432x288 with 1 Axes>"
      ]
     },
     "metadata": {
      "needs_background": "light"
     },
     "output_type": "display_data"
    }
   ],
   "source": [
    "plt.plot(tr_iters, marker='.');\n",
    "plt.xlabel('iterations')\n",
    "plt.ylabel('lr')\n",
    "plt.grid(True)"
   ]
  },
  {
   "cell_type": "code",
   "execution_count": null,
   "metadata": {},
   "outputs": [],
   "source": []
  }
 ],
 "metadata": {
  "kernelspec": {
   "display_name": "Python 3",
   "language": "python",
   "name": "python3"
  },
  "language_info": {
   "codemirror_mode": {
    "name": "ipython",
    "version": 3
   },
   "file_extension": ".py",
   "mimetype": "text/x-python",
   "name": "python",
   "nbconvert_exporter": "python",
   "pygments_lexer": "ipython3",
   "version": "3.6.8"
  }
 },
 "nbformat": 4,
 "nbformat_minor": 2
}
