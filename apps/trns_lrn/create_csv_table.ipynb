{
 "cells": [
  {
   "cell_type": "code",
   "execution_count": 19,
   "metadata": {},
   "outputs": [],
   "source": [
    "import os\n",
    "import sys\n",
    "from pathlib import Path\n",
    "\n",
    "import numpy as np\n",
    "import pandas as pd\n",
    "from glob import glob\n",
    "\n",
    "import matplotlib\n",
    "import matplotlib.pyplot as plt"
   ]
  },
  {
   "cell_type": "code",
   "execution_count": 20,
   "metadata": {},
   "outputs": [],
   "source": [
    "def create_csv_table(df, outdir='.'):\n",
    "    \"\"\" Creates CSV table for each available metric. \"\"\"\n",
    "    # lg.logger.info('Create csv table ...')\n",
    "    for m in df['metric'].unique():\n",
    "        csv = df[df['metric']==m].reset_index(drop=True)\n",
    "        csv.drop(columns=['metric'], inplace=True)\n",
    "\n",
    "        # Sort rows and cols\n",
    "        tr_src = csv['tr_src']\n",
    "        csv.drop(columns='tr_src', inplace=True)\n",
    "        csv = csv[sorted(csv.columns)]\n",
    "        csv = pd.concat([tr_src, csv], axis=1, sort=False)\n",
    "        csv = csv.sort_values('tr_src')\n",
    "\n",
    "        # save table\n",
    "        csv = csv.round(3)\n",
    "        csv.to_csv(Path(outdir)/f'csv_{m}.csv', index=False)"
   ]
  },
  {
   "cell_type": "code",
   "execution_count": 21,
   "metadata": {},
   "outputs": [],
   "source": [
    "maindir = Path('../../out/trns_lrn/base_model_keras')\n",
    "runs = ['CCLE.drg_all.nn_reg4.clr_exp.ep250.drp0.22_2019-7-31_h15-m20',\n",
    "        'GDSC.drg_all.nn_reg4.clr_exp.ep250.drp0.22_2019-7-31_h15-m21',\n",
    "        'NCI60.drg_all.nn_reg4.clr_exp.ep250.drp0.22_2019-7-31_h15-m24',\n",
    "        'CTRP.drg_all.nn_reg4.clr_exp.ep250.drp0.22_2019-7-31_h15-m22',\n",
    "        'gCSI.drg_all.nn_reg4.clr_exp.ep250.drp0.22_2019-8-1_h8-m31'\n",
    "       ]"
   ]
  },
  {
   "cell_type": "code",
   "execution_count": 22,
   "metadata": {},
   "outputs": [
    {
     "name": "stdout",
     "output_type": "stream",
     "text": [
      "../../out/trns_lrn/base_model_keras/CCLE.drg_all.nn_reg4.clr_exp.ep250.drp0.22_2019-7-31_h15-m20\n",
      "../../out/trns_lrn/base_model_keras/GDSC.drg_all.nn_reg4.clr_exp.ep250.drp0.22_2019-7-31_h15-m21\n",
      "../../out/trns_lrn/base_model_keras/NCI60.drg_all.nn_reg4.clr_exp.ep250.drp0.22_2019-7-31_h15-m24\n",
      "../../out/trns_lrn/base_model_keras/CTRP.drg_all.nn_reg4.clr_exp.ep250.drp0.22_2019-7-31_h15-m22\n",
      "../../out/trns_lrn/base_model_keras/gCSI.drg_all.nn_reg4.clr_exp.ep250.drp0.22_2019-8-1_h8-m31\n"
     ]
    }
   ],
   "source": [
    "# ml = 'lgbm'\n",
    "ml = 'nn'\n",
    "dfs = []\n",
    "runs_list = []\n",
    "for r in runs:\n",
    "    print(maindir/r)\n",
    "    dpath = glob(str(maindir/r/f'csv_scores_{ml}*.csv'))\n",
    "    runs_list.append(dpath)\n",
    "    # print(dpath)\n",
    "    df = pd.read_csv(dpath[0])\n",
    "    dfs.append(df)\n",
    "    \n",
    "csv_all = pd.concat(dfs, axis=0, sort=False)    "
   ]
  },
  {
   "cell_type": "code",
   "execution_count": 23,
   "metadata": {},
   "outputs": [],
   "source": [
    "outdir = maindir/f'csv_table_{ml}'\n",
    "os.makedirs(outdir)"
   ]
  },
  {
   "cell_type": "code",
   "execution_count": 24,
   "metadata": {},
   "outputs": [],
   "source": [
    "create_csv_table(csv_all, outdir=outdir)\n",
    "pd.DataFrame(runs_list).to_csv(outdir/'runs_list.txt', header=False, index=False)"
   ]
  },
  {
   "cell_type": "code",
   "execution_count": null,
   "metadata": {},
   "outputs": [],
   "source": []
  }
 ],
 "metadata": {
  "kernelspec": {
   "display_name": "Python 3",
   "language": "python",
   "name": "python3"
  },
  "language_info": {
   "codemirror_mode": {
    "name": "ipython",
    "version": 3
   },
   "file_extension": ".py",
   "mimetype": "text/x-python",
   "name": "python",
   "nbconvert_exporter": "python",
   "pygments_lexer": "ipython3",
   "version": "3.6.8"
  }
 },
 "nbformat": 4,
 "nbformat_minor": 2
}
