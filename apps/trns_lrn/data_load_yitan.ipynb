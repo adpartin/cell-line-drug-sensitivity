{
 "cells": [
  {
   "cell_type": "code",
   "execution_count": 1,
   "metadata": {},
   "outputs": [],
   "source": [
    "%load_ext autoreload\n",
    "%autoreload 2\n",
    "%matplotlib inline\n",
    "\n",
    "import warnings\n",
    "warnings.filterwarnings('ignore')\n",
    "\n",
    "import os\n",
    "from pathlib import Path\n",
    "import sys\n",
    "from time import time\n",
    "import numpy as np\n",
    "import pandas as pd\n",
    "\n",
    "import sklearn\n",
    "from collections import OrderedDict\n",
    "from sklearn.metrics import r2_score\n",
    "\n",
    "import matplotlib.pyplot as plt\n",
    "import matplotlib.cm as cm\n",
    "\n",
    "from sklearn.preprocessing import StandardScaler\n",
    "from sklearn.model_selection import train_test_split\n",
    "\n",
    "SEED = None"
   ]
  },
  {
   "cell_type": "code",
   "execution_count": null,
   "metadata": {},
   "outputs": [],
   "source": []
  },
  {
   "cell_type": "markdown",
   "metadata": {},
   "source": [
    "# Load data"
   ]
  },
  {
   "cell_type": "code",
   "execution_count": 2,
   "metadata": {},
   "outputs": [],
   "source": [
    "datadir = Path('../../data/yitan/Data')\n",
    "ccl_folds_dir = Path('../../data/yitan/CCL_10Fold_Partition')\n",
    "pdm_folds_dir = Path('../../data/yitan/PDM_10Fold_Partition')"
   ]
  },
  {
   "cell_type": "code",
   "execution_count": 3,
   "metadata": {},
   "outputs": [],
   "source": [
    "# Un-pickle files\n",
    "import _pickle as cp\n",
    "\n",
    "pkl_file = open(datadir/'CCL_PDM_TransferLearningData_rmFactor_0.0_ddNorm_std.pkl', 'rb')\n",
    "\n",
    "res = cp.load(pkl_file)\n",
    "genomics = cp.load(pkl_file)\n",
    "drug = cp.load(pkl_file)\n",
    "\n",
    "pkl_file.close()"
   ]
  },
  {
   "cell_type": "code",
   "execution_count": 4,
   "metadata": {},
   "outputs": [
    {
     "name": "stdout",
     "output_type": "stream",
     "text": [
      "res      (708662, 5)\n",
      "genomics (1430, 4582)\n",
      "drug     (1402, 4392)\n"
     ]
    }
   ],
   "source": [
    "print('res     ', res.shape)\n",
    "print('genomics', genomics.shape)\n",
    "print('drug    ', drug.shape)"
   ]
  },
  {
   "cell_type": "code",
   "execution_count": null,
   "metadata": {},
   "outputs": [],
   "source": []
  },
  {
   "cell_type": "markdown",
   "metadata": {},
   "source": [
    "# First look at the data"
   ]
  },
  {
   "cell_type": "code",
   "execution_count": 29,
   "metadata": {},
   "outputs": [
    {
     "data": {
      "text/html": [
       "<div>\n",
       "<style scoped>\n",
       "    .dataframe tbody tr th:only-of-type {\n",
       "        vertical-align: middle;\n",
       "    }\n",
       "\n",
       "    .dataframe tbody tr th {\n",
       "        vertical-align: top;\n",
       "    }\n",
       "\n",
       "    .dataframe thead th {\n",
       "        text-align: right;\n",
       "    }\n",
       "</style>\n",
       "<table border=\"1\" class=\"dataframe\">\n",
       "  <thead>\n",
       "    <tr style=\"text-align: right;\">\n",
       "      <th></th>\n",
       "      <th>SOURCE</th>\n",
       "      <th>ccl_name</th>\n",
       "      <th>ctrpDrugID</th>\n",
       "      <th>area_under_curve</th>\n",
       "      <th>groupID</th>\n",
       "    </tr>\n",
       "  </thead>\n",
       "  <tbody>\n",
       "    <tr>\n",
       "      <th>0</th>\n",
       "      <td>CCLE</td>\n",
       "      <td>CCL_61</td>\n",
       "      <td>Drug_11</td>\n",
       "      <td>0.7153</td>\n",
       "      <td>0.0000</td>\n",
       "    </tr>\n",
       "    <tr>\n",
       "      <th>1</th>\n",
       "      <td>CCLE</td>\n",
       "      <td>CCL_61</td>\n",
       "      <td>Drug_1</td>\n",
       "      <td>0.9579</td>\n",
       "      <td>0.9164</td>\n",
       "    </tr>\n",
       "  </tbody>\n",
       "</table>\n",
       "</div>"
      ],
      "text/plain": [
       "  SOURCE ccl_name ctrpDrugID  area_under_curve  groupID\n",
       "0   CCLE   CCL_61    Drug_11            0.7153   0.0000\n",
       "1   CCLE   CCL_61     Drug_1            0.9579   0.9164"
      ]
     },
     "metadata": {},
     "output_type": "display_data"
    },
    {
     "data": {
      "text/html": [
       "<div>\n",
       "<style scoped>\n",
       "    .dataframe tbody tr th:only-of-type {\n",
       "        vertical-align: middle;\n",
       "    }\n",
       "\n",
       "    .dataframe tbody tr th {\n",
       "        vertical-align: top;\n",
       "    }\n",
       "\n",
       "    .dataframe thead th {\n",
       "        text-align: right;\n",
       "    }\n",
       "</style>\n",
       "<table border=\"1\" class=\"dataframe\">\n",
       "  <thead>\n",
       "    <tr style=\"text-align: right;\">\n",
       "      <th></th>\n",
       "      <th>geneGE_AARS</th>\n",
       "      <th>geneGE_ABCB6</th>\n",
       "      <th>geneGE_ABCC5</th>\n",
       "      <th>geneGE_ABCF1</th>\n",
       "      <th>geneGE_ABCF3</th>\n",
       "      <th>geneGE_ABHD4</th>\n",
       "      <th>geneGE_ABHD6</th>\n",
       "    </tr>\n",
       "  </thead>\n",
       "  <tbody>\n",
       "    <tr>\n",
       "      <th>CCL_1</th>\n",
       "      <td>-0.125161</td>\n",
       "      <td>-0.400237</td>\n",
       "      <td>-0.960208</td>\n",
       "      <td>0.575207</td>\n",
       "      <td>-0.468406</td>\n",
       "      <td>-0.136257</td>\n",
       "      <td>0.083319</td>\n",
       "    </tr>\n",
       "    <tr>\n",
       "      <th>CCL_10</th>\n",
       "      <td>-0.217106</td>\n",
       "      <td>0.354776</td>\n",
       "      <td>-1.164841</td>\n",
       "      <td>0.328071</td>\n",
       "      <td>-0.735267</td>\n",
       "      <td>0.232990</td>\n",
       "      <td>-0.174979</td>\n",
       "    </tr>\n",
       "  </tbody>\n",
       "</table>\n",
       "</div>"
      ],
      "text/plain": [
       "        geneGE_AARS  geneGE_ABCB6  geneGE_ABCC5  geneGE_ABCF1  geneGE_ABCF3  \\\n",
       "CCL_1     -0.125161     -0.400237     -0.960208      0.575207     -0.468406   \n",
       "CCL_10    -0.217106      0.354776     -1.164841      0.328071     -0.735267   \n",
       "\n",
       "        geneGE_ABHD4  geneGE_ABHD6  \n",
       "CCL_1      -0.136257      0.083319  \n",
       "CCL_10      0.232990     -0.174979  "
      ]
     },
     "metadata": {},
     "output_type": "display_data"
    },
    {
     "data": {
      "text/html": [
       "<div>\n",
       "<style scoped>\n",
       "    .dataframe tbody tr th:only-of-type {\n",
       "        vertical-align: middle;\n",
       "    }\n",
       "\n",
       "    .dataframe tbody tr th {\n",
       "        vertical-align: top;\n",
       "    }\n",
       "\n",
       "    .dataframe thead th {\n",
       "        text-align: right;\n",
       "    }\n",
       "</style>\n",
       "<table border=\"1\" class=\"dataframe\">\n",
       "  <thead>\n",
       "    <tr style=\"text-align: right;\">\n",
       "      <th></th>\n",
       "      <th>DD_MW|num</th>\n",
       "      <th>DD_AMW|num</th>\n",
       "      <th>DD_Sv|num</th>\n",
       "      <th>DD_Se|num</th>\n",
       "      <th>DD_Sp|num</th>\n",
       "      <th>DD_Si|num</th>\n",
       "      <th>DD_Mv|num</th>\n",
       "    </tr>\n",
       "  </thead>\n",
       "  <tbody>\n",
       "    <tr>\n",
       "      <th>Drug_1</th>\n",
       "      <td>0.123446</td>\n",
       "      <td>0.526234</td>\n",
       "      <td>-0.072180</td>\n",
       "      <td>-0.088861</td>\n",
       "      <td>-0.058460</td>\n",
       "      <td>-0.083100</td>\n",
       "      <td>-0.009539</td>\n",
       "    </tr>\n",
       "    <tr>\n",
       "      <th>Drug_10</th>\n",
       "      <td>0.053188</td>\n",
       "      <td>1.966100</td>\n",
       "      <td>-0.333843</td>\n",
       "      <td>-0.379081</td>\n",
       "      <td>-0.359584</td>\n",
       "      <td>-0.398841</td>\n",
       "      <td>1.172374</td>\n",
       "    </tr>\n",
       "  </tbody>\n",
       "</table>\n",
       "</div>"
      ],
      "text/plain": [
       "         DD_MW|num  DD_AMW|num  DD_Sv|num  DD_Se|num  DD_Sp|num  DD_Si|num  \\\n",
       "Drug_1    0.123446    0.526234  -0.072180  -0.088861  -0.058460  -0.083100   \n",
       "Drug_10   0.053188    1.966100  -0.333843  -0.379081  -0.359584  -0.398841   \n",
       "\n",
       "         DD_Mv|num  \n",
       "Drug_1   -0.009539  \n",
       "Drug_10   1.172374  "
      ]
     },
     "metadata": {},
     "output_type": "display_data"
    }
   ],
   "source": [
    "display(res[:2])\n",
    "display(genomics.iloc[:2, :7])\n",
    "display(drug.iloc[:2, :7])"
   ]
  },
  {
   "cell_type": "code",
   "execution_count": 6,
   "metadata": {},
   "outputs": [
    {
     "data": {
      "text/html": [
       "<div>\n",
       "<style scoped>\n",
       "    .dataframe tbody tr th:only-of-type {\n",
       "        vertical-align: middle;\n",
       "    }\n",
       "\n",
       "    .dataframe tbody tr th {\n",
       "        vertical-align: top;\n",
       "    }\n",
       "\n",
       "    .dataframe thead th {\n",
       "        text-align: right;\n",
       "    }\n",
       "</style>\n",
       "<table border=\"1\" class=\"dataframe\">\n",
       "  <thead>\n",
       "    <tr style=\"text-align: right;\">\n",
       "      <th></th>\n",
       "      <th>SOURCE</th>\n",
       "      <th>ccl_name</th>\n",
       "      <th>ctrpDrugID</th>\n",
       "    </tr>\n",
       "  </thead>\n",
       "  <tbody>\n",
       "    <tr>\n",
       "      <th>0</th>\n",
       "      <td>CCLE</td>\n",
       "      <td>474</td>\n",
       "      <td>24</td>\n",
       "    </tr>\n",
       "    <tr>\n",
       "      <th>1</th>\n",
       "      <td>CTRP</td>\n",
       "      <td>812</td>\n",
       "      <td>494</td>\n",
       "    </tr>\n",
       "    <tr>\n",
       "      <th>2</th>\n",
       "      <td>GDSC</td>\n",
       "      <td>670</td>\n",
       "      <td>238</td>\n",
       "    </tr>\n",
       "    <tr>\n",
       "      <th>3</th>\n",
       "      <td>NCI60</td>\n",
       "      <td>59</td>\n",
       "      <td>987</td>\n",
       "    </tr>\n",
       "    <tr>\n",
       "      <th>4</th>\n",
       "      <td>PDM</td>\n",
       "      <td>473</td>\n",
       "      <td>18</td>\n",
       "    </tr>\n",
       "    <tr>\n",
       "      <th>5</th>\n",
       "      <td>gCSI</td>\n",
       "      <td>357</td>\n",
       "      <td>16</td>\n",
       "    </tr>\n",
       "  </tbody>\n",
       "</table>\n",
       "</div>"
      ],
      "text/plain": [
       "  SOURCE  ccl_name  ctrpDrugID\n",
       "0   CCLE       474          24\n",
       "1   CTRP       812         494\n",
       "2   GDSC       670         238\n",
       "3  NCI60        59         987\n",
       "4    PDM       473          18\n",
       "5   gCSI       357          16"
      ]
     },
     "execution_count": 6,
     "metadata": {},
     "output_type": "execute_result"
    }
   ],
   "source": [
    "res.groupby('SOURCE').agg({'ccl_name': 'nunique', 'ctrpDrugID': 'nunique'}).reset_index()"
   ]
  },
  {
   "cell_type": "code",
   "execution_count": null,
   "metadata": {},
   "outputs": [],
   "source": []
  },
  {
   "cell_type": "markdown",
   "metadata": {},
   "source": [
    "### Where are the genomic features coming from?"
   ]
  },
  {
   "cell_type": "code",
   "execution_count": 7,
   "metadata": {},
   "outputs": [],
   "source": [
    "gen_ = genomics.reset_index().rename(columns={'index': 'ccl_name'})"
   ]
  },
  {
   "cell_type": "code",
   "execution_count": 31,
   "metadata": {},
   "outputs": [
    {
     "data": {
      "text/html": [
       "<div>\n",
       "<style scoped>\n",
       "    .dataframe tbody tr th:only-of-type {\n",
       "        vertical-align: middle;\n",
       "    }\n",
       "\n",
       "    .dataframe tbody tr th {\n",
       "        vertical-align: top;\n",
       "    }\n",
       "\n",
       "    .dataframe thead th {\n",
       "        text-align: right;\n",
       "    }\n",
       "</style>\n",
       "<table border=\"1\" class=\"dataframe\">\n",
       "  <thead>\n",
       "    <tr style=\"text-align: right;\">\n",
       "      <th></th>\n",
       "      <th>ccl_name</th>\n",
       "      <th>geneGE_AARS</th>\n",
       "      <th>geneGE_ABCB6</th>\n",
       "      <th>geneGE_ABCC5</th>\n",
       "      <th>geneGE_ABCF1</th>\n",
       "    </tr>\n",
       "  </thead>\n",
       "  <tbody>\n",
       "    <tr>\n",
       "      <th>0</th>\n",
       "      <td>CCL_1</td>\n",
       "      <td>-0.125161</td>\n",
       "      <td>-0.400237</td>\n",
       "      <td>-0.960208</td>\n",
       "      <td>0.575207</td>\n",
       "    </tr>\n",
       "    <tr>\n",
       "      <th>1</th>\n",
       "      <td>CCL_10</td>\n",
       "      <td>-0.217106</td>\n",
       "      <td>0.354776</td>\n",
       "      <td>-1.164841</td>\n",
       "      <td>0.328071</td>\n",
       "    </tr>\n",
       "  </tbody>\n",
       "</table>\n",
       "</div>"
      ],
      "text/plain": [
       "  ccl_name  geneGE_AARS  geneGE_ABCB6  geneGE_ABCC5  geneGE_ABCF1\n",
       "0    CCL_1    -0.125161     -0.400237     -0.960208      0.575207\n",
       "1   CCL_10    -0.217106      0.354776     -1.164841      0.328071"
      ]
     },
     "metadata": {},
     "output_type": "display_data"
    },
    {
     "data": {
      "text/html": [
       "<div>\n",
       "<style scoped>\n",
       "    .dataframe tbody tr th:only-of-type {\n",
       "        vertical-align: middle;\n",
       "    }\n",
       "\n",
       "    .dataframe tbody tr th {\n",
       "        vertical-align: top;\n",
       "    }\n",
       "\n",
       "    .dataframe thead th {\n",
       "        text-align: right;\n",
       "    }\n",
       "</style>\n",
       "<table border=\"1\" class=\"dataframe\">\n",
       "  <thead>\n",
       "    <tr style=\"text-align: right;\">\n",
       "      <th></th>\n",
       "      <th>SOURCE</th>\n",
       "      <th>ccl_name</th>\n",
       "      <th>ctrpDrugID</th>\n",
       "      <th>area_under_curve</th>\n",
       "      <th>groupID</th>\n",
       "    </tr>\n",
       "  </thead>\n",
       "  <tbody>\n",
       "    <tr>\n",
       "      <th>0</th>\n",
       "      <td>CCLE</td>\n",
       "      <td>CCL_61</td>\n",
       "      <td>Drug_11</td>\n",
       "      <td>0.7153</td>\n",
       "      <td>0.0000</td>\n",
       "    </tr>\n",
       "    <tr>\n",
       "      <th>1</th>\n",
       "      <td>CCLE</td>\n",
       "      <td>CCL_61</td>\n",
       "      <td>Drug_1</td>\n",
       "      <td>0.9579</td>\n",
       "      <td>0.9164</td>\n",
       "    </tr>\n",
       "  </tbody>\n",
       "</table>\n",
       "</div>"
      ],
      "text/plain": [
       "  SOURCE ccl_name ctrpDrugID  area_under_curve  groupID\n",
       "0   CCLE   CCL_61    Drug_11            0.7153   0.0000\n",
       "1   CCLE   CCL_61     Drug_1            0.9579   0.9164"
      ]
     },
     "metadata": {},
     "output_type": "display_data"
    }
   ],
   "source": [
    "display(gen_.iloc[:2, :5])\n",
    "display(res[:2])"
   ]
  },
  {
   "cell_type": "code",
   "execution_count": 20,
   "metadata": {},
   "outputs": [
    {
     "name": "stdout",
     "output_type": "stream",
     "text": [
      "(708662, 2)\n"
     ]
    },
    {
     "data": {
      "text/plain": [
       "CTRP     325789\n",
       "NCI60    227357\n",
       "GDSC     135568\n",
       "CCLE      10971\n",
       "gCSI       5647\n",
       "PDM        3330\n",
       "Name: SOURCE, dtype: int64"
      ]
     },
     "execution_count": 20,
     "metadata": {},
     "output_type": "execute_result"
    }
   ],
   "source": [
    "aa = pd.merge(gen_[['ccl_name']], res[['SOURCE', 'ccl_name']], on='ccl_name', how='inner')\n",
    "# aa = aa.drop_duplicates().reset_index(drop=True)\n",
    "print(aa.shape)\n",
    "aa['SOURCE'].value_counts()"
   ]
  },
  {
   "cell_type": "code",
   "execution_count": 32,
   "metadata": {},
   "outputs": [
    {
     "data": {
      "text/plain": [
       "NCI60    3356\n",
       "GDSC      181\n",
       "Name: SOURCE, dtype: int64"
      ]
     },
     "execution_count": 32,
     "metadata": {},
     "output_type": "execute_result"
    }
   ],
   "source": [
    "bb = aa[aa['ccl_name']=='CCL_1']['SOURCE'].value_counts()\n",
    "bb"
   ]
  },
  {
   "cell_type": "code",
   "execution_count": null,
   "metadata": {},
   "outputs": [],
   "source": []
  },
  {
   "cell_type": "markdown",
   "metadata": {},
   "source": [
    "### What features are available?"
   ]
  },
  {
   "cell_type": "code",
   "execution_count": 6,
   "metadata": {},
   "outputs": [],
   "source": [
    "def cnt_feas(df, sep='_', verbose=True):\n",
    "    \"\"\" Count number of unique features types. \"\"\"\n",
    "    dct = {}\n",
    "    for c in df.columns:\n",
    "        prfx = c.split(sep)[0]\n",
    "        if prfx in dct.keys():\n",
    "            dct[prfx] += 1\n",
    "        else:\n",
    "            dct[prfx] = 1\n",
    "            \n",
    "    if verbose:\n",
    "        print(dct)\n",
    "    return dct"
   ]
  },
  {
   "cell_type": "code",
   "execution_count": 7,
   "metadata": {},
   "outputs": [
    {
     "name": "stdout",
     "output_type": "stream",
     "text": [
      "{'geneGE': 1927, 'c2cpMaxGE': 1328, 'c2cpMinGE': 1327}\n",
      "{'DD': 2344, 'ECFP': 1024, 'PFP': 1024}\n"
     ]
    }
   ],
   "source": [
    "gen_dct = cnt_feas(genomics, sep='_')\n",
    "drg_dct = cnt_feas(drug, sep='_')"
   ]
  },
  {
   "cell_type": "code",
   "execution_count": 8,
   "metadata": {},
   "outputs": [],
   "source": [
    "# Change var names\n",
    "gen = genomics\n",
    "drg = drug"
   ]
  },
  {
   "cell_type": "code",
   "execution_count": 9,
   "metadata": {},
   "outputs": [
    {
     "data": {
      "text/html": [
       "<div>\n",
       "<style scoped>\n",
       "    .dataframe tbody tr th:only-of-type {\n",
       "        vertical-align: middle;\n",
       "    }\n",
       "\n",
       "    .dataframe tbody tr th {\n",
       "        vertical-align: top;\n",
       "    }\n",
       "\n",
       "    .dataframe thead th {\n",
       "        text-align: right;\n",
       "    }\n",
       "</style>\n",
       "<table border=\"1\" class=\"dataframe\">\n",
       "  <thead>\n",
       "    <tr style=\"text-align: right;\">\n",
       "      <th></th>\n",
       "      <th>id</th>\n",
       "      <th>SOURCE</th>\n",
       "      <th>ccl_name</th>\n",
       "      <th>ctrpDrugID</th>\n",
       "      <th>area_under_curve</th>\n",
       "      <th>groupID</th>\n",
       "    </tr>\n",
       "  </thead>\n",
       "  <tbody>\n",
       "    <tr>\n",
       "      <th>0</th>\n",
       "      <td>0</td>\n",
       "      <td>CCLE</td>\n",
       "      <td>CCL_61</td>\n",
       "      <td>Drug_11</td>\n",
       "      <td>0.7153</td>\n",
       "      <td>0.0000</td>\n",
       "    </tr>\n",
       "    <tr>\n",
       "      <th>1</th>\n",
       "      <td>1</td>\n",
       "      <td>CCLE</td>\n",
       "      <td>CCL_61</td>\n",
       "      <td>Drug_1</td>\n",
       "      <td>0.9579</td>\n",
       "      <td>0.9164</td>\n",
       "    </tr>\n",
       "  </tbody>\n",
       "</table>\n",
       "</div>"
      ],
      "text/plain": [
       "   id SOURCE ccl_name ctrpDrugID  area_under_curve  groupID\n",
       "0   0   CCLE   CCL_61    Drug_11            0.7153   0.0000\n",
       "1   1   CCLE   CCL_61     Drug_1            0.9579   0.9164"
      ]
     },
     "execution_count": 9,
     "metadata": {},
     "output_type": "execute_result"
    }
   ],
   "source": [
    "res = res.reset_index()\n",
    "res = res.rename(columns={'index': 'id'})\n",
    "res[:2]"
   ]
  },
  {
   "cell_type": "code",
   "execution_count": 10,
   "metadata": {},
   "outputs": [],
   "source": [
    "def extract_subset_fea(df, fea_list, fea_sep='_'):\n",
    "    fea = [c for c in df.columns if (c.split(fea_sep)[0]) in fea_list]\n",
    "    df = df[fea]\n",
    "    return df"
   ]
  },
  {
   "cell_type": "code",
   "execution_count": null,
   "metadata": {},
   "outputs": [],
   "source": []
  },
  {
   "cell_type": "markdown",
   "metadata": {},
   "source": [
    "## Some code test"
   ]
  },
  {
   "cell_type": "code",
   "execution_count": 11,
   "metadata": {},
   "outputs": [],
   "source": [
    "res_ = res.copy()\n",
    "gen_ = gen.copy()\n",
    "drg_ = drg.copy()"
   ]
  },
  {
   "cell_type": "code",
   "execution_count": 12,
   "metadata": {},
   "outputs": [
    {
     "name": "stdout",
     "output_type": "stream",
     "text": [
      "{'geneGE': 1927, 'c2cpMaxGE': 1328, 'c2cpMinGE': 1327}\n",
      "{'geneGE': 1927}\n",
      "{'DD': 2344, 'ECFP': 1024, 'PFP': 1024}\n",
      "{'DD': 2344}\n"
     ]
    }
   ],
   "source": [
    "# Extract specific features\n",
    "gen_fea_list = ['geneGE']\n",
    "drg_fea_list = ['DD']\n",
    "\n",
    "cnt_feas(gen_, sep='_', verbose=True);\n",
    "gen_ = extract_subset_fea(df=gen_, fea_list=gen_fea_list, fea_sep='_')\n",
    "cnt_feas(gen_, sep='_', verbose=True);\n",
    "\n",
    "cnt_feas(drg_, sep='_', verbose=True);\n",
    "drg_ = extract_subset_fea(df=drg, fea_list=drg_fea_list, fea_sep='_')\n",
    "cnt_feas(drg_, sep='_', verbose=True);"
   ]
  },
  {
   "cell_type": "code",
   "execution_count": 13,
   "metadata": {},
   "outputs": [],
   "source": [
    "# Bring the labels in\n",
    "gen_ = gen_.reset_index().rename(columns={'index': 'ccl_name'})\n",
    "drg_ = drg_.reset_index().rename(columns={'index': 'ctrpDrugID'})"
   ]
  },
  {
   "cell_type": "code",
   "execution_count": 14,
   "metadata": {},
   "outputs": [
    {
     "name": "stdout",
     "output_type": "stream",
     "text": [
      "0.7974683544303798\n",
      "(708662, 6)\n",
      "(10971, 6)\n"
     ]
    }
   ],
   "source": [
    "# Extract source and fold\n",
    "src = 'CCLE'\n",
    "fold = 0\n",
    "path = ccl_folds_dir/f'{src}/cv_{fold}' # 'TestList.txt'\n",
    "\n",
    "tr_id = pd.read_csv(path/'TrainList.txt', header=None).squeeze().values\n",
    "vl_id = pd.read_csv(path/'ValList.txt', header=None).squeeze().values\n",
    "te_id = pd.read_csv(path/'TestList.txt', header=None).squeeze().values\n",
    "\n",
    "# Show how much is left for train, val, and test\n",
    "tr_sz, vl_sz, te_sz = len(tr_id), len(vl_id), len(te_id)\n",
    "sz = tr_sz + vl_sz + te_sz\n",
    "print(tr_sz/sz)\n",
    "\n",
    "# Retain specific source and shuffle\n",
    "print(res_.shape)\n",
    "res_ = res_[ res['SOURCE'].isin([src]) ]\n",
    "# res_ = res_.sample(frac=1.0, random_state=42).reset_index(drop=True)\n",
    "print(res_.shape)"
   ]
  },
  {
   "cell_type": "code",
   "execution_count": 15,
   "metadata": {},
   "outputs": [
    {
     "name": "stdout",
     "output_type": "stream",
     "text": [
      "(10971, 4277)\n"
     ]
    },
    {
     "data": {
      "text/html": [
       "<div>\n",
       "<style scoped>\n",
       "    .dataframe tbody tr th:only-of-type {\n",
       "        vertical-align: middle;\n",
       "    }\n",
       "\n",
       "    .dataframe tbody tr th {\n",
       "        vertical-align: top;\n",
       "    }\n",
       "\n",
       "    .dataframe thead th {\n",
       "        text-align: right;\n",
       "    }\n",
       "</style>\n",
       "<table border=\"1\" class=\"dataframe\">\n",
       "  <thead>\n",
       "    <tr style=\"text-align: right;\">\n",
       "      <th></th>\n",
       "      <th>id</th>\n",
       "      <th>SOURCE</th>\n",
       "      <th>ccl_name</th>\n",
       "      <th>ctrpDrugID</th>\n",
       "      <th>area_under_curve</th>\n",
       "      <th>groupID</th>\n",
       "      <th>geneGE_AARS</th>\n",
       "      <th>geneGE_ABCB6</th>\n",
       "      <th>geneGE_ABCC5</th>\n",
       "      <th>geneGE_ABCF1</th>\n",
       "      <th>...</th>\n",
       "      <th>DD_VE1_B(m)_naLabeled|int</th>\n",
       "      <th>DD_VE3sign_B(m)_naLabeled|int</th>\n",
       "      <th>DD_VE3sign_B(v)_naLabeled|int</th>\n",
       "      <th>DD_VE3sign_B(e)_naLabeled|int</th>\n",
       "      <th>DD_VE3sign_B(p)_naLabeled|int</th>\n",
       "      <th>DD_VE3sign_B(i)_naLabeled|int</th>\n",
       "      <th>DD_VE3sign_B(s)_naLabeled|int</th>\n",
       "      <th>DD_AMR_naLabeled|int</th>\n",
       "      <th>DD_SAtot_naLabeled|int</th>\n",
       "      <th>DD_BLTF96_naLabeled|int</th>\n",
       "    </tr>\n",
       "  </thead>\n",
       "  <tbody>\n",
       "    <tr>\n",
       "      <th>0</th>\n",
       "      <td>0</td>\n",
       "      <td>CCLE</td>\n",
       "      <td>CCL_61</td>\n",
       "      <td>Drug_11</td>\n",
       "      <td>0.7153</td>\n",
       "      <td>0.0000</td>\n",
       "      <td>0.796453</td>\n",
       "      <td>1.185398</td>\n",
       "      <td>-0.279271</td>\n",
       "      <td>-1.612266</td>\n",
       "      <td>...</td>\n",
       "      <td>0.0</td>\n",
       "      <td>0.0</td>\n",
       "      <td>0.0</td>\n",
       "      <td>0.0</td>\n",
       "      <td>0.0</td>\n",
       "      <td>0.0</td>\n",
       "      <td>0.0</td>\n",
       "      <td>0.0</td>\n",
       "      <td>0.0</td>\n",
       "      <td>0.0</td>\n",
       "    </tr>\n",
       "    <tr>\n",
       "      <th>1</th>\n",
       "      <td>24</td>\n",
       "      <td>CCLE</td>\n",
       "      <td>CCL_65</td>\n",
       "      <td>Drug_11</td>\n",
       "      <td>0.8126</td>\n",
       "      <td>0.3626</td>\n",
       "      <td>-0.071298</td>\n",
       "      <td>1.047415</td>\n",
       "      <td>-1.032675</td>\n",
       "      <td>0.382738</td>\n",
       "      <td>...</td>\n",
       "      <td>0.0</td>\n",
       "      <td>0.0</td>\n",
       "      <td>0.0</td>\n",
       "      <td>0.0</td>\n",
       "      <td>0.0</td>\n",
       "      <td>0.0</td>\n",
       "      <td>0.0</td>\n",
       "      <td>0.0</td>\n",
       "      <td>0.0</td>\n",
       "      <td>0.0</td>\n",
       "    </tr>\n",
       "  </tbody>\n",
       "</table>\n",
       "<p>2 rows × 4277 columns</p>\n",
       "</div>"
      ],
      "text/plain": [
       "   id SOURCE ccl_name ctrpDrugID  area_under_curve  groupID  geneGE_AARS  \\\n",
       "0   0   CCLE   CCL_61    Drug_11            0.7153   0.0000     0.796453   \n",
       "1  24   CCLE   CCL_65    Drug_11            0.8126   0.3626    -0.071298   \n",
       "\n",
       "   geneGE_ABCB6  geneGE_ABCC5  geneGE_ABCF1  ...  DD_VE1_B(m)_naLabeled|int  \\\n",
       "0      1.185398     -0.279271     -1.612266  ...                        0.0   \n",
       "1      1.047415     -1.032675      0.382738  ...                        0.0   \n",
       "\n",
       "   DD_VE3sign_B(m)_naLabeled|int  DD_VE3sign_B(v)_naLabeled|int  \\\n",
       "0                            0.0                            0.0   \n",
       "1                            0.0                            0.0   \n",
       "\n",
       "   DD_VE3sign_B(e)_naLabeled|int  DD_VE3sign_B(p)_naLabeled|int  \\\n",
       "0                            0.0                            0.0   \n",
       "1                            0.0                            0.0   \n",
       "\n",
       "   DD_VE3sign_B(i)_naLabeled|int  DD_VE3sign_B(s)_naLabeled|int  \\\n",
       "0                            0.0                            0.0   \n",
       "1                            0.0                            0.0   \n",
       "\n",
       "   DD_AMR_naLabeled|int  DD_SAtot_naLabeled|int  DD_BLTF96_naLabeled|int  \n",
       "0                   0.0                     0.0                      0.0  \n",
       "1                   0.0                     0.0                      0.0  \n",
       "\n",
       "[2 rows x 4277 columns]"
      ]
     },
     "metadata": {},
     "output_type": "display_data"
    }
   ],
   "source": [
    "# Merge data\n",
    "len(res_.ccl_name.unique())\n",
    "\n",
    "mrg = pd.merge(res_, gen_, on='ccl_name', how='inner')\n",
    "mrg = pd.merge(mrg, drg_, on='ctrpDrugID', how='inner')\n",
    "print(mrg.shape)\n",
    "display(mrg[:2])"
   ]
  },
  {
   "cell_type": "code",
   "execution_count": null,
   "metadata": {},
   "outputs": [],
   "source": []
  },
  {
   "cell_type": "code",
   "execution_count": null,
   "metadata": {},
   "outputs": [],
   "source": []
  },
  {
   "cell_type": "markdown",
   "metadata": {},
   "source": [
    "# PyTorch data generator"
   ]
  },
  {
   "cell_type": "code",
   "execution_count": 16,
   "metadata": {},
   "outputs": [],
   "source": [
    "import torch\n",
    "from torch import nn, optim\n",
    "from torch.optim import lr_scheduler\n",
    "import torch.nn.functional as F\n",
    "from torch.utils.data import Dataset, DataLoader"
   ]
  },
  {
   "cell_type": "code",
   "execution_count": 17,
   "metadata": {},
   "outputs": [
    {
     "name": "stdout",
     "output_type": "stream",
     "text": [
      "(708662, 6)\n",
      "(1430, 4582)\n",
      "(1402, 4392)\n"
     ]
    }
   ],
   "source": [
    "print(res.shape)\n",
    "print(gen.shape)\n",
    "print(drg.shape)"
   ]
  },
  {
   "cell_type": "code",
   "execution_count": 18,
   "metadata": {},
   "outputs": [],
   "source": [
    "# drg_df = drg.copy()\n",
    "# gen_df = gen.copy()\n",
    "\n",
    "# drg_fea_dct = {idx: row.values for idx, row in drg_df.iterrows()}\n",
    "# gen_fea_dct = {idx: row.values for idx, row in gen_df.iterrows()}\n",
    "\n",
    "# res.values"
   ]
  },
  {
   "cell_type": "code",
   "execution_count": null,
   "metadata": {},
   "outputs": [],
   "source": []
  },
  {
   "cell_type": "code",
   "execution_count": 19,
   "metadata": {},
   "outputs": [],
   "source": [
    "res_df = res.copy()\n",
    "drg_df = drg.copy()\n",
    "gen_df = gen.copy()\n",
    "tr_ph = 'train'\n",
    "fold = 0\n",
    "src = 'CCLE'\n",
    "gen_fea_list = ['geneGE']\n",
    "drg_fea_list = ['DD']\n",
    "\n",
    "res_df = res_df[ res_df['SOURCE'].isin([src]) ]\n",
    "drg_df = extract_subset_fea(drg_df, drg_fea_list, fea_sep='_')\n",
    "gen_df = extract_subset_fea(gen_df, gen_fea_list, fea_sep='_')\n",
    "\n",
    "path = ccl_folds_dir/f'{src}/cv_{fold}'\n",
    "\n",
    "res_arr = res_df.values\n",
    "drg_fea_dct = {idx: row.values for idx, row in drg_df.iterrows()}\n",
    "gen_fea_dct = {idx: row.values for idx, row in gen_df.iterrows()}"
   ]
  },
  {
   "cell_type": "code",
   "execution_count": null,
   "metadata": {},
   "outputs": [],
   "source": []
  },
  {
   "cell_type": "code",
   "execution_count": 20,
   "metadata": {},
   "outputs": [],
   "source": [
    "class CCLDataset(Dataset):\n",
    "    # discuss.pytorch.org/t/data-processing-as-a-batch-way/14154\n",
    "    # github.com/utkuozbulak/pytorch-custom-dataset-examples#incorporating-pandas\n",
    "    # nbviewer.jupyter.org/github/FraPochetti/KagglePlaygrounds/blob/master/NYC%20Taxi%20Fares%20Prediction.ipynb\n",
    "    \n",
    "    def __init__(self,\n",
    "                 res_df: pd.DataFrame,\n",
    "                 gen_df: pd.DataFrame,\n",
    "                 drg_df: pd.DataFrame,\n",
    "                 ccl_folds_dir: str,\n",
    "                 src: str,\n",
    "                 fold: int,\n",
    "                 tr_ph: str,\n",
    "                 gen_fea_list: list,\n",
    "                 drg_fea_list: list,\n",
    "                 drg_dsc_preproc: str=None,   # TODO\n",
    "                 cell_rna_preproc: str=None,  # TODO\n",
    "                 verbose: bool=True):\n",
    "        \"\"\" \n",
    "        Args:\n",
    "            res_df (pd.DataFrame) : \n",
    "            gen_df (pd.DataFrame) :\n",
    "            drg_df (pd.DataFrame) :\n",
    "            ccl_folds_dir (str) :\n",
    "            src (str) :\n",
    "            fold (int) :\n",
    "            tr_ph (str) :\n",
    "            gen_fea_list (list) :\n",
    "            drg_fea_list (list) :\n",
    "            drg_dsc_preproc (str) : TODO: not implemented\n",
    "            cell_rna_preproc (str) : TODO: not implemented\n",
    "            verbose: bool=True\n",
    "        \"\"\"\n",
    "        \n",
    "        # ============================================\n",
    "        # Initialize\n",
    "        # ============================================\n",
    "        self.ccl_folds_dir = ccl_folds_dir\n",
    "        self.src = src\n",
    "        self.fold = fold\n",
    "        self.tr_ph = tr_ph.lower()\n",
    "        self.gen_fea_list = gen_fea_list\n",
    "        self.drg_fea_list = drg_fea_list\n",
    "        self.drg_dsc_preproc = None\n",
    "        self.cell_rna_preproc = None\n",
    "\n",
    "        # ============================================\n",
    "        # Get the indices\n",
    "        # ============================================\n",
    "        if self.tr_ph in ['tr', 'train', 'training']:\n",
    "            self.ids_fname = 'TrainList.txt'\n",
    "        elif self.tr_ph in ['vl', 'val', 'validation']:\n",
    "            self.ids_fname = 'ValList.txt'\n",
    "        elif self.tr_ph in ['te', 'test', 'testing']:\n",
    "            self.ids_fname = 'TestList.txt'\n",
    "        else:\n",
    "            raise ValueError('Wrong `tr_ph` specified.')\n",
    "            \n",
    "        self.ids_path = self.ccl_folds_dir/f'{self.src}/cv_{self.fold}'/self.ids_fname # 'TestList.txt'        \n",
    "        self.ids_list = pd.read_csv(self.ids_path, header=None).squeeze().values\n",
    "        \n",
    "        # ============================================\n",
    "        # Load dataframes\n",
    "        # ============================================\n",
    "        res_df = res_df[ res_df['SOURCE'].isin([src]) ]\n",
    "        self.res_df = res_df[ res_df['ccl_name'].isin( self.ids_list ) ]\n",
    "        \n",
    "        self.drg_df = self.extract_subset_fea(drg_df, self.drg_fea_list)\n",
    "        self.gen_df = self.extract_subset_fea(gen_df, self.gen_fea_list)        \n",
    "        \n",
    "        # ============================================\n",
    "        # Public attributes\n",
    "        # ============================================\n",
    "        self.drugs = self.res_df['ctrpDrugID'].unique().tolist()\n",
    "        self.cells = self.res_df['ccl_name'].unique().tolist()\n",
    "        self.num_records = len(self.res_df)\n",
    "        self.drg_dim = self.drg_df.shape[1]\n",
    "        self.gen_dim = self.gen_df.shape[1]\n",
    "        \n",
    "        # ============================================\n",
    "        # Convert dfs to arrays and dict for faster access\n",
    "        # ============================================\n",
    "        self.res_arr = self.res_df.values\n",
    "        self.drg_fea_dct = {idx: row.values for idx, row in drg_df.iterrows()}\n",
    "        self.gen_fea_dct = {idx: row.values for idx, row in gen_df.iterrows()}\n",
    "\n",
    "        # ============================================\n",
    "        # Summary\n",
    "        # ============================================\n",
    "        if verbose:\n",
    "            print('=' * 80)\n",
    "            print(f'Data source: {self.src}')\n",
    "            print(f'Phase: {tr_ph}')\n",
    "            print(f'Data points: {self.num_records}')\n",
    "            print(f'Unique drugs: {len(self.drugs)}')\n",
    "            print(f'Unique cells: {len(self.cells)}')\n",
    "            print(f'drg_df.shape: {self.drg_df.shape}')\n",
    "            print(f'gen_df.shape: {self.gen_df.shape}')\n",
    "            # print(f'Drug features: {self.get_drg_fea_cnt}')\n",
    "            # print(f'Genomic features: {self.get_gen_fea_cnt}')\n",
    "\n",
    "        \n",
    "    def __len__(self):\n",
    "        return len(self.res_arr)\n",
    "\n",
    "    \n",
    "    def __getitem__(self, index):\n",
    "        \"\"\" \n",
    "        Ref: github.com/xduan7/UnoPytorch/blob/master/utils/datasets/drug_resp_dataset.py\n",
    "        Look for __getitem__ in DrugRespDataset\n",
    "        \n",
    "        res indices: [id, SOURCE, ccl_name, ctrpDrugID, area_under_curve, groupID]\n",
    "        \"\"\"\n",
    "        \n",
    "        res = self.res_arr[index]\n",
    "        \n",
    "        idx = res[0]\n",
    "        SOURCE = res[1]\n",
    "        ccl_id = res[2]\n",
    "        drg_id = res[3]\n",
    "        auc = res[4]\n",
    "        \n",
    "        ccl_fea = self.gen_fea_dct[ccl_id]\n",
    "        drg_fea = self.drg_fea_dct[drg_id]\n",
    "        \n",
    "        # Cast values\n",
    "        ccl_fea = ccl_fea.astype(np.float32)\n",
    "        drg_fea = drg_fea.astype(np.float32)\n",
    "                \n",
    "        return idx, SOURCE, ccl_id, drg_id, auc, ccl_fea, drg_fea\n",
    "    \n",
    "    \n",
    "    def extract_subset_fea(self, df, fea_list, fea_sep='_'):\n",
    "        fea = [c for c in df.columns if (c.split(fea_sep)[0]) in fea_list]\n",
    "        df = df[fea]\n",
    "        return df    \n",
    "    \n",
    "    \n",
    "    def get_gen_fea_cnt(self, sep='_', verbose=True):\n",
    "        \"\"\" Count number of unique feature types. \"\"\"\n",
    "        dct = {}\n",
    "        for c in self.gen_df.columns:\n",
    "            prfx = c.split(sep)[0]\n",
    "            if prfx in dct.keys():\n",
    "                dct[prfx] += 1\n",
    "            else:\n",
    "                dct[prfx] = 1\n",
    "\n",
    "        if verbose:\n",
    "            print(dct)\n",
    "        \n",
    "        return dct\n",
    "    \n",
    "    \n",
    "    def get_drg_fea_cnt(self, sep='_', verbose=True):\n",
    "        \"\"\" Count number of unique feature types. \"\"\"\n",
    "        dct = {}\n",
    "        for c in self.drg_df.columns:\n",
    "            prfx = c.split(sep)[0]\n",
    "            if prfx in dct.keys():\n",
    "                dct[prfx] += 1\n",
    "            else:\n",
    "                dct[prfx] = 1\n",
    "\n",
    "        if verbose:\n",
    "            print(dct)\n",
    "        \n",
    "        return dct"
   ]
  },
  {
   "cell_type": "code",
   "execution_count": 21,
   "metadata": {},
   "outputs": [
    {
     "name": "stdout",
     "output_type": "stream",
     "text": [
      "================================================================================\n",
      "Data source: CCLE\n",
      "Phase: train\n",
      "Data points: 8755\n",
      "Unique drugs: 24\n",
      "Unique cells: 378\n",
      "drg_df.shape: (1402, 2344)\n",
      "gen_df.shape: (1430, 1927)\n"
     ]
    }
   ],
   "source": [
    "gen_fea_list = ['geneGE']\n",
    "drg_fea_list = ['DD']\n",
    "tr_ds = CCLDataset(res_df = res,\n",
    "                   gen_df = gen,\n",
    "                   drg_df = drg,\n",
    "                   ccl_folds_dir = ccl_folds_dir,\n",
    "                   tr_ph = 'train', fold = 0, src = 'CCLE',\n",
    "                   gen_fea_list = gen_fea_list,\n",
    "                   drg_fea_list = drg_fea_list)\n",
    "# vl_ds = CCLDataset(xdata=xte, ydata=yte)\n",
    "# te_ds = CCLDataset(xdata=xte, ydata=yte)"
   ]
  },
  {
   "cell_type": "code",
   "execution_count": 22,
   "metadata": {},
   "outputs": [],
   "source": [
    "# Define data loaders\n",
    "batch_size = 1\n",
    "num_workers = 1\n",
    "tr_loader_prms = {'batch_size': batch_size, 'shuffle': True, 'num_workers': num_workers}\n",
    "# te_loader_prms = {'batch_size': 4*batch_size, 'shuffle': False, 'num_workers': num_workers}\n",
    "\n",
    "tr_loader = DataLoader(tr_ds, **tr_loader_prms)\n",
    "# te_loader = DataLoader(te_ds, **te_loader_prms)"
   ]
  },
  {
   "cell_type": "code",
   "execution_count": 23,
   "metadata": {},
   "outputs": [],
   "source": [
    "ret = next(iter(tr_loader))  # (idx, SOURCE, ccl_id, drg_id, auc, ccl_fea, drg_fea)\n",
    "\n",
    "idx = ret[0]\n",
    "source = ret[1]\n",
    "cell_id = ret[2]\n",
    "drug_id = ret[3]\n",
    "auc = ret[4]\n",
    "cell_fea = ret[5]\n",
    "drug_fea = ret[6]\n"
   ]
  },
  {
   "cell_type": "code",
   "execution_count": 24,
   "metadata": {},
   "outputs": [
    {
     "data": {
      "text/plain": [
       "[tensor([6808]),\n",
       " ('CCLE',),\n",
       " ('CCL_668',),\n",
       " ('Drug_7',),\n",
       " tensor([0.7728], dtype=torch.float64),\n",
       " tensor([[ 0.3722,  0.9731,  0.0231,  ...,  1.2562, -0.0929,  0.7574]]),\n",
       " tensor([[ 0.1505,  2.7617, -0.4077,  ...,  0.0000,  1.0000,  0.0000]])]"
      ]
     },
     "execution_count": 24,
     "metadata": {},
     "output_type": "execute_result"
    }
   ],
   "source": [
    "ret"
   ]
  },
  {
   "cell_type": "code",
   "execution_count": 25,
   "metadata": {},
   "outputs": [
    {
     "name": "stdout",
     "output_type": "stream",
     "text": [
      "23\n",
      "378\n"
     ]
    },
    {
     "data": {
      "text/plain": [
       "1"
      ]
     },
     "execution_count": 25,
     "metadata": {},
     "output_type": "execute_result"
    }
   ],
   "source": [
    "print( sum(tr_ds.res_df['ccl_name']==ret[2][0]) )\n",
    "print( sum(tr_ds.res_df['ctrpDrugID']==ret[3][0]) )\n",
    "sum( (tr_ds.res_df['ccl_name']==ret[2][0]) & (tr_ds.res_df['ctrpDrugID']==ret[3][0]) )"
   ]
  },
  {
   "cell_type": "code",
   "execution_count": 26,
   "metadata": {},
   "outputs": [
    {
     "data": {
      "text/html": [
       "<div>\n",
       "<style scoped>\n",
       "    .dataframe tbody tr th:only-of-type {\n",
       "        vertical-align: middle;\n",
       "    }\n",
       "\n",
       "    .dataframe tbody tr th {\n",
       "        vertical-align: top;\n",
       "    }\n",
       "\n",
       "    .dataframe thead th {\n",
       "        text-align: right;\n",
       "    }\n",
       "</style>\n",
       "<table border=\"1\" class=\"dataframe\">\n",
       "  <thead>\n",
       "    <tr style=\"text-align: right;\">\n",
       "      <th></th>\n",
       "      <th>id</th>\n",
       "      <th>SOURCE</th>\n",
       "      <th>ccl_name</th>\n",
       "      <th>ctrpDrugID</th>\n",
       "      <th>area_under_curve</th>\n",
       "      <th>groupID</th>\n",
       "    </tr>\n",
       "  </thead>\n",
       "  <tbody>\n",
       "    <tr>\n",
       "      <th>6808</th>\n",
       "      <td>6808</td>\n",
       "      <td>CCLE</td>\n",
       "      <td>CCL_668</td>\n",
       "      <td>Drug_7</td>\n",
       "      <td>0.7728</td>\n",
       "      <td>0.037</td>\n",
       "    </tr>\n",
       "  </tbody>\n",
       "</table>\n",
       "</div>"
      ],
      "text/plain": [
       "        id SOURCE ccl_name ctrpDrugID  area_under_curve  groupID\n",
       "6808  6808   CCLE  CCL_668     Drug_7            0.7728    0.037"
      ]
     },
     "execution_count": 26,
     "metadata": {},
     "output_type": "execute_result"
    }
   ],
   "source": [
    "tr_ds.res_df[ (tr_ds.res_df['ccl_name']==ret[2][0]) & (tr_ds.res_df['ctrpDrugID']==ret[3][0]) ]"
   ]
  },
  {
   "cell_type": "code",
   "execution_count": 27,
   "metadata": {},
   "outputs": [
    {
     "data": {
      "text/html": [
       "<div>\n",
       "<style scoped>\n",
       "    .dataframe tbody tr th:only-of-type {\n",
       "        vertical-align: middle;\n",
       "    }\n",
       "\n",
       "    .dataframe tbody tr th {\n",
       "        vertical-align: top;\n",
       "    }\n",
       "\n",
       "    .dataframe thead th {\n",
       "        text-align: right;\n",
       "    }\n",
       "</style>\n",
       "<table border=\"1\" class=\"dataframe\">\n",
       "  <thead>\n",
       "    <tr style=\"text-align: right;\">\n",
       "      <th></th>\n",
       "      <th>id</th>\n",
       "      <th>SOURCE</th>\n",
       "      <th>ccl_name</th>\n",
       "      <th>ctrpDrugID</th>\n",
       "      <th>area_under_curve</th>\n",
       "      <th>groupID</th>\n",
       "    </tr>\n",
       "  </thead>\n",
       "  <tbody>\n",
       "    <tr>\n",
       "      <th>6808</th>\n",
       "      <td>6808</td>\n",
       "      <td>CCLE</td>\n",
       "      <td>CCL_668</td>\n",
       "      <td>Drug_7</td>\n",
       "      <td>0.7728</td>\n",
       "      <td>0.037</td>\n",
       "    </tr>\n",
       "  </tbody>\n",
       "</table>\n",
       "</div>"
      ],
      "text/plain": [
       "        id SOURCE ccl_name ctrpDrugID  area_under_curve  groupID\n",
       "6808  6808   CCLE  CCL_668     Drug_7            0.7728    0.037"
      ]
     },
     "execution_count": 27,
     "metadata": {},
     "output_type": "execute_result"
    }
   ],
   "source": [
    "tr_ds.res_df.loc[ret[0]]"
   ]
  },
  {
   "cell_type": "code",
   "execution_count": null,
   "metadata": {},
   "outputs": [],
   "source": []
  },
  {
   "cell_type": "code",
   "execution_count": 28,
   "metadata": {},
   "outputs": [
    {
     "data": {
      "text/plain": [
       "378"
      ]
     },
     "execution_count": 28,
     "metadata": {},
     "output_type": "execute_result"
    }
   ],
   "source": [
    "len( set(tr_ds.ids_list).intersection(set(tr_id)) )"
   ]
  },
  {
   "cell_type": "code",
   "execution_count": null,
   "metadata": {},
   "outputs": [],
   "source": []
  },
  {
   "cell_type": "code",
   "execution_count": 18,
   "metadata": {},
   "outputs": [
    {
     "data": {
      "text/plain": [
       "True"
      ]
     },
     "execution_count": 18,
     "metadata": {},
     "output_type": "execute_result"
    }
   ],
   "source": [
    "l=['lin', 'a']\n",
    "\n",
    "any(['lin'==s for s in l])"
   ]
  },
  {
   "cell_type": "code",
   "execution_count": 21,
   "metadata": {},
   "outputs": [
    {
     "ename": "TypeError",
     "evalue": "can only concatenate list (not \"str\") to list",
     "output_type": "error",
     "traceback": [
      "\u001b[0;31m---------------------------------------------------------------------------\u001b[0m",
      "\u001b[0;31mTypeError\u001b[0m                                 Traceback (most recent call last)",
      "\u001b[0;32m<ipython-input-21-b2abcf81fe5a>\u001b[0m in \u001b[0;36m<module>\u001b[0;34m\u001b[0m\n\u001b[1;32m      1\u001b[0m \u001b[0ml\u001b[0m \u001b[0;34m=\u001b[0m \u001b[0;34m[\u001b[0m\u001b[0;34m'a'\u001b[0m\u001b[0;34m,\u001b[0m \u001b[0;34m'b'\u001b[0m\u001b[0;34m]\u001b[0m\u001b[0;34m\u001b[0m\u001b[0;34m\u001b[0m\u001b[0m\n\u001b[0;32m----> 2\u001b[0;31m \u001b[0ml\u001b[0m \u001b[0;34m=\u001b[0m \u001b[0ml\u001b[0m \u001b[0;34m+\u001b[0m \u001b[0;34m'c'\u001b[0m\u001b[0;34m\u001b[0m\u001b[0;34m\u001b[0m\u001b[0m\n\u001b[0m",
      "\u001b[0;31mTypeError\u001b[0m: can only concatenate list (not \"str\") to list"
     ]
    }
   ],
   "source": [
    "l = ['a', 'b']\n",
    "l = l + 'c'"
   ]
  },
  {
   "cell_type": "code",
   "execution_count": 22,
   "metadata": {},
   "outputs": [
    {
     "data": {
      "text/plain": [
       "['a', 'b']"
      ]
     },
     "execution_count": 22,
     "metadata": {},
     "output_type": "execute_result"
    }
   ],
   "source": [
    "l"
   ]
  },
  {
   "cell_type": "code",
   "execution_count": null,
   "metadata": {},
   "outputs": [],
   "source": []
  }
 ],
 "metadata": {
  "kernelspec": {
   "display_name": "Python 3",
   "language": "python",
   "name": "python3"
  },
  "language_info": {
   "codemirror_mode": {
    "name": "ipython",
    "version": 3
   },
   "file_extension": ".py",
   "mimetype": "text/x-python",
   "name": "python",
   "nbconvert_exporter": "python",
   "pygments_lexer": "ipython3",
   "version": "3.6.8"
  }
 },
 "nbformat": 4,
 "nbformat_minor": 2
}
