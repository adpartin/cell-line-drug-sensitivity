{
 "cells": [
  {
   "cell_type": "code",
   "execution_count": 1,
   "metadata": {},
   "outputs": [],
   "source": [
    "%load_ext autoreload\n",
    "%autoreload 2\n",
    "%matplotlib inline\n",
    "\n",
    "import warnings\n",
    "warnings.filterwarnings('ignore')\n",
    "\n",
    "import os\n",
    "from pathlib import Path\n",
    "import sys\n",
    "from time import time\n",
    "import numpy as np\n",
    "import pandas as pd\n",
    "\n",
    "import sklearn\n",
    "from collections import OrderedDict\n",
    "from sklearn.metrics import r2_score\n",
    "\n",
    "import matplotlib.pyplot as plt\n",
    "import matplotlib.cm as cm\n",
    "\n",
    "from sklearn.preprocessing import StandardScaler\n",
    "from sklearn.model_selection import train_test_split\n",
    "\n",
    "SEED = 42"
   ]
  },
  {
   "cell_type": "code",
   "execution_count": null,
   "metadata": {},
   "outputs": [],
   "source": []
  },
  {
   "cell_type": "markdown",
   "metadata": {},
   "source": [
    "# Load data"
   ]
  },
  {
   "cell_type": "code",
   "execution_count": 2,
   "metadata": {},
   "outputs": [],
   "source": [
    "datadir = Path('../../data/yitan/Data')\n",
    "ccl_folds_dir = Path('../../data/yitan/CCL_10Fold_Partition')\n",
    "pdm_folds_dir = Path('../../data/yitan/PDM_10Fold_Partition')"
   ]
  },
  {
   "cell_type": "code",
   "execution_count": 3,
   "metadata": {},
   "outputs": [],
   "source": [
    "# Un-pickle files\n",
    "import _pickle as cp\n",
    "\n",
    "pkl_file = open(datadir/'CCL_PDM_TransferLearningData_rmFactor_0.0_ddNorm_std.pkl', 'rb')\n",
    "\n",
    "res = cp.load(pkl_file)\n",
    "genomics = cp.load(pkl_file)\n",
    "drug = cp.load(pkl_file)\n",
    "\n",
    "pkl_file.close()"
   ]
  },
  {
   "cell_type": "code",
   "execution_count": 4,
   "metadata": {},
   "outputs": [
    {
     "name": "stdout",
     "output_type": "stream",
     "text": [
      "res      (708662, 5)\n",
      "genomics (1430, 4582)\n",
      "drug     (1402, 4392)\n"
     ]
    }
   ],
   "source": [
    "print('res     ', res.shape)\n",
    "print('genomics', genomics.shape)\n",
    "print('drug    ', drug.shape)"
   ]
  },
  {
   "cell_type": "code",
   "execution_count": null,
   "metadata": {},
   "outputs": [],
   "source": []
  },
  {
   "cell_type": "markdown",
   "metadata": {},
   "source": [
    "# First look at the data"
   ]
  },
  {
   "cell_type": "code",
   "execution_count": 5,
   "metadata": {},
   "outputs": [
    {
     "data": {
      "text/html": [
       "<div>\n",
       "<style scoped>\n",
       "    .dataframe tbody tr th:only-of-type {\n",
       "        vertical-align: middle;\n",
       "    }\n",
       "\n",
       "    .dataframe tbody tr th {\n",
       "        vertical-align: top;\n",
       "    }\n",
       "\n",
       "    .dataframe thead th {\n",
       "        text-align: right;\n",
       "    }\n",
       "</style>\n",
       "<table border=\"1\" class=\"dataframe\">\n",
       "  <thead>\n",
       "    <tr style=\"text-align: right;\">\n",
       "      <th></th>\n",
       "      <th>SOURCE</th>\n",
       "      <th>ccl_name</th>\n",
       "      <th>ctrpDrugID</th>\n",
       "      <th>area_under_curve</th>\n",
       "      <th>groupID</th>\n",
       "    </tr>\n",
       "  </thead>\n",
       "  <tbody>\n",
       "    <tr>\n",
       "      <th>0</th>\n",
       "      <td>CCLE</td>\n",
       "      <td>CCL_61</td>\n",
       "      <td>Drug_11</td>\n",
       "      <td>0.7153</td>\n",
       "      <td>0.0000</td>\n",
       "    </tr>\n",
       "    <tr>\n",
       "      <th>1</th>\n",
       "      <td>CCLE</td>\n",
       "      <td>CCL_61</td>\n",
       "      <td>Drug_1</td>\n",
       "      <td>0.9579</td>\n",
       "      <td>0.9164</td>\n",
       "    </tr>\n",
       "  </tbody>\n",
       "</table>\n",
       "</div>"
      ],
      "text/plain": [
       "  SOURCE ccl_name ctrpDrugID  area_under_curve  groupID\n",
       "0   CCLE   CCL_61    Drug_11            0.7153   0.0000\n",
       "1   CCLE   CCL_61     Drug_1            0.9579   0.9164"
      ]
     },
     "metadata": {},
     "output_type": "display_data"
    },
    {
     "data": {
      "text/html": [
       "<div>\n",
       "<style scoped>\n",
       "    .dataframe tbody tr th:only-of-type {\n",
       "        vertical-align: middle;\n",
       "    }\n",
       "\n",
       "    .dataframe tbody tr th {\n",
       "        vertical-align: top;\n",
       "    }\n",
       "\n",
       "    .dataframe thead th {\n",
       "        text-align: right;\n",
       "    }\n",
       "</style>\n",
       "<table border=\"1\" class=\"dataframe\">\n",
       "  <thead>\n",
       "    <tr style=\"text-align: right;\">\n",
       "      <th></th>\n",
       "      <th>geneGE_AARS</th>\n",
       "      <th>geneGE_ABCB6</th>\n",
       "      <th>geneGE_ABCC5</th>\n",
       "      <th>geneGE_ABCF1</th>\n",
       "      <th>geneGE_ABCF3</th>\n",
       "      <th>geneGE_ABHD4</th>\n",
       "      <th>geneGE_ABHD6</th>\n",
       "    </tr>\n",
       "  </thead>\n",
       "  <tbody>\n",
       "    <tr>\n",
       "      <th>CCL_1</th>\n",
       "      <td>-0.125161</td>\n",
       "      <td>-0.400237</td>\n",
       "      <td>-0.960208</td>\n",
       "      <td>0.575207</td>\n",
       "      <td>-0.468406</td>\n",
       "      <td>-0.136257</td>\n",
       "      <td>0.083319</td>\n",
       "    </tr>\n",
       "    <tr>\n",
       "      <th>CCL_10</th>\n",
       "      <td>-0.217106</td>\n",
       "      <td>0.354776</td>\n",
       "      <td>-1.164841</td>\n",
       "      <td>0.328071</td>\n",
       "      <td>-0.735267</td>\n",
       "      <td>0.232990</td>\n",
       "      <td>-0.174979</td>\n",
       "    </tr>\n",
       "  </tbody>\n",
       "</table>\n",
       "</div>"
      ],
      "text/plain": [
       "        geneGE_AARS  geneGE_ABCB6  geneGE_ABCC5  geneGE_ABCF1  geneGE_ABCF3  \\\n",
       "CCL_1     -0.125161     -0.400237     -0.960208      0.575207     -0.468406   \n",
       "CCL_10    -0.217106      0.354776     -1.164841      0.328071     -0.735267   \n",
       "\n",
       "        geneGE_ABHD4  geneGE_ABHD6  \n",
       "CCL_1      -0.136257      0.083319  \n",
       "CCL_10      0.232990     -0.174979  "
      ]
     },
     "metadata": {},
     "output_type": "display_data"
    },
    {
     "data": {
      "text/html": [
       "<div>\n",
       "<style scoped>\n",
       "    .dataframe tbody tr th:only-of-type {\n",
       "        vertical-align: middle;\n",
       "    }\n",
       "\n",
       "    .dataframe tbody tr th {\n",
       "        vertical-align: top;\n",
       "    }\n",
       "\n",
       "    .dataframe thead th {\n",
       "        text-align: right;\n",
       "    }\n",
       "</style>\n",
       "<table border=\"1\" class=\"dataframe\">\n",
       "  <thead>\n",
       "    <tr style=\"text-align: right;\">\n",
       "      <th></th>\n",
       "      <th>DD_MW|num</th>\n",
       "      <th>DD_AMW|num</th>\n",
       "      <th>DD_Sv|num</th>\n",
       "      <th>DD_Se|num</th>\n",
       "      <th>DD_Sp|num</th>\n",
       "      <th>DD_Si|num</th>\n",
       "      <th>DD_Mv|num</th>\n",
       "    </tr>\n",
       "  </thead>\n",
       "  <tbody>\n",
       "    <tr>\n",
       "      <th>Drug_1</th>\n",
       "      <td>0.123446</td>\n",
       "      <td>0.526234</td>\n",
       "      <td>-0.072180</td>\n",
       "      <td>-0.088861</td>\n",
       "      <td>-0.058460</td>\n",
       "      <td>-0.083100</td>\n",
       "      <td>-0.009539</td>\n",
       "    </tr>\n",
       "    <tr>\n",
       "      <th>Drug_10</th>\n",
       "      <td>0.053188</td>\n",
       "      <td>1.966100</td>\n",
       "      <td>-0.333843</td>\n",
       "      <td>-0.379081</td>\n",
       "      <td>-0.359584</td>\n",
       "      <td>-0.398841</td>\n",
       "      <td>1.172374</td>\n",
       "    </tr>\n",
       "  </tbody>\n",
       "</table>\n",
       "</div>"
      ],
      "text/plain": [
       "         DD_MW|num  DD_AMW|num  DD_Sv|num  DD_Se|num  DD_Sp|num  DD_Si|num  \\\n",
       "Drug_1    0.123446    0.526234  -0.072180  -0.088861  -0.058460  -0.083100   \n",
       "Drug_10   0.053188    1.966100  -0.333843  -0.379081  -0.359584  -0.398841   \n",
       "\n",
       "         DD_Mv|num  \n",
       "Drug_1   -0.009539  \n",
       "Drug_10   1.172374  "
      ]
     },
     "metadata": {},
     "output_type": "display_data"
    }
   ],
   "source": [
    "display(res[:2])\n",
    "display(genomics.iloc[:2, :7])\n",
    "display(drug.iloc[:2, :7])"
   ]
  },
  {
   "cell_type": "code",
   "execution_count": 6,
   "metadata": {},
   "outputs": [
    {
     "data": {
      "text/html": [
       "<div>\n",
       "<style scoped>\n",
       "    .dataframe tbody tr th:only-of-type {\n",
       "        vertical-align: middle;\n",
       "    }\n",
       "\n",
       "    .dataframe tbody tr th {\n",
       "        vertical-align: top;\n",
       "    }\n",
       "\n",
       "    .dataframe thead th {\n",
       "        text-align: right;\n",
       "    }\n",
       "</style>\n",
       "<table border=\"1\" class=\"dataframe\">\n",
       "  <thead>\n",
       "    <tr style=\"text-align: right;\">\n",
       "      <th></th>\n",
       "      <th>SOURCE</th>\n",
       "      <th>ccl_name</th>\n",
       "      <th>ctrpDrugID</th>\n",
       "    </tr>\n",
       "  </thead>\n",
       "  <tbody>\n",
       "    <tr>\n",
       "      <th>0</th>\n",
       "      <td>CCLE</td>\n",
       "      <td>474</td>\n",
       "      <td>24</td>\n",
       "    </tr>\n",
       "    <tr>\n",
       "      <th>1</th>\n",
       "      <td>CTRP</td>\n",
       "      <td>812</td>\n",
       "      <td>494</td>\n",
       "    </tr>\n",
       "    <tr>\n",
       "      <th>2</th>\n",
       "      <td>GDSC</td>\n",
       "      <td>670</td>\n",
       "      <td>238</td>\n",
       "    </tr>\n",
       "    <tr>\n",
       "      <th>3</th>\n",
       "      <td>NCI60</td>\n",
       "      <td>59</td>\n",
       "      <td>987</td>\n",
       "    </tr>\n",
       "    <tr>\n",
       "      <th>4</th>\n",
       "      <td>PDM</td>\n",
       "      <td>473</td>\n",
       "      <td>18</td>\n",
       "    </tr>\n",
       "    <tr>\n",
       "      <th>5</th>\n",
       "      <td>gCSI</td>\n",
       "      <td>357</td>\n",
       "      <td>16</td>\n",
       "    </tr>\n",
       "  </tbody>\n",
       "</table>\n",
       "</div>"
      ],
      "text/plain": [
       "  SOURCE  ccl_name  ctrpDrugID\n",
       "0   CCLE       474          24\n",
       "1   CTRP       812         494\n",
       "2   GDSC       670         238\n",
       "3  NCI60        59         987\n",
       "4    PDM       473          18\n",
       "5   gCSI       357          16"
      ]
     },
     "execution_count": 6,
     "metadata": {},
     "output_type": "execute_result"
    }
   ],
   "source": [
    "res.groupby('SOURCE').agg({'ccl_name': 'nunique', 'ctrpDrugID': 'nunique'}).reset_index()"
   ]
  },
  {
   "cell_type": "markdown",
   "metadata": {},
   "source": [
    "# Update dfs"
   ]
  },
  {
   "cell_type": "code",
   "execution_count": 7,
   "metadata": {},
   "outputs": [],
   "source": [
    "gen = genomics\n",
    "drg = drug"
   ]
  },
  {
   "cell_type": "code",
   "execution_count": 8,
   "metadata": {},
   "outputs": [
    {
     "data": {
      "text/html": [
       "<div>\n",
       "<style scoped>\n",
       "    .dataframe tbody tr th:only-of-type {\n",
       "        vertical-align: middle;\n",
       "    }\n",
       "\n",
       "    .dataframe tbody tr th {\n",
       "        vertical-align: top;\n",
       "    }\n",
       "\n",
       "    .dataframe thead th {\n",
       "        text-align: right;\n",
       "    }\n",
       "</style>\n",
       "<table border=\"1\" class=\"dataframe\">\n",
       "  <thead>\n",
       "    <tr style=\"text-align: right;\">\n",
       "      <th></th>\n",
       "      <th>idx</th>\n",
       "      <th>SOURCE</th>\n",
       "      <th>ccl_name</th>\n",
       "      <th>ctrpDrugID</th>\n",
       "      <th>area_under_curve</th>\n",
       "      <th>groupID</th>\n",
       "    </tr>\n",
       "  </thead>\n",
       "  <tbody>\n",
       "    <tr>\n",
       "      <th>0</th>\n",
       "      <td>0</td>\n",
       "      <td>CCLE</td>\n",
       "      <td>CCL_61</td>\n",
       "      <td>Drug_11</td>\n",
       "      <td>0.7153</td>\n",
       "      <td>0.0000</td>\n",
       "    </tr>\n",
       "    <tr>\n",
       "      <th>1</th>\n",
       "      <td>1</td>\n",
       "      <td>CCLE</td>\n",
       "      <td>CCL_61</td>\n",
       "      <td>Drug_1</td>\n",
       "      <td>0.9579</td>\n",
       "      <td>0.9164</td>\n",
       "    </tr>\n",
       "  </tbody>\n",
       "</table>\n",
       "</div>"
      ],
      "text/plain": [
       "   idx SOURCE ccl_name ctrpDrugID  area_under_curve  groupID\n",
       "0    0   CCLE   CCL_61    Drug_11            0.7153   0.0000\n",
       "1    1   CCLE   CCL_61     Drug_1            0.9579   0.9164"
      ]
     },
     "execution_count": 8,
     "metadata": {},
     "output_type": "execute_result"
    }
   ],
   "source": [
    "# Bring in the row index\n",
    "res = res.reset_index()\n",
    "res = res.rename(columns={'index': 'idx'})\n",
    "res[:2]"
   ]
  },
  {
   "cell_type": "markdown",
   "metadata": {},
   "source": [
    "# Where are the genomic features coming from?\n",
    "Gene expression is coming from CCLE or NCI60."
   ]
  },
  {
   "cell_type": "code",
   "execution_count": 9,
   "metadata": {},
   "outputs": [],
   "source": [
    "# gen_ = genomics.reset_index().rename(columns={'index': 'ccl_name'})\n",
    "\n",
    "# display(gen_.iloc[:2, :5])\n",
    "# display(res[:2])"
   ]
  },
  {
   "cell_type": "code",
   "execution_count": 10,
   "metadata": {},
   "outputs": [],
   "source": [
    "# aa = pd.merge(gen_[['ccl_name']], res[['SOURCE', 'ccl_name']], on='ccl_name', how='inner')\n",
    "# # aa = aa.drop_duplicates().reset_index(drop=True)\n",
    "# print(aa.shape)\n",
    "# print(aa['SOURCE'].value_counts())\n",
    "\n",
    "# bb = aa[aa['ccl_name']=='CCL_1']['SOURCE'].value_counts()\n",
    "# print(bb)"
   ]
  },
  {
   "cell_type": "code",
   "execution_count": 11,
   "metadata": {},
   "outputs": [],
   "source": [
    "# del gen_, aa, bb"
   ]
  },
  {
   "cell_type": "code",
   "execution_count": null,
   "metadata": {},
   "outputs": [],
   "source": []
  },
  {
   "cell_type": "markdown",
   "metadata": {},
   "source": [
    "# What features are available?"
   ]
  },
  {
   "cell_type": "code",
   "execution_count": 12,
   "metadata": {},
   "outputs": [],
   "source": [
    "# def cnt_fea(df, fea_sep='_', verbose=True):\n",
    "#     \"\"\" Count the number of features per feature type. \"\"\"\n",
    "#     dct = {}\n",
    "#     unq_prfx = df.columns.map(lambda x: x.split(fea_sep)[0]).unique() # unique feature prefixes\n",
    "#     for prfx in unq_prfx:\n",
    "#         fea_type_cols = [c for c in df.columns if (c.split(fea_sep)[0]) in prfx] # all fea names of specific type\n",
    "#         dct[prfx] = len(fea_type_cols)\n",
    "#     if verbose: print(dct)\n",
    "#     return dct\n",
    "\n",
    "# cnt_fea(gen, fea_sep='_');\n",
    "# cnt_fea(drg, fea_sep='_');"
   ]
  },
  {
   "cell_type": "code",
   "execution_count": 13,
   "metadata": {},
   "outputs": [],
   "source": [
    "# def extract_subset_fea(df, fea_list, fea_sep='_'):\n",
    "#     \"\"\" Extract features based feature prefix name. \"\"\"\n",
    "#     fea = [c for c in df.columns if (c.split(fea_sep)[0]) in fea_list]\n",
    "#     df = df[fea]\n",
    "#     return df\n",
    "\n",
    "# tmp = extract_subset_fea(gen, fea_list=['geneGE', 'c2cpMaxGE'], fea_sep='_')\n",
    "# cnt_fea(tmp, fea_sep='_', verbose=True);"
   ]
  },
  {
   "cell_type": "code",
   "execution_count": 14,
   "metadata": {},
   "outputs": [],
   "source": [
    "# def extract_unq_fea_dfs(df, fea_sep='_'):\n",
    "#     \"\"\" Generate dict where each element is a separate df with unique feature type. \"\"\"\n",
    "#     dct_fea_prfx = cnt_fea(df, fea_sep=fea_sep)\n",
    "#     dct_dfs = {}\n",
    "#     for k in dct_fea_prfx.keys():\n",
    "#         fea_type_cols = [c for c in df.columns if (c.split(fea_sep)[0]) in k]\n",
    "#         dct_dfs[k] = df[fea_type_cols]\n",
    "#     return dct_dfs\n",
    "\n",
    "# # Genomic dfs\n",
    "# gen_dct = extract_unq_fea_dfs(gen, fea_sep='_')\n",
    "# display(gen_dct['geneGE'].shape)\n",
    "# display(gen_dct['c2cpMaxGE'].shape)\n",
    "# display(gen_dct['c2cpMinGE'].shape)\n",
    "\n",
    "# # Drug dfs\n",
    "# drg_dct = extract_unq_fea_dfs(drg, fea_sep='_')\n",
    "# display(drg_dct['DD'].shape)\n",
    "# display(drg_dct['ECFP'].shape)\n",
    "# display(drg_dct['PFP'].shape)"
   ]
  },
  {
   "cell_type": "code",
   "execution_count": null,
   "metadata": {},
   "outputs": [],
   "source": []
  },
  {
   "cell_type": "markdown",
   "metadata": {},
   "source": [
    "# Some funcs for the pytroch dataset"
   ]
  },
  {
   "cell_type": "code",
   "execution_count": 15,
   "metadata": {},
   "outputs": [],
   "source": [
    "# res_ = res.copy()\n",
    "# gen_ = gen.copy()\n",
    "# drg_ = drg.copy()\n",
    "\n",
    "# # Extract specific fea types\n",
    "# gen_fea_list = ['geneGE']\n",
    "# drg_fea_list = ['DD']\n",
    "\n",
    "# cnt_fea(gen_, fea_sep='_', verbose=True);\n",
    "# gen_ = extract_subset_fea(df=gen_, fea_list=gen_fea_list, fea_sep='_')\n",
    "# cnt_fea(gen_, fea_sep='_', verbose=True);\n",
    "\n",
    "# cnt_fea(drg_, fea_sep='_', verbose=True);\n",
    "# drg_ = extract_subset_fea(df=drg, fea_list=drg_fea_list, fea_sep='_')\n",
    "# cnt_fea(drg_, fea_sep='_', verbose=True);"
   ]
  },
  {
   "cell_type": "code",
   "execution_count": 16,
   "metadata": {},
   "outputs": [],
   "source": [
    "# # Bring the labels in\n",
    "# gen_ = gen_.reset_index().rename(columns={'index': 'ccl_name'})\n",
    "# drg_ = drg_.reset_index().rename(columns={'index': 'ctrpDrugID'})\n",
    "\n",
    "# # Extract src and fold\n",
    "# src = 'CCLE'\n",
    "# fold = 0\n",
    "# path = ccl_folds_dir/f'{src}/cv_{fold}' # 'TestList.txt'\n",
    "\n",
    "# tr_id = pd.read_csv(path/'TrainList.txt', header=None).squeeze().values\n",
    "# vl_id = pd.read_csv(path/'ValList.txt', header=None).squeeze().values\n",
    "# te_id = pd.read_csv(path/'TestList.txt', header=None).squeeze().values\n",
    "\n",
    "# # Show how much is left for train, val, and test\n",
    "# tr_sz, vl_sz, te_sz = len(tr_id), len(vl_id), len(te_id)\n",
    "# sz = tr_sz + vl_sz + te_sz\n",
    "# print(tr_sz/sz)\n",
    "\n",
    "# # Retain specific source and shuffle\n",
    "# print(res_.shape)\n",
    "# res_ = res_[ res['SOURCE'].isin([src]) ]\n",
    "# # res_ = res_.sample(frac=1.0, random_state=42).reset_index(drop=True)\n",
    "# print(res_.shape)"
   ]
  },
  {
   "cell_type": "code",
   "execution_count": 17,
   "metadata": {},
   "outputs": [],
   "source": [
    "# # Merge data\n",
    "# len(res_.ccl_name.unique())\n",
    "\n",
    "# mrg = pd.merge(res_, gen_, on='ccl_name', how='inner')\n",
    "# mrg = pd.merge(mrg, drg_, on='ctrpDrugID', how='inner')\n",
    "# print(mrg.shape)\n",
    "# display(mrg[:2])"
   ]
  },
  {
   "cell_type": "code",
   "execution_count": 18,
   "metadata": {},
   "outputs": [],
   "source": [
    "# # Get tr, vl, and te sets\n",
    "# tr_df = mrg[mrg['ccl_name'].isin(tr_id)]\n",
    "# vl_df = mrg[mrg['ccl_name'].isin(vl_id)]\n",
    "# te_df = mrg[mrg['ccl_name'].isin(te_id)]\n",
    "\n",
    "# print(tr_df.shape)\n",
    "# print(vl_df.shape)\n",
    "# print(te_df.shape)"
   ]
  },
  {
   "cell_type": "code",
   "execution_count": null,
   "metadata": {},
   "outputs": [],
   "source": []
  },
  {
   "cell_type": "markdown",
   "metadata": {},
   "source": [
    "# Define PyTorch Dataset"
   ]
  },
  {
   "cell_type": "code",
   "execution_count": 19,
   "metadata": {},
   "outputs": [],
   "source": [
    "import torch\n",
    "from torch import nn, optim\n",
    "from torch.optim import lr_scheduler\n",
    "import torch.nn.functional as F\n",
    "from torch.utils.data import Dataset, DataLoader"
   ]
  },
  {
   "cell_type": "code",
   "execution_count": 20,
   "metadata": {},
   "outputs": [
    {
     "name": "stdout",
     "output_type": "stream",
     "text": [
      "(708662, 6)\n",
      "(1430, 4582)\n",
      "(1402, 4392)\n"
     ]
    }
   ],
   "source": [
    "print(res.shape)\n",
    "print(gen.shape)\n",
    "print(drg.shape)"
   ]
  },
  {
   "cell_type": "code",
   "execution_count": 21,
   "metadata": {},
   "outputs": [],
   "source": [
    "# ------------------------------\n",
    "#  Test code of pytroch dataset\n",
    "# ------------------------------\n",
    "\n",
    "# res_df = res.copy()\n",
    "# drg_df = drg.copy()\n",
    "# gen_df = gen.copy()\n",
    "\n",
    "# tr_ph = 'train'\n",
    "# fold = 0\n",
    "# src = 'CCLE'\n",
    "# gen_fea_list = ['geneGE']\n",
    "# drg_fea_list = ['DD']\n",
    "\n",
    "# res_df = res_df[ res_df['SOURCE'].isin([src]) ]\n",
    "# drg_df = extract_subset_fea(drg_df, drg_fea_list, fea_sep='_')\n",
    "# gen_df = extract_subset_fea(gen_df, gen_fea_list, fea_sep='_')\n",
    "\n",
    "# path = ccl_folds_dir/f'{src}/cv_{fold}'\n",
    "\n",
    "# res_arr = res_df.values\n",
    "# drg_fea_dct = {idx: row.values for idx, row in drg_df.iterrows()}\n",
    "# gen_fea_dct = {idx: row.values for idx, row in gen_df.iterrows()}"
   ]
  },
  {
   "cell_type": "code",
   "execution_count": 22,
   "metadata": {},
   "outputs": [],
   "source": [
    "class DrugRespDataset(Dataset):\n",
    "    # discuss.pytorch.org/t/data-processing-as-a-batch-way/14154\n",
    "    # github.com/utkuozbulak/pytorch-custom-dataset-examples#incorporating-pandas\n",
    "    # nbviewer.jupyter.org/github/FraPochetti/KagglePlaygrounds/blob/master/NYC%20Taxi%20Fares%20Prediction.ipynb\n",
    "    \n",
    "    def __init__(self,\n",
    "                 res_df: pd.DataFrame,\n",
    "                 gen_df: pd.DataFrame,\n",
    "                 drg_df: pd.DataFrame,\n",
    "                 ccl_folds_dir: str,\n",
    "                 src: str,\n",
    "                 fold: int,\n",
    "                 tr_ph: str,\n",
    "                 gen_fea_list: list=None,\n",
    "                 drg_fea_list: list=None,\n",
    "                 fea_sep: str='_',\n",
    "                 drg_dsc_preproc: str=None,  # TODO\n",
    "                 ccl_rna_preproc: str=None,  # TODO\n",
    "                 verbose: bool=True):\n",
    "        \"\"\" \n",
    "        Define pytorch dataset for drug response prediction.\n",
    "        Args:\n",
    "            res_df (pd.DataFrame) : drug response df\n",
    "            gen_df (pd.DataFrame) : genomics feature df\n",
    "            drg_df (pd.DataFrame) : drug feature df\n",
    "            ccl_folds_dir (str) : folder path that contains cv patitions in text files\n",
    "            src (str) : source name\n",
    "            fold (int) : fold index\n",
    "            tr_ph (str) : training phase ('tr', 'vl', 'te')\n",
    "            gen_fea_list (list) : list of prefixes of genomics features to retain\n",
    "            drg_fea_list (list) : list of prefixes of drug features to retain\n",
    "            fea_sep (str) : separator of feature prefix that indicates type and feature name\n",
    "            drg_dsc_preproc (str) : TODO: not implemented\n",
    "            cell_rna_preproc (str) : TODO: not implemented\n",
    "            verbose : bool=True\n",
    "        \"\"\"\n",
    "        \n",
    "        # ============================================\n",
    "        # Initialize\n",
    "        # ============================================\n",
    "        self.ccl_folds_dir = ccl_folds_dir\n",
    "        self.src = src\n",
    "        self.fold = fold\n",
    "        self.tr_ph = tr_ph.lower()\n",
    "        self.gen_fea_list = gen_fea_list\n",
    "        self.drg_fea_list = drg_fea_list\n",
    "        self.fea_sep = fea_sep\n",
    "        self.drg_dsc_preproc = None\n",
    "        self.ccl_rna_preproc = None\n",
    "\n",
    "        # ============================================\n",
    "        # Get the ccl names\n",
    "        # ============================================\n",
    "        if self.tr_ph in ['tr', 'train', 'training']:\n",
    "            self.ids_fname = 'TrainList.txt'\n",
    "        elif self.tr_ph in ['vl', 'val', 'validation']:\n",
    "            self.ids_fname = 'ValList.txt'\n",
    "        elif self.tr_ph in ['te', 'test', 'testing']:\n",
    "            self.ids_fname = 'TestList.txt'\n",
    "        else:\n",
    "            raise ValueError('Wrong `tr_ph` specified.')\n",
    "            \n",
    "        self.ids_path = self.ccl_folds_dir/f'{self.src}/cv_{self.fold}'/self.ids_fname # 'TestList.txt'        \n",
    "        self.ids_list = pd.read_csv(self.ids_path, header=None).squeeze().values\n",
    "        \n",
    "        # ============================================\n",
    "        # Load dfs\n",
    "        # ============================================\n",
    "        res_df = res_df[ res_df['SOURCE'].isin([src]) ]\n",
    "        self.res_df = res_df[ res_df['ccl_name'].isin( self.ids_list ) ]\n",
    "        \n",
    "        self.gen_df = drg_df if self.gen_fea_list is None else self.extract_subset_fea(gen_df, fea_list=self.gen_fea_list, fea_sep=self.fea_sep)\n",
    "        self.drg_df = drg_df if self.drg_fea_list is None else self.extract_subset_fea(drg_df, fea_list=self.drg_fea_list, fea_sep=self.fea_sep)\n",
    "        \n",
    "        # ============================================\n",
    "        # Public attributes\n",
    "        # ============================================\n",
    "        self.cells = self.res_df['ccl_name'].unique().tolist()\n",
    "        self.drugs = self.res_df['ctrpDrugID'].unique().tolist()\n",
    "        self.num_records = len(self.res_df)\n",
    "        self.gen_dim = self.gen_df.shape[1]\n",
    "        self.drg_dim = self.drg_df.shape[1]\n",
    "        \n",
    "        self.gen_fea_cnt = self.cnt_fea(self.gen_df, fea_sep=self.fea_sep, verbose=False)\n",
    "        self.drg_fea_cnt = self.cnt_fea(self.drg_df, fea_sep=self.fea_sep, verbose=False)\n",
    "        \n",
    "        # ============================================\n",
    "        # Convert dfs to arrays and dict for faster access\n",
    "        # ============================================\n",
    "        self.res_arr = self.res_df.values\n",
    "        self.gen_fea_dct = {idx: row.values for idx, row in self.gen_df.iterrows()}\n",
    "        self.drg_fea_dct = {idx: row.values for idx, row in self.drg_df.iterrows()}\n",
    "\n",
    "        # ============================================\n",
    "        # Summary\n",
    "        # ============================================\n",
    "        if verbose:\n",
    "            print('=' * 80)\n",
    "            print(f'Data source: {self.src}')\n",
    "            print(f'Phase: {tr_ph}')\n",
    "            print(f'Data points: {self.num_records}')\n",
    "            print(f'Unique cells: {len(self.cells)}')\n",
    "            print(f'Unique drugs: {len(self.drugs)}')\n",
    "            print(f'gen_df.shape: {self.gen_df.shape}')\n",
    "            print(f'drg_df.shape: {self.drg_df.shape}')\n",
    "            print(f'Genomic features: {self.drg_fea_cnt}')\n",
    "            print(f'Drug features:    {self.gen_fea_cnt}')\n",
    "            \n",
    "\n",
    "        \n",
    "    def __len__(self):\n",
    "        return len(self.res_arr)\n",
    "\n",
    "    \n",
    "    def __getitem__(self, index):\n",
    "        \"\"\" \n",
    "        Ref: github.com/xduan7/UnoPytorch/blob/master/utils/datasets/drug_resp_dataset.py\n",
    "        Look for __getitem__ in DrugRespDataset\n",
    "        \n",
    "        res indices: [idx, SOURCE, ccl_name, ctrpDrugID, area_under_curve, groupID]\n",
    "        \"\"\"\n",
    "        res = self.res_arr[index]\n",
    "        \n",
    "        idx = res[0]\n",
    "        src = res[1]\n",
    "        ccl_id = res[2]\n",
    "        drg_id = res[3]\n",
    "        auc = res[4]\n",
    "        \n",
    "        ccl_fea = self.gen_fea_dct[ccl_id]\n",
    "        drg_fea = self.drg_fea_dct[drg_id]\n",
    "        \n",
    "        # Cast values\n",
    "        ccl_fea = ccl_fea.astype(np.float32)\n",
    "        drg_fea = drg_fea.astype(np.float32)\n",
    "                \n",
    "        return idx, src, ccl_id, drg_id, auc, ccl_fea, drg_fea\n",
    "    \n",
    "    \n",
    "    def extract_subset_fea(self, df, fea_list, fea_sep='_'):\n",
    "        \"\"\" Extract features based feature prefix name. \"\"\"\n",
    "        fea = [c for c in df.columns if (c.split(fea_sep)[0]) in fea_list]\n",
    "        df = df[fea]\n",
    "        return df    \n",
    "    \n",
    "    \n",
    "    def cnt_fea(self, df, fea_sep='_', verbose=True):\n",
    "        \"\"\" Count the number of features per feature type. \"\"\"\n",
    "        dct = {}\n",
    "        unq_prfx = df.columns.map(lambda x: x.split(fea_sep)[0]).unique() # unique feature prefixes\n",
    "        for prfx in unq_prfx:\n",
    "            fea_type_cols = [c for c in df.columns if (c.split(fea_sep)[0]) in prfx] # all fea names of specific type\n",
    "            dct[prfx] = len(fea_type_cols)\n",
    "        if verbose: print(dct)\n",
    "        return dct"
   ]
  },
  {
   "cell_type": "markdown",
   "metadata": {},
   "source": [
    "# Create datasets"
   ]
  },
  {
   "cell_type": "code",
   "execution_count": 23,
   "metadata": {},
   "outputs": [
    {
     "name": "stdout",
     "output_type": "stream",
     "text": [
      "================================================================================\n",
      "Data source: CCLE\n",
      "Phase: tr\n",
      "Data points: 8755\n",
      "Unique cells: 378\n",
      "Unique drugs: 24\n",
      "gen_df.shape: (1430, 1927)\n",
      "drg_df.shape: (1402, 2344)\n",
      "Genomic features: {'DD': 2344}\n",
      "Drug features:    {'geneGE': 1927}\n",
      "================================================================================\n",
      "Data source: CCLE\n",
      "Phase: vl\n",
      "Data points: 1117\n",
      "Unique cells: 48\n",
      "Unique drugs: 24\n",
      "gen_df.shape: (1430, 1927)\n",
      "drg_df.shape: (1402, 2344)\n",
      "Genomic features: {'DD': 2344}\n",
      "Drug features:    {'geneGE': 1927}\n",
      "================================================================================\n",
      "Data source: CCLE\n",
      "Phase: te\n",
      "Data points: 1099\n",
      "Unique cells: 48\n",
      "Unique drugs: 24\n",
      "gen_df.shape: (1430, 1927)\n",
      "drg_df.shape: (1402, 2344)\n",
      "Genomic features: {'DD': 2344}\n",
      "Drug features:    {'geneGE': 1927}\n"
     ]
    }
   ],
   "source": [
    "gen_fea_list = ['geneGE']\n",
    "drg_fea_list = ['DD']\n",
    "\n",
    "ds_kwargs = {\n",
    "    'res_df': res,\n",
    "    'gen_df': gen,\n",
    "    'drg_df': drg,\n",
    "    'ccl_folds_dir': ccl_folds_dir,\n",
    "    'src': 'CCLE',\n",
    "    'gen_fea_list': gen_fea_list,\n",
    "    'drg_fea_list': drg_fea_list,\n",
    "    'fea_sep': '_'}\n",
    "\n",
    "fold = 0\n",
    "tr_ds = DrugRespDataset(tr_ph='tr', fold=fold, **ds_kwargs)\n",
    "vl_ds = DrugRespDataset(tr_ph='vl', fold=fold, **ds_kwargs)\n",
    "te_ds = DrugRespDataset(tr_ph='te', fold=fold, **ds_kwargs)"
   ]
  },
  {
   "cell_type": "markdown",
   "metadata": {},
   "source": [
    "# Create data loaders\n",
    "Data loaders for training/validation in github.com/xduan7/UnoPytorch/blob/master/uno_pytorch.py"
   ]
  },
  {
   "cell_type": "code",
   "execution_count": 24,
   "metadata": {},
   "outputs": [],
   "source": [
    "batch_size = 1\n",
    "num_workers = 1\n",
    "tr_loader_kwargs = {'batch_size': batch_size, 'shuffle': True,  'num_workers': num_workers}\n",
    "vl_loader_kwargs = {'batch_size': batch_size, 'shuffle': False, 'num_workers': num_workers}\n",
    "te_loader_kwargs = {'batch_size': batch_size, 'shuffle': False, 'num_workers': num_workers}\n",
    "\n",
    "tr_loader = DataLoader(tr_ds, **tr_loader_kwargs)\n",
    "vl_loader = DataLoader(tr_ds, **vl_loader_kwargs)\n",
    "te_loader = DataLoader(tr_ds, **te_loader_kwargs)"
   ]
  },
  {
   "cell_type": "code",
   "execution_count": 25,
   "metadata": {},
   "outputs": [
    {
     "name": "stdout",
     "output_type": "stream",
     "text": [
      "cell_fea: torch.Size([1, 1927])\n",
      "drug_fea: torch.Size([1, 2344])\n"
     ]
    },
    {
     "data": {
      "text/plain": [
       "[tensor([8478]),\n",
       " ('CCLE',),\n",
       " ('CCL_821',),\n",
       " ('Drug_22',),\n",
       " tensor([0.8588], dtype=torch.float64),\n",
       " tensor([[-0.5299,  1.0447,  0.2488,  ..., -1.0023,  0.3435, -0.6044]]),\n",
       " tensor([[ 0.3883, -0.2026,  0.3589,  ...,  0.0000,  0.0000,  0.0000]])]"
      ]
     },
     "execution_count": 25,
     "metadata": {},
     "output_type": "execute_result"
    }
   ],
   "source": [
    "ret = next(iter(tr_loader))  # (idx, SOURCE, ccl_id, drg_id, auc, ccl_fea, drg_fea)\n",
    "\n",
    "idx = ret[0].item()\n",
    "src = ret[1]\n",
    "cell_id = ret[2]\n",
    "drug_id = ret[3]\n",
    "auc = ret[4].item()\n",
    "cell_fea = ret[5]\n",
    "drug_fea = ret[6]\n",
    "\n",
    "print('cell_fea:', cell_fea.shape)\n",
    "print('drug_fea:', drug_fea.shape)\n",
    "ret"
   ]
  },
  {
   "cell_type": "code",
   "execution_count": 26,
   "metadata": {},
   "outputs": [],
   "source": [
    "# # print( sum(tr_ds.res_df['ccl_name']==ret[2][0]) )\n",
    "# # print( sum(tr_ds.res_df['ctrpDrugID']==ret[3][0]) )\n",
    "# # sum( (tr_ds.res_df['ccl_name']==ret[2][0]) & (tr_ds.res_df['ctrpDrugID']==ret[3][0]) )\n",
    "\n",
    "# tr_ds.res_df.loc[ret[0]]"
   ]
  },
  {
   "cell_type": "code",
   "execution_count": 27,
   "metadata": {},
   "outputs": [],
   "source": [
    "# # Now, look at the merged dataset\n",
    "# tmp = tr_df[tr_df['idx']==ret[0].item()]\n",
    "# display(tmp.iloc[:, :10])\n",
    "\n",
    "# ge = extract_subset_fea(df=tmp, fea_list=gen_fea_list, fea_sep='_')\n",
    "# dd = extract_subset_fea(df=tmp, fea_list=drg_fea_list, fea_sep='_')\n",
    "\n",
    "# print('ge.shape', ge.shape)\n",
    "# print('dd.shape', dd.shape)"
   ]
  },
  {
   "cell_type": "markdown",
   "metadata": {},
   "source": [
    "# Define and create NN\n",
    "Look at \"Constructing and initializing neural networks\" in github.com/xduan7/UnoPytorch/blob/master/uno_pytorch.py"
   ]
  },
  {
   "cell_type": "code",
   "execution_count": null,
   "metadata": {},
   "outputs": [],
   "source": [
    "def weight_init_linear(m: nn.Module):\n",
    "    # Weight initialization\n",
    "    \"\"\"\n",
    "    Pytorch initializes the layers by default (e.g., Linear uses kaiming_uniform_)\n",
    "    www.deeplearningwizard.com/deep_learning/boosting_models_pytorch/weight_initialization_activation_functions/\n",
    "    stackoverflow.com/questions/49433936/how-to-initialize-weights-in-pytorch\n",
    "    github.com/xduan7/UnoPytorch/blob/master/networks/initialization/weight_init.py\n",
    "    \"\"\"\n",
    "    if type(m) == nn.Linear:\n",
    "        torch.nn.init.xavier_uniform(m.weight)\n",
    "        m.bias.data.fill_(0.01)"
   ]
  },
  {
   "cell_type": "code",
   "execution_count": null,
   "metadata": {},
   "outputs": [],
   "source": [
    "def train():\n",
    "    pass"
   ]
  },
  {
   "cell_type": "code",
   "execution_count": null,
   "metadata": {},
   "outputs": [],
   "source": [
    "def val():\n",
    "    pass"
   ]
  },
  {
   "cell_type": "code",
   "execution_count": null,
   "metadata": {},
   "outputs": [],
   "source": [
    "class DrugRespNet(nn.Module):\n",
    "    def __init__(self,\n",
    "                 gen_dim: int,\n",
    "                 drg_dim: int,\n",
    "                 dr_rate: float,\n",
    "                 hidden_activation: str,\n",
    "                 output_activation: str):\n",
    "        super().__init__()\n",
    "        self.gen_dim = gen_dim\n",
    "        self.drg_dim = drg_dim\n",
    "        self.dr_rate = dr_rate\n",
    "        self.hidden_activation = hidden_activation\n",
    "        self.output_activation = output_activation\n",
    "                \n",
    "        self.layers = [1000, 1000, 500, 250, 125, 60, 30, 1]\n",
    "        self.net = nn.ModuleList([ nn.Linear(self.layers[i], self.layers[i+1]) for i in range(len(self.layers)-1) ])\n",
    "        self.net.apply(weight_init_linear)\n",
    "    \n",
    "    def forward(self, gen_fea, drg_fea):\n",
    "        # pytorch.org/docs/stable/nn.html?highlight=batch_norm#torch.nn.BatchNorm1d\n",
    "        # pytorch.org/docs/stable/nn.html?highlight=batch_norm\n",
    "        x = torch.cat((ccl_fea, drg_fea), dim=1)\n",
    "        \n",
    "        for i, layer in enumerate(self.net):\n",
    "            if i == 0:\n",
    "                # input layer\n",
    "                x = layer(x)\n",
    "                x = F.batch_norm(x, training=self.training)\n",
    "                x = F.relu(x)\n",
    "                \n",
    "            elif i == len(self.layers) - 1\n",
    "                # output layer\n",
    "                x = layer(x)\n",
    "                x = F.relu(x) # TODO: should this be mse\n",
    "\n",
    "            else:\n",
    "                # hidden layers\n",
    "                x = layer(x)\n",
    "                x = F.batch_norm(x, training=self.training)\n",
    "                x = F.relu(x)\n",
    "                x = F.dropout(x, p=self.dr_rate, training=self.training)\n",
    "                        \n",
    "        return x"
   ]
  },
  {
   "cell_type": "code",
   "execution_count": null,
   "metadata": {},
   "outputs": [],
   "source": [
    "resp_net = DrugRespNet(\n",
    "    ge_dim=None,\n",
    "    dd_dim=None).to(device)"
   ]
  },
  {
   "cell_type": "code",
   "execution_count": null,
   "metadata": {},
   "outputs": [],
   "source": [
    "model = TORCH_REGRESSOR(input_dim=tr_ds.x.shape[1]).to(device=device)"
   ]
  },
  {
   "cell_type": "code",
   "execution_count": 26,
   "metadata": {},
   "outputs": [
    {
     "data": {
      "text/plain": [
       "1927"
      ]
     },
     "execution_count": 26,
     "metadata": {},
     "output_type": "execute_result"
    }
   ],
   "source": [
    "# tr_ds.gen_dim"
   ]
  },
  {
   "cell_type": "code",
   "execution_count": null,
   "metadata": {},
   "outputs": [],
   "source": []
  },
  {
   "cell_type": "markdown",
   "metadata": {},
   "source": [
    "# Define optimer, learning rate decay\n",
    "Optimizers, learning rate decay, and miscellaneous in github.com/xduan7/UnoPytorch/blob/master/uno_pytorch.py"
   ]
  },
  {
   "cell_type": "code",
   "execution_count": null,
   "metadata": {},
   "outputs": [],
   "source": [
    "# Define opt\n",
    "resp_opt = get_opt()"
   ]
  },
  {
   "cell_type": "code",
   "execution_count": null,
   "metadata": {},
   "outputs": [],
   "source": [
    "# ??\n",
    "resp_lr_decay = LambdaLR(optimizer=resp_opt,\n",
    "                         lr_lambda=lambda e:\n",
    "                         args.lr_decay_factor ** e)"
   ]
  },
  {
   "cell_type": "code",
   "execution_count": null,
   "metadata": {},
   "outputs": [],
   "source": [
    "resp_loss_func = F.l1_loss if args.resp_loss_func == 'l1' else F.mse_loss"
   ]
  },
  {
   "cell_type": "code",
   "execution_count": null,
   "metadata": {},
   "outputs": [],
   "source": []
  },
  {
   "cell_type": "markdown",
   "metadata": {},
   "source": [
    "# Train/validation loops\n",
    "Training/validation loops in github.com/xduan7/UnoPytorch/blob/master/uno_pytorch.py"
   ]
  },
  {
   "cell_type": "code",
   "execution_count": null,
   "metadata": {},
   "outputs": [],
   "source": [
    "val_cl_clf_acc = []\n",
    "val_drug_target_acc = []\n",
    "val_drug_qed_mse, val_drug_qed_mae, val_drug_qed_r2 = [], [], []\n",
    "val_resp_mse, val_resp_mae, val_resp_r2 = [], [], []\n",
    "\n",
    "best_r2 = -np.inf\n",
    "patience = 0\n",
    "start_time = time.time()"
   ]
  },
  {
   "cell_type": "code",
   "execution_count": null,
   "metadata": {},
   "outputs": [],
   "source": [
    "# Create folder for validation results if not exist\n",
    "os.makedirs(args.val_results_dir)"
   ]
  },
  {
   "cell_type": "code",
   "execution_count": null,
   "metadata": {},
   "outputs": [],
   "source": [
    "# Early stopping is decided on the validation set with the same data source as the training dataloader\n",
    "val_index = 0\n",
    "for idx, loader in enumerate(drug_resp_val_loaders):\n",
    "    if loader.dataset.data_source == args.trn_src:\n",
    "        val_index = idx"
   ]
  },
  {
   "cell_type": "code",
   "execution_count": null,
   "metadata": {},
   "outputs": [],
   "source": [
    "# max_epochs = 100\n",
    "for epoch in range(args.max_num_epochs):\n",
    "\n",
    "    print('=' * 80 + '\\nTraining Epoch %3i:' % (epoch + 1))\n",
    "    epoch_start_time = time.time()\n",
    "    resp_lr_decay.step(epoch)  # ??\n",
    "    \n",
    "    train_resp(\n",
    "        device = device,\n",
    "        resp_net = resp_net,\n",
    "        data_loader = drug_resp_trn_loader,\n",
    "        max_num_batches = args.max_num_batches,\n",
    "        loss_func = resp_loss_func,\n",
    "        optimizer = resp_opt)\n",
    "\n",
    "    print('\\nValidation Results:')\n",
    "    \n",
    "    if epoch >= args.resp_val_start_epoch:\n",
    "        \n",
    "        resp_mse, resp_mae, resp_r2 = valid_resp(\n",
    "            epoch=epoch,\n",
    "            trn_src=args.trn_src,\n",
    "            device=device,\n",
    "            resp_net=resp_net,\n",
    "            data_loaders=drug_resp_val_loaders,\n",
    "            resp_uq=args.resp_uq,\n",
    "            resp_uq_dropout=args.resp_uq_dropout,\n",
    "            resp_uq_num_runs=args.resp_uq_num_runs,\n",
    "            val_results_dir=args.val_results_dir)\n",
    "\n",
    "        # Save the validation results in nested list\n",
    "        val_resp_mse.append(resp_mse)\n",
    "        val_resp_mae.append(resp_mae)\n",
    "        val_resp_r2.append(resp_r2)\n",
    "\n",
    "        # Record the best R2 score (same data source)\n",
    "        # and check for early stopping if no improvement for epochs\n",
    "        if resp_r2[val_index] > best_r2:\n",
    "            patience = 0\n",
    "            best_r2 = resp_r2[val_index]\n",
    "        else:\n",
    "            patience += 1\n",
    "        if patience >= args.early_stop_patience:\n",
    "            print('Validation results does not improve for %d epochs ... '\n",
    "                  'invoking early stopping.' % patience)\n",
    "            break\n",
    "\n",
    "    print('Epoch Running Time: %.1f Seconds.' % (time.time() - epoch_start_time))  "
   ]
  },
  {
   "cell_type": "code",
   "execution_count": null,
   "metadata": {},
   "outputs": [],
   "source": [
    "val_resp_r2 = np.array(val_resp_r2)\n",
    "val_resp_mse, val_resp_mae, val_resp_r2 = \\\n",
    "    np.array(val_resp_mse).reshape(-1, len(args.val_srcs)), \\\n",
    "    np.array(val_resp_mae).reshape(-1, len(args.val_srcs)), \\\n",
    "    np.array(val_resp_r2).reshape(-1, len(args.val_srcs))\n",
    "\n",
    "print('Program Running Time: %.1f Seconds.' % (time.time() - start_time))  "
   ]
  },
  {
   "cell_type": "code",
   "execution_count": null,
   "metadata": {},
   "outputs": [],
   "source": []
  }
 ],
 "metadata": {
  "kernelspec": {
   "display_name": "Python 3",
   "language": "python",
   "name": "python3"
  },
  "language_info": {
   "codemirror_mode": {
    "name": "ipython",
    "version": 3
   },
   "file_extension": ".py",
   "mimetype": "text/x-python",
   "name": "python",
   "nbconvert_exporter": "python",
   "pygments_lexer": "ipython3",
   "version": "3.6.8"
  }
 },
 "nbformat": 4,
 "nbformat_minor": 2
}
