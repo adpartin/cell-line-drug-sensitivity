{
 "cells": [
  {
   "cell_type": "markdown",
   "metadata": {},
   "source": [
    "# Try different decompositions. Specifically, those assuming that the data is non-negative."
   ]
  },
  {
   "cell_type": "code",
   "execution_count": 1,
   "metadata": {},
   "outputs": [],
   "source": [
    "%load_ext autoreload\n",
    "%autoreload 2\n",
    "%matplotlib inline\n",
    "\n",
    "import warnings\n",
    "warnings.filterwarnings('ignore')\n",
    "\n",
    "import os\n",
    "from pathlib import Path\n",
    "import sys\n",
    "from time import time\n",
    "import numpy as np\n",
    "import pandas as pd\n",
    "\n",
    "import sklearn\n",
    "from collections import OrderedDict\n",
    "from sklearn.metrics import r2_score\n",
    "\n",
    "import matplotlib.pyplot as plt\n",
    "import matplotlib.cm as cm\n",
    "\n",
    "from sklearn.preprocessing import StandardScaler\n",
    "from sklearn.model_selection import train_test_split\n",
    "\n",
    "from sklearn.decomposition import PCA\n",
    "\n",
    "SEED = 42"
   ]
  },
  {
   "cell_type": "code",
   "execution_count": 2,
   "metadata": {},
   "outputs": [],
   "source": [
    "# utils_path = Path(os.getcwd()) / '../../utils'\n",
    "# sys.path.append(str(utils_path))\n",
    "# import utils"
   ]
  },
  {
   "cell_type": "markdown",
   "metadata": {},
   "source": [
    "# Load data"
   ]
  },
  {
   "cell_type": "code",
   "execution_count": 3,
   "metadata": {},
   "outputs": [],
   "source": [
    "datadir = Path('../../data/yitan/Data')\n",
    "ccl_folds_dir = Path('../../data/yitan/CCL_10Fold_Partition')\n",
    "pdm_folds_dir = Path('../../data/yitan/PDM_10Fold_Partition')\n",
    "fea_data_name = 'CCL_PDM_TransferLearningData_rmFactor_0.0_ddNorm_std.pkl'"
   ]
  },
  {
   "cell_type": "code",
   "execution_count": 4,
   "metadata": {},
   "outputs": [],
   "source": [
    "# Un-pickle files\n",
    "import _pickle as cp\n",
    "\n",
    "pkl_file = open(datadir/fea_data_name, 'rb')\n",
    "res = cp.load(pkl_file)\n",
    "ccl = cp.load(pkl_file)\n",
    "drg = cp.load(pkl_file)\n",
    "pkl_file.close()"
   ]
  },
  {
   "cell_type": "code",
   "execution_count": 5,
   "metadata": {},
   "outputs": [
    {
     "name": "stdout",
     "output_type": "stream",
     "text": [
      "res: (708662, 5)\n",
      "ccl: (1430, 4582)\n",
      "drg: (1402, 4392)\n"
     ]
    }
   ],
   "source": [
    "print('res: {}'.format(res.shape))\n",
    "print('ccl: {}'.format(ccl.shape))\n",
    "print('drg: {}'.format(drg.shape))"
   ]
  },
  {
   "cell_type": "markdown",
   "metadata": {},
   "source": [
    "# First look at the data"
   ]
  },
  {
   "cell_type": "code",
   "execution_count": 6,
   "metadata": {},
   "outputs": [
    {
     "data": {
      "text/html": [
       "<div>\n",
       "<style scoped>\n",
       "    .dataframe tbody tr th:only-of-type {\n",
       "        vertical-align: middle;\n",
       "    }\n",
       "\n",
       "    .dataframe tbody tr th {\n",
       "        vertical-align: top;\n",
       "    }\n",
       "\n",
       "    .dataframe thead th {\n",
       "        text-align: right;\n",
       "    }\n",
       "</style>\n",
       "<table border=\"1\" class=\"dataframe\">\n",
       "  <thead>\n",
       "    <tr style=\"text-align: right;\">\n",
       "      <th></th>\n",
       "      <th>SOURCE</th>\n",
       "      <th>ccl_name</th>\n",
       "      <th>ctrpDrugID</th>\n",
       "      <th>area_under_curve</th>\n",
       "      <th>groupID</th>\n",
       "    </tr>\n",
       "  </thead>\n",
       "  <tbody>\n",
       "    <tr>\n",
       "      <th>0</th>\n",
       "      <td>CCLE</td>\n",
       "      <td>CCL_61</td>\n",
       "      <td>Drug_11</td>\n",
       "      <td>0.7153</td>\n",
       "      <td>0.0000</td>\n",
       "    </tr>\n",
       "    <tr>\n",
       "      <th>1</th>\n",
       "      <td>CCLE</td>\n",
       "      <td>CCL_61</td>\n",
       "      <td>Drug_1</td>\n",
       "      <td>0.9579</td>\n",
       "      <td>0.9164</td>\n",
       "    </tr>\n",
       "  </tbody>\n",
       "</table>\n",
       "</div>"
      ],
      "text/plain": [
       "  SOURCE ccl_name ctrpDrugID  area_under_curve  groupID\n",
       "0   CCLE   CCL_61    Drug_11            0.7153   0.0000\n",
       "1   CCLE   CCL_61     Drug_1            0.9579   0.9164"
      ]
     },
     "metadata": {},
     "output_type": "display_data"
    },
    {
     "data": {
      "text/html": [
       "<div>\n",
       "<style scoped>\n",
       "    .dataframe tbody tr th:only-of-type {\n",
       "        vertical-align: middle;\n",
       "    }\n",
       "\n",
       "    .dataframe tbody tr th {\n",
       "        vertical-align: top;\n",
       "    }\n",
       "\n",
       "    .dataframe thead th {\n",
       "        text-align: right;\n",
       "    }\n",
       "</style>\n",
       "<table border=\"1\" class=\"dataframe\">\n",
       "  <thead>\n",
       "    <tr style=\"text-align: right;\">\n",
       "      <th></th>\n",
       "      <th>geneGE_AARS</th>\n",
       "      <th>geneGE_ABCB6</th>\n",
       "      <th>geneGE_ABCC5</th>\n",
       "      <th>geneGE_ABCF1</th>\n",
       "      <th>geneGE_ABCF3</th>\n",
       "      <th>geneGE_ABHD4</th>\n",
       "      <th>geneGE_ABHD6</th>\n",
       "    </tr>\n",
       "  </thead>\n",
       "  <tbody>\n",
       "    <tr>\n",
       "      <th>CCL_1</th>\n",
       "      <td>-0.125161</td>\n",
       "      <td>-0.400237</td>\n",
       "      <td>-0.960208</td>\n",
       "      <td>0.575207</td>\n",
       "      <td>-0.468406</td>\n",
       "      <td>-0.136257</td>\n",
       "      <td>0.083319</td>\n",
       "    </tr>\n",
       "    <tr>\n",
       "      <th>CCL_10</th>\n",
       "      <td>-0.217106</td>\n",
       "      <td>0.354776</td>\n",
       "      <td>-1.164841</td>\n",
       "      <td>0.328071</td>\n",
       "      <td>-0.735267</td>\n",
       "      <td>0.232990</td>\n",
       "      <td>-0.174979</td>\n",
       "    </tr>\n",
       "  </tbody>\n",
       "</table>\n",
       "</div>"
      ],
      "text/plain": [
       "        geneGE_AARS  geneGE_ABCB6  geneGE_ABCC5  geneGE_ABCF1  geneGE_ABCF3  \\\n",
       "CCL_1     -0.125161     -0.400237     -0.960208      0.575207     -0.468406   \n",
       "CCL_10    -0.217106      0.354776     -1.164841      0.328071     -0.735267   \n",
       "\n",
       "        geneGE_ABHD4  geneGE_ABHD6  \n",
       "CCL_1      -0.136257      0.083319  \n",
       "CCL_10      0.232990     -0.174979  "
      ]
     },
     "metadata": {},
     "output_type": "display_data"
    },
    {
     "data": {
      "text/html": [
       "<div>\n",
       "<style scoped>\n",
       "    .dataframe tbody tr th:only-of-type {\n",
       "        vertical-align: middle;\n",
       "    }\n",
       "\n",
       "    .dataframe tbody tr th {\n",
       "        vertical-align: top;\n",
       "    }\n",
       "\n",
       "    .dataframe thead th {\n",
       "        text-align: right;\n",
       "    }\n",
       "</style>\n",
       "<table border=\"1\" class=\"dataframe\">\n",
       "  <thead>\n",
       "    <tr style=\"text-align: right;\">\n",
       "      <th></th>\n",
       "      <th>DD_MW|num</th>\n",
       "      <th>DD_AMW|num</th>\n",
       "      <th>DD_Sv|num</th>\n",
       "      <th>DD_Se|num</th>\n",
       "      <th>DD_Sp|num</th>\n",
       "      <th>DD_Si|num</th>\n",
       "      <th>DD_Mv|num</th>\n",
       "    </tr>\n",
       "  </thead>\n",
       "  <tbody>\n",
       "    <tr>\n",
       "      <th>Drug_1</th>\n",
       "      <td>0.123446</td>\n",
       "      <td>0.526234</td>\n",
       "      <td>-0.072180</td>\n",
       "      <td>-0.088861</td>\n",
       "      <td>-0.058460</td>\n",
       "      <td>-0.083100</td>\n",
       "      <td>-0.009539</td>\n",
       "    </tr>\n",
       "    <tr>\n",
       "      <th>Drug_10</th>\n",
       "      <td>0.053188</td>\n",
       "      <td>1.966100</td>\n",
       "      <td>-0.333843</td>\n",
       "      <td>-0.379081</td>\n",
       "      <td>-0.359584</td>\n",
       "      <td>-0.398841</td>\n",
       "      <td>1.172374</td>\n",
       "    </tr>\n",
       "  </tbody>\n",
       "</table>\n",
       "</div>"
      ],
      "text/plain": [
       "         DD_MW|num  DD_AMW|num  DD_Sv|num  DD_Se|num  DD_Sp|num  DD_Si|num  \\\n",
       "Drug_1    0.123446    0.526234  -0.072180  -0.088861  -0.058460  -0.083100   \n",
       "Drug_10   0.053188    1.966100  -0.333843  -0.379081  -0.359584  -0.398841   \n",
       "\n",
       "         DD_Mv|num  \n",
       "Drug_1   -0.009539  \n",
       "Drug_10   1.172374  "
      ]
     },
     "metadata": {},
     "output_type": "display_data"
    }
   ],
   "source": [
    "display(res[:2])\n",
    "display(ccl.iloc[:2, :7])\n",
    "display(drg.iloc[:2, :7])"
   ]
  },
  {
   "cell_type": "code",
   "execution_count": 7,
   "metadata": {},
   "outputs": [
    {
     "data": {
      "text/html": [
       "<div>\n",
       "<style scoped>\n",
       "    .dataframe tbody tr th:only-of-type {\n",
       "        vertical-align: middle;\n",
       "    }\n",
       "\n",
       "    .dataframe tbody tr th {\n",
       "        vertical-align: top;\n",
       "    }\n",
       "\n",
       "    .dataframe thead th {\n",
       "        text-align: right;\n",
       "    }\n",
       "</style>\n",
       "<table border=\"1\" class=\"dataframe\">\n",
       "  <thead>\n",
       "    <tr style=\"text-align: right;\">\n",
       "      <th></th>\n",
       "      <th>SOURCE</th>\n",
       "      <th>ccl_name</th>\n",
       "      <th>ctrpDrugID</th>\n",
       "    </tr>\n",
       "  </thead>\n",
       "  <tbody>\n",
       "    <tr>\n",
       "      <th>0</th>\n",
       "      <td>CCLE</td>\n",
       "      <td>474</td>\n",
       "      <td>24</td>\n",
       "    </tr>\n",
       "    <tr>\n",
       "      <th>1</th>\n",
       "      <td>CTRP</td>\n",
       "      <td>812</td>\n",
       "      <td>494</td>\n",
       "    </tr>\n",
       "    <tr>\n",
       "      <th>2</th>\n",
       "      <td>GDSC</td>\n",
       "      <td>670</td>\n",
       "      <td>238</td>\n",
       "    </tr>\n",
       "    <tr>\n",
       "      <th>3</th>\n",
       "      <td>NCI60</td>\n",
       "      <td>59</td>\n",
       "      <td>987</td>\n",
       "    </tr>\n",
       "    <tr>\n",
       "      <th>4</th>\n",
       "      <td>PDM</td>\n",
       "      <td>473</td>\n",
       "      <td>18</td>\n",
       "    </tr>\n",
       "    <tr>\n",
       "      <th>5</th>\n",
       "      <td>gCSI</td>\n",
       "      <td>357</td>\n",
       "      <td>16</td>\n",
       "    </tr>\n",
       "  </tbody>\n",
       "</table>\n",
       "</div>"
      ],
      "text/plain": [
       "  SOURCE  ccl_name  ctrpDrugID\n",
       "0   CCLE       474          24\n",
       "1   CTRP       812         494\n",
       "2   GDSC       670         238\n",
       "3  NCI60        59         987\n",
       "4    PDM       473          18\n",
       "5   gCSI       357          16"
      ]
     },
     "execution_count": 7,
     "metadata": {},
     "output_type": "execute_result"
    }
   ],
   "source": [
    "res.groupby('SOURCE').agg({'ccl_name': 'nunique', 'ctrpDrugID': 'nunique'}).reset_index()"
   ]
  },
  {
   "cell_type": "markdown",
   "metadata": {},
   "source": [
    "# Get subset of features"
   ]
  },
  {
   "cell_type": "code",
   "execution_count": 8,
   "metadata": {},
   "outputs": [],
   "source": [
    "def cnt_fea(df, fea_sep='_', verbose=True):\n",
    "    \"\"\" Count the number of features per feature type. \"\"\"\n",
    "    dct = {}\n",
    "    unq_prfx = df.columns.map(lambda x: x.split(fea_sep)[0]).unique() # unique feature prefixes\n",
    "    for prfx in unq_prfx:\n",
    "        fea_type_cols = [c for c in df.columns if (c.split(fea_sep)[0]) in prfx] # all fea names of specific type\n",
    "        dct[prfx] = len(fea_type_cols)\n",
    "    if verbose: print(dct)\n",
    "    return dct\n",
    "\n",
    "def extract_subset_fea(df, fea_list, fea_sep='_'):\n",
    "    \"\"\" Extract features based feature prefix name. \"\"\"\n",
    "    fea = [c for c in df.columns if (c.split(fea_sep)[0]) in fea_list]\n",
    "    df = df[fea]\n",
    "    return df"
   ]
  },
  {
   "cell_type": "code",
   "execution_count": 9,
   "metadata": {},
   "outputs": [],
   "source": [
    "ccl_fea_list = ['geneGE']\n",
    "drg_fea_list = ['DD']"
   ]
  },
  {
   "cell_type": "code",
   "execution_count": 10,
   "metadata": {},
   "outputs": [
    {
     "name": "stdout",
     "output_type": "stream",
     "text": [
      "{'geneGE': 1927, 'c2cpMaxGE': 1328, 'c2cpMinGE': 1327}\n",
      "{'geneGE': 1927}\n"
     ]
    }
   ],
   "source": [
    "cnt_fea(ccl);\n",
    "ge = extract_subset_fea(ccl, fea_list=ccl_fea_list)\n",
    "cnt_fea(ge);"
   ]
  },
  {
   "cell_type": "code",
   "execution_count": 11,
   "metadata": {},
   "outputs": [
    {
     "name": "stdout",
     "output_type": "stream",
     "text": [
      "{'DD': 2344, 'ECFP': 1024, 'PFP': 1024}\n",
      "{'DD': 2344}\n"
     ]
    }
   ],
   "source": [
    "cnt_fea(drg);\n",
    "dd = extract_subset_fea(drg, fea_list=drg_fea_list)\n",
    "cnt_fea(dd);"
   ]
  },
  {
   "cell_type": "markdown",
   "metadata": {},
   "source": [
    "# PCA"
   ]
  },
  {
   "cell_type": "code",
   "execution_count": 12,
   "metadata": {},
   "outputs": [],
   "source": [
    "def plt_explained_variance_pca(pca):\n",
    "    # Plot explained variance PCA\n",
    "    plt.figure(figsize=(8, 6))\n",
    "    plt.plot(pca.explained_variance_ratio_, '--o')\n",
    "    plt.xlabel('Principal component', fontsize=14)\n",
    "    plt.ylabel('Variance explained (ratio)', fontsize=14)\n",
    "    plt.grid(True)\n",
    "    \n",
    "def pca_exp_var(pca, k):\n",
    "    print(np.sum(pca.explained_variance_ratio_[:k]))\n",
    "    \n",
    "def dump_pca_data(datadir, pca_x, k, fea_name):\n",
    "    df = pd.DataFrame(pca_x.iloc[:, :k])\n",
    "    df.to_csv(datadir/f'{fea_name}_pca{k}.csv', index=False)    "
   ]
  },
  {
   "cell_type": "markdown",
   "metadata": {},
   "source": [
    "### GE (gene expression)"
   ]
  },
  {
   "cell_type": "code",
   "execution_count": 13,
   "metadata": {},
   "outputs": [],
   "source": [
    "index = ge.index\n",
    "fea_name = 'ge'"
   ]
  },
  {
   "cell_type": "code",
   "execution_count": 14,
   "metadata": {},
   "outputs": [],
   "source": [
    "n = 1400\n",
    "ge_pca = PCA(n_components=n, random_state=SEED, svd_solver='auto')\n",
    "ge_pca_x = ge_pca.fit_transform(ge)\n",
    "ge_pca_x = pd.DataFrame(ge_pca_x, index=index, columns=[f'{fea_name}_PC'+str(i+1) for i in range(n)])"
   ]
  },
  {
   "cell_type": "code",
   "execution_count": 15,
   "metadata": {},
   "outputs": [
    {
     "name": "stdout",
     "output_type": "stream",
     "text": [
      "0.9999387036197616\n"
     ]
    }
   ],
   "source": [
    "pca_exp_var(ge_pca, k=1400)"
   ]
  },
  {
   "cell_type": "code",
   "execution_count": 16,
   "metadata": {},
   "outputs": [
    {
     "name": "stdout",
     "output_type": "stream",
     "text": [
      "0.7543514715445558\n"
     ]
    }
   ],
   "source": [
    "k=120\n",
    "pca_exp_var(ge_pca, k)\n",
    "dump_pca_data(datadir, ge_pca_x, k, fea_name=fea_name);"
   ]
  },
  {
   "cell_type": "code",
   "execution_count": 17,
   "metadata": {},
   "outputs": [
    {
     "name": "stdout",
     "output_type": "stream",
     "text": [
      "0.9505486040316659\n"
     ]
    }
   ],
   "source": [
    "k=550\n",
    "pca_exp_var(ge_pca, k)\n",
    "dump_pca_data(datadir, ge_pca_x, k, fea_name=fea_name);"
   ]
  },
  {
   "cell_type": "code",
   "execution_count": 18,
   "metadata": {},
   "outputs": [
    {
     "name": "stdout",
     "output_type": "stream",
     "text": [
      "0.9909181163806056\n"
     ]
    }
   ],
   "source": [
    "k=940\n",
    "pca_exp_var(ge_pca, k=940)\n",
    "dump_pca_data(datadir, ge_pca_x, k, fea_name=fea_name);"
   ]
  },
  {
   "cell_type": "markdown",
   "metadata": {},
   "source": [
    "### DD (drug descriptors)"
   ]
  },
  {
   "cell_type": "code",
   "execution_count": 19,
   "metadata": {},
   "outputs": [],
   "source": [
    "index = dd.index\n",
    "fea_name = 'dd'"
   ]
  },
  {
   "cell_type": "code",
   "execution_count": 20,
   "metadata": {},
   "outputs": [],
   "source": [
    "n = 1400\n",
    "dd_pca = PCA(n_components=n, random_state=SEED, svd_solver='auto')\n",
    "dd_pca_x = dd_pca.fit_transform(dd)\n",
    "dd_pca_x = pd.DataFrame(dd_pca_x, index=index, columns=[f'{fea_name}_PC'+str(i+1) for i in range(n)])"
   ]
  },
  {
   "cell_type": "code",
   "execution_count": 21,
   "metadata": {},
   "outputs": [
    {
     "name": "stdout",
     "output_type": "stream",
     "text": [
      "1.0\n"
     ]
    }
   ],
   "source": [
    "pca_exp_var(dd_pca, k=1400)"
   ]
  },
  {
   "cell_type": "code",
   "execution_count": 22,
   "metadata": {},
   "outputs": [
    {
     "name": "stdout",
     "output_type": "stream",
     "text": [
      "0.8572525902667022\n"
     ]
    }
   ],
   "source": [
    "k=120\n",
    "pca_exp_var(dd_pca, k)\n",
    "dump_pca_data(datadir, dd_pca_x, k, fea_name=fea_name);"
   ]
  },
  {
   "cell_type": "code",
   "execution_count": 23,
   "metadata": {},
   "outputs": [
    {
     "name": "stdout",
     "output_type": "stream",
     "text": [
      "0.9912240461620668\n"
     ]
    }
   ],
   "source": [
    "k=500\n",
    "pca_exp_var(dd_pca, k)\n",
    "dump_pca_data(datadir, dd_pca_x, k, fea_name=fea_name);"
   ]
  },
  {
   "cell_type": "code",
   "execution_count": null,
   "metadata": {},
   "outputs": [],
   "source": []
  }
 ],
 "metadata": {
  "kernelspec": {
   "display_name": "Python [conda env:p1_] *",
   "language": "python",
   "name": "conda-env-p1_-py"
  },
  "language_info": {
   "codemirror_mode": {
    "name": "ipython",
    "version": 3
   },
   "file_extension": ".py",
   "mimetype": "text/x-python",
   "name": "python",
   "nbconvert_exporter": "python",
   "pygments_lexer": "ipython3",
   "version": "3.7.3"
  }
 },
 "nbformat": 4,
 "nbformat_minor": 2
}
