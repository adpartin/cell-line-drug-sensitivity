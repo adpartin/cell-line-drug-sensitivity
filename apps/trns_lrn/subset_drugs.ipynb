{
 "cells": [
  {
   "cell_type": "markdown",
   "metadata": {},
   "source": [
    "# Create tidy dataframe that keeps a subset of drugs that appear in the PDM experiments"
   ]
  },
  {
   "cell_type": "code",
   "execution_count": 1,
   "metadata": {},
   "outputs": [],
   "source": [
    "%load_ext autoreload\n",
    "%autoreload 2\n",
    "%matplotlib inline\n",
    "\n",
    "import warnings\n",
    "warnings.filterwarnings('ignore')\n",
    "\n",
    "import os\n",
    "from pathlib import Path\n",
    "import sys\n",
    "from time import time\n",
    "import numpy as np\n",
    "import pandas as pd\n",
    "\n",
    "import sklearn\n",
    "from collections import OrderedDict\n",
    "from sklearn.metrics import r2_score\n",
    "\n",
    "import matplotlib.pyplot as plt\n",
    "import matplotlib.cm as cm\n",
    "\n",
    "from sklearn.preprocessing import StandardScaler, LabelEncoder\n",
    "from sklearn.model_selection import train_test_split\n",
    "\n",
    "from sklearn.decomposition import PCA\n",
    "\n",
    "SEED = 42"
   ]
  },
  {
   "cell_type": "code",
   "execution_count": 2,
   "metadata": {},
   "outputs": [],
   "source": [
    "# utils_path = Path(os.getcwd()) / '../../utils'\n",
    "# sys.path.append(str(utils_path))\n",
    "# import utils"
   ]
  },
  {
   "cell_type": "markdown",
   "metadata": {},
   "source": [
    "# Load data"
   ]
  },
  {
   "cell_type": "code",
   "execution_count": 3,
   "metadata": {},
   "outputs": [],
   "source": [
    "datadir = Path('../../data/yitan/Data')\n",
    "ccl_folds_dir = Path('../../data/yitan/CCL_10Fold_Partition')\n",
    "pdm_folds_dir = Path('../../data/yitan/PDM_10Fold_Partition')\n",
    "fea_data_name = 'CCL_PDM_TransferLearningData_rmFactor_0.0_ddNorm_std.pkl'"
   ]
  },
  {
   "cell_type": "code",
   "execution_count": 4,
   "metadata": {},
   "outputs": [
    {
     "name": "stdout",
     "output_type": "stream",
     "text": [
      "res: (708662, 5)\n",
      "ccl: (1430, 4582)\n",
      "drg: (1402, 4392)\n"
     ]
    }
   ],
   "source": [
    "# Un-pickle files\n",
    "import _pickle as cp\n",
    "\n",
    "pkl_file = open(datadir/fea_data_name, 'rb')\n",
    "res = cp.load(pkl_file)\n",
    "ccl = cp.load(pkl_file)\n",
    "drg = cp.load(pkl_file)\n",
    "pkl_file.close()\n",
    "\n",
    "print('res: {}'.format(res.shape))\n",
    "print('ccl: {}'.format(ccl.shape))\n",
    "print('drg: {}'.format(drg.shape))"
   ]
  },
  {
   "cell_type": "code",
   "execution_count": 5,
   "metadata": {},
   "outputs": [],
   "source": [
    "res = res.rename(columns={'index': 'idx', 'ccl_name': 'cclname', 'SOURCE': 'src', 'area_under_curve': 'auc'})"
   ]
  },
  {
   "cell_type": "code",
   "execution_count": 6,
   "metadata": {},
   "outputs": [
    {
     "data": {
      "text/html": [
       "<div>\n",
       "<style scoped>\n",
       "    .dataframe tbody tr th:only-of-type {\n",
       "        vertical-align: middle;\n",
       "    }\n",
       "\n",
       "    .dataframe tbody tr th {\n",
       "        vertical-align: top;\n",
       "    }\n",
       "\n",
       "    .dataframe thead th {\n",
       "        text-align: right;\n",
       "    }\n",
       "</style>\n",
       "<table border=\"1\" class=\"dataframe\">\n",
       "  <thead>\n",
       "    <tr style=\"text-align: right;\">\n",
       "      <th></th>\n",
       "      <th>src</th>\n",
       "      <th>cclname</th>\n",
       "      <th>ctrpDrugID</th>\n",
       "      <th>auc</th>\n",
       "      <th>groupID</th>\n",
       "    </tr>\n",
       "  </thead>\n",
       "  <tbody>\n",
       "    <tr>\n",
       "      <th>0</th>\n",
       "      <td>CCLE</td>\n",
       "      <td>CCL_61</td>\n",
       "      <td>Drug_11</td>\n",
       "      <td>0.7153</td>\n",
       "      <td>0.0000</td>\n",
       "    </tr>\n",
       "    <tr>\n",
       "      <th>1</th>\n",
       "      <td>CCLE</td>\n",
       "      <td>CCL_61</td>\n",
       "      <td>Drug_1</td>\n",
       "      <td>0.9579</td>\n",
       "      <td>0.9164</td>\n",
       "    </tr>\n",
       "    <tr>\n",
       "      <th>2</th>\n",
       "      <td>CCLE</td>\n",
       "      <td>CCL_61</td>\n",
       "      <td>Drug_2</td>\n",
       "      <td>0.4130</td>\n",
       "      <td>0.0082</td>\n",
       "    </tr>\n",
       "    <tr>\n",
       "      <th>3</th>\n",
       "      <td>CCLE</td>\n",
       "      <td>CCL_61</td>\n",
       "      <td>Drug_3</td>\n",
       "      <td>0.8004</td>\n",
       "      <td>0.0000</td>\n",
       "    </tr>\n",
       "    <tr>\n",
       "      <th>4</th>\n",
       "      <td>CCLE</td>\n",
       "      <td>CCL_61</td>\n",
       "      <td>Drug_4</td>\n",
       "      <td>0.5071</td>\n",
       "      <td>0.0607</td>\n",
       "    </tr>\n",
       "  </tbody>\n",
       "</table>\n",
       "</div>"
      ],
      "text/plain": [
       "    src cclname ctrpDrugID     auc  groupID\n",
       "0  CCLE  CCL_61    Drug_11  0.7153   0.0000\n",
       "1  CCLE  CCL_61     Drug_1  0.9579   0.9164\n",
       "2  CCLE  CCL_61     Drug_2  0.4130   0.0082\n",
       "3  CCLE  CCL_61     Drug_3  0.8004   0.0000\n",
       "4  CCLE  CCL_61     Drug_4  0.5071   0.0607"
      ]
     },
     "execution_count": 6,
     "metadata": {},
     "output_type": "execute_result"
    }
   ],
   "source": [
    "res.head()"
   ]
  },
  {
   "cell_type": "markdown",
   "metadata": {},
   "source": [
    "# First look at the data"
   ]
  },
  {
   "cell_type": "code",
   "execution_count": 7,
   "metadata": {},
   "outputs": [
    {
     "data": {
      "text/html": [
       "<div>\n",
       "<style scoped>\n",
       "    .dataframe tbody tr th:only-of-type {\n",
       "        vertical-align: middle;\n",
       "    }\n",
       "\n",
       "    .dataframe tbody tr th {\n",
       "        vertical-align: top;\n",
       "    }\n",
       "\n",
       "    .dataframe thead th {\n",
       "        text-align: right;\n",
       "    }\n",
       "</style>\n",
       "<table border=\"1\" class=\"dataframe\">\n",
       "  <thead>\n",
       "    <tr style=\"text-align: right;\">\n",
       "      <th></th>\n",
       "      <th>src</th>\n",
       "      <th>cclname</th>\n",
       "      <th>ctrpDrugID</th>\n",
       "      <th>auc</th>\n",
       "      <th>groupID</th>\n",
       "    </tr>\n",
       "  </thead>\n",
       "  <tbody>\n",
       "    <tr>\n",
       "      <th>0</th>\n",
       "      <td>CCLE</td>\n",
       "      <td>CCL_61</td>\n",
       "      <td>Drug_11</td>\n",
       "      <td>0.7153</td>\n",
       "      <td>0.0000</td>\n",
       "    </tr>\n",
       "    <tr>\n",
       "      <th>1</th>\n",
       "      <td>CCLE</td>\n",
       "      <td>CCL_61</td>\n",
       "      <td>Drug_1</td>\n",
       "      <td>0.9579</td>\n",
       "      <td>0.9164</td>\n",
       "    </tr>\n",
       "  </tbody>\n",
       "</table>\n",
       "</div>"
      ],
      "text/plain": [
       "    src cclname ctrpDrugID     auc  groupID\n",
       "0  CCLE  CCL_61    Drug_11  0.7153   0.0000\n",
       "1  CCLE  CCL_61     Drug_1  0.9579   0.9164"
      ]
     },
     "metadata": {},
     "output_type": "display_data"
    },
    {
     "data": {
      "text/html": [
       "<div>\n",
       "<style scoped>\n",
       "    .dataframe tbody tr th:only-of-type {\n",
       "        vertical-align: middle;\n",
       "    }\n",
       "\n",
       "    .dataframe tbody tr th {\n",
       "        vertical-align: top;\n",
       "    }\n",
       "\n",
       "    .dataframe thead th {\n",
       "        text-align: right;\n",
       "    }\n",
       "</style>\n",
       "<table border=\"1\" class=\"dataframe\">\n",
       "  <thead>\n",
       "    <tr style=\"text-align: right;\">\n",
       "      <th></th>\n",
       "      <th>geneGE_AARS</th>\n",
       "      <th>geneGE_ABCB6</th>\n",
       "      <th>geneGE_ABCC5</th>\n",
       "      <th>geneGE_ABCF1</th>\n",
       "      <th>geneGE_ABCF3</th>\n",
       "      <th>geneGE_ABHD4</th>\n",
       "      <th>geneGE_ABHD6</th>\n",
       "    </tr>\n",
       "  </thead>\n",
       "  <tbody>\n",
       "    <tr>\n",
       "      <th>CCL_1</th>\n",
       "      <td>-0.125161</td>\n",
       "      <td>-0.400237</td>\n",
       "      <td>-0.960208</td>\n",
       "      <td>0.575207</td>\n",
       "      <td>-0.468406</td>\n",
       "      <td>-0.136257</td>\n",
       "      <td>0.083319</td>\n",
       "    </tr>\n",
       "    <tr>\n",
       "      <th>CCL_10</th>\n",
       "      <td>-0.217106</td>\n",
       "      <td>0.354776</td>\n",
       "      <td>-1.164841</td>\n",
       "      <td>0.328071</td>\n",
       "      <td>-0.735267</td>\n",
       "      <td>0.232990</td>\n",
       "      <td>-0.174979</td>\n",
       "    </tr>\n",
       "  </tbody>\n",
       "</table>\n",
       "</div>"
      ],
      "text/plain": [
       "        geneGE_AARS  geneGE_ABCB6  geneGE_ABCC5  geneGE_ABCF1  geneGE_ABCF3  \\\n",
       "CCL_1     -0.125161     -0.400237     -0.960208      0.575207     -0.468406   \n",
       "CCL_10    -0.217106      0.354776     -1.164841      0.328071     -0.735267   \n",
       "\n",
       "        geneGE_ABHD4  geneGE_ABHD6  \n",
       "CCL_1      -0.136257      0.083319  \n",
       "CCL_10      0.232990     -0.174979  "
      ]
     },
     "metadata": {},
     "output_type": "display_data"
    },
    {
     "data": {
      "text/html": [
       "<div>\n",
       "<style scoped>\n",
       "    .dataframe tbody tr th:only-of-type {\n",
       "        vertical-align: middle;\n",
       "    }\n",
       "\n",
       "    .dataframe tbody tr th {\n",
       "        vertical-align: top;\n",
       "    }\n",
       "\n",
       "    .dataframe thead th {\n",
       "        text-align: right;\n",
       "    }\n",
       "</style>\n",
       "<table border=\"1\" class=\"dataframe\">\n",
       "  <thead>\n",
       "    <tr style=\"text-align: right;\">\n",
       "      <th></th>\n",
       "      <th>DD_MW|num</th>\n",
       "      <th>DD_AMW|num</th>\n",
       "      <th>DD_Sv|num</th>\n",
       "      <th>DD_Se|num</th>\n",
       "      <th>DD_Sp|num</th>\n",
       "      <th>DD_Si|num</th>\n",
       "      <th>DD_Mv|num</th>\n",
       "    </tr>\n",
       "  </thead>\n",
       "  <tbody>\n",
       "    <tr>\n",
       "      <th>Drug_1</th>\n",
       "      <td>0.123446</td>\n",
       "      <td>0.526234</td>\n",
       "      <td>-0.072180</td>\n",
       "      <td>-0.088861</td>\n",
       "      <td>-0.058460</td>\n",
       "      <td>-0.083100</td>\n",
       "      <td>-0.009539</td>\n",
       "    </tr>\n",
       "    <tr>\n",
       "      <th>Drug_10</th>\n",
       "      <td>0.053188</td>\n",
       "      <td>1.966100</td>\n",
       "      <td>-0.333843</td>\n",
       "      <td>-0.379081</td>\n",
       "      <td>-0.359584</td>\n",
       "      <td>-0.398841</td>\n",
       "      <td>1.172374</td>\n",
       "    </tr>\n",
       "  </tbody>\n",
       "</table>\n",
       "</div>"
      ],
      "text/plain": [
       "         DD_MW|num  DD_AMW|num  DD_Sv|num  DD_Se|num  DD_Sp|num  DD_Si|num  \\\n",
       "Drug_1    0.123446    0.526234  -0.072180  -0.088861  -0.058460  -0.083100   \n",
       "Drug_10   0.053188    1.966100  -0.333843  -0.379081  -0.359584  -0.398841   \n",
       "\n",
       "         DD_Mv|num  \n",
       "Drug_1   -0.009539  \n",
       "Drug_10   1.172374  "
      ]
     },
     "metadata": {},
     "output_type": "display_data"
    }
   ],
   "source": [
    "display(res[:2])\n",
    "display(ccl.iloc[:2, :7])\n",
    "display(drg.iloc[:2, :7])"
   ]
  },
  {
   "cell_type": "code",
   "execution_count": 8,
   "metadata": {},
   "outputs": [
    {
     "data": {
      "text/html": [
       "<div>\n",
       "<style scoped>\n",
       "    .dataframe tbody tr th:only-of-type {\n",
       "        vertical-align: middle;\n",
       "    }\n",
       "\n",
       "    .dataframe tbody tr th {\n",
       "        vertical-align: top;\n",
       "    }\n",
       "\n",
       "    .dataframe thead th {\n",
       "        text-align: right;\n",
       "    }\n",
       "</style>\n",
       "<table border=\"1\" class=\"dataframe\">\n",
       "  <thead>\n",
       "    <tr style=\"text-align: right;\">\n",
       "      <th></th>\n",
       "      <th>src</th>\n",
       "      <th>cclname</th>\n",
       "      <th>ctrpDrugID</th>\n",
       "    </tr>\n",
       "  </thead>\n",
       "  <tbody>\n",
       "    <tr>\n",
       "      <th>0</th>\n",
       "      <td>CCLE</td>\n",
       "      <td>474</td>\n",
       "      <td>24</td>\n",
       "    </tr>\n",
       "    <tr>\n",
       "      <th>1</th>\n",
       "      <td>CTRP</td>\n",
       "      <td>812</td>\n",
       "      <td>494</td>\n",
       "    </tr>\n",
       "    <tr>\n",
       "      <th>2</th>\n",
       "      <td>GDSC</td>\n",
       "      <td>670</td>\n",
       "      <td>238</td>\n",
       "    </tr>\n",
       "    <tr>\n",
       "      <th>3</th>\n",
       "      <td>NCI60</td>\n",
       "      <td>59</td>\n",
       "      <td>987</td>\n",
       "    </tr>\n",
       "    <tr>\n",
       "      <th>4</th>\n",
       "      <td>PDM</td>\n",
       "      <td>473</td>\n",
       "      <td>18</td>\n",
       "    </tr>\n",
       "    <tr>\n",
       "      <th>5</th>\n",
       "      <td>gCSI</td>\n",
       "      <td>357</td>\n",
       "      <td>16</td>\n",
       "    </tr>\n",
       "  </tbody>\n",
       "</table>\n",
       "</div>"
      ],
      "text/plain": [
       "     src  cclname  ctrpDrugID\n",
       "0   CCLE      474          24\n",
       "1   CTRP      812         494\n",
       "2   GDSC      670         238\n",
       "3  NCI60       59         987\n",
       "4    PDM      473          18\n",
       "5   gCSI      357          16"
      ]
     },
     "execution_count": 8,
     "metadata": {},
     "output_type": "execute_result"
    }
   ],
   "source": [
    "res.groupby('src').agg({'cclname': 'nunique', 'ctrpDrugID': 'nunique'}).reset_index()"
   ]
  },
  {
   "cell_type": "markdown",
   "metadata": {},
   "source": [
    "# Get subset of features"
   ]
  },
  {
   "cell_type": "code",
   "execution_count": 9,
   "metadata": {},
   "outputs": [],
   "source": [
    "def cnt_fea(df, fea_sep='_', verbose=True):\n",
    "    \"\"\" Count the number of features per feature type. \"\"\"\n",
    "    dct = {}\n",
    "    unq_prfx = df.columns.map(lambda x: x.split(fea_sep)[0]).unique() # unique feature prefixes\n",
    "    for prfx in unq_prfx:\n",
    "        fea_type_cols = [c for c in df.columns if (c.split(fea_sep)[0]) in prfx] # all fea names of specific type\n",
    "        dct[prfx] = len(fea_type_cols)\n",
    "    if verbose: print(dct)\n",
    "    return dct\n",
    "\n",
    "def extract_subset_fea(df, fea_list, fea_sep='_'):\n",
    "    \"\"\" Extract features based feature prefix name. \"\"\"\n",
    "    fea = [c for c in df.columns if (c.split(fea_sep)[0]) in fea_list]\n",
    "    df = df[fea]\n",
    "    return df"
   ]
  },
  {
   "cell_type": "code",
   "execution_count": 10,
   "metadata": {},
   "outputs": [],
   "source": [
    "ccl_fea_list = ['geneGE']\n",
    "drg_fea_list = ['DD']"
   ]
  },
  {
   "cell_type": "code",
   "execution_count": 11,
   "metadata": {},
   "outputs": [
    {
     "name": "stdout",
     "output_type": "stream",
     "text": [
      "{'geneGE': 1927, 'c2cpMaxGE': 1328, 'c2cpMinGE': 1327}\n",
      "{'geneGE': 1927}\n"
     ]
    }
   ],
   "source": [
    "cnt_fea(ccl);\n",
    "ccl = extract_subset_fea(ccl, fea_list=ccl_fea_list)\n",
    "cnt_fea(ccl);"
   ]
  },
  {
   "cell_type": "code",
   "execution_count": 12,
   "metadata": {},
   "outputs": [
    {
     "name": "stdout",
     "output_type": "stream",
     "text": [
      "{'DD': 2344, 'ECFP': 1024, 'PFP': 1024}\n",
      "{'DD': 2344}\n"
     ]
    }
   ],
   "source": [
    "cnt_fea(drg);\n",
    "drg = extract_subset_fea(drg, fea_list=drg_fea_list)\n",
    "cnt_fea(drg);"
   ]
  },
  {
   "cell_type": "markdown",
   "metadata": {},
   "source": [
    "# Subset drugs df for only PDM drugs"
   ]
  },
  {
   "cell_type": "code",
   "execution_count": 13,
   "metadata": {},
   "outputs": [],
   "source": [
    "def get_drg_subset(res, drg_subset):\n",
    "    if drg_subset == 'all':\n",
    "        pass\n",
    "    else:\n",
    "        pdm_drg_names = res.loc[res['src']=='PDM', 'ctrpDrugID'].unique()\n",
    "        if drg_subset == 'pdm':\n",
    "            res = res[res['ctrpDrugID'].isin(pdm_drg_names)]\n",
    "        elif drg_subset == 'common':\n",
    "            drg_ccl_names = res.loc[res['src']!='PDM', 'ctrpDrugID'].unique()\n",
    "            common_drgs_names = set(drg_ccl_names).intersection(set(pdm_drg_names))\n",
    "            res = res[res['ctrpDrugID'].isin(common_drgs_names)]\n",
    "    return res"
   ]
  },
  {
   "cell_type": "code",
   "execution_count": 14,
   "metadata": {},
   "outputs": [
    {
     "name": "stdout",
     "output_type": "stream",
     "text": [
      "16\n"
     ]
    }
   ],
   "source": [
    "df = get_drg_subset(res, drg_subset='common')\n",
    "print(df['ctrpDrugID'].nunique())"
   ]
  },
  {
   "cell_type": "code",
   "execution_count": 15,
   "metadata": {},
   "outputs": [
    {
     "name": "stdout",
     "output_type": "stream",
     "text": [
      "(708662, 5)\n",
      "(3330, 5)\n",
      "Unique PDM drugs: 18\n"
     ]
    }
   ],
   "source": [
    "print(res.shape)\n",
    "res_pdm = res[res['src']=='PDM'].reset_index(drop=True)\n",
    "print(res_pdm.shape)\n",
    "\n",
    "print('Unique PDM drugs:', res_pdm['ctrpDrugID'].nunique())"
   ]
  },
  {
   "cell_type": "code",
   "execution_count": 16,
   "metadata": {},
   "outputs": [
    {
     "data": {
      "text/html": [
       "<div>\n",
       "<style scoped>\n",
       "    .dataframe tbody tr th:only-of-type {\n",
       "        vertical-align: middle;\n",
       "    }\n",
       "\n",
       "    .dataframe tbody tr th {\n",
       "        vertical-align: top;\n",
       "    }\n",
       "\n",
       "    .dataframe thead th {\n",
       "        text-align: right;\n",
       "    }\n",
       "</style>\n",
       "<table border=\"1\" class=\"dataframe\">\n",
       "  <thead>\n",
       "    <tr style=\"text-align: right;\">\n",
       "      <th></th>\n",
       "      <th>ctrpDrugID</th>\n",
       "      <th>src</th>\n",
       "      <th>cclname</th>\n",
       "      <th>groupID</th>\n",
       "    </tr>\n",
       "  </thead>\n",
       "  <tbody>\n",
       "    <tr>\n",
       "      <th>0</th>\n",
       "      <td>Drug_117</td>\n",
       "      <td>1</td>\n",
       "      <td>361</td>\n",
       "      <td>74</td>\n",
       "    </tr>\n",
       "    <tr>\n",
       "      <th>1</th>\n",
       "      <td>Drug_1244</td>\n",
       "      <td>1</td>\n",
       "      <td>30</td>\n",
       "      <td>5</td>\n",
       "    </tr>\n",
       "    <tr>\n",
       "      <th>2</th>\n",
       "      <td>Drug_1245</td>\n",
       "      <td>1</td>\n",
       "      <td>29</td>\n",
       "      <td>5</td>\n",
       "    </tr>\n",
       "    <tr>\n",
       "      <th>3</th>\n",
       "      <td>Drug_146</td>\n",
       "      <td>1</td>\n",
       "      <td>8</td>\n",
       "      <td>2</td>\n",
       "    </tr>\n",
       "    <tr>\n",
       "      <th>4</th>\n",
       "      <td>Drug_16</td>\n",
       "      <td>1</td>\n",
       "      <td>199</td>\n",
       "      <td>37</td>\n",
       "    </tr>\n",
       "    <tr>\n",
       "      <th>5</th>\n",
       "      <td>Drug_180</td>\n",
       "      <td>1</td>\n",
       "      <td>221</td>\n",
       "      <td>41</td>\n",
       "    </tr>\n",
       "    <tr>\n",
       "      <th>6</th>\n",
       "      <td>Drug_188</td>\n",
       "      <td>1</td>\n",
       "      <td>337</td>\n",
       "      <td>65</td>\n",
       "    </tr>\n",
       "    <tr>\n",
       "      <th>7</th>\n",
       "      <td>Drug_244</td>\n",
       "      <td>1</td>\n",
       "      <td>45</td>\n",
       "      <td>9</td>\n",
       "    </tr>\n",
       "    <tr>\n",
       "      <th>8</th>\n",
       "      <td>Drug_329</td>\n",
       "      <td>1</td>\n",
       "      <td>176</td>\n",
       "      <td>32</td>\n",
       "    </tr>\n",
       "    <tr>\n",
       "      <th>9</th>\n",
       "      <td>Drug_347</td>\n",
       "      <td>1</td>\n",
       "      <td>35</td>\n",
       "      <td>6</td>\n",
       "    </tr>\n",
       "    <tr>\n",
       "      <th>10</th>\n",
       "      <td>Drug_4</td>\n",
       "      <td>1</td>\n",
       "      <td>299</td>\n",
       "      <td>59</td>\n",
       "    </tr>\n",
       "    <tr>\n",
       "      <th>11</th>\n",
       "      <td>Drug_418</td>\n",
       "      <td>1</td>\n",
       "      <td>217</td>\n",
       "      <td>47</td>\n",
       "    </tr>\n",
       "    <tr>\n",
       "      <th>12</th>\n",
       "      <td>Drug_459</td>\n",
       "      <td>1</td>\n",
       "      <td>343</td>\n",
       "      <td>66</td>\n",
       "    </tr>\n",
       "    <tr>\n",
       "      <th>13</th>\n",
       "      <td>Drug_50118</td>\n",
       "      <td>1</td>\n",
       "      <td>8</td>\n",
       "      <td>2</td>\n",
       "    </tr>\n",
       "    <tr>\n",
       "      <th>14</th>\n",
       "      <td>Drug_57</td>\n",
       "      <td>1</td>\n",
       "      <td>211</td>\n",
       "      <td>39</td>\n",
       "    </tr>\n",
       "    <tr>\n",
       "      <th>15</th>\n",
       "      <td>Drug_7518</td>\n",
       "      <td>1</td>\n",
       "      <td>17</td>\n",
       "      <td>3</td>\n",
       "    </tr>\n",
       "    <tr>\n",
       "      <th>16</th>\n",
       "      <td>Drug_9</td>\n",
       "      <td>1</td>\n",
       "      <td>343</td>\n",
       "      <td>66</td>\n",
       "    </tr>\n",
       "    <tr>\n",
       "      <th>17</th>\n",
       "      <td>Drug_935</td>\n",
       "      <td>1</td>\n",
       "      <td>221</td>\n",
       "      <td>41</td>\n",
       "    </tr>\n",
       "  </tbody>\n",
       "</table>\n",
       "</div>"
      ],
      "text/plain": [
       "    ctrpDrugID  src  cclname  groupID\n",
       "0     Drug_117    1      361       74\n",
       "1    Drug_1244    1       30        5\n",
       "2    Drug_1245    1       29        5\n",
       "3     Drug_146    1        8        2\n",
       "4      Drug_16    1      199       37\n",
       "5     Drug_180    1      221       41\n",
       "6     Drug_188    1      337       65\n",
       "7     Drug_244    1       45        9\n",
       "8     Drug_329    1      176       32\n",
       "9     Drug_347    1       35        6\n",
       "10      Drug_4    1      299       59\n",
       "11    Drug_418    1      217       47\n",
       "12    Drug_459    1      343       66\n",
       "13  Drug_50118    1        8        2\n",
       "14     Drug_57    1      211       39\n",
       "15   Drug_7518    1       17        3\n",
       "16      Drug_9    1      343       66\n",
       "17    Drug_935    1      221       41"
      ]
     },
     "execution_count": 16,
     "metadata": {},
     "output_type": "execute_result"
    }
   ],
   "source": [
    "res_pdm.groupby(['ctrpDrugID']).agg({'src': 'nunique', 'cclname': 'nunique', 'groupID': 'nunique'}).reset_index()"
   ]
  },
  {
   "cell_type": "code",
   "execution_count": 17,
   "metadata": {},
   "outputs": [
    {
     "name": "stdout",
     "output_type": "stream",
     "text": [
      "Unique PDM samples: 599\n"
     ]
    },
    {
     "data": {
      "image/png": "[encoded data removed]",
      "text/plain": [
       "<Figure size 432x288 with 1 Axes>"
      ]
     },
     "metadata": {
      "needs_background": "light"
     },
     "output_type": "display_data"
    }
   ],
   "source": [
    "print('Unique PDM samples:', res_pdm.groupID.nunique());\n",
    "res_pdm.groupID.hist(bins=100);"
   ]
  },
  {
   "cell_type": "code",
   "execution_count": 18,
   "metadata": {},
   "outputs": [
    {
     "name": "stdout",
     "output_type": "stream",
     "text": [
      "(708662, 5)\n",
      "(705332, 5)\n",
      "Unique cc; drugs: 1400\n"
     ]
    }
   ],
   "source": [
    "print(res.shape)\n",
    "res_ccl = res[res['src']!='PDM'].reset_index(drop=True)\n",
    "print(res_ccl.shape)\n",
    "\n",
    "print('Unique cc; drugs:', res_ccl['ctrpDrugID'].nunique())"
   ]
  },
  {
   "cell_type": "code",
   "execution_count": 19,
   "metadata": {},
   "outputs": [
    {
     "data": {
      "text/plain": [
       "16"
      ]
     },
     "execution_count": 19,
     "metadata": {},
     "output_type": "execute_result"
    }
   ],
   "source": [
    "# Drug names used in both PDM and cell line studies\n",
    "common_drgs_names = set(res_ccl['ctrpDrugID']).intersection(set(res_pdm['ctrpDrugID']))\n",
    "len(common_drgs_names)"
   ]
  },
  {
   "cell_type": "code",
   "execution_count": 20,
   "metadata": {},
   "outputs": [
    {
     "name": "stdout",
     "output_type": "stream",
     "text": [
      "drg_pdm (18, 2344)\n"
     ]
    }
   ],
   "source": [
    "# Drugs used in PDM\n",
    "drg_pdm = drg[drg.index.isin(res_pdm['ctrpDrugID'].unique())]\n",
    "print('drg_pdm', drg_pdm.shape)"
   ]
  },
  {
   "cell_type": "code",
   "execution_count": 21,
   "metadata": {},
   "outputs": [
    {
     "name": "stdout",
     "output_type": "stream",
     "text": [
      "drg_common (16, 2344)\n"
     ]
    }
   ],
   "source": [
    "# Drug used in both PDM and cell line studies\n",
    "drg_common = drg[drg.index.isin(set(common_drgs_names))]\n",
    "print('drg_common', drg_common.shape)"
   ]
  },
  {
   "cell_type": "code",
   "execution_count": null,
   "metadata": {},
   "outputs": [],
   "source": []
  },
  {
   "cell_type": "code",
   "execution_count": 24,
   "metadata": {},
   "outputs": [],
   "source": [
    "in_dim_drg_embd = len(drg_pdm)\n",
    "# in_dim_drg_embd = len(drg_common)\n",
    "# in_dim_drg_embd = len(drg)\n",
    "\n",
    "out_dim_drg_embd = (in_dim_drg_embd+1)//2"
   ]
  },
  {
   "cell_type": "code",
   "execution_count": 31,
   "metadata": {},
   "outputs": [],
   "source": [
    "drg_pdm_enc = drg_pdm.copy()\n",
    "enc = LabelEncoder()\n",
    "drg_encoding = enc.fit_transform(drg_pdm_enc.index)\n",
    "drg_pdm_enc.insert(loc=0, column='enc', value=drg_encoding, allow_duplicates=False)\n",
    "tmp = drg_pdm_enc[['enc']]"
   ]
  },
  {
   "cell_type": "code",
   "execution_count": 34,
   "metadata": {},
   "outputs": [],
   "source": []
  },
  {
   "cell_type": "code",
   "execution_count": 40,
   "metadata": {},
   "outputs": [],
   "source": [
    "import keras\n",
    "from keras.models import Sequential, Model\n",
    "from keras.layers import Embedding, Input"
   ]
  },
  {
   "cell_type": "code",
   "execution_count": 45,
   "metadata": {},
   "outputs": [],
   "source": [
    "in_drg_embd = Input(shape=(1,), name='in_drg_embd')"
   ]
  },
  {
   "cell_type": "code",
   "execution_count": 46,
   "metadata": {},
   "outputs": [],
   "source": [
    "out_drg_embd = Embedding(input_dim = in_dim_drg_embd,\n",
    "                output_dim = out_dim_drg_embd,\n",
    "                input_length=1, name='out_drg_embd')(in_drg_embd)"
   ]
  },
  {
   "cell_type": "code",
   "execution_count": 47,
   "metadata": {},
   "outputs": [],
   "source": [
    "drg = Model(inputs=in_drg_embd, outputs=out_drg_embd)"
   ]
  },
  {
   "cell_type": "code",
   "execution_count": 48,
   "metadata": {},
   "outputs": [
    {
     "name": "stdout",
     "output_type": "stream",
     "text": [
      "_________________________________________________________________\n",
      "Layer (type)                 Output Shape              Param #   \n",
      "=================================================================\n",
      "in_drg_embd (InputLayer)     (None, 1)                 0         \n",
      "_________________________________________________________________\n",
      "out_drg_embd (Embedding)     (None, 1, 9)              162       \n",
      "=================================================================\n",
      "Total params: 162\n",
      "Trainable params: 162\n",
      "Non-trainable params: 0\n",
      "_________________________________________________________________\n"
     ]
    }
   ],
   "source": [
    "drg.summary()"
   ]
  },
  {
   "cell_type": "code",
   "execution_count": null,
   "metadata": {},
   "outputs": [],
   "source": []
  },
  {
   "cell_type": "code",
   "execution_count": null,
   "metadata": {},
   "outputs": [],
   "source": []
  },
  {
   "cell_type": "code",
   "execution_count": 27,
   "metadata": {},
   "outputs": [],
   "source": [
    "model = Sequential()\n",
    "model.add(Embedding(input_dim=input_dim, output_dim=output_dim, input_length=1))\n",
    "model.add(Flatten())"
   ]
  },
  {
   "cell_type": "code",
   "execution_count": 30,
   "metadata": {},
   "outputs": [],
   "source": [
    "input_array = np.random.randint(len(drg_pdm_enc['enc']), size=(32, 1))\n",
    "print(input_array)"
   ]
  },
  {
   "cell_type": "code",
   "execution_count": 32,
   "metadata": {},
   "outputs": [],
   "source": [
    "model.compile('rmsprop', 'mse')\n",
    "enc_embd = model.predict(input_array)\n",
    "assert enc_embd.shape == (32, input_length, output_dim)"
   ]
  },
  {
   "cell_type": "code",
   "execution_count": null,
   "metadata": {},
   "outputs": [],
   "source": []
  },
  {
   "cell_type": "code",
   "execution_count": null,
   "metadata": {},
   "outputs": [],
   "source": []
  },
  {
   "cell_type": "markdown",
   "metadata": {},
   "source": [
    "# Extract only numerical featues (drop categorical) in drugs df"
   ]
  },
  {
   "cell_type": "code",
   "execution_count": 16,
   "metadata": {},
   "outputs": [
    {
     "name": "stdout",
     "output_type": "stream",
     "text": [
      "Index(['num', 'int'], dtype='object')\n",
      "(18, 2344)\n",
      "(18, 2301)\n"
     ]
    }
   ],
   "source": [
    "print(drg.columns.map(lambda x: x.split('|')[-1]).unique())\n",
    "\n",
    "idx = drg.columns.map(lambda x: True if x.split('|')[-1]=='num' else False)\n",
    "\n",
    "print(drg.shape)\n",
    "drg = drg[drg.columns[idx]]\n",
    "print(drg.shape)"
   ]
  },
  {
   "cell_type": "markdown",
   "metadata": {},
   "source": [
    "# Merge the entire df"
   ]
  },
  {
   "cell_type": "code",
   "execution_count": 17,
   "metadata": {},
   "outputs": [],
   "source": [
    "ccl = ccl.reset_index().rename(columns={'index': 'cclname'})\n",
    "drg = drg.reset_index().rename(columns={'index': 'ctrpDrugID'})"
   ]
  },
  {
   "cell_type": "code",
   "execution_count": 18,
   "metadata": {},
   "outputs": [
    {
     "name": "stdout",
     "output_type": "stream",
     "text": [
      "\n",
      "Merge ...\n",
      "mrg_df.shape: (24528, 4233)\n"
     ]
    }
   ],
   "source": [
    "def merge_dfs(res_df, ccl_df, drg_df):\n",
    "    \"\"\" Merge the following dfs: response, ccl fea, drug fea \"\"\"\n",
    "    mrg_df = pd.merge(res_df, ccl_df, on='cclname', how='inner')\n",
    "    mrg_df = pd.merge(mrg_df, drg_df, on='ctrpDrugID', how='inner')\n",
    "    return mrg_df\n",
    "\n",
    "print('\\nMerge ...')\n",
    "mrg_df = merge_dfs(res, ccl, drg)\n",
    "print('mrg_df.shape: {}'.format(mrg_df.shape))"
   ]
  },
  {
   "cell_type": "code",
   "execution_count": 21,
   "metadata": {},
   "outputs": [
    {
     "data": {
      "text/html": [
       "<div>\n",
       "<style scoped>\n",
       "    .dataframe tbody tr th:only-of-type {\n",
       "        vertical-align: middle;\n",
       "    }\n",
       "\n",
       "    .dataframe tbody tr th {\n",
       "        vertical-align: top;\n",
       "    }\n",
       "\n",
       "    .dataframe thead th {\n",
       "        text-align: right;\n",
       "    }\n",
       "</style>\n",
       "<table border=\"1\" class=\"dataframe\">\n",
       "  <thead>\n",
       "    <tr style=\"text-align: right;\">\n",
       "      <th></th>\n",
       "      <th>src</th>\n",
       "      <th>cclname</th>\n",
       "      <th>ctrpDrugID</th>\n",
       "      <th>auc</th>\n",
       "      <th>groupID</th>\n",
       "      <th>geneGE_AARS</th>\n",
       "      <th>geneGE_ABCB6</th>\n",
       "      <th>geneGE_ABCC5</th>\n",
       "      <th>geneGE_ABCF1</th>\n",
       "      <th>geneGE_ABCF3</th>\n",
       "      <th>...</th>\n",
       "      <th>DD_Psychotic-80|num</th>\n",
       "      <th>DD_Psychotic-50|num</th>\n",
       "      <th>DD_Hypertens-80|num</th>\n",
       "      <th>DD_Hypertens-50|num</th>\n",
       "      <th>DD_Hypnotic-80|num</th>\n",
       "      <th>DD_Hypnotic-50|num</th>\n",
       "      <th>DD_Neoplastic-80|num</th>\n",
       "      <th>DD_Neoplastic-50|num</th>\n",
       "      <th>DD_Infective-80|num</th>\n",
       "      <th>DD_Infective-50|num</th>\n",
       "    </tr>\n",
       "  </thead>\n",
       "  <tbody>\n",
       "    <tr>\n",
       "      <th>0</th>\n",
       "      <td>CCLE</td>\n",
       "      <td>CCL_61</td>\n",
       "      <td>Drug_4</td>\n",
       "      <td>0.5071</td>\n",
       "      <td>0.0607</td>\n",
       "      <td>0.796453</td>\n",
       "      <td>1.185398</td>\n",
       "      <td>-0.279271</td>\n",
       "      <td>-1.612266</td>\n",
       "      <td>0.331601</td>\n",
       "      <td>...</td>\n",
       "      <td>-0.568319</td>\n",
       "      <td>-0.191697</td>\n",
       "      <td>-0.947474</td>\n",
       "      <td>-0.431286</td>\n",
       "      <td>-0.464975</td>\n",
       "      <td>-0.138457</td>\n",
       "      <td>-1.035826</td>\n",
       "      <td>-0.460377</td>\n",
       "      <td>-1.029885</td>\n",
       "      <td>-0.399006</td>\n",
       "    </tr>\n",
       "    <tr>\n",
       "      <th>1</th>\n",
       "      <td>CCLE</td>\n",
       "      <td>CCL_66</td>\n",
       "      <td>Drug_4</td>\n",
       "      <td>0.4997</td>\n",
       "      <td>0.0526</td>\n",
       "      <td>-2.655765</td>\n",
       "      <td>-0.594541</td>\n",
       "      <td>-1.202125</td>\n",
       "      <td>-0.158002</td>\n",
       "      <td>-0.651284</td>\n",
       "      <td>...</td>\n",
       "      <td>-0.568319</td>\n",
       "      <td>-0.191697</td>\n",
       "      <td>-0.947474</td>\n",
       "      <td>-0.431286</td>\n",
       "      <td>-0.464975</td>\n",
       "      <td>-0.138457</td>\n",
       "      <td>-1.035826</td>\n",
       "      <td>-0.460377</td>\n",
       "      <td>-1.029885</td>\n",
       "      <td>-0.399006</td>\n",
       "    </tr>\n",
       "  </tbody>\n",
       "</table>\n",
       "<p>2 rows × 4233 columns</p>\n",
       "</div>"
      ],
      "text/plain": [
       "    src cclname ctrpDrugID     auc  groupID  geneGE_AARS  geneGE_ABCB6  \\\n",
       "0  CCLE  CCL_61     Drug_4  0.5071   0.0607     0.796453      1.185398   \n",
       "1  CCLE  CCL_66     Drug_4  0.4997   0.0526    -2.655765     -0.594541   \n",
       "\n",
       "   geneGE_ABCC5  geneGE_ABCF1  geneGE_ABCF3  ...  DD_Psychotic-80|num  \\\n",
       "0     -0.279271     -1.612266      0.331601  ...            -0.568319   \n",
       "1     -1.202125     -0.158002     -0.651284  ...            -0.568319   \n",
       "\n",
       "   DD_Psychotic-50|num  DD_Hypertens-80|num  DD_Hypertens-50|num  \\\n",
       "0            -0.191697            -0.947474            -0.431286   \n",
       "1            -0.191697            -0.947474            -0.431286   \n",
       "\n",
       "   DD_Hypnotic-80|num  DD_Hypnotic-50|num  DD_Neoplastic-80|num  \\\n",
       "0           -0.464975           -0.138457             -1.035826   \n",
       "1           -0.464975           -0.138457             -1.035826   \n",
       "\n",
       "   DD_Neoplastic-50|num  DD_Infective-80|num  DD_Infective-50|num  \n",
       "0             -0.460377            -1.029885            -0.399006  \n",
       "1             -0.460377            -1.029885            -0.399006  \n",
       "\n",
       "[2 rows x 4233 columns]"
      ]
     },
     "execution_count": 21,
     "metadata": {},
     "output_type": "execute_result"
    }
   ],
   "source": [
    "mrg_df[:2]"
   ]
  },
  {
   "cell_type": "code",
   "execution_count": 20,
   "metadata": {},
   "outputs": [
    {
     "data": {
      "text/plain": [
       "CTRP     8952\n",
       "NCI60    5573\n",
       "GDSC     4014\n",
       "PDM      3330\n",
       "gCSI     1413\n",
       "CCLE     1246\n",
       "Name: src, dtype: int64"
      ]
     },
     "execution_count": 20,
     "metadata": {},
     "output_type": "execute_result"
    }
   ],
   "source": [
    "mrg_df['src'].value_counts()"
   ]
  },
  {
   "cell_type": "code",
   "execution_count": null,
   "metadata": {},
   "outputs": [],
   "source": []
  },
  {
   "cell_type": "markdown",
   "metadata": {},
   "source": [
    "# PCA"
   ]
  },
  {
   "cell_type": "code",
   "execution_count": 12,
   "metadata": {},
   "outputs": [],
   "source": [
    "def plt_explained_variance_pca(pca):\n",
    "    # Plot explained variance PCA\n",
    "    plt.figure(figsize=(8, 6))\n",
    "    plt.plot(pca.explained_variance_ratio_, '--o')\n",
    "    plt.xlabel('Principal component', fontsize=14)\n",
    "    plt.ylabel('Variance explained (ratio)', fontsize=14)\n",
    "    plt.grid(True)\n",
    "    \n",
    "def pca_exp_var(pca, k):\n",
    "    print(np.sum(pca.explained_variance_ratio_[:k]))\n",
    "    \n",
    "def dump_pca_data(datadir, pca_x, k, fea_name):\n",
    "    df = pd.DataFrame(pca_x.iloc[:, :k])\n",
    "    df.to_csv(datadir/f'{fea_name}_pca{k}.csv', index=False)    "
   ]
  },
  {
   "cell_type": "markdown",
   "metadata": {},
   "source": [
    "### GE (gene expression)"
   ]
  },
  {
   "cell_type": "code",
   "execution_count": 13,
   "metadata": {},
   "outputs": [],
   "source": [
    "index = ge.index\n",
    "fea_name = 'ge'"
   ]
  },
  {
   "cell_type": "code",
   "execution_count": 14,
   "metadata": {},
   "outputs": [],
   "source": [
    "n = 1400\n",
    "ge_pca = PCA(n_components=n, random_state=SEED, svd_solver='auto')\n",
    "ge_pca_x = ge_pca.fit_transform(ge)\n",
    "ge_pca_x = pd.DataFrame(ge_pca_x, index=index, columns=[f'{fea_name}_PC'+str(i+1) for i in range(n)])"
   ]
  },
  {
   "cell_type": "code",
   "execution_count": 15,
   "metadata": {},
   "outputs": [
    {
     "name": "stdout",
     "output_type": "stream",
     "text": [
      "0.9999387036197616\n"
     ]
    }
   ],
   "source": [
    "pca_exp_var(ge_pca, k=1400)"
   ]
  },
  {
   "cell_type": "code",
   "execution_count": 16,
   "metadata": {},
   "outputs": [
    {
     "name": "stdout",
     "output_type": "stream",
     "text": [
      "0.7543514715445558\n"
     ]
    }
   ],
   "source": [
    "k=120\n",
    "pca_exp_var(ge_pca, k)\n",
    "dump_pca_data(datadir, ge_pca_x, k, fea_name=fea_name);"
   ]
  },
  {
   "cell_type": "code",
   "execution_count": 17,
   "metadata": {},
   "outputs": [
    {
     "name": "stdout",
     "output_type": "stream",
     "text": [
      "0.9505486040316659\n"
     ]
    }
   ],
   "source": [
    "k=550\n",
    "pca_exp_var(ge_pca, k)\n",
    "dump_pca_data(datadir, ge_pca_x, k, fea_name=fea_name);"
   ]
  },
  {
   "cell_type": "code",
   "execution_count": 18,
   "metadata": {},
   "outputs": [
    {
     "name": "stdout",
     "output_type": "stream",
     "text": [
      "0.9909181163806056\n"
     ]
    }
   ],
   "source": [
    "k=940\n",
    "pca_exp_var(ge_pca, k=940)\n",
    "dump_pca_data(datadir, ge_pca_x, k, fea_name=fea_name);"
   ]
  },
  {
   "cell_type": "markdown",
   "metadata": {},
   "source": [
    "### DD (drug descriptors)"
   ]
  },
  {
   "cell_type": "code",
   "execution_count": 19,
   "metadata": {},
   "outputs": [],
   "source": [
    "index = dd.index\n",
    "fea_name = 'dd'"
   ]
  },
  {
   "cell_type": "code",
   "execution_count": 20,
   "metadata": {},
   "outputs": [],
   "source": [
    "n = 1400\n",
    "dd_pca = PCA(n_components=n, random_state=SEED, svd_solver='auto')\n",
    "dd_pca_x = dd_pca.fit_transform(dd)\n",
    "dd_pca_x = pd.DataFrame(dd_pca_x, index=index, columns=[f'{fea_name}_PC'+str(i+1) for i in range(n)])"
   ]
  },
  {
   "cell_type": "code",
   "execution_count": 21,
   "metadata": {},
   "outputs": [
    {
     "name": "stdout",
     "output_type": "stream",
     "text": [
      "1.0\n"
     ]
    }
   ],
   "source": [
    "pca_exp_var(dd_pca, k=1400)"
   ]
  },
  {
   "cell_type": "code",
   "execution_count": 22,
   "metadata": {},
   "outputs": [
    {
     "name": "stdout",
     "output_type": "stream",
     "text": [
      "0.8572525902667022\n"
     ]
    }
   ],
   "source": [
    "k=120\n",
    "pca_exp_var(dd_pca, k)\n",
    "dump_pca_data(datadir, dd_pca_x, k, fea_name=fea_name);"
   ]
  },
  {
   "cell_type": "code",
   "execution_count": 23,
   "metadata": {},
   "outputs": [
    {
     "name": "stdout",
     "output_type": "stream",
     "text": [
      "0.9912240461620668\n"
     ]
    }
   ],
   "source": [
    "k=500\n",
    "pca_exp_var(dd_pca, k)\n",
    "dump_pca_data(datadir, dd_pca_x, k, fea_name=fea_name);"
   ]
  },
  {
   "cell_type": "code",
   "execution_count": null,
   "metadata": {},
   "outputs": [],
   "source": []
  }
 ],
 "metadata": {
  "kernelspec": {
   "display_name": "Python 3",
   "language": "python",
   "name": "python3"
  },
  "language_info": {
   "codemirror_mode": {
    "name": "ipython",
    "version": 3
   },
   "file_extension": ".py",
   "mimetype": "text/x-python",
   "name": "python",
   "nbconvert_exporter": "python",
   "pygments_lexer": "ipython3",
   "version": "3.6.8"
  }
 },
 "nbformat": 4,
 "nbformat_minor": 2
}
